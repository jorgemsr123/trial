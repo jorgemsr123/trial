{
 "cells": [
  {
   "cell_type": "code",
   "execution_count": 1,
   "metadata": {},
   "outputs": [
    {
     "name": "stdout",
     "output_type": "stream",
     "text": [
      "4.5.4\n"
     ]
    }
   ],
   "source": [
    "import pandas as pd \n",
    "import numpy as np\n",
    "import matplotlib.pyplot as plt\n",
    "import seaborn as sns\n",
    "%matplotlib inline\n",
    "from plotly import __version__\n",
    "from plotly.offline import download_plotlyjs, init_notebook_mode, plot, iplot\n",
    "\n",
    "print(__version__) # requires version >= 1.9.0"
   ]
  },
  {
   "cell_type": "code",
   "execution_count": 2,
   "metadata": {},
   "outputs": [
    {
     "data": {
      "text/html": [
       "        <script type=\"text/javascript\">\n",
       "        window.PlotlyConfig = {MathJaxConfig: 'local'};\n",
       "        if (window.MathJax) {MathJax.Hub.Config({SVG: {font: \"STIX-Web\"}});}\n",
       "        if (typeof require !== 'undefined') {\n",
       "        require.undef(\"plotly\");\n",
       "        requirejs.config({\n",
       "            paths: {\n",
       "                'plotly': ['https://cdn.plot.ly/plotly-latest.min']\n",
       "            }\n",
       "        });\n",
       "        require(['plotly'], function(Plotly) {\n",
       "            window._Plotly = Plotly;\n",
       "        });\n",
       "        }\n",
       "        </script>\n",
       "        "
      ]
     },
     "metadata": {},
     "output_type": "display_data"
    },
    {
     "data": {
      "text/html": [
       "        <script type=\"text/javascript\">\n",
       "        window.PlotlyConfig = {MathJaxConfig: 'local'};\n",
       "        if (window.MathJax) {MathJax.Hub.Config({SVG: {font: \"STIX-Web\"}});}\n",
       "        if (typeof require !== 'undefined') {\n",
       "        require.undef(\"plotly\");\n",
       "        requirejs.config({\n",
       "            paths: {\n",
       "                'plotly': ['https://cdn.plot.ly/plotly-latest.min']\n",
       "            }\n",
       "        });\n",
       "        require(['plotly'], function(Plotly) {\n",
       "            window._Plotly = Plotly;\n",
       "        });\n",
       "        }\n",
       "        </script>\n",
       "        "
      ]
     },
     "metadata": {},
     "output_type": "display_data"
    }
   ],
   "source": [
    "import cufflinks as cf\n",
    "init_notebook_mode(connected=True)\n",
    "# For offline use\n",
    "cf.go_offline()\n",
    "from pandas_datareader import data, wb\n",
    "import datetime"
   ]
  },
  {
   "cell_type": "code",
   "execution_count": 3,
   "metadata": {},
   "outputs": [],
   "source": [
    "df=pd.read_excel('//home/jorgemsr123/Desktop/Pavita/Bianca_Registrar_Assignment_Database22-05.xlsx' , header=1,sheet_name='Student Scores')"
   ]
  },
  {
   "cell_type": "code",
   "execution_count": 4,
   "metadata": {},
   "outputs": [],
   "source": [
    "pd.set_option('display.max_columns', None)"
   ]
  },
  {
   "cell_type": "code",
   "execution_count": 109,
   "metadata": {},
   "outputs": [
    {
     "data": {
      "text/html": [
       "<div>\n",
       "<style scoped>\n",
       "    .dataframe tbody tr th:only-of-type {\n",
       "        vertical-align: middle;\n",
       "    }\n",
       "\n",
       "    .dataframe tbody tr th {\n",
       "        vertical-align: top;\n",
       "    }\n",
       "\n",
       "    .dataframe thead th {\n",
       "        text-align: right;\n",
       "    }\n",
       "</style>\n",
       "<table border=\"1\" class=\"dataframe\">\n",
       "  <thead>\n",
       "    <tr style=\"text-align: right;\">\n",
       "      <th></th>\n",
       "      <th>StudentID</th>\n",
       "      <th>CI 1</th>\n",
       "      <th>Unnamed: 2</th>\n",
       "      <th>CI 2</th>\n",
       "      <th>Unnamed: 4</th>\n",
       "      <th>CI 3</th>\n",
       "      <th>Unnamed: 6</th>\n",
       "      <th>CI 4</th>\n",
       "      <th>Unnamed: 8</th>\n",
       "      <th>DD 1</th>\n",
       "      <th>Unnamed: 10</th>\n",
       "      <th>DD 2</th>\n",
       "      <th>Unnamed: 12</th>\n",
       "      <th>DD 3</th>\n",
       "      <th>Unnamed: 14</th>\n",
       "      <th>DD 4A</th>\n",
       "      <th>Unnamed: 16</th>\n",
       "      <th>DD 4B</th>\n",
       "      <th>Unnamed: 18</th>\n",
       "      <th>EL 1</th>\n",
       "      <th>Unnamed: 20</th>\n",
       "      <th>EL 2</th>\n",
       "      <th>Unnamed: 22</th>\n",
       "      <th>EL 3</th>\n",
       "      <th>Unnamed: 24</th>\n",
       "      <th>EL 4</th>\n",
       "      <th>Unnamed: 26</th>\n",
       "      <th>PR 1</th>\n",
       "      <th>Unnamed: 28</th>\n",
       "      <th>PR 2</th>\n",
       "      <th>Unnamed: 30</th>\n",
       "      <th>PR3</th>\n",
       "      <th>Unnamed: 32</th>\n",
       "      <th>PR4</th>\n",
       "      <th>Unnamed: 34</th>\n",
       "      <th>CI average</th>\n",
       "      <th>RCI</th>\n",
       "      <th>DD average</th>\n",
       "      <th>RDD</th>\n",
       "      <th>EL Average</th>\n",
       "      <th>REL</th>\n",
       "      <th>PR Average</th>\n",
       "      <th>RPR</th>\n",
       "      <th>Overall LC average</th>\n",
       "      <th>Failing</th>\n",
       "    </tr>\n",
       "  </thead>\n",
       "  <tbody>\n",
       "    <tr>\n",
       "      <td>0</td>\n",
       "      <td>Student001</td>\n",
       "      <td>3.4</td>\n",
       "      <td>0.15</td>\n",
       "      <td>2.7</td>\n",
       "      <td>0.25</td>\n",
       "      <td>3.6</td>\n",
       "      <td>0.25</td>\n",
       "      <td>4.0</td>\n",
       "      <td>0.35</td>\n",
       "      <td>3.0</td>\n",
       "      <td>0.1</td>\n",
       "      <td>4.2</td>\n",
       "      <td>0.3</td>\n",
       "      <td>3.55</td>\n",
       "      <td>0.4</td>\n",
       "      <td>3.7</td>\n",
       "      <td>0.1</td>\n",
       "      <td>4.05</td>\n",
       "      <td>0.1</td>\n",
       "      <td>3.40</td>\n",
       "      <td>0.25</td>\n",
       "      <td>2.70</td>\n",
       "      <td>0.25</td>\n",
       "      <td>4.85</td>\n",
       "      <td>0.25</td>\n",
       "      <td>3.85</td>\n",
       "      <td>0.25</td>\n",
       "      <td>3.00</td>\n",
       "      <td>0.2</td>\n",
       "      <td>4.40</td>\n",
       "      <td>0.25</td>\n",
       "      <td>3.55</td>\n",
       "      <td>0.35</td>\n",
       "      <td>4.30</td>\n",
       "      <td>0.2</td>\n",
       "      <td>3.4850</td>\n",
       "      <td>Pass</td>\n",
       "      <td>3.7550</td>\n",
       "      <td>Pass</td>\n",
       "      <td>3.7000</td>\n",
       "      <td>Pass</td>\n",
       "      <td>3.8025</td>\n",
       "      <td>Pass</td>\n",
       "      <td>3.685625</td>\n",
       "      <td>Pass</td>\n",
       "    </tr>\n",
       "    <tr>\n",
       "      <td>1</td>\n",
       "      <td>Student002</td>\n",
       "      <td>0.0</td>\n",
       "      <td>0.15</td>\n",
       "      <td>0.0</td>\n",
       "      <td>0.25</td>\n",
       "      <td>0.0</td>\n",
       "      <td>0.25</td>\n",
       "      <td>0.0</td>\n",
       "      <td>0.35</td>\n",
       "      <td>3.0</td>\n",
       "      <td>0.1</td>\n",
       "      <td>0.0</td>\n",
       "      <td>0.3</td>\n",
       "      <td>3.57</td>\n",
       "      <td>0.4</td>\n",
       "      <td>1.9</td>\n",
       "      <td>0.1</td>\n",
       "      <td>3.95</td>\n",
       "      <td>0.1</td>\n",
       "      <td>3.20</td>\n",
       "      <td>0.25</td>\n",
       "      <td>4.45</td>\n",
       "      <td>0.25</td>\n",
       "      <td>4.85</td>\n",
       "      <td>0.25</td>\n",
       "      <td>3.85</td>\n",
       "      <td>0.25</td>\n",
       "      <td>2.70</td>\n",
       "      <td>0.2</td>\n",
       "      <td>3.90</td>\n",
       "      <td>0.25</td>\n",
       "      <td>4.30</td>\n",
       "      <td>0.35</td>\n",
       "      <td>4.15</td>\n",
       "      <td>0.2</td>\n",
       "      <td>0.0000</td>\n",
       "      <td>Fail</td>\n",
       "      <td>2.3130</td>\n",
       "      <td>Fail</td>\n",
       "      <td>4.0875</td>\n",
       "      <td>Pass</td>\n",
       "      <td>3.8500</td>\n",
       "      <td>Pass</td>\n",
       "      <td>2.562625</td>\n",
       "      <td>Fail</td>\n",
       "    </tr>\n",
       "    <tr>\n",
       "      <td>2</td>\n",
       "      <td>Student003</td>\n",
       "      <td>4.1</td>\n",
       "      <td>0.15</td>\n",
       "      <td>3.2</td>\n",
       "      <td>0.25</td>\n",
       "      <td>4.2</td>\n",
       "      <td>0.25</td>\n",
       "      <td>4.0</td>\n",
       "      <td>0.35</td>\n",
       "      <td>2.3</td>\n",
       "      <td>0.1</td>\n",
       "      <td>3.5</td>\n",
       "      <td>0.3</td>\n",
       "      <td>3.25</td>\n",
       "      <td>0.4</td>\n",
       "      <td>4.3</td>\n",
       "      <td>0.1</td>\n",
       "      <td>3.20</td>\n",
       "      <td>0.1</td>\n",
       "      <td>2.60</td>\n",
       "      <td>0.25</td>\n",
       "      <td>4.50</td>\n",
       "      <td>0.25</td>\n",
       "      <td>3.80</td>\n",
       "      <td>0.25</td>\n",
       "      <td>4.05</td>\n",
       "      <td>0.25</td>\n",
       "      <td>3.50</td>\n",
       "      <td>0.2</td>\n",
       "      <td>3.50</td>\n",
       "      <td>0.25</td>\n",
       "      <td>3.20</td>\n",
       "      <td>0.35</td>\n",
       "      <td>3.75</td>\n",
       "      <td>0.2</td>\n",
       "      <td>3.8650</td>\n",
       "      <td>Pass</td>\n",
       "      <td>3.3300</td>\n",
       "      <td>Pass</td>\n",
       "      <td>3.7375</td>\n",
       "      <td>Pass</td>\n",
       "      <td>3.4450</td>\n",
       "      <td>Pass</td>\n",
       "      <td>3.594375</td>\n",
       "      <td>Pass</td>\n",
       "    </tr>\n",
       "    <tr>\n",
       "      <td>3</td>\n",
       "      <td>Student004</td>\n",
       "      <td>3.9</td>\n",
       "      <td>0.15</td>\n",
       "      <td>3.1</td>\n",
       "      <td>0.25</td>\n",
       "      <td>3.2</td>\n",
       "      <td>0.25</td>\n",
       "      <td>3.7</td>\n",
       "      <td>0.35</td>\n",
       "      <td>3.3</td>\n",
       "      <td>0.1</td>\n",
       "      <td>3.1</td>\n",
       "      <td>0.3</td>\n",
       "      <td>3.70</td>\n",
       "      <td>0.4</td>\n",
       "      <td>4.3</td>\n",
       "      <td>0.1</td>\n",
       "      <td>4.05</td>\n",
       "      <td>0.1</td>\n",
       "      <td>4.00</td>\n",
       "      <td>0.25</td>\n",
       "      <td>3.44</td>\n",
       "      <td>0.25</td>\n",
       "      <td>3.55</td>\n",
       "      <td>0.25</td>\n",
       "      <td>3.30</td>\n",
       "      <td>0.25</td>\n",
       "      <td>2.90</td>\n",
       "      <td>0.2</td>\n",
       "      <td>3.10</td>\n",
       "      <td>0.25</td>\n",
       "      <td>3.20</td>\n",
       "      <td>0.35</td>\n",
       "      <td>3.66</td>\n",
       "      <td>0.2</td>\n",
       "      <td>3.4550</td>\n",
       "      <td>Pass</td>\n",
       "      <td>3.5750</td>\n",
       "      <td>Pass</td>\n",
       "      <td>3.5725</td>\n",
       "      <td>Pass</td>\n",
       "      <td>3.2070</td>\n",
       "      <td>Pass</td>\n",
       "      <td>3.452375</td>\n",
       "      <td>Pass</td>\n",
       "    </tr>\n",
       "    <tr>\n",
       "      <td>4</td>\n",
       "      <td>Student005</td>\n",
       "      <td>3.5</td>\n",
       "      <td>0.15</td>\n",
       "      <td>3.1</td>\n",
       "      <td>0.25</td>\n",
       "      <td>4.3</td>\n",
       "      <td>0.25</td>\n",
       "      <td>3.4</td>\n",
       "      <td>0.35</td>\n",
       "      <td>3.5</td>\n",
       "      <td>0.1</td>\n",
       "      <td>4.0</td>\n",
       "      <td>0.3</td>\n",
       "      <td>2.70</td>\n",
       "      <td>0.4</td>\n",
       "      <td>2.5</td>\n",
       "      <td>0.1</td>\n",
       "      <td>4.05</td>\n",
       "      <td>0.1</td>\n",
       "      <td>3.60</td>\n",
       "      <td>0.25</td>\n",
       "      <td>4.35</td>\n",
       "      <td>0.25</td>\n",
       "      <td>3.70</td>\n",
       "      <td>0.25</td>\n",
       "      <td>3.05</td>\n",
       "      <td>0.25</td>\n",
       "      <td>2.98</td>\n",
       "      <td>0.2</td>\n",
       "      <td>2.90</td>\n",
       "      <td>0.25</td>\n",
       "      <td>2.85</td>\n",
       "      <td>0.35</td>\n",
       "      <td>2.90</td>\n",
       "      <td>0.2</td>\n",
       "      <td>3.5650</td>\n",
       "      <td>Pass</td>\n",
       "      <td>3.2850</td>\n",
       "      <td>Pass</td>\n",
       "      <td>3.6750</td>\n",
       "      <td>Pass</td>\n",
       "      <td>2.8985</td>\n",
       "      <td>Pass</td>\n",
       "      <td>3.355875</td>\n",
       "      <td>Pass</td>\n",
       "    </tr>\n",
       "    <tr>\n",
       "      <td>...</td>\n",
       "      <td>...</td>\n",
       "      <td>...</td>\n",
       "      <td>...</td>\n",
       "      <td>...</td>\n",
       "      <td>...</td>\n",
       "      <td>...</td>\n",
       "      <td>...</td>\n",
       "      <td>...</td>\n",
       "      <td>...</td>\n",
       "      <td>...</td>\n",
       "      <td>...</td>\n",
       "      <td>...</td>\n",
       "      <td>...</td>\n",
       "      <td>...</td>\n",
       "      <td>...</td>\n",
       "      <td>...</td>\n",
       "      <td>...</td>\n",
       "      <td>...</td>\n",
       "      <td>...</td>\n",
       "      <td>...</td>\n",
       "      <td>...</td>\n",
       "      <td>...</td>\n",
       "      <td>...</td>\n",
       "      <td>...</td>\n",
       "      <td>...</td>\n",
       "      <td>...</td>\n",
       "      <td>...</td>\n",
       "      <td>...</td>\n",
       "      <td>...</td>\n",
       "      <td>...</td>\n",
       "      <td>...</td>\n",
       "      <td>...</td>\n",
       "      <td>...</td>\n",
       "      <td>...</td>\n",
       "      <td>...</td>\n",
       "      <td>...</td>\n",
       "      <td>...</td>\n",
       "      <td>...</td>\n",
       "      <td>...</td>\n",
       "      <td>...</td>\n",
       "      <td>...</td>\n",
       "      <td>...</td>\n",
       "      <td>...</td>\n",
       "      <td>...</td>\n",
       "      <td>...</td>\n",
       "    </tr>\n",
       "    <tr>\n",
       "      <td>98</td>\n",
       "      <td>Student099</td>\n",
       "      <td>3.6</td>\n",
       "      <td>0.15</td>\n",
       "      <td>2.8</td>\n",
       "      <td>0.25</td>\n",
       "      <td>3.2</td>\n",
       "      <td>0.25</td>\n",
       "      <td>3.5</td>\n",
       "      <td>0.35</td>\n",
       "      <td>3.8</td>\n",
       "      <td>0.1</td>\n",
       "      <td>3.2</td>\n",
       "      <td>0.3</td>\n",
       "      <td>3.55</td>\n",
       "      <td>0.4</td>\n",
       "      <td>3.1</td>\n",
       "      <td>0.1</td>\n",
       "      <td>1.58</td>\n",
       "      <td>0.1</td>\n",
       "      <td>3.80</td>\n",
       "      <td>0.25</td>\n",
       "      <td>3.35</td>\n",
       "      <td>0.25</td>\n",
       "      <td>2.31</td>\n",
       "      <td>0.25</td>\n",
       "      <td>4.10</td>\n",
       "      <td>0.25</td>\n",
       "      <td>2.40</td>\n",
       "      <td>0.2</td>\n",
       "      <td>3.80</td>\n",
       "      <td>0.25</td>\n",
       "      <td>2.95</td>\n",
       "      <td>0.35</td>\n",
       "      <td>2.03</td>\n",
       "      <td>0.2</td>\n",
       "      <td>3.2650</td>\n",
       "      <td>Pass</td>\n",
       "      <td>3.2280</td>\n",
       "      <td>Pass</td>\n",
       "      <td>3.3900</td>\n",
       "      <td>Pass</td>\n",
       "      <td>2.8685</td>\n",
       "      <td>Pass</td>\n",
       "      <td>3.187875</td>\n",
       "      <td>Pass</td>\n",
       "    </tr>\n",
       "    <tr>\n",
       "      <td>99</td>\n",
       "      <td>Student100</td>\n",
       "      <td>3.6</td>\n",
       "      <td>0.15</td>\n",
       "      <td>0.0</td>\n",
       "      <td>0.25</td>\n",
       "      <td>3.2</td>\n",
       "      <td>0.25</td>\n",
       "      <td>3.1</td>\n",
       "      <td>0.35</td>\n",
       "      <td>2.0</td>\n",
       "      <td>0.1</td>\n",
       "      <td>3.1</td>\n",
       "      <td>0.3</td>\n",
       "      <td>1.68</td>\n",
       "      <td>0.4</td>\n",
       "      <td>3.5</td>\n",
       "      <td>0.1</td>\n",
       "      <td>3.01</td>\n",
       "      <td>0.1</td>\n",
       "      <td>2.70</td>\n",
       "      <td>0.25</td>\n",
       "      <td>1.50</td>\n",
       "      <td>0.25</td>\n",
       "      <td>2.42</td>\n",
       "      <td>0.25</td>\n",
       "      <td>2.59</td>\n",
       "      <td>0.25</td>\n",
       "      <td>1.71</td>\n",
       "      <td>0.2</td>\n",
       "      <td>2.40</td>\n",
       "      <td>0.25</td>\n",
       "      <td>1.93</td>\n",
       "      <td>0.35</td>\n",
       "      <td>2.01</td>\n",
       "      <td>0.2</td>\n",
       "      <td>2.4250</td>\n",
       "      <td>Fail</td>\n",
       "      <td>2.4530</td>\n",
       "      <td>Fail</td>\n",
       "      <td>2.3025</td>\n",
       "      <td>Fail</td>\n",
       "      <td>2.0195</td>\n",
       "      <td>Fail</td>\n",
       "      <td>2.300000</td>\n",
       "      <td>Fail</td>\n",
       "    </tr>\n",
       "    <tr>\n",
       "      <td>100</td>\n",
       "      <td>Student101</td>\n",
       "      <td>2.6</td>\n",
       "      <td>0.15</td>\n",
       "      <td>2.5</td>\n",
       "      <td>0.25</td>\n",
       "      <td>2.3</td>\n",
       "      <td>0.25</td>\n",
       "      <td>2.4</td>\n",
       "      <td>0.35</td>\n",
       "      <td>2.3</td>\n",
       "      <td>0.1</td>\n",
       "      <td>3.0</td>\n",
       "      <td>0.3</td>\n",
       "      <td>3.10</td>\n",
       "      <td>0.4</td>\n",
       "      <td>3.5</td>\n",
       "      <td>0.1</td>\n",
       "      <td>2.25</td>\n",
       "      <td>0.1</td>\n",
       "      <td>3.74</td>\n",
       "      <td>0.25</td>\n",
       "      <td>2.20</td>\n",
       "      <td>0.25</td>\n",
       "      <td>3.32</td>\n",
       "      <td>0.25</td>\n",
       "      <td>2.07</td>\n",
       "      <td>0.25</td>\n",
       "      <td>3.20</td>\n",
       "      <td>0.2</td>\n",
       "      <td>2.38</td>\n",
       "      <td>0.25</td>\n",
       "      <td>3.40</td>\n",
       "      <td>0.35</td>\n",
       "      <td>2.47</td>\n",
       "      <td>0.2</td>\n",
       "      <td>2.4300</td>\n",
       "      <td>Fail</td>\n",
       "      <td>2.9450</td>\n",
       "      <td>Pass</td>\n",
       "      <td>2.8325</td>\n",
       "      <td>Pass</td>\n",
       "      <td>2.9190</td>\n",
       "      <td>Pass</td>\n",
       "      <td>2.781625</td>\n",
       "      <td>Fail</td>\n",
       "    </tr>\n",
       "    <tr>\n",
       "      <td>101</td>\n",
       "      <td>NaN</td>\n",
       "      <td>92.0</td>\n",
       "      <td>NaN</td>\n",
       "      <td>82.0</td>\n",
       "      <td>NaN</td>\n",
       "      <td>90.0</td>\n",
       "      <td>NaN</td>\n",
       "      <td>96.0</td>\n",
       "      <td>NaN</td>\n",
       "      <td>71.0</td>\n",
       "      <td>NaN</td>\n",
       "      <td>97.0</td>\n",
       "      <td>NaN</td>\n",
       "      <td>96.00</td>\n",
       "      <td>NaN</td>\n",
       "      <td>75.0</td>\n",
       "      <td>NaN</td>\n",
       "      <td>83.00</td>\n",
       "      <td>NaN</td>\n",
       "      <td>97.00</td>\n",
       "      <td>NaN</td>\n",
       "      <td>78.00</td>\n",
       "      <td>NaN</td>\n",
       "      <td>93.00</td>\n",
       "      <td>NaN</td>\n",
       "      <td>99.00</td>\n",
       "      <td>NaN</td>\n",
       "      <td>88.00</td>\n",
       "      <td>NaN</td>\n",
       "      <td>86.00</td>\n",
       "      <td>NaN</td>\n",
       "      <td>87.00</td>\n",
       "      <td>NaN</td>\n",
       "      <td>91.00</td>\n",
       "      <td>NaN</td>\n",
       "      <td>94.0000</td>\n",
       "      <td>NaN</td>\n",
       "      <td>98.0000</td>\n",
       "      <td>NaN</td>\n",
       "      <td>100.0000</td>\n",
       "      <td>NaN</td>\n",
       "      <td>96.0000</td>\n",
       "      <td>NaN</td>\n",
       "      <td>NaN</td>\n",
       "      <td>NaN</td>\n",
       "    </tr>\n",
       "    <tr>\n",
       "      <td>102</td>\n",
       "      <td>NaN</td>\n",
       "      <td>NaN</td>\n",
       "      <td>NaN</td>\n",
       "      <td>NaN</td>\n",
       "      <td>NaN</td>\n",
       "      <td>NaN</td>\n",
       "      <td>NaN</td>\n",
       "      <td>NaN</td>\n",
       "      <td>NaN</td>\n",
       "      <td>NaN</td>\n",
       "      <td>NaN</td>\n",
       "      <td>NaN</td>\n",
       "      <td>NaN</td>\n",
       "      <td>NaN</td>\n",
       "      <td>NaN</td>\n",
       "      <td>NaN</td>\n",
       "      <td>NaN</td>\n",
       "      <td>NaN</td>\n",
       "      <td>NaN</td>\n",
       "      <td>NaN</td>\n",
       "      <td>NaN</td>\n",
       "      <td>NaN</td>\n",
       "      <td>NaN</td>\n",
       "      <td>NaN</td>\n",
       "      <td>NaN</td>\n",
       "      <td>NaN</td>\n",
       "      <td>NaN</td>\n",
       "      <td>NaN</td>\n",
       "      <td>NaN</td>\n",
       "      <td>NaN</td>\n",
       "      <td>NaN</td>\n",
       "      <td>NaN</td>\n",
       "      <td>NaN</td>\n",
       "      <td>NaN</td>\n",
       "      <td>NaN</td>\n",
       "      <td>0.9307</td>\n",
       "      <td>passing rate</td>\n",
       "      <td>0.9703</td>\n",
       "      <td>passing rate</td>\n",
       "      <td>0.9901</td>\n",
       "      <td>passing rate</td>\n",
       "      <td>0.9505</td>\n",
       "      <td>passing rate</td>\n",
       "      <td>NaN</td>\n",
       "      <td>NaN</td>\n",
       "    </tr>\n",
       "  </tbody>\n",
       "</table>\n",
       "<p>103 rows × 45 columns</p>\n",
       "</div>"
      ],
      "text/plain": [
       "      StudentID  CI 1  Unnamed: 2  CI 2  Unnamed: 4  CI 3  Unnamed: 6  CI 4  \\\n",
       "0    Student001   3.4        0.15   2.7        0.25   3.6        0.25   4.0   \n",
       "1    Student002   0.0        0.15   0.0        0.25   0.0        0.25   0.0   \n",
       "2    Student003   4.1        0.15   3.2        0.25   4.2        0.25   4.0   \n",
       "3    Student004   3.9        0.15   3.1        0.25   3.2        0.25   3.7   \n",
       "4    Student005   3.5        0.15   3.1        0.25   4.3        0.25   3.4   \n",
       "..          ...   ...         ...   ...         ...   ...         ...   ...   \n",
       "98   Student099   3.6        0.15   2.8        0.25   3.2        0.25   3.5   \n",
       "99   Student100   3.6        0.15   0.0        0.25   3.2        0.25   3.1   \n",
       "100  Student101   2.6        0.15   2.5        0.25   2.3        0.25   2.4   \n",
       "101         NaN  92.0         NaN  82.0         NaN  90.0         NaN  96.0   \n",
       "102         NaN   NaN         NaN   NaN         NaN   NaN         NaN   NaN   \n",
       "\n",
       "     Unnamed: 8  DD 1  Unnamed: 10  DD 2  Unnamed: 12   DD 3  Unnamed: 14  \\\n",
       "0          0.35   3.0          0.1   4.2          0.3   3.55          0.4   \n",
       "1          0.35   3.0          0.1   0.0          0.3   3.57          0.4   \n",
       "2          0.35   2.3          0.1   3.5          0.3   3.25          0.4   \n",
       "3          0.35   3.3          0.1   3.1          0.3   3.70          0.4   \n",
       "4          0.35   3.5          0.1   4.0          0.3   2.70          0.4   \n",
       "..          ...   ...          ...   ...          ...    ...          ...   \n",
       "98         0.35   3.8          0.1   3.2          0.3   3.55          0.4   \n",
       "99         0.35   2.0          0.1   3.1          0.3   1.68          0.4   \n",
       "100        0.35   2.3          0.1   3.0          0.3   3.10          0.4   \n",
       "101         NaN  71.0          NaN  97.0          NaN  96.00          NaN   \n",
       "102         NaN   NaN          NaN   NaN          NaN    NaN          NaN   \n",
       "\n",
       "     DD 4A  Unnamed: 16  DD 4B  Unnamed: 18   EL 1  Unnamed: 20   EL 2  \\\n",
       "0      3.7          0.1   4.05          0.1   3.40         0.25   2.70   \n",
       "1      1.9          0.1   3.95          0.1   3.20         0.25   4.45   \n",
       "2      4.3          0.1   3.20          0.1   2.60         0.25   4.50   \n",
       "3      4.3          0.1   4.05          0.1   4.00         0.25   3.44   \n",
       "4      2.5          0.1   4.05          0.1   3.60         0.25   4.35   \n",
       "..     ...          ...    ...          ...    ...          ...    ...   \n",
       "98     3.1          0.1   1.58          0.1   3.80         0.25   3.35   \n",
       "99     3.5          0.1   3.01          0.1   2.70         0.25   1.50   \n",
       "100    3.5          0.1   2.25          0.1   3.74         0.25   2.20   \n",
       "101   75.0          NaN  83.00          NaN  97.00          NaN  78.00   \n",
       "102    NaN          NaN    NaN          NaN    NaN          NaN    NaN   \n",
       "\n",
       "     Unnamed: 22   EL 3  Unnamed: 24   EL 4  Unnamed: 26   PR 1  Unnamed: 28  \\\n",
       "0           0.25   4.85         0.25   3.85         0.25   3.00          0.2   \n",
       "1           0.25   4.85         0.25   3.85         0.25   2.70          0.2   \n",
       "2           0.25   3.80         0.25   4.05         0.25   3.50          0.2   \n",
       "3           0.25   3.55         0.25   3.30         0.25   2.90          0.2   \n",
       "4           0.25   3.70         0.25   3.05         0.25   2.98          0.2   \n",
       "..           ...    ...          ...    ...          ...    ...          ...   \n",
       "98          0.25   2.31         0.25   4.10         0.25   2.40          0.2   \n",
       "99          0.25   2.42         0.25   2.59         0.25   1.71          0.2   \n",
       "100         0.25   3.32         0.25   2.07         0.25   3.20          0.2   \n",
       "101          NaN  93.00          NaN  99.00          NaN  88.00          NaN   \n",
       "102          NaN    NaN          NaN    NaN          NaN    NaN          NaN   \n",
       "\n",
       "      PR 2  Unnamed: 30    PR3  Unnamed: 32    PR4  Unnamed: 34  CI average  \\\n",
       "0     4.40         0.25   3.55         0.35   4.30          0.2      3.4850   \n",
       "1     3.90         0.25   4.30         0.35   4.15          0.2      0.0000   \n",
       "2     3.50         0.25   3.20         0.35   3.75          0.2      3.8650   \n",
       "3     3.10         0.25   3.20         0.35   3.66          0.2      3.4550   \n",
       "4     2.90         0.25   2.85         0.35   2.90          0.2      3.5650   \n",
       "..     ...          ...    ...          ...    ...          ...         ...   \n",
       "98    3.80         0.25   2.95         0.35   2.03          0.2      3.2650   \n",
       "99    2.40         0.25   1.93         0.35   2.01          0.2      2.4250   \n",
       "100   2.38         0.25   3.40         0.35   2.47          0.2      2.4300   \n",
       "101  86.00          NaN  87.00          NaN  91.00          NaN     94.0000   \n",
       "102    NaN          NaN    NaN          NaN    NaN          NaN      0.9307   \n",
       "\n",
       "              RCI  DD average           RDD  EL Average           REL  \\\n",
       "0            Pass      3.7550          Pass      3.7000          Pass   \n",
       "1            Fail      2.3130          Fail      4.0875          Pass   \n",
       "2            Pass      3.3300          Pass      3.7375          Pass   \n",
       "3            Pass      3.5750          Pass      3.5725          Pass   \n",
       "4            Pass      3.2850          Pass      3.6750          Pass   \n",
       "..            ...         ...           ...         ...           ...   \n",
       "98           Pass      3.2280          Pass      3.3900          Pass   \n",
       "99           Fail      2.4530          Fail      2.3025          Fail   \n",
       "100          Fail      2.9450          Pass      2.8325          Pass   \n",
       "101           NaN     98.0000           NaN    100.0000           NaN   \n",
       "102  passing rate      0.9703  passing rate      0.9901  passing rate   \n",
       "\n",
       "     PR Average           RPR  Overall LC average Failing  \n",
       "0        3.8025          Pass            3.685625    Pass  \n",
       "1        3.8500          Pass            2.562625    Fail  \n",
       "2        3.4450          Pass            3.594375    Pass  \n",
       "3        3.2070          Pass            3.452375    Pass  \n",
       "4        2.8985          Pass            3.355875    Pass  \n",
       "..          ...           ...                 ...     ...  \n",
       "98       2.8685          Pass            3.187875    Pass  \n",
       "99       2.0195          Fail            2.300000    Fail  \n",
       "100      2.9190          Pass            2.781625    Fail  \n",
       "101     96.0000           NaN                 NaN     NaN  \n",
       "102      0.9505  passing rate                 NaN     NaN  \n",
       "\n",
       "[103 rows x 45 columns]"
      ]
     },
     "execution_count": 109,
     "metadata": {},
     "output_type": "execute_result"
    }
   ],
   "source": [
    "df"
   ]
  },
  {
   "cell_type": "code",
   "execution_count": 17,
   "metadata": {},
   "outputs": [],
   "source": [
    "df_grades=df[['CI average','DD average','EL Average','PR Average','Overall LC average']].dropna(axis=0)"
   ]
  },
  {
   "cell_type": "code",
   "execution_count": 19,
   "metadata": {},
   "outputs": [
    {
     "name": "stdout",
     "output_type": "stream",
     "text": [
      "<class 'pandas.core.frame.DataFrame'>\n",
      "Int64Index: 101 entries, 0 to 100\n",
      "Data columns (total 5 columns):\n",
      "CI average            101 non-null float64\n",
      "DD average            101 non-null float64\n",
      "EL Average            101 non-null float64\n",
      "PR Average            101 non-null float64\n",
      "Overall LC average    101 non-null float64\n",
      "dtypes: float64(5)\n",
      "memory usage: 4.7 KB\n"
     ]
    }
   ],
   "source": [
    "df_grades.info()"
   ]
  },
  {
   "cell_type": "code",
   "execution_count": 41,
   "metadata": {},
   "outputs": [
    {
     "data": {
      "image/png": "[encoded data removed]",
      "text/plain": [
       "<Figure size 1152x576 with 1 Axes>"
      ]
     },
     "metadata": {
      "needs_background": "light"
     },
     "output_type": "display_data"
    }
   ],
   "source": [
    "plt.figure(figsize=(16,8))\n",
    "sns.boxplot(x='variable', y='value', data=pd.melt(df_grades))\n",
    "plt.tight_layout()"
   ]
  },
  {
   "cell_type": "code",
   "execution_count": 32,
   "metadata": {},
   "outputs": [],
   "source": [
    "fail=df['Failing'].dropna(axis=0)"
   ]
  },
  {
   "cell_type": "code",
   "execution_count": 33,
   "metadata": {},
   "outputs": [
    {
     "data": {
      "text/plain": [
       "0      Pass\n",
       "1      Fail\n",
       "2      Pass\n",
       "3      Pass\n",
       "4      Pass\n",
       "       ... \n",
       "96     Pass\n",
       "97     Pass\n",
       "98     Pass\n",
       "99     Fail\n",
       "100    Fail\n",
       "Name: Failing, Length: 101, dtype: object"
      ]
     },
     "execution_count": 33,
     "metadata": {},
     "output_type": "execute_result"
    }
   ],
   "source": [
    "fail"
   ]
  },
  {
   "cell_type": "code",
   "execution_count": 35,
   "metadata": {},
   "outputs": [],
   "source": [
    "trial=df[['CI average','DD average','EL Average','PR Average','Overall LC average','Failing']].dropna(axis=0)"
   ]
  },
  {
   "cell_type": "code",
   "execution_count": 36,
   "metadata": {},
   "outputs": [
    {
     "data": {
      "text/html": [
       "<div>\n",
       "<style scoped>\n",
       "    .dataframe tbody tr th:only-of-type {\n",
       "        vertical-align: middle;\n",
       "    }\n",
       "\n",
       "    .dataframe tbody tr th {\n",
       "        vertical-align: top;\n",
       "    }\n",
       "\n",
       "    .dataframe thead th {\n",
       "        text-align: right;\n",
       "    }\n",
       "</style>\n",
       "<table border=\"1\" class=\"dataframe\">\n",
       "  <thead>\n",
       "    <tr style=\"text-align: right;\">\n",
       "      <th></th>\n",
       "      <th>CI average</th>\n",
       "      <th>DD average</th>\n",
       "      <th>EL Average</th>\n",
       "      <th>PR Average</th>\n",
       "      <th>Overall LC average</th>\n",
       "      <th>Failing</th>\n",
       "    </tr>\n",
       "  </thead>\n",
       "  <tbody>\n",
       "    <tr>\n",
       "      <td>0</td>\n",
       "      <td>3.485</td>\n",
       "      <td>3.755</td>\n",
       "      <td>3.7000</td>\n",
       "      <td>3.8025</td>\n",
       "      <td>3.685625</td>\n",
       "      <td>Pass</td>\n",
       "    </tr>\n",
       "    <tr>\n",
       "      <td>1</td>\n",
       "      <td>0.000</td>\n",
       "      <td>2.313</td>\n",
       "      <td>4.0875</td>\n",
       "      <td>3.8500</td>\n",
       "      <td>2.562625</td>\n",
       "      <td>Fail</td>\n",
       "    </tr>\n",
       "    <tr>\n",
       "      <td>2</td>\n",
       "      <td>3.865</td>\n",
       "      <td>3.330</td>\n",
       "      <td>3.7375</td>\n",
       "      <td>3.4450</td>\n",
       "      <td>3.594375</td>\n",
       "      <td>Pass</td>\n",
       "    </tr>\n",
       "    <tr>\n",
       "      <td>3</td>\n",
       "      <td>3.455</td>\n",
       "      <td>3.575</td>\n",
       "      <td>3.5725</td>\n",
       "      <td>3.2070</td>\n",
       "      <td>3.452375</td>\n",
       "      <td>Pass</td>\n",
       "    </tr>\n",
       "    <tr>\n",
       "      <td>4</td>\n",
       "      <td>3.565</td>\n",
       "      <td>3.285</td>\n",
       "      <td>3.6750</td>\n",
       "      <td>2.8985</td>\n",
       "      <td>3.355875</td>\n",
       "      <td>Pass</td>\n",
       "    </tr>\n",
       "    <tr>\n",
       "      <td>...</td>\n",
       "      <td>...</td>\n",
       "      <td>...</td>\n",
       "      <td>...</td>\n",
       "      <td>...</td>\n",
       "      <td>...</td>\n",
       "      <td>...</td>\n",
       "    </tr>\n",
       "    <tr>\n",
       "      <td>96</td>\n",
       "      <td>3.260</td>\n",
       "      <td>2.992</td>\n",
       "      <td>2.8000</td>\n",
       "      <td>3.0075</td>\n",
       "      <td>3.014875</td>\n",
       "      <td>Pass</td>\n",
       "    </tr>\n",
       "    <tr>\n",
       "      <td>97</td>\n",
       "      <td>3.750</td>\n",
       "      <td>3.620</td>\n",
       "      <td>3.1750</td>\n",
       "      <td>3.6875</td>\n",
       "      <td>3.558125</td>\n",
       "      <td>Pass</td>\n",
       "    </tr>\n",
       "    <tr>\n",
       "      <td>98</td>\n",
       "      <td>3.265</td>\n",
       "      <td>3.228</td>\n",
       "      <td>3.3900</td>\n",
       "      <td>2.8685</td>\n",
       "      <td>3.187875</td>\n",
       "      <td>Pass</td>\n",
       "    </tr>\n",
       "    <tr>\n",
       "      <td>99</td>\n",
       "      <td>2.425</td>\n",
       "      <td>2.453</td>\n",
       "      <td>2.3025</td>\n",
       "      <td>2.0195</td>\n",
       "      <td>2.300000</td>\n",
       "      <td>Fail</td>\n",
       "    </tr>\n",
       "    <tr>\n",
       "      <td>100</td>\n",
       "      <td>2.430</td>\n",
       "      <td>2.945</td>\n",
       "      <td>2.8325</td>\n",
       "      <td>2.9190</td>\n",
       "      <td>2.781625</td>\n",
       "      <td>Fail</td>\n",
       "    </tr>\n",
       "  </tbody>\n",
       "</table>\n",
       "<p>101 rows × 6 columns</p>\n",
       "</div>"
      ],
      "text/plain": [
       "     CI average  DD average  EL Average  PR Average  Overall LC average  \\\n",
       "0         3.485       3.755      3.7000      3.8025            3.685625   \n",
       "1         0.000       2.313      4.0875      3.8500            2.562625   \n",
       "2         3.865       3.330      3.7375      3.4450            3.594375   \n",
       "3         3.455       3.575      3.5725      3.2070            3.452375   \n",
       "4         3.565       3.285      3.6750      2.8985            3.355875   \n",
       "..          ...         ...         ...         ...                 ...   \n",
       "96        3.260       2.992      2.8000      3.0075            3.014875   \n",
       "97        3.750       3.620      3.1750      3.6875            3.558125   \n",
       "98        3.265       3.228      3.3900      2.8685            3.187875   \n",
       "99        2.425       2.453      2.3025      2.0195            2.300000   \n",
       "100       2.430       2.945      2.8325      2.9190            2.781625   \n",
       "\n",
       "    Failing  \n",
       "0      Pass  \n",
       "1      Fail  \n",
       "2      Pass  \n",
       "3      Pass  \n",
       "4      Pass  \n",
       "..      ...  \n",
       "96     Pass  \n",
       "97     Pass  \n",
       "98     Pass  \n",
       "99     Fail  \n",
       "100    Fail  \n",
       "\n",
       "[101 rows x 6 columns]"
      ]
     },
     "execution_count": 36,
     "metadata": {},
     "output_type": "execute_result"
    }
   ],
   "source": [
    "trial"
   ]
  },
  {
   "cell_type": "code",
   "execution_count": 37,
   "metadata": {},
   "outputs": [
    {
     "data": {
      "text/plain": [
       "Pass    87\n",
       "Fail    14\n",
       "Name: Failing, dtype: int64"
      ]
     },
     "execution_count": 37,
     "metadata": {},
     "output_type": "execute_result"
    }
   ],
   "source": [
    "trial['Failing'].value_counts()"
   ]
  },
  {
   "cell_type": "code",
   "execution_count": 38,
   "metadata": {},
   "outputs": [],
   "source": [
    "a=trial['Failing']=='Fail'"
   ]
  },
  {
   "cell_type": "code",
   "execution_count": 45,
   "metadata": {},
   "outputs": [],
   "source": [
    "fail_students=trial[a].drop(['Failing'], axis=1)"
   ]
  },
  {
   "cell_type": "code",
   "execution_count": 46,
   "metadata": {},
   "outputs": [
    {
     "data": {
      "text/html": [
       "<div>\n",
       "<style scoped>\n",
       "    .dataframe tbody tr th:only-of-type {\n",
       "        vertical-align: middle;\n",
       "    }\n",
       "\n",
       "    .dataframe tbody tr th {\n",
       "        vertical-align: top;\n",
       "    }\n",
       "\n",
       "    .dataframe thead th {\n",
       "        text-align: right;\n",
       "    }\n",
       "</style>\n",
       "<table border=\"1\" class=\"dataframe\">\n",
       "  <thead>\n",
       "    <tr style=\"text-align: right;\">\n",
       "      <th></th>\n",
       "      <th>CI average</th>\n",
       "      <th>DD average</th>\n",
       "      <th>EL Average</th>\n",
       "      <th>PR Average</th>\n",
       "      <th>Overall LC average</th>\n",
       "    </tr>\n",
       "  </thead>\n",
       "  <tbody>\n",
       "    <tr>\n",
       "      <td>1</td>\n",
       "      <td>0.0000</td>\n",
       "      <td>2.313</td>\n",
       "      <td>4.0875</td>\n",
       "      <td>3.8500</td>\n",
       "      <td>2.562625</td>\n",
       "    </tr>\n",
       "    <tr>\n",
       "      <td>19</td>\n",
       "      <td>2.6425</td>\n",
       "      <td>3.215</td>\n",
       "      <td>2.9000</td>\n",
       "      <td>2.4360</td>\n",
       "      <td>2.798375</td>\n",
       "    </tr>\n",
       "    <tr>\n",
       "      <td>37</td>\n",
       "      <td>2.9550</td>\n",
       "      <td>3.098</td>\n",
       "      <td>2.9775</td>\n",
       "      <td>2.6465</td>\n",
       "      <td>2.919250</td>\n",
       "    </tr>\n",
       "    <tr>\n",
       "      <td>58</td>\n",
       "      <td>3.0100</td>\n",
       "      <td>2.603</td>\n",
       "      <td>3.4875</td>\n",
       "      <td>2.8025</td>\n",
       "      <td>2.975750</td>\n",
       "    </tr>\n",
       "    <tr>\n",
       "      <td>60</td>\n",
       "      <td>0.0000</td>\n",
       "      <td>2.245</td>\n",
       "      <td>3.2000</td>\n",
       "      <td>3.1415</td>\n",
       "      <td>2.146625</td>\n",
       "    </tr>\n",
       "    <tr>\n",
       "      <td>64</td>\n",
       "      <td>2.8400</td>\n",
       "      <td>2.985</td>\n",
       "      <td>2.9025</td>\n",
       "      <td>2.8560</td>\n",
       "      <td>2.895875</td>\n",
       "    </tr>\n",
       "    <tr>\n",
       "      <td>67</td>\n",
       "      <td>2.9850</td>\n",
       "      <td>2.793</td>\n",
       "      <td>3.1600</td>\n",
       "      <td>2.6810</td>\n",
       "      <td>2.904750</td>\n",
       "    </tr>\n",
       "    <tr>\n",
       "      <td>68</td>\n",
       "      <td>2.6150</td>\n",
       "      <td>3.290</td>\n",
       "      <td>2.8850</td>\n",
       "      <td>3.1950</td>\n",
       "      <td>2.996250</td>\n",
       "    </tr>\n",
       "    <tr>\n",
       "      <td>71</td>\n",
       "      <td>2.3850</td>\n",
       "      <td>2.820</td>\n",
       "      <td>2.8750</td>\n",
       "      <td>2.2905</td>\n",
       "      <td>2.592625</td>\n",
       "    </tr>\n",
       "    <tr>\n",
       "      <td>72</td>\n",
       "      <td>2.8200</td>\n",
       "      <td>3.414</td>\n",
       "      <td>2.7500</td>\n",
       "      <td>2.7410</td>\n",
       "      <td>2.931250</td>\n",
       "    </tr>\n",
       "    <tr>\n",
       "      <td>77</td>\n",
       "      <td>2.7730</td>\n",
       "      <td>3.085</td>\n",
       "      <td>3.1225</td>\n",
       "      <td>2.9795</td>\n",
       "      <td>2.990000</td>\n",
       "    </tr>\n",
       "    <tr>\n",
       "      <td>85</td>\n",
       "      <td>2.7000</td>\n",
       "      <td>2.710</td>\n",
       "      <td>2.6325</td>\n",
       "      <td>2.7295</td>\n",
       "      <td>2.693000</td>\n",
       "    </tr>\n",
       "    <tr>\n",
       "      <td>99</td>\n",
       "      <td>2.4250</td>\n",
       "      <td>2.453</td>\n",
       "      <td>2.3025</td>\n",
       "      <td>2.0195</td>\n",
       "      <td>2.300000</td>\n",
       "    </tr>\n",
       "    <tr>\n",
       "      <td>100</td>\n",
       "      <td>2.4300</td>\n",
       "      <td>2.945</td>\n",
       "      <td>2.8325</td>\n",
       "      <td>2.9190</td>\n",
       "      <td>2.781625</td>\n",
       "    </tr>\n",
       "  </tbody>\n",
       "</table>\n",
       "</div>"
      ],
      "text/plain": [
       "     CI average  DD average  EL Average  PR Average  Overall LC average\n",
       "1        0.0000       2.313      4.0875      3.8500            2.562625\n",
       "19       2.6425       3.215      2.9000      2.4360            2.798375\n",
       "37       2.9550       3.098      2.9775      2.6465            2.919250\n",
       "58       3.0100       2.603      3.4875      2.8025            2.975750\n",
       "60       0.0000       2.245      3.2000      3.1415            2.146625\n",
       "64       2.8400       2.985      2.9025      2.8560            2.895875\n",
       "67       2.9850       2.793      3.1600      2.6810            2.904750\n",
       "68       2.6150       3.290      2.8850      3.1950            2.996250\n",
       "71       2.3850       2.820      2.8750      2.2905            2.592625\n",
       "72       2.8200       3.414      2.7500      2.7410            2.931250\n",
       "77       2.7730       3.085      3.1225      2.9795            2.990000\n",
       "85       2.7000       2.710      2.6325      2.7295            2.693000\n",
       "99       2.4250       2.453      2.3025      2.0195            2.300000\n",
       "100      2.4300       2.945      2.8325      2.9190            2.781625"
      ]
     },
     "execution_count": 46,
     "metadata": {},
     "output_type": "execute_result"
    }
   ],
   "source": [
    "fail_students"
   ]
  },
  {
   "cell_type": "code",
   "execution_count": 47,
   "metadata": {},
   "outputs": [
    {
     "data": {
      "image/png": "[encoded data removed]",
      "text/plain": [
       "<Figure size 1152x576 with 1 Axes>"
      ]
     },
     "metadata": {
      "needs_background": "light"
     },
     "output_type": "display_data"
    }
   ],
   "source": [
    "plt.figure(figsize=(16,8))\n",
    "sns.boxplot(x='variable', y='value', data=pd.melt(fail_students))\n",
    "plt.tight_layout()"
   ]
  },
  {
   "cell_type": "code",
   "execution_count": 48,
   "metadata": {},
   "outputs": [],
   "source": [
    "b=trial['Failing']=='Pass'"
   ]
  },
  {
   "cell_type": "code",
   "execution_count": 49,
   "metadata": {},
   "outputs": [],
   "source": [
    "pass_students=trial[b].drop(['Failing'], axis=1)"
   ]
  },
  {
   "cell_type": "code",
   "execution_count": 51,
   "metadata": {},
   "outputs": [
    {
     "data": {
      "image/png": "[encoded data removed]",
      "text/plain": [
       "<Figure size 1152x576 with 1 Axes>"
      ]
     },
     "metadata": {
      "needs_background": "light"
     },
     "output_type": "display_data"
    }
   ],
   "source": [
    "plt.figure(figsize=(16,8))\n",
    "sns.boxplot(x='variable', y='value', data=pd.melt(pass_students))\n",
    "plt.tight_layout()"
   ]
  },
  {
   "cell_type": "code",
   "execution_count": 88,
   "metadata": {},
   "outputs": [
    {
     "data": {
      "application/vnd.plotly.v1+json": {
       "config": {
        "linkText": "Export to plot.ly",
        "plotlyServerURL": "https://plot.ly",
        "showLink": true
       },
       "data": [
        {
         "boxpoints": false,
         "line": {
          "width": 1.3
         },
         "marker": {
          "color": "rgba(255, 153, 51, 1.0)"
         },
         "name": "CI average",
         "orientation": "v",
         "type": "box",
         "y": [
          3.485,
          0,
          3.865,
          3.455,
          3.565,
          3.77,
          2.82,
          3.885,
          3.095,
          3.93,
          3.555,
          3.18,
          3.02,
          3.6,
          3.46,
          2.575,
          2.6,
          2.68,
          3.26,
          2.6425,
          2.93,
          2.885,
          2.995,
          3.125,
          3.225,
          3.205,
          2.365,
          3.46,
          3.45,
          2.845,
          3.55,
          3.73,
          3.7,
          3.095,
          3.455,
          3.25,
          3.49,
          2.955,
          3.335,
          3.545,
          3.605,
          3.67,
          3.325,
          3.31,
          3.865,
          3.285,
          3.415,
          3.595,
          3.575,
          3.115,
          3.13,
          2.8,
          3.22,
          4.355,
          3.115,
          2.855,
          3.14,
          3.77,
          3.01,
          3.205,
          0,
          3.465,
          2.235,
          3.75,
          2.84,
          3.63,
          2.965,
          2.985,
          2.615,
          3.68,
          3.39,
          2.385,
          2.82,
          3.235,
          3.245,
          3.56,
          3.62,
          2.773,
          2.755,
          3.09,
          3.34,
          3.99,
          3.055,
          3.05,
          3.81,
          2.7,
          3.15,
          3.435,
          3.09,
          3.345,
          3.765,
          3.09,
          3.03,
          3.285,
          3.325,
          3.915,
          3.26,
          3.75,
          3.265,
          2.425,
          2.43
         ]
        },
        {
         "boxpoints": false,
         "line": {
          "width": 1.3
         },
         "marker": {
          "color": "rgba(55, 128, 191, 1.0)"
         },
         "name": "DD average",
         "orientation": "v",
         "type": "box",
         "y": [
          3.755,
          2.313,
          3.33,
          3.575,
          3.285,
          3.475,
          2.863,
          3.16,
          3.212,
          3.535,
          3.275,
          2.888,
          3.533,
          3.565,
          3.085,
          3.395,
          3.435,
          3.355,
          2.9,
          3.215,
          3.115,
          3.62,
          3.738,
          3.665,
          2.883,
          4.003,
          3.595,
          3.226,
          2.932,
          3.345,
          3.755,
          3.355,
          3.405,
          3.255,
          3.34,
          3.415,
          3.375,
          3.098,
          3.595,
          3.265,
          3.265,
          3.272,
          3.143,
          3.19,
          3.213,
          3.305,
          2.92,
          3.763,
          3.118,
          4.035,
          3.472,
          3.337,
          3.39,
          3.97,
          3.205,
          3.165,
          3.265,
          3.54,
          2.603,
          3.59,
          2.245,
          3.169,
          3.813,
          3.69,
          2.985,
          3.753,
          3.15,
          2.793,
          3.29,
          3.338,
          3.78,
          2.82,
          3.414,
          3.105,
          2.73,
          2.996,
          3.265,
          3.085,
          3.082,
          3.785,
          3.013,
          3.21,
          3.35,
          3.355,
          3.785,
          2.71,
          3.028,
          3.615,
          3.865,
          4,
          3.435,
          3.148,
          3.293,
          3.375,
          3.8,
          3.555,
          2.992,
          3.62,
          3.228,
          2.453,
          2.945
         ]
        },
        {
         "boxpoints": false,
         "line": {
          "width": 1.3
         },
         "marker": {
          "color": "rgba(50, 171, 96, 1.0)"
         },
         "name": "EL Average",
         "orientation": "v",
         "type": "box",
         "y": [
          3.7,
          4.0875,
          3.7375,
          3.5725,
          3.675,
          3.55,
          3.3525,
          3.95,
          3.45,
          3.6375,
          3.1875,
          3.0875,
          3.8125,
          3.1875,
          2.925,
          3.925,
          3.075,
          3.6325,
          3.5625,
          2.9,
          3.2375,
          3.5875,
          3.5875,
          3.7125,
          3.3425,
          3.8625,
          3.8375,
          3.675,
          3.525,
          2.9,
          3.54,
          3.45,
          3.9875,
          3.4375,
          3.3375,
          3.505,
          3.5,
          2.9775,
          3.2175,
          3.4,
          3.8375,
          3.5675,
          3.775,
          3.9,
          3.525,
          3.7625,
          3.75,
          3.4825,
          3.025,
          3.2125,
          3.075,
          3.55,
          3.3625,
          3.2625,
          3.2975,
          3.4625,
          3.75,
          3.25,
          3.4875,
          3.425,
          3.2,
          2.5525,
          3.625,
          3.45,
          2.9025,
          3.0875,
          3.125,
          3.16,
          2.885,
          3.65,
          3.725,
          2.875,
          2.75,
          3.4125,
          3.1975,
          3.55,
          3.7,
          3.1225,
          3.06,
          3.345,
          3.4875,
          3.6375,
          3.175,
          3.775,
          3.75,
          2.6325,
          3.6625,
          3.5625,
          2.925,
          3.1625,
          4.1125,
          3.445,
          2.9375,
          3.4875,
          3.425,
          3.8375,
          2.8,
          3.175,
          3.39,
          2.3025,
          2.8325
         ]
        },
        {
         "boxpoints": false,
         "line": {
          "width": 1.3
         },
         "marker": {
          "color": "rgba(128, 0, 128, 1.0)"
         },
         "name": "PR Average",
         "orientation": "v",
         "type": "box",
         "y": [
          3.8025,
          3.85,
          3.445,
          3.207,
          2.8985,
          3.5875,
          3.376,
          3.5375,
          3.155,
          4.031,
          3.4125,
          3,
          2.975,
          3.2725,
          2.907,
          3.775,
          3.015,
          3.035,
          2.8675,
          2.436,
          3.11,
          3.345,
          3.3375,
          3.62,
          3.009,
          3.1325,
          3.455,
          3.2555,
          3.145,
          3.0325,
          3.3,
          3.0375,
          3.28,
          3.0025,
          3.465,
          2.995,
          3.4175,
          2.6465,
          3.2225,
          3.3625,
          3.52,
          3.28,
          3.11,
          3,
          3.3525,
          3.41,
          2.4995,
          3.2575,
          2.396,
          3.39,
          2.697,
          3.485,
          3.0775,
          3.43,
          3.127,
          2.905,
          3.291,
          3.7675,
          2.8025,
          3.625,
          3.1415,
          3.042,
          3.5,
          3.3325,
          2.856,
          3.025,
          3.1705,
          2.681,
          3.195,
          3.1965,
          3.34,
          2.2905,
          2.741,
          3.2625,
          3.2225,
          2.7095,
          3.3725,
          2.9795,
          3.1595,
          2.6325,
          3.165,
          3.5785,
          3.248,
          2.9335,
          3.855,
          2.7295,
          2.9715,
          3.41,
          3.045,
          3.76,
          3.2075,
          2.793,
          2.9175,
          3.335,
          3.4575,
          3.5475,
          3.0075,
          3.6875,
          2.8685,
          2.0195,
          2.919
         ]
        },
        {
         "boxpoints": false,
         "line": {
          "width": 1.3
         },
         "marker": {
          "color": "rgba(219, 64, 82, 1.0)"
         },
         "name": "Overall LC average",
         "orientation": "v",
         "type": "box",
         "y": [
          3.685625,
          2.562625,
          3.594375,
          3.452375,
          3.355875,
          3.595625,
          3.102875,
          3.633125,
          3.228,
          3.783375,
          3.3575,
          3.038875,
          3.335125,
          3.40625,
          3.09425,
          3.4175,
          3.03125,
          3.175625,
          3.1475,
          2.798375,
          3.098125,
          3.359375,
          3.4145,
          3.530625,
          3.114875,
          3.55075,
          3.313125,
          3.404125,
          3.263,
          3.030625,
          3.53625,
          3.393125,
          3.593125,
          3.1975,
          3.399375,
          3.29125,
          3.445625,
          2.91925,
          3.3425,
          3.393125,
          3.556875,
          3.447375,
          3.33825,
          3.35,
          3.488875,
          3.440625,
          3.146125,
          3.5245,
          3.0285,
          3.438125,
          3.0935,
          3.293,
          3.2625,
          3.754375,
          3.186125,
          3.096875,
          3.3615,
          3.581875,
          2.97575,
          3.46125,
          2.146625,
          3.057125,
          3.29325,
          3.555625,
          2.895875,
          3.373875,
          3.102625,
          2.90475,
          2.99625,
          3.466125,
          3.55875,
          2.592625,
          2.93125,
          3.25375,
          3.09875,
          3.203875,
          3.489375,
          2.99,
          3.014125,
          3.213125,
          3.251375,
          3.604,
          3.207,
          3.278375,
          3.8,
          2.693,
          3.203,
          3.505625,
          3.23125,
          3.566875,
          3.63,
          3.119,
          3.0445,
          3.370625,
          3.501875,
          3.71375,
          3.014875,
          3.558125,
          3.187875,
          2.3,
          2.781625
         ]
        }
       ],
       "layout": {
        "legend": {
         "bgcolor": "#F5F6F9",
         "font": {
          "color": "#4D5663"
         }
        },
        "paper_bgcolor": "#F5F6F9",
        "plot_bgcolor": "#F5F6F9",
        "template": {
         "data": {
          "bar": [
           {
            "error_x": {
             "color": "#2a3f5f"
            },
            "error_y": {
             "color": "#2a3f5f"
            },
            "marker": {
             "line": {
              "color": "#E5ECF6",
              "width": 0.5
             }
            },
            "type": "bar"
           }
          ],
          "barpolar": [
           {
            "marker": {
             "line": {
              "color": "#E5ECF6",
              "width": 0.5
             }
            },
            "type": "barpolar"
           }
          ],
          "carpet": [
           {
            "aaxis": {
             "endlinecolor": "#2a3f5f",
             "gridcolor": "white",
             "linecolor": "white",
             "minorgridcolor": "white",
             "startlinecolor": "#2a3f5f"
            },
            "baxis": {
             "endlinecolor": "#2a3f5f",
             "gridcolor": "white",
             "linecolor": "white",
             "minorgridcolor": "white",
             "startlinecolor": "#2a3f5f"
            },
            "type": "carpet"
           }
          ],
          "choropleth": [
           {
            "colorbar": {
             "outlinewidth": 0,
             "ticks": ""
            },
            "type": "choropleth"
           }
          ],
          "contour": [
           {
            "colorbar": {
             "outlinewidth": 0,
             "ticks": ""
            },
            "colorscale": [
             [
              0,
              "#0d0887"
             ],
             [
              0.1111111111111111,
              "#46039f"
             ],
             [
              0.2222222222222222,
              "#7201a8"
             ],
             [
              0.3333333333333333,
              "#9c179e"
             ],
             [
              0.4444444444444444,
              "#bd3786"
             ],
             [
              0.5555555555555556,
              "#d8576b"
             ],
             [
              0.6666666666666666,
              "#ed7953"
             ],
             [
              0.7777777777777778,
              "#fb9f3a"
             ],
             [
              0.8888888888888888,
              "#fdca26"
             ],
             [
              1,
              "#f0f921"
             ]
            ],
            "type": "contour"
           }
          ],
          "contourcarpet": [
           {
            "colorbar": {
             "outlinewidth": 0,
             "ticks": ""
            },
            "type": "contourcarpet"
           }
          ],
          "heatmap": [
           {
            "colorbar": {
             "outlinewidth": 0,
             "ticks": ""
            },
            "colorscale": [
             [
              0,
              "#0d0887"
             ],
             [
              0.1111111111111111,
              "#46039f"
             ],
             [
              0.2222222222222222,
              "#7201a8"
             ],
             [
              0.3333333333333333,
              "#9c179e"
             ],
             [
              0.4444444444444444,
              "#bd3786"
             ],
             [
              0.5555555555555556,
              "#d8576b"
             ],
             [
              0.6666666666666666,
              "#ed7953"
             ],
             [
              0.7777777777777778,
              "#fb9f3a"
             ],
             [
              0.8888888888888888,
              "#fdca26"
             ],
             [
              1,
              "#f0f921"
             ]
            ],
            "type": "heatmap"
           }
          ],
          "heatmapgl": [
           {
            "colorbar": {
             "outlinewidth": 0,
             "ticks": ""
            },
            "colorscale": [
             [
              0,
              "#0d0887"
             ],
             [
              0.1111111111111111,
              "#46039f"
             ],
             [
              0.2222222222222222,
              "#7201a8"
             ],
             [
              0.3333333333333333,
              "#9c179e"
             ],
             [
              0.4444444444444444,
              "#bd3786"
             ],
             [
              0.5555555555555556,
              "#d8576b"
             ],
             [
              0.6666666666666666,
              "#ed7953"
             ],
             [
              0.7777777777777778,
              "#fb9f3a"
             ],
             [
              0.8888888888888888,
              "#fdca26"
             ],
             [
              1,
              "#f0f921"
             ]
            ],
            "type": "heatmapgl"
           }
          ],
          "histogram": [
           {
            "marker": {
             "colorbar": {
              "outlinewidth": 0,
              "ticks": ""
             }
            },
            "type": "histogram"
           }
          ],
          "histogram2d": [
           {
            "colorbar": {
             "outlinewidth": 0,
             "ticks": ""
            },
            "colorscale": [
             [
              0,
              "#0d0887"
             ],
             [
              0.1111111111111111,
              "#46039f"
             ],
             [
              0.2222222222222222,
              "#7201a8"
             ],
             [
              0.3333333333333333,
              "#9c179e"
             ],
             [
              0.4444444444444444,
              "#bd3786"
             ],
             [
              0.5555555555555556,
              "#d8576b"
             ],
             [
              0.6666666666666666,
              "#ed7953"
             ],
             [
              0.7777777777777778,
              "#fb9f3a"
             ],
             [
              0.8888888888888888,
              "#fdca26"
             ],
             [
              1,
              "#f0f921"
             ]
            ],
            "type": "histogram2d"
           }
          ],
          "histogram2dcontour": [
           {
            "colorbar": {
             "outlinewidth": 0,
             "ticks": ""
            },
            "colorscale": [
             [
              0,
              "#0d0887"
             ],
             [
              0.1111111111111111,
              "#46039f"
             ],
             [
              0.2222222222222222,
              "#7201a8"
             ],
             [
              0.3333333333333333,
              "#9c179e"
             ],
             [
              0.4444444444444444,
              "#bd3786"
             ],
             [
              0.5555555555555556,
              "#d8576b"
             ],
             [
              0.6666666666666666,
              "#ed7953"
             ],
             [
              0.7777777777777778,
              "#fb9f3a"
             ],
             [
              0.8888888888888888,
              "#fdca26"
             ],
             [
              1,
              "#f0f921"
             ]
            ],
            "type": "histogram2dcontour"
           }
          ],
          "mesh3d": [
           {
            "colorbar": {
             "outlinewidth": 0,
             "ticks": ""
            },
            "type": "mesh3d"
           }
          ],
          "parcoords": [
           {
            "line": {
             "colorbar": {
              "outlinewidth": 0,
              "ticks": ""
             }
            },
            "type": "parcoords"
           }
          ],
          "pie": [
           {
            "automargin": true,
            "type": "pie"
           }
          ],
          "scatter": [
           {
            "marker": {
             "colorbar": {
              "outlinewidth": 0,
              "ticks": ""
             }
            },
            "type": "scatter"
           }
          ],
          "scatter3d": [
           {
            "line": {
             "colorbar": {
              "outlinewidth": 0,
              "ticks": ""
             }
            },
            "marker": {
             "colorbar": {
              "outlinewidth": 0,
              "ticks": ""
             }
            },
            "type": "scatter3d"
           }
          ],
          "scattercarpet": [
           {
            "marker": {
             "colorbar": {
              "outlinewidth": 0,
              "ticks": ""
             }
            },
            "type": "scattercarpet"
           }
          ],
          "scattergeo": [
           {
            "marker": {
             "colorbar": {
              "outlinewidth": 0,
              "ticks": ""
             }
            },
            "type": "scattergeo"
           }
          ],
          "scattergl": [
           {
            "marker": {
             "colorbar": {
              "outlinewidth": 0,
              "ticks": ""
             }
            },
            "type": "scattergl"
           }
          ],
          "scattermapbox": [
           {
            "marker": {
             "colorbar": {
              "outlinewidth": 0,
              "ticks": ""
             }
            },
            "type": "scattermapbox"
           }
          ],
          "scatterpolar": [
           {
            "marker": {
             "colorbar": {
              "outlinewidth": 0,
              "ticks": ""
             }
            },
            "type": "scatterpolar"
           }
          ],
          "scatterpolargl": [
           {
            "marker": {
             "colorbar": {
              "outlinewidth": 0,
              "ticks": ""
             }
            },
            "type": "scatterpolargl"
           }
          ],
          "scatterternary": [
           {
            "marker": {
             "colorbar": {
              "outlinewidth": 0,
              "ticks": ""
             }
            },
            "type": "scatterternary"
           }
          ],
          "surface": [
           {
            "colorbar": {
             "outlinewidth": 0,
             "ticks": ""
            },
            "colorscale": [
             [
              0,
              "#0d0887"
             ],
             [
              0.1111111111111111,
              "#46039f"
             ],
             [
              0.2222222222222222,
              "#7201a8"
             ],
             [
              0.3333333333333333,
              "#9c179e"
             ],
             [
              0.4444444444444444,
              "#bd3786"
             ],
             [
              0.5555555555555556,
              "#d8576b"
             ],
             [
              0.6666666666666666,
              "#ed7953"
             ],
             [
              0.7777777777777778,
              "#fb9f3a"
             ],
             [
              0.8888888888888888,
              "#fdca26"
             ],
             [
              1,
              "#f0f921"
             ]
            ],
            "type": "surface"
           }
          ],
          "table": [
           {
            "cells": {
             "fill": {
              "color": "#EBF0F8"
             },
             "line": {
              "color": "white"
             }
            },
            "header": {
             "fill": {
              "color": "#C8D4E3"
             },
             "line": {
              "color": "white"
             }
            },
            "type": "table"
           }
          ]
         },
         "layout": {
          "annotationdefaults": {
           "arrowcolor": "#2a3f5f",
           "arrowhead": 0,
           "arrowwidth": 1
          },
          "coloraxis": {
           "colorbar": {
            "outlinewidth": 0,
            "ticks": ""
           }
          },
          "colorscale": {
           "diverging": [
            [
             0,
             "#8e0152"
            ],
            [
             0.1,
             "#c51b7d"
            ],
            [
             0.2,
             "#de77ae"
            ],
            [
             0.3,
             "#f1b6da"
            ],
            [
             0.4,
             "#fde0ef"
            ],
            [
             0.5,
             "#f7f7f7"
            ],
            [
             0.6,
             "#e6f5d0"
            ],
            [
             0.7,
             "#b8e186"
            ],
            [
             0.8,
             "#7fbc41"
            ],
            [
             0.9,
             "#4d9221"
            ],
            [
             1,
             "#276419"
            ]
           ],
           "sequential": [
            [
             0,
             "#0d0887"
            ],
            [
             0.1111111111111111,
             "#46039f"
            ],
            [
             0.2222222222222222,
             "#7201a8"
            ],
            [
             0.3333333333333333,
             "#9c179e"
            ],
            [
             0.4444444444444444,
             "#bd3786"
            ],
            [
             0.5555555555555556,
             "#d8576b"
            ],
            [
             0.6666666666666666,
             "#ed7953"
            ],
            [
             0.7777777777777778,
             "#fb9f3a"
            ],
            [
             0.8888888888888888,
             "#fdca26"
            ],
            [
             1,
             "#f0f921"
            ]
           ],
           "sequentialminus": [
            [
             0,
             "#0d0887"
            ],
            [
             0.1111111111111111,
             "#46039f"
            ],
            [
             0.2222222222222222,
             "#7201a8"
            ],
            [
             0.3333333333333333,
             "#9c179e"
            ],
            [
             0.4444444444444444,
             "#bd3786"
            ],
            [
             0.5555555555555556,
             "#d8576b"
            ],
            [
             0.6666666666666666,
             "#ed7953"
            ],
            [
             0.7777777777777778,
             "#fb9f3a"
            ],
            [
             0.8888888888888888,
             "#fdca26"
            ],
            [
             1,
             "#f0f921"
            ]
           ]
          },
          "colorway": [
           "#636efa",
           "#EF553B",
           "#00cc96",
           "#ab63fa",
           "#FFA15A",
           "#19d3f3",
           "#FF6692",
           "#B6E880",
           "#FF97FF",
           "#FECB52"
          ],
          "font": {
           "color": "#2a3f5f"
          },
          "geo": {
           "bgcolor": "white",
           "lakecolor": "white",
           "landcolor": "#E5ECF6",
           "showlakes": true,
           "showland": true,
           "subunitcolor": "white"
          },
          "hoverlabel": {
           "align": "left"
          },
          "hovermode": "closest",
          "mapbox": {
           "style": "light"
          },
          "paper_bgcolor": "white",
          "plot_bgcolor": "#E5ECF6",
          "polar": {
           "angularaxis": {
            "gridcolor": "white",
            "linecolor": "white",
            "ticks": ""
           },
           "bgcolor": "#E5ECF6",
           "radialaxis": {
            "gridcolor": "white",
            "linecolor": "white",
            "ticks": ""
           }
          },
          "scene": {
           "xaxis": {
            "backgroundcolor": "#E5ECF6",
            "gridcolor": "white",
            "gridwidth": 2,
            "linecolor": "white",
            "showbackground": true,
            "ticks": "",
            "zerolinecolor": "white"
           },
           "yaxis": {
            "backgroundcolor": "#E5ECF6",
            "gridcolor": "white",
            "gridwidth": 2,
            "linecolor": "white",
            "showbackground": true,
            "ticks": "",
            "zerolinecolor": "white"
           },
           "zaxis": {
            "backgroundcolor": "#E5ECF6",
            "gridcolor": "white",
            "gridwidth": 2,
            "linecolor": "white",
            "showbackground": true,
            "ticks": "",
            "zerolinecolor": "white"
           }
          },
          "shapedefaults": {
           "line": {
            "color": "#2a3f5f"
           }
          },
          "ternary": {
           "aaxis": {
            "gridcolor": "white",
            "linecolor": "white",
            "ticks": ""
           },
           "baxis": {
            "gridcolor": "white",
            "linecolor": "white",
            "ticks": ""
           },
           "bgcolor": "#E5ECF6",
           "caxis": {
            "gridcolor": "white",
            "linecolor": "white",
            "ticks": ""
           }
          },
          "title": {
           "x": 0.05
          },
          "xaxis": {
           "automargin": true,
           "gridcolor": "white",
           "linecolor": "white",
           "ticks": "",
           "title": {
            "standoff": 15
           },
           "zerolinecolor": "white",
           "zerolinewidth": 2
          },
          "yaxis": {
           "automargin": true,
           "gridcolor": "white",
           "linecolor": "white",
           "ticks": "",
           "title": {
            "standoff": 15
           },
           "zerolinecolor": "white",
           "zerolinewidth": 2
          }
         }
        },
        "title": {
         "font": {
          "color": "#4D5663"
         },
         "text": "average grade per module of all students"
        },
        "xaxis": {
         "gridcolor": "#E1E5ED",
         "showgrid": true,
         "tickfont": {
          "color": "#4D5663"
         },
         "title": {
          "font": {
           "color": "#4D5663"
          },
          "text": ""
         },
         "zerolinecolor": "#E1E5ED"
        },
        "yaxis": {
         "gridcolor": "#E1E5ED",
         "showgrid": true,
         "tickfont": {
          "color": "#4D5663"
         },
         "title": {
          "font": {
           "color": "#4D5663"
          },
          "text": ""
         },
         "zerolinecolor": "#E1E5ED"
        }
       }
      },
      "text/html": [
       "<div>\n",
       "        \n",
       "        \n",
       "            <div id=\"3ac4a7c7-63ff-4852-b3e5-b2604b074928\" class=\"plotly-graph-div\" style=\"height:525px; width:100%;\"></div>\n",
       "            <script type=\"text/javascript\">\n",
       "                require([\"plotly\"], function(Plotly) {\n",
       "                    window.PLOTLYENV=window.PLOTLYENV || {};\n",
       "                    window.PLOTLYENV.BASE_URL='https://plot.ly';\n",
       "                    \n",
       "                if (document.getElementById(\"3ac4a7c7-63ff-4852-b3e5-b2604b074928\")) {\n",
       "                    Plotly.newPlot(\n",
       "                        '3ac4a7c7-63ff-4852-b3e5-b2604b074928',\n",
       "                        [{\"boxpoints\": false, \"line\": {\"width\": 1.3}, \"marker\": {\"color\": \"rgba(255, 153, 51, 1.0)\"}, \"name\": \"CI average\", \"orientation\": \"v\", \"type\": \"box\", \"y\": [3.485, 0.0, 3.865, 3.455, 3.565, 3.77, 2.82, 3.885, 3.095, 3.93, 3.555, 3.18, 3.02, 3.6, 3.46, 2.575, 2.6, 2.68, 3.26, 2.6425, 2.93, 2.885, 2.995, 3.125, 3.225, 3.205, 2.365, 3.46, 3.45, 2.845, 3.55, 3.73, 3.7, 3.095, 3.455, 3.25, 3.49, 2.955, 3.335, 3.545, 3.605, 3.67, 3.325, 3.31, 3.865, 3.285, 3.415, 3.595, 3.575, 3.115, 3.13, 2.8, 3.22, 4.355, 3.115, 2.855, 3.14, 3.77, 3.01, 3.205, 0.0, 3.465, 2.235, 3.75, 2.84, 3.63, 2.965, 2.985, 2.615, 3.68, 3.39, 2.385, 2.82, 3.235, 3.245, 3.56, 3.62, 2.773, 2.755, 3.09, 3.34, 3.99, 3.055, 3.05, 3.81, 2.7, 3.15, 3.435, 3.09, 3.345, 3.765, 3.09, 3.03, 3.285, 3.325, 3.915, 3.26, 3.75, 3.265, 2.425, 2.43]}, {\"boxpoints\": false, \"line\": {\"width\": 1.3}, \"marker\": {\"color\": \"rgba(55, 128, 191, 1.0)\"}, \"name\": \"DD average\", \"orientation\": \"v\", \"type\": \"box\", \"y\": [3.755, 2.313, 3.33, 3.575, 3.285, 3.475, 2.863, 3.16, 3.212, 3.535, 3.275, 2.888, 3.533, 3.565, 3.085, 3.395, 3.435, 3.355, 2.9, 3.215, 3.115, 3.62, 3.738, 3.665, 2.883, 4.003, 3.595, 3.226, 2.932, 3.345, 3.755, 3.355, 3.405, 3.255, 3.34, 3.415, 3.375, 3.098, 3.595, 3.265, 3.265, 3.272, 3.143, 3.19, 3.213, 3.305, 2.92, 3.763, 3.118, 4.035, 3.472, 3.337, 3.39, 3.97, 3.205, 3.165, 3.265, 3.54, 2.603, 3.59, 2.245, 3.169, 3.813, 3.69, 2.985, 3.753, 3.15, 2.793, 3.29, 3.338, 3.78, 2.82, 3.414, 3.105, 2.73, 2.996, 3.265, 3.085, 3.082, 3.785, 3.013, 3.21, 3.35, 3.355, 3.785, 2.71, 3.028, 3.615, 3.865, 4.0, 3.435, 3.148, 3.293, 3.375, 3.8, 3.555, 2.992, 3.62, 3.228, 2.453, 2.945]}, {\"boxpoints\": false, \"line\": {\"width\": 1.3}, \"marker\": {\"color\": \"rgba(50, 171, 96, 1.0)\"}, \"name\": \"EL Average\", \"orientation\": \"v\", \"type\": \"box\", \"y\": [3.7, 4.0875, 3.7375, 3.5725, 3.675, 3.55, 3.3525, 3.95, 3.45, 3.6375, 3.1875, 3.0875, 3.8125, 3.1875, 2.925, 3.925, 3.075, 3.6325, 3.5625, 2.9, 3.2375, 3.5875, 3.5875, 3.7125, 3.3425, 3.8625, 3.8375, 3.675, 3.525, 2.9, 3.54, 3.45, 3.9875, 3.4375, 3.3375, 3.505, 3.5, 2.9775, 3.2175, 3.4, 3.8375, 3.5675, 3.775, 3.9, 3.525, 3.7625, 3.75, 3.4825, 3.025, 3.2125, 3.075, 3.55, 3.3625, 3.2625, 3.2975, 3.4625, 3.75, 3.25, 3.4875, 3.425, 3.2, 2.5525, 3.625, 3.45, 2.9025, 3.0875, 3.125, 3.16, 2.885, 3.65, 3.725, 2.875, 2.75, 3.4125, 3.1975, 3.55, 3.7, 3.1225, 3.06, 3.345, 3.4875, 3.6375, 3.175, 3.775, 3.75, 2.6325, 3.6625, 3.5625, 2.925, 3.1625, 4.1125, 3.445, 2.9375, 3.4875, 3.425, 3.8375, 2.8, 3.175, 3.39, 2.3025, 2.8325]}, {\"boxpoints\": false, \"line\": {\"width\": 1.3}, \"marker\": {\"color\": \"rgba(128, 0, 128, 1.0)\"}, \"name\": \"PR Average\", \"orientation\": \"v\", \"type\": \"box\", \"y\": [3.8025, 3.85, 3.445, 3.207, 2.8985, 3.5875, 3.376, 3.5375, 3.155, 4.031, 3.4125, 3.0, 2.975, 3.2725, 2.907, 3.775, 3.015, 3.035, 2.8675, 2.436, 3.11, 3.345, 3.3375, 3.62, 3.009, 3.1325, 3.455, 3.2555, 3.145, 3.0325, 3.3, 3.0375, 3.28, 3.0025, 3.465, 2.995, 3.4175, 2.6465, 3.2225, 3.3625, 3.52, 3.28, 3.11, 3.0, 3.3525, 3.41, 2.4995, 3.2575, 2.396, 3.39, 2.697, 3.485, 3.0775, 3.43, 3.127, 2.905, 3.291, 3.7675, 2.8025, 3.625, 3.1415, 3.042, 3.5, 3.3325, 2.856, 3.025, 3.1705, 2.681, 3.195, 3.1965, 3.34, 2.2905, 2.741, 3.2625, 3.2225, 2.7095, 3.3725, 2.9795, 3.1595, 2.6325, 3.165, 3.5785, 3.248, 2.9335, 3.855, 2.7295, 2.9715, 3.41, 3.045, 3.76, 3.2075, 2.793, 2.9175, 3.335, 3.4575, 3.5475, 3.0075, 3.6875, 2.8685, 2.0195, 2.919]}, {\"boxpoints\": false, \"line\": {\"width\": 1.3}, \"marker\": {\"color\": \"rgba(219, 64, 82, 1.0)\"}, \"name\": \"Overall LC average\", \"orientation\": \"v\", \"type\": \"box\", \"y\": [3.685625, 2.562625, 3.594375, 3.452375, 3.355875, 3.595625, 3.102875, 3.633125, 3.228, 3.783375, 3.3575, 3.038875, 3.335125, 3.40625, 3.09425, 3.4175, 3.03125, 3.175625, 3.1475, 2.798375, 3.098125, 3.359375, 3.4145, 3.530625, 3.114875, 3.55075, 3.313125, 3.404125, 3.263, 3.030625, 3.53625, 3.393125, 3.593125, 3.1975, 3.399375, 3.29125, 3.445625, 2.91925, 3.3425, 3.393125, 3.556875, 3.447375, 3.33825, 3.35, 3.488875, 3.440625, 3.146125, 3.5245, 3.0285, 3.438125, 3.0935, 3.293, 3.2625, 3.754375, 3.186125, 3.096875, 3.3615, 3.581875, 2.97575, 3.46125, 2.146625, 3.057125, 3.29325, 3.555625, 2.895875, 3.373875, 3.102625, 2.90475, 2.99625, 3.466125, 3.55875, 2.592625, 2.93125, 3.25375, 3.09875, 3.203875, 3.489375, 2.99, 3.014125, 3.213125, 3.251375, 3.604, 3.207, 3.278375, 3.8, 2.693, 3.203, 3.505625, 3.23125, 3.566875, 3.63, 3.119, 3.0445, 3.370625, 3.501875, 3.71375, 3.014875, 3.558125, 3.187875, 2.3, 2.781625]}],\n",
       "                        {\"legend\": {\"bgcolor\": \"#F5F6F9\", \"font\": {\"color\": \"#4D5663\"}}, \"paper_bgcolor\": \"#F5F6F9\", \"plot_bgcolor\": \"#F5F6F9\", \"template\": {\"data\": {\"bar\": [{\"error_x\": {\"color\": \"#2a3f5f\"}, \"error_y\": {\"color\": \"#2a3f5f\"}, \"marker\": {\"line\": {\"color\": \"#E5ECF6\", \"width\": 0.5}}, \"type\": \"bar\"}], \"barpolar\": [{\"marker\": {\"line\": {\"color\": \"#E5ECF6\", \"width\": 0.5}}, \"type\": \"barpolar\"}], \"carpet\": [{\"aaxis\": {\"endlinecolor\": \"#2a3f5f\", \"gridcolor\": \"white\", \"linecolor\": \"white\", \"minorgridcolor\": \"white\", \"startlinecolor\": \"#2a3f5f\"}, \"baxis\": {\"endlinecolor\": \"#2a3f5f\", \"gridcolor\": \"white\", \"linecolor\": \"white\", \"minorgridcolor\": \"white\", \"startlinecolor\": \"#2a3f5f\"}, \"type\": \"carpet\"}], \"choropleth\": [{\"colorbar\": {\"outlinewidth\": 0, \"ticks\": \"\"}, \"type\": \"choropleth\"}], \"contour\": [{\"colorbar\": {\"outlinewidth\": 0, \"ticks\": \"\"}, \"colorscale\": [[0.0, \"#0d0887\"], [0.1111111111111111, \"#46039f\"], [0.2222222222222222, \"#7201a8\"], [0.3333333333333333, \"#9c179e\"], [0.4444444444444444, \"#bd3786\"], [0.5555555555555556, \"#d8576b\"], [0.6666666666666666, \"#ed7953\"], [0.7777777777777778, \"#fb9f3a\"], [0.8888888888888888, \"#fdca26\"], [1.0, \"#f0f921\"]], \"type\": \"contour\"}], \"contourcarpet\": [{\"colorbar\": {\"outlinewidth\": 0, \"ticks\": \"\"}, \"type\": \"contourcarpet\"}], \"heatmap\": [{\"colorbar\": {\"outlinewidth\": 0, \"ticks\": \"\"}, \"colorscale\": [[0.0, \"#0d0887\"], [0.1111111111111111, \"#46039f\"], [0.2222222222222222, \"#7201a8\"], [0.3333333333333333, \"#9c179e\"], [0.4444444444444444, \"#bd3786\"], [0.5555555555555556, \"#d8576b\"], [0.6666666666666666, \"#ed7953\"], [0.7777777777777778, \"#fb9f3a\"], [0.8888888888888888, \"#fdca26\"], [1.0, \"#f0f921\"]], \"type\": \"heatmap\"}], \"heatmapgl\": [{\"colorbar\": {\"outlinewidth\": 0, \"ticks\": \"\"}, \"colorscale\": [[0.0, \"#0d0887\"], [0.1111111111111111, \"#46039f\"], [0.2222222222222222, \"#7201a8\"], [0.3333333333333333, \"#9c179e\"], [0.4444444444444444, \"#bd3786\"], [0.5555555555555556, \"#d8576b\"], [0.6666666666666666, \"#ed7953\"], [0.7777777777777778, \"#fb9f3a\"], [0.8888888888888888, \"#fdca26\"], [1.0, \"#f0f921\"]], \"type\": \"heatmapgl\"}], \"histogram\": [{\"marker\": {\"colorbar\": {\"outlinewidth\": 0, \"ticks\": \"\"}}, \"type\": \"histogram\"}], \"histogram2d\": [{\"colorbar\": {\"outlinewidth\": 0, \"ticks\": \"\"}, \"colorscale\": [[0.0, \"#0d0887\"], [0.1111111111111111, \"#46039f\"], [0.2222222222222222, \"#7201a8\"], [0.3333333333333333, \"#9c179e\"], [0.4444444444444444, \"#bd3786\"], [0.5555555555555556, \"#d8576b\"], [0.6666666666666666, \"#ed7953\"], [0.7777777777777778, \"#fb9f3a\"], [0.8888888888888888, \"#fdca26\"], [1.0, \"#f0f921\"]], \"type\": \"histogram2d\"}], \"histogram2dcontour\": [{\"colorbar\": {\"outlinewidth\": 0, \"ticks\": \"\"}, \"colorscale\": [[0.0, \"#0d0887\"], [0.1111111111111111, \"#46039f\"], [0.2222222222222222, \"#7201a8\"], [0.3333333333333333, \"#9c179e\"], [0.4444444444444444, \"#bd3786\"], [0.5555555555555556, \"#d8576b\"], [0.6666666666666666, \"#ed7953\"], [0.7777777777777778, \"#fb9f3a\"], [0.8888888888888888, \"#fdca26\"], [1.0, \"#f0f921\"]], \"type\": \"histogram2dcontour\"}], \"mesh3d\": [{\"colorbar\": {\"outlinewidth\": 0, \"ticks\": \"\"}, \"type\": \"mesh3d\"}], \"parcoords\": [{\"line\": {\"colorbar\": {\"outlinewidth\": 0, \"ticks\": \"\"}}, \"type\": \"parcoords\"}], \"pie\": [{\"automargin\": true, \"type\": \"pie\"}], \"scatter\": [{\"marker\": {\"colorbar\": {\"outlinewidth\": 0, \"ticks\": \"\"}}, \"type\": \"scatter\"}], \"scatter3d\": [{\"line\": {\"colorbar\": {\"outlinewidth\": 0, \"ticks\": \"\"}}, \"marker\": {\"colorbar\": {\"outlinewidth\": 0, \"ticks\": \"\"}}, \"type\": \"scatter3d\"}], \"scattercarpet\": [{\"marker\": {\"colorbar\": {\"outlinewidth\": 0, \"ticks\": \"\"}}, \"type\": \"scattercarpet\"}], \"scattergeo\": [{\"marker\": {\"colorbar\": {\"outlinewidth\": 0, \"ticks\": \"\"}}, \"type\": \"scattergeo\"}], \"scattergl\": [{\"marker\": {\"colorbar\": {\"outlinewidth\": 0, \"ticks\": \"\"}}, \"type\": \"scattergl\"}], \"scattermapbox\": [{\"marker\": {\"colorbar\": {\"outlinewidth\": 0, \"ticks\": \"\"}}, \"type\": \"scattermapbox\"}], \"scatterpolar\": [{\"marker\": {\"colorbar\": {\"outlinewidth\": 0, \"ticks\": \"\"}}, \"type\": \"scatterpolar\"}], \"scatterpolargl\": [{\"marker\": {\"colorbar\": {\"outlinewidth\": 0, \"ticks\": \"\"}}, \"type\": \"scatterpolargl\"}], \"scatterternary\": [{\"marker\": {\"colorbar\": {\"outlinewidth\": 0, \"ticks\": \"\"}}, \"type\": \"scatterternary\"}], \"surface\": [{\"colorbar\": {\"outlinewidth\": 0, \"ticks\": \"\"}, \"colorscale\": [[0.0, \"#0d0887\"], [0.1111111111111111, \"#46039f\"], [0.2222222222222222, \"#7201a8\"], [0.3333333333333333, \"#9c179e\"], [0.4444444444444444, \"#bd3786\"], [0.5555555555555556, \"#d8576b\"], [0.6666666666666666, \"#ed7953\"], [0.7777777777777778, \"#fb9f3a\"], [0.8888888888888888, \"#fdca26\"], [1.0, \"#f0f921\"]], \"type\": \"surface\"}], \"table\": [{\"cells\": {\"fill\": {\"color\": \"#EBF0F8\"}, \"line\": {\"color\": \"white\"}}, \"header\": {\"fill\": {\"color\": \"#C8D4E3\"}, \"line\": {\"color\": \"white\"}}, \"type\": \"table\"}]}, \"layout\": {\"annotationdefaults\": {\"arrowcolor\": \"#2a3f5f\", \"arrowhead\": 0, \"arrowwidth\": 1}, \"coloraxis\": {\"colorbar\": {\"outlinewidth\": 0, \"ticks\": \"\"}}, \"colorscale\": {\"diverging\": [[0, \"#8e0152\"], [0.1, \"#c51b7d\"], [0.2, \"#de77ae\"], [0.3, \"#f1b6da\"], [0.4, \"#fde0ef\"], [0.5, \"#f7f7f7\"], [0.6, \"#e6f5d0\"], [0.7, \"#b8e186\"], [0.8, \"#7fbc41\"], [0.9, \"#4d9221\"], [1, \"#276419\"]], \"sequential\": [[0.0, \"#0d0887\"], [0.1111111111111111, \"#46039f\"], [0.2222222222222222, \"#7201a8\"], [0.3333333333333333, \"#9c179e\"], [0.4444444444444444, \"#bd3786\"], [0.5555555555555556, \"#d8576b\"], [0.6666666666666666, \"#ed7953\"], [0.7777777777777778, \"#fb9f3a\"], [0.8888888888888888, \"#fdca26\"], [1.0, \"#f0f921\"]], \"sequentialminus\": [[0.0, \"#0d0887\"], [0.1111111111111111, \"#46039f\"], [0.2222222222222222, \"#7201a8\"], [0.3333333333333333, \"#9c179e\"], [0.4444444444444444, \"#bd3786\"], [0.5555555555555556, \"#d8576b\"], [0.6666666666666666, \"#ed7953\"], [0.7777777777777778, \"#fb9f3a\"], [0.8888888888888888, \"#fdca26\"], [1.0, \"#f0f921\"]]}, \"colorway\": [\"#636efa\", \"#EF553B\", \"#00cc96\", \"#ab63fa\", \"#FFA15A\", \"#19d3f3\", \"#FF6692\", \"#B6E880\", \"#FF97FF\", \"#FECB52\"], \"font\": {\"color\": \"#2a3f5f\"}, \"geo\": {\"bgcolor\": \"white\", \"lakecolor\": \"white\", \"landcolor\": \"#E5ECF6\", \"showlakes\": true, \"showland\": true, \"subunitcolor\": \"white\"}, \"hoverlabel\": {\"align\": \"left\"}, \"hovermode\": \"closest\", \"mapbox\": {\"style\": \"light\"}, \"paper_bgcolor\": \"white\", \"plot_bgcolor\": \"#E5ECF6\", \"polar\": {\"angularaxis\": {\"gridcolor\": \"white\", \"linecolor\": \"white\", \"ticks\": \"\"}, \"bgcolor\": \"#E5ECF6\", \"radialaxis\": {\"gridcolor\": \"white\", \"linecolor\": \"white\", \"ticks\": \"\"}}, \"scene\": {\"xaxis\": {\"backgroundcolor\": \"#E5ECF6\", \"gridcolor\": \"white\", \"gridwidth\": 2, \"linecolor\": \"white\", \"showbackground\": true, \"ticks\": \"\", \"zerolinecolor\": \"white\"}, \"yaxis\": {\"backgroundcolor\": \"#E5ECF6\", \"gridcolor\": \"white\", \"gridwidth\": 2, \"linecolor\": \"white\", \"showbackground\": true, \"ticks\": \"\", \"zerolinecolor\": \"white\"}, \"zaxis\": {\"backgroundcolor\": \"#E5ECF6\", \"gridcolor\": \"white\", \"gridwidth\": 2, \"linecolor\": \"white\", \"showbackground\": true, \"ticks\": \"\", \"zerolinecolor\": \"white\"}}, \"shapedefaults\": {\"line\": {\"color\": \"#2a3f5f\"}}, \"ternary\": {\"aaxis\": {\"gridcolor\": \"white\", \"linecolor\": \"white\", \"ticks\": \"\"}, \"baxis\": {\"gridcolor\": \"white\", \"linecolor\": \"white\", \"ticks\": \"\"}, \"bgcolor\": \"#E5ECF6\", \"caxis\": {\"gridcolor\": \"white\", \"linecolor\": \"white\", \"ticks\": \"\"}}, \"title\": {\"x\": 0.05}, \"xaxis\": {\"automargin\": true, \"gridcolor\": \"white\", \"linecolor\": \"white\", \"ticks\": \"\", \"title\": {\"standoff\": 15}, \"zerolinecolor\": \"white\", \"zerolinewidth\": 2}, \"yaxis\": {\"automargin\": true, \"gridcolor\": \"white\", \"linecolor\": \"white\", \"ticks\": \"\", \"title\": {\"standoff\": 15}, \"zerolinecolor\": \"white\", \"zerolinewidth\": 2}}}, \"title\": {\"font\": {\"color\": \"#4D5663\"}, \"text\": \"average grade per module of all students\"}, \"xaxis\": {\"gridcolor\": \"#E1E5ED\", \"showgrid\": true, \"tickfont\": {\"color\": \"#4D5663\"}, \"title\": {\"font\": {\"color\": \"#4D5663\"}, \"text\": \"\"}, \"zerolinecolor\": \"#E1E5ED\"}, \"yaxis\": {\"gridcolor\": \"#E1E5ED\", \"showgrid\": true, \"tickfont\": {\"color\": \"#4D5663\"}, \"title\": {\"font\": {\"color\": \"#4D5663\"}, \"text\": \"\"}, \"zerolinecolor\": \"#E1E5ED\"}},\n",
       "                        {\"showLink\": true, \"linkText\": \"Export to plot.ly\", \"plotlyServerURL\": \"https://plot.ly\", \"responsive\": true}\n",
       "                    ).then(function(){\n",
       "                            \n",
       "var gd = document.getElementById('3ac4a7c7-63ff-4852-b3e5-b2604b074928');\n",
       "var x = new MutationObserver(function (mutations, observer) {{\n",
       "        var display = window.getComputedStyle(gd).display;\n",
       "        if (!display || display === 'none') {{\n",
       "            console.log([gd, 'removed!']);\n",
       "            Plotly.purge(gd);\n",
       "            observer.disconnect();\n",
       "        }}\n",
       "}});\n",
       "\n",
       "// Listen for the removal of the full notebook cells\n",
       "var notebookContainer = gd.closest('#notebook-container');\n",
       "if (notebookContainer) {{\n",
       "    x.observe(notebookContainer, {childList: true});\n",
       "}}\n",
       "\n",
       "// Listen for the clearing of the current output cell\n",
       "var outputEl = gd.closest('.output');\n",
       "if (outputEl) {{\n",
       "    x.observe(outputEl, {childList: true});\n",
       "}}\n",
       "\n",
       "                        })\n",
       "                };\n",
       "                });\n",
       "            </script>\n",
       "        </div>"
      ]
     },
     "metadata": {},
     "output_type": "display_data"
    }
   ],
   "source": [
    "df_grades[['CI average','DD average','EL Average','PR Average','Overall LC average']].iplot(kind='box', title='average grade per module of all students')"
   ]
  },
  {
   "cell_type": "code",
   "execution_count": 87,
   "metadata": {},
   "outputs": [
    {
     "data": {
      "application/vnd.plotly.v1+json": {
       "config": {
        "linkText": "Export to plot.ly",
        "plotlyServerURL": "https://plot.ly",
        "showLink": true
       },
       "data": [
        {
         "boxpoints": false,
         "line": {
          "width": 1.3
         },
         "marker": {
          "color": "rgba(255, 153, 51, 1.0)"
         },
         "name": "CI average",
         "orientation": "v",
         "type": "box",
         "y": [
          0,
          2.6425,
          2.955,
          3.01,
          0,
          2.84,
          2.985,
          2.615,
          2.385,
          2.82,
          2.773,
          2.7,
          2.425,
          2.43
         ]
        },
        {
         "boxpoints": false,
         "line": {
          "width": 1.3
         },
         "marker": {
          "color": "rgba(55, 128, 191, 1.0)"
         },
         "name": "DD average",
         "orientation": "v",
         "type": "box",
         "y": [
          2.313,
          3.215,
          3.098,
          2.603,
          2.245,
          2.985,
          2.793,
          3.29,
          2.82,
          3.414,
          3.085,
          2.71,
          2.453,
          2.945
         ]
        },
        {
         "boxpoints": false,
         "line": {
          "width": 1.3
         },
         "marker": {
          "color": "rgba(50, 171, 96, 1.0)"
         },
         "name": "EL Average",
         "orientation": "v",
         "type": "box",
         "y": [
          4.0875,
          2.9,
          2.9775,
          3.4875,
          3.2,
          2.9025,
          3.16,
          2.885,
          2.875,
          2.75,
          3.1225,
          2.6325,
          2.3025,
          2.8325
         ]
        },
        {
         "boxpoints": false,
         "line": {
          "width": 1.3
         },
         "marker": {
          "color": "rgba(128, 0, 128, 1.0)"
         },
         "name": "PR Average",
         "orientation": "v",
         "type": "box",
         "y": [
          3.85,
          2.436,
          2.6465,
          2.8025,
          3.1415,
          2.856,
          2.681,
          3.195,
          2.2905,
          2.741,
          2.9795,
          2.7295,
          2.0195,
          2.919
         ]
        },
        {
         "boxpoints": false,
         "line": {
          "width": 1.3
         },
         "marker": {
          "color": "rgba(219, 64, 82, 1.0)"
         },
         "name": "Overall LC average",
         "orientation": "v",
         "type": "box",
         "y": [
          2.562625,
          2.798375,
          2.91925,
          2.97575,
          2.146625,
          2.895875,
          2.90475,
          2.99625,
          2.592625,
          2.93125,
          2.99,
          2.693,
          2.3,
          2.781625
         ]
        }
       ],
       "layout": {
        "legend": {
         "bgcolor": "#F5F6F9",
         "font": {
          "color": "#4D5663"
         }
        },
        "paper_bgcolor": "#F5F6F9",
        "plot_bgcolor": "#F5F6F9",
        "template": {
         "data": {
          "bar": [
           {
            "error_x": {
             "color": "#2a3f5f"
            },
            "error_y": {
             "color": "#2a3f5f"
            },
            "marker": {
             "line": {
              "color": "#E5ECF6",
              "width": 0.5
             }
            },
            "type": "bar"
           }
          ],
          "barpolar": [
           {
            "marker": {
             "line": {
              "color": "#E5ECF6",
              "width": 0.5
             }
            },
            "type": "barpolar"
           }
          ],
          "carpet": [
           {
            "aaxis": {
             "endlinecolor": "#2a3f5f",
             "gridcolor": "white",
             "linecolor": "white",
             "minorgridcolor": "white",
             "startlinecolor": "#2a3f5f"
            },
            "baxis": {
             "endlinecolor": "#2a3f5f",
             "gridcolor": "white",
             "linecolor": "white",
             "minorgridcolor": "white",
             "startlinecolor": "#2a3f5f"
            },
            "type": "carpet"
           }
          ],
          "choropleth": [
           {
            "colorbar": {
             "outlinewidth": 0,
             "ticks": ""
            },
            "type": "choropleth"
           }
          ],
          "contour": [
           {
            "colorbar": {
             "outlinewidth": 0,
             "ticks": ""
            },
            "colorscale": [
             [
              0,
              "#0d0887"
             ],
             [
              0.1111111111111111,
              "#46039f"
             ],
             [
              0.2222222222222222,
              "#7201a8"
             ],
             [
              0.3333333333333333,
              "#9c179e"
             ],
             [
              0.4444444444444444,
              "#bd3786"
             ],
             [
              0.5555555555555556,
              "#d8576b"
             ],
             [
              0.6666666666666666,
              "#ed7953"
             ],
             [
              0.7777777777777778,
              "#fb9f3a"
             ],
             [
              0.8888888888888888,
              "#fdca26"
             ],
             [
              1,
              "#f0f921"
             ]
            ],
            "type": "contour"
           }
          ],
          "contourcarpet": [
           {
            "colorbar": {
             "outlinewidth": 0,
             "ticks": ""
            },
            "type": "contourcarpet"
           }
          ],
          "heatmap": [
           {
            "colorbar": {
             "outlinewidth": 0,
             "ticks": ""
            },
            "colorscale": [
             [
              0,
              "#0d0887"
             ],
             [
              0.1111111111111111,
              "#46039f"
             ],
             [
              0.2222222222222222,
              "#7201a8"
             ],
             [
              0.3333333333333333,
              "#9c179e"
             ],
             [
              0.4444444444444444,
              "#bd3786"
             ],
             [
              0.5555555555555556,
              "#d8576b"
             ],
             [
              0.6666666666666666,
              "#ed7953"
             ],
             [
              0.7777777777777778,
              "#fb9f3a"
             ],
             [
              0.8888888888888888,
              "#fdca26"
             ],
             [
              1,
              "#f0f921"
             ]
            ],
            "type": "heatmap"
           }
          ],
          "heatmapgl": [
           {
            "colorbar": {
             "outlinewidth": 0,
             "ticks": ""
            },
            "colorscale": [
             [
              0,
              "#0d0887"
             ],
             [
              0.1111111111111111,
              "#46039f"
             ],
             [
              0.2222222222222222,
              "#7201a8"
             ],
             [
              0.3333333333333333,
              "#9c179e"
             ],
             [
              0.4444444444444444,
              "#bd3786"
             ],
             [
              0.5555555555555556,
              "#d8576b"
             ],
             [
              0.6666666666666666,
              "#ed7953"
             ],
             [
              0.7777777777777778,
              "#fb9f3a"
             ],
             [
              0.8888888888888888,
              "#fdca26"
             ],
             [
              1,
              "#f0f921"
             ]
            ],
            "type": "heatmapgl"
           }
          ],
          "histogram": [
           {
            "marker": {
             "colorbar": {
              "outlinewidth": 0,
              "ticks": ""
             }
            },
            "type": "histogram"
           }
          ],
          "histogram2d": [
           {
            "colorbar": {
             "outlinewidth": 0,
             "ticks": ""
            },
            "colorscale": [
             [
              0,
              "#0d0887"
             ],
             [
              0.1111111111111111,
              "#46039f"
             ],
             [
              0.2222222222222222,
              "#7201a8"
             ],
             [
              0.3333333333333333,
              "#9c179e"
             ],
             [
              0.4444444444444444,
              "#bd3786"
             ],
             [
              0.5555555555555556,
              "#d8576b"
             ],
             [
              0.6666666666666666,
              "#ed7953"
             ],
             [
              0.7777777777777778,
              "#fb9f3a"
             ],
             [
              0.8888888888888888,
              "#fdca26"
             ],
             [
              1,
              "#f0f921"
             ]
            ],
            "type": "histogram2d"
           }
          ],
          "histogram2dcontour": [
           {
            "colorbar": {
             "outlinewidth": 0,
             "ticks": ""
            },
            "colorscale": [
             [
              0,
              "#0d0887"
             ],
             [
              0.1111111111111111,
              "#46039f"
             ],
             [
              0.2222222222222222,
              "#7201a8"
             ],
             [
              0.3333333333333333,
              "#9c179e"
             ],
             [
              0.4444444444444444,
              "#bd3786"
             ],
             [
              0.5555555555555556,
              "#d8576b"
             ],
             [
              0.6666666666666666,
              "#ed7953"
             ],
             [
              0.7777777777777778,
              "#fb9f3a"
             ],
             [
              0.8888888888888888,
              "#fdca26"
             ],
             [
              1,
              "#f0f921"
             ]
            ],
            "type": "histogram2dcontour"
           }
          ],
          "mesh3d": [
           {
            "colorbar": {
             "outlinewidth": 0,
             "ticks": ""
            },
            "type": "mesh3d"
           }
          ],
          "parcoords": [
           {
            "line": {
             "colorbar": {
              "outlinewidth": 0,
              "ticks": ""
             }
            },
            "type": "parcoords"
           }
          ],
          "pie": [
           {
            "automargin": true,
            "type": "pie"
           }
          ],
          "scatter": [
           {
            "marker": {
             "colorbar": {
              "outlinewidth": 0,
              "ticks": ""
             }
            },
            "type": "scatter"
           }
          ],
          "scatter3d": [
           {
            "line": {
             "colorbar": {
              "outlinewidth": 0,
              "ticks": ""
             }
            },
            "marker": {
             "colorbar": {
              "outlinewidth": 0,
              "ticks": ""
             }
            },
            "type": "scatter3d"
           }
          ],
          "scattercarpet": [
           {
            "marker": {
             "colorbar": {
              "outlinewidth": 0,
              "ticks": ""
             }
            },
            "type": "scattercarpet"
           }
          ],
          "scattergeo": [
           {
            "marker": {
             "colorbar": {
              "outlinewidth": 0,
              "ticks": ""
             }
            },
            "type": "scattergeo"
           }
          ],
          "scattergl": [
           {
            "marker": {
             "colorbar": {
              "outlinewidth": 0,
              "ticks": ""
             }
            },
            "type": "scattergl"
           }
          ],
          "scattermapbox": [
           {
            "marker": {
             "colorbar": {
              "outlinewidth": 0,
              "ticks": ""
             }
            },
            "type": "scattermapbox"
           }
          ],
          "scatterpolar": [
           {
            "marker": {
             "colorbar": {
              "outlinewidth": 0,
              "ticks": ""
             }
            },
            "type": "scatterpolar"
           }
          ],
          "scatterpolargl": [
           {
            "marker": {
             "colorbar": {
              "outlinewidth": 0,
              "ticks": ""
             }
            },
            "type": "scatterpolargl"
           }
          ],
          "scatterternary": [
           {
            "marker": {
             "colorbar": {
              "outlinewidth": 0,
              "ticks": ""
             }
            },
            "type": "scatterternary"
           }
          ],
          "surface": [
           {
            "colorbar": {
             "outlinewidth": 0,
             "ticks": ""
            },
            "colorscale": [
             [
              0,
              "#0d0887"
             ],
             [
              0.1111111111111111,
              "#46039f"
             ],
             [
              0.2222222222222222,
              "#7201a8"
             ],
             [
              0.3333333333333333,
              "#9c179e"
             ],
             [
              0.4444444444444444,
              "#bd3786"
             ],
             [
              0.5555555555555556,
              "#d8576b"
             ],
             [
              0.6666666666666666,
              "#ed7953"
             ],
             [
              0.7777777777777778,
              "#fb9f3a"
             ],
             [
              0.8888888888888888,
              "#fdca26"
             ],
             [
              1,
              "#f0f921"
             ]
            ],
            "type": "surface"
           }
          ],
          "table": [
           {
            "cells": {
             "fill": {
              "color": "#EBF0F8"
             },
             "line": {
              "color": "white"
             }
            },
            "header": {
             "fill": {
              "color": "#C8D4E3"
             },
             "line": {
              "color": "white"
             }
            },
            "type": "table"
           }
          ]
         },
         "layout": {
          "annotationdefaults": {
           "arrowcolor": "#2a3f5f",
           "arrowhead": 0,
           "arrowwidth": 1
          },
          "coloraxis": {
           "colorbar": {
            "outlinewidth": 0,
            "ticks": ""
           }
          },
          "colorscale": {
           "diverging": [
            [
             0,
             "#8e0152"
            ],
            [
             0.1,
             "#c51b7d"
            ],
            [
             0.2,
             "#de77ae"
            ],
            [
             0.3,
             "#f1b6da"
            ],
            [
             0.4,
             "#fde0ef"
            ],
            [
             0.5,
             "#f7f7f7"
            ],
            [
             0.6,
             "#e6f5d0"
            ],
            [
             0.7,
             "#b8e186"
            ],
            [
             0.8,
             "#7fbc41"
            ],
            [
             0.9,
             "#4d9221"
            ],
            [
             1,
             "#276419"
            ]
           ],
           "sequential": [
            [
             0,
             "#0d0887"
            ],
            [
             0.1111111111111111,
             "#46039f"
            ],
            [
             0.2222222222222222,
             "#7201a8"
            ],
            [
             0.3333333333333333,
             "#9c179e"
            ],
            [
             0.4444444444444444,
             "#bd3786"
            ],
            [
             0.5555555555555556,
             "#d8576b"
            ],
            [
             0.6666666666666666,
             "#ed7953"
            ],
            [
             0.7777777777777778,
             "#fb9f3a"
            ],
            [
             0.8888888888888888,
             "#fdca26"
            ],
            [
             1,
             "#f0f921"
            ]
           ],
           "sequentialminus": [
            [
             0,
             "#0d0887"
            ],
            [
             0.1111111111111111,
             "#46039f"
            ],
            [
             0.2222222222222222,
             "#7201a8"
            ],
            [
             0.3333333333333333,
             "#9c179e"
            ],
            [
             0.4444444444444444,
             "#bd3786"
            ],
            [
             0.5555555555555556,
             "#d8576b"
            ],
            [
             0.6666666666666666,
             "#ed7953"
            ],
            [
             0.7777777777777778,
             "#fb9f3a"
            ],
            [
             0.8888888888888888,
             "#fdca26"
            ],
            [
             1,
             "#f0f921"
            ]
           ]
          },
          "colorway": [
           "#636efa",
           "#EF553B",
           "#00cc96",
           "#ab63fa",
           "#FFA15A",
           "#19d3f3",
           "#FF6692",
           "#B6E880",
           "#FF97FF",
           "#FECB52"
          ],
          "font": {
           "color": "#2a3f5f"
          },
          "geo": {
           "bgcolor": "white",
           "lakecolor": "white",
           "landcolor": "#E5ECF6",
           "showlakes": true,
           "showland": true,
           "subunitcolor": "white"
          },
          "hoverlabel": {
           "align": "left"
          },
          "hovermode": "closest",
          "mapbox": {
           "style": "light"
          },
          "paper_bgcolor": "white",
          "plot_bgcolor": "#E5ECF6",
          "polar": {
           "angularaxis": {
            "gridcolor": "white",
            "linecolor": "white",
            "ticks": ""
           },
           "bgcolor": "#E5ECF6",
           "radialaxis": {
            "gridcolor": "white",
            "linecolor": "white",
            "ticks": ""
           }
          },
          "scene": {
           "xaxis": {
            "backgroundcolor": "#E5ECF6",
            "gridcolor": "white",
            "gridwidth": 2,
            "linecolor": "white",
            "showbackground": true,
            "ticks": "",
            "zerolinecolor": "white"
           },
           "yaxis": {
            "backgroundcolor": "#E5ECF6",
            "gridcolor": "white",
            "gridwidth": 2,
            "linecolor": "white",
            "showbackground": true,
            "ticks": "",
            "zerolinecolor": "white"
           },
           "zaxis": {
            "backgroundcolor": "#E5ECF6",
            "gridcolor": "white",
            "gridwidth": 2,
            "linecolor": "white",
            "showbackground": true,
            "ticks": "",
            "zerolinecolor": "white"
           }
          },
          "shapedefaults": {
           "line": {
            "color": "#2a3f5f"
           }
          },
          "ternary": {
           "aaxis": {
            "gridcolor": "white",
            "linecolor": "white",
            "ticks": ""
           },
           "baxis": {
            "gridcolor": "white",
            "linecolor": "white",
            "ticks": ""
           },
           "bgcolor": "#E5ECF6",
           "caxis": {
            "gridcolor": "white",
            "linecolor": "white",
            "ticks": ""
           }
          },
          "title": {
           "x": 0.05
          },
          "xaxis": {
           "automargin": true,
           "gridcolor": "white",
           "linecolor": "white",
           "ticks": "",
           "title": {
            "standoff": 15
           },
           "zerolinecolor": "white",
           "zerolinewidth": 2
          },
          "yaxis": {
           "automargin": true,
           "gridcolor": "white",
           "linecolor": "white",
           "ticks": "",
           "title": {
            "standoff": 15
           },
           "zerolinecolor": "white",
           "zerolinewidth": 2
          }
         }
        },
        "title": {
         "font": {
          "color": "#4D5663"
         },
         "text": "average grade per module of students that fail the course"
        },
        "xaxis": {
         "gridcolor": "#E1E5ED",
         "showgrid": true,
         "tickfont": {
          "color": "#4D5663"
         },
         "title": {
          "font": {
           "color": "#4D5663"
          },
          "text": ""
         },
         "zerolinecolor": "#E1E5ED"
        },
        "yaxis": {
         "gridcolor": "#E1E5ED",
         "showgrid": true,
         "tickfont": {
          "color": "#4D5663"
         },
         "title": {
          "font": {
           "color": "#4D5663"
          },
          "text": ""
         },
         "zerolinecolor": "#E1E5ED"
        }
       }
      },
      "text/html": [
       "<div>\n",
       "        \n",
       "        \n",
       "            <div id=\"944348d5-0ec0-46be-a384-053a12947991\" class=\"plotly-graph-div\" style=\"height:525px; width:100%;\"></div>\n",
       "            <script type=\"text/javascript\">\n",
       "                require([\"plotly\"], function(Plotly) {\n",
       "                    window.PLOTLYENV=window.PLOTLYENV || {};\n",
       "                    window.PLOTLYENV.BASE_URL='https://plot.ly';\n",
       "                    \n",
       "                if (document.getElementById(\"944348d5-0ec0-46be-a384-053a12947991\")) {\n",
       "                    Plotly.newPlot(\n",
       "                        '944348d5-0ec0-46be-a384-053a12947991',\n",
       "                        [{\"boxpoints\": false, \"line\": {\"width\": 1.3}, \"marker\": {\"color\": \"rgba(255, 153, 51, 1.0)\"}, \"name\": \"CI average\", \"orientation\": \"v\", \"type\": \"box\", \"y\": [0.0, 2.6425, 2.955, 3.01, 0.0, 2.84, 2.985, 2.615, 2.385, 2.82, 2.773, 2.7, 2.425, 2.43]}, {\"boxpoints\": false, \"line\": {\"width\": 1.3}, \"marker\": {\"color\": \"rgba(55, 128, 191, 1.0)\"}, \"name\": \"DD average\", \"orientation\": \"v\", \"type\": \"box\", \"y\": [2.313, 3.215, 3.098, 2.603, 2.245, 2.985, 2.793, 3.29, 2.82, 3.414, 3.085, 2.71, 2.453, 2.945]}, {\"boxpoints\": false, \"line\": {\"width\": 1.3}, \"marker\": {\"color\": \"rgba(50, 171, 96, 1.0)\"}, \"name\": \"EL Average\", \"orientation\": \"v\", \"type\": \"box\", \"y\": [4.0875, 2.9, 2.9775, 3.4875, 3.2, 2.9025, 3.16, 2.885, 2.875, 2.75, 3.1225, 2.6325, 2.3025, 2.8325]}, {\"boxpoints\": false, \"line\": {\"width\": 1.3}, \"marker\": {\"color\": \"rgba(128, 0, 128, 1.0)\"}, \"name\": \"PR Average\", \"orientation\": \"v\", \"type\": \"box\", \"y\": [3.85, 2.436, 2.6465, 2.8025, 3.1415, 2.856, 2.681, 3.195, 2.2905, 2.741, 2.9795, 2.7295, 2.0195, 2.919]}, {\"boxpoints\": false, \"line\": {\"width\": 1.3}, \"marker\": {\"color\": \"rgba(219, 64, 82, 1.0)\"}, \"name\": \"Overall LC average\", \"orientation\": \"v\", \"type\": \"box\", \"y\": [2.562625, 2.798375, 2.91925, 2.97575, 2.146625, 2.895875, 2.90475, 2.99625, 2.592625, 2.93125, 2.99, 2.693, 2.3, 2.781625]}],\n",
       "                        {\"legend\": {\"bgcolor\": \"#F5F6F9\", \"font\": {\"color\": \"#4D5663\"}}, \"paper_bgcolor\": \"#F5F6F9\", \"plot_bgcolor\": \"#F5F6F9\", \"template\": {\"data\": {\"bar\": [{\"error_x\": {\"color\": \"#2a3f5f\"}, \"error_y\": {\"color\": \"#2a3f5f\"}, \"marker\": {\"line\": {\"color\": \"#E5ECF6\", \"width\": 0.5}}, \"type\": \"bar\"}], \"barpolar\": [{\"marker\": {\"line\": {\"color\": \"#E5ECF6\", \"width\": 0.5}}, \"type\": \"barpolar\"}], \"carpet\": [{\"aaxis\": {\"endlinecolor\": \"#2a3f5f\", \"gridcolor\": \"white\", \"linecolor\": \"white\", \"minorgridcolor\": \"white\", \"startlinecolor\": \"#2a3f5f\"}, \"baxis\": {\"endlinecolor\": \"#2a3f5f\", \"gridcolor\": \"white\", \"linecolor\": \"white\", \"minorgridcolor\": \"white\", \"startlinecolor\": \"#2a3f5f\"}, \"type\": \"carpet\"}], \"choropleth\": [{\"colorbar\": {\"outlinewidth\": 0, \"ticks\": \"\"}, \"type\": \"choropleth\"}], \"contour\": [{\"colorbar\": {\"outlinewidth\": 0, \"ticks\": \"\"}, \"colorscale\": [[0.0, \"#0d0887\"], [0.1111111111111111, \"#46039f\"], [0.2222222222222222, \"#7201a8\"], [0.3333333333333333, \"#9c179e\"], [0.4444444444444444, \"#bd3786\"], [0.5555555555555556, \"#d8576b\"], [0.6666666666666666, \"#ed7953\"], [0.7777777777777778, \"#fb9f3a\"], [0.8888888888888888, \"#fdca26\"], [1.0, \"#f0f921\"]], \"type\": \"contour\"}], \"contourcarpet\": [{\"colorbar\": {\"outlinewidth\": 0, \"ticks\": \"\"}, \"type\": \"contourcarpet\"}], \"heatmap\": [{\"colorbar\": {\"outlinewidth\": 0, \"ticks\": \"\"}, \"colorscale\": [[0.0, \"#0d0887\"], [0.1111111111111111, \"#46039f\"], [0.2222222222222222, \"#7201a8\"], [0.3333333333333333, \"#9c179e\"], [0.4444444444444444, \"#bd3786\"], [0.5555555555555556, \"#d8576b\"], [0.6666666666666666, \"#ed7953\"], [0.7777777777777778, \"#fb9f3a\"], [0.8888888888888888, \"#fdca26\"], [1.0, \"#f0f921\"]], \"type\": \"heatmap\"}], \"heatmapgl\": [{\"colorbar\": {\"outlinewidth\": 0, \"ticks\": \"\"}, \"colorscale\": [[0.0, \"#0d0887\"], [0.1111111111111111, \"#46039f\"], [0.2222222222222222, \"#7201a8\"], [0.3333333333333333, \"#9c179e\"], [0.4444444444444444, \"#bd3786\"], [0.5555555555555556, \"#d8576b\"], [0.6666666666666666, \"#ed7953\"], [0.7777777777777778, \"#fb9f3a\"], [0.8888888888888888, \"#fdca26\"], [1.0, \"#f0f921\"]], \"type\": \"heatmapgl\"}], \"histogram\": [{\"marker\": {\"colorbar\": {\"outlinewidth\": 0, \"ticks\": \"\"}}, \"type\": \"histogram\"}], \"histogram2d\": [{\"colorbar\": {\"outlinewidth\": 0, \"ticks\": \"\"}, \"colorscale\": [[0.0, \"#0d0887\"], [0.1111111111111111, \"#46039f\"], [0.2222222222222222, \"#7201a8\"], [0.3333333333333333, \"#9c179e\"], [0.4444444444444444, \"#bd3786\"], [0.5555555555555556, \"#d8576b\"], [0.6666666666666666, \"#ed7953\"], [0.7777777777777778, \"#fb9f3a\"], [0.8888888888888888, \"#fdca26\"], [1.0, \"#f0f921\"]], \"type\": \"histogram2d\"}], \"histogram2dcontour\": [{\"colorbar\": {\"outlinewidth\": 0, \"ticks\": \"\"}, \"colorscale\": [[0.0, \"#0d0887\"], [0.1111111111111111, \"#46039f\"], [0.2222222222222222, \"#7201a8\"], [0.3333333333333333, \"#9c179e\"], [0.4444444444444444, \"#bd3786\"], [0.5555555555555556, \"#d8576b\"], [0.6666666666666666, \"#ed7953\"], [0.7777777777777778, \"#fb9f3a\"], [0.8888888888888888, \"#fdca26\"], [1.0, \"#f0f921\"]], \"type\": \"histogram2dcontour\"}], \"mesh3d\": [{\"colorbar\": {\"outlinewidth\": 0, \"ticks\": \"\"}, \"type\": \"mesh3d\"}], \"parcoords\": [{\"line\": {\"colorbar\": {\"outlinewidth\": 0, \"ticks\": \"\"}}, \"type\": \"parcoords\"}], \"pie\": [{\"automargin\": true, \"type\": \"pie\"}], \"scatter\": [{\"marker\": {\"colorbar\": {\"outlinewidth\": 0, \"ticks\": \"\"}}, \"type\": \"scatter\"}], \"scatter3d\": [{\"line\": {\"colorbar\": {\"outlinewidth\": 0, \"ticks\": \"\"}}, \"marker\": {\"colorbar\": {\"outlinewidth\": 0, \"ticks\": \"\"}}, \"type\": \"scatter3d\"}], \"scattercarpet\": [{\"marker\": {\"colorbar\": {\"outlinewidth\": 0, \"ticks\": \"\"}}, \"type\": \"scattercarpet\"}], \"scattergeo\": [{\"marker\": {\"colorbar\": {\"outlinewidth\": 0, \"ticks\": \"\"}}, \"type\": \"scattergeo\"}], \"scattergl\": [{\"marker\": {\"colorbar\": {\"outlinewidth\": 0, \"ticks\": \"\"}}, \"type\": \"scattergl\"}], \"scattermapbox\": [{\"marker\": {\"colorbar\": {\"outlinewidth\": 0, \"ticks\": \"\"}}, \"type\": \"scattermapbox\"}], \"scatterpolar\": [{\"marker\": {\"colorbar\": {\"outlinewidth\": 0, \"ticks\": \"\"}}, \"type\": \"scatterpolar\"}], \"scatterpolargl\": [{\"marker\": {\"colorbar\": {\"outlinewidth\": 0, \"ticks\": \"\"}}, \"type\": \"scatterpolargl\"}], \"scatterternary\": [{\"marker\": {\"colorbar\": {\"outlinewidth\": 0, \"ticks\": \"\"}}, \"type\": \"scatterternary\"}], \"surface\": [{\"colorbar\": {\"outlinewidth\": 0, \"ticks\": \"\"}, \"colorscale\": [[0.0, \"#0d0887\"], [0.1111111111111111, \"#46039f\"], [0.2222222222222222, \"#7201a8\"], [0.3333333333333333, \"#9c179e\"], [0.4444444444444444, \"#bd3786\"], [0.5555555555555556, \"#d8576b\"], [0.6666666666666666, \"#ed7953\"], [0.7777777777777778, \"#fb9f3a\"], [0.8888888888888888, \"#fdca26\"], [1.0, \"#f0f921\"]], \"type\": \"surface\"}], \"table\": [{\"cells\": {\"fill\": {\"color\": \"#EBF0F8\"}, \"line\": {\"color\": \"white\"}}, \"header\": {\"fill\": {\"color\": \"#C8D4E3\"}, \"line\": {\"color\": \"white\"}}, \"type\": \"table\"}]}, \"layout\": {\"annotationdefaults\": {\"arrowcolor\": \"#2a3f5f\", \"arrowhead\": 0, \"arrowwidth\": 1}, \"coloraxis\": {\"colorbar\": {\"outlinewidth\": 0, \"ticks\": \"\"}}, \"colorscale\": {\"diverging\": [[0, \"#8e0152\"], [0.1, \"#c51b7d\"], [0.2, \"#de77ae\"], [0.3, \"#f1b6da\"], [0.4, \"#fde0ef\"], [0.5, \"#f7f7f7\"], [0.6, \"#e6f5d0\"], [0.7, \"#b8e186\"], [0.8, \"#7fbc41\"], [0.9, \"#4d9221\"], [1, \"#276419\"]], \"sequential\": [[0.0, \"#0d0887\"], [0.1111111111111111, \"#46039f\"], [0.2222222222222222, \"#7201a8\"], [0.3333333333333333, \"#9c179e\"], [0.4444444444444444, \"#bd3786\"], [0.5555555555555556, \"#d8576b\"], [0.6666666666666666, \"#ed7953\"], [0.7777777777777778, \"#fb9f3a\"], [0.8888888888888888, \"#fdca26\"], [1.0, \"#f0f921\"]], \"sequentialminus\": [[0.0, \"#0d0887\"], [0.1111111111111111, \"#46039f\"], [0.2222222222222222, \"#7201a8\"], [0.3333333333333333, \"#9c179e\"], [0.4444444444444444, \"#bd3786\"], [0.5555555555555556, \"#d8576b\"], [0.6666666666666666, \"#ed7953\"], [0.7777777777777778, \"#fb9f3a\"], [0.8888888888888888, \"#fdca26\"], [1.0, \"#f0f921\"]]}, \"colorway\": [\"#636efa\", \"#EF553B\", \"#00cc96\", \"#ab63fa\", \"#FFA15A\", \"#19d3f3\", \"#FF6692\", \"#B6E880\", \"#FF97FF\", \"#FECB52\"], \"font\": {\"color\": \"#2a3f5f\"}, \"geo\": {\"bgcolor\": \"white\", \"lakecolor\": \"white\", \"landcolor\": \"#E5ECF6\", \"showlakes\": true, \"showland\": true, \"subunitcolor\": \"white\"}, \"hoverlabel\": {\"align\": \"left\"}, \"hovermode\": \"closest\", \"mapbox\": {\"style\": \"light\"}, \"paper_bgcolor\": \"white\", \"plot_bgcolor\": \"#E5ECF6\", \"polar\": {\"angularaxis\": {\"gridcolor\": \"white\", \"linecolor\": \"white\", \"ticks\": \"\"}, \"bgcolor\": \"#E5ECF6\", \"radialaxis\": {\"gridcolor\": \"white\", \"linecolor\": \"white\", \"ticks\": \"\"}}, \"scene\": {\"xaxis\": {\"backgroundcolor\": \"#E5ECF6\", \"gridcolor\": \"white\", \"gridwidth\": 2, \"linecolor\": \"white\", \"showbackground\": true, \"ticks\": \"\", \"zerolinecolor\": \"white\"}, \"yaxis\": {\"backgroundcolor\": \"#E5ECF6\", \"gridcolor\": \"white\", \"gridwidth\": 2, \"linecolor\": \"white\", \"showbackground\": true, \"ticks\": \"\", \"zerolinecolor\": \"white\"}, \"zaxis\": {\"backgroundcolor\": \"#E5ECF6\", \"gridcolor\": \"white\", \"gridwidth\": 2, \"linecolor\": \"white\", \"showbackground\": true, \"ticks\": \"\", \"zerolinecolor\": \"white\"}}, \"shapedefaults\": {\"line\": {\"color\": \"#2a3f5f\"}}, \"ternary\": {\"aaxis\": {\"gridcolor\": \"white\", \"linecolor\": \"white\", \"ticks\": \"\"}, \"baxis\": {\"gridcolor\": \"white\", \"linecolor\": \"white\", \"ticks\": \"\"}, \"bgcolor\": \"#E5ECF6\", \"caxis\": {\"gridcolor\": \"white\", \"linecolor\": \"white\", \"ticks\": \"\"}}, \"title\": {\"x\": 0.05}, \"xaxis\": {\"automargin\": true, \"gridcolor\": \"white\", \"linecolor\": \"white\", \"ticks\": \"\", \"title\": {\"standoff\": 15}, \"zerolinecolor\": \"white\", \"zerolinewidth\": 2}, \"yaxis\": {\"automargin\": true, \"gridcolor\": \"white\", \"linecolor\": \"white\", \"ticks\": \"\", \"title\": {\"standoff\": 15}, \"zerolinecolor\": \"white\", \"zerolinewidth\": 2}}}, \"title\": {\"font\": {\"color\": \"#4D5663\"}, \"text\": \"average grade per module of students that fail the course\"}, \"xaxis\": {\"gridcolor\": \"#E1E5ED\", \"showgrid\": true, \"tickfont\": {\"color\": \"#4D5663\"}, \"title\": {\"font\": {\"color\": \"#4D5663\"}, \"text\": \"\"}, \"zerolinecolor\": \"#E1E5ED\"}, \"yaxis\": {\"gridcolor\": \"#E1E5ED\", \"showgrid\": true, \"tickfont\": {\"color\": \"#4D5663\"}, \"title\": {\"font\": {\"color\": \"#4D5663\"}, \"text\": \"\"}, \"zerolinecolor\": \"#E1E5ED\"}},\n",
       "                        {\"showLink\": true, \"linkText\": \"Export to plot.ly\", \"plotlyServerURL\": \"https://plot.ly\", \"responsive\": true}\n",
       "                    ).then(function(){\n",
       "                            \n",
       "var gd = document.getElementById('944348d5-0ec0-46be-a384-053a12947991');\n",
       "var x = new MutationObserver(function (mutations, observer) {{\n",
       "        var display = window.getComputedStyle(gd).display;\n",
       "        if (!display || display === 'none') {{\n",
       "            console.log([gd, 'removed!']);\n",
       "            Plotly.purge(gd);\n",
       "            observer.disconnect();\n",
       "        }}\n",
       "}});\n",
       "\n",
       "// Listen for the removal of the full notebook cells\n",
       "var notebookContainer = gd.closest('#notebook-container');\n",
       "if (notebookContainer) {{\n",
       "    x.observe(notebookContainer, {childList: true});\n",
       "}}\n",
       "\n",
       "// Listen for the clearing of the current output cell\n",
       "var outputEl = gd.closest('.output');\n",
       "if (outputEl) {{\n",
       "    x.observe(outputEl, {childList: true});\n",
       "}}\n",
       "\n",
       "                        })\n",
       "                };\n",
       "                });\n",
       "            </script>\n",
       "        </div>"
      ]
     },
     "metadata": {},
     "output_type": "display_data"
    }
   ],
   "source": [
    "fail_students[['CI average','DD average','EL Average','PR Average','Overall LC average']].iplot(kind='box',title='average grade per module of students that fail the course')"
   ]
  },
  {
   "cell_type": "code",
   "execution_count": 100,
   "metadata": {},
   "outputs": [
    {
     "data": {
      "application/vnd.plotly.v1+json": {
       "config": {
        "linkText": "Export to plot.ly",
        "plotlyServerURL": "https://plot.ly",
        "showLink": true
       },
       "data": [
        {
         "boxpoints": false,
         "line": {
          "width": 1.3
         },
         "marker": {
          "color": "rgba(255, 153, 51, 1.0)"
         },
         "name": "CI average",
         "orientation": "v",
         "type": "box",
         "y": [
          3.485,
          3.865,
          3.455,
          3.565,
          3.77,
          2.82,
          3.885,
          3.095,
          3.93,
          3.555,
          3.18,
          3.02,
          3.6,
          3.46,
          2.575,
          2.6,
          2.68,
          3.26,
          2.93,
          2.885,
          2.995,
          3.125,
          3.225,
          3.205,
          2.365,
          3.46,
          3.45,
          2.845,
          3.55,
          3.73,
          3.7,
          3.095,
          3.455,
          3.25,
          3.49,
          3.335,
          3.545,
          3.605,
          3.67,
          3.325,
          3.31,
          3.865,
          3.285,
          3.415,
          3.595,
          3.575,
          3.115,
          3.13,
          2.8,
          3.22,
          4.355,
          3.115,
          2.855,
          3.14,
          3.77,
          3.205,
          3.465,
          2.235,
          3.75,
          3.63,
          2.965,
          3.68,
          3.39,
          3.235,
          3.245,
          3.56,
          3.62,
          2.755,
          3.09,
          3.34,
          3.99,
          3.055,
          3.05,
          3.81,
          3.15,
          3.435,
          3.09,
          3.345,
          3.765,
          3.09,
          3.03,
          3.285,
          3.325,
          3.915,
          3.26,
          3.75,
          3.265
         ]
        },
        {
         "boxpoints": false,
         "line": {
          "width": 1.3
         },
         "marker": {
          "color": "rgba(55, 128, 191, 1.0)"
         },
         "name": "DD average",
         "orientation": "v",
         "type": "box",
         "y": [
          3.755,
          3.33,
          3.575,
          3.285,
          3.475,
          2.863,
          3.16,
          3.212,
          3.535,
          3.275,
          2.888,
          3.533,
          3.565,
          3.085,
          3.395,
          3.435,
          3.355,
          2.9,
          3.115,
          3.62,
          3.738,
          3.665,
          2.883,
          4.003,
          3.595,
          3.226,
          2.932,
          3.345,
          3.755,
          3.355,
          3.405,
          3.255,
          3.34,
          3.415,
          3.375,
          3.595,
          3.265,
          3.265,
          3.272,
          3.143,
          3.19,
          3.213,
          3.305,
          2.92,
          3.763,
          3.118,
          4.035,
          3.472,
          3.337,
          3.39,
          3.97,
          3.205,
          3.165,
          3.265,
          3.54,
          3.59,
          3.169,
          3.813,
          3.69,
          3.753,
          3.15,
          3.338,
          3.78,
          3.105,
          2.73,
          2.996,
          3.265,
          3.082,
          3.785,
          3.013,
          3.21,
          3.35,
          3.355,
          3.785,
          3.028,
          3.615,
          3.865,
          4,
          3.435,
          3.148,
          3.293,
          3.375,
          3.8,
          3.555,
          2.992,
          3.62,
          3.228
         ]
        },
        {
         "boxpoints": false,
         "line": {
          "width": 1.3
         },
         "marker": {
          "color": "rgba(50, 171, 96, 1.0)"
         },
         "name": "EL Average",
         "orientation": "v",
         "type": "box",
         "y": [
          3.7,
          3.7375,
          3.5725,
          3.675,
          3.55,
          3.3525,
          3.95,
          3.45,
          3.6375,
          3.1875,
          3.0875,
          3.8125,
          3.1875,
          2.925,
          3.925,
          3.075,
          3.6325,
          3.5625,
          3.2375,
          3.5875,
          3.5875,
          3.7125,
          3.3425,
          3.8625,
          3.8375,
          3.675,
          3.525,
          2.9,
          3.54,
          3.45,
          3.9875,
          3.4375,
          3.3375,
          3.505,
          3.5,
          3.2175,
          3.4,
          3.8375,
          3.5675,
          3.775,
          3.9,
          3.525,
          3.7625,
          3.75,
          3.4825,
          3.025,
          3.2125,
          3.075,
          3.55,
          3.3625,
          3.2625,
          3.2975,
          3.4625,
          3.75,
          3.25,
          3.425,
          2.5525,
          3.625,
          3.45,
          3.0875,
          3.125,
          3.65,
          3.725,
          3.4125,
          3.1975,
          3.55,
          3.7,
          3.06,
          3.345,
          3.4875,
          3.6375,
          3.175,
          3.775,
          3.75,
          3.6625,
          3.5625,
          2.925,
          3.1625,
          4.1125,
          3.445,
          2.9375,
          3.4875,
          3.425,
          3.8375,
          2.8,
          3.175,
          3.39
         ]
        },
        {
         "boxpoints": false,
         "line": {
          "width": 1.3
         },
         "marker": {
          "color": "rgba(128, 0, 128, 1.0)"
         },
         "name": "PR Average",
         "orientation": "v",
         "type": "box",
         "y": [
          3.8025,
          3.445,
          3.207,
          2.8985,
          3.5875,
          3.376,
          3.5375,
          3.155,
          4.031,
          3.4125,
          3,
          2.975,
          3.2725,
          2.907,
          3.775,
          3.015,
          3.035,
          2.8675,
          3.11,
          3.345,
          3.3375,
          3.62,
          3.009,
          3.1325,
          3.455,
          3.2555,
          3.145,
          3.0325,
          3.3,
          3.0375,
          3.28,
          3.0025,
          3.465,
          2.995,
          3.4175,
          3.2225,
          3.3625,
          3.52,
          3.28,
          3.11,
          3,
          3.3525,
          3.41,
          2.4995,
          3.2575,
          2.396,
          3.39,
          2.697,
          3.485,
          3.0775,
          3.43,
          3.127,
          2.905,
          3.291,
          3.7675,
          3.625,
          3.042,
          3.5,
          3.3325,
          3.025,
          3.1705,
          3.1965,
          3.34,
          3.2625,
          3.2225,
          2.7095,
          3.3725,
          3.1595,
          2.6325,
          3.165,
          3.5785,
          3.248,
          2.9335,
          3.855,
          2.9715,
          3.41,
          3.045,
          3.76,
          3.2075,
          2.793,
          2.9175,
          3.335,
          3.4575,
          3.5475,
          3.0075,
          3.6875,
          2.8685
         ]
        },
        {
         "boxpoints": false,
         "line": {
          "width": 1.3
         },
         "marker": {
          "color": "rgba(219, 64, 82, 1.0)"
         },
         "name": "Overall LC average",
         "orientation": "v",
         "type": "box",
         "y": [
          3.685625,
          3.594375,
          3.452375,
          3.355875,
          3.595625,
          3.102875,
          3.633125,
          3.228,
          3.783375,
          3.3575,
          3.038875,
          3.335125,
          3.40625,
          3.09425,
          3.4175,
          3.03125,
          3.175625,
          3.1475,
          3.098125,
          3.359375,
          3.4145,
          3.530625,
          3.114875,
          3.55075,
          3.313125,
          3.404125,
          3.263,
          3.030625,
          3.53625,
          3.393125,
          3.593125,
          3.1975,
          3.399375,
          3.29125,
          3.445625,
          3.3425,
          3.393125,
          3.556875,
          3.447375,
          3.33825,
          3.35,
          3.488875,
          3.440625,
          3.146125,
          3.5245,
          3.0285,
          3.438125,
          3.0935,
          3.293,
          3.2625,
          3.754375,
          3.186125,
          3.096875,
          3.3615,
          3.581875,
          3.46125,
          3.057125,
          3.29325,
          3.555625,
          3.373875,
          3.102625,
          3.466125,
          3.55875,
          3.25375,
          3.09875,
          3.203875,
          3.489375,
          3.014125,
          3.213125,
          3.251375,
          3.604,
          3.207,
          3.278375,
          3.8,
          3.203,
          3.505625,
          3.23125,
          3.566875,
          3.63,
          3.119,
          3.0445,
          3.370625,
          3.501875,
          3.71375,
          3.014875,
          3.558125,
          3.187875
         ]
        }
       ],
       "layout": {
        "legend": {
         "bgcolor": "#F5F6F9",
         "font": {
          "color": "#4D5663"
         }
        },
        "paper_bgcolor": "#F5F6F9",
        "plot_bgcolor": "#F5F6F9",
        "template": {
         "data": {
          "bar": [
           {
            "error_x": {
             "color": "#2a3f5f"
            },
            "error_y": {
             "color": "#2a3f5f"
            },
            "marker": {
             "line": {
              "color": "#E5ECF6",
              "width": 0.5
             }
            },
            "type": "bar"
           }
          ],
          "barpolar": [
           {
            "marker": {
             "line": {
              "color": "#E5ECF6",
              "width": 0.5
             }
            },
            "type": "barpolar"
           }
          ],
          "carpet": [
           {
            "aaxis": {
             "endlinecolor": "#2a3f5f",
             "gridcolor": "white",
             "linecolor": "white",
             "minorgridcolor": "white",
             "startlinecolor": "#2a3f5f"
            },
            "baxis": {
             "endlinecolor": "#2a3f5f",
             "gridcolor": "white",
             "linecolor": "white",
             "minorgridcolor": "white",
             "startlinecolor": "#2a3f5f"
            },
            "type": "carpet"
           }
          ],
          "choropleth": [
           {
            "colorbar": {
             "outlinewidth": 0,
             "ticks": ""
            },
            "type": "choropleth"
           }
          ],
          "contour": [
           {
            "colorbar": {
             "outlinewidth": 0,
             "ticks": ""
            },
            "colorscale": [
             [
              0,
              "#0d0887"
             ],
             [
              0.1111111111111111,
              "#46039f"
             ],
             [
              0.2222222222222222,
              "#7201a8"
             ],
             [
              0.3333333333333333,
              "#9c179e"
             ],
             [
              0.4444444444444444,
              "#bd3786"
             ],
             [
              0.5555555555555556,
              "#d8576b"
             ],
             [
              0.6666666666666666,
              "#ed7953"
             ],
             [
              0.7777777777777778,
              "#fb9f3a"
             ],
             [
              0.8888888888888888,
              "#fdca26"
             ],
             [
              1,
              "#f0f921"
             ]
            ],
            "type": "contour"
           }
          ],
          "contourcarpet": [
           {
            "colorbar": {
             "outlinewidth": 0,
             "ticks": ""
            },
            "type": "contourcarpet"
           }
          ],
          "heatmap": [
           {
            "colorbar": {
             "outlinewidth": 0,
             "ticks": ""
            },
            "colorscale": [
             [
              0,
              "#0d0887"
             ],
             [
              0.1111111111111111,
              "#46039f"
             ],
             [
              0.2222222222222222,
              "#7201a8"
             ],
             [
              0.3333333333333333,
              "#9c179e"
             ],
             [
              0.4444444444444444,
              "#bd3786"
             ],
             [
              0.5555555555555556,
              "#d8576b"
             ],
             [
              0.6666666666666666,
              "#ed7953"
             ],
             [
              0.7777777777777778,
              "#fb9f3a"
             ],
             [
              0.8888888888888888,
              "#fdca26"
             ],
             [
              1,
              "#f0f921"
             ]
            ],
            "type": "heatmap"
           }
          ],
          "heatmapgl": [
           {
            "colorbar": {
             "outlinewidth": 0,
             "ticks": ""
            },
            "colorscale": [
             [
              0,
              "#0d0887"
             ],
             [
              0.1111111111111111,
              "#46039f"
             ],
             [
              0.2222222222222222,
              "#7201a8"
             ],
             [
              0.3333333333333333,
              "#9c179e"
             ],
             [
              0.4444444444444444,
              "#bd3786"
             ],
             [
              0.5555555555555556,
              "#d8576b"
             ],
             [
              0.6666666666666666,
              "#ed7953"
             ],
             [
              0.7777777777777778,
              "#fb9f3a"
             ],
             [
              0.8888888888888888,
              "#fdca26"
             ],
             [
              1,
              "#f0f921"
             ]
            ],
            "type": "heatmapgl"
           }
          ],
          "histogram": [
           {
            "marker": {
             "colorbar": {
              "outlinewidth": 0,
              "ticks": ""
             }
            },
            "type": "histogram"
           }
          ],
          "histogram2d": [
           {
            "colorbar": {
             "outlinewidth": 0,
             "ticks": ""
            },
            "colorscale": [
             [
              0,
              "#0d0887"
             ],
             [
              0.1111111111111111,
              "#46039f"
             ],
             [
              0.2222222222222222,
              "#7201a8"
             ],
             [
              0.3333333333333333,
              "#9c179e"
             ],
             [
              0.4444444444444444,
              "#bd3786"
             ],
             [
              0.5555555555555556,
              "#d8576b"
             ],
             [
              0.6666666666666666,
              "#ed7953"
             ],
             [
              0.7777777777777778,
              "#fb9f3a"
             ],
             [
              0.8888888888888888,
              "#fdca26"
             ],
             [
              1,
              "#f0f921"
             ]
            ],
            "type": "histogram2d"
           }
          ],
          "histogram2dcontour": [
           {
            "colorbar": {
             "outlinewidth": 0,
             "ticks": ""
            },
            "colorscale": [
             [
              0,
              "#0d0887"
             ],
             [
              0.1111111111111111,
              "#46039f"
             ],
             [
              0.2222222222222222,
              "#7201a8"
             ],
             [
              0.3333333333333333,
              "#9c179e"
             ],
             [
              0.4444444444444444,
              "#bd3786"
             ],
             [
              0.5555555555555556,
              "#d8576b"
             ],
             [
              0.6666666666666666,
              "#ed7953"
             ],
             [
              0.7777777777777778,
              "#fb9f3a"
             ],
             [
              0.8888888888888888,
              "#fdca26"
             ],
             [
              1,
              "#f0f921"
             ]
            ],
            "type": "histogram2dcontour"
           }
          ],
          "mesh3d": [
           {
            "colorbar": {
             "outlinewidth": 0,
             "ticks": ""
            },
            "type": "mesh3d"
           }
          ],
          "parcoords": [
           {
            "line": {
             "colorbar": {
              "outlinewidth": 0,
              "ticks": ""
             }
            },
            "type": "parcoords"
           }
          ],
          "pie": [
           {
            "automargin": true,
            "type": "pie"
           }
          ],
          "scatter": [
           {
            "marker": {
             "colorbar": {
              "outlinewidth": 0,
              "ticks": ""
             }
            },
            "type": "scatter"
           }
          ],
          "scatter3d": [
           {
            "line": {
             "colorbar": {
              "outlinewidth": 0,
              "ticks": ""
             }
            },
            "marker": {
             "colorbar": {
              "outlinewidth": 0,
              "ticks": ""
             }
            },
            "type": "scatter3d"
           }
          ],
          "scattercarpet": [
           {
            "marker": {
             "colorbar": {
              "outlinewidth": 0,
              "ticks": ""
             }
            },
            "type": "scattercarpet"
           }
          ],
          "scattergeo": [
           {
            "marker": {
             "colorbar": {
              "outlinewidth": 0,
              "ticks": ""
             }
            },
            "type": "scattergeo"
           }
          ],
          "scattergl": [
           {
            "marker": {
             "colorbar": {
              "outlinewidth": 0,
              "ticks": ""
             }
            },
            "type": "scattergl"
           }
          ],
          "scattermapbox": [
           {
            "marker": {
             "colorbar": {
              "outlinewidth": 0,
              "ticks": ""
             }
            },
            "type": "scattermapbox"
           }
          ],
          "scatterpolar": [
           {
            "marker": {
             "colorbar": {
              "outlinewidth": 0,
              "ticks": ""
             }
            },
            "type": "scatterpolar"
           }
          ],
          "scatterpolargl": [
           {
            "marker": {
             "colorbar": {
              "outlinewidth": 0,
              "ticks": ""
             }
            },
            "type": "scatterpolargl"
           }
          ],
          "scatterternary": [
           {
            "marker": {
             "colorbar": {
              "outlinewidth": 0,
              "ticks": ""
             }
            },
            "type": "scatterternary"
           }
          ],
          "surface": [
           {
            "colorbar": {
             "outlinewidth": 0,
             "ticks": ""
            },
            "colorscale": [
             [
              0,
              "#0d0887"
             ],
             [
              0.1111111111111111,
              "#46039f"
             ],
             [
              0.2222222222222222,
              "#7201a8"
             ],
             [
              0.3333333333333333,
              "#9c179e"
             ],
             [
              0.4444444444444444,
              "#bd3786"
             ],
             [
              0.5555555555555556,
              "#d8576b"
             ],
             [
              0.6666666666666666,
              "#ed7953"
             ],
             [
              0.7777777777777778,
              "#fb9f3a"
             ],
             [
              0.8888888888888888,
              "#fdca26"
             ],
             [
              1,
              "#f0f921"
             ]
            ],
            "type": "surface"
           }
          ],
          "table": [
           {
            "cells": {
             "fill": {
              "color": "#EBF0F8"
             },
             "line": {
              "color": "white"
             }
            },
            "header": {
             "fill": {
              "color": "#C8D4E3"
             },
             "line": {
              "color": "white"
             }
            },
            "type": "table"
           }
          ]
         },
         "layout": {
          "annotationdefaults": {
           "arrowcolor": "#2a3f5f",
           "arrowhead": 0,
           "arrowwidth": 1
          },
          "coloraxis": {
           "colorbar": {
            "outlinewidth": 0,
            "ticks": ""
           }
          },
          "colorscale": {
           "diverging": [
            [
             0,
             "#8e0152"
            ],
            [
             0.1,
             "#c51b7d"
            ],
            [
             0.2,
             "#de77ae"
            ],
            [
             0.3,
             "#f1b6da"
            ],
            [
             0.4,
             "#fde0ef"
            ],
            [
             0.5,
             "#f7f7f7"
            ],
            [
             0.6,
             "#e6f5d0"
            ],
            [
             0.7,
             "#b8e186"
            ],
            [
             0.8,
             "#7fbc41"
            ],
            [
             0.9,
             "#4d9221"
            ],
            [
             1,
             "#276419"
            ]
           ],
           "sequential": [
            [
             0,
             "#0d0887"
            ],
            [
             0.1111111111111111,
             "#46039f"
            ],
            [
             0.2222222222222222,
             "#7201a8"
            ],
            [
             0.3333333333333333,
             "#9c179e"
            ],
            [
             0.4444444444444444,
             "#bd3786"
            ],
            [
             0.5555555555555556,
             "#d8576b"
            ],
            [
             0.6666666666666666,
             "#ed7953"
            ],
            [
             0.7777777777777778,
             "#fb9f3a"
            ],
            [
             0.8888888888888888,
             "#fdca26"
            ],
            [
             1,
             "#f0f921"
            ]
           ],
           "sequentialminus": [
            [
             0,
             "#0d0887"
            ],
            [
             0.1111111111111111,
             "#46039f"
            ],
            [
             0.2222222222222222,
             "#7201a8"
            ],
            [
             0.3333333333333333,
             "#9c179e"
            ],
            [
             0.4444444444444444,
             "#bd3786"
            ],
            [
             0.5555555555555556,
             "#d8576b"
            ],
            [
             0.6666666666666666,
             "#ed7953"
            ],
            [
             0.7777777777777778,
             "#fb9f3a"
            ],
            [
             0.8888888888888888,
             "#fdca26"
            ],
            [
             1,
             "#f0f921"
            ]
           ]
          },
          "colorway": [
           "#636efa",
           "#EF553B",
           "#00cc96",
           "#ab63fa",
           "#FFA15A",
           "#19d3f3",
           "#FF6692",
           "#B6E880",
           "#FF97FF",
           "#FECB52"
          ],
          "font": {
           "color": "#2a3f5f"
          },
          "geo": {
           "bgcolor": "white",
           "lakecolor": "white",
           "landcolor": "#E5ECF6",
           "showlakes": true,
           "showland": true,
           "subunitcolor": "white"
          },
          "hoverlabel": {
           "align": "left"
          },
          "hovermode": "closest",
          "mapbox": {
           "style": "light"
          },
          "paper_bgcolor": "white",
          "plot_bgcolor": "#E5ECF6",
          "polar": {
           "angularaxis": {
            "gridcolor": "white",
            "linecolor": "white",
            "ticks": ""
           },
           "bgcolor": "#E5ECF6",
           "radialaxis": {
            "gridcolor": "white",
            "linecolor": "white",
            "ticks": ""
           }
          },
          "scene": {
           "xaxis": {
            "backgroundcolor": "#E5ECF6",
            "gridcolor": "white",
            "gridwidth": 2,
            "linecolor": "white",
            "showbackground": true,
            "ticks": "",
            "zerolinecolor": "white"
           },
           "yaxis": {
            "backgroundcolor": "#E5ECF6",
            "gridcolor": "white",
            "gridwidth": 2,
            "linecolor": "white",
            "showbackground": true,
            "ticks": "",
            "zerolinecolor": "white"
           },
           "zaxis": {
            "backgroundcolor": "#E5ECF6",
            "gridcolor": "white",
            "gridwidth": 2,
            "linecolor": "white",
            "showbackground": true,
            "ticks": "",
            "zerolinecolor": "white"
           }
          },
          "shapedefaults": {
           "line": {
            "color": "#2a3f5f"
           }
          },
          "ternary": {
           "aaxis": {
            "gridcolor": "white",
            "linecolor": "white",
            "ticks": ""
           },
           "baxis": {
            "gridcolor": "white",
            "linecolor": "white",
            "ticks": ""
           },
           "bgcolor": "#E5ECF6",
           "caxis": {
            "gridcolor": "white",
            "linecolor": "white",
            "ticks": ""
           }
          },
          "title": {
           "x": 0.05
          },
          "xaxis": {
           "automargin": true,
           "gridcolor": "white",
           "linecolor": "white",
           "ticks": "",
           "title": {
            "standoff": 15
           },
           "zerolinecolor": "white",
           "zerolinewidth": 2
          },
          "yaxis": {
           "automargin": true,
           "gridcolor": "white",
           "linecolor": "white",
           "ticks": "",
           "title": {
            "standoff": 15
           },
           "zerolinecolor": "white",
           "zerolinewidth": 2
          }
         }
        },
        "title": {
         "font": {
          "color": "#4D5663"
         },
         "text": "average grade per module of students that pass the course"
        },
        "xaxis": {
         "gridcolor": "#E1E5ED",
         "showgrid": true,
         "tickfont": {
          "color": "#4D5663"
         },
         "title": {
          "font": {
           "color": "#4D5663"
          },
          "text": ""
         },
         "zerolinecolor": "#E1E5ED"
        },
        "yaxis": {
         "gridcolor": "#E1E5ED",
         "showgrid": true,
         "tickfont": {
          "color": "#4D5663"
         },
         "title": {
          "font": {
           "color": "#4D5663"
          },
          "text": ""
         },
         "zerolinecolor": "#E1E5ED"
        }
       }
      },
      "text/html": [
       "<div>\n",
       "        \n",
       "        \n",
       "            <div id=\"1a4d2c16-af5d-44ca-994f-6b0a504c3c6b\" class=\"plotly-graph-div\" style=\"height:525px; width:100%;\"></div>\n",
       "            <script type=\"text/javascript\">\n",
       "                require([\"plotly\"], function(Plotly) {\n",
       "                    window.PLOTLYENV=window.PLOTLYENV || {};\n",
       "                    window.PLOTLYENV.BASE_URL='https://plot.ly';\n",
       "                    \n",
       "                if (document.getElementById(\"1a4d2c16-af5d-44ca-994f-6b0a504c3c6b\")) {\n",
       "                    Plotly.newPlot(\n",
       "                        '1a4d2c16-af5d-44ca-994f-6b0a504c3c6b',\n",
       "                        [{\"boxpoints\": false, \"line\": {\"width\": 1.3}, \"marker\": {\"color\": \"rgba(255, 153, 51, 1.0)\"}, \"name\": \"CI average\", \"orientation\": \"v\", \"type\": \"box\", \"y\": [3.485, 3.865, 3.455, 3.565, 3.77, 2.82, 3.885, 3.095, 3.93, 3.555, 3.18, 3.02, 3.6, 3.46, 2.575, 2.6, 2.68, 3.26, 2.93, 2.885, 2.995, 3.125, 3.225, 3.205, 2.365, 3.46, 3.45, 2.845, 3.55, 3.73, 3.7, 3.095, 3.455, 3.25, 3.49, 3.335, 3.545, 3.605, 3.67, 3.325, 3.31, 3.865, 3.285, 3.415, 3.595, 3.575, 3.115, 3.13, 2.8, 3.22, 4.355, 3.115, 2.855, 3.14, 3.77, 3.205, 3.465, 2.235, 3.75, 3.63, 2.965, 3.68, 3.39, 3.235, 3.245, 3.56, 3.62, 2.755, 3.09, 3.34, 3.99, 3.055, 3.05, 3.81, 3.15, 3.435, 3.09, 3.345, 3.765, 3.09, 3.03, 3.285, 3.325, 3.915, 3.26, 3.75, 3.265]}, {\"boxpoints\": false, \"line\": {\"width\": 1.3}, \"marker\": {\"color\": \"rgba(55, 128, 191, 1.0)\"}, \"name\": \"DD average\", \"orientation\": \"v\", \"type\": \"box\", \"y\": [3.755, 3.33, 3.575, 3.285, 3.475, 2.863, 3.16, 3.212, 3.535, 3.275, 2.888, 3.533, 3.565, 3.085, 3.395, 3.435, 3.355, 2.9, 3.115, 3.62, 3.738, 3.665, 2.883, 4.003, 3.595, 3.226, 2.932, 3.345, 3.755, 3.355, 3.405, 3.255, 3.34, 3.415, 3.375, 3.595, 3.265, 3.265, 3.272, 3.143, 3.19, 3.213, 3.305, 2.92, 3.763, 3.118, 4.035, 3.472, 3.337, 3.39, 3.97, 3.205, 3.165, 3.265, 3.54, 3.59, 3.169, 3.813, 3.69, 3.753, 3.15, 3.338, 3.78, 3.105, 2.73, 2.996, 3.265, 3.082, 3.785, 3.013, 3.21, 3.35, 3.355, 3.785, 3.028, 3.615, 3.865, 4.0, 3.435, 3.148, 3.293, 3.375, 3.8, 3.555, 2.992, 3.62, 3.228]}, {\"boxpoints\": false, \"line\": {\"width\": 1.3}, \"marker\": {\"color\": \"rgba(50, 171, 96, 1.0)\"}, \"name\": \"EL Average\", \"orientation\": \"v\", \"type\": \"box\", \"y\": [3.7, 3.7375, 3.5725, 3.675, 3.55, 3.3525, 3.95, 3.45, 3.6375, 3.1875, 3.0875, 3.8125, 3.1875, 2.925, 3.925, 3.075, 3.6325, 3.5625, 3.2375, 3.5875, 3.5875, 3.7125, 3.3425, 3.8625, 3.8375, 3.675, 3.525, 2.9, 3.54, 3.45, 3.9875, 3.4375, 3.3375, 3.505, 3.5, 3.2175, 3.4, 3.8375, 3.5675, 3.775, 3.9, 3.525, 3.7625, 3.75, 3.4825, 3.025, 3.2125, 3.075, 3.55, 3.3625, 3.2625, 3.2975, 3.4625, 3.75, 3.25, 3.425, 2.5525, 3.625, 3.45, 3.0875, 3.125, 3.65, 3.725, 3.4125, 3.1975, 3.55, 3.7, 3.06, 3.345, 3.4875, 3.6375, 3.175, 3.775, 3.75, 3.6625, 3.5625, 2.925, 3.1625, 4.1125, 3.445, 2.9375, 3.4875, 3.425, 3.8375, 2.8, 3.175, 3.39]}, {\"boxpoints\": false, \"line\": {\"width\": 1.3}, \"marker\": {\"color\": \"rgba(128, 0, 128, 1.0)\"}, \"name\": \"PR Average\", \"orientation\": \"v\", \"type\": \"box\", \"y\": [3.8025, 3.445, 3.207, 2.8985, 3.5875, 3.376, 3.5375, 3.155, 4.031, 3.4125, 3.0, 2.975, 3.2725, 2.907, 3.775, 3.015, 3.035, 2.8675, 3.11, 3.345, 3.3375, 3.62, 3.009, 3.1325, 3.455, 3.2555, 3.145, 3.0325, 3.3, 3.0375, 3.28, 3.0025, 3.465, 2.995, 3.4175, 3.2225, 3.3625, 3.52, 3.28, 3.11, 3.0, 3.3525, 3.41, 2.4995, 3.2575, 2.396, 3.39, 2.697, 3.485, 3.0775, 3.43, 3.127, 2.905, 3.291, 3.7675, 3.625, 3.042, 3.5, 3.3325, 3.025, 3.1705, 3.1965, 3.34, 3.2625, 3.2225, 2.7095, 3.3725, 3.1595, 2.6325, 3.165, 3.5785, 3.248, 2.9335, 3.855, 2.9715, 3.41, 3.045, 3.76, 3.2075, 2.793, 2.9175, 3.335, 3.4575, 3.5475, 3.0075, 3.6875, 2.8685]}, {\"boxpoints\": false, \"line\": {\"width\": 1.3}, \"marker\": {\"color\": \"rgba(219, 64, 82, 1.0)\"}, \"name\": \"Overall LC average\", \"orientation\": \"v\", \"type\": \"box\", \"y\": [3.685625, 3.594375, 3.452375, 3.355875, 3.595625, 3.102875, 3.633125, 3.228, 3.783375, 3.3575, 3.038875, 3.335125, 3.40625, 3.09425, 3.4175, 3.03125, 3.175625, 3.1475, 3.098125, 3.359375, 3.4145, 3.530625, 3.114875, 3.55075, 3.313125, 3.404125, 3.263, 3.030625, 3.53625, 3.393125, 3.593125, 3.1975, 3.399375, 3.29125, 3.445625, 3.3425, 3.393125, 3.556875, 3.447375, 3.33825, 3.35, 3.488875, 3.440625, 3.146125, 3.5245, 3.0285, 3.438125, 3.0935, 3.293, 3.2625, 3.754375, 3.186125, 3.096875, 3.3615, 3.581875, 3.46125, 3.057125, 3.29325, 3.555625, 3.373875, 3.102625, 3.466125, 3.55875, 3.25375, 3.09875, 3.203875, 3.489375, 3.014125, 3.213125, 3.251375, 3.604, 3.207, 3.278375, 3.8, 3.203, 3.505625, 3.23125, 3.566875, 3.63, 3.119, 3.0445, 3.370625, 3.501875, 3.71375, 3.014875, 3.558125, 3.187875]}],\n",
       "                        {\"legend\": {\"bgcolor\": \"#F5F6F9\", \"font\": {\"color\": \"#4D5663\"}}, \"paper_bgcolor\": \"#F5F6F9\", \"plot_bgcolor\": \"#F5F6F9\", \"template\": {\"data\": {\"bar\": [{\"error_x\": {\"color\": \"#2a3f5f\"}, \"error_y\": {\"color\": \"#2a3f5f\"}, \"marker\": {\"line\": {\"color\": \"#E5ECF6\", \"width\": 0.5}}, \"type\": \"bar\"}], \"barpolar\": [{\"marker\": {\"line\": {\"color\": \"#E5ECF6\", \"width\": 0.5}}, \"type\": \"barpolar\"}], \"carpet\": [{\"aaxis\": {\"endlinecolor\": \"#2a3f5f\", \"gridcolor\": \"white\", \"linecolor\": \"white\", \"minorgridcolor\": \"white\", \"startlinecolor\": \"#2a3f5f\"}, \"baxis\": {\"endlinecolor\": \"#2a3f5f\", \"gridcolor\": \"white\", \"linecolor\": \"white\", \"minorgridcolor\": \"white\", \"startlinecolor\": \"#2a3f5f\"}, \"type\": \"carpet\"}], \"choropleth\": [{\"colorbar\": {\"outlinewidth\": 0, \"ticks\": \"\"}, \"type\": \"choropleth\"}], \"contour\": [{\"colorbar\": {\"outlinewidth\": 0, \"ticks\": \"\"}, \"colorscale\": [[0.0, \"#0d0887\"], [0.1111111111111111, \"#46039f\"], [0.2222222222222222, \"#7201a8\"], [0.3333333333333333, \"#9c179e\"], [0.4444444444444444, \"#bd3786\"], [0.5555555555555556, \"#d8576b\"], [0.6666666666666666, \"#ed7953\"], [0.7777777777777778, \"#fb9f3a\"], [0.8888888888888888, \"#fdca26\"], [1.0, \"#f0f921\"]], \"type\": \"contour\"}], \"contourcarpet\": [{\"colorbar\": {\"outlinewidth\": 0, \"ticks\": \"\"}, \"type\": \"contourcarpet\"}], \"heatmap\": [{\"colorbar\": {\"outlinewidth\": 0, \"ticks\": \"\"}, \"colorscale\": [[0.0, \"#0d0887\"], [0.1111111111111111, \"#46039f\"], [0.2222222222222222, \"#7201a8\"], [0.3333333333333333, \"#9c179e\"], [0.4444444444444444, \"#bd3786\"], [0.5555555555555556, \"#d8576b\"], [0.6666666666666666, \"#ed7953\"], [0.7777777777777778, \"#fb9f3a\"], [0.8888888888888888, \"#fdca26\"], [1.0, \"#f0f921\"]], \"type\": \"heatmap\"}], \"heatmapgl\": [{\"colorbar\": {\"outlinewidth\": 0, \"ticks\": \"\"}, \"colorscale\": [[0.0, \"#0d0887\"], [0.1111111111111111, \"#46039f\"], [0.2222222222222222, \"#7201a8\"], [0.3333333333333333, \"#9c179e\"], [0.4444444444444444, \"#bd3786\"], [0.5555555555555556, \"#d8576b\"], [0.6666666666666666, \"#ed7953\"], [0.7777777777777778, \"#fb9f3a\"], [0.8888888888888888, \"#fdca26\"], [1.0, \"#f0f921\"]], \"type\": \"heatmapgl\"}], \"histogram\": [{\"marker\": {\"colorbar\": {\"outlinewidth\": 0, \"ticks\": \"\"}}, \"type\": \"histogram\"}], \"histogram2d\": [{\"colorbar\": {\"outlinewidth\": 0, \"ticks\": \"\"}, \"colorscale\": [[0.0, \"#0d0887\"], [0.1111111111111111, \"#46039f\"], [0.2222222222222222, \"#7201a8\"], [0.3333333333333333, \"#9c179e\"], [0.4444444444444444, \"#bd3786\"], [0.5555555555555556, \"#d8576b\"], [0.6666666666666666, \"#ed7953\"], [0.7777777777777778, \"#fb9f3a\"], [0.8888888888888888, \"#fdca26\"], [1.0, \"#f0f921\"]], \"type\": \"histogram2d\"}], \"histogram2dcontour\": [{\"colorbar\": {\"outlinewidth\": 0, \"ticks\": \"\"}, \"colorscale\": [[0.0, \"#0d0887\"], [0.1111111111111111, \"#46039f\"], [0.2222222222222222, \"#7201a8\"], [0.3333333333333333, \"#9c179e\"], [0.4444444444444444, \"#bd3786\"], [0.5555555555555556, \"#d8576b\"], [0.6666666666666666, \"#ed7953\"], [0.7777777777777778, \"#fb9f3a\"], [0.8888888888888888, \"#fdca26\"], [1.0, \"#f0f921\"]], \"type\": \"histogram2dcontour\"}], \"mesh3d\": [{\"colorbar\": {\"outlinewidth\": 0, \"ticks\": \"\"}, \"type\": \"mesh3d\"}], \"parcoords\": [{\"line\": {\"colorbar\": {\"outlinewidth\": 0, \"ticks\": \"\"}}, \"type\": \"parcoords\"}], \"pie\": [{\"automargin\": true, \"type\": \"pie\"}], \"scatter\": [{\"marker\": {\"colorbar\": {\"outlinewidth\": 0, \"ticks\": \"\"}}, \"type\": \"scatter\"}], \"scatter3d\": [{\"line\": {\"colorbar\": {\"outlinewidth\": 0, \"ticks\": \"\"}}, \"marker\": {\"colorbar\": {\"outlinewidth\": 0, \"ticks\": \"\"}}, \"type\": \"scatter3d\"}], \"scattercarpet\": [{\"marker\": {\"colorbar\": {\"outlinewidth\": 0, \"ticks\": \"\"}}, \"type\": \"scattercarpet\"}], \"scattergeo\": [{\"marker\": {\"colorbar\": {\"outlinewidth\": 0, \"ticks\": \"\"}}, \"type\": \"scattergeo\"}], \"scattergl\": [{\"marker\": {\"colorbar\": {\"outlinewidth\": 0, \"ticks\": \"\"}}, \"type\": \"scattergl\"}], \"scattermapbox\": [{\"marker\": {\"colorbar\": {\"outlinewidth\": 0, \"ticks\": \"\"}}, \"type\": \"scattermapbox\"}], \"scatterpolar\": [{\"marker\": {\"colorbar\": {\"outlinewidth\": 0, \"ticks\": \"\"}}, \"type\": \"scatterpolar\"}], \"scatterpolargl\": [{\"marker\": {\"colorbar\": {\"outlinewidth\": 0, \"ticks\": \"\"}}, \"type\": \"scatterpolargl\"}], \"scatterternary\": [{\"marker\": {\"colorbar\": {\"outlinewidth\": 0, \"ticks\": \"\"}}, \"type\": \"scatterternary\"}], \"surface\": [{\"colorbar\": {\"outlinewidth\": 0, \"ticks\": \"\"}, \"colorscale\": [[0.0, \"#0d0887\"], [0.1111111111111111, \"#46039f\"], [0.2222222222222222, \"#7201a8\"], [0.3333333333333333, \"#9c179e\"], [0.4444444444444444, \"#bd3786\"], [0.5555555555555556, \"#d8576b\"], [0.6666666666666666, \"#ed7953\"], [0.7777777777777778, \"#fb9f3a\"], [0.8888888888888888, \"#fdca26\"], [1.0, \"#f0f921\"]], \"type\": \"surface\"}], \"table\": [{\"cells\": {\"fill\": {\"color\": \"#EBF0F8\"}, \"line\": {\"color\": \"white\"}}, \"header\": {\"fill\": {\"color\": \"#C8D4E3\"}, \"line\": {\"color\": \"white\"}}, \"type\": \"table\"}]}, \"layout\": {\"annotationdefaults\": {\"arrowcolor\": \"#2a3f5f\", \"arrowhead\": 0, \"arrowwidth\": 1}, \"coloraxis\": {\"colorbar\": {\"outlinewidth\": 0, \"ticks\": \"\"}}, \"colorscale\": {\"diverging\": [[0, \"#8e0152\"], [0.1, \"#c51b7d\"], [0.2, \"#de77ae\"], [0.3, \"#f1b6da\"], [0.4, \"#fde0ef\"], [0.5, \"#f7f7f7\"], [0.6, \"#e6f5d0\"], [0.7, \"#b8e186\"], [0.8, \"#7fbc41\"], [0.9, \"#4d9221\"], [1, \"#276419\"]], \"sequential\": [[0.0, \"#0d0887\"], [0.1111111111111111, \"#46039f\"], [0.2222222222222222, \"#7201a8\"], [0.3333333333333333, \"#9c179e\"], [0.4444444444444444, \"#bd3786\"], [0.5555555555555556, \"#d8576b\"], [0.6666666666666666, \"#ed7953\"], [0.7777777777777778, \"#fb9f3a\"], [0.8888888888888888, \"#fdca26\"], [1.0, \"#f0f921\"]], \"sequentialminus\": [[0.0, \"#0d0887\"], [0.1111111111111111, \"#46039f\"], [0.2222222222222222, \"#7201a8\"], [0.3333333333333333, \"#9c179e\"], [0.4444444444444444, \"#bd3786\"], [0.5555555555555556, \"#d8576b\"], [0.6666666666666666, \"#ed7953\"], [0.7777777777777778, \"#fb9f3a\"], [0.8888888888888888, \"#fdca26\"], [1.0, \"#f0f921\"]]}, \"colorway\": [\"#636efa\", \"#EF553B\", \"#00cc96\", \"#ab63fa\", \"#FFA15A\", \"#19d3f3\", \"#FF6692\", \"#B6E880\", \"#FF97FF\", \"#FECB52\"], \"font\": {\"color\": \"#2a3f5f\"}, \"geo\": {\"bgcolor\": \"white\", \"lakecolor\": \"white\", \"landcolor\": \"#E5ECF6\", \"showlakes\": true, \"showland\": true, \"subunitcolor\": \"white\"}, \"hoverlabel\": {\"align\": \"left\"}, \"hovermode\": \"closest\", \"mapbox\": {\"style\": \"light\"}, \"paper_bgcolor\": \"white\", \"plot_bgcolor\": \"#E5ECF6\", \"polar\": {\"angularaxis\": {\"gridcolor\": \"white\", \"linecolor\": \"white\", \"ticks\": \"\"}, \"bgcolor\": \"#E5ECF6\", \"radialaxis\": {\"gridcolor\": \"white\", \"linecolor\": \"white\", \"ticks\": \"\"}}, \"scene\": {\"xaxis\": {\"backgroundcolor\": \"#E5ECF6\", \"gridcolor\": \"white\", \"gridwidth\": 2, \"linecolor\": \"white\", \"showbackground\": true, \"ticks\": \"\", \"zerolinecolor\": \"white\"}, \"yaxis\": {\"backgroundcolor\": \"#E5ECF6\", \"gridcolor\": \"white\", \"gridwidth\": 2, \"linecolor\": \"white\", \"showbackground\": true, \"ticks\": \"\", \"zerolinecolor\": \"white\"}, \"zaxis\": {\"backgroundcolor\": \"#E5ECF6\", \"gridcolor\": \"white\", \"gridwidth\": 2, \"linecolor\": \"white\", \"showbackground\": true, \"ticks\": \"\", \"zerolinecolor\": \"white\"}}, \"shapedefaults\": {\"line\": {\"color\": \"#2a3f5f\"}}, \"ternary\": {\"aaxis\": {\"gridcolor\": \"white\", \"linecolor\": \"white\", \"ticks\": \"\"}, \"baxis\": {\"gridcolor\": \"white\", \"linecolor\": \"white\", \"ticks\": \"\"}, \"bgcolor\": \"#E5ECF6\", \"caxis\": {\"gridcolor\": \"white\", \"linecolor\": \"white\", \"ticks\": \"\"}}, \"title\": {\"x\": 0.05}, \"xaxis\": {\"automargin\": true, \"gridcolor\": \"white\", \"linecolor\": \"white\", \"ticks\": \"\", \"title\": {\"standoff\": 15}, \"zerolinecolor\": \"white\", \"zerolinewidth\": 2}, \"yaxis\": {\"automargin\": true, \"gridcolor\": \"white\", \"linecolor\": \"white\", \"ticks\": \"\", \"title\": {\"standoff\": 15}, \"zerolinecolor\": \"white\", \"zerolinewidth\": 2}}}, \"title\": {\"font\": {\"color\": \"#4D5663\"}, \"text\": \"average grade per module of students that pass the course\"}, \"xaxis\": {\"gridcolor\": \"#E1E5ED\", \"showgrid\": true, \"tickfont\": {\"color\": \"#4D5663\"}, \"title\": {\"font\": {\"color\": \"#4D5663\"}, \"text\": \"\"}, \"zerolinecolor\": \"#E1E5ED\"}, \"yaxis\": {\"gridcolor\": \"#E1E5ED\", \"showgrid\": true, \"tickfont\": {\"color\": \"#4D5663\"}, \"title\": {\"font\": {\"color\": \"#4D5663\"}, \"text\": \"\"}, \"zerolinecolor\": \"#E1E5ED\"}},\n",
       "                        {\"showLink\": true, \"linkText\": \"Export to plot.ly\", \"plotlyServerURL\": \"https://plot.ly\", \"responsive\": true}\n",
       "                    ).then(function(){\n",
       "                            \n",
       "var gd = document.getElementById('1a4d2c16-af5d-44ca-994f-6b0a504c3c6b');\n",
       "var x = new MutationObserver(function (mutations, observer) {{\n",
       "        var display = window.getComputedStyle(gd).display;\n",
       "        if (!display || display === 'none') {{\n",
       "            console.log([gd, 'removed!']);\n",
       "            Plotly.purge(gd);\n",
       "            observer.disconnect();\n",
       "        }}\n",
       "}});\n",
       "\n",
       "// Listen for the removal of the full notebook cells\n",
       "var notebookContainer = gd.closest('#notebook-container');\n",
       "if (notebookContainer) {{\n",
       "    x.observe(notebookContainer, {childList: true});\n",
       "}}\n",
       "\n",
       "// Listen for the clearing of the current output cell\n",
       "var outputEl = gd.closest('.output');\n",
       "if (outputEl) {{\n",
       "    x.observe(outputEl, {childList: true});\n",
       "}}\n",
       "\n",
       "                        })\n",
       "                };\n",
       "                });\n",
       "            </script>\n",
       "        </div>"
      ]
     },
     "metadata": {},
     "output_type": "display_data"
    }
   ],
   "source": [
    "pass_students[['CI average','DD average','EL Average','PR Average','Overall LC average']].iplot(kind='box', title='average grade per module of students that pass the course')"
   ]
  },
  {
   "cell_type": "code",
   "execution_count": null,
   "metadata": {},
   "outputs": [],
   "source": [
    "pass_students[['CI average','DD average','EL Average','PR Average','Overall LC average']].iplot(kind='box', title='average grade per module of  all students')"
   ]
  },
  {
   "cell_type": "code",
   "execution_count": 55,
   "metadata": {},
   "outputs": [],
   "source": [
    "c=df['Failing']=='Fail'"
   ]
  },
  {
   "cell_type": "code",
   "execution_count": 56,
   "metadata": {},
   "outputs": [],
   "source": [
    "fail_students_complete=df[c]"
   ]
  },
  {
   "cell_type": "code",
   "execution_count": 58,
   "metadata": {},
   "outputs": [
    {
     "data": {
      "text/html": [
       "<div>\n",
       "<style scoped>\n",
       "    .dataframe tbody tr th:only-of-type {\n",
       "        vertical-align: middle;\n",
       "    }\n",
       "\n",
       "    .dataframe tbody tr th {\n",
       "        vertical-align: top;\n",
       "    }\n",
       "\n",
       "    .dataframe thead th {\n",
       "        text-align: right;\n",
       "    }\n",
       "</style>\n",
       "<table border=\"1\" class=\"dataframe\">\n",
       "  <thead>\n",
       "    <tr style=\"text-align: right;\">\n",
       "      <th></th>\n",
       "      <th>StudentID</th>\n",
       "      <th>CI 1</th>\n",
       "      <th>Unnamed: 2</th>\n",
       "      <th>CI 2</th>\n",
       "      <th>Unnamed: 4</th>\n",
       "      <th>CI 3</th>\n",
       "      <th>Unnamed: 6</th>\n",
       "      <th>CI 4</th>\n",
       "      <th>Unnamed: 8</th>\n",
       "      <th>DD 1</th>\n",
       "      <th>Unnamed: 10</th>\n",
       "      <th>DD 2</th>\n",
       "      <th>Unnamed: 12</th>\n",
       "      <th>DD 3</th>\n",
       "      <th>Unnamed: 14</th>\n",
       "      <th>DD 4A</th>\n",
       "      <th>Unnamed: 16</th>\n",
       "      <th>DD 4B</th>\n",
       "      <th>Unnamed: 18</th>\n",
       "      <th>EL 1</th>\n",
       "      <th>Unnamed: 20</th>\n",
       "      <th>EL 2</th>\n",
       "      <th>Unnamed: 22</th>\n",
       "      <th>EL 3</th>\n",
       "      <th>Unnamed: 24</th>\n",
       "      <th>EL 4</th>\n",
       "      <th>Unnamed: 26</th>\n",
       "      <th>PR 1</th>\n",
       "      <th>Unnamed: 28</th>\n",
       "      <th>PR 2</th>\n",
       "      <th>Unnamed: 30</th>\n",
       "      <th>PR3</th>\n",
       "      <th>Unnamed: 32</th>\n",
       "      <th>PR4</th>\n",
       "      <th>Unnamed: 34</th>\n",
       "      <th>CI average</th>\n",
       "      <th>RCI</th>\n",
       "      <th>DD average</th>\n",
       "      <th>RDD</th>\n",
       "      <th>EL Average</th>\n",
       "      <th>REL</th>\n",
       "      <th>PR Average</th>\n",
       "      <th>RPR</th>\n",
       "      <th>Overall LC average</th>\n",
       "      <th>Failing</th>\n",
       "    </tr>\n",
       "  </thead>\n",
       "  <tbody>\n",
       "    <tr>\n",
       "      <td>1</td>\n",
       "      <td>Student002</td>\n",
       "      <td>0.0</td>\n",
       "      <td>0.15</td>\n",
       "      <td>0.0</td>\n",
       "      <td>0.25</td>\n",
       "      <td>0.0</td>\n",
       "      <td>0.25</td>\n",
       "      <td>0.00</td>\n",
       "      <td>0.35</td>\n",
       "      <td>3.00</td>\n",
       "      <td>0.1</td>\n",
       "      <td>0.00</td>\n",
       "      <td>0.3</td>\n",
       "      <td>3.57</td>\n",
       "      <td>0.4</td>\n",
       "      <td>1.90</td>\n",
       "      <td>0.1</td>\n",
       "      <td>3.95</td>\n",
       "      <td>0.1</td>\n",
       "      <td>3.20</td>\n",
       "      <td>0.25</td>\n",
       "      <td>4.45</td>\n",
       "      <td>0.25</td>\n",
       "      <td>4.85</td>\n",
       "      <td>0.25</td>\n",
       "      <td>3.85</td>\n",
       "      <td>0.25</td>\n",
       "      <td>2.70</td>\n",
       "      <td>0.2</td>\n",
       "      <td>3.90</td>\n",
       "      <td>0.25</td>\n",
       "      <td>4.30</td>\n",
       "      <td>0.35</td>\n",
       "      <td>4.15</td>\n",
       "      <td>0.2</td>\n",
       "      <td>0.0000</td>\n",
       "      <td>Fail</td>\n",
       "      <td>2.313</td>\n",
       "      <td>Fail</td>\n",
       "      <td>4.0875</td>\n",
       "      <td>Pass</td>\n",
       "      <td>3.8500</td>\n",
       "      <td>Pass</td>\n",
       "      <td>2.562625</td>\n",
       "      <td>Fail</td>\n",
       "    </tr>\n",
       "    <tr>\n",
       "      <td>19</td>\n",
       "      <td>Student020</td>\n",
       "      <td>3.0</td>\n",
       "      <td>0.15</td>\n",
       "      <td>2.3</td>\n",
       "      <td>0.25</td>\n",
       "      <td>2.2</td>\n",
       "      <td>0.25</td>\n",
       "      <td>3.05</td>\n",
       "      <td>0.35</td>\n",
       "      <td>2.50</td>\n",
       "      <td>0.1</td>\n",
       "      <td>3.30</td>\n",
       "      <td>0.3</td>\n",
       "      <td>2.95</td>\n",
       "      <td>0.4</td>\n",
       "      <td>3.90</td>\n",
       "      <td>0.1</td>\n",
       "      <td>4.05</td>\n",
       "      <td>0.1</td>\n",
       "      <td>3.65</td>\n",
       "      <td>0.25</td>\n",
       "      <td>2.70</td>\n",
       "      <td>0.25</td>\n",
       "      <td>1.93</td>\n",
       "      <td>0.25</td>\n",
       "      <td>3.32</td>\n",
       "      <td>0.25</td>\n",
       "      <td>2.02</td>\n",
       "      <td>0.2</td>\n",
       "      <td>1.71</td>\n",
       "      <td>0.25</td>\n",
       "      <td>2.87</td>\n",
       "      <td>0.35</td>\n",
       "      <td>3.00</td>\n",
       "      <td>0.2</td>\n",
       "      <td>2.6425</td>\n",
       "      <td>Pass</td>\n",
       "      <td>3.215</td>\n",
       "      <td>Pass</td>\n",
       "      <td>2.9000</td>\n",
       "      <td>Pass</td>\n",
       "      <td>2.4360</td>\n",
       "      <td>Fail</td>\n",
       "      <td>2.798375</td>\n",
       "      <td>Fail</td>\n",
       "    </tr>\n",
       "    <tr>\n",
       "      <td>37</td>\n",
       "      <td>Student038</td>\n",
       "      <td>2.9</td>\n",
       "      <td>0.15</td>\n",
       "      <td>2.6</td>\n",
       "      <td>0.25</td>\n",
       "      <td>3.0</td>\n",
       "      <td>0.25</td>\n",
       "      <td>3.20</td>\n",
       "      <td>0.35</td>\n",
       "      <td>2.38</td>\n",
       "      <td>0.1</td>\n",
       "      <td>3.40</td>\n",
       "      <td>0.3</td>\n",
       "      <td>3.00</td>\n",
       "      <td>0.4</td>\n",
       "      <td>2.10</td>\n",
       "      <td>0.1</td>\n",
       "      <td>4.30</td>\n",
       "      <td>0.1</td>\n",
       "      <td>3.57</td>\n",
       "      <td>0.25</td>\n",
       "      <td>2.49</td>\n",
       "      <td>0.25</td>\n",
       "      <td>2.75</td>\n",
       "      <td>0.25</td>\n",
       "      <td>3.10</td>\n",
       "      <td>0.25</td>\n",
       "      <td>3.30</td>\n",
       "      <td>0.2</td>\n",
       "      <td>2.20</td>\n",
       "      <td>0.25</td>\n",
       "      <td>2.55</td>\n",
       "      <td>0.35</td>\n",
       "      <td>2.72</td>\n",
       "      <td>0.2</td>\n",
       "      <td>2.9550</td>\n",
       "      <td>Pass</td>\n",
       "      <td>3.098</td>\n",
       "      <td>Pass</td>\n",
       "      <td>2.9775</td>\n",
       "      <td>Pass</td>\n",
       "      <td>2.6465</td>\n",
       "      <td>Pass</td>\n",
       "      <td>2.919250</td>\n",
       "      <td>Fail</td>\n",
       "    </tr>\n",
       "    <tr>\n",
       "      <td>58</td>\n",
       "      <td>Student059</td>\n",
       "      <td>3.2</td>\n",
       "      <td>0.15</td>\n",
       "      <td>2.3</td>\n",
       "      <td>0.25</td>\n",
       "      <td>3.2</td>\n",
       "      <td>0.25</td>\n",
       "      <td>3.30</td>\n",
       "      <td>0.35</td>\n",
       "      <td>2.13</td>\n",
       "      <td>0.1</td>\n",
       "      <td>2.60</td>\n",
       "      <td>0.3</td>\n",
       "      <td>2.55</td>\n",
       "      <td>0.4</td>\n",
       "      <td>2.00</td>\n",
       "      <td>0.1</td>\n",
       "      <td>3.90</td>\n",
       "      <td>0.1</td>\n",
       "      <td>3.80</td>\n",
       "      <td>0.25</td>\n",
       "      <td>3.70</td>\n",
       "      <td>0.25</td>\n",
       "      <td>3.00</td>\n",
       "      <td>0.25</td>\n",
       "      <td>3.45</td>\n",
       "      <td>0.25</td>\n",
       "      <td>2.90</td>\n",
       "      <td>0.2</td>\n",
       "      <td>2.64</td>\n",
       "      <td>0.25</td>\n",
       "      <td>2.75</td>\n",
       "      <td>0.35</td>\n",
       "      <td>3.00</td>\n",
       "      <td>0.2</td>\n",
       "      <td>3.0100</td>\n",
       "      <td>Pass</td>\n",
       "      <td>2.603</td>\n",
       "      <td>Pass</td>\n",
       "      <td>3.4875</td>\n",
       "      <td>Pass</td>\n",
       "      <td>2.8025</td>\n",
       "      <td>Pass</td>\n",
       "      <td>2.975750</td>\n",
       "      <td>Fail</td>\n",
       "    </tr>\n",
       "    <tr>\n",
       "      <td>60</td>\n",
       "      <td>Student061</td>\n",
       "      <td>0.0</td>\n",
       "      <td>0.15</td>\n",
       "      <td>0.0</td>\n",
       "      <td>0.25</td>\n",
       "      <td>0.0</td>\n",
       "      <td>0.25</td>\n",
       "      <td>0.00</td>\n",
       "      <td>0.35</td>\n",
       "      <td>3.00</td>\n",
       "      <td>0.1</td>\n",
       "      <td>0.00</td>\n",
       "      <td>0.3</td>\n",
       "      <td>3.80</td>\n",
       "      <td>0.4</td>\n",
       "      <td>0.00</td>\n",
       "      <td>0.1</td>\n",
       "      <td>4.25</td>\n",
       "      <td>0.1</td>\n",
       "      <td>3.20</td>\n",
       "      <td>0.25</td>\n",
       "      <td>2.30</td>\n",
       "      <td>0.25</td>\n",
       "      <td>3.55</td>\n",
       "      <td>0.25</td>\n",
       "      <td>3.75</td>\n",
       "      <td>0.25</td>\n",
       "      <td>2.72</td>\n",
       "      <td>0.2</td>\n",
       "      <td>2.17</td>\n",
       "      <td>0.25</td>\n",
       "      <td>3.50</td>\n",
       "      <td>0.35</td>\n",
       "      <td>4.15</td>\n",
       "      <td>0.2</td>\n",
       "      <td>0.0000</td>\n",
       "      <td>Fail</td>\n",
       "      <td>2.245</td>\n",
       "      <td>Fail</td>\n",
       "      <td>3.2000</td>\n",
       "      <td>Pass</td>\n",
       "      <td>3.1415</td>\n",
       "      <td>Pass</td>\n",
       "      <td>2.146625</td>\n",
       "      <td>Fail</td>\n",
       "    </tr>\n",
       "    <tr>\n",
       "      <td>64</td>\n",
       "      <td>Student065</td>\n",
       "      <td>3.2</td>\n",
       "      <td>0.15</td>\n",
       "      <td>1.9</td>\n",
       "      <td>0.25</td>\n",
       "      <td>2.5</td>\n",
       "      <td>0.25</td>\n",
       "      <td>3.60</td>\n",
       "      <td>0.35</td>\n",
       "      <td>2.80</td>\n",
       "      <td>0.1</td>\n",
       "      <td>3.10</td>\n",
       "      <td>0.3</td>\n",
       "      <td>2.95</td>\n",
       "      <td>0.4</td>\n",
       "      <td>3.90</td>\n",
       "      <td>0.1</td>\n",
       "      <td>2.05</td>\n",
       "      <td>0.1</td>\n",
       "      <td>3.22</td>\n",
       "      <td>0.25</td>\n",
       "      <td>2.73</td>\n",
       "      <td>0.25</td>\n",
       "      <td>2.34</td>\n",
       "      <td>0.25</td>\n",
       "      <td>3.32</td>\n",
       "      <td>0.25</td>\n",
       "      <td>2.47</td>\n",
       "      <td>0.2</td>\n",
       "      <td>2.11</td>\n",
       "      <td>0.25</td>\n",
       "      <td>2.87</td>\n",
       "      <td>0.35</td>\n",
       "      <td>4.15</td>\n",
       "      <td>0.2</td>\n",
       "      <td>2.8400</td>\n",
       "      <td>Pass</td>\n",
       "      <td>2.985</td>\n",
       "      <td>Pass</td>\n",
       "      <td>2.9025</td>\n",
       "      <td>Pass</td>\n",
       "      <td>2.8560</td>\n",
       "      <td>Pass</td>\n",
       "      <td>2.895875</td>\n",
       "      <td>Fail</td>\n",
       "    </tr>\n",
       "    <tr>\n",
       "      <td>67</td>\n",
       "      <td>Student068</td>\n",
       "      <td>3.8</td>\n",
       "      <td>0.15</td>\n",
       "      <td>2.4</td>\n",
       "      <td>0.25</td>\n",
       "      <td>3.2</td>\n",
       "      <td>0.25</td>\n",
       "      <td>2.90</td>\n",
       "      <td>0.35</td>\n",
       "      <td>2.38</td>\n",
       "      <td>0.1</td>\n",
       "      <td>3.30</td>\n",
       "      <td>0.3</td>\n",
       "      <td>2.15</td>\n",
       "      <td>0.4</td>\n",
       "      <td>2.80</td>\n",
       "      <td>0.1</td>\n",
       "      <td>4.25</td>\n",
       "      <td>0.1</td>\n",
       "      <td>3.36</td>\n",
       "      <td>0.25</td>\n",
       "      <td>2.44</td>\n",
       "      <td>0.25</td>\n",
       "      <td>3.94</td>\n",
       "      <td>0.25</td>\n",
       "      <td>2.90</td>\n",
       "      <td>0.25</td>\n",
       "      <td>3.20</td>\n",
       "      <td>0.2</td>\n",
       "      <td>1.91</td>\n",
       "      <td>0.25</td>\n",
       "      <td>2.45</td>\n",
       "      <td>0.35</td>\n",
       "      <td>3.53</td>\n",
       "      <td>0.2</td>\n",
       "      <td>2.9850</td>\n",
       "      <td>Pass</td>\n",
       "      <td>2.793</td>\n",
       "      <td>Pass</td>\n",
       "      <td>3.1600</td>\n",
       "      <td>Pass</td>\n",
       "      <td>2.6810</td>\n",
       "      <td>Pass</td>\n",
       "      <td>2.904750</td>\n",
       "      <td>Fail</td>\n",
       "    </tr>\n",
       "    <tr>\n",
       "      <td>68</td>\n",
       "      <td>Student069</td>\n",
       "      <td>3.1</td>\n",
       "      <td>0.15</td>\n",
       "      <td>2.9</td>\n",
       "      <td>0.25</td>\n",
       "      <td>2.2</td>\n",
       "      <td>0.25</td>\n",
       "      <td>2.50</td>\n",
       "      <td>0.35</td>\n",
       "      <td>2.50</td>\n",
       "      <td>0.1</td>\n",
       "      <td>3.90</td>\n",
       "      <td>0.3</td>\n",
       "      <td>3.00</td>\n",
       "      <td>0.4</td>\n",
       "      <td>3.90</td>\n",
       "      <td>0.1</td>\n",
       "      <td>2.80</td>\n",
       "      <td>0.1</td>\n",
       "      <td>3.80</td>\n",
       "      <td>0.25</td>\n",
       "      <td>1.89</td>\n",
       "      <td>0.25</td>\n",
       "      <td>2.70</td>\n",
       "      <td>0.25</td>\n",
       "      <td>3.15</td>\n",
       "      <td>0.25</td>\n",
       "      <td>2.40</td>\n",
       "      <td>0.2</td>\n",
       "      <td>2.45</td>\n",
       "      <td>0.25</td>\n",
       "      <td>3.55</td>\n",
       "      <td>0.35</td>\n",
       "      <td>4.30</td>\n",
       "      <td>0.2</td>\n",
       "      <td>2.6150</td>\n",
       "      <td>Pass</td>\n",
       "      <td>3.290</td>\n",
       "      <td>Pass</td>\n",
       "      <td>2.8850</td>\n",
       "      <td>Pass</td>\n",
       "      <td>3.1950</td>\n",
       "      <td>Pass</td>\n",
       "      <td>2.996250</td>\n",
       "      <td>Fail</td>\n",
       "    </tr>\n",
       "    <tr>\n",
       "      <td>71</td>\n",
       "      <td>Student072</td>\n",
       "      <td>0.0</td>\n",
       "      <td>0.15</td>\n",
       "      <td>0.0</td>\n",
       "      <td>0.25</td>\n",
       "      <td>4.5</td>\n",
       "      <td>0.25</td>\n",
       "      <td>3.60</td>\n",
       "      <td>0.35</td>\n",
       "      <td>2.25</td>\n",
       "      <td>0.1</td>\n",
       "      <td>2.80</td>\n",
       "      <td>0.3</td>\n",
       "      <td>2.70</td>\n",
       "      <td>0.4</td>\n",
       "      <td>3.10</td>\n",
       "      <td>0.1</td>\n",
       "      <td>3.65</td>\n",
       "      <td>0.1</td>\n",
       "      <td>3.00</td>\n",
       "      <td>0.25</td>\n",
       "      <td>2.50</td>\n",
       "      <td>0.25</td>\n",
       "      <td>3.15</td>\n",
       "      <td>0.25</td>\n",
       "      <td>2.85</td>\n",
       "      <td>0.25</td>\n",
       "      <td>2.55</td>\n",
       "      <td>0.2</td>\n",
       "      <td>2.60</td>\n",
       "      <td>0.25</td>\n",
       "      <td>1.43</td>\n",
       "      <td>0.35</td>\n",
       "      <td>3.15</td>\n",
       "      <td>0.2</td>\n",
       "      <td>2.3850</td>\n",
       "      <td>Fail</td>\n",
       "      <td>2.820</td>\n",
       "      <td>Pass</td>\n",
       "      <td>2.8750</td>\n",
       "      <td>Pass</td>\n",
       "      <td>2.2905</td>\n",
       "      <td>Fail</td>\n",
       "      <td>2.592625</td>\n",
       "      <td>Fail</td>\n",
       "    </tr>\n",
       "    <tr>\n",
       "      <td>72</td>\n",
       "      <td>Student073</td>\n",
       "      <td>2.8</td>\n",
       "      <td>0.15</td>\n",
       "      <td>2.4</td>\n",
       "      <td>0.25</td>\n",
       "      <td>2.3</td>\n",
       "      <td>0.25</td>\n",
       "      <td>3.50</td>\n",
       "      <td>0.35</td>\n",
       "      <td>3.30</td>\n",
       "      <td>0.1</td>\n",
       "      <td>3.30</td>\n",
       "      <td>0.3</td>\n",
       "      <td>3.90</td>\n",
       "      <td>0.4</td>\n",
       "      <td>2.28</td>\n",
       "      <td>0.1</td>\n",
       "      <td>3.06</td>\n",
       "      <td>0.1</td>\n",
       "      <td>2.74</td>\n",
       "      <td>0.25</td>\n",
       "      <td>2.41</td>\n",
       "      <td>0.25</td>\n",
       "      <td>2.70</td>\n",
       "      <td>0.25</td>\n",
       "      <td>3.15</td>\n",
       "      <td>0.25</td>\n",
       "      <td>2.07</td>\n",
       "      <td>0.2</td>\n",
       "      <td>2.72</td>\n",
       "      <td>0.25</td>\n",
       "      <td>2.42</td>\n",
       "      <td>0.35</td>\n",
       "      <td>4.00</td>\n",
       "      <td>0.2</td>\n",
       "      <td>2.8200</td>\n",
       "      <td>Pass</td>\n",
       "      <td>3.414</td>\n",
       "      <td>Pass</td>\n",
       "      <td>2.7500</td>\n",
       "      <td>Pass</td>\n",
       "      <td>2.7410</td>\n",
       "      <td>Pass</td>\n",
       "      <td>2.931250</td>\n",
       "      <td>Fail</td>\n",
       "    </tr>\n",
       "    <tr>\n",
       "      <td>77</td>\n",
       "      <td>Student078</td>\n",
       "      <td>2.7</td>\n",
       "      <td>0.15</td>\n",
       "      <td>2.5</td>\n",
       "      <td>0.25</td>\n",
       "      <td>2.8</td>\n",
       "      <td>0.25</td>\n",
       "      <td>2.98</td>\n",
       "      <td>0.35</td>\n",
       "      <td>2.00</td>\n",
       "      <td>0.1</td>\n",
       "      <td>3.10</td>\n",
       "      <td>0.3</td>\n",
       "      <td>3.60</td>\n",
       "      <td>0.4</td>\n",
       "      <td>1.70</td>\n",
       "      <td>0.1</td>\n",
       "      <td>3.45</td>\n",
       "      <td>0.1</td>\n",
       "      <td>3.20</td>\n",
       "      <td>0.25</td>\n",
       "      <td>3.00</td>\n",
       "      <td>0.25</td>\n",
       "      <td>2.85</td>\n",
       "      <td>0.25</td>\n",
       "      <td>3.44</td>\n",
       "      <td>0.25</td>\n",
       "      <td>2.13</td>\n",
       "      <td>0.2</td>\n",
       "      <td>3.10</td>\n",
       "      <td>0.25</td>\n",
       "      <td>3.55</td>\n",
       "      <td>0.35</td>\n",
       "      <td>2.68</td>\n",
       "      <td>0.2</td>\n",
       "      <td>2.7730</td>\n",
       "      <td>Pass</td>\n",
       "      <td>3.085</td>\n",
       "      <td>Pass</td>\n",
       "      <td>3.1225</td>\n",
       "      <td>Pass</td>\n",
       "      <td>2.9795</td>\n",
       "      <td>Pass</td>\n",
       "      <td>2.990000</td>\n",
       "      <td>Fail</td>\n",
       "    </tr>\n",
       "    <tr>\n",
       "      <td>85</td>\n",
       "      <td>Student086</td>\n",
       "      <td>1.7</td>\n",
       "      <td>0.15</td>\n",
       "      <td>2.4</td>\n",
       "      <td>0.25</td>\n",
       "      <td>2.9</td>\n",
       "      <td>0.25</td>\n",
       "      <td>3.20</td>\n",
       "      <td>0.35</td>\n",
       "      <td>2.50</td>\n",
       "      <td>0.1</td>\n",
       "      <td>2.35</td>\n",
       "      <td>0.3</td>\n",
       "      <td>2.65</td>\n",
       "      <td>0.4</td>\n",
       "      <td>2.90</td>\n",
       "      <td>0.1</td>\n",
       "      <td>4.05</td>\n",
       "      <td>0.1</td>\n",
       "      <td>2.66</td>\n",
       "      <td>0.25</td>\n",
       "      <td>1.87</td>\n",
       "      <td>0.25</td>\n",
       "      <td>3.15</td>\n",
       "      <td>0.25</td>\n",
       "      <td>2.85</td>\n",
       "      <td>0.25</td>\n",
       "      <td>1.56</td>\n",
       "      <td>0.2</td>\n",
       "      <td>2.24</td>\n",
       "      <td>0.25</td>\n",
       "      <td>2.85</td>\n",
       "      <td>0.35</td>\n",
       "      <td>4.30</td>\n",
       "      <td>0.2</td>\n",
       "      <td>2.7000</td>\n",
       "      <td>Pass</td>\n",
       "      <td>2.710</td>\n",
       "      <td>Pass</td>\n",
       "      <td>2.6325</td>\n",
       "      <td>Pass</td>\n",
       "      <td>2.7295</td>\n",
       "      <td>Pass</td>\n",
       "      <td>2.693000</td>\n",
       "      <td>Fail</td>\n",
       "    </tr>\n",
       "    <tr>\n",
       "      <td>99</td>\n",
       "      <td>Student100</td>\n",
       "      <td>3.6</td>\n",
       "      <td>0.15</td>\n",
       "      <td>0.0</td>\n",
       "      <td>0.25</td>\n",
       "      <td>3.2</td>\n",
       "      <td>0.25</td>\n",
       "      <td>3.10</td>\n",
       "      <td>0.35</td>\n",
       "      <td>2.00</td>\n",
       "      <td>0.1</td>\n",
       "      <td>3.10</td>\n",
       "      <td>0.3</td>\n",
       "      <td>1.68</td>\n",
       "      <td>0.4</td>\n",
       "      <td>3.50</td>\n",
       "      <td>0.1</td>\n",
       "      <td>3.01</td>\n",
       "      <td>0.1</td>\n",
       "      <td>2.70</td>\n",
       "      <td>0.25</td>\n",
       "      <td>1.50</td>\n",
       "      <td>0.25</td>\n",
       "      <td>2.42</td>\n",
       "      <td>0.25</td>\n",
       "      <td>2.59</td>\n",
       "      <td>0.25</td>\n",
       "      <td>1.71</td>\n",
       "      <td>0.2</td>\n",
       "      <td>2.40</td>\n",
       "      <td>0.25</td>\n",
       "      <td>1.93</td>\n",
       "      <td>0.35</td>\n",
       "      <td>2.01</td>\n",
       "      <td>0.2</td>\n",
       "      <td>2.4250</td>\n",
       "      <td>Fail</td>\n",
       "      <td>2.453</td>\n",
       "      <td>Fail</td>\n",
       "      <td>2.3025</td>\n",
       "      <td>Fail</td>\n",
       "      <td>2.0195</td>\n",
       "      <td>Fail</td>\n",
       "      <td>2.300000</td>\n",
       "      <td>Fail</td>\n",
       "    </tr>\n",
       "    <tr>\n",
       "      <td>100</td>\n",
       "      <td>Student101</td>\n",
       "      <td>2.6</td>\n",
       "      <td>0.15</td>\n",
       "      <td>2.5</td>\n",
       "      <td>0.25</td>\n",
       "      <td>2.3</td>\n",
       "      <td>0.25</td>\n",
       "      <td>2.40</td>\n",
       "      <td>0.35</td>\n",
       "      <td>2.30</td>\n",
       "      <td>0.1</td>\n",
       "      <td>3.00</td>\n",
       "      <td>0.3</td>\n",
       "      <td>3.10</td>\n",
       "      <td>0.4</td>\n",
       "      <td>3.50</td>\n",
       "      <td>0.1</td>\n",
       "      <td>2.25</td>\n",
       "      <td>0.1</td>\n",
       "      <td>3.74</td>\n",
       "      <td>0.25</td>\n",
       "      <td>2.20</td>\n",
       "      <td>0.25</td>\n",
       "      <td>3.32</td>\n",
       "      <td>0.25</td>\n",
       "      <td>2.07</td>\n",
       "      <td>0.25</td>\n",
       "      <td>3.20</td>\n",
       "      <td>0.2</td>\n",
       "      <td>2.38</td>\n",
       "      <td>0.25</td>\n",
       "      <td>3.40</td>\n",
       "      <td>0.35</td>\n",
       "      <td>2.47</td>\n",
       "      <td>0.2</td>\n",
       "      <td>2.4300</td>\n",
       "      <td>Fail</td>\n",
       "      <td>2.945</td>\n",
       "      <td>Pass</td>\n",
       "      <td>2.8325</td>\n",
       "      <td>Pass</td>\n",
       "      <td>2.9190</td>\n",
       "      <td>Pass</td>\n",
       "      <td>2.781625</td>\n",
       "      <td>Fail</td>\n",
       "    </tr>\n",
       "  </tbody>\n",
       "</table>\n",
       "</div>"
      ],
      "text/plain": [
       "      StudentID  CI 1  Unnamed: 2  CI 2  Unnamed: 4  CI 3  Unnamed: 6  CI 4  \\\n",
       "1    Student002   0.0        0.15   0.0        0.25   0.0        0.25  0.00   \n",
       "19   Student020   3.0        0.15   2.3        0.25   2.2        0.25  3.05   \n",
       "37   Student038   2.9        0.15   2.6        0.25   3.0        0.25  3.20   \n",
       "58   Student059   3.2        0.15   2.3        0.25   3.2        0.25  3.30   \n",
       "60   Student061   0.0        0.15   0.0        0.25   0.0        0.25  0.00   \n",
       "64   Student065   3.2        0.15   1.9        0.25   2.5        0.25  3.60   \n",
       "67   Student068   3.8        0.15   2.4        0.25   3.2        0.25  2.90   \n",
       "68   Student069   3.1        0.15   2.9        0.25   2.2        0.25  2.50   \n",
       "71   Student072   0.0        0.15   0.0        0.25   4.5        0.25  3.60   \n",
       "72   Student073   2.8        0.15   2.4        0.25   2.3        0.25  3.50   \n",
       "77   Student078   2.7        0.15   2.5        0.25   2.8        0.25  2.98   \n",
       "85   Student086   1.7        0.15   2.4        0.25   2.9        0.25  3.20   \n",
       "99   Student100   3.6        0.15   0.0        0.25   3.2        0.25  3.10   \n",
       "100  Student101   2.6        0.15   2.5        0.25   2.3        0.25  2.40   \n",
       "\n",
       "     Unnamed: 8  DD 1  Unnamed: 10  DD 2  Unnamed: 12  DD 3  Unnamed: 14  \\\n",
       "1          0.35  3.00          0.1  0.00          0.3  3.57          0.4   \n",
       "19         0.35  2.50          0.1  3.30          0.3  2.95          0.4   \n",
       "37         0.35  2.38          0.1  3.40          0.3  3.00          0.4   \n",
       "58         0.35  2.13          0.1  2.60          0.3  2.55          0.4   \n",
       "60         0.35  3.00          0.1  0.00          0.3  3.80          0.4   \n",
       "64         0.35  2.80          0.1  3.10          0.3  2.95          0.4   \n",
       "67         0.35  2.38          0.1  3.30          0.3  2.15          0.4   \n",
       "68         0.35  2.50          0.1  3.90          0.3  3.00          0.4   \n",
       "71         0.35  2.25          0.1  2.80          0.3  2.70          0.4   \n",
       "72         0.35  3.30          0.1  3.30          0.3  3.90          0.4   \n",
       "77         0.35  2.00          0.1  3.10          0.3  3.60          0.4   \n",
       "85         0.35  2.50          0.1  2.35          0.3  2.65          0.4   \n",
       "99         0.35  2.00          0.1  3.10          0.3  1.68          0.4   \n",
       "100        0.35  2.30          0.1  3.00          0.3  3.10          0.4   \n",
       "\n",
       "     DD 4A  Unnamed: 16  DD 4B  Unnamed: 18  EL 1  Unnamed: 20  EL 2  \\\n",
       "1     1.90          0.1   3.95          0.1  3.20         0.25  4.45   \n",
       "19    3.90          0.1   4.05          0.1  3.65         0.25  2.70   \n",
       "37    2.10          0.1   4.30          0.1  3.57         0.25  2.49   \n",
       "58    2.00          0.1   3.90          0.1  3.80         0.25  3.70   \n",
       "60    0.00          0.1   4.25          0.1  3.20         0.25  2.30   \n",
       "64    3.90          0.1   2.05          0.1  3.22         0.25  2.73   \n",
       "67    2.80          0.1   4.25          0.1  3.36         0.25  2.44   \n",
       "68    3.90          0.1   2.80          0.1  3.80         0.25  1.89   \n",
       "71    3.10          0.1   3.65          0.1  3.00         0.25  2.50   \n",
       "72    2.28          0.1   3.06          0.1  2.74         0.25  2.41   \n",
       "77    1.70          0.1   3.45          0.1  3.20         0.25  3.00   \n",
       "85    2.90          0.1   4.05          0.1  2.66         0.25  1.87   \n",
       "99    3.50          0.1   3.01          0.1  2.70         0.25  1.50   \n",
       "100   3.50          0.1   2.25          0.1  3.74         0.25  2.20   \n",
       "\n",
       "     Unnamed: 22  EL 3  Unnamed: 24  EL 4  Unnamed: 26  PR 1  Unnamed: 28  \\\n",
       "1           0.25  4.85         0.25  3.85         0.25  2.70          0.2   \n",
       "19          0.25  1.93         0.25  3.32         0.25  2.02          0.2   \n",
       "37          0.25  2.75         0.25  3.10         0.25  3.30          0.2   \n",
       "58          0.25  3.00         0.25  3.45         0.25  2.90          0.2   \n",
       "60          0.25  3.55         0.25  3.75         0.25  2.72          0.2   \n",
       "64          0.25  2.34         0.25  3.32         0.25  2.47          0.2   \n",
       "67          0.25  3.94         0.25  2.90         0.25  3.20          0.2   \n",
       "68          0.25  2.70         0.25  3.15         0.25  2.40          0.2   \n",
       "71          0.25  3.15         0.25  2.85         0.25  2.55          0.2   \n",
       "72          0.25  2.70         0.25  3.15         0.25  2.07          0.2   \n",
       "77          0.25  2.85         0.25  3.44         0.25  2.13          0.2   \n",
       "85          0.25  3.15         0.25  2.85         0.25  1.56          0.2   \n",
       "99          0.25  2.42         0.25  2.59         0.25  1.71          0.2   \n",
       "100         0.25  3.32         0.25  2.07         0.25  3.20          0.2   \n",
       "\n",
       "     PR 2  Unnamed: 30   PR3  Unnamed: 32   PR4  Unnamed: 34  CI average  \\\n",
       "1    3.90         0.25  4.30         0.35  4.15          0.2      0.0000   \n",
       "19   1.71         0.25  2.87         0.35  3.00          0.2      2.6425   \n",
       "37   2.20         0.25  2.55         0.35  2.72          0.2      2.9550   \n",
       "58   2.64         0.25  2.75         0.35  3.00          0.2      3.0100   \n",
       "60   2.17         0.25  3.50         0.35  4.15          0.2      0.0000   \n",
       "64   2.11         0.25  2.87         0.35  4.15          0.2      2.8400   \n",
       "67   1.91         0.25  2.45         0.35  3.53          0.2      2.9850   \n",
       "68   2.45         0.25  3.55         0.35  4.30          0.2      2.6150   \n",
       "71   2.60         0.25  1.43         0.35  3.15          0.2      2.3850   \n",
       "72   2.72         0.25  2.42         0.35  4.00          0.2      2.8200   \n",
       "77   3.10         0.25  3.55         0.35  2.68          0.2      2.7730   \n",
       "85   2.24         0.25  2.85         0.35  4.30          0.2      2.7000   \n",
       "99   2.40         0.25  1.93         0.35  2.01          0.2      2.4250   \n",
       "100  2.38         0.25  3.40         0.35  2.47          0.2      2.4300   \n",
       "\n",
       "      RCI  DD average   RDD  EL Average   REL  PR Average   RPR  \\\n",
       "1    Fail       2.313  Fail      4.0875  Pass      3.8500  Pass   \n",
       "19   Pass       3.215  Pass      2.9000  Pass      2.4360  Fail   \n",
       "37   Pass       3.098  Pass      2.9775  Pass      2.6465  Pass   \n",
       "58   Pass       2.603  Pass      3.4875  Pass      2.8025  Pass   \n",
       "60   Fail       2.245  Fail      3.2000  Pass      3.1415  Pass   \n",
       "64   Pass       2.985  Pass      2.9025  Pass      2.8560  Pass   \n",
       "67   Pass       2.793  Pass      3.1600  Pass      2.6810  Pass   \n",
       "68   Pass       3.290  Pass      2.8850  Pass      3.1950  Pass   \n",
       "71   Fail       2.820  Pass      2.8750  Pass      2.2905  Fail   \n",
       "72   Pass       3.414  Pass      2.7500  Pass      2.7410  Pass   \n",
       "77   Pass       3.085  Pass      3.1225  Pass      2.9795  Pass   \n",
       "85   Pass       2.710  Pass      2.6325  Pass      2.7295  Pass   \n",
       "99   Fail       2.453  Fail      2.3025  Fail      2.0195  Fail   \n",
       "100  Fail       2.945  Pass      2.8325  Pass      2.9190  Pass   \n",
       "\n",
       "     Overall LC average Failing  \n",
       "1              2.562625    Fail  \n",
       "19             2.798375    Fail  \n",
       "37             2.919250    Fail  \n",
       "58             2.975750    Fail  \n",
       "60             2.146625    Fail  \n",
       "64             2.895875    Fail  \n",
       "67             2.904750    Fail  \n",
       "68             2.996250    Fail  \n",
       "71             2.592625    Fail  \n",
       "72             2.931250    Fail  \n",
       "77             2.990000    Fail  \n",
       "85             2.693000    Fail  \n",
       "99             2.300000    Fail  \n",
       "100            2.781625    Fail  "
      ]
     },
     "execution_count": 58,
     "metadata": {},
     "output_type": "execute_result"
    }
   ],
   "source": [
    "fail_students_complete"
   ]
  },
  {
   "cell_type": "code",
   "execution_count": 85,
   "metadata": {},
   "outputs": [
    {
     "data": {
      "application/vnd.plotly.v1+json": {
       "config": {
        "linkText": "Export to plot.ly",
        "plotlyServerURL": "https://plot.ly",
        "showLink": true
       },
       "data": [
        {
         "boxpoints": false,
         "line": {
          "width": 1.3
         },
         "marker": {
          "color": "rgba(255, 153, 51, 1.0)"
         },
         "name": "CI 1",
         "orientation": "v",
         "type": "box",
         "y": [
          0,
          3,
          2.9,
          3.2,
          0,
          3.2,
          3.8,
          3.1,
          0,
          2.8,
          2.7,
          1.7,
          3.6,
          2.6
         ]
        },
        {
         "boxpoints": false,
         "line": {
          "width": 1.3
         },
         "marker": {
          "color": "rgba(55, 128, 191, 1.0)"
         },
         "name": "CI 2",
         "orientation": "v",
         "type": "box",
         "y": [
          0,
          2.3,
          2.6,
          2.3,
          0,
          1.9,
          2.4,
          2.9,
          0,
          2.4,
          2.5,
          2.4,
          0,
          2.5
         ]
        },
        {
         "boxpoints": false,
         "line": {
          "width": 1.3
         },
         "marker": {
          "color": "rgba(50, 171, 96, 1.0)"
         },
         "name": "DD 1",
         "orientation": "v",
         "type": "box",
         "y": [
          3,
          2.5,
          2.38,
          2.13,
          3,
          2.8,
          2.38,
          2.5,
          2.25,
          3.3,
          2,
          2.5,
          2,
          2.3
         ]
        },
        {
         "boxpoints": false,
         "line": {
          "width": 1.3
         },
         "marker": {
          "color": "rgba(128, 0, 128, 1.0)"
         },
         "name": "DD 2",
         "orientation": "v",
         "type": "box",
         "y": [
          0,
          3.3,
          3.4,
          2.6,
          0,
          3.1,
          3.3,
          3.9,
          2.8,
          3.3,
          3.1,
          2.35,
          3.1,
          3
         ]
        },
        {
         "boxpoints": false,
         "line": {
          "width": 1.3
         },
         "marker": {
          "color": "rgba(219, 64, 82, 1.0)"
         },
         "name": "EL 1",
         "orientation": "v",
         "type": "box",
         "y": [
          3.2,
          3.65,
          3.57,
          3.8,
          3.2,
          3.22,
          3.36,
          3.8,
          3,
          2.74,
          3.2,
          2.66,
          2.7,
          3.74
         ]
        },
        {
         "boxpoints": false,
         "line": {
          "width": 1.3
         },
         "marker": {
          "color": "rgba(0, 128, 128, 1.0)"
         },
         "name": "EL 2",
         "orientation": "v",
         "type": "box",
         "y": [
          4.45,
          2.7,
          2.49,
          3.7,
          2.3,
          2.73,
          2.44,
          1.89,
          2.5,
          2.41,
          3,
          1.87,
          1.5,
          2.2
         ]
        },
        {
         "boxpoints": false,
         "line": {
          "width": 1.3
         },
         "marker": {
          "color": "rgba(255, 255, 51, 1.0)"
         },
         "name": "PR 1",
         "orientation": "v",
         "type": "box",
         "y": [
          2.7,
          2.02,
          3.3,
          2.9,
          2.72,
          2.47,
          3.2,
          2.4,
          2.55,
          2.07,
          2.13,
          1.56,
          1.71,
          3.2
         ]
        },
        {
         "boxpoints": false,
         "line": {
          "width": 1.3
         },
         "marker": {
          "color": "rgba(128, 128, 0, 1.0)"
         },
         "name": "PR 2",
         "orientation": "v",
         "type": "box",
         "y": [
          3.9,
          1.71,
          2.2,
          2.64,
          2.17,
          2.11,
          1.91,
          2.45,
          2.6,
          2.72,
          3.1,
          2.24,
          2.4,
          2.38
         ]
        }
       ],
       "layout": {
        "legend": {
         "bgcolor": "#F5F6F9",
         "font": {
          "color": "#4D5663"
         }
        },
        "paper_bgcolor": "#F5F6F9",
        "plot_bgcolor": "#F5F6F9",
        "template": {
         "data": {
          "bar": [
           {
            "error_x": {
             "color": "#2a3f5f"
            },
            "error_y": {
             "color": "#2a3f5f"
            },
            "marker": {
             "line": {
              "color": "#E5ECF6",
              "width": 0.5
             }
            },
            "type": "bar"
           }
          ],
          "barpolar": [
           {
            "marker": {
             "line": {
              "color": "#E5ECF6",
              "width": 0.5
             }
            },
            "type": "barpolar"
           }
          ],
          "carpet": [
           {
            "aaxis": {
             "endlinecolor": "#2a3f5f",
             "gridcolor": "white",
             "linecolor": "white",
             "minorgridcolor": "white",
             "startlinecolor": "#2a3f5f"
            },
            "baxis": {
             "endlinecolor": "#2a3f5f",
             "gridcolor": "white",
             "linecolor": "white",
             "minorgridcolor": "white",
             "startlinecolor": "#2a3f5f"
            },
            "type": "carpet"
           }
          ],
          "choropleth": [
           {
            "colorbar": {
             "outlinewidth": 0,
             "ticks": ""
            },
            "type": "choropleth"
           }
          ],
          "contour": [
           {
            "colorbar": {
             "outlinewidth": 0,
             "ticks": ""
            },
            "colorscale": [
             [
              0,
              "#0d0887"
             ],
             [
              0.1111111111111111,
              "#46039f"
             ],
             [
              0.2222222222222222,
              "#7201a8"
             ],
             [
              0.3333333333333333,
              "#9c179e"
             ],
             [
              0.4444444444444444,
              "#bd3786"
             ],
             [
              0.5555555555555556,
              "#d8576b"
             ],
             [
              0.6666666666666666,
              "#ed7953"
             ],
             [
              0.7777777777777778,
              "#fb9f3a"
             ],
             [
              0.8888888888888888,
              "#fdca26"
             ],
             [
              1,
              "#f0f921"
             ]
            ],
            "type": "contour"
           }
          ],
          "contourcarpet": [
           {
            "colorbar": {
             "outlinewidth": 0,
             "ticks": ""
            },
            "type": "contourcarpet"
           }
          ],
          "heatmap": [
           {
            "colorbar": {
             "outlinewidth": 0,
             "ticks": ""
            },
            "colorscale": [
             [
              0,
              "#0d0887"
             ],
             [
              0.1111111111111111,
              "#46039f"
             ],
             [
              0.2222222222222222,
              "#7201a8"
             ],
             [
              0.3333333333333333,
              "#9c179e"
             ],
             [
              0.4444444444444444,
              "#bd3786"
             ],
             [
              0.5555555555555556,
              "#d8576b"
             ],
             [
              0.6666666666666666,
              "#ed7953"
             ],
             [
              0.7777777777777778,
              "#fb9f3a"
             ],
             [
              0.8888888888888888,
              "#fdca26"
             ],
             [
              1,
              "#f0f921"
             ]
            ],
            "type": "heatmap"
           }
          ],
          "heatmapgl": [
           {
            "colorbar": {
             "outlinewidth": 0,
             "ticks": ""
            },
            "colorscale": [
             [
              0,
              "#0d0887"
             ],
             [
              0.1111111111111111,
              "#46039f"
             ],
             [
              0.2222222222222222,
              "#7201a8"
             ],
             [
              0.3333333333333333,
              "#9c179e"
             ],
             [
              0.4444444444444444,
              "#bd3786"
             ],
             [
              0.5555555555555556,
              "#d8576b"
             ],
             [
              0.6666666666666666,
              "#ed7953"
             ],
             [
              0.7777777777777778,
              "#fb9f3a"
             ],
             [
              0.8888888888888888,
              "#fdca26"
             ],
             [
              1,
              "#f0f921"
             ]
            ],
            "type": "heatmapgl"
           }
          ],
          "histogram": [
           {
            "marker": {
             "colorbar": {
              "outlinewidth": 0,
              "ticks": ""
             }
            },
            "type": "histogram"
           }
          ],
          "histogram2d": [
           {
            "colorbar": {
             "outlinewidth": 0,
             "ticks": ""
            },
            "colorscale": [
             [
              0,
              "#0d0887"
             ],
             [
              0.1111111111111111,
              "#46039f"
             ],
             [
              0.2222222222222222,
              "#7201a8"
             ],
             [
              0.3333333333333333,
              "#9c179e"
             ],
             [
              0.4444444444444444,
              "#bd3786"
             ],
             [
              0.5555555555555556,
              "#d8576b"
             ],
             [
              0.6666666666666666,
              "#ed7953"
             ],
             [
              0.7777777777777778,
              "#fb9f3a"
             ],
             [
              0.8888888888888888,
              "#fdca26"
             ],
             [
              1,
              "#f0f921"
             ]
            ],
            "type": "histogram2d"
           }
          ],
          "histogram2dcontour": [
           {
            "colorbar": {
             "outlinewidth": 0,
             "ticks": ""
            },
            "colorscale": [
             [
              0,
              "#0d0887"
             ],
             [
              0.1111111111111111,
              "#46039f"
             ],
             [
              0.2222222222222222,
              "#7201a8"
             ],
             [
              0.3333333333333333,
              "#9c179e"
             ],
             [
              0.4444444444444444,
              "#bd3786"
             ],
             [
              0.5555555555555556,
              "#d8576b"
             ],
             [
              0.6666666666666666,
              "#ed7953"
             ],
             [
              0.7777777777777778,
              "#fb9f3a"
             ],
             [
              0.8888888888888888,
              "#fdca26"
             ],
             [
              1,
              "#f0f921"
             ]
            ],
            "type": "histogram2dcontour"
           }
          ],
          "mesh3d": [
           {
            "colorbar": {
             "outlinewidth": 0,
             "ticks": ""
            },
            "type": "mesh3d"
           }
          ],
          "parcoords": [
           {
            "line": {
             "colorbar": {
              "outlinewidth": 0,
              "ticks": ""
             }
            },
            "type": "parcoords"
           }
          ],
          "pie": [
           {
            "automargin": true,
            "type": "pie"
           }
          ],
          "scatter": [
           {
            "marker": {
             "colorbar": {
              "outlinewidth": 0,
              "ticks": ""
             }
            },
            "type": "scatter"
           }
          ],
          "scatter3d": [
           {
            "line": {
             "colorbar": {
              "outlinewidth": 0,
              "ticks": ""
             }
            },
            "marker": {
             "colorbar": {
              "outlinewidth": 0,
              "ticks": ""
             }
            },
            "type": "scatter3d"
           }
          ],
          "scattercarpet": [
           {
            "marker": {
             "colorbar": {
              "outlinewidth": 0,
              "ticks": ""
             }
            },
            "type": "scattercarpet"
           }
          ],
          "scattergeo": [
           {
            "marker": {
             "colorbar": {
              "outlinewidth": 0,
              "ticks": ""
             }
            },
            "type": "scattergeo"
           }
          ],
          "scattergl": [
           {
            "marker": {
             "colorbar": {
              "outlinewidth": 0,
              "ticks": ""
             }
            },
            "type": "scattergl"
           }
          ],
          "scattermapbox": [
           {
            "marker": {
             "colorbar": {
              "outlinewidth": 0,
              "ticks": ""
             }
            },
            "type": "scattermapbox"
           }
          ],
          "scatterpolar": [
           {
            "marker": {
             "colorbar": {
              "outlinewidth": 0,
              "ticks": ""
             }
            },
            "type": "scatterpolar"
           }
          ],
          "scatterpolargl": [
           {
            "marker": {
             "colorbar": {
              "outlinewidth": 0,
              "ticks": ""
             }
            },
            "type": "scatterpolargl"
           }
          ],
          "scatterternary": [
           {
            "marker": {
             "colorbar": {
              "outlinewidth": 0,
              "ticks": ""
             }
            },
            "type": "scatterternary"
           }
          ],
          "surface": [
           {
            "colorbar": {
             "outlinewidth": 0,
             "ticks": ""
            },
            "colorscale": [
             [
              0,
              "#0d0887"
             ],
             [
              0.1111111111111111,
              "#46039f"
             ],
             [
              0.2222222222222222,
              "#7201a8"
             ],
             [
              0.3333333333333333,
              "#9c179e"
             ],
             [
              0.4444444444444444,
              "#bd3786"
             ],
             [
              0.5555555555555556,
              "#d8576b"
             ],
             [
              0.6666666666666666,
              "#ed7953"
             ],
             [
              0.7777777777777778,
              "#fb9f3a"
             ],
             [
              0.8888888888888888,
              "#fdca26"
             ],
             [
              1,
              "#f0f921"
             ]
            ],
            "type": "surface"
           }
          ],
          "table": [
           {
            "cells": {
             "fill": {
              "color": "#EBF0F8"
             },
             "line": {
              "color": "white"
             }
            },
            "header": {
             "fill": {
              "color": "#C8D4E3"
             },
             "line": {
              "color": "white"
             }
            },
            "type": "table"
           }
          ]
         },
         "layout": {
          "annotationdefaults": {
           "arrowcolor": "#2a3f5f",
           "arrowhead": 0,
           "arrowwidth": 1
          },
          "coloraxis": {
           "colorbar": {
            "outlinewidth": 0,
            "ticks": ""
           }
          },
          "colorscale": {
           "diverging": [
            [
             0,
             "#8e0152"
            ],
            [
             0.1,
             "#c51b7d"
            ],
            [
             0.2,
             "#de77ae"
            ],
            [
             0.3,
             "#f1b6da"
            ],
            [
             0.4,
             "#fde0ef"
            ],
            [
             0.5,
             "#f7f7f7"
            ],
            [
             0.6,
             "#e6f5d0"
            ],
            [
             0.7,
             "#b8e186"
            ],
            [
             0.8,
             "#7fbc41"
            ],
            [
             0.9,
             "#4d9221"
            ],
            [
             1,
             "#276419"
            ]
           ],
           "sequential": [
            [
             0,
             "#0d0887"
            ],
            [
             0.1111111111111111,
             "#46039f"
            ],
            [
             0.2222222222222222,
             "#7201a8"
            ],
            [
             0.3333333333333333,
             "#9c179e"
            ],
            [
             0.4444444444444444,
             "#bd3786"
            ],
            [
             0.5555555555555556,
             "#d8576b"
            ],
            [
             0.6666666666666666,
             "#ed7953"
            ],
            [
             0.7777777777777778,
             "#fb9f3a"
            ],
            [
             0.8888888888888888,
             "#fdca26"
            ],
            [
             1,
             "#f0f921"
            ]
           ],
           "sequentialminus": [
            [
             0,
             "#0d0887"
            ],
            [
             0.1111111111111111,
             "#46039f"
            ],
            [
             0.2222222222222222,
             "#7201a8"
            ],
            [
             0.3333333333333333,
             "#9c179e"
            ],
            [
             0.4444444444444444,
             "#bd3786"
            ],
            [
             0.5555555555555556,
             "#d8576b"
            ],
            [
             0.6666666666666666,
             "#ed7953"
            ],
            [
             0.7777777777777778,
             "#fb9f3a"
            ],
            [
             0.8888888888888888,
             "#fdca26"
            ],
            [
             1,
             "#f0f921"
            ]
           ]
          },
          "colorway": [
           "#636efa",
           "#EF553B",
           "#00cc96",
           "#ab63fa",
           "#FFA15A",
           "#19d3f3",
           "#FF6692",
           "#B6E880",
           "#FF97FF",
           "#FECB52"
          ],
          "font": {
           "color": "#2a3f5f"
          },
          "geo": {
           "bgcolor": "white",
           "lakecolor": "white",
           "landcolor": "#E5ECF6",
           "showlakes": true,
           "showland": true,
           "subunitcolor": "white"
          },
          "hoverlabel": {
           "align": "left"
          },
          "hovermode": "closest",
          "mapbox": {
           "style": "light"
          },
          "paper_bgcolor": "white",
          "plot_bgcolor": "#E5ECF6",
          "polar": {
           "angularaxis": {
            "gridcolor": "white",
            "linecolor": "white",
            "ticks": ""
           },
           "bgcolor": "#E5ECF6",
           "radialaxis": {
            "gridcolor": "white",
            "linecolor": "white",
            "ticks": ""
           }
          },
          "scene": {
           "xaxis": {
            "backgroundcolor": "#E5ECF6",
            "gridcolor": "white",
            "gridwidth": 2,
            "linecolor": "white",
            "showbackground": true,
            "ticks": "",
            "zerolinecolor": "white"
           },
           "yaxis": {
            "backgroundcolor": "#E5ECF6",
            "gridcolor": "white",
            "gridwidth": 2,
            "linecolor": "white",
            "showbackground": true,
            "ticks": "",
            "zerolinecolor": "white"
           },
           "zaxis": {
            "backgroundcolor": "#E5ECF6",
            "gridcolor": "white",
            "gridwidth": 2,
            "linecolor": "white",
            "showbackground": true,
            "ticks": "",
            "zerolinecolor": "white"
           }
          },
          "shapedefaults": {
           "line": {
            "color": "#2a3f5f"
           }
          },
          "ternary": {
           "aaxis": {
            "gridcolor": "white",
            "linecolor": "white",
            "ticks": ""
           },
           "baxis": {
            "gridcolor": "white",
            "linecolor": "white",
            "ticks": ""
           },
           "bgcolor": "#E5ECF6",
           "caxis": {
            "gridcolor": "white",
            "linecolor": "white",
            "ticks": ""
           }
          },
          "title": {
           "x": 0.05
          },
          "xaxis": {
           "automargin": true,
           "gridcolor": "white",
           "linecolor": "white",
           "ticks": "",
           "title": {
            "standoff": 15
           },
           "zerolinecolor": "white",
           "zerolinewidth": 2
          },
          "yaxis": {
           "automargin": true,
           "gridcolor": "white",
           "linecolor": "white",
           "ticks": "",
           "title": {
            "standoff": 15
           },
           "zerolinecolor": "white",
           "zerolinewidth": 2
          }
         }
        },
        "title": {
         "font": {
          "color": "#4D5663"
         },
         "text": "Grades first two periods of students that fail the course"
        },
        "xaxis": {
         "gridcolor": "#E1E5ED",
         "showgrid": true,
         "tickfont": {
          "color": "#4D5663"
         },
         "title": {
          "font": {
           "color": "#4D5663"
          },
          "text": ""
         },
         "zerolinecolor": "#E1E5ED"
        },
        "yaxis": {
         "gridcolor": "#E1E5ED",
         "showgrid": true,
         "tickfont": {
          "color": "#4D5663"
         },
         "title": {
          "font": {
           "color": "#4D5663"
          },
          "text": ""
         },
         "zerolinecolor": "#E1E5ED"
        }
       }
      },
      "text/html": [
       "<div>\n",
       "        \n",
       "        \n",
       "            <div id=\"a908167c-81e7-407d-964b-b2cf8281317f\" class=\"plotly-graph-div\" style=\"height:525px; width:100%;\"></div>\n",
       "            <script type=\"text/javascript\">\n",
       "                require([\"plotly\"], function(Plotly) {\n",
       "                    window.PLOTLYENV=window.PLOTLYENV || {};\n",
       "                    window.PLOTLYENV.BASE_URL='https://plot.ly';\n",
       "                    \n",
       "                if (document.getElementById(\"a908167c-81e7-407d-964b-b2cf8281317f\")) {\n",
       "                    Plotly.newPlot(\n",
       "                        'a908167c-81e7-407d-964b-b2cf8281317f',\n",
       "                        [{\"boxpoints\": false, \"line\": {\"width\": 1.3}, \"marker\": {\"color\": \"rgba(255, 153, 51, 1.0)\"}, \"name\": \"CI 1\", \"orientation\": \"v\", \"type\": \"box\", \"y\": [0.0, 3.0, 2.9, 3.2, 0.0, 3.2, 3.8, 3.1, 0.0, 2.8, 2.7, 1.7, 3.6, 2.6]}, {\"boxpoints\": false, \"line\": {\"width\": 1.3}, \"marker\": {\"color\": \"rgba(55, 128, 191, 1.0)\"}, \"name\": \"CI 2\", \"orientation\": \"v\", \"type\": \"box\", \"y\": [0.0, 2.3, 2.6, 2.3, 0.0, 1.9, 2.4, 2.9, 0.0, 2.4, 2.5, 2.4, 0.0, 2.5]}, {\"boxpoints\": false, \"line\": {\"width\": 1.3}, \"marker\": {\"color\": \"rgba(50, 171, 96, 1.0)\"}, \"name\": \"DD 1\", \"orientation\": \"v\", \"type\": \"box\", \"y\": [3.0, 2.5, 2.38, 2.13, 3.0, 2.8, 2.38, 2.5, 2.25, 3.3, 2.0, 2.5, 2.0, 2.3]}, {\"boxpoints\": false, \"line\": {\"width\": 1.3}, \"marker\": {\"color\": \"rgba(128, 0, 128, 1.0)\"}, \"name\": \"DD 2\", \"orientation\": \"v\", \"type\": \"box\", \"y\": [0.0, 3.3, 3.4, 2.6, 0.0, 3.1, 3.3, 3.9, 2.8, 3.3, 3.1, 2.35, 3.1, 3.0]}, {\"boxpoints\": false, \"line\": {\"width\": 1.3}, \"marker\": {\"color\": \"rgba(219, 64, 82, 1.0)\"}, \"name\": \"EL 1\", \"orientation\": \"v\", \"type\": \"box\", \"y\": [3.2, 3.65, 3.57, 3.8, 3.2, 3.22, 3.36, 3.8, 3.0, 2.74, 3.2, 2.66, 2.7, 3.74]}, {\"boxpoints\": false, \"line\": {\"width\": 1.3}, \"marker\": {\"color\": \"rgba(0, 128, 128, 1.0)\"}, \"name\": \"EL 2\", \"orientation\": \"v\", \"type\": \"box\", \"y\": [4.45, 2.7, 2.49, 3.7, 2.3, 2.73, 2.44, 1.89, 2.5, 2.41, 3.0, 1.87, 1.5, 2.2]}, {\"boxpoints\": false, \"line\": {\"width\": 1.3}, \"marker\": {\"color\": \"rgba(255, 255, 51, 1.0)\"}, \"name\": \"PR 1\", \"orientation\": \"v\", \"type\": \"box\", \"y\": [2.7, 2.02, 3.3, 2.9, 2.72, 2.47, 3.2, 2.4, 2.55, 2.07, 2.13, 1.56, 1.71, 3.2]}, {\"boxpoints\": false, \"line\": {\"width\": 1.3}, \"marker\": {\"color\": \"rgba(128, 128, 0, 1.0)\"}, \"name\": \"PR 2\", \"orientation\": \"v\", \"type\": \"box\", \"y\": [3.9, 1.71, 2.2, 2.64, 2.17, 2.11, 1.91, 2.45, 2.6, 2.72, 3.1, 2.24, 2.4, 2.38]}],\n",
       "                        {\"legend\": {\"bgcolor\": \"#F5F6F9\", \"font\": {\"color\": \"#4D5663\"}}, \"paper_bgcolor\": \"#F5F6F9\", \"plot_bgcolor\": \"#F5F6F9\", \"template\": {\"data\": {\"bar\": [{\"error_x\": {\"color\": \"#2a3f5f\"}, \"error_y\": {\"color\": \"#2a3f5f\"}, \"marker\": {\"line\": {\"color\": \"#E5ECF6\", \"width\": 0.5}}, \"type\": \"bar\"}], \"barpolar\": [{\"marker\": {\"line\": {\"color\": \"#E5ECF6\", \"width\": 0.5}}, \"type\": \"barpolar\"}], \"carpet\": [{\"aaxis\": {\"endlinecolor\": \"#2a3f5f\", \"gridcolor\": \"white\", \"linecolor\": \"white\", \"minorgridcolor\": \"white\", \"startlinecolor\": \"#2a3f5f\"}, \"baxis\": {\"endlinecolor\": \"#2a3f5f\", \"gridcolor\": \"white\", \"linecolor\": \"white\", \"minorgridcolor\": \"white\", \"startlinecolor\": \"#2a3f5f\"}, \"type\": \"carpet\"}], \"choropleth\": [{\"colorbar\": {\"outlinewidth\": 0, \"ticks\": \"\"}, \"type\": \"choropleth\"}], \"contour\": [{\"colorbar\": {\"outlinewidth\": 0, \"ticks\": \"\"}, \"colorscale\": [[0.0, \"#0d0887\"], [0.1111111111111111, \"#46039f\"], [0.2222222222222222, \"#7201a8\"], [0.3333333333333333, \"#9c179e\"], [0.4444444444444444, \"#bd3786\"], [0.5555555555555556, \"#d8576b\"], [0.6666666666666666, \"#ed7953\"], [0.7777777777777778, \"#fb9f3a\"], [0.8888888888888888, \"#fdca26\"], [1.0, \"#f0f921\"]], \"type\": \"contour\"}], \"contourcarpet\": [{\"colorbar\": {\"outlinewidth\": 0, \"ticks\": \"\"}, \"type\": \"contourcarpet\"}], \"heatmap\": [{\"colorbar\": {\"outlinewidth\": 0, \"ticks\": \"\"}, \"colorscale\": [[0.0, \"#0d0887\"], [0.1111111111111111, \"#46039f\"], [0.2222222222222222, \"#7201a8\"], [0.3333333333333333, \"#9c179e\"], [0.4444444444444444, \"#bd3786\"], [0.5555555555555556, \"#d8576b\"], [0.6666666666666666, \"#ed7953\"], [0.7777777777777778, \"#fb9f3a\"], [0.8888888888888888, \"#fdca26\"], [1.0, \"#f0f921\"]], \"type\": \"heatmap\"}], \"heatmapgl\": [{\"colorbar\": {\"outlinewidth\": 0, \"ticks\": \"\"}, \"colorscale\": [[0.0, \"#0d0887\"], [0.1111111111111111, \"#46039f\"], [0.2222222222222222, \"#7201a8\"], [0.3333333333333333, \"#9c179e\"], [0.4444444444444444, \"#bd3786\"], [0.5555555555555556, \"#d8576b\"], [0.6666666666666666, \"#ed7953\"], [0.7777777777777778, \"#fb9f3a\"], [0.8888888888888888, \"#fdca26\"], [1.0, \"#f0f921\"]], \"type\": \"heatmapgl\"}], \"histogram\": [{\"marker\": {\"colorbar\": {\"outlinewidth\": 0, \"ticks\": \"\"}}, \"type\": \"histogram\"}], \"histogram2d\": [{\"colorbar\": {\"outlinewidth\": 0, \"ticks\": \"\"}, \"colorscale\": [[0.0, \"#0d0887\"], [0.1111111111111111, \"#46039f\"], [0.2222222222222222, \"#7201a8\"], [0.3333333333333333, \"#9c179e\"], [0.4444444444444444, \"#bd3786\"], [0.5555555555555556, \"#d8576b\"], [0.6666666666666666, \"#ed7953\"], [0.7777777777777778, \"#fb9f3a\"], [0.8888888888888888, \"#fdca26\"], [1.0, \"#f0f921\"]], \"type\": \"histogram2d\"}], \"histogram2dcontour\": [{\"colorbar\": {\"outlinewidth\": 0, \"ticks\": \"\"}, \"colorscale\": [[0.0, \"#0d0887\"], [0.1111111111111111, \"#46039f\"], [0.2222222222222222, \"#7201a8\"], [0.3333333333333333, \"#9c179e\"], [0.4444444444444444, \"#bd3786\"], [0.5555555555555556, \"#d8576b\"], [0.6666666666666666, \"#ed7953\"], [0.7777777777777778, \"#fb9f3a\"], [0.8888888888888888, \"#fdca26\"], [1.0, \"#f0f921\"]], \"type\": \"histogram2dcontour\"}], \"mesh3d\": [{\"colorbar\": {\"outlinewidth\": 0, \"ticks\": \"\"}, \"type\": \"mesh3d\"}], \"parcoords\": [{\"line\": {\"colorbar\": {\"outlinewidth\": 0, \"ticks\": \"\"}}, \"type\": \"parcoords\"}], \"pie\": [{\"automargin\": true, \"type\": \"pie\"}], \"scatter\": [{\"marker\": {\"colorbar\": {\"outlinewidth\": 0, \"ticks\": \"\"}}, \"type\": \"scatter\"}], \"scatter3d\": [{\"line\": {\"colorbar\": {\"outlinewidth\": 0, \"ticks\": \"\"}}, \"marker\": {\"colorbar\": {\"outlinewidth\": 0, \"ticks\": \"\"}}, \"type\": \"scatter3d\"}], \"scattercarpet\": [{\"marker\": {\"colorbar\": {\"outlinewidth\": 0, \"ticks\": \"\"}}, \"type\": \"scattercarpet\"}], \"scattergeo\": [{\"marker\": {\"colorbar\": {\"outlinewidth\": 0, \"ticks\": \"\"}}, \"type\": \"scattergeo\"}], \"scattergl\": [{\"marker\": {\"colorbar\": {\"outlinewidth\": 0, \"ticks\": \"\"}}, \"type\": \"scattergl\"}], \"scattermapbox\": [{\"marker\": {\"colorbar\": {\"outlinewidth\": 0, \"ticks\": \"\"}}, \"type\": \"scattermapbox\"}], \"scatterpolar\": [{\"marker\": {\"colorbar\": {\"outlinewidth\": 0, \"ticks\": \"\"}}, \"type\": \"scatterpolar\"}], \"scatterpolargl\": [{\"marker\": {\"colorbar\": {\"outlinewidth\": 0, \"ticks\": \"\"}}, \"type\": \"scatterpolargl\"}], \"scatterternary\": [{\"marker\": {\"colorbar\": {\"outlinewidth\": 0, \"ticks\": \"\"}}, \"type\": \"scatterternary\"}], \"surface\": [{\"colorbar\": {\"outlinewidth\": 0, \"ticks\": \"\"}, \"colorscale\": [[0.0, \"#0d0887\"], [0.1111111111111111, \"#46039f\"], [0.2222222222222222, \"#7201a8\"], [0.3333333333333333, \"#9c179e\"], [0.4444444444444444, \"#bd3786\"], [0.5555555555555556, \"#d8576b\"], [0.6666666666666666, \"#ed7953\"], [0.7777777777777778, \"#fb9f3a\"], [0.8888888888888888, \"#fdca26\"], [1.0, \"#f0f921\"]], \"type\": \"surface\"}], \"table\": [{\"cells\": {\"fill\": {\"color\": \"#EBF0F8\"}, \"line\": {\"color\": \"white\"}}, \"header\": {\"fill\": {\"color\": \"#C8D4E3\"}, \"line\": {\"color\": \"white\"}}, \"type\": \"table\"}]}, \"layout\": {\"annotationdefaults\": {\"arrowcolor\": \"#2a3f5f\", \"arrowhead\": 0, \"arrowwidth\": 1}, \"coloraxis\": {\"colorbar\": {\"outlinewidth\": 0, \"ticks\": \"\"}}, \"colorscale\": {\"diverging\": [[0, \"#8e0152\"], [0.1, \"#c51b7d\"], [0.2, \"#de77ae\"], [0.3, \"#f1b6da\"], [0.4, \"#fde0ef\"], [0.5, \"#f7f7f7\"], [0.6, \"#e6f5d0\"], [0.7, \"#b8e186\"], [0.8, \"#7fbc41\"], [0.9, \"#4d9221\"], [1, \"#276419\"]], \"sequential\": [[0.0, \"#0d0887\"], [0.1111111111111111, \"#46039f\"], [0.2222222222222222, \"#7201a8\"], [0.3333333333333333, \"#9c179e\"], [0.4444444444444444, \"#bd3786\"], [0.5555555555555556, \"#d8576b\"], [0.6666666666666666, \"#ed7953\"], [0.7777777777777778, \"#fb9f3a\"], [0.8888888888888888, \"#fdca26\"], [1.0, \"#f0f921\"]], \"sequentialminus\": [[0.0, \"#0d0887\"], [0.1111111111111111, \"#46039f\"], [0.2222222222222222, \"#7201a8\"], [0.3333333333333333, \"#9c179e\"], [0.4444444444444444, \"#bd3786\"], [0.5555555555555556, \"#d8576b\"], [0.6666666666666666, \"#ed7953\"], [0.7777777777777778, \"#fb9f3a\"], [0.8888888888888888, \"#fdca26\"], [1.0, \"#f0f921\"]]}, \"colorway\": [\"#636efa\", \"#EF553B\", \"#00cc96\", \"#ab63fa\", \"#FFA15A\", \"#19d3f3\", \"#FF6692\", \"#B6E880\", \"#FF97FF\", \"#FECB52\"], \"font\": {\"color\": \"#2a3f5f\"}, \"geo\": {\"bgcolor\": \"white\", \"lakecolor\": \"white\", \"landcolor\": \"#E5ECF6\", \"showlakes\": true, \"showland\": true, \"subunitcolor\": \"white\"}, \"hoverlabel\": {\"align\": \"left\"}, \"hovermode\": \"closest\", \"mapbox\": {\"style\": \"light\"}, \"paper_bgcolor\": \"white\", \"plot_bgcolor\": \"#E5ECF6\", \"polar\": {\"angularaxis\": {\"gridcolor\": \"white\", \"linecolor\": \"white\", \"ticks\": \"\"}, \"bgcolor\": \"#E5ECF6\", \"radialaxis\": {\"gridcolor\": \"white\", \"linecolor\": \"white\", \"ticks\": \"\"}}, \"scene\": {\"xaxis\": {\"backgroundcolor\": \"#E5ECF6\", \"gridcolor\": \"white\", \"gridwidth\": 2, \"linecolor\": \"white\", \"showbackground\": true, \"ticks\": \"\", \"zerolinecolor\": \"white\"}, \"yaxis\": {\"backgroundcolor\": \"#E5ECF6\", \"gridcolor\": \"white\", \"gridwidth\": 2, \"linecolor\": \"white\", \"showbackground\": true, \"ticks\": \"\", \"zerolinecolor\": \"white\"}, \"zaxis\": {\"backgroundcolor\": \"#E5ECF6\", \"gridcolor\": \"white\", \"gridwidth\": 2, \"linecolor\": \"white\", \"showbackground\": true, \"ticks\": \"\", \"zerolinecolor\": \"white\"}}, \"shapedefaults\": {\"line\": {\"color\": \"#2a3f5f\"}}, \"ternary\": {\"aaxis\": {\"gridcolor\": \"white\", \"linecolor\": \"white\", \"ticks\": \"\"}, \"baxis\": {\"gridcolor\": \"white\", \"linecolor\": \"white\", \"ticks\": \"\"}, \"bgcolor\": \"#E5ECF6\", \"caxis\": {\"gridcolor\": \"white\", \"linecolor\": \"white\", \"ticks\": \"\"}}, \"title\": {\"x\": 0.05}, \"xaxis\": {\"automargin\": true, \"gridcolor\": \"white\", \"linecolor\": \"white\", \"ticks\": \"\", \"title\": {\"standoff\": 15}, \"zerolinecolor\": \"white\", \"zerolinewidth\": 2}, \"yaxis\": {\"automargin\": true, \"gridcolor\": \"white\", \"linecolor\": \"white\", \"ticks\": \"\", \"title\": {\"standoff\": 15}, \"zerolinecolor\": \"white\", \"zerolinewidth\": 2}}}, \"title\": {\"font\": {\"color\": \"#4D5663\"}, \"text\": \"Grades first two periods of students that fail the course\"}, \"xaxis\": {\"gridcolor\": \"#E1E5ED\", \"showgrid\": true, \"tickfont\": {\"color\": \"#4D5663\"}, \"title\": {\"font\": {\"color\": \"#4D5663\"}, \"text\": \"\"}, \"zerolinecolor\": \"#E1E5ED\"}, \"yaxis\": {\"gridcolor\": \"#E1E5ED\", \"showgrid\": true, \"tickfont\": {\"color\": \"#4D5663\"}, \"title\": {\"font\": {\"color\": \"#4D5663\"}, \"text\": \"\"}, \"zerolinecolor\": \"#E1E5ED\"}},\n",
       "                        {\"showLink\": true, \"linkText\": \"Export to plot.ly\", \"plotlyServerURL\": \"https://plot.ly\", \"responsive\": true}\n",
       "                    ).then(function(){\n",
       "                            \n",
       "var gd = document.getElementById('a908167c-81e7-407d-964b-b2cf8281317f');\n",
       "var x = new MutationObserver(function (mutations, observer) {{\n",
       "        var display = window.getComputedStyle(gd).display;\n",
       "        if (!display || display === 'none') {{\n",
       "            console.log([gd, 'removed!']);\n",
       "            Plotly.purge(gd);\n",
       "            observer.disconnect();\n",
       "        }}\n",
       "}});\n",
       "\n",
       "// Listen for the removal of the full notebook cells\n",
       "var notebookContainer = gd.closest('#notebook-container');\n",
       "if (notebookContainer) {{\n",
       "    x.observe(notebookContainer, {childList: true});\n",
       "}}\n",
       "\n",
       "// Listen for the clearing of the current output cell\n",
       "var outputEl = gd.closest('.output');\n",
       "if (outputEl) {{\n",
       "    x.observe(outputEl, {childList: true});\n",
       "}}\n",
       "\n",
       "                        })\n",
       "                };\n",
       "                });\n",
       "            </script>\n",
       "        </div>"
      ]
     },
     "metadata": {},
     "output_type": "display_data"
    }
   ],
   "source": [
    "fail_students_complete[['CI 1','CI 2','DD 1','DD 2','EL 1','EL 2','PR 1','PR 2']].iplot(kind='box', title='Grades first two periods of students that fail the course')"
   ]
  },
  {
   "cell_type": "code",
   "execution_count": 84,
   "metadata": {},
   "outputs": [
    {
     "data": {
      "application/vnd.plotly.v1+json": {
       "config": {
        "linkText": "Export to plot.ly",
        "plotlyServerURL": "https://plot.ly",
        "showLink": true
       },
       "data": [
        {
         "boxpoints": false,
         "line": {
          "width": 1.3
         },
         "marker": {
          "color": "rgba(255, 153, 51, 1.0)"
         },
         "name": "CI 1",
         "orientation": "v",
         "type": "box",
         "y": [
          3.4,
          0,
          4.1,
          3.9,
          3.5,
          4.1,
          3,
          3.2,
          3,
          3.8,
          3.2,
          2.9,
          2.6,
          4.3,
          4,
          2.8,
          3.2,
          4.7,
          3.5,
          3,
          2.7,
          3,
          3.9,
          3.4,
          3.4,
          3.3,
          3.6,
          2.8,
          3.7,
          2.6,
          3.7,
          4,
          4.1,
          3.2,
          3.1,
          3.9,
          3.5,
          2.9,
          3.7,
          4.1,
          3.8,
          3.7,
          3.7,
          2.5,
          4.6,
          3.7,
          3.9,
          3.6,
          4.3,
          3.1,
          1.3,
          2.1,
          3.2,
          4.1,
          2.8,
          0,
          3.2,
          4.1,
          3.2,
          3.8,
          0,
          4,
          3.4,
          3.9,
          3.2,
          3.6,
          3.1,
          3.8,
          3.1,
          3.6,
          3.4,
          0,
          2.8,
          3.4,
          3.7,
          3.5,
          3.5,
          2.7,
          2.3,
          3.9,
          4,
          4.2,
          3.4,
          3,
          3.9,
          1.7,
          2.6,
          3.5,
          3.4,
          3.1,
          4.1,
          3.5,
          2.4,
          3.1,
          4.1,
          3.9,
          3.5,
          4.1,
          3.6,
          3.6,
          2.6
         ]
        },
        {
         "boxpoints": false,
         "line": {
          "width": 1.3
         },
         "marker": {
          "color": "rgba(55, 128, 191, 1.0)"
         },
         "name": "CI 2",
         "orientation": "v",
         "type": "box",
         "y": [
          2.7,
          0,
          3.2,
          3.1,
          3.1,
          3.7,
          2.6,
          3.5,
          3,
          4.4,
          2.9,
          2.6,
          2.5,
          3.6,
          3.2,
          0,
          0,
          0,
          2.9,
          2.3,
          3.1,
          3,
          2.6,
          3.2,
          2.4,
          3.4,
          4,
          3.4,
          3.5,
          3,
          2.7,
          3.8,
          3.9,
          2.4,
          3,
          2.6,
          3.1,
          2.6,
          2.7,
          3,
          2.7,
          4.3,
          2.9,
          4,
          4.1,
          3.5,
          3.3,
          3.6,
          2.9,
          3.7,
          3.8,
          3,
          2.5,
          4.1,
          3.5,
          2.8,
          2.9,
          3.7,
          2.3,
          3.7,
          0,
          3,
          3.2,
          3.8,
          1.9,
          4,
          2.6,
          2.4,
          2.9,
          3.4,
          3,
          0,
          2.4,
          3.2,
          3.3,
          3.1,
          3,
          2.5,
          2,
          3.1,
          3.1,
          4,
          2.8,
          2.1,
          3.9,
          2.4,
          2.3,
          3.2,
          2.3,
          3.2,
          3.8,
          3.3,
          2.7,
          2.5,
          2.8,
          3.1,
          2.9,
          3.9,
          2.8,
          0,
          2.5
         ]
        },
        {
         "boxpoints": false,
         "line": {
          "width": 1.3
         },
         "marker": {
          "color": "rgba(50, 171, 96, 1.0)"
         },
         "name": "DD 1",
         "orientation": "v",
         "type": "box",
         "y": [
          3,
          3,
          2.3,
          3.3,
          3.5,
          3,
          2.63,
          3.3,
          2.38,
          3.8,
          2.8,
          2.8,
          3.03,
          3,
          2.2,
          3.5,
          3,
          3.3,
          3,
          2.5,
          2.4,
          3.3,
          2.53,
          2.8,
          2.3,
          2.78,
          3,
          2.9,
          2.03,
          2.6,
          3.5,
          2.5,
          2.7,
          2.8,
          2.35,
          1.8,
          3,
          2.38,
          3,
          3,
          2.2,
          3,
          2.5,
          3.3,
          2.78,
          2.8,
          2.5,
          3.03,
          3,
          3,
          2.5,
          2.5,
          2.8,
          3.7,
          2.5,
          2.3,
          2,
          3.9,
          2.13,
          2.3,
          3,
          2.2,
          2.48,
          3.2,
          2.8,
          3.28,
          2.5,
          2.38,
          2.5,
          2.8,
          3.5,
          2.25,
          3.3,
          2.5,
          2.25,
          2.1,
          3.3,
          2,
          1.8,
          3.1,
          2.7,
          3,
          2.3,
          2.3,
          3,
          2.5,
          2,
          2.8,
          2.25,
          2.5,
          3.3,
          2.8,
          2.63,
          2.3,
          2,
          3.3,
          2.6,
          2.7,
          3.8,
          2,
          2.3
         ]
        },
        {
         "boxpoints": false,
         "line": {
          "width": 1.3
         },
         "marker": {
          "color": "rgba(128, 0, 128, 1.0)"
         },
         "name": "DD 2",
         "orientation": "v",
         "type": "box",
         "y": [
          4.2,
          0,
          3.5,
          3.1,
          4,
          4.2,
          2.55,
          2.5,
          3,
          4.2,
          3.5,
          2.6,
          3.2,
          3.5,
          3.8,
          2.3,
          3.5,
          3.5,
          3.2,
          3.3,
          2.8,
          4.4,
          4.5,
          4.3,
          3.4,
          4.5,
          4.2,
          4.2,
          3.3,
          3.5,
          3.9,
          3.2,
          3.3,
          3.6,
          3.4,
          4.1,
          3.4,
          3.4,
          3.9,
          3.5,
          3.5,
          4.1,
          3,
          2.9,
          3.4,
          3.5,
          2.8,
          3.3,
          3.1,
          4.8,
          4.3,
          4,
          3.4,
          4.2,
          3.6,
          3.2,
          3.9,
          4.3,
          2.6,
          3.7,
          0,
          4.1,
          3.5,
          3.7,
          3.1,
          4.1,
          2.5,
          3.3,
          3.9,
          3.9,
          4.5,
          2.8,
          3.3,
          4.2,
          3,
          3.3,
          3.5,
          3.1,
          4.5,
          3.6,
          2.7,
          3.35,
          3.4,
          3.5,
          4,
          2.35,
          3.9,
          4.4,
          4,
          4,
          3.4,
          3.2,
          3,
          3.7,
          4.5,
          4.1,
          2.9,
          4.1,
          3.2,
          3.1,
          3
         ]
        },
        {
         "boxpoints": false,
         "line": {
          "width": 1.3
         },
         "marker": {
          "color": "rgba(219, 64, 82, 1.0)"
         },
         "name": "EL 1",
         "orientation": "v",
         "type": "box",
         "y": [
          3.4,
          3.2,
          2.6,
          4,
          3.6,
          4.2,
          4.8,
          4.8,
          4.2,
          3.2,
          3.6,
          2.4,
          4.6,
          3.4,
          3.2,
          4,
          3.2,
          4,
          3.6,
          3.65,
          3.2,
          3.8,
          4.8,
          4,
          4,
          3.2,
          4,
          4.2,
          3.6,
          2.28,
          3.91,
          4.2,
          4.6,
          4.4,
          4.4,
          4.2,
          3.2,
          3.57,
          2.72,
          2.6,
          3.8,
          4,
          4.6,
          4.8,
          4.2,
          2.6,
          3.8,
          4,
          3.4,
          3.2,
          3.4,
          4,
          3.2,
          3.8,
          3.4,
          4.8,
          3.4,
          2.6,
          3.8,
          4.4,
          3.2,
          1.82,
          4,
          3.8,
          3.22,
          3.2,
          4,
          3.36,
          3.8,
          3.6,
          4.2,
          3,
          2.74,
          4,
          3.2,
          4.2,
          3.4,
          3.2,
          2.89,
          2.6,
          2.6,
          4.2,
          3.8,
          4,
          3.8,
          2.66,
          3.2,
          3.4,
          3.2,
          3.6,
          3.6,
          4,
          3.2,
          4.8,
          3.8,
          4,
          2.4,
          3.2,
          3.8,
          2.7,
          3.74
         ]
        },
        {
         "boxpoints": false,
         "line": {
          "width": 1.3
         },
         "marker": {
          "color": "rgba(0, 128, 128, 1.0)"
         },
         "name": "EL 2",
         "orientation": "v",
         "type": "box",
         "y": [
          2.7,
          4.45,
          4.5,
          3.44,
          4.35,
          2.7,
          2.2,
          2.3,
          2.7,
          4.45,
          2.4,
          2.9,
          3.5,
          3.15,
          2.5,
          3,
          3,
          2.83,
          4.35,
          2.7,
          2.85,
          3.7,
          2.3,
          3.65,
          3.1,
          4.45,
          4.5,
          3.85,
          2.4,
          2.47,
          3.5,
          3.55,
          3.5,
          3.35,
          2.2,
          3.55,
          3,
          2.49,
          3,
          4.35,
          3.7,
          2.42,
          3.5,
          2.3,
          3.85,
          4.35,
          3.35,
          2.68,
          3.5,
          3,
          2.7,
          3,
          3,
          3.35,
          3.5,
          2.2,
          3.5,
          4.35,
          3.7,
          2.2,
          2.3,
          2.39,
          3.65,
          2.7,
          2.73,
          2.5,
          3.65,
          2.44,
          1.89,
          4.35,
          3.85,
          2.5,
          2.41,
          3,
          2.59,
          2.7,
          2.7,
          3,
          3.5,
          4.5,
          4.5,
          3.85,
          2.7,
          3,
          3.35,
          1.87,
          4.45,
          3.15,
          2.3,
          2.4,
          4.35,
          2.68,
          2.7,
          2.3,
          3.7,
          4.5,
          2.9,
          3,
          3.35,
          1.5,
          2.2
         ]
        },
        {
         "boxpoints": false,
         "line": {
          "width": 1.3
         },
         "marker": {
          "color": "rgba(255, 255, 51, 1.0)"
         },
         "name": "PR 1",
         "orientation": "v",
         "type": "box",
         "y": [
          3,
          2.7,
          3.5,
          2.9,
          2.98,
          3.2,
          3.23,
          3,
          3,
          3.33,
          3.5,
          2.4,
          2.4,
          2.9,
          3.2,
          2.7,
          2.7,
          2.5,
          2.4,
          2.02,
          2.9,
          3.2,
          3.1,
          2.9,
          2.5,
          3.1,
          3.2,
          3.3,
          3.3,
          3,
          2.55,
          3.2,
          3.2,
          2.9,
          3.3,
          2.55,
          3.3,
          3.3,
          3.3,
          3.5,
          3.2,
          3.8,
          2.7,
          2.7,
          3.3,
          2.5,
          2.9,
          2.9,
          2.7,
          2.9,
          2.7,
          3.1,
          3,
          2.9,
          3,
          2.7,
          2.23,
          3.2,
          2.9,
          3,
          2.72,
          3.3,
          3.2,
          3,
          2.47,
          3.2,
          2.7,
          3.2,
          2.4,
          3.2,
          3,
          2.55,
          2.07,
          3.3,
          3.3,
          3.2,
          3.1,
          2.13,
          3.1,
          2.7,
          3.5,
          3.13,
          2.24,
          3.3,
          3.5,
          1.56,
          2.7,
          3.5,
          3.2,
          3.8,
          3.5,
          2.98,
          3.3,
          3.1,
          3.2,
          3,
          2.7,
          3.3,
          2.4,
          1.71,
          3.2
         ]
        },
        {
         "boxpoints": false,
         "line": {
          "width": 1.3
         },
         "marker": {
          "color": "rgba(128, 128, 0, 1.0)"
         },
         "name": "PR 2",
         "orientation": "v",
         "type": "box",
         "y": [
          4.4,
          3.9,
          3.5,
          3.1,
          2.9,
          3.5,
          3.5,
          3.9,
          3.2,
          4.4,
          3,
          2.89,
          2.63,
          4.1,
          3.3,
          4.4,
          3.1,
          3,
          3.3,
          1.71,
          3.1,
          3.2,
          3.5,
          3.1,
          4.1,
          3.4,
          3.2,
          3.52,
          3,
          3.2,
          3.8,
          3.2,
          2.9,
          2.38,
          3.3,
          3.5,
          3.1,
          2.2,
          3.1,
          3.2,
          4,
          3.2,
          3.3,
          3.4,
          3.4,
          3.5,
          1.66,
          3.5,
          2.4,
          3.1,
          3.5,
          3.4,
          2.64,
          3.3,
          3.4,
          2.1,
          3.4,
          4.1,
          2.64,
          4,
          2.17,
          2.98,
          3.1,
          3.5,
          2.11,
          3.1,
          3,
          1.91,
          2.45,
          3.5,
          3.4,
          2.6,
          2.72,
          3.9,
          4,
          2.8,
          3.7,
          3.1,
          4.4,
          2.9,
          3.3,
          3.4,
          3.5,
          2.4,
          3.8,
          2.24,
          3.7,
          3,
          2.45,
          3.1,
          2.89,
          3,
          3.2,
          3.5,
          3.1,
          3.5,
          3.8,
          3.5,
          3.8,
          2.4,
          2.38
         ]
        }
       ],
       "layout": {
        "legend": {
         "bgcolor": "#F5F6F9",
         "font": {
          "color": "#4D5663"
         }
        },
        "paper_bgcolor": "#F5F6F9",
        "plot_bgcolor": "#F5F6F9",
        "template": {
         "data": {
          "bar": [
           {
            "error_x": {
             "color": "#2a3f5f"
            },
            "error_y": {
             "color": "#2a3f5f"
            },
            "marker": {
             "line": {
              "color": "#E5ECF6",
              "width": 0.5
             }
            },
            "type": "bar"
           }
          ],
          "barpolar": [
           {
            "marker": {
             "line": {
              "color": "#E5ECF6",
              "width": 0.5
             }
            },
            "type": "barpolar"
           }
          ],
          "carpet": [
           {
            "aaxis": {
             "endlinecolor": "#2a3f5f",
             "gridcolor": "white",
             "linecolor": "white",
             "minorgridcolor": "white",
             "startlinecolor": "#2a3f5f"
            },
            "baxis": {
             "endlinecolor": "#2a3f5f",
             "gridcolor": "white",
             "linecolor": "white",
             "minorgridcolor": "white",
             "startlinecolor": "#2a3f5f"
            },
            "type": "carpet"
           }
          ],
          "choropleth": [
           {
            "colorbar": {
             "outlinewidth": 0,
             "ticks": ""
            },
            "type": "choropleth"
           }
          ],
          "contour": [
           {
            "colorbar": {
             "outlinewidth": 0,
             "ticks": ""
            },
            "colorscale": [
             [
              0,
              "#0d0887"
             ],
             [
              0.1111111111111111,
              "#46039f"
             ],
             [
              0.2222222222222222,
              "#7201a8"
             ],
             [
              0.3333333333333333,
              "#9c179e"
             ],
             [
              0.4444444444444444,
              "#bd3786"
             ],
             [
              0.5555555555555556,
              "#d8576b"
             ],
             [
              0.6666666666666666,
              "#ed7953"
             ],
             [
              0.7777777777777778,
              "#fb9f3a"
             ],
             [
              0.8888888888888888,
              "#fdca26"
             ],
             [
              1,
              "#f0f921"
             ]
            ],
            "type": "contour"
           }
          ],
          "contourcarpet": [
           {
            "colorbar": {
             "outlinewidth": 0,
             "ticks": ""
            },
            "type": "contourcarpet"
           }
          ],
          "heatmap": [
           {
            "colorbar": {
             "outlinewidth": 0,
             "ticks": ""
            },
            "colorscale": [
             [
              0,
              "#0d0887"
             ],
             [
              0.1111111111111111,
              "#46039f"
             ],
             [
              0.2222222222222222,
              "#7201a8"
             ],
             [
              0.3333333333333333,
              "#9c179e"
             ],
             [
              0.4444444444444444,
              "#bd3786"
             ],
             [
              0.5555555555555556,
              "#d8576b"
             ],
             [
              0.6666666666666666,
              "#ed7953"
             ],
             [
              0.7777777777777778,
              "#fb9f3a"
             ],
             [
              0.8888888888888888,
              "#fdca26"
             ],
             [
              1,
              "#f0f921"
             ]
            ],
            "type": "heatmap"
           }
          ],
          "heatmapgl": [
           {
            "colorbar": {
             "outlinewidth": 0,
             "ticks": ""
            },
            "colorscale": [
             [
              0,
              "#0d0887"
             ],
             [
              0.1111111111111111,
              "#46039f"
             ],
             [
              0.2222222222222222,
              "#7201a8"
             ],
             [
              0.3333333333333333,
              "#9c179e"
             ],
             [
              0.4444444444444444,
              "#bd3786"
             ],
             [
              0.5555555555555556,
              "#d8576b"
             ],
             [
              0.6666666666666666,
              "#ed7953"
             ],
             [
              0.7777777777777778,
              "#fb9f3a"
             ],
             [
              0.8888888888888888,
              "#fdca26"
             ],
             [
              1,
              "#f0f921"
             ]
            ],
            "type": "heatmapgl"
           }
          ],
          "histogram": [
           {
            "marker": {
             "colorbar": {
              "outlinewidth": 0,
              "ticks": ""
             }
            },
            "type": "histogram"
           }
          ],
          "histogram2d": [
           {
            "colorbar": {
             "outlinewidth": 0,
             "ticks": ""
            },
            "colorscale": [
             [
              0,
              "#0d0887"
             ],
             [
              0.1111111111111111,
              "#46039f"
             ],
             [
              0.2222222222222222,
              "#7201a8"
             ],
             [
              0.3333333333333333,
              "#9c179e"
             ],
             [
              0.4444444444444444,
              "#bd3786"
             ],
             [
              0.5555555555555556,
              "#d8576b"
             ],
             [
              0.6666666666666666,
              "#ed7953"
             ],
             [
              0.7777777777777778,
              "#fb9f3a"
             ],
             [
              0.8888888888888888,
              "#fdca26"
             ],
             [
              1,
              "#f0f921"
             ]
            ],
            "type": "histogram2d"
           }
          ],
          "histogram2dcontour": [
           {
            "colorbar": {
             "outlinewidth": 0,
             "ticks": ""
            },
            "colorscale": [
             [
              0,
              "#0d0887"
             ],
             [
              0.1111111111111111,
              "#46039f"
             ],
             [
              0.2222222222222222,
              "#7201a8"
             ],
             [
              0.3333333333333333,
              "#9c179e"
             ],
             [
              0.4444444444444444,
              "#bd3786"
             ],
             [
              0.5555555555555556,
              "#d8576b"
             ],
             [
              0.6666666666666666,
              "#ed7953"
             ],
             [
              0.7777777777777778,
              "#fb9f3a"
             ],
             [
              0.8888888888888888,
              "#fdca26"
             ],
             [
              1,
              "#f0f921"
             ]
            ],
            "type": "histogram2dcontour"
           }
          ],
          "mesh3d": [
           {
            "colorbar": {
             "outlinewidth": 0,
             "ticks": ""
            },
            "type": "mesh3d"
           }
          ],
          "parcoords": [
           {
            "line": {
             "colorbar": {
              "outlinewidth": 0,
              "ticks": ""
             }
            },
            "type": "parcoords"
           }
          ],
          "pie": [
           {
            "automargin": true,
            "type": "pie"
           }
          ],
          "scatter": [
           {
            "marker": {
             "colorbar": {
              "outlinewidth": 0,
              "ticks": ""
             }
            },
            "type": "scatter"
           }
          ],
          "scatter3d": [
           {
            "line": {
             "colorbar": {
              "outlinewidth": 0,
              "ticks": ""
             }
            },
            "marker": {
             "colorbar": {
              "outlinewidth": 0,
              "ticks": ""
             }
            },
            "type": "scatter3d"
           }
          ],
          "scattercarpet": [
           {
            "marker": {
             "colorbar": {
              "outlinewidth": 0,
              "ticks": ""
             }
            },
            "type": "scattercarpet"
           }
          ],
          "scattergeo": [
           {
            "marker": {
             "colorbar": {
              "outlinewidth": 0,
              "ticks": ""
             }
            },
            "type": "scattergeo"
           }
          ],
          "scattergl": [
           {
            "marker": {
             "colorbar": {
              "outlinewidth": 0,
              "ticks": ""
             }
            },
            "type": "scattergl"
           }
          ],
          "scattermapbox": [
           {
            "marker": {
             "colorbar": {
              "outlinewidth": 0,
              "ticks": ""
             }
            },
            "type": "scattermapbox"
           }
          ],
          "scatterpolar": [
           {
            "marker": {
             "colorbar": {
              "outlinewidth": 0,
              "ticks": ""
             }
            },
            "type": "scatterpolar"
           }
          ],
          "scatterpolargl": [
           {
            "marker": {
             "colorbar": {
              "outlinewidth": 0,
              "ticks": ""
             }
            },
            "type": "scatterpolargl"
           }
          ],
          "scatterternary": [
           {
            "marker": {
             "colorbar": {
              "outlinewidth": 0,
              "ticks": ""
             }
            },
            "type": "scatterternary"
           }
          ],
          "surface": [
           {
            "colorbar": {
             "outlinewidth": 0,
             "ticks": ""
            },
            "colorscale": [
             [
              0,
              "#0d0887"
             ],
             [
              0.1111111111111111,
              "#46039f"
             ],
             [
              0.2222222222222222,
              "#7201a8"
             ],
             [
              0.3333333333333333,
              "#9c179e"
             ],
             [
              0.4444444444444444,
              "#bd3786"
             ],
             [
              0.5555555555555556,
              "#d8576b"
             ],
             [
              0.6666666666666666,
              "#ed7953"
             ],
             [
              0.7777777777777778,
              "#fb9f3a"
             ],
             [
              0.8888888888888888,
              "#fdca26"
             ],
             [
              1,
              "#f0f921"
             ]
            ],
            "type": "surface"
           }
          ],
          "table": [
           {
            "cells": {
             "fill": {
              "color": "#EBF0F8"
             },
             "line": {
              "color": "white"
             }
            },
            "header": {
             "fill": {
              "color": "#C8D4E3"
             },
             "line": {
              "color": "white"
             }
            },
            "type": "table"
           }
          ]
         },
         "layout": {
          "annotationdefaults": {
           "arrowcolor": "#2a3f5f",
           "arrowhead": 0,
           "arrowwidth": 1
          },
          "coloraxis": {
           "colorbar": {
            "outlinewidth": 0,
            "ticks": ""
           }
          },
          "colorscale": {
           "diverging": [
            [
             0,
             "#8e0152"
            ],
            [
             0.1,
             "#c51b7d"
            ],
            [
             0.2,
             "#de77ae"
            ],
            [
             0.3,
             "#f1b6da"
            ],
            [
             0.4,
             "#fde0ef"
            ],
            [
             0.5,
             "#f7f7f7"
            ],
            [
             0.6,
             "#e6f5d0"
            ],
            [
             0.7,
             "#b8e186"
            ],
            [
             0.8,
             "#7fbc41"
            ],
            [
             0.9,
             "#4d9221"
            ],
            [
             1,
             "#276419"
            ]
           ],
           "sequential": [
            [
             0,
             "#0d0887"
            ],
            [
             0.1111111111111111,
             "#46039f"
            ],
            [
             0.2222222222222222,
             "#7201a8"
            ],
            [
             0.3333333333333333,
             "#9c179e"
            ],
            [
             0.4444444444444444,
             "#bd3786"
            ],
            [
             0.5555555555555556,
             "#d8576b"
            ],
            [
             0.6666666666666666,
             "#ed7953"
            ],
            [
             0.7777777777777778,
             "#fb9f3a"
            ],
            [
             0.8888888888888888,
             "#fdca26"
            ],
            [
             1,
             "#f0f921"
            ]
           ],
           "sequentialminus": [
            [
             0,
             "#0d0887"
            ],
            [
             0.1111111111111111,
             "#46039f"
            ],
            [
             0.2222222222222222,
             "#7201a8"
            ],
            [
             0.3333333333333333,
             "#9c179e"
            ],
            [
             0.4444444444444444,
             "#bd3786"
            ],
            [
             0.5555555555555556,
             "#d8576b"
            ],
            [
             0.6666666666666666,
             "#ed7953"
            ],
            [
             0.7777777777777778,
             "#fb9f3a"
            ],
            [
             0.8888888888888888,
             "#fdca26"
            ],
            [
             1,
             "#f0f921"
            ]
           ]
          },
          "colorway": [
           "#636efa",
           "#EF553B",
           "#00cc96",
           "#ab63fa",
           "#FFA15A",
           "#19d3f3",
           "#FF6692",
           "#B6E880",
           "#FF97FF",
           "#FECB52"
          ],
          "font": {
           "color": "#2a3f5f"
          },
          "geo": {
           "bgcolor": "white",
           "lakecolor": "white",
           "landcolor": "#E5ECF6",
           "showlakes": true,
           "showland": true,
           "subunitcolor": "white"
          },
          "hoverlabel": {
           "align": "left"
          },
          "hovermode": "closest",
          "mapbox": {
           "style": "light"
          },
          "paper_bgcolor": "white",
          "plot_bgcolor": "#E5ECF6",
          "polar": {
           "angularaxis": {
            "gridcolor": "white",
            "linecolor": "white",
            "ticks": ""
           },
           "bgcolor": "#E5ECF6",
           "radialaxis": {
            "gridcolor": "white",
            "linecolor": "white",
            "ticks": ""
           }
          },
          "scene": {
           "xaxis": {
            "backgroundcolor": "#E5ECF6",
            "gridcolor": "white",
            "gridwidth": 2,
            "linecolor": "white",
            "showbackground": true,
            "ticks": "",
            "zerolinecolor": "white"
           },
           "yaxis": {
            "backgroundcolor": "#E5ECF6",
            "gridcolor": "white",
            "gridwidth": 2,
            "linecolor": "white",
            "showbackground": true,
            "ticks": "",
            "zerolinecolor": "white"
           },
           "zaxis": {
            "backgroundcolor": "#E5ECF6",
            "gridcolor": "white",
            "gridwidth": 2,
            "linecolor": "white",
            "showbackground": true,
            "ticks": "",
            "zerolinecolor": "white"
           }
          },
          "shapedefaults": {
           "line": {
            "color": "#2a3f5f"
           }
          },
          "ternary": {
           "aaxis": {
            "gridcolor": "white",
            "linecolor": "white",
            "ticks": ""
           },
           "baxis": {
            "gridcolor": "white",
            "linecolor": "white",
            "ticks": ""
           },
           "bgcolor": "#E5ECF6",
           "caxis": {
            "gridcolor": "white",
            "linecolor": "white",
            "ticks": ""
           }
          },
          "title": {
           "x": 0.05
          },
          "xaxis": {
           "automargin": true,
           "gridcolor": "white",
           "linecolor": "white",
           "ticks": "",
           "title": {
            "standoff": 15
           },
           "zerolinecolor": "white",
           "zerolinewidth": 2
          },
          "yaxis": {
           "automargin": true,
           "gridcolor": "white",
           "linecolor": "white",
           "ticks": "",
           "title": {
            "standoff": 15
           },
           "zerolinecolor": "white",
           "zerolinewidth": 2
          }
         }
        },
        "title": {
         "font": {
          "color": "#4D5663"
         },
         "text": "Grades first two periods of all the students"
        },
        "xaxis": {
         "gridcolor": "#E1E5ED",
         "showgrid": true,
         "tickfont": {
          "color": "#4D5663"
         },
         "title": {
          "font": {
           "color": "#4D5663"
          },
          "text": ""
         },
         "zerolinecolor": "#E1E5ED"
        },
        "yaxis": {
         "gridcolor": "#E1E5ED",
         "showgrid": true,
         "tickfont": {
          "color": "#4D5663"
         },
         "title": {
          "font": {
           "color": "#4D5663"
          },
          "text": ""
         },
         "zerolinecolor": "#E1E5ED"
        }
       }
      },
      "text/html": [
       "<div>\n",
       "        \n",
       "        \n",
       "            <div id=\"7132e08f-d598-4356-9862-c0059436a91e\" class=\"plotly-graph-div\" style=\"height:525px; width:100%;\"></div>\n",
       "            <script type=\"text/javascript\">\n",
       "                require([\"plotly\"], function(Plotly) {\n",
       "                    window.PLOTLYENV=window.PLOTLYENV || {};\n",
       "                    window.PLOTLYENV.BASE_URL='https://plot.ly';\n",
       "                    \n",
       "                if (document.getElementById(\"7132e08f-d598-4356-9862-c0059436a91e\")) {\n",
       "                    Plotly.newPlot(\n",
       "                        '7132e08f-d598-4356-9862-c0059436a91e',\n",
       "                        [{\"boxpoints\": false, \"line\": {\"width\": 1.3}, \"marker\": {\"color\": \"rgba(255, 153, 51, 1.0)\"}, \"name\": \"CI 1\", \"orientation\": \"v\", \"type\": \"box\", \"y\": [3.4, 0.0, 4.1, 3.9, 3.5, 4.1, 3.0, 3.2, 3.0, 3.8, 3.2, 2.9, 2.6, 4.3, 4.0, 2.8, 3.2, 4.7, 3.5, 3.0, 2.7, 3.0, 3.9, 3.4, 3.4, 3.3, 3.6, 2.8, 3.7, 2.6, 3.7, 4.0, 4.1, 3.2, 3.1, 3.9, 3.5, 2.9, 3.7, 4.1, 3.8, 3.7, 3.7, 2.5, 4.6, 3.7, 3.9, 3.6, 4.3, 3.1, 1.3, 2.1, 3.2, 4.1, 2.8, 0.0, 3.2, 4.1, 3.2, 3.8, 0.0, 4.0, 3.4, 3.9, 3.2, 3.6, 3.1, 3.8, 3.1, 3.6, 3.4, 0.0, 2.8, 3.4, 3.7, 3.5, 3.5, 2.7, 2.3, 3.9, 4.0, 4.2, 3.4, 3.0, 3.9, 1.7, 2.6, 3.5, 3.4, 3.1, 4.1, 3.5, 2.4, 3.1, 4.1, 3.9, 3.5, 4.1, 3.6, 3.6, 2.6]}, {\"boxpoints\": false, \"line\": {\"width\": 1.3}, \"marker\": {\"color\": \"rgba(55, 128, 191, 1.0)\"}, \"name\": \"CI 2\", \"orientation\": \"v\", \"type\": \"box\", \"y\": [2.7, 0.0, 3.2, 3.1, 3.1, 3.7, 2.6, 3.5, 3.0, 4.4, 2.9, 2.6, 2.5, 3.6, 3.2, 0.0, 0.0, 0.0, 2.9, 2.3, 3.1, 3.0, 2.6, 3.2, 2.4, 3.4, 4.0, 3.4, 3.5, 3.0, 2.7, 3.8, 3.9, 2.4, 3.0, 2.6, 3.1, 2.6, 2.7, 3.0, 2.7, 4.3, 2.9, 4.0, 4.1, 3.5, 3.3, 3.6, 2.9, 3.7, 3.8, 3.0, 2.5, 4.1, 3.5, 2.8, 2.9, 3.7, 2.3, 3.7, 0.0, 3.0, 3.2, 3.8, 1.9, 4.0, 2.6, 2.4, 2.9, 3.4, 3.0, 0.0, 2.4, 3.2, 3.3, 3.1, 3.0, 2.5, 2.0, 3.1, 3.1, 4.0, 2.8, 2.1, 3.9, 2.4, 2.3, 3.2, 2.3, 3.2, 3.8, 3.3, 2.7, 2.5, 2.8, 3.1, 2.9, 3.9, 2.8, 0.0, 2.5]}, {\"boxpoints\": false, \"line\": {\"width\": 1.3}, \"marker\": {\"color\": \"rgba(50, 171, 96, 1.0)\"}, \"name\": \"DD 1\", \"orientation\": \"v\", \"type\": \"box\", \"y\": [3.0, 3.0, 2.3, 3.3, 3.5, 3.0, 2.63, 3.3, 2.38, 3.8, 2.8, 2.8, 3.03, 3.0, 2.2, 3.5, 3.0, 3.3, 3.0, 2.5, 2.4, 3.3, 2.53, 2.8, 2.3, 2.78, 3.0, 2.9, 2.03, 2.6, 3.5, 2.5, 2.7, 2.8, 2.35, 1.8, 3.0, 2.38, 3.0, 3.0, 2.2, 3.0, 2.5, 3.3, 2.78, 2.8, 2.5, 3.03, 3.0, 3.0, 2.5, 2.5, 2.8, 3.7, 2.5, 2.3, 2.0, 3.9, 2.13, 2.3, 3.0, 2.2, 2.48, 3.2, 2.8, 3.28, 2.5, 2.38, 2.5, 2.8, 3.5, 2.25, 3.3, 2.5, 2.25, 2.1, 3.3, 2.0, 1.8, 3.1, 2.7, 3.0, 2.3, 2.3, 3.0, 2.5, 2.0, 2.8, 2.25, 2.5, 3.3, 2.8, 2.63, 2.3, 2.0, 3.3, 2.6, 2.7, 3.8, 2.0, 2.3]}, {\"boxpoints\": false, \"line\": {\"width\": 1.3}, \"marker\": {\"color\": \"rgba(128, 0, 128, 1.0)\"}, \"name\": \"DD 2\", \"orientation\": \"v\", \"type\": \"box\", \"y\": [4.2, 0.0, 3.5, 3.1, 4.0, 4.2, 2.55, 2.5, 3.0, 4.2, 3.5, 2.6, 3.2, 3.5, 3.8, 2.3, 3.5, 3.5, 3.2, 3.3, 2.8, 4.4, 4.5, 4.3, 3.4, 4.5, 4.2, 4.2, 3.3, 3.5, 3.9, 3.2, 3.3, 3.6, 3.4, 4.1, 3.4, 3.4, 3.9, 3.5, 3.5, 4.1, 3.0, 2.9, 3.4, 3.5, 2.8, 3.3, 3.1, 4.8, 4.3, 4.0, 3.4, 4.2, 3.6, 3.2, 3.9, 4.3, 2.6, 3.7, 0.0, 4.1, 3.5, 3.7, 3.1, 4.1, 2.5, 3.3, 3.9, 3.9, 4.5, 2.8, 3.3, 4.2, 3.0, 3.3, 3.5, 3.1, 4.5, 3.6, 2.7, 3.35, 3.4, 3.5, 4.0, 2.35, 3.9, 4.4, 4.0, 4.0, 3.4, 3.2, 3.0, 3.7, 4.5, 4.1, 2.9, 4.1, 3.2, 3.1, 3.0]}, {\"boxpoints\": false, \"line\": {\"width\": 1.3}, \"marker\": {\"color\": \"rgba(219, 64, 82, 1.0)\"}, \"name\": \"EL 1\", \"orientation\": \"v\", \"type\": \"box\", \"y\": [3.4, 3.2, 2.6, 4.0, 3.6, 4.2, 4.8, 4.8, 4.2, 3.2, 3.6, 2.4, 4.6, 3.4, 3.2, 4.0, 3.2, 4.0, 3.6, 3.65, 3.2, 3.8, 4.8, 4.0, 4.0, 3.2, 4.0, 4.2, 3.6, 2.28, 3.91, 4.2, 4.6, 4.4, 4.4, 4.2, 3.2, 3.57, 2.72, 2.6, 3.8, 4.0, 4.6, 4.8, 4.2, 2.6, 3.8, 4.0, 3.4, 3.2, 3.4, 4.0, 3.2, 3.8, 3.4, 4.8, 3.4, 2.6, 3.8, 4.4, 3.2, 1.82, 4.0, 3.8, 3.22, 3.2, 4.0, 3.36, 3.8, 3.6, 4.2, 3.0, 2.74, 4.0, 3.2, 4.2, 3.4, 3.2, 2.89, 2.6, 2.6, 4.2, 3.8, 4.0, 3.8, 2.66, 3.2, 3.4, 3.2, 3.6, 3.6, 4.0, 3.2, 4.8, 3.8, 4.0, 2.4, 3.2, 3.8, 2.7, 3.74]}, {\"boxpoints\": false, \"line\": {\"width\": 1.3}, \"marker\": {\"color\": \"rgba(0, 128, 128, 1.0)\"}, \"name\": \"EL 2\", \"orientation\": \"v\", \"type\": \"box\", \"y\": [2.7, 4.45, 4.5, 3.44, 4.35, 2.7, 2.2, 2.3, 2.7, 4.45, 2.4, 2.9, 3.5, 3.15, 2.5, 3.0, 3.0, 2.83, 4.35, 2.7, 2.85, 3.7, 2.3, 3.65, 3.1, 4.45, 4.5, 3.85, 2.4, 2.47, 3.5, 3.55, 3.5, 3.35, 2.2, 3.55, 3.0, 2.49, 3.0, 4.35, 3.7, 2.42, 3.5, 2.3, 3.85, 4.35, 3.35, 2.68, 3.5, 3.0, 2.7, 3.0, 3.0, 3.35, 3.5, 2.2, 3.5, 4.35, 3.7, 2.2, 2.3, 2.39, 3.65, 2.7, 2.73, 2.5, 3.65, 2.44, 1.89, 4.35, 3.85, 2.5, 2.41, 3.0, 2.59, 2.7, 2.7, 3.0, 3.5, 4.5, 4.5, 3.85, 2.7, 3.0, 3.35, 1.87, 4.45, 3.15, 2.3, 2.4, 4.35, 2.68, 2.7, 2.3, 3.7, 4.5, 2.9, 3.0, 3.35, 1.5, 2.2]}, {\"boxpoints\": false, \"line\": {\"width\": 1.3}, \"marker\": {\"color\": \"rgba(255, 255, 51, 1.0)\"}, \"name\": \"PR 1\", \"orientation\": \"v\", \"type\": \"box\", \"y\": [3.0, 2.7, 3.5, 2.9, 2.98, 3.2, 3.23, 3.0, 3.0, 3.33, 3.5, 2.4, 2.4, 2.9, 3.2, 2.7, 2.7, 2.5, 2.4, 2.02, 2.9, 3.2, 3.1, 2.9, 2.5, 3.1, 3.2, 3.3, 3.3, 3.0, 2.55, 3.2, 3.2, 2.9, 3.3, 2.55, 3.3, 3.3, 3.3, 3.5, 3.2, 3.8, 2.7, 2.7, 3.3, 2.5, 2.9, 2.9, 2.7, 2.9, 2.7, 3.1, 3.0, 2.9, 3.0, 2.7, 2.23, 3.2, 2.9, 3.0, 2.72, 3.3, 3.2, 3.0, 2.47, 3.2, 2.7, 3.2, 2.4, 3.2, 3.0, 2.55, 2.07, 3.3, 3.3, 3.2, 3.1, 2.13, 3.1, 2.7, 3.5, 3.13, 2.24, 3.3, 3.5, 1.56, 2.7, 3.5, 3.2, 3.8, 3.5, 2.98, 3.3, 3.1, 3.2, 3.0, 2.7, 3.3, 2.4, 1.71, 3.2]}, {\"boxpoints\": false, \"line\": {\"width\": 1.3}, \"marker\": {\"color\": \"rgba(128, 128, 0, 1.0)\"}, \"name\": \"PR 2\", \"orientation\": \"v\", \"type\": \"box\", \"y\": [4.4, 3.9, 3.5, 3.1, 2.9, 3.5, 3.5, 3.9, 3.2, 4.4, 3.0, 2.89, 2.63, 4.1, 3.3, 4.4, 3.1, 3.0, 3.3, 1.71, 3.1, 3.2, 3.5, 3.1, 4.1, 3.4, 3.2, 3.52, 3.0, 3.2, 3.8, 3.2, 2.9, 2.38, 3.3, 3.5, 3.1, 2.2, 3.1, 3.2, 4.0, 3.2, 3.3, 3.4, 3.4, 3.5, 1.66, 3.5, 2.4, 3.1, 3.5, 3.4, 2.64, 3.3, 3.4, 2.1, 3.4, 4.1, 2.64, 4.0, 2.17, 2.98, 3.1, 3.5, 2.11, 3.1, 3.0, 1.91, 2.45, 3.5, 3.4, 2.6, 2.72, 3.9, 4.0, 2.8, 3.7, 3.1, 4.4, 2.9, 3.3, 3.4, 3.5, 2.4, 3.8, 2.24, 3.7, 3.0, 2.45, 3.1, 2.89, 3.0, 3.2, 3.5, 3.1, 3.5, 3.8, 3.5, 3.8, 2.4, 2.38]}],\n",
       "                        {\"legend\": {\"bgcolor\": \"#F5F6F9\", \"font\": {\"color\": \"#4D5663\"}}, \"paper_bgcolor\": \"#F5F6F9\", \"plot_bgcolor\": \"#F5F6F9\", \"template\": {\"data\": {\"bar\": [{\"error_x\": {\"color\": \"#2a3f5f\"}, \"error_y\": {\"color\": \"#2a3f5f\"}, \"marker\": {\"line\": {\"color\": \"#E5ECF6\", \"width\": 0.5}}, \"type\": \"bar\"}], \"barpolar\": [{\"marker\": {\"line\": {\"color\": \"#E5ECF6\", \"width\": 0.5}}, \"type\": \"barpolar\"}], \"carpet\": [{\"aaxis\": {\"endlinecolor\": \"#2a3f5f\", \"gridcolor\": \"white\", \"linecolor\": \"white\", \"minorgridcolor\": \"white\", \"startlinecolor\": \"#2a3f5f\"}, \"baxis\": {\"endlinecolor\": \"#2a3f5f\", \"gridcolor\": \"white\", \"linecolor\": \"white\", \"minorgridcolor\": \"white\", \"startlinecolor\": \"#2a3f5f\"}, \"type\": \"carpet\"}], \"choropleth\": [{\"colorbar\": {\"outlinewidth\": 0, \"ticks\": \"\"}, \"type\": \"choropleth\"}], \"contour\": [{\"colorbar\": {\"outlinewidth\": 0, \"ticks\": \"\"}, \"colorscale\": [[0.0, \"#0d0887\"], [0.1111111111111111, \"#46039f\"], [0.2222222222222222, \"#7201a8\"], [0.3333333333333333, \"#9c179e\"], [0.4444444444444444, \"#bd3786\"], [0.5555555555555556, \"#d8576b\"], [0.6666666666666666, \"#ed7953\"], [0.7777777777777778, \"#fb9f3a\"], [0.8888888888888888, \"#fdca26\"], [1.0, \"#f0f921\"]], \"type\": \"contour\"}], \"contourcarpet\": [{\"colorbar\": {\"outlinewidth\": 0, \"ticks\": \"\"}, \"type\": \"contourcarpet\"}], \"heatmap\": [{\"colorbar\": {\"outlinewidth\": 0, \"ticks\": \"\"}, \"colorscale\": [[0.0, \"#0d0887\"], [0.1111111111111111, \"#46039f\"], [0.2222222222222222, \"#7201a8\"], [0.3333333333333333, \"#9c179e\"], [0.4444444444444444, \"#bd3786\"], [0.5555555555555556, \"#d8576b\"], [0.6666666666666666, \"#ed7953\"], [0.7777777777777778, \"#fb9f3a\"], [0.8888888888888888, \"#fdca26\"], [1.0, \"#f0f921\"]], \"type\": \"heatmap\"}], \"heatmapgl\": [{\"colorbar\": {\"outlinewidth\": 0, \"ticks\": \"\"}, \"colorscale\": [[0.0, \"#0d0887\"], [0.1111111111111111, \"#46039f\"], [0.2222222222222222, \"#7201a8\"], [0.3333333333333333, \"#9c179e\"], [0.4444444444444444, \"#bd3786\"], [0.5555555555555556, \"#d8576b\"], [0.6666666666666666, \"#ed7953\"], [0.7777777777777778, \"#fb9f3a\"], [0.8888888888888888, \"#fdca26\"], [1.0, \"#f0f921\"]], \"type\": \"heatmapgl\"}], \"histogram\": [{\"marker\": {\"colorbar\": {\"outlinewidth\": 0, \"ticks\": \"\"}}, \"type\": \"histogram\"}], \"histogram2d\": [{\"colorbar\": {\"outlinewidth\": 0, \"ticks\": \"\"}, \"colorscale\": [[0.0, \"#0d0887\"], [0.1111111111111111, \"#46039f\"], [0.2222222222222222, \"#7201a8\"], [0.3333333333333333, \"#9c179e\"], [0.4444444444444444, \"#bd3786\"], [0.5555555555555556, \"#d8576b\"], [0.6666666666666666, \"#ed7953\"], [0.7777777777777778, \"#fb9f3a\"], [0.8888888888888888, \"#fdca26\"], [1.0, \"#f0f921\"]], \"type\": \"histogram2d\"}], \"histogram2dcontour\": [{\"colorbar\": {\"outlinewidth\": 0, \"ticks\": \"\"}, \"colorscale\": [[0.0, \"#0d0887\"], [0.1111111111111111, \"#46039f\"], [0.2222222222222222, \"#7201a8\"], [0.3333333333333333, \"#9c179e\"], [0.4444444444444444, \"#bd3786\"], [0.5555555555555556, \"#d8576b\"], [0.6666666666666666, \"#ed7953\"], [0.7777777777777778, \"#fb9f3a\"], [0.8888888888888888, \"#fdca26\"], [1.0, \"#f0f921\"]], \"type\": \"histogram2dcontour\"}], \"mesh3d\": [{\"colorbar\": {\"outlinewidth\": 0, \"ticks\": \"\"}, \"type\": \"mesh3d\"}], \"parcoords\": [{\"line\": {\"colorbar\": {\"outlinewidth\": 0, \"ticks\": \"\"}}, \"type\": \"parcoords\"}], \"pie\": [{\"automargin\": true, \"type\": \"pie\"}], \"scatter\": [{\"marker\": {\"colorbar\": {\"outlinewidth\": 0, \"ticks\": \"\"}}, \"type\": \"scatter\"}], \"scatter3d\": [{\"line\": {\"colorbar\": {\"outlinewidth\": 0, \"ticks\": \"\"}}, \"marker\": {\"colorbar\": {\"outlinewidth\": 0, \"ticks\": \"\"}}, \"type\": \"scatter3d\"}], \"scattercarpet\": [{\"marker\": {\"colorbar\": {\"outlinewidth\": 0, \"ticks\": \"\"}}, \"type\": \"scattercarpet\"}], \"scattergeo\": [{\"marker\": {\"colorbar\": {\"outlinewidth\": 0, \"ticks\": \"\"}}, \"type\": \"scattergeo\"}], \"scattergl\": [{\"marker\": {\"colorbar\": {\"outlinewidth\": 0, \"ticks\": \"\"}}, \"type\": \"scattergl\"}], \"scattermapbox\": [{\"marker\": {\"colorbar\": {\"outlinewidth\": 0, \"ticks\": \"\"}}, \"type\": \"scattermapbox\"}], \"scatterpolar\": [{\"marker\": {\"colorbar\": {\"outlinewidth\": 0, \"ticks\": \"\"}}, \"type\": \"scatterpolar\"}], \"scatterpolargl\": [{\"marker\": {\"colorbar\": {\"outlinewidth\": 0, \"ticks\": \"\"}}, \"type\": \"scatterpolargl\"}], \"scatterternary\": [{\"marker\": {\"colorbar\": {\"outlinewidth\": 0, \"ticks\": \"\"}}, \"type\": \"scatterternary\"}], \"surface\": [{\"colorbar\": {\"outlinewidth\": 0, \"ticks\": \"\"}, \"colorscale\": [[0.0, \"#0d0887\"], [0.1111111111111111, \"#46039f\"], [0.2222222222222222, \"#7201a8\"], [0.3333333333333333, \"#9c179e\"], [0.4444444444444444, \"#bd3786\"], [0.5555555555555556, \"#d8576b\"], [0.6666666666666666, \"#ed7953\"], [0.7777777777777778, \"#fb9f3a\"], [0.8888888888888888, \"#fdca26\"], [1.0, \"#f0f921\"]], \"type\": \"surface\"}], \"table\": [{\"cells\": {\"fill\": {\"color\": \"#EBF0F8\"}, \"line\": {\"color\": \"white\"}}, \"header\": {\"fill\": {\"color\": \"#C8D4E3\"}, \"line\": {\"color\": \"white\"}}, \"type\": \"table\"}]}, \"layout\": {\"annotationdefaults\": {\"arrowcolor\": \"#2a3f5f\", \"arrowhead\": 0, \"arrowwidth\": 1}, \"coloraxis\": {\"colorbar\": {\"outlinewidth\": 0, \"ticks\": \"\"}}, \"colorscale\": {\"diverging\": [[0, \"#8e0152\"], [0.1, \"#c51b7d\"], [0.2, \"#de77ae\"], [0.3, \"#f1b6da\"], [0.4, \"#fde0ef\"], [0.5, \"#f7f7f7\"], [0.6, \"#e6f5d0\"], [0.7, \"#b8e186\"], [0.8, \"#7fbc41\"], [0.9, \"#4d9221\"], [1, \"#276419\"]], \"sequential\": [[0.0, \"#0d0887\"], [0.1111111111111111, \"#46039f\"], [0.2222222222222222, \"#7201a8\"], [0.3333333333333333, \"#9c179e\"], [0.4444444444444444, \"#bd3786\"], [0.5555555555555556, \"#d8576b\"], [0.6666666666666666, \"#ed7953\"], [0.7777777777777778, \"#fb9f3a\"], [0.8888888888888888, \"#fdca26\"], [1.0, \"#f0f921\"]], \"sequentialminus\": [[0.0, \"#0d0887\"], [0.1111111111111111, \"#46039f\"], [0.2222222222222222, \"#7201a8\"], [0.3333333333333333, \"#9c179e\"], [0.4444444444444444, \"#bd3786\"], [0.5555555555555556, \"#d8576b\"], [0.6666666666666666, \"#ed7953\"], [0.7777777777777778, \"#fb9f3a\"], [0.8888888888888888, \"#fdca26\"], [1.0, \"#f0f921\"]]}, \"colorway\": [\"#636efa\", \"#EF553B\", \"#00cc96\", \"#ab63fa\", \"#FFA15A\", \"#19d3f3\", \"#FF6692\", \"#B6E880\", \"#FF97FF\", \"#FECB52\"], \"font\": {\"color\": \"#2a3f5f\"}, \"geo\": {\"bgcolor\": \"white\", \"lakecolor\": \"white\", \"landcolor\": \"#E5ECF6\", \"showlakes\": true, \"showland\": true, \"subunitcolor\": \"white\"}, \"hoverlabel\": {\"align\": \"left\"}, \"hovermode\": \"closest\", \"mapbox\": {\"style\": \"light\"}, \"paper_bgcolor\": \"white\", \"plot_bgcolor\": \"#E5ECF6\", \"polar\": {\"angularaxis\": {\"gridcolor\": \"white\", \"linecolor\": \"white\", \"ticks\": \"\"}, \"bgcolor\": \"#E5ECF6\", \"radialaxis\": {\"gridcolor\": \"white\", \"linecolor\": \"white\", \"ticks\": \"\"}}, \"scene\": {\"xaxis\": {\"backgroundcolor\": \"#E5ECF6\", \"gridcolor\": \"white\", \"gridwidth\": 2, \"linecolor\": \"white\", \"showbackground\": true, \"ticks\": \"\", \"zerolinecolor\": \"white\"}, \"yaxis\": {\"backgroundcolor\": \"#E5ECF6\", \"gridcolor\": \"white\", \"gridwidth\": 2, \"linecolor\": \"white\", \"showbackground\": true, \"ticks\": \"\", \"zerolinecolor\": \"white\"}, \"zaxis\": {\"backgroundcolor\": \"#E5ECF6\", \"gridcolor\": \"white\", \"gridwidth\": 2, \"linecolor\": \"white\", \"showbackground\": true, \"ticks\": \"\", \"zerolinecolor\": \"white\"}}, \"shapedefaults\": {\"line\": {\"color\": \"#2a3f5f\"}}, \"ternary\": {\"aaxis\": {\"gridcolor\": \"white\", \"linecolor\": \"white\", \"ticks\": \"\"}, \"baxis\": {\"gridcolor\": \"white\", \"linecolor\": \"white\", \"ticks\": \"\"}, \"bgcolor\": \"#E5ECF6\", \"caxis\": {\"gridcolor\": \"white\", \"linecolor\": \"white\", \"ticks\": \"\"}}, \"title\": {\"x\": 0.05}, \"xaxis\": {\"automargin\": true, \"gridcolor\": \"white\", \"linecolor\": \"white\", \"ticks\": \"\", \"title\": {\"standoff\": 15}, \"zerolinecolor\": \"white\", \"zerolinewidth\": 2}, \"yaxis\": {\"automargin\": true, \"gridcolor\": \"white\", \"linecolor\": \"white\", \"ticks\": \"\", \"title\": {\"standoff\": 15}, \"zerolinecolor\": \"white\", \"zerolinewidth\": 2}}}, \"title\": {\"font\": {\"color\": \"#4D5663\"}, \"text\": \"Grades first two periods of all the students\"}, \"xaxis\": {\"gridcolor\": \"#E1E5ED\", \"showgrid\": true, \"tickfont\": {\"color\": \"#4D5663\"}, \"title\": {\"font\": {\"color\": \"#4D5663\"}, \"text\": \"\"}, \"zerolinecolor\": \"#E1E5ED\"}, \"yaxis\": {\"gridcolor\": \"#E1E5ED\", \"showgrid\": true, \"tickfont\": {\"color\": \"#4D5663\"}, \"title\": {\"font\": {\"color\": \"#4D5663\"}, \"text\": \"\"}, \"zerolinecolor\": \"#E1E5ED\"}},\n",
       "                        {\"showLink\": true, \"linkText\": \"Export to plot.ly\", \"plotlyServerURL\": \"https://plot.ly\", \"responsive\": true}\n",
       "                    ).then(function(){\n",
       "                            \n",
       "var gd = document.getElementById('7132e08f-d598-4356-9862-c0059436a91e');\n",
       "var x = new MutationObserver(function (mutations, observer) {{\n",
       "        var display = window.getComputedStyle(gd).display;\n",
       "        if (!display || display === 'none') {{\n",
       "            console.log([gd, 'removed!']);\n",
       "            Plotly.purge(gd);\n",
       "            observer.disconnect();\n",
       "        }}\n",
       "}});\n",
       "\n",
       "// Listen for the removal of the full notebook cells\n",
       "var notebookContainer = gd.closest('#notebook-container');\n",
       "if (notebookContainer) {{\n",
       "    x.observe(notebookContainer, {childList: true});\n",
       "}}\n",
       "\n",
       "// Listen for the clearing of the current output cell\n",
       "var outputEl = gd.closest('.output');\n",
       "if (outputEl) {{\n",
       "    x.observe(outputEl, {childList: true});\n",
       "}}\n",
       "\n",
       "                        })\n",
       "                };\n",
       "                });\n",
       "            </script>\n",
       "        </div>"
      ]
     },
     "metadata": {},
     "output_type": "display_data"
    }
   ],
   "source": [
    "df.dropna(axis=0)[['CI 1','CI 2','DD 1','DD 2','EL 1','EL 2','PR 1','PR 2']].iplot(kind='box', title='Grades first two periods of all the students')"
   ]
  },
  {
   "cell_type": "code",
   "execution_count": 62,
   "metadata": {},
   "outputs": [],
   "source": [
    "d=df['Failing']=='Pass'\n",
    "pass_students_complete=df[d]"
   ]
  },
  {
   "cell_type": "code",
   "execution_count": 83,
   "metadata": {
    "scrolled": false
   },
   "outputs": [
    {
     "data": {
      "application/vnd.plotly.v1+json": {
       "config": {
        "linkText": "Export to plot.ly",
        "plotlyServerURL": "https://plot.ly",
        "showLink": true
       },
       "data": [
        {
         "boxpoints": false,
         "line": {
          "width": 1.3
         },
         "marker": {
          "color": "rgba(255, 153, 51, 1.0)"
         },
         "name": "CI 1",
         "orientation": "v",
         "type": "box",
         "y": [
          3.4,
          4.1,
          3.9,
          3.5,
          4.1,
          3,
          3.2,
          3,
          3.8,
          3.2,
          2.9,
          2.6,
          4.3,
          4,
          2.8,
          3.2,
          4.7,
          3.5,
          2.7,
          3,
          3.9,
          3.4,
          3.4,
          3.3,
          3.6,
          2.8,
          3.7,
          2.6,
          3.7,
          4,
          4.1,
          3.2,
          3.1,
          3.9,
          3.5,
          3.7,
          4.1,
          3.8,
          3.7,
          3.7,
          2.5,
          4.6,
          3.7,
          3.9,
          3.6,
          4.3,
          3.1,
          1.3,
          2.1,
          3.2,
          4.1,
          2.8,
          0,
          3.2,
          4.1,
          3.8,
          4,
          3.4,
          3.9,
          3.6,
          3.1,
          3.6,
          3.4,
          3.4,
          3.7,
          3.5,
          3.5,
          2.3,
          3.9,
          4,
          4.2,
          3.4,
          3,
          3.9,
          2.6,
          3.5,
          3.4,
          3.1,
          4.1,
          3.5,
          2.4,
          3.1,
          4.1,
          3.9,
          3.5,
          4.1,
          3.6
         ]
        },
        {
         "boxpoints": false,
         "line": {
          "width": 1.3
         },
         "marker": {
          "color": "rgba(55, 128, 191, 1.0)"
         },
         "name": "CI 2",
         "orientation": "v",
         "type": "box",
         "y": [
          2.7,
          3.2,
          3.1,
          3.1,
          3.7,
          2.6,
          3.5,
          3,
          4.4,
          2.9,
          2.6,
          2.5,
          3.6,
          3.2,
          0,
          0,
          0,
          2.9,
          3.1,
          3,
          2.6,
          3.2,
          2.4,
          3.4,
          4,
          3.4,
          3.5,
          3,
          2.7,
          3.8,
          3.9,
          2.4,
          3,
          2.6,
          3.1,
          2.7,
          3,
          2.7,
          4.3,
          2.9,
          4,
          4.1,
          3.5,
          3.3,
          3.6,
          2.9,
          3.7,
          3.8,
          3,
          2.5,
          4.1,
          3.5,
          2.8,
          2.9,
          3.7,
          3.7,
          3,
          3.2,
          3.8,
          4,
          2.6,
          3.4,
          3,
          3.2,
          3.3,
          3.1,
          3,
          2,
          3.1,
          3.1,
          4,
          2.8,
          2.1,
          3.9,
          2.3,
          3.2,
          2.3,
          3.2,
          3.8,
          3.3,
          2.7,
          2.5,
          2.8,
          3.1,
          2.9,
          3.9,
          2.8
         ]
        },
        {
         "boxpoints": false,
         "line": {
          "width": 1.3
         },
         "marker": {
          "color": "rgba(50, 171, 96, 1.0)"
         },
         "name": "DD 1",
         "orientation": "v",
         "type": "box",
         "y": [
          3,
          2.3,
          3.3,
          3.5,
          3,
          2.63,
          3.3,
          2.38,
          3.8,
          2.8,
          2.8,
          3.03,
          3,
          2.2,
          3.5,
          3,
          3.3,
          3,
          2.4,
          3.3,
          2.53,
          2.8,
          2.3,
          2.78,
          3,
          2.9,
          2.03,
          2.6,
          3.5,
          2.5,
          2.7,
          2.8,
          2.35,
          1.8,
          3,
          3,
          3,
          2.2,
          3,
          2.5,
          3.3,
          2.78,
          2.8,
          2.5,
          3.03,
          3,
          3,
          2.5,
          2.5,
          2.8,
          3.7,
          2.5,
          2.3,
          2,
          3.9,
          2.3,
          2.2,
          2.48,
          3.2,
          3.28,
          2.5,
          2.8,
          3.5,
          2.5,
          2.25,
          2.1,
          3.3,
          1.8,
          3.1,
          2.7,
          3,
          2.3,
          2.3,
          3,
          2,
          2.8,
          2.25,
          2.5,
          3.3,
          2.8,
          2.63,
          2.3,
          2,
          3.3,
          2.6,
          2.7,
          3.8
         ]
        },
        {
         "boxpoints": false,
         "line": {
          "width": 1.3
         },
         "marker": {
          "color": "rgba(128, 0, 128, 1.0)"
         },
         "name": "DD 2",
         "orientation": "v",
         "type": "box",
         "y": [
          4.2,
          3.5,
          3.1,
          4,
          4.2,
          2.55,
          2.5,
          3,
          4.2,
          3.5,
          2.6,
          3.2,
          3.5,
          3.8,
          2.3,
          3.5,
          3.5,
          3.2,
          2.8,
          4.4,
          4.5,
          4.3,
          3.4,
          4.5,
          4.2,
          4.2,
          3.3,
          3.5,
          3.9,
          3.2,
          3.3,
          3.6,
          3.4,
          4.1,
          3.4,
          3.9,
          3.5,
          3.5,
          4.1,
          3,
          2.9,
          3.4,
          3.5,
          2.8,
          3.3,
          3.1,
          4.8,
          4.3,
          4,
          3.4,
          4.2,
          3.6,
          3.2,
          3.9,
          4.3,
          3.7,
          4.1,
          3.5,
          3.7,
          4.1,
          2.5,
          3.9,
          4.5,
          4.2,
          3,
          3.3,
          3.5,
          4.5,
          3.6,
          2.7,
          3.35,
          3.4,
          3.5,
          4,
          3.9,
          4.4,
          4,
          4,
          3.4,
          3.2,
          3,
          3.7,
          4.5,
          4.1,
          2.9,
          4.1,
          3.2
         ]
        },
        {
         "boxpoints": false,
         "line": {
          "width": 1.3
         },
         "marker": {
          "color": "rgba(219, 64, 82, 1.0)"
         },
         "name": "EL 1",
         "orientation": "v",
         "type": "box",
         "y": [
          3.4,
          2.6,
          4,
          3.6,
          4.2,
          4.8,
          4.8,
          4.2,
          3.2,
          3.6,
          2.4,
          4.6,
          3.4,
          3.2,
          4,
          3.2,
          4,
          3.6,
          3.2,
          3.8,
          4.8,
          4,
          4,
          3.2,
          4,
          4.2,
          3.6,
          2.28,
          3.91,
          4.2,
          4.6,
          4.4,
          4.4,
          4.2,
          3.2,
          2.72,
          2.6,
          3.8,
          4,
          4.6,
          4.8,
          4.2,
          2.6,
          3.8,
          4,
          3.4,
          3.2,
          3.4,
          4,
          3.2,
          3.8,
          3.4,
          4.8,
          3.4,
          2.6,
          4.4,
          1.82,
          4,
          3.8,
          3.2,
          4,
          3.6,
          4.2,
          4,
          3.2,
          4.2,
          3.4,
          2.89,
          2.6,
          2.6,
          4.2,
          3.8,
          4,
          3.8,
          3.2,
          3.4,
          3.2,
          3.6,
          3.6,
          4,
          3.2,
          4.8,
          3.8,
          4,
          2.4,
          3.2,
          3.8
         ]
        },
        {
         "boxpoints": false,
         "line": {
          "width": 1.3
         },
         "marker": {
          "color": "rgba(0, 128, 128, 1.0)"
         },
         "name": "EL 2",
         "orientation": "v",
         "type": "box",
         "y": [
          2.7,
          4.5,
          3.44,
          4.35,
          2.7,
          2.2,
          2.3,
          2.7,
          4.45,
          2.4,
          2.9,
          3.5,
          3.15,
          2.5,
          3,
          3,
          2.83,
          4.35,
          2.85,
          3.7,
          2.3,
          3.65,
          3.1,
          4.45,
          4.5,
          3.85,
          2.4,
          2.47,
          3.5,
          3.55,
          3.5,
          3.35,
          2.2,
          3.55,
          3,
          3,
          4.35,
          3.7,
          2.42,
          3.5,
          2.3,
          3.85,
          4.35,
          3.35,
          2.68,
          3.5,
          3,
          2.7,
          3,
          3,
          3.35,
          3.5,
          2.2,
          3.5,
          4.35,
          2.2,
          2.39,
          3.65,
          2.7,
          2.5,
          3.65,
          4.35,
          3.85,
          3,
          2.59,
          2.7,
          2.7,
          3.5,
          4.5,
          4.5,
          3.85,
          2.7,
          3,
          3.35,
          4.45,
          3.15,
          2.3,
          2.4,
          4.35,
          2.68,
          2.7,
          2.3,
          3.7,
          4.5,
          2.9,
          3,
          3.35
         ]
        },
        {
         "boxpoints": false,
         "line": {
          "width": 1.3
         },
         "marker": {
          "color": "rgba(255, 255, 51, 1.0)"
         },
         "name": "PR 1",
         "orientation": "v",
         "type": "box",
         "y": [
          3,
          3.5,
          2.9,
          2.98,
          3.2,
          3.23,
          3,
          3,
          3.33,
          3.5,
          2.4,
          2.4,
          2.9,
          3.2,
          2.7,
          2.7,
          2.5,
          2.4,
          2.9,
          3.2,
          3.1,
          2.9,
          2.5,
          3.1,
          3.2,
          3.3,
          3.3,
          3,
          2.55,
          3.2,
          3.2,
          2.9,
          3.3,
          2.55,
          3.3,
          3.3,
          3.5,
          3.2,
          3.8,
          2.7,
          2.7,
          3.3,
          2.5,
          2.9,
          2.9,
          2.7,
          2.9,
          2.7,
          3.1,
          3,
          2.9,
          3,
          2.7,
          2.23,
          3.2,
          3,
          3.3,
          3.2,
          3,
          3.2,
          2.7,
          3.2,
          3,
          3.3,
          3.3,
          3.2,
          3.1,
          3.1,
          2.7,
          3.5,
          3.13,
          2.24,
          3.3,
          3.5,
          2.7,
          3.5,
          3.2,
          3.8,
          3.5,
          2.98,
          3.3,
          3.1,
          3.2,
          3,
          2.7,
          3.3,
          2.4
         ]
        },
        {
         "boxpoints": false,
         "line": {
          "width": 1.3
         },
         "marker": {
          "color": "rgba(128, 128, 0, 1.0)"
         },
         "name": "PR 2",
         "orientation": "v",
         "type": "box",
         "y": [
          4.4,
          3.5,
          3.1,
          2.9,
          3.5,
          3.5,
          3.9,
          3.2,
          4.4,
          3,
          2.89,
          2.63,
          4.1,
          3.3,
          4.4,
          3.1,
          3,
          3.3,
          3.1,
          3.2,
          3.5,
          3.1,
          4.1,
          3.4,
          3.2,
          3.52,
          3,
          3.2,
          3.8,
          3.2,
          2.9,
          2.38,
          3.3,
          3.5,
          3.1,
          3.1,
          3.2,
          4,
          3.2,
          3.3,
          3.4,
          3.4,
          3.5,
          1.66,
          3.5,
          2.4,
          3.1,
          3.5,
          3.4,
          2.64,
          3.3,
          3.4,
          2.1,
          3.4,
          4.1,
          4,
          2.98,
          3.1,
          3.5,
          3.1,
          3,
          3.5,
          3.4,
          3.9,
          4,
          2.8,
          3.7,
          4.4,
          2.9,
          3.3,
          3.4,
          3.5,
          2.4,
          3.8,
          3.7,
          3,
          2.45,
          3.1,
          2.89,
          3,
          3.2,
          3.5,
          3.1,
          3.5,
          3.8,
          3.5,
          3.8
         ]
        }
       ],
       "layout": {
        "legend": {
         "bgcolor": "#F5F6F9",
         "font": {
          "color": "#4D5663"
         }
        },
        "paper_bgcolor": "#F5F6F9",
        "plot_bgcolor": "#F5F6F9",
        "template": {
         "data": {
          "bar": [
           {
            "error_x": {
             "color": "#2a3f5f"
            },
            "error_y": {
             "color": "#2a3f5f"
            },
            "marker": {
             "line": {
              "color": "#E5ECF6",
              "width": 0.5
             }
            },
            "type": "bar"
           }
          ],
          "barpolar": [
           {
            "marker": {
             "line": {
              "color": "#E5ECF6",
              "width": 0.5
             }
            },
            "type": "barpolar"
           }
          ],
          "carpet": [
           {
            "aaxis": {
             "endlinecolor": "#2a3f5f",
             "gridcolor": "white",
             "linecolor": "white",
             "minorgridcolor": "white",
             "startlinecolor": "#2a3f5f"
            },
            "baxis": {
             "endlinecolor": "#2a3f5f",
             "gridcolor": "white",
             "linecolor": "white",
             "minorgridcolor": "white",
             "startlinecolor": "#2a3f5f"
            },
            "type": "carpet"
           }
          ],
          "choropleth": [
           {
            "colorbar": {
             "outlinewidth": 0,
             "ticks": ""
            },
            "type": "choropleth"
           }
          ],
          "contour": [
           {
            "colorbar": {
             "outlinewidth": 0,
             "ticks": ""
            },
            "colorscale": [
             [
              0,
              "#0d0887"
             ],
             [
              0.1111111111111111,
              "#46039f"
             ],
             [
              0.2222222222222222,
              "#7201a8"
             ],
             [
              0.3333333333333333,
              "#9c179e"
             ],
             [
              0.4444444444444444,
              "#bd3786"
             ],
             [
              0.5555555555555556,
              "#d8576b"
             ],
             [
              0.6666666666666666,
              "#ed7953"
             ],
             [
              0.7777777777777778,
              "#fb9f3a"
             ],
             [
              0.8888888888888888,
              "#fdca26"
             ],
             [
              1,
              "#f0f921"
             ]
            ],
            "type": "contour"
           }
          ],
          "contourcarpet": [
           {
            "colorbar": {
             "outlinewidth": 0,
             "ticks": ""
            },
            "type": "contourcarpet"
           }
          ],
          "heatmap": [
           {
            "colorbar": {
             "outlinewidth": 0,
             "ticks": ""
            },
            "colorscale": [
             [
              0,
              "#0d0887"
             ],
             [
              0.1111111111111111,
              "#46039f"
             ],
             [
              0.2222222222222222,
              "#7201a8"
             ],
             [
              0.3333333333333333,
              "#9c179e"
             ],
             [
              0.4444444444444444,
              "#bd3786"
             ],
             [
              0.5555555555555556,
              "#d8576b"
             ],
             [
              0.6666666666666666,
              "#ed7953"
             ],
             [
              0.7777777777777778,
              "#fb9f3a"
             ],
             [
              0.8888888888888888,
              "#fdca26"
             ],
             [
              1,
              "#f0f921"
             ]
            ],
            "type": "heatmap"
           }
          ],
          "heatmapgl": [
           {
            "colorbar": {
             "outlinewidth": 0,
             "ticks": ""
            },
            "colorscale": [
             [
              0,
              "#0d0887"
             ],
             [
              0.1111111111111111,
              "#46039f"
             ],
             [
              0.2222222222222222,
              "#7201a8"
             ],
             [
              0.3333333333333333,
              "#9c179e"
             ],
             [
              0.4444444444444444,
              "#bd3786"
             ],
             [
              0.5555555555555556,
              "#d8576b"
             ],
             [
              0.6666666666666666,
              "#ed7953"
             ],
             [
              0.7777777777777778,
              "#fb9f3a"
             ],
             [
              0.8888888888888888,
              "#fdca26"
             ],
             [
              1,
              "#f0f921"
             ]
            ],
            "type": "heatmapgl"
           }
          ],
          "histogram": [
           {
            "marker": {
             "colorbar": {
              "outlinewidth": 0,
              "ticks": ""
             }
            },
            "type": "histogram"
           }
          ],
          "histogram2d": [
           {
            "colorbar": {
             "outlinewidth": 0,
             "ticks": ""
            },
            "colorscale": [
             [
              0,
              "#0d0887"
             ],
             [
              0.1111111111111111,
              "#46039f"
             ],
             [
              0.2222222222222222,
              "#7201a8"
             ],
             [
              0.3333333333333333,
              "#9c179e"
             ],
             [
              0.4444444444444444,
              "#bd3786"
             ],
             [
              0.5555555555555556,
              "#d8576b"
             ],
             [
              0.6666666666666666,
              "#ed7953"
             ],
             [
              0.7777777777777778,
              "#fb9f3a"
             ],
             [
              0.8888888888888888,
              "#fdca26"
             ],
             [
              1,
              "#f0f921"
             ]
            ],
            "type": "histogram2d"
           }
          ],
          "histogram2dcontour": [
           {
            "colorbar": {
             "outlinewidth": 0,
             "ticks": ""
            },
            "colorscale": [
             [
              0,
              "#0d0887"
             ],
             [
              0.1111111111111111,
              "#46039f"
             ],
             [
              0.2222222222222222,
              "#7201a8"
             ],
             [
              0.3333333333333333,
              "#9c179e"
             ],
             [
              0.4444444444444444,
              "#bd3786"
             ],
             [
              0.5555555555555556,
              "#d8576b"
             ],
             [
              0.6666666666666666,
              "#ed7953"
             ],
             [
              0.7777777777777778,
              "#fb9f3a"
             ],
             [
              0.8888888888888888,
              "#fdca26"
             ],
             [
              1,
              "#f0f921"
             ]
            ],
            "type": "histogram2dcontour"
           }
          ],
          "mesh3d": [
           {
            "colorbar": {
             "outlinewidth": 0,
             "ticks": ""
            },
            "type": "mesh3d"
           }
          ],
          "parcoords": [
           {
            "line": {
             "colorbar": {
              "outlinewidth": 0,
              "ticks": ""
             }
            },
            "type": "parcoords"
           }
          ],
          "pie": [
           {
            "automargin": true,
            "type": "pie"
           }
          ],
          "scatter": [
           {
            "marker": {
             "colorbar": {
              "outlinewidth": 0,
              "ticks": ""
             }
            },
            "type": "scatter"
           }
          ],
          "scatter3d": [
           {
            "line": {
             "colorbar": {
              "outlinewidth": 0,
              "ticks": ""
             }
            },
            "marker": {
             "colorbar": {
              "outlinewidth": 0,
              "ticks": ""
             }
            },
            "type": "scatter3d"
           }
          ],
          "scattercarpet": [
           {
            "marker": {
             "colorbar": {
              "outlinewidth": 0,
              "ticks": ""
             }
            },
            "type": "scattercarpet"
           }
          ],
          "scattergeo": [
           {
            "marker": {
             "colorbar": {
              "outlinewidth": 0,
              "ticks": ""
             }
            },
            "type": "scattergeo"
           }
          ],
          "scattergl": [
           {
            "marker": {
             "colorbar": {
              "outlinewidth": 0,
              "ticks": ""
             }
            },
            "type": "scattergl"
           }
          ],
          "scattermapbox": [
           {
            "marker": {
             "colorbar": {
              "outlinewidth": 0,
              "ticks": ""
             }
            },
            "type": "scattermapbox"
           }
          ],
          "scatterpolar": [
           {
            "marker": {
             "colorbar": {
              "outlinewidth": 0,
              "ticks": ""
             }
            },
            "type": "scatterpolar"
           }
          ],
          "scatterpolargl": [
           {
            "marker": {
             "colorbar": {
              "outlinewidth": 0,
              "ticks": ""
             }
            },
            "type": "scatterpolargl"
           }
          ],
          "scatterternary": [
           {
            "marker": {
             "colorbar": {
              "outlinewidth": 0,
              "ticks": ""
             }
            },
            "type": "scatterternary"
           }
          ],
          "surface": [
           {
            "colorbar": {
             "outlinewidth": 0,
             "ticks": ""
            },
            "colorscale": [
             [
              0,
              "#0d0887"
             ],
             [
              0.1111111111111111,
              "#46039f"
             ],
             [
              0.2222222222222222,
              "#7201a8"
             ],
             [
              0.3333333333333333,
              "#9c179e"
             ],
             [
              0.4444444444444444,
              "#bd3786"
             ],
             [
              0.5555555555555556,
              "#d8576b"
             ],
             [
              0.6666666666666666,
              "#ed7953"
             ],
             [
              0.7777777777777778,
              "#fb9f3a"
             ],
             [
              0.8888888888888888,
              "#fdca26"
             ],
             [
              1,
              "#f0f921"
             ]
            ],
            "type": "surface"
           }
          ],
          "table": [
           {
            "cells": {
             "fill": {
              "color": "#EBF0F8"
             },
             "line": {
              "color": "white"
             }
            },
            "header": {
             "fill": {
              "color": "#C8D4E3"
             },
             "line": {
              "color": "white"
             }
            },
            "type": "table"
           }
          ]
         },
         "layout": {
          "annotationdefaults": {
           "arrowcolor": "#2a3f5f",
           "arrowhead": 0,
           "arrowwidth": 1
          },
          "coloraxis": {
           "colorbar": {
            "outlinewidth": 0,
            "ticks": ""
           }
          },
          "colorscale": {
           "diverging": [
            [
             0,
             "#8e0152"
            ],
            [
             0.1,
             "#c51b7d"
            ],
            [
             0.2,
             "#de77ae"
            ],
            [
             0.3,
             "#f1b6da"
            ],
            [
             0.4,
             "#fde0ef"
            ],
            [
             0.5,
             "#f7f7f7"
            ],
            [
             0.6,
             "#e6f5d0"
            ],
            [
             0.7,
             "#b8e186"
            ],
            [
             0.8,
             "#7fbc41"
            ],
            [
             0.9,
             "#4d9221"
            ],
            [
             1,
             "#276419"
            ]
           ],
           "sequential": [
            [
             0,
             "#0d0887"
            ],
            [
             0.1111111111111111,
             "#46039f"
            ],
            [
             0.2222222222222222,
             "#7201a8"
            ],
            [
             0.3333333333333333,
             "#9c179e"
            ],
            [
             0.4444444444444444,
             "#bd3786"
            ],
            [
             0.5555555555555556,
             "#d8576b"
            ],
            [
             0.6666666666666666,
             "#ed7953"
            ],
            [
             0.7777777777777778,
             "#fb9f3a"
            ],
            [
             0.8888888888888888,
             "#fdca26"
            ],
            [
             1,
             "#f0f921"
            ]
           ],
           "sequentialminus": [
            [
             0,
             "#0d0887"
            ],
            [
             0.1111111111111111,
             "#46039f"
            ],
            [
             0.2222222222222222,
             "#7201a8"
            ],
            [
             0.3333333333333333,
             "#9c179e"
            ],
            [
             0.4444444444444444,
             "#bd3786"
            ],
            [
             0.5555555555555556,
             "#d8576b"
            ],
            [
             0.6666666666666666,
             "#ed7953"
            ],
            [
             0.7777777777777778,
             "#fb9f3a"
            ],
            [
             0.8888888888888888,
             "#fdca26"
            ],
            [
             1,
             "#f0f921"
            ]
           ]
          },
          "colorway": [
           "#636efa",
           "#EF553B",
           "#00cc96",
           "#ab63fa",
           "#FFA15A",
           "#19d3f3",
           "#FF6692",
           "#B6E880",
           "#FF97FF",
           "#FECB52"
          ],
          "font": {
           "color": "#2a3f5f"
          },
          "geo": {
           "bgcolor": "white",
           "lakecolor": "white",
           "landcolor": "#E5ECF6",
           "showlakes": true,
           "showland": true,
           "subunitcolor": "white"
          },
          "hoverlabel": {
           "align": "left"
          },
          "hovermode": "closest",
          "mapbox": {
           "style": "light"
          },
          "paper_bgcolor": "white",
          "plot_bgcolor": "#E5ECF6",
          "polar": {
           "angularaxis": {
            "gridcolor": "white",
            "linecolor": "white",
            "ticks": ""
           },
           "bgcolor": "#E5ECF6",
           "radialaxis": {
            "gridcolor": "white",
            "linecolor": "white",
            "ticks": ""
           }
          },
          "scene": {
           "xaxis": {
            "backgroundcolor": "#E5ECF6",
            "gridcolor": "white",
            "gridwidth": 2,
            "linecolor": "white",
            "showbackground": true,
            "ticks": "",
            "zerolinecolor": "white"
           },
           "yaxis": {
            "backgroundcolor": "#E5ECF6",
            "gridcolor": "white",
            "gridwidth": 2,
            "linecolor": "white",
            "showbackground": true,
            "ticks": "",
            "zerolinecolor": "white"
           },
           "zaxis": {
            "backgroundcolor": "#E5ECF6",
            "gridcolor": "white",
            "gridwidth": 2,
            "linecolor": "white",
            "showbackground": true,
            "ticks": "",
            "zerolinecolor": "white"
           }
          },
          "shapedefaults": {
           "line": {
            "color": "#2a3f5f"
           }
          },
          "ternary": {
           "aaxis": {
            "gridcolor": "white",
            "linecolor": "white",
            "ticks": ""
           },
           "baxis": {
            "gridcolor": "white",
            "linecolor": "white",
            "ticks": ""
           },
           "bgcolor": "#E5ECF6",
           "caxis": {
            "gridcolor": "white",
            "linecolor": "white",
            "ticks": ""
           }
          },
          "title": {
           "x": 0.05
          },
          "xaxis": {
           "automargin": true,
           "gridcolor": "white",
           "linecolor": "white",
           "ticks": "",
           "title": {
            "standoff": 15
           },
           "zerolinecolor": "white",
           "zerolinewidth": 2
          },
          "yaxis": {
           "automargin": true,
           "gridcolor": "white",
           "linecolor": "white",
           "ticks": "",
           "title": {
            "standoff": 15
           },
           "zerolinecolor": "white",
           "zerolinewidth": 2
          }
         }
        },
        "title": {
         "font": {
          "color": "#4D5663"
         },
         "text": "Grades first two periods of students that pass the course"
        },
        "xaxis": {
         "gridcolor": "#E1E5ED",
         "showgrid": true,
         "tickfont": {
          "color": "#4D5663"
         },
         "title": {
          "font": {
           "color": "#4D5663"
          },
          "text": ""
         },
         "zerolinecolor": "#E1E5ED"
        },
        "yaxis": {
         "gridcolor": "#E1E5ED",
         "showgrid": true,
         "tickfont": {
          "color": "#4D5663"
         },
         "title": {
          "font": {
           "color": "#4D5663"
          },
          "text": ""
         },
         "zerolinecolor": "#E1E5ED"
        }
       }
      },
      "text/html": [
       "<div>\n",
       "        \n",
       "        \n",
       "            <div id=\"641c0774-07cc-4dae-9e50-1fd848f87b4e\" class=\"plotly-graph-div\" style=\"height:525px; width:100%;\"></div>\n",
       "            <script type=\"text/javascript\">\n",
       "                require([\"plotly\"], function(Plotly) {\n",
       "                    window.PLOTLYENV=window.PLOTLYENV || {};\n",
       "                    window.PLOTLYENV.BASE_URL='https://plot.ly';\n",
       "                    \n",
       "                if (document.getElementById(\"641c0774-07cc-4dae-9e50-1fd848f87b4e\")) {\n",
       "                    Plotly.newPlot(\n",
       "                        '641c0774-07cc-4dae-9e50-1fd848f87b4e',\n",
       "                        [{\"boxpoints\": false, \"line\": {\"width\": 1.3}, \"marker\": {\"color\": \"rgba(255, 153, 51, 1.0)\"}, \"name\": \"CI 1\", \"orientation\": \"v\", \"type\": \"box\", \"y\": [3.4, 4.1, 3.9, 3.5, 4.1, 3.0, 3.2, 3.0, 3.8, 3.2, 2.9, 2.6, 4.3, 4.0, 2.8, 3.2, 4.7, 3.5, 2.7, 3.0, 3.9, 3.4, 3.4, 3.3, 3.6, 2.8, 3.7, 2.6, 3.7, 4.0, 4.1, 3.2, 3.1, 3.9, 3.5, 3.7, 4.1, 3.8, 3.7, 3.7, 2.5, 4.6, 3.7, 3.9, 3.6, 4.3, 3.1, 1.3, 2.1, 3.2, 4.1, 2.8, 0.0, 3.2, 4.1, 3.8, 4.0, 3.4, 3.9, 3.6, 3.1, 3.6, 3.4, 3.4, 3.7, 3.5, 3.5, 2.3, 3.9, 4.0, 4.2, 3.4, 3.0, 3.9, 2.6, 3.5, 3.4, 3.1, 4.1, 3.5, 2.4, 3.1, 4.1, 3.9, 3.5, 4.1, 3.6]}, {\"boxpoints\": false, \"line\": {\"width\": 1.3}, \"marker\": {\"color\": \"rgba(55, 128, 191, 1.0)\"}, \"name\": \"CI 2\", \"orientation\": \"v\", \"type\": \"box\", \"y\": [2.7, 3.2, 3.1, 3.1, 3.7, 2.6, 3.5, 3.0, 4.4, 2.9, 2.6, 2.5, 3.6, 3.2, 0.0, 0.0, 0.0, 2.9, 3.1, 3.0, 2.6, 3.2, 2.4, 3.4, 4.0, 3.4, 3.5, 3.0, 2.7, 3.8, 3.9, 2.4, 3.0, 2.6, 3.1, 2.7, 3.0, 2.7, 4.3, 2.9, 4.0, 4.1, 3.5, 3.3, 3.6, 2.9, 3.7, 3.8, 3.0, 2.5, 4.1, 3.5, 2.8, 2.9, 3.7, 3.7, 3.0, 3.2, 3.8, 4.0, 2.6, 3.4, 3.0, 3.2, 3.3, 3.1, 3.0, 2.0, 3.1, 3.1, 4.0, 2.8, 2.1, 3.9, 2.3, 3.2, 2.3, 3.2, 3.8, 3.3, 2.7, 2.5, 2.8, 3.1, 2.9, 3.9, 2.8]}, {\"boxpoints\": false, \"line\": {\"width\": 1.3}, \"marker\": {\"color\": \"rgba(50, 171, 96, 1.0)\"}, \"name\": \"DD 1\", \"orientation\": \"v\", \"type\": \"box\", \"y\": [3.0, 2.3, 3.3, 3.5, 3.0, 2.63, 3.3, 2.38, 3.8, 2.8, 2.8, 3.03, 3.0, 2.2, 3.5, 3.0, 3.3, 3.0, 2.4, 3.3, 2.53, 2.8, 2.3, 2.78, 3.0, 2.9, 2.03, 2.6, 3.5, 2.5, 2.7, 2.8, 2.35, 1.8, 3.0, 3.0, 3.0, 2.2, 3.0, 2.5, 3.3, 2.78, 2.8, 2.5, 3.03, 3.0, 3.0, 2.5, 2.5, 2.8, 3.7, 2.5, 2.3, 2.0, 3.9, 2.3, 2.2, 2.48, 3.2, 3.28, 2.5, 2.8, 3.5, 2.5, 2.25, 2.1, 3.3, 1.8, 3.1, 2.7, 3.0, 2.3, 2.3, 3.0, 2.0, 2.8, 2.25, 2.5, 3.3, 2.8, 2.63, 2.3, 2.0, 3.3, 2.6, 2.7, 3.8]}, {\"boxpoints\": false, \"line\": {\"width\": 1.3}, \"marker\": {\"color\": \"rgba(128, 0, 128, 1.0)\"}, \"name\": \"DD 2\", \"orientation\": \"v\", \"type\": \"box\", \"y\": [4.2, 3.5, 3.1, 4.0, 4.2, 2.55, 2.5, 3.0, 4.2, 3.5, 2.6, 3.2, 3.5, 3.8, 2.3, 3.5, 3.5, 3.2, 2.8, 4.4, 4.5, 4.3, 3.4, 4.5, 4.2, 4.2, 3.3, 3.5, 3.9, 3.2, 3.3, 3.6, 3.4, 4.1, 3.4, 3.9, 3.5, 3.5, 4.1, 3.0, 2.9, 3.4, 3.5, 2.8, 3.3, 3.1, 4.8, 4.3, 4.0, 3.4, 4.2, 3.6, 3.2, 3.9, 4.3, 3.7, 4.1, 3.5, 3.7, 4.1, 2.5, 3.9, 4.5, 4.2, 3.0, 3.3, 3.5, 4.5, 3.6, 2.7, 3.35, 3.4, 3.5, 4.0, 3.9, 4.4, 4.0, 4.0, 3.4, 3.2, 3.0, 3.7, 4.5, 4.1, 2.9, 4.1, 3.2]}, {\"boxpoints\": false, \"line\": {\"width\": 1.3}, \"marker\": {\"color\": \"rgba(219, 64, 82, 1.0)\"}, \"name\": \"EL 1\", \"orientation\": \"v\", \"type\": \"box\", \"y\": [3.4, 2.6, 4.0, 3.6, 4.2, 4.8, 4.8, 4.2, 3.2, 3.6, 2.4, 4.6, 3.4, 3.2, 4.0, 3.2, 4.0, 3.6, 3.2, 3.8, 4.8, 4.0, 4.0, 3.2, 4.0, 4.2, 3.6, 2.28, 3.91, 4.2, 4.6, 4.4, 4.4, 4.2, 3.2, 2.72, 2.6, 3.8, 4.0, 4.6, 4.8, 4.2, 2.6, 3.8, 4.0, 3.4, 3.2, 3.4, 4.0, 3.2, 3.8, 3.4, 4.8, 3.4, 2.6, 4.4, 1.82, 4.0, 3.8, 3.2, 4.0, 3.6, 4.2, 4.0, 3.2, 4.2, 3.4, 2.89, 2.6, 2.6, 4.2, 3.8, 4.0, 3.8, 3.2, 3.4, 3.2, 3.6, 3.6, 4.0, 3.2, 4.8, 3.8, 4.0, 2.4, 3.2, 3.8]}, {\"boxpoints\": false, \"line\": {\"width\": 1.3}, \"marker\": {\"color\": \"rgba(0, 128, 128, 1.0)\"}, \"name\": \"EL 2\", \"orientation\": \"v\", \"type\": \"box\", \"y\": [2.7, 4.5, 3.44, 4.35, 2.7, 2.2, 2.3, 2.7, 4.45, 2.4, 2.9, 3.5, 3.15, 2.5, 3.0, 3.0, 2.83, 4.35, 2.85, 3.7, 2.3, 3.65, 3.1, 4.45, 4.5, 3.85, 2.4, 2.47, 3.5, 3.55, 3.5, 3.35, 2.2, 3.55, 3.0, 3.0, 4.35, 3.7, 2.42, 3.5, 2.3, 3.85, 4.35, 3.35, 2.68, 3.5, 3.0, 2.7, 3.0, 3.0, 3.35, 3.5, 2.2, 3.5, 4.35, 2.2, 2.39, 3.65, 2.7, 2.5, 3.65, 4.35, 3.85, 3.0, 2.59, 2.7, 2.7, 3.5, 4.5, 4.5, 3.85, 2.7, 3.0, 3.35, 4.45, 3.15, 2.3, 2.4, 4.35, 2.68, 2.7, 2.3, 3.7, 4.5, 2.9, 3.0, 3.35]}, {\"boxpoints\": false, \"line\": {\"width\": 1.3}, \"marker\": {\"color\": \"rgba(255, 255, 51, 1.0)\"}, \"name\": \"PR 1\", \"orientation\": \"v\", \"type\": \"box\", \"y\": [3.0, 3.5, 2.9, 2.98, 3.2, 3.23, 3.0, 3.0, 3.33, 3.5, 2.4, 2.4, 2.9, 3.2, 2.7, 2.7, 2.5, 2.4, 2.9, 3.2, 3.1, 2.9, 2.5, 3.1, 3.2, 3.3, 3.3, 3.0, 2.55, 3.2, 3.2, 2.9, 3.3, 2.55, 3.3, 3.3, 3.5, 3.2, 3.8, 2.7, 2.7, 3.3, 2.5, 2.9, 2.9, 2.7, 2.9, 2.7, 3.1, 3.0, 2.9, 3.0, 2.7, 2.23, 3.2, 3.0, 3.3, 3.2, 3.0, 3.2, 2.7, 3.2, 3.0, 3.3, 3.3, 3.2, 3.1, 3.1, 2.7, 3.5, 3.13, 2.24, 3.3, 3.5, 2.7, 3.5, 3.2, 3.8, 3.5, 2.98, 3.3, 3.1, 3.2, 3.0, 2.7, 3.3, 2.4]}, {\"boxpoints\": false, \"line\": {\"width\": 1.3}, \"marker\": {\"color\": \"rgba(128, 128, 0, 1.0)\"}, \"name\": \"PR 2\", \"orientation\": \"v\", \"type\": \"box\", \"y\": [4.4, 3.5, 3.1, 2.9, 3.5, 3.5, 3.9, 3.2, 4.4, 3.0, 2.89, 2.63, 4.1, 3.3, 4.4, 3.1, 3.0, 3.3, 3.1, 3.2, 3.5, 3.1, 4.1, 3.4, 3.2, 3.52, 3.0, 3.2, 3.8, 3.2, 2.9, 2.38, 3.3, 3.5, 3.1, 3.1, 3.2, 4.0, 3.2, 3.3, 3.4, 3.4, 3.5, 1.66, 3.5, 2.4, 3.1, 3.5, 3.4, 2.64, 3.3, 3.4, 2.1, 3.4, 4.1, 4.0, 2.98, 3.1, 3.5, 3.1, 3.0, 3.5, 3.4, 3.9, 4.0, 2.8, 3.7, 4.4, 2.9, 3.3, 3.4, 3.5, 2.4, 3.8, 3.7, 3.0, 2.45, 3.1, 2.89, 3.0, 3.2, 3.5, 3.1, 3.5, 3.8, 3.5, 3.8]}],\n",
       "                        {\"legend\": {\"bgcolor\": \"#F5F6F9\", \"font\": {\"color\": \"#4D5663\"}}, \"paper_bgcolor\": \"#F5F6F9\", \"plot_bgcolor\": \"#F5F6F9\", \"template\": {\"data\": {\"bar\": [{\"error_x\": {\"color\": \"#2a3f5f\"}, \"error_y\": {\"color\": \"#2a3f5f\"}, \"marker\": {\"line\": {\"color\": \"#E5ECF6\", \"width\": 0.5}}, \"type\": \"bar\"}], \"barpolar\": [{\"marker\": {\"line\": {\"color\": \"#E5ECF6\", \"width\": 0.5}}, \"type\": \"barpolar\"}], \"carpet\": [{\"aaxis\": {\"endlinecolor\": \"#2a3f5f\", \"gridcolor\": \"white\", \"linecolor\": \"white\", \"minorgridcolor\": \"white\", \"startlinecolor\": \"#2a3f5f\"}, \"baxis\": {\"endlinecolor\": \"#2a3f5f\", \"gridcolor\": \"white\", \"linecolor\": \"white\", \"minorgridcolor\": \"white\", \"startlinecolor\": \"#2a3f5f\"}, \"type\": \"carpet\"}], \"choropleth\": [{\"colorbar\": {\"outlinewidth\": 0, \"ticks\": \"\"}, \"type\": \"choropleth\"}], \"contour\": [{\"colorbar\": {\"outlinewidth\": 0, \"ticks\": \"\"}, \"colorscale\": [[0.0, \"#0d0887\"], [0.1111111111111111, \"#46039f\"], [0.2222222222222222, \"#7201a8\"], [0.3333333333333333, \"#9c179e\"], [0.4444444444444444, \"#bd3786\"], [0.5555555555555556, \"#d8576b\"], [0.6666666666666666, \"#ed7953\"], [0.7777777777777778, \"#fb9f3a\"], [0.8888888888888888, \"#fdca26\"], [1.0, \"#f0f921\"]], \"type\": \"contour\"}], \"contourcarpet\": [{\"colorbar\": {\"outlinewidth\": 0, \"ticks\": \"\"}, \"type\": \"contourcarpet\"}], \"heatmap\": [{\"colorbar\": {\"outlinewidth\": 0, \"ticks\": \"\"}, \"colorscale\": [[0.0, \"#0d0887\"], [0.1111111111111111, \"#46039f\"], [0.2222222222222222, \"#7201a8\"], [0.3333333333333333, \"#9c179e\"], [0.4444444444444444, \"#bd3786\"], [0.5555555555555556, \"#d8576b\"], [0.6666666666666666, \"#ed7953\"], [0.7777777777777778, \"#fb9f3a\"], [0.8888888888888888, \"#fdca26\"], [1.0, \"#f0f921\"]], \"type\": \"heatmap\"}], \"heatmapgl\": [{\"colorbar\": {\"outlinewidth\": 0, \"ticks\": \"\"}, \"colorscale\": [[0.0, \"#0d0887\"], [0.1111111111111111, \"#46039f\"], [0.2222222222222222, \"#7201a8\"], [0.3333333333333333, \"#9c179e\"], [0.4444444444444444, \"#bd3786\"], [0.5555555555555556, \"#d8576b\"], [0.6666666666666666, \"#ed7953\"], [0.7777777777777778, \"#fb9f3a\"], [0.8888888888888888, \"#fdca26\"], [1.0, \"#f0f921\"]], \"type\": \"heatmapgl\"}], \"histogram\": [{\"marker\": {\"colorbar\": {\"outlinewidth\": 0, \"ticks\": \"\"}}, \"type\": \"histogram\"}], \"histogram2d\": [{\"colorbar\": {\"outlinewidth\": 0, \"ticks\": \"\"}, \"colorscale\": [[0.0, \"#0d0887\"], [0.1111111111111111, \"#46039f\"], [0.2222222222222222, \"#7201a8\"], [0.3333333333333333, \"#9c179e\"], [0.4444444444444444, \"#bd3786\"], [0.5555555555555556, \"#d8576b\"], [0.6666666666666666, \"#ed7953\"], [0.7777777777777778, \"#fb9f3a\"], [0.8888888888888888, \"#fdca26\"], [1.0, \"#f0f921\"]], \"type\": \"histogram2d\"}], \"histogram2dcontour\": [{\"colorbar\": {\"outlinewidth\": 0, \"ticks\": \"\"}, \"colorscale\": [[0.0, \"#0d0887\"], [0.1111111111111111, \"#46039f\"], [0.2222222222222222, \"#7201a8\"], [0.3333333333333333, \"#9c179e\"], [0.4444444444444444, \"#bd3786\"], [0.5555555555555556, \"#d8576b\"], [0.6666666666666666, \"#ed7953\"], [0.7777777777777778, \"#fb9f3a\"], [0.8888888888888888, \"#fdca26\"], [1.0, \"#f0f921\"]], \"type\": \"histogram2dcontour\"}], \"mesh3d\": [{\"colorbar\": {\"outlinewidth\": 0, \"ticks\": \"\"}, \"type\": \"mesh3d\"}], \"parcoords\": [{\"line\": {\"colorbar\": {\"outlinewidth\": 0, \"ticks\": \"\"}}, \"type\": \"parcoords\"}], \"pie\": [{\"automargin\": true, \"type\": \"pie\"}], \"scatter\": [{\"marker\": {\"colorbar\": {\"outlinewidth\": 0, \"ticks\": \"\"}}, \"type\": \"scatter\"}], \"scatter3d\": [{\"line\": {\"colorbar\": {\"outlinewidth\": 0, \"ticks\": \"\"}}, \"marker\": {\"colorbar\": {\"outlinewidth\": 0, \"ticks\": \"\"}}, \"type\": \"scatter3d\"}], \"scattercarpet\": [{\"marker\": {\"colorbar\": {\"outlinewidth\": 0, \"ticks\": \"\"}}, \"type\": \"scattercarpet\"}], \"scattergeo\": [{\"marker\": {\"colorbar\": {\"outlinewidth\": 0, \"ticks\": \"\"}}, \"type\": \"scattergeo\"}], \"scattergl\": [{\"marker\": {\"colorbar\": {\"outlinewidth\": 0, \"ticks\": \"\"}}, \"type\": \"scattergl\"}], \"scattermapbox\": [{\"marker\": {\"colorbar\": {\"outlinewidth\": 0, \"ticks\": \"\"}}, \"type\": \"scattermapbox\"}], \"scatterpolar\": [{\"marker\": {\"colorbar\": {\"outlinewidth\": 0, \"ticks\": \"\"}}, \"type\": \"scatterpolar\"}], \"scatterpolargl\": [{\"marker\": {\"colorbar\": {\"outlinewidth\": 0, \"ticks\": \"\"}}, \"type\": \"scatterpolargl\"}], \"scatterternary\": [{\"marker\": {\"colorbar\": {\"outlinewidth\": 0, \"ticks\": \"\"}}, \"type\": \"scatterternary\"}], \"surface\": [{\"colorbar\": {\"outlinewidth\": 0, \"ticks\": \"\"}, \"colorscale\": [[0.0, \"#0d0887\"], [0.1111111111111111, \"#46039f\"], [0.2222222222222222, \"#7201a8\"], [0.3333333333333333, \"#9c179e\"], [0.4444444444444444, \"#bd3786\"], [0.5555555555555556, \"#d8576b\"], [0.6666666666666666, \"#ed7953\"], [0.7777777777777778, \"#fb9f3a\"], [0.8888888888888888, \"#fdca26\"], [1.0, \"#f0f921\"]], \"type\": \"surface\"}], \"table\": [{\"cells\": {\"fill\": {\"color\": \"#EBF0F8\"}, \"line\": {\"color\": \"white\"}}, \"header\": {\"fill\": {\"color\": \"#C8D4E3\"}, \"line\": {\"color\": \"white\"}}, \"type\": \"table\"}]}, \"layout\": {\"annotationdefaults\": {\"arrowcolor\": \"#2a3f5f\", \"arrowhead\": 0, \"arrowwidth\": 1}, \"coloraxis\": {\"colorbar\": {\"outlinewidth\": 0, \"ticks\": \"\"}}, \"colorscale\": {\"diverging\": [[0, \"#8e0152\"], [0.1, \"#c51b7d\"], [0.2, \"#de77ae\"], [0.3, \"#f1b6da\"], [0.4, \"#fde0ef\"], [0.5, \"#f7f7f7\"], [0.6, \"#e6f5d0\"], [0.7, \"#b8e186\"], [0.8, \"#7fbc41\"], [0.9, \"#4d9221\"], [1, \"#276419\"]], \"sequential\": [[0.0, \"#0d0887\"], [0.1111111111111111, \"#46039f\"], [0.2222222222222222, \"#7201a8\"], [0.3333333333333333, \"#9c179e\"], [0.4444444444444444, \"#bd3786\"], [0.5555555555555556, \"#d8576b\"], [0.6666666666666666, \"#ed7953\"], [0.7777777777777778, \"#fb9f3a\"], [0.8888888888888888, \"#fdca26\"], [1.0, \"#f0f921\"]], \"sequentialminus\": [[0.0, \"#0d0887\"], [0.1111111111111111, \"#46039f\"], [0.2222222222222222, \"#7201a8\"], [0.3333333333333333, \"#9c179e\"], [0.4444444444444444, \"#bd3786\"], [0.5555555555555556, \"#d8576b\"], [0.6666666666666666, \"#ed7953\"], [0.7777777777777778, \"#fb9f3a\"], [0.8888888888888888, \"#fdca26\"], [1.0, \"#f0f921\"]]}, \"colorway\": [\"#636efa\", \"#EF553B\", \"#00cc96\", \"#ab63fa\", \"#FFA15A\", \"#19d3f3\", \"#FF6692\", \"#B6E880\", \"#FF97FF\", \"#FECB52\"], \"font\": {\"color\": \"#2a3f5f\"}, \"geo\": {\"bgcolor\": \"white\", \"lakecolor\": \"white\", \"landcolor\": \"#E5ECF6\", \"showlakes\": true, \"showland\": true, \"subunitcolor\": \"white\"}, \"hoverlabel\": {\"align\": \"left\"}, \"hovermode\": \"closest\", \"mapbox\": {\"style\": \"light\"}, \"paper_bgcolor\": \"white\", \"plot_bgcolor\": \"#E5ECF6\", \"polar\": {\"angularaxis\": {\"gridcolor\": \"white\", \"linecolor\": \"white\", \"ticks\": \"\"}, \"bgcolor\": \"#E5ECF6\", \"radialaxis\": {\"gridcolor\": \"white\", \"linecolor\": \"white\", \"ticks\": \"\"}}, \"scene\": {\"xaxis\": {\"backgroundcolor\": \"#E5ECF6\", \"gridcolor\": \"white\", \"gridwidth\": 2, \"linecolor\": \"white\", \"showbackground\": true, \"ticks\": \"\", \"zerolinecolor\": \"white\"}, \"yaxis\": {\"backgroundcolor\": \"#E5ECF6\", \"gridcolor\": \"white\", \"gridwidth\": 2, \"linecolor\": \"white\", \"showbackground\": true, \"ticks\": \"\", \"zerolinecolor\": \"white\"}, \"zaxis\": {\"backgroundcolor\": \"#E5ECF6\", \"gridcolor\": \"white\", \"gridwidth\": 2, \"linecolor\": \"white\", \"showbackground\": true, \"ticks\": \"\", \"zerolinecolor\": \"white\"}}, \"shapedefaults\": {\"line\": {\"color\": \"#2a3f5f\"}}, \"ternary\": {\"aaxis\": {\"gridcolor\": \"white\", \"linecolor\": \"white\", \"ticks\": \"\"}, \"baxis\": {\"gridcolor\": \"white\", \"linecolor\": \"white\", \"ticks\": \"\"}, \"bgcolor\": \"#E5ECF6\", \"caxis\": {\"gridcolor\": \"white\", \"linecolor\": \"white\", \"ticks\": \"\"}}, \"title\": {\"x\": 0.05}, \"xaxis\": {\"automargin\": true, \"gridcolor\": \"white\", \"linecolor\": \"white\", \"ticks\": \"\", \"title\": {\"standoff\": 15}, \"zerolinecolor\": \"white\", \"zerolinewidth\": 2}, \"yaxis\": {\"automargin\": true, \"gridcolor\": \"white\", \"linecolor\": \"white\", \"ticks\": \"\", \"title\": {\"standoff\": 15}, \"zerolinecolor\": \"white\", \"zerolinewidth\": 2}}}, \"title\": {\"font\": {\"color\": \"#4D5663\"}, \"text\": \"Grades first two periods of students that pass the course\"}, \"xaxis\": {\"gridcolor\": \"#E1E5ED\", \"showgrid\": true, \"tickfont\": {\"color\": \"#4D5663\"}, \"title\": {\"font\": {\"color\": \"#4D5663\"}, \"text\": \"\"}, \"zerolinecolor\": \"#E1E5ED\"}, \"yaxis\": {\"gridcolor\": \"#E1E5ED\", \"showgrid\": true, \"tickfont\": {\"color\": \"#4D5663\"}, \"title\": {\"font\": {\"color\": \"#4D5663\"}, \"text\": \"\"}, \"zerolinecolor\": \"#E1E5ED\"}},\n",
       "                        {\"showLink\": true, \"linkText\": \"Export to plot.ly\", \"plotlyServerURL\": \"https://plot.ly\", \"responsive\": true}\n",
       "                    ).then(function(){\n",
       "                            \n",
       "var gd = document.getElementById('641c0774-07cc-4dae-9e50-1fd848f87b4e');\n",
       "var x = new MutationObserver(function (mutations, observer) {{\n",
       "        var display = window.getComputedStyle(gd).display;\n",
       "        if (!display || display === 'none') {{\n",
       "            console.log([gd, 'removed!']);\n",
       "            Plotly.purge(gd);\n",
       "            observer.disconnect();\n",
       "        }}\n",
       "}});\n",
       "\n",
       "// Listen for the removal of the full notebook cells\n",
       "var notebookContainer = gd.closest('#notebook-container');\n",
       "if (notebookContainer) {{\n",
       "    x.observe(notebookContainer, {childList: true});\n",
       "}}\n",
       "\n",
       "// Listen for the clearing of the current output cell\n",
       "var outputEl = gd.closest('.output');\n",
       "if (outputEl) {{\n",
       "    x.observe(outputEl, {childList: true});\n",
       "}}\n",
       "\n",
       "                        })\n",
       "                };\n",
       "                });\n",
       "            </script>\n",
       "        </div>"
      ]
     },
     "metadata": {},
     "output_type": "display_data"
    }
   ],
   "source": [
    "pass_students_complete[['CI 1','CI 2','DD 1','DD 2','EL 1','EL 2','PR 1','PR 2']].iplot(kind='box', title='Grades first two periods of students that pass the course')"
   ]
  },
  {
   "cell_type": "code",
   "execution_count": 67,
   "metadata": {},
   "outputs": [],
   "source": [
    "z=pass_students_complete['CI 1']== 0.0\n",
    "hero=pass_students_complete[z]"
   ]
  },
  {
   "cell_type": "code",
   "execution_count": 68,
   "metadata": {},
   "outputs": [
    {
     "data": {
      "text/html": [
       "<div>\n",
       "<style scoped>\n",
       "    .dataframe tbody tr th:only-of-type {\n",
       "        vertical-align: middle;\n",
       "    }\n",
       "\n",
       "    .dataframe tbody tr th {\n",
       "        vertical-align: top;\n",
       "    }\n",
       "\n",
       "    .dataframe thead th {\n",
       "        text-align: right;\n",
       "    }\n",
       "</style>\n",
       "<table border=\"1\" class=\"dataframe\">\n",
       "  <thead>\n",
       "    <tr style=\"text-align: right;\">\n",
       "      <th></th>\n",
       "      <th>StudentID</th>\n",
       "      <th>CI 1</th>\n",
       "      <th>Unnamed: 2</th>\n",
       "      <th>CI 2</th>\n",
       "      <th>Unnamed: 4</th>\n",
       "      <th>CI 3</th>\n",
       "      <th>Unnamed: 6</th>\n",
       "      <th>CI 4</th>\n",
       "      <th>Unnamed: 8</th>\n",
       "      <th>DD 1</th>\n",
       "      <th>Unnamed: 10</th>\n",
       "      <th>DD 2</th>\n",
       "      <th>Unnamed: 12</th>\n",
       "      <th>DD 3</th>\n",
       "      <th>Unnamed: 14</th>\n",
       "      <th>DD 4A</th>\n",
       "      <th>Unnamed: 16</th>\n",
       "      <th>DD 4B</th>\n",
       "      <th>Unnamed: 18</th>\n",
       "      <th>EL 1</th>\n",
       "      <th>Unnamed: 20</th>\n",
       "      <th>EL 2</th>\n",
       "      <th>Unnamed: 22</th>\n",
       "      <th>EL 3</th>\n",
       "      <th>Unnamed: 24</th>\n",
       "      <th>EL 4</th>\n",
       "      <th>Unnamed: 26</th>\n",
       "      <th>PR 1</th>\n",
       "      <th>Unnamed: 28</th>\n",
       "      <th>PR 2</th>\n",
       "      <th>Unnamed: 30</th>\n",
       "      <th>PR3</th>\n",
       "      <th>Unnamed: 32</th>\n",
       "      <th>PR4</th>\n",
       "      <th>Unnamed: 34</th>\n",
       "      <th>CI average</th>\n",
       "      <th>RCI</th>\n",
       "      <th>DD average</th>\n",
       "      <th>RDD</th>\n",
       "      <th>EL Average</th>\n",
       "      <th>REL</th>\n",
       "      <th>PR Average</th>\n",
       "      <th>RPR</th>\n",
       "      <th>Overall LC average</th>\n",
       "      <th>Failing</th>\n",
       "    </tr>\n",
       "  </thead>\n",
       "  <tbody>\n",
       "    <tr>\n",
       "      <td>55</td>\n",
       "      <td>Student056</td>\n",
       "      <td>0.0</td>\n",
       "      <td>0.15</td>\n",
       "      <td>2.8</td>\n",
       "      <td>0.25</td>\n",
       "      <td>3.3</td>\n",
       "      <td>0.25</td>\n",
       "      <td>3.8</td>\n",
       "      <td>0.35</td>\n",
       "      <td>2.3</td>\n",
       "      <td>0.1</td>\n",
       "      <td>3.2</td>\n",
       "      <td>0.3</td>\n",
       "      <td>3.25</td>\n",
       "      <td>0.4</td>\n",
       "      <td>3.4</td>\n",
       "      <td>0.1</td>\n",
       "      <td>3.35</td>\n",
       "      <td>0.1</td>\n",
       "      <td>4.8</td>\n",
       "      <td>0.25</td>\n",
       "      <td>2.2</td>\n",
       "      <td>0.25</td>\n",
       "      <td>3.55</td>\n",
       "      <td>0.25</td>\n",
       "      <td>3.3</td>\n",
       "      <td>0.25</td>\n",
       "      <td>2.7</td>\n",
       "      <td>0.2</td>\n",
       "      <td>2.1</td>\n",
       "      <td>0.25</td>\n",
       "      <td>3.2</td>\n",
       "      <td>0.35</td>\n",
       "      <td>3.6</td>\n",
       "      <td>0.2</td>\n",
       "      <td>2.855</td>\n",
       "      <td>Pass</td>\n",
       "      <td>3.165</td>\n",
       "      <td>Pass</td>\n",
       "      <td>3.4625</td>\n",
       "      <td>Pass</td>\n",
       "      <td>2.905</td>\n",
       "      <td>Pass</td>\n",
       "      <td>3.096875</td>\n",
       "      <td>Pass</td>\n",
       "    </tr>\n",
       "  </tbody>\n",
       "</table>\n",
       "</div>"
      ],
      "text/plain": [
       "     StudentID  CI 1  Unnamed: 2  CI 2  Unnamed: 4  CI 3  Unnamed: 6  CI 4  \\\n",
       "55  Student056   0.0        0.15   2.8        0.25   3.3        0.25   3.8   \n",
       "\n",
       "    Unnamed: 8  DD 1  Unnamed: 10  DD 2  Unnamed: 12  DD 3  Unnamed: 14  \\\n",
       "55        0.35   2.3          0.1   3.2          0.3  3.25          0.4   \n",
       "\n",
       "    DD 4A  Unnamed: 16  DD 4B  Unnamed: 18  EL 1  Unnamed: 20  EL 2  \\\n",
       "55    3.4          0.1   3.35          0.1   4.8         0.25   2.2   \n",
       "\n",
       "    Unnamed: 22  EL 3  Unnamed: 24  EL 4  Unnamed: 26  PR 1  Unnamed: 28  \\\n",
       "55         0.25  3.55         0.25   3.3         0.25   2.7          0.2   \n",
       "\n",
       "    PR 2  Unnamed: 30  PR3  Unnamed: 32  PR4  Unnamed: 34  CI average   RCI  \\\n",
       "55   2.1         0.25  3.2         0.35  3.6          0.2       2.855  Pass   \n",
       "\n",
       "    DD average   RDD  EL Average   REL  PR Average   RPR  Overall LC average  \\\n",
       "55       3.165  Pass      3.4625  Pass       2.905  Pass            3.096875   \n",
       "\n",
       "   Failing  \n",
       "55    Pass  "
      ]
     },
     "execution_count": 68,
     "metadata": {},
     "output_type": "execute_result"
    }
   ],
   "source": [
    "hero"
   ]
  },
  {
   "cell_type": "code",
   "execution_count": 78,
   "metadata": {},
   "outputs": [],
   "source": [
    "w=(df['EL 2']== 4.45) & (df['Failing']== 'Fail')\n",
    "wtf=df[w]"
   ]
  },
  {
   "cell_type": "code",
   "execution_count": 79,
   "metadata": {},
   "outputs": [
    {
     "data": {
      "text/html": [
       "<div>\n",
       "<style scoped>\n",
       "    .dataframe tbody tr th:only-of-type {\n",
       "        vertical-align: middle;\n",
       "    }\n",
       "\n",
       "    .dataframe tbody tr th {\n",
       "        vertical-align: top;\n",
       "    }\n",
       "\n",
       "    .dataframe thead th {\n",
       "        text-align: right;\n",
       "    }\n",
       "</style>\n",
       "<table border=\"1\" class=\"dataframe\">\n",
       "  <thead>\n",
       "    <tr style=\"text-align: right;\">\n",
       "      <th></th>\n",
       "      <th>StudentID</th>\n",
       "      <th>CI 1</th>\n",
       "      <th>Unnamed: 2</th>\n",
       "      <th>CI 2</th>\n",
       "      <th>Unnamed: 4</th>\n",
       "      <th>CI 3</th>\n",
       "      <th>Unnamed: 6</th>\n",
       "      <th>CI 4</th>\n",
       "      <th>Unnamed: 8</th>\n",
       "      <th>DD 1</th>\n",
       "      <th>Unnamed: 10</th>\n",
       "      <th>DD 2</th>\n",
       "      <th>Unnamed: 12</th>\n",
       "      <th>DD 3</th>\n",
       "      <th>Unnamed: 14</th>\n",
       "      <th>DD 4A</th>\n",
       "      <th>Unnamed: 16</th>\n",
       "      <th>DD 4B</th>\n",
       "      <th>Unnamed: 18</th>\n",
       "      <th>EL 1</th>\n",
       "      <th>Unnamed: 20</th>\n",
       "      <th>EL 2</th>\n",
       "      <th>Unnamed: 22</th>\n",
       "      <th>EL 3</th>\n",
       "      <th>Unnamed: 24</th>\n",
       "      <th>EL 4</th>\n",
       "      <th>Unnamed: 26</th>\n",
       "      <th>PR 1</th>\n",
       "      <th>Unnamed: 28</th>\n",
       "      <th>PR 2</th>\n",
       "      <th>Unnamed: 30</th>\n",
       "      <th>PR3</th>\n",
       "      <th>Unnamed: 32</th>\n",
       "      <th>PR4</th>\n",
       "      <th>Unnamed: 34</th>\n",
       "      <th>CI average</th>\n",
       "      <th>RCI</th>\n",
       "      <th>DD average</th>\n",
       "      <th>RDD</th>\n",
       "      <th>EL Average</th>\n",
       "      <th>REL</th>\n",
       "      <th>PR Average</th>\n",
       "      <th>RPR</th>\n",
       "      <th>Overall LC average</th>\n",
       "      <th>Failing</th>\n",
       "    </tr>\n",
       "  </thead>\n",
       "  <tbody>\n",
       "    <tr>\n",
       "      <td>1</td>\n",
       "      <td>Student002</td>\n",
       "      <td>0.0</td>\n",
       "      <td>0.15</td>\n",
       "      <td>0.0</td>\n",
       "      <td>0.25</td>\n",
       "      <td>0.0</td>\n",
       "      <td>0.25</td>\n",
       "      <td>0.0</td>\n",
       "      <td>0.35</td>\n",
       "      <td>3.0</td>\n",
       "      <td>0.1</td>\n",
       "      <td>0.0</td>\n",
       "      <td>0.3</td>\n",
       "      <td>3.57</td>\n",
       "      <td>0.4</td>\n",
       "      <td>1.9</td>\n",
       "      <td>0.1</td>\n",
       "      <td>3.95</td>\n",
       "      <td>0.1</td>\n",
       "      <td>3.2</td>\n",
       "      <td>0.25</td>\n",
       "      <td>4.45</td>\n",
       "      <td>0.25</td>\n",
       "      <td>4.85</td>\n",
       "      <td>0.25</td>\n",
       "      <td>3.85</td>\n",
       "      <td>0.25</td>\n",
       "      <td>2.7</td>\n",
       "      <td>0.2</td>\n",
       "      <td>3.9</td>\n",
       "      <td>0.25</td>\n",
       "      <td>4.3</td>\n",
       "      <td>0.35</td>\n",
       "      <td>4.15</td>\n",
       "      <td>0.2</td>\n",
       "      <td>0.0</td>\n",
       "      <td>Fail</td>\n",
       "      <td>2.313</td>\n",
       "      <td>Fail</td>\n",
       "      <td>4.0875</td>\n",
       "      <td>Pass</td>\n",
       "      <td>3.85</td>\n",
       "      <td>Pass</td>\n",
       "      <td>2.562625</td>\n",
       "      <td>Fail</td>\n",
       "    </tr>\n",
       "  </tbody>\n",
       "</table>\n",
       "</div>"
      ],
      "text/plain": [
       "    StudentID  CI 1  Unnamed: 2  CI 2  Unnamed: 4  CI 3  Unnamed: 6  CI 4  \\\n",
       "1  Student002   0.0        0.15   0.0        0.25   0.0        0.25   0.0   \n",
       "\n",
       "   Unnamed: 8  DD 1  Unnamed: 10  DD 2  Unnamed: 12  DD 3  Unnamed: 14  DD 4A  \\\n",
       "1        0.35   3.0          0.1   0.0          0.3  3.57          0.4    1.9   \n",
       "\n",
       "   Unnamed: 16  DD 4B  Unnamed: 18  EL 1  Unnamed: 20  EL 2  Unnamed: 22  \\\n",
       "1          0.1   3.95          0.1   3.2         0.25  4.45         0.25   \n",
       "\n",
       "   EL 3  Unnamed: 24  EL 4  Unnamed: 26  PR 1  Unnamed: 28  PR 2  Unnamed: 30  \\\n",
       "1  4.85         0.25  3.85         0.25   2.7          0.2   3.9         0.25   \n",
       "\n",
       "   PR3  Unnamed: 32   PR4  Unnamed: 34  CI average   RCI  DD average   RDD  \\\n",
       "1  4.3         0.35  4.15          0.2         0.0  Fail       2.313  Fail   \n",
       "\n",
       "   EL Average   REL  PR Average   RPR  Overall LC average Failing  \n",
       "1      4.0875  Pass        3.85  Pass            2.562625    Fail  "
      ]
     },
     "execution_count": 79,
     "metadata": {},
     "output_type": "execute_result"
    }
   ],
   "source": [
    "wtf"
   ]
  },
  {
   "cell_type": "code",
   "execution_count": 93,
   "metadata": {},
   "outputs": [
    {
     "data": {
      "application/vnd.plotly.v1+json": {
       "config": {
        "linkText": "Export to plot.ly",
        "plotlyServerURL": "https://plot.ly",
        "showLink": true
       },
       "data": [
        {
         "boxpoints": false,
         "line": {
          "width": 1.3
         },
         "marker": {
          "color": "rgba(255, 153, 51, 1.0)"
         },
         "name": "CI 1",
         "orientation": "v",
         "type": "box",
         "y": [
          0,
          3,
          2.9,
          3.2,
          0,
          3.2,
          3.8,
          3.1,
          0,
          2.8,
          2.7,
          1.7,
          3.6,
          2.6
         ]
        },
        {
         "boxpoints": false,
         "line": {
          "width": 1.3
         },
         "marker": {
          "color": "rgba(55, 128, 191, 1.0)"
         },
         "name": "CI 2",
         "orientation": "v",
         "type": "box",
         "y": [
          0,
          2.3,
          2.6,
          2.3,
          0,
          1.9,
          2.4,
          2.9,
          0,
          2.4,
          2.5,
          2.4,
          0,
          2.5
         ]
        },
        {
         "boxpoints": false,
         "line": {
          "width": 1.3
         },
         "marker": {
          "color": "rgba(50, 171, 96, 1.0)"
         },
         "name": "DD 1",
         "orientation": "v",
         "type": "box",
         "y": [
          3,
          2.5,
          2.38,
          2.13,
          3,
          2.8,
          2.38,
          2.5,
          2.25,
          3.3,
          2,
          2.5,
          2,
          2.3
         ]
        },
        {
         "boxpoints": false,
         "line": {
          "width": 1.3
         },
         "marker": {
          "color": "rgba(128, 0, 128, 1.0)"
         },
         "name": "DD 2",
         "orientation": "v",
         "type": "box",
         "y": [
          0,
          3.3,
          3.4,
          2.6,
          0,
          3.1,
          3.3,
          3.9,
          2.8,
          3.3,
          3.1,
          2.35,
          3.1,
          3
         ]
        },
        {
         "boxpoints": false,
         "line": {
          "width": 1.3
         },
         "marker": {
          "color": "rgba(219, 64, 82, 1.0)"
         },
         "name": "EL 1",
         "orientation": "v",
         "type": "box",
         "y": [
          3.2,
          3.65,
          3.57,
          3.8,
          3.2,
          3.22,
          3.36,
          3.8,
          3,
          2.74,
          3.2,
          2.66,
          2.7,
          3.74
         ]
        },
        {
         "boxpoints": false,
         "line": {
          "width": 1.3
         },
         "marker": {
          "color": "rgba(0, 128, 128, 1.0)"
         },
         "name": "EL 2",
         "orientation": "v",
         "type": "box",
         "y": [
          4.45,
          2.7,
          2.49,
          3.7,
          2.3,
          2.73,
          2.44,
          1.89,
          2.5,
          2.41,
          3,
          1.87,
          1.5,
          2.2
         ]
        },
        {
         "boxpoints": false,
         "line": {
          "width": 1.3
         },
         "marker": {
          "color": "rgba(255, 255, 51, 1.0)"
         },
         "name": "PR 1",
         "orientation": "v",
         "type": "box",
         "y": [
          2.7,
          2.02,
          3.3,
          2.9,
          2.72,
          2.47,
          3.2,
          2.4,
          2.55,
          2.07,
          2.13,
          1.56,
          1.71,
          3.2
         ]
        },
        {
         "boxpoints": false,
         "line": {
          "width": 1.3
         },
         "marker": {
          "color": "rgba(128, 128, 0, 1.0)"
         },
         "name": "PR 2",
         "orientation": "v",
         "type": "box",
         "y": [
          3.9,
          1.71,
          2.2,
          2.64,
          2.17,
          2.11,
          1.91,
          2.45,
          2.6,
          2.72,
          3.1,
          2.24,
          2.4,
          2.38
         ]
        },
        {
         "boxpoints": false,
         "line": {
          "width": 1.3
         },
         "marker": {
          "color": "rgba(251, 128, 114, 1.0)"
         },
         "name": "CI 3",
         "orientation": "v",
         "type": "box",
         "y": [
          0,
          2.2,
          3,
          3.2,
          0,
          2.5,
          3.2,
          2.2,
          4.5,
          2.3,
          2.8,
          2.9,
          3.2,
          2.3
         ]
        },
        {
         "boxpoints": false,
         "line": {
          "width": 1.3
         },
         "marker": {
          "color": "rgba(128, 177, 211, 1.0)"
         },
         "name": "CI 4",
         "orientation": "v",
         "type": "box",
         "y": [
          0,
          3.05,
          3.2,
          3.3,
          0,
          3.6,
          2.9,
          2.5,
          3.6,
          3.5,
          2.98,
          3.2,
          3.1,
          2.4
         ]
        },
        {
         "boxpoints": false,
         "line": {
          "width": 1.3
         },
         "marker": {
          "color": "rgba(128, 177, 211, 0.8999999999999999)"
         },
         "name": "DD 3",
         "orientation": "v",
         "type": "box",
         "y": [
          3.57,
          2.95,
          3,
          2.55,
          3.8,
          2.95,
          2.15,
          3,
          2.7,
          3.9,
          3.6,
          2.65,
          1.68,
          3.1
         ]
        },
        {
         "boxpoints": false,
         "line": {
          "width": 1.3
         },
         "marker": {
          "color": "rgba(255, 153, 51, 0.8999999999999999)"
         },
         "name": "DD 4A",
         "orientation": "v",
         "type": "box",
         "y": [
          1.9,
          3.9,
          2.1,
          2,
          0,
          3.9,
          2.8,
          3.9,
          3.1,
          2.28,
          1.7,
          2.9,
          3.5,
          3.5
         ]
        },
        {
         "boxpoints": false,
         "line": {
          "width": 1.3
         },
         "marker": {
          "color": "rgba(55, 128, 191, 0.8999999999999999)"
         },
         "name": "DD 4B",
         "orientation": "v",
         "type": "box",
         "y": [
          3.95,
          4.05,
          4.3,
          3.9,
          4.25,
          2.05,
          4.25,
          2.8,
          3.65,
          3.06,
          3.45,
          4.05,
          3.01,
          2.25
         ]
        },
        {
         "boxpoints": false,
         "line": {
          "width": 1.3
         },
         "marker": {
          "color": "rgba(50, 171, 96, 0.8999999999999999)"
         },
         "name": "EL 3",
         "orientation": "v",
         "type": "box",
         "y": [
          4.85,
          1.93,
          2.75,
          3,
          3.55,
          2.34,
          3.94,
          2.7,
          3.15,
          2.7,
          2.85,
          3.15,
          2.42,
          3.32
         ]
        },
        {
         "boxpoints": false,
         "line": {
          "width": 1.3
         },
         "marker": {
          "color": "rgba(128, 0, 128, 0.8999999999999999)"
         },
         "name": "EL 4",
         "orientation": "v",
         "type": "box",
         "y": [
          3.85,
          3.32,
          3.1,
          3.45,
          3.75,
          3.32,
          2.9,
          3.15,
          2.85,
          3.15,
          3.44,
          2.85,
          2.59,
          2.07
         ]
        },
        {
         "boxpoints": false,
         "line": {
          "width": 1.3
         },
         "marker": {
          "color": "rgba(219, 64, 82, 0.8999999999999999)"
         },
         "name": "PR3",
         "orientation": "v",
         "type": "box",
         "y": [
          4.3,
          2.87,
          2.55,
          2.75,
          3.5,
          2.87,
          2.45,
          3.55,
          1.43,
          2.42,
          3.55,
          2.85,
          1.93,
          3.4
         ]
        },
        {
         "boxpoints": false,
         "line": {
          "width": 1.3
         },
         "marker": {
          "color": "rgba(0, 128, 128, 0.8999999999999999)"
         },
         "name": "PR4",
         "orientation": "v",
         "type": "box",
         "y": [
          4.15,
          3,
          2.72,
          3,
          4.15,
          4.15,
          3.53,
          4.3,
          3.15,
          4,
          2.68,
          4.3,
          2.01,
          2.47
         ]
        }
       ],
       "layout": {
        "legend": {
         "bgcolor": "#F5F6F9",
         "font": {
          "color": "#4D5663"
         }
        },
        "paper_bgcolor": "#F5F6F9",
        "plot_bgcolor": "#F5F6F9",
        "template": {
         "data": {
          "bar": [
           {
            "error_x": {
             "color": "#2a3f5f"
            },
            "error_y": {
             "color": "#2a3f5f"
            },
            "marker": {
             "line": {
              "color": "#E5ECF6",
              "width": 0.5
             }
            },
            "type": "bar"
           }
          ],
          "barpolar": [
           {
            "marker": {
             "line": {
              "color": "#E5ECF6",
              "width": 0.5
             }
            },
            "type": "barpolar"
           }
          ],
          "carpet": [
           {
            "aaxis": {
             "endlinecolor": "#2a3f5f",
             "gridcolor": "white",
             "linecolor": "white",
             "minorgridcolor": "white",
             "startlinecolor": "#2a3f5f"
            },
            "baxis": {
             "endlinecolor": "#2a3f5f",
             "gridcolor": "white",
             "linecolor": "white",
             "minorgridcolor": "white",
             "startlinecolor": "#2a3f5f"
            },
            "type": "carpet"
           }
          ],
          "choropleth": [
           {
            "colorbar": {
             "outlinewidth": 0,
             "ticks": ""
            },
            "type": "choropleth"
           }
          ],
          "contour": [
           {
            "colorbar": {
             "outlinewidth": 0,
             "ticks": ""
            },
            "colorscale": [
             [
              0,
              "#0d0887"
             ],
             [
              0.1111111111111111,
              "#46039f"
             ],
             [
              0.2222222222222222,
              "#7201a8"
             ],
             [
              0.3333333333333333,
              "#9c179e"
             ],
             [
              0.4444444444444444,
              "#bd3786"
             ],
             [
              0.5555555555555556,
              "#d8576b"
             ],
             [
              0.6666666666666666,
              "#ed7953"
             ],
             [
              0.7777777777777778,
              "#fb9f3a"
             ],
             [
              0.8888888888888888,
              "#fdca26"
             ],
             [
              1,
              "#f0f921"
             ]
            ],
            "type": "contour"
           }
          ],
          "contourcarpet": [
           {
            "colorbar": {
             "outlinewidth": 0,
             "ticks": ""
            },
            "type": "contourcarpet"
           }
          ],
          "heatmap": [
           {
            "colorbar": {
             "outlinewidth": 0,
             "ticks": ""
            },
            "colorscale": [
             [
              0,
              "#0d0887"
             ],
             [
              0.1111111111111111,
              "#46039f"
             ],
             [
              0.2222222222222222,
              "#7201a8"
             ],
             [
              0.3333333333333333,
              "#9c179e"
             ],
             [
              0.4444444444444444,
              "#bd3786"
             ],
             [
              0.5555555555555556,
              "#d8576b"
             ],
             [
              0.6666666666666666,
              "#ed7953"
             ],
             [
              0.7777777777777778,
              "#fb9f3a"
             ],
             [
              0.8888888888888888,
              "#fdca26"
             ],
             [
              1,
              "#f0f921"
             ]
            ],
            "type": "heatmap"
           }
          ],
          "heatmapgl": [
           {
            "colorbar": {
             "outlinewidth": 0,
             "ticks": ""
            },
            "colorscale": [
             [
              0,
              "#0d0887"
             ],
             [
              0.1111111111111111,
              "#46039f"
             ],
             [
              0.2222222222222222,
              "#7201a8"
             ],
             [
              0.3333333333333333,
              "#9c179e"
             ],
             [
              0.4444444444444444,
              "#bd3786"
             ],
             [
              0.5555555555555556,
              "#d8576b"
             ],
             [
              0.6666666666666666,
              "#ed7953"
             ],
             [
              0.7777777777777778,
              "#fb9f3a"
             ],
             [
              0.8888888888888888,
              "#fdca26"
             ],
             [
              1,
              "#f0f921"
             ]
            ],
            "type": "heatmapgl"
           }
          ],
          "histogram": [
           {
            "marker": {
             "colorbar": {
              "outlinewidth": 0,
              "ticks": ""
             }
            },
            "type": "histogram"
           }
          ],
          "histogram2d": [
           {
            "colorbar": {
             "outlinewidth": 0,
             "ticks": ""
            },
            "colorscale": [
             [
              0,
              "#0d0887"
             ],
             [
              0.1111111111111111,
              "#46039f"
             ],
             [
              0.2222222222222222,
              "#7201a8"
             ],
             [
              0.3333333333333333,
              "#9c179e"
             ],
             [
              0.4444444444444444,
              "#bd3786"
             ],
             [
              0.5555555555555556,
              "#d8576b"
             ],
             [
              0.6666666666666666,
              "#ed7953"
             ],
             [
              0.7777777777777778,
              "#fb9f3a"
             ],
             [
              0.8888888888888888,
              "#fdca26"
             ],
             [
              1,
              "#f0f921"
             ]
            ],
            "type": "histogram2d"
           }
          ],
          "histogram2dcontour": [
           {
            "colorbar": {
             "outlinewidth": 0,
             "ticks": ""
            },
            "colorscale": [
             [
              0,
              "#0d0887"
             ],
             [
              0.1111111111111111,
              "#46039f"
             ],
             [
              0.2222222222222222,
              "#7201a8"
             ],
             [
              0.3333333333333333,
              "#9c179e"
             ],
             [
              0.4444444444444444,
              "#bd3786"
             ],
             [
              0.5555555555555556,
              "#d8576b"
             ],
             [
              0.6666666666666666,
              "#ed7953"
             ],
             [
              0.7777777777777778,
              "#fb9f3a"
             ],
             [
              0.8888888888888888,
              "#fdca26"
             ],
             [
              1,
              "#f0f921"
             ]
            ],
            "type": "histogram2dcontour"
           }
          ],
          "mesh3d": [
           {
            "colorbar": {
             "outlinewidth": 0,
             "ticks": ""
            },
            "type": "mesh3d"
           }
          ],
          "parcoords": [
           {
            "line": {
             "colorbar": {
              "outlinewidth": 0,
              "ticks": ""
             }
            },
            "type": "parcoords"
           }
          ],
          "pie": [
           {
            "automargin": true,
            "type": "pie"
           }
          ],
          "scatter": [
           {
            "marker": {
             "colorbar": {
              "outlinewidth": 0,
              "ticks": ""
             }
            },
            "type": "scatter"
           }
          ],
          "scatter3d": [
           {
            "line": {
             "colorbar": {
              "outlinewidth": 0,
              "ticks": ""
             }
            },
            "marker": {
             "colorbar": {
              "outlinewidth": 0,
              "ticks": ""
             }
            },
            "type": "scatter3d"
           }
          ],
          "scattercarpet": [
           {
            "marker": {
             "colorbar": {
              "outlinewidth": 0,
              "ticks": ""
             }
            },
            "type": "scattercarpet"
           }
          ],
          "scattergeo": [
           {
            "marker": {
             "colorbar": {
              "outlinewidth": 0,
              "ticks": ""
             }
            },
            "type": "scattergeo"
           }
          ],
          "scattergl": [
           {
            "marker": {
             "colorbar": {
              "outlinewidth": 0,
              "ticks": ""
             }
            },
            "type": "scattergl"
           }
          ],
          "scattermapbox": [
           {
            "marker": {
             "colorbar": {
              "outlinewidth": 0,
              "ticks": ""
             }
            },
            "type": "scattermapbox"
           }
          ],
          "scatterpolar": [
           {
            "marker": {
             "colorbar": {
              "outlinewidth": 0,
              "ticks": ""
             }
            },
            "type": "scatterpolar"
           }
          ],
          "scatterpolargl": [
           {
            "marker": {
             "colorbar": {
              "outlinewidth": 0,
              "ticks": ""
             }
            },
            "type": "scatterpolargl"
           }
          ],
          "scatterternary": [
           {
            "marker": {
             "colorbar": {
              "outlinewidth": 0,
              "ticks": ""
             }
            },
            "type": "scatterternary"
           }
          ],
          "surface": [
           {
            "colorbar": {
             "outlinewidth": 0,
             "ticks": ""
            },
            "colorscale": [
             [
              0,
              "#0d0887"
             ],
             [
              0.1111111111111111,
              "#46039f"
             ],
             [
              0.2222222222222222,
              "#7201a8"
             ],
             [
              0.3333333333333333,
              "#9c179e"
             ],
             [
              0.4444444444444444,
              "#bd3786"
             ],
             [
              0.5555555555555556,
              "#d8576b"
             ],
             [
              0.6666666666666666,
              "#ed7953"
             ],
             [
              0.7777777777777778,
              "#fb9f3a"
             ],
             [
              0.8888888888888888,
              "#fdca26"
             ],
             [
              1,
              "#f0f921"
             ]
            ],
            "type": "surface"
           }
          ],
          "table": [
           {
            "cells": {
             "fill": {
              "color": "#EBF0F8"
             },
             "line": {
              "color": "white"
             }
            },
            "header": {
             "fill": {
              "color": "#C8D4E3"
             },
             "line": {
              "color": "white"
             }
            },
            "type": "table"
           }
          ]
         },
         "layout": {
          "annotationdefaults": {
           "arrowcolor": "#2a3f5f",
           "arrowhead": 0,
           "arrowwidth": 1
          },
          "coloraxis": {
           "colorbar": {
            "outlinewidth": 0,
            "ticks": ""
           }
          },
          "colorscale": {
           "diverging": [
            [
             0,
             "#8e0152"
            ],
            [
             0.1,
             "#c51b7d"
            ],
            [
             0.2,
             "#de77ae"
            ],
            [
             0.3,
             "#f1b6da"
            ],
            [
             0.4,
             "#fde0ef"
            ],
            [
             0.5,
             "#f7f7f7"
            ],
            [
             0.6,
             "#e6f5d0"
            ],
            [
             0.7,
             "#b8e186"
            ],
            [
             0.8,
             "#7fbc41"
            ],
            [
             0.9,
             "#4d9221"
            ],
            [
             1,
             "#276419"
            ]
           ],
           "sequential": [
            [
             0,
             "#0d0887"
            ],
            [
             0.1111111111111111,
             "#46039f"
            ],
            [
             0.2222222222222222,
             "#7201a8"
            ],
            [
             0.3333333333333333,
             "#9c179e"
            ],
            [
             0.4444444444444444,
             "#bd3786"
            ],
            [
             0.5555555555555556,
             "#d8576b"
            ],
            [
             0.6666666666666666,
             "#ed7953"
            ],
            [
             0.7777777777777778,
             "#fb9f3a"
            ],
            [
             0.8888888888888888,
             "#fdca26"
            ],
            [
             1,
             "#f0f921"
            ]
           ],
           "sequentialminus": [
            [
             0,
             "#0d0887"
            ],
            [
             0.1111111111111111,
             "#46039f"
            ],
            [
             0.2222222222222222,
             "#7201a8"
            ],
            [
             0.3333333333333333,
             "#9c179e"
            ],
            [
             0.4444444444444444,
             "#bd3786"
            ],
            [
             0.5555555555555556,
             "#d8576b"
            ],
            [
             0.6666666666666666,
             "#ed7953"
            ],
            [
             0.7777777777777778,
             "#fb9f3a"
            ],
            [
             0.8888888888888888,
             "#fdca26"
            ],
            [
             1,
             "#f0f921"
            ]
           ]
          },
          "colorway": [
           "#636efa",
           "#EF553B",
           "#00cc96",
           "#ab63fa",
           "#FFA15A",
           "#19d3f3",
           "#FF6692",
           "#B6E880",
           "#FF97FF",
           "#FECB52"
          ],
          "font": {
           "color": "#2a3f5f"
          },
          "geo": {
           "bgcolor": "white",
           "lakecolor": "white",
           "landcolor": "#E5ECF6",
           "showlakes": true,
           "showland": true,
           "subunitcolor": "white"
          },
          "hoverlabel": {
           "align": "left"
          },
          "hovermode": "closest",
          "mapbox": {
           "style": "light"
          },
          "paper_bgcolor": "white",
          "plot_bgcolor": "#E5ECF6",
          "polar": {
           "angularaxis": {
            "gridcolor": "white",
            "linecolor": "white",
            "ticks": ""
           },
           "bgcolor": "#E5ECF6",
           "radialaxis": {
            "gridcolor": "white",
            "linecolor": "white",
            "ticks": ""
           }
          },
          "scene": {
           "xaxis": {
            "backgroundcolor": "#E5ECF6",
            "gridcolor": "white",
            "gridwidth": 2,
            "linecolor": "white",
            "showbackground": true,
            "ticks": "",
            "zerolinecolor": "white"
           },
           "yaxis": {
            "backgroundcolor": "#E5ECF6",
            "gridcolor": "white",
            "gridwidth": 2,
            "linecolor": "white",
            "showbackground": true,
            "ticks": "",
            "zerolinecolor": "white"
           },
           "zaxis": {
            "backgroundcolor": "#E5ECF6",
            "gridcolor": "white",
            "gridwidth": 2,
            "linecolor": "white",
            "showbackground": true,
            "ticks": "",
            "zerolinecolor": "white"
           }
          },
          "shapedefaults": {
           "line": {
            "color": "#2a3f5f"
           }
          },
          "ternary": {
           "aaxis": {
            "gridcolor": "white",
            "linecolor": "white",
            "ticks": ""
           },
           "baxis": {
            "gridcolor": "white",
            "linecolor": "white",
            "ticks": ""
           },
           "bgcolor": "#E5ECF6",
           "caxis": {
            "gridcolor": "white",
            "linecolor": "white",
            "ticks": ""
           }
          },
          "title": {
           "x": 0.05
          },
          "xaxis": {
           "automargin": true,
           "gridcolor": "white",
           "linecolor": "white",
           "ticks": "",
           "title": {
            "standoff": 15
           },
           "zerolinecolor": "white",
           "zerolinewidth": 2
          },
          "yaxis": {
           "automargin": true,
           "gridcolor": "white",
           "linecolor": "white",
           "ticks": "",
           "title": {
            "standoff": 15
           },
           "zerolinecolor": "white",
           "zerolinewidth": 2
          }
         }
        },
        "title": {
         "font": {
          "color": "#4D5663"
         },
         "text": "Grades four periods of students that fail the course"
        },
        "xaxis": {
         "gridcolor": "#E1E5ED",
         "showgrid": true,
         "tickfont": {
          "color": "#4D5663"
         },
         "title": {
          "font": {
           "color": "#4D5663"
          },
          "text": ""
         },
         "zerolinecolor": "#E1E5ED"
        },
        "yaxis": {
         "gridcolor": "#E1E5ED",
         "showgrid": true,
         "tickfont": {
          "color": "#4D5663"
         },
         "title": {
          "font": {
           "color": "#4D5663"
          },
          "text": ""
         },
         "zerolinecolor": "#E1E5ED"
        }
       }
      },
      "text/html": [
       "<div>\n",
       "        \n",
       "        \n",
       "            <div id=\"3af6abf7-af57-4cae-9a35-26c937855b23\" class=\"plotly-graph-div\" style=\"height:525px; width:100%;\"></div>\n",
       "            <script type=\"text/javascript\">\n",
       "                require([\"plotly\"], function(Plotly) {\n",
       "                    window.PLOTLYENV=window.PLOTLYENV || {};\n",
       "                    window.PLOTLYENV.BASE_URL='https://plot.ly';\n",
       "                    \n",
       "                if (document.getElementById(\"3af6abf7-af57-4cae-9a35-26c937855b23\")) {\n",
       "                    Plotly.newPlot(\n",
       "                        '3af6abf7-af57-4cae-9a35-26c937855b23',\n",
       "                        [{\"boxpoints\": false, \"line\": {\"width\": 1.3}, \"marker\": {\"color\": \"rgba(255, 153, 51, 1.0)\"}, \"name\": \"CI 1\", \"orientation\": \"v\", \"type\": \"box\", \"y\": [0.0, 3.0, 2.9, 3.2, 0.0, 3.2, 3.8, 3.1, 0.0, 2.8, 2.7, 1.7, 3.6, 2.6]}, {\"boxpoints\": false, \"line\": {\"width\": 1.3}, \"marker\": {\"color\": \"rgba(55, 128, 191, 1.0)\"}, \"name\": \"CI 2\", \"orientation\": \"v\", \"type\": \"box\", \"y\": [0.0, 2.3, 2.6, 2.3, 0.0, 1.9, 2.4, 2.9, 0.0, 2.4, 2.5, 2.4, 0.0, 2.5]}, {\"boxpoints\": false, \"line\": {\"width\": 1.3}, \"marker\": {\"color\": \"rgba(50, 171, 96, 1.0)\"}, \"name\": \"DD 1\", \"orientation\": \"v\", \"type\": \"box\", \"y\": [3.0, 2.5, 2.38, 2.13, 3.0, 2.8, 2.38, 2.5, 2.25, 3.3, 2.0, 2.5, 2.0, 2.3]}, {\"boxpoints\": false, \"line\": {\"width\": 1.3}, \"marker\": {\"color\": \"rgba(128, 0, 128, 1.0)\"}, \"name\": \"DD 2\", \"orientation\": \"v\", \"type\": \"box\", \"y\": [0.0, 3.3, 3.4, 2.6, 0.0, 3.1, 3.3, 3.9, 2.8, 3.3, 3.1, 2.35, 3.1, 3.0]}, {\"boxpoints\": false, \"line\": {\"width\": 1.3}, \"marker\": {\"color\": \"rgba(219, 64, 82, 1.0)\"}, \"name\": \"EL 1\", \"orientation\": \"v\", \"type\": \"box\", \"y\": [3.2, 3.65, 3.57, 3.8, 3.2, 3.22, 3.36, 3.8, 3.0, 2.74, 3.2, 2.66, 2.7, 3.74]}, {\"boxpoints\": false, \"line\": {\"width\": 1.3}, \"marker\": {\"color\": \"rgba(0, 128, 128, 1.0)\"}, \"name\": \"EL 2\", \"orientation\": \"v\", \"type\": \"box\", \"y\": [4.45, 2.7, 2.49, 3.7, 2.3, 2.73, 2.44, 1.89, 2.5, 2.41, 3.0, 1.87, 1.5, 2.2]}, {\"boxpoints\": false, \"line\": {\"width\": 1.3}, \"marker\": {\"color\": \"rgba(255, 255, 51, 1.0)\"}, \"name\": \"PR 1\", \"orientation\": \"v\", \"type\": \"box\", \"y\": [2.7, 2.02, 3.3, 2.9, 2.72, 2.47, 3.2, 2.4, 2.55, 2.07, 2.13, 1.56, 1.71, 3.2]}, {\"boxpoints\": false, \"line\": {\"width\": 1.3}, \"marker\": {\"color\": \"rgba(128, 128, 0, 1.0)\"}, \"name\": \"PR 2\", \"orientation\": \"v\", \"type\": \"box\", \"y\": [3.9, 1.71, 2.2, 2.64, 2.17, 2.11, 1.91, 2.45, 2.6, 2.72, 3.1, 2.24, 2.4, 2.38]}, {\"boxpoints\": false, \"line\": {\"width\": 1.3}, \"marker\": {\"color\": \"rgba(251, 128, 114, 1.0)\"}, \"name\": \"CI 3\", \"orientation\": \"v\", \"type\": \"box\", \"y\": [0.0, 2.2, 3.0, 3.2, 0.0, 2.5, 3.2, 2.2, 4.5, 2.3, 2.8, 2.9, 3.2, 2.3]}, {\"boxpoints\": false, \"line\": {\"width\": 1.3}, \"marker\": {\"color\": \"rgba(128, 177, 211, 1.0)\"}, \"name\": \"CI 4\", \"orientation\": \"v\", \"type\": \"box\", \"y\": [0.0, 3.05, 3.2, 3.3, 0.0, 3.6, 2.9, 2.5, 3.6, 3.5, 2.98, 3.2, 3.1, 2.4]}, {\"boxpoints\": false, \"line\": {\"width\": 1.3}, \"marker\": {\"color\": \"rgba(128, 177, 211, 0.8999999999999999)\"}, \"name\": \"DD 3\", \"orientation\": \"v\", \"type\": \"box\", \"y\": [3.57, 2.95, 3.0, 2.55, 3.8, 2.95, 2.15, 3.0, 2.7, 3.9, 3.6, 2.65, 1.68, 3.1]}, {\"boxpoints\": false, \"line\": {\"width\": 1.3}, \"marker\": {\"color\": \"rgba(255, 153, 51, 0.8999999999999999)\"}, \"name\": \"DD 4A\", \"orientation\": \"v\", \"type\": \"box\", \"y\": [1.9, 3.9, 2.1, 2.0, 0.0, 3.9, 2.8, 3.9, 3.1, 2.28, 1.7, 2.9, 3.5, 3.5]}, {\"boxpoints\": false, \"line\": {\"width\": 1.3}, \"marker\": {\"color\": \"rgba(55, 128, 191, 0.8999999999999999)\"}, \"name\": \"DD 4B\", \"orientation\": \"v\", \"type\": \"box\", \"y\": [3.95, 4.05, 4.3, 3.9, 4.25, 2.05, 4.25, 2.8, 3.65, 3.06, 3.45, 4.05, 3.01, 2.25]}, {\"boxpoints\": false, \"line\": {\"width\": 1.3}, \"marker\": {\"color\": \"rgba(50, 171, 96, 0.8999999999999999)\"}, \"name\": \"EL 3\", \"orientation\": \"v\", \"type\": \"box\", \"y\": [4.85, 1.93, 2.75, 3.0, 3.55, 2.34, 3.94, 2.7, 3.15, 2.7, 2.85, 3.15, 2.42, 3.32]}, {\"boxpoints\": false, \"line\": {\"width\": 1.3}, \"marker\": {\"color\": \"rgba(128, 0, 128, 0.8999999999999999)\"}, \"name\": \"EL 4\", \"orientation\": \"v\", \"type\": \"box\", \"y\": [3.85, 3.32, 3.1, 3.45, 3.75, 3.32, 2.9, 3.15, 2.85, 3.15, 3.44, 2.85, 2.59, 2.07]}, {\"boxpoints\": false, \"line\": {\"width\": 1.3}, \"marker\": {\"color\": \"rgba(219, 64, 82, 0.8999999999999999)\"}, \"name\": \"PR3\", \"orientation\": \"v\", \"type\": \"box\", \"y\": [4.3, 2.87, 2.55, 2.75, 3.5, 2.87, 2.45, 3.55, 1.43, 2.42, 3.55, 2.85, 1.93, 3.4]}, {\"boxpoints\": false, \"line\": {\"width\": 1.3}, \"marker\": {\"color\": \"rgba(0, 128, 128, 0.8999999999999999)\"}, \"name\": \"PR4\", \"orientation\": \"v\", \"type\": \"box\", \"y\": [4.15, 3.0, 2.72, 3.0, 4.15, 4.15, 3.53, 4.3, 3.15, 4.0, 2.68, 4.3, 2.01, 2.47]}],\n",
       "                        {\"legend\": {\"bgcolor\": \"#F5F6F9\", \"font\": {\"color\": \"#4D5663\"}}, \"paper_bgcolor\": \"#F5F6F9\", \"plot_bgcolor\": \"#F5F6F9\", \"template\": {\"data\": {\"bar\": [{\"error_x\": {\"color\": \"#2a3f5f\"}, \"error_y\": {\"color\": \"#2a3f5f\"}, \"marker\": {\"line\": {\"color\": \"#E5ECF6\", \"width\": 0.5}}, \"type\": \"bar\"}], \"barpolar\": [{\"marker\": {\"line\": {\"color\": \"#E5ECF6\", \"width\": 0.5}}, \"type\": \"barpolar\"}], \"carpet\": [{\"aaxis\": {\"endlinecolor\": \"#2a3f5f\", \"gridcolor\": \"white\", \"linecolor\": \"white\", \"minorgridcolor\": \"white\", \"startlinecolor\": \"#2a3f5f\"}, \"baxis\": {\"endlinecolor\": \"#2a3f5f\", \"gridcolor\": \"white\", \"linecolor\": \"white\", \"minorgridcolor\": \"white\", \"startlinecolor\": \"#2a3f5f\"}, \"type\": \"carpet\"}], \"choropleth\": [{\"colorbar\": {\"outlinewidth\": 0, \"ticks\": \"\"}, \"type\": \"choropleth\"}], \"contour\": [{\"colorbar\": {\"outlinewidth\": 0, \"ticks\": \"\"}, \"colorscale\": [[0.0, \"#0d0887\"], [0.1111111111111111, \"#46039f\"], [0.2222222222222222, \"#7201a8\"], [0.3333333333333333, \"#9c179e\"], [0.4444444444444444, \"#bd3786\"], [0.5555555555555556, \"#d8576b\"], [0.6666666666666666, \"#ed7953\"], [0.7777777777777778, \"#fb9f3a\"], [0.8888888888888888, \"#fdca26\"], [1.0, \"#f0f921\"]], \"type\": \"contour\"}], \"contourcarpet\": [{\"colorbar\": {\"outlinewidth\": 0, \"ticks\": \"\"}, \"type\": \"contourcarpet\"}], \"heatmap\": [{\"colorbar\": {\"outlinewidth\": 0, \"ticks\": \"\"}, \"colorscale\": [[0.0, \"#0d0887\"], [0.1111111111111111, \"#46039f\"], [0.2222222222222222, \"#7201a8\"], [0.3333333333333333, \"#9c179e\"], [0.4444444444444444, \"#bd3786\"], [0.5555555555555556, \"#d8576b\"], [0.6666666666666666, \"#ed7953\"], [0.7777777777777778, \"#fb9f3a\"], [0.8888888888888888, \"#fdca26\"], [1.0, \"#f0f921\"]], \"type\": \"heatmap\"}], \"heatmapgl\": [{\"colorbar\": {\"outlinewidth\": 0, \"ticks\": \"\"}, \"colorscale\": [[0.0, \"#0d0887\"], [0.1111111111111111, \"#46039f\"], [0.2222222222222222, \"#7201a8\"], [0.3333333333333333, \"#9c179e\"], [0.4444444444444444, \"#bd3786\"], [0.5555555555555556, \"#d8576b\"], [0.6666666666666666, \"#ed7953\"], [0.7777777777777778, \"#fb9f3a\"], [0.8888888888888888, \"#fdca26\"], [1.0, \"#f0f921\"]], \"type\": \"heatmapgl\"}], \"histogram\": [{\"marker\": {\"colorbar\": {\"outlinewidth\": 0, \"ticks\": \"\"}}, \"type\": \"histogram\"}], \"histogram2d\": [{\"colorbar\": {\"outlinewidth\": 0, \"ticks\": \"\"}, \"colorscale\": [[0.0, \"#0d0887\"], [0.1111111111111111, \"#46039f\"], [0.2222222222222222, \"#7201a8\"], [0.3333333333333333, \"#9c179e\"], [0.4444444444444444, \"#bd3786\"], [0.5555555555555556, \"#d8576b\"], [0.6666666666666666, \"#ed7953\"], [0.7777777777777778, \"#fb9f3a\"], [0.8888888888888888, \"#fdca26\"], [1.0, \"#f0f921\"]], \"type\": \"histogram2d\"}], \"histogram2dcontour\": [{\"colorbar\": {\"outlinewidth\": 0, \"ticks\": \"\"}, \"colorscale\": [[0.0, \"#0d0887\"], [0.1111111111111111, \"#46039f\"], [0.2222222222222222, \"#7201a8\"], [0.3333333333333333, \"#9c179e\"], [0.4444444444444444, \"#bd3786\"], [0.5555555555555556, \"#d8576b\"], [0.6666666666666666, \"#ed7953\"], [0.7777777777777778, \"#fb9f3a\"], [0.8888888888888888, \"#fdca26\"], [1.0, \"#f0f921\"]], \"type\": \"histogram2dcontour\"}], \"mesh3d\": [{\"colorbar\": {\"outlinewidth\": 0, \"ticks\": \"\"}, \"type\": \"mesh3d\"}], \"parcoords\": [{\"line\": {\"colorbar\": {\"outlinewidth\": 0, \"ticks\": \"\"}}, \"type\": \"parcoords\"}], \"pie\": [{\"automargin\": true, \"type\": \"pie\"}], \"scatter\": [{\"marker\": {\"colorbar\": {\"outlinewidth\": 0, \"ticks\": \"\"}}, \"type\": \"scatter\"}], \"scatter3d\": [{\"line\": {\"colorbar\": {\"outlinewidth\": 0, \"ticks\": \"\"}}, \"marker\": {\"colorbar\": {\"outlinewidth\": 0, \"ticks\": \"\"}}, \"type\": \"scatter3d\"}], \"scattercarpet\": [{\"marker\": {\"colorbar\": {\"outlinewidth\": 0, \"ticks\": \"\"}}, \"type\": \"scattercarpet\"}], \"scattergeo\": [{\"marker\": {\"colorbar\": {\"outlinewidth\": 0, \"ticks\": \"\"}}, \"type\": \"scattergeo\"}], \"scattergl\": [{\"marker\": {\"colorbar\": {\"outlinewidth\": 0, \"ticks\": \"\"}}, \"type\": \"scattergl\"}], \"scattermapbox\": [{\"marker\": {\"colorbar\": {\"outlinewidth\": 0, \"ticks\": \"\"}}, \"type\": \"scattermapbox\"}], \"scatterpolar\": [{\"marker\": {\"colorbar\": {\"outlinewidth\": 0, \"ticks\": \"\"}}, \"type\": \"scatterpolar\"}], \"scatterpolargl\": [{\"marker\": {\"colorbar\": {\"outlinewidth\": 0, \"ticks\": \"\"}}, \"type\": \"scatterpolargl\"}], \"scatterternary\": [{\"marker\": {\"colorbar\": {\"outlinewidth\": 0, \"ticks\": \"\"}}, \"type\": \"scatterternary\"}], \"surface\": [{\"colorbar\": {\"outlinewidth\": 0, \"ticks\": \"\"}, \"colorscale\": [[0.0, \"#0d0887\"], [0.1111111111111111, \"#46039f\"], [0.2222222222222222, \"#7201a8\"], [0.3333333333333333, \"#9c179e\"], [0.4444444444444444, \"#bd3786\"], [0.5555555555555556, \"#d8576b\"], [0.6666666666666666, \"#ed7953\"], [0.7777777777777778, \"#fb9f3a\"], [0.8888888888888888, \"#fdca26\"], [1.0, \"#f0f921\"]], \"type\": \"surface\"}], \"table\": [{\"cells\": {\"fill\": {\"color\": \"#EBF0F8\"}, \"line\": {\"color\": \"white\"}}, \"header\": {\"fill\": {\"color\": \"#C8D4E3\"}, \"line\": {\"color\": \"white\"}}, \"type\": \"table\"}]}, \"layout\": {\"annotationdefaults\": {\"arrowcolor\": \"#2a3f5f\", \"arrowhead\": 0, \"arrowwidth\": 1}, \"coloraxis\": {\"colorbar\": {\"outlinewidth\": 0, \"ticks\": \"\"}}, \"colorscale\": {\"diverging\": [[0, \"#8e0152\"], [0.1, \"#c51b7d\"], [0.2, \"#de77ae\"], [0.3, \"#f1b6da\"], [0.4, \"#fde0ef\"], [0.5, \"#f7f7f7\"], [0.6, \"#e6f5d0\"], [0.7, \"#b8e186\"], [0.8, \"#7fbc41\"], [0.9, \"#4d9221\"], [1, \"#276419\"]], \"sequential\": [[0.0, \"#0d0887\"], [0.1111111111111111, \"#46039f\"], [0.2222222222222222, \"#7201a8\"], [0.3333333333333333, \"#9c179e\"], [0.4444444444444444, \"#bd3786\"], [0.5555555555555556, \"#d8576b\"], [0.6666666666666666, \"#ed7953\"], [0.7777777777777778, \"#fb9f3a\"], [0.8888888888888888, \"#fdca26\"], [1.0, \"#f0f921\"]], \"sequentialminus\": [[0.0, \"#0d0887\"], [0.1111111111111111, \"#46039f\"], [0.2222222222222222, \"#7201a8\"], [0.3333333333333333, \"#9c179e\"], [0.4444444444444444, \"#bd3786\"], [0.5555555555555556, \"#d8576b\"], [0.6666666666666666, \"#ed7953\"], [0.7777777777777778, \"#fb9f3a\"], [0.8888888888888888, \"#fdca26\"], [1.0, \"#f0f921\"]]}, \"colorway\": [\"#636efa\", \"#EF553B\", \"#00cc96\", \"#ab63fa\", \"#FFA15A\", \"#19d3f3\", \"#FF6692\", \"#B6E880\", \"#FF97FF\", \"#FECB52\"], \"font\": {\"color\": \"#2a3f5f\"}, \"geo\": {\"bgcolor\": \"white\", \"lakecolor\": \"white\", \"landcolor\": \"#E5ECF6\", \"showlakes\": true, \"showland\": true, \"subunitcolor\": \"white\"}, \"hoverlabel\": {\"align\": \"left\"}, \"hovermode\": \"closest\", \"mapbox\": {\"style\": \"light\"}, \"paper_bgcolor\": \"white\", \"plot_bgcolor\": \"#E5ECF6\", \"polar\": {\"angularaxis\": {\"gridcolor\": \"white\", \"linecolor\": \"white\", \"ticks\": \"\"}, \"bgcolor\": \"#E5ECF6\", \"radialaxis\": {\"gridcolor\": \"white\", \"linecolor\": \"white\", \"ticks\": \"\"}}, \"scene\": {\"xaxis\": {\"backgroundcolor\": \"#E5ECF6\", \"gridcolor\": \"white\", \"gridwidth\": 2, \"linecolor\": \"white\", \"showbackground\": true, \"ticks\": \"\", \"zerolinecolor\": \"white\"}, \"yaxis\": {\"backgroundcolor\": \"#E5ECF6\", \"gridcolor\": \"white\", \"gridwidth\": 2, \"linecolor\": \"white\", \"showbackground\": true, \"ticks\": \"\", \"zerolinecolor\": \"white\"}, \"zaxis\": {\"backgroundcolor\": \"#E5ECF6\", \"gridcolor\": \"white\", \"gridwidth\": 2, \"linecolor\": \"white\", \"showbackground\": true, \"ticks\": \"\", \"zerolinecolor\": \"white\"}}, \"shapedefaults\": {\"line\": {\"color\": \"#2a3f5f\"}}, \"ternary\": {\"aaxis\": {\"gridcolor\": \"white\", \"linecolor\": \"white\", \"ticks\": \"\"}, \"baxis\": {\"gridcolor\": \"white\", \"linecolor\": \"white\", \"ticks\": \"\"}, \"bgcolor\": \"#E5ECF6\", \"caxis\": {\"gridcolor\": \"white\", \"linecolor\": \"white\", \"ticks\": \"\"}}, \"title\": {\"x\": 0.05}, \"xaxis\": {\"automargin\": true, \"gridcolor\": \"white\", \"linecolor\": \"white\", \"ticks\": \"\", \"title\": {\"standoff\": 15}, \"zerolinecolor\": \"white\", \"zerolinewidth\": 2}, \"yaxis\": {\"automargin\": true, \"gridcolor\": \"white\", \"linecolor\": \"white\", \"ticks\": \"\", \"title\": {\"standoff\": 15}, \"zerolinecolor\": \"white\", \"zerolinewidth\": 2}}}, \"title\": {\"font\": {\"color\": \"#4D5663\"}, \"text\": \"Grades four periods of students that fail the course\"}, \"xaxis\": {\"gridcolor\": \"#E1E5ED\", \"showgrid\": true, \"tickfont\": {\"color\": \"#4D5663\"}, \"title\": {\"font\": {\"color\": \"#4D5663\"}, \"text\": \"\"}, \"zerolinecolor\": \"#E1E5ED\"}, \"yaxis\": {\"gridcolor\": \"#E1E5ED\", \"showgrid\": true, \"tickfont\": {\"color\": \"#4D5663\"}, \"title\": {\"font\": {\"color\": \"#4D5663\"}, \"text\": \"\"}, \"zerolinecolor\": \"#E1E5ED\"}},\n",
       "                        {\"showLink\": true, \"linkText\": \"Export to plot.ly\", \"plotlyServerURL\": \"https://plot.ly\", \"responsive\": true}\n",
       "                    ).then(function(){\n",
       "                            \n",
       "var gd = document.getElementById('3af6abf7-af57-4cae-9a35-26c937855b23');\n",
       "var x = new MutationObserver(function (mutations, observer) {{\n",
       "        var display = window.getComputedStyle(gd).display;\n",
       "        if (!display || display === 'none') {{\n",
       "            console.log([gd, 'removed!']);\n",
       "            Plotly.purge(gd);\n",
       "            observer.disconnect();\n",
       "        }}\n",
       "}});\n",
       "\n",
       "// Listen for the removal of the full notebook cells\n",
       "var notebookContainer = gd.closest('#notebook-container');\n",
       "if (notebookContainer) {{\n",
       "    x.observe(notebookContainer, {childList: true});\n",
       "}}\n",
       "\n",
       "// Listen for the clearing of the current output cell\n",
       "var outputEl = gd.closest('.output');\n",
       "if (outputEl) {{\n",
       "    x.observe(outputEl, {childList: true});\n",
       "}}\n",
       "\n",
       "                        })\n",
       "                };\n",
       "                });\n",
       "            </script>\n",
       "        </div>"
      ]
     },
     "metadata": {},
     "output_type": "display_data"
    }
   ],
   "source": [
    "fail_students_complete[['CI 1','CI 2','DD 1','DD 2','EL 1','EL 2','PR 1','PR 2','CI 3','CI 4','DD 3','DD 4A','DD 4B','EL 3','EL 4','PR3','PR4']].iplot(kind='box', title='Grades four periods of students that fail the course')"
   ]
  },
  {
   "cell_type": "code",
   "execution_count": 94,
   "metadata": {},
   "outputs": [
    {
     "data": {
      "application/vnd.plotly.v1+json": {
       "config": {
        "linkText": "Export to plot.ly",
        "plotlyServerURL": "https://plot.ly",
        "showLink": true
       },
       "data": [
        {
         "boxpoints": false,
         "line": {
          "width": 1.3
         },
         "marker": {
          "color": "rgba(255, 153, 51, 1.0)"
         },
         "name": "CI 1",
         "orientation": "v",
         "type": "box",
         "y": [
          0,
          3,
          2.9,
          3.2,
          0,
          3.2,
          3.8,
          3.1,
          0,
          2.8,
          2.7,
          1.7,
          3.6,
          2.6
         ]
        },
        {
         "boxpoints": false,
         "line": {
          "width": 1.3
         },
         "marker": {
          "color": "rgba(55, 128, 191, 1.0)"
         },
         "name": "DD 1",
         "orientation": "v",
         "type": "box",
         "y": [
          3,
          2.5,
          2.38,
          2.13,
          3,
          2.8,
          2.38,
          2.5,
          2.25,
          3.3,
          2,
          2.5,
          2,
          2.3
         ]
        },
        {
         "boxpoints": false,
         "line": {
          "width": 1.3
         },
         "marker": {
          "color": "rgba(50, 171, 96, 1.0)"
         },
         "name": "EL 1",
         "orientation": "v",
         "type": "box",
         "y": [
          3.2,
          3.65,
          3.57,
          3.8,
          3.2,
          3.22,
          3.36,
          3.8,
          3,
          2.74,
          3.2,
          2.66,
          2.7,
          3.74
         ]
        },
        {
         "boxpoints": false,
         "line": {
          "width": 1.3
         },
         "marker": {
          "color": "rgba(128, 0, 128, 1.0)"
         },
         "name": "PR 1",
         "orientation": "v",
         "type": "box",
         "y": [
          2.7,
          2.02,
          3.3,
          2.9,
          2.72,
          2.47,
          3.2,
          2.4,
          2.55,
          2.07,
          2.13,
          1.56,
          1.71,
          3.2
         ]
        },
        {
         "boxpoints": false,
         "line": {
          "width": 1.3
         },
         "marker": {
          "color": "rgba(219, 64, 82, 1.0)"
         },
         "name": "CI 2",
         "orientation": "v",
         "type": "box",
         "y": [
          0,
          2.3,
          2.6,
          2.3,
          0,
          1.9,
          2.4,
          2.9,
          0,
          2.4,
          2.5,
          2.4,
          0,
          2.5
         ]
        },
        {
         "boxpoints": false,
         "line": {
          "width": 1.3
         },
         "marker": {
          "color": "rgba(0, 128, 128, 1.0)"
         },
         "name": "DD 2",
         "orientation": "v",
         "type": "box",
         "y": [
          0,
          3.3,
          3.4,
          2.6,
          0,
          3.1,
          3.3,
          3.9,
          2.8,
          3.3,
          3.1,
          2.35,
          3.1,
          3
         ]
        },
        {
         "boxpoints": false,
         "line": {
          "width": 1.3
         },
         "marker": {
          "color": "rgba(255, 255, 51, 1.0)"
         },
         "name": "EL 2",
         "orientation": "v",
         "type": "box",
         "y": [
          4.45,
          2.7,
          2.49,
          3.7,
          2.3,
          2.73,
          2.44,
          1.89,
          2.5,
          2.41,
          3,
          1.87,
          1.5,
          2.2
         ]
        },
        {
         "boxpoints": false,
         "line": {
          "width": 1.3
         },
         "marker": {
          "color": "rgba(128, 128, 0, 1.0)"
         },
         "name": "PR 2",
         "orientation": "v",
         "type": "box",
         "y": [
          3.9,
          1.71,
          2.2,
          2.64,
          2.17,
          2.11,
          1.91,
          2.45,
          2.6,
          2.72,
          3.1,
          2.24,
          2.4,
          2.38
         ]
        },
        {
         "boxpoints": false,
         "line": {
          "width": 1.3
         },
         "marker": {
          "color": "rgba(251, 128, 114, 1.0)"
         },
         "name": "CI 3",
         "orientation": "v",
         "type": "box",
         "y": [
          0,
          2.2,
          3,
          3.2,
          0,
          2.5,
          3.2,
          2.2,
          4.5,
          2.3,
          2.8,
          2.9,
          3.2,
          2.3
         ]
        },
        {
         "boxpoints": false,
         "line": {
          "width": 1.3
         },
         "marker": {
          "color": "rgba(128, 177, 211, 1.0)"
         },
         "name": "DD 3",
         "orientation": "v",
         "type": "box",
         "y": [
          3.57,
          2.95,
          3,
          2.55,
          3.8,
          2.95,
          2.15,
          3,
          2.7,
          3.9,
          3.6,
          2.65,
          1.68,
          3.1
         ]
        },
        {
         "boxpoints": false,
         "line": {
          "width": 1.3
         },
         "marker": {
          "color": "rgba(128, 177, 211, 0.8999999999999999)"
         },
         "name": "EL 3",
         "orientation": "v",
         "type": "box",
         "y": [
          4.85,
          1.93,
          2.75,
          3,
          3.55,
          2.34,
          3.94,
          2.7,
          3.15,
          2.7,
          2.85,
          3.15,
          2.42,
          3.32
         ]
        },
        {
         "boxpoints": false,
         "line": {
          "width": 1.3
         },
         "marker": {
          "color": "rgba(255, 153, 51, 0.8999999999999999)"
         },
         "name": "PR3",
         "orientation": "v",
         "type": "box",
         "y": [
          4.3,
          2.87,
          2.55,
          2.75,
          3.5,
          2.87,
          2.45,
          3.55,
          1.43,
          2.42,
          3.55,
          2.85,
          1.93,
          3.4
         ]
        },
        {
         "boxpoints": false,
         "line": {
          "width": 1.3
         },
         "marker": {
          "color": "rgba(55, 128, 191, 0.8999999999999999)"
         },
         "name": "CI 4",
         "orientation": "v",
         "type": "box",
         "y": [
          0,
          3.05,
          3.2,
          3.3,
          0,
          3.6,
          2.9,
          2.5,
          3.6,
          3.5,
          2.98,
          3.2,
          3.1,
          2.4
         ]
        },
        {
         "boxpoints": false,
         "line": {
          "width": 1.3
         },
         "marker": {
          "color": "rgba(50, 171, 96, 0.8999999999999999)"
         },
         "name": "DD 4A",
         "orientation": "v",
         "type": "box",
         "y": [
          1.9,
          3.9,
          2.1,
          2,
          0,
          3.9,
          2.8,
          3.9,
          3.1,
          2.28,
          1.7,
          2.9,
          3.5,
          3.5
         ]
        },
        {
         "boxpoints": false,
         "line": {
          "width": 1.3
         },
         "marker": {
          "color": "rgba(128, 0, 128, 0.8999999999999999)"
         },
         "name": "DD 4B",
         "orientation": "v",
         "type": "box",
         "y": [
          3.95,
          4.05,
          4.3,
          3.9,
          4.25,
          2.05,
          4.25,
          2.8,
          3.65,
          3.06,
          3.45,
          4.05,
          3.01,
          2.25
         ]
        },
        {
         "boxpoints": false,
         "line": {
          "width": 1.3
         },
         "marker": {
          "color": "rgba(219, 64, 82, 0.8999999999999999)"
         },
         "name": "EL 4",
         "orientation": "v",
         "type": "box",
         "y": [
          3.85,
          3.32,
          3.1,
          3.45,
          3.75,
          3.32,
          2.9,
          3.15,
          2.85,
          3.15,
          3.44,
          2.85,
          2.59,
          2.07
         ]
        },
        {
         "boxpoints": false,
         "line": {
          "width": 1.3
         },
         "marker": {
          "color": "rgba(0, 128, 128, 0.8999999999999999)"
         },
         "name": "PR4",
         "orientation": "v",
         "type": "box",
         "y": [
          4.15,
          3,
          2.72,
          3,
          4.15,
          4.15,
          3.53,
          4.3,
          3.15,
          4,
          2.68,
          4.3,
          2.01,
          2.47
         ]
        }
       ],
       "layout": {
        "legend": {
         "bgcolor": "#F5F6F9",
         "font": {
          "color": "#4D5663"
         }
        },
        "paper_bgcolor": "#F5F6F9",
        "plot_bgcolor": "#F5F6F9",
        "template": {
         "data": {
          "bar": [
           {
            "error_x": {
             "color": "#2a3f5f"
            },
            "error_y": {
             "color": "#2a3f5f"
            },
            "marker": {
             "line": {
              "color": "#E5ECF6",
              "width": 0.5
             }
            },
            "type": "bar"
           }
          ],
          "barpolar": [
           {
            "marker": {
             "line": {
              "color": "#E5ECF6",
              "width": 0.5
             }
            },
            "type": "barpolar"
           }
          ],
          "carpet": [
           {
            "aaxis": {
             "endlinecolor": "#2a3f5f",
             "gridcolor": "white",
             "linecolor": "white",
             "minorgridcolor": "white",
             "startlinecolor": "#2a3f5f"
            },
            "baxis": {
             "endlinecolor": "#2a3f5f",
             "gridcolor": "white",
             "linecolor": "white",
             "minorgridcolor": "white",
             "startlinecolor": "#2a3f5f"
            },
            "type": "carpet"
           }
          ],
          "choropleth": [
           {
            "colorbar": {
             "outlinewidth": 0,
             "ticks": ""
            },
            "type": "choropleth"
           }
          ],
          "contour": [
           {
            "colorbar": {
             "outlinewidth": 0,
             "ticks": ""
            },
            "colorscale": [
             [
              0,
              "#0d0887"
             ],
             [
              0.1111111111111111,
              "#46039f"
             ],
             [
              0.2222222222222222,
              "#7201a8"
             ],
             [
              0.3333333333333333,
              "#9c179e"
             ],
             [
              0.4444444444444444,
              "#bd3786"
             ],
             [
              0.5555555555555556,
              "#d8576b"
             ],
             [
              0.6666666666666666,
              "#ed7953"
             ],
             [
              0.7777777777777778,
              "#fb9f3a"
             ],
             [
              0.8888888888888888,
              "#fdca26"
             ],
             [
              1,
              "#f0f921"
             ]
            ],
            "type": "contour"
           }
          ],
          "contourcarpet": [
           {
            "colorbar": {
             "outlinewidth": 0,
             "ticks": ""
            },
            "type": "contourcarpet"
           }
          ],
          "heatmap": [
           {
            "colorbar": {
             "outlinewidth": 0,
             "ticks": ""
            },
            "colorscale": [
             [
              0,
              "#0d0887"
             ],
             [
              0.1111111111111111,
              "#46039f"
             ],
             [
              0.2222222222222222,
              "#7201a8"
             ],
             [
              0.3333333333333333,
              "#9c179e"
             ],
             [
              0.4444444444444444,
              "#bd3786"
             ],
             [
              0.5555555555555556,
              "#d8576b"
             ],
             [
              0.6666666666666666,
              "#ed7953"
             ],
             [
              0.7777777777777778,
              "#fb9f3a"
             ],
             [
              0.8888888888888888,
              "#fdca26"
             ],
             [
              1,
              "#f0f921"
             ]
            ],
            "type": "heatmap"
           }
          ],
          "heatmapgl": [
           {
            "colorbar": {
             "outlinewidth": 0,
             "ticks": ""
            },
            "colorscale": [
             [
              0,
              "#0d0887"
             ],
             [
              0.1111111111111111,
              "#46039f"
             ],
             [
              0.2222222222222222,
              "#7201a8"
             ],
             [
              0.3333333333333333,
              "#9c179e"
             ],
             [
              0.4444444444444444,
              "#bd3786"
             ],
             [
              0.5555555555555556,
              "#d8576b"
             ],
             [
              0.6666666666666666,
              "#ed7953"
             ],
             [
              0.7777777777777778,
              "#fb9f3a"
             ],
             [
              0.8888888888888888,
              "#fdca26"
             ],
             [
              1,
              "#f0f921"
             ]
            ],
            "type": "heatmapgl"
           }
          ],
          "histogram": [
           {
            "marker": {
             "colorbar": {
              "outlinewidth": 0,
              "ticks": ""
             }
            },
            "type": "histogram"
           }
          ],
          "histogram2d": [
           {
            "colorbar": {
             "outlinewidth": 0,
             "ticks": ""
            },
            "colorscale": [
             [
              0,
              "#0d0887"
             ],
             [
              0.1111111111111111,
              "#46039f"
             ],
             [
              0.2222222222222222,
              "#7201a8"
             ],
             [
              0.3333333333333333,
              "#9c179e"
             ],
             [
              0.4444444444444444,
              "#bd3786"
             ],
             [
              0.5555555555555556,
              "#d8576b"
             ],
             [
              0.6666666666666666,
              "#ed7953"
             ],
             [
              0.7777777777777778,
              "#fb9f3a"
             ],
             [
              0.8888888888888888,
              "#fdca26"
             ],
             [
              1,
              "#f0f921"
             ]
            ],
            "type": "histogram2d"
           }
          ],
          "histogram2dcontour": [
           {
            "colorbar": {
             "outlinewidth": 0,
             "ticks": ""
            },
            "colorscale": [
             [
              0,
              "#0d0887"
             ],
             [
              0.1111111111111111,
              "#46039f"
             ],
             [
              0.2222222222222222,
              "#7201a8"
             ],
             [
              0.3333333333333333,
              "#9c179e"
             ],
             [
              0.4444444444444444,
              "#bd3786"
             ],
             [
              0.5555555555555556,
              "#d8576b"
             ],
             [
              0.6666666666666666,
              "#ed7953"
             ],
             [
              0.7777777777777778,
              "#fb9f3a"
             ],
             [
              0.8888888888888888,
              "#fdca26"
             ],
             [
              1,
              "#f0f921"
             ]
            ],
            "type": "histogram2dcontour"
           }
          ],
          "mesh3d": [
           {
            "colorbar": {
             "outlinewidth": 0,
             "ticks": ""
            },
            "type": "mesh3d"
           }
          ],
          "parcoords": [
           {
            "line": {
             "colorbar": {
              "outlinewidth": 0,
              "ticks": ""
             }
            },
            "type": "parcoords"
           }
          ],
          "pie": [
           {
            "automargin": true,
            "type": "pie"
           }
          ],
          "scatter": [
           {
            "marker": {
             "colorbar": {
              "outlinewidth": 0,
              "ticks": ""
             }
            },
            "type": "scatter"
           }
          ],
          "scatter3d": [
           {
            "line": {
             "colorbar": {
              "outlinewidth": 0,
              "ticks": ""
             }
            },
            "marker": {
             "colorbar": {
              "outlinewidth": 0,
              "ticks": ""
             }
            },
            "type": "scatter3d"
           }
          ],
          "scattercarpet": [
           {
            "marker": {
             "colorbar": {
              "outlinewidth": 0,
              "ticks": ""
             }
            },
            "type": "scattercarpet"
           }
          ],
          "scattergeo": [
           {
            "marker": {
             "colorbar": {
              "outlinewidth": 0,
              "ticks": ""
             }
            },
            "type": "scattergeo"
           }
          ],
          "scattergl": [
           {
            "marker": {
             "colorbar": {
              "outlinewidth": 0,
              "ticks": ""
             }
            },
            "type": "scattergl"
           }
          ],
          "scattermapbox": [
           {
            "marker": {
             "colorbar": {
              "outlinewidth": 0,
              "ticks": ""
             }
            },
            "type": "scattermapbox"
           }
          ],
          "scatterpolar": [
           {
            "marker": {
             "colorbar": {
              "outlinewidth": 0,
              "ticks": ""
             }
            },
            "type": "scatterpolar"
           }
          ],
          "scatterpolargl": [
           {
            "marker": {
             "colorbar": {
              "outlinewidth": 0,
              "ticks": ""
             }
            },
            "type": "scatterpolargl"
           }
          ],
          "scatterternary": [
           {
            "marker": {
             "colorbar": {
              "outlinewidth": 0,
              "ticks": ""
             }
            },
            "type": "scatterternary"
           }
          ],
          "surface": [
           {
            "colorbar": {
             "outlinewidth": 0,
             "ticks": ""
            },
            "colorscale": [
             [
              0,
              "#0d0887"
             ],
             [
              0.1111111111111111,
              "#46039f"
             ],
             [
              0.2222222222222222,
              "#7201a8"
             ],
             [
              0.3333333333333333,
              "#9c179e"
             ],
             [
              0.4444444444444444,
              "#bd3786"
             ],
             [
              0.5555555555555556,
              "#d8576b"
             ],
             [
              0.6666666666666666,
              "#ed7953"
             ],
             [
              0.7777777777777778,
              "#fb9f3a"
             ],
             [
              0.8888888888888888,
              "#fdca26"
             ],
             [
              1,
              "#f0f921"
             ]
            ],
            "type": "surface"
           }
          ],
          "table": [
           {
            "cells": {
             "fill": {
              "color": "#EBF0F8"
             },
             "line": {
              "color": "white"
             }
            },
            "header": {
             "fill": {
              "color": "#C8D4E3"
             },
             "line": {
              "color": "white"
             }
            },
            "type": "table"
           }
          ]
         },
         "layout": {
          "annotationdefaults": {
           "arrowcolor": "#2a3f5f",
           "arrowhead": 0,
           "arrowwidth": 1
          },
          "coloraxis": {
           "colorbar": {
            "outlinewidth": 0,
            "ticks": ""
           }
          },
          "colorscale": {
           "diverging": [
            [
             0,
             "#8e0152"
            ],
            [
             0.1,
             "#c51b7d"
            ],
            [
             0.2,
             "#de77ae"
            ],
            [
             0.3,
             "#f1b6da"
            ],
            [
             0.4,
             "#fde0ef"
            ],
            [
             0.5,
             "#f7f7f7"
            ],
            [
             0.6,
             "#e6f5d0"
            ],
            [
             0.7,
             "#b8e186"
            ],
            [
             0.8,
             "#7fbc41"
            ],
            [
             0.9,
             "#4d9221"
            ],
            [
             1,
             "#276419"
            ]
           ],
           "sequential": [
            [
             0,
             "#0d0887"
            ],
            [
             0.1111111111111111,
             "#46039f"
            ],
            [
             0.2222222222222222,
             "#7201a8"
            ],
            [
             0.3333333333333333,
             "#9c179e"
            ],
            [
             0.4444444444444444,
             "#bd3786"
            ],
            [
             0.5555555555555556,
             "#d8576b"
            ],
            [
             0.6666666666666666,
             "#ed7953"
            ],
            [
             0.7777777777777778,
             "#fb9f3a"
            ],
            [
             0.8888888888888888,
             "#fdca26"
            ],
            [
             1,
             "#f0f921"
            ]
           ],
           "sequentialminus": [
            [
             0,
             "#0d0887"
            ],
            [
             0.1111111111111111,
             "#46039f"
            ],
            [
             0.2222222222222222,
             "#7201a8"
            ],
            [
             0.3333333333333333,
             "#9c179e"
            ],
            [
             0.4444444444444444,
             "#bd3786"
            ],
            [
             0.5555555555555556,
             "#d8576b"
            ],
            [
             0.6666666666666666,
             "#ed7953"
            ],
            [
             0.7777777777777778,
             "#fb9f3a"
            ],
            [
             0.8888888888888888,
             "#fdca26"
            ],
            [
             1,
             "#f0f921"
            ]
           ]
          },
          "colorway": [
           "#636efa",
           "#EF553B",
           "#00cc96",
           "#ab63fa",
           "#FFA15A",
           "#19d3f3",
           "#FF6692",
           "#B6E880",
           "#FF97FF",
           "#FECB52"
          ],
          "font": {
           "color": "#2a3f5f"
          },
          "geo": {
           "bgcolor": "white",
           "lakecolor": "white",
           "landcolor": "#E5ECF6",
           "showlakes": true,
           "showland": true,
           "subunitcolor": "white"
          },
          "hoverlabel": {
           "align": "left"
          },
          "hovermode": "closest",
          "mapbox": {
           "style": "light"
          },
          "paper_bgcolor": "white",
          "plot_bgcolor": "#E5ECF6",
          "polar": {
           "angularaxis": {
            "gridcolor": "white",
            "linecolor": "white",
            "ticks": ""
           },
           "bgcolor": "#E5ECF6",
           "radialaxis": {
            "gridcolor": "white",
            "linecolor": "white",
            "ticks": ""
           }
          },
          "scene": {
           "xaxis": {
            "backgroundcolor": "#E5ECF6",
            "gridcolor": "white",
            "gridwidth": 2,
            "linecolor": "white",
            "showbackground": true,
            "ticks": "",
            "zerolinecolor": "white"
           },
           "yaxis": {
            "backgroundcolor": "#E5ECF6",
            "gridcolor": "white",
            "gridwidth": 2,
            "linecolor": "white",
            "showbackground": true,
            "ticks": "",
            "zerolinecolor": "white"
           },
           "zaxis": {
            "backgroundcolor": "#E5ECF6",
            "gridcolor": "white",
            "gridwidth": 2,
            "linecolor": "white",
            "showbackground": true,
            "ticks": "",
            "zerolinecolor": "white"
           }
          },
          "shapedefaults": {
           "line": {
            "color": "#2a3f5f"
           }
          },
          "ternary": {
           "aaxis": {
            "gridcolor": "white",
            "linecolor": "white",
            "ticks": ""
           },
           "baxis": {
            "gridcolor": "white",
            "linecolor": "white",
            "ticks": ""
           },
           "bgcolor": "#E5ECF6",
           "caxis": {
            "gridcolor": "white",
            "linecolor": "white",
            "ticks": ""
           }
          },
          "title": {
           "x": 0.05
          },
          "xaxis": {
           "automargin": true,
           "gridcolor": "white",
           "linecolor": "white",
           "ticks": "",
           "title": {
            "standoff": 15
           },
           "zerolinecolor": "white",
           "zerolinewidth": 2
          },
          "yaxis": {
           "automargin": true,
           "gridcolor": "white",
           "linecolor": "white",
           "ticks": "",
           "title": {
            "standoff": 15
           },
           "zerolinecolor": "white",
           "zerolinewidth": 2
          }
         }
        },
        "title": {
         "font": {
          "color": "#4D5663"
         },
         "text": "Grades orgnize by periods of students that fail the course"
        },
        "xaxis": {
         "gridcolor": "#E1E5ED",
         "showgrid": true,
         "tickfont": {
          "color": "#4D5663"
         },
         "title": {
          "font": {
           "color": "#4D5663"
          },
          "text": ""
         },
         "zerolinecolor": "#E1E5ED"
        },
        "yaxis": {
         "gridcolor": "#E1E5ED",
         "showgrid": true,
         "tickfont": {
          "color": "#4D5663"
         },
         "title": {
          "font": {
           "color": "#4D5663"
          },
          "text": ""
         },
         "zerolinecolor": "#E1E5ED"
        }
       }
      },
      "text/html": [
       "<div>\n",
       "        \n",
       "        \n",
       "            <div id=\"c3e9cb47-6285-4f2e-93bb-dd0afdec9f5a\" class=\"plotly-graph-div\" style=\"height:525px; width:100%;\"></div>\n",
       "            <script type=\"text/javascript\">\n",
       "                require([\"plotly\"], function(Plotly) {\n",
       "                    window.PLOTLYENV=window.PLOTLYENV || {};\n",
       "                    window.PLOTLYENV.BASE_URL='https://plot.ly';\n",
       "                    \n",
       "                if (document.getElementById(\"c3e9cb47-6285-4f2e-93bb-dd0afdec9f5a\")) {\n",
       "                    Plotly.newPlot(\n",
       "                        'c3e9cb47-6285-4f2e-93bb-dd0afdec9f5a',\n",
       "                        [{\"boxpoints\": false, \"line\": {\"width\": 1.3}, \"marker\": {\"color\": \"rgba(255, 153, 51, 1.0)\"}, \"name\": \"CI 1\", \"orientation\": \"v\", \"type\": \"box\", \"y\": [0.0, 3.0, 2.9, 3.2, 0.0, 3.2, 3.8, 3.1, 0.0, 2.8, 2.7, 1.7, 3.6, 2.6]}, {\"boxpoints\": false, \"line\": {\"width\": 1.3}, \"marker\": {\"color\": \"rgba(55, 128, 191, 1.0)\"}, \"name\": \"DD 1\", \"orientation\": \"v\", \"type\": \"box\", \"y\": [3.0, 2.5, 2.38, 2.13, 3.0, 2.8, 2.38, 2.5, 2.25, 3.3, 2.0, 2.5, 2.0, 2.3]}, {\"boxpoints\": false, \"line\": {\"width\": 1.3}, \"marker\": {\"color\": \"rgba(50, 171, 96, 1.0)\"}, \"name\": \"EL 1\", \"orientation\": \"v\", \"type\": \"box\", \"y\": [3.2, 3.65, 3.57, 3.8, 3.2, 3.22, 3.36, 3.8, 3.0, 2.74, 3.2, 2.66, 2.7, 3.74]}, {\"boxpoints\": false, \"line\": {\"width\": 1.3}, \"marker\": {\"color\": \"rgba(128, 0, 128, 1.0)\"}, \"name\": \"PR 1\", \"orientation\": \"v\", \"type\": \"box\", \"y\": [2.7, 2.02, 3.3, 2.9, 2.72, 2.47, 3.2, 2.4, 2.55, 2.07, 2.13, 1.56, 1.71, 3.2]}, {\"boxpoints\": false, \"line\": {\"width\": 1.3}, \"marker\": {\"color\": \"rgba(219, 64, 82, 1.0)\"}, \"name\": \"CI 2\", \"orientation\": \"v\", \"type\": \"box\", \"y\": [0.0, 2.3, 2.6, 2.3, 0.0, 1.9, 2.4, 2.9, 0.0, 2.4, 2.5, 2.4, 0.0, 2.5]}, {\"boxpoints\": false, \"line\": {\"width\": 1.3}, \"marker\": {\"color\": \"rgba(0, 128, 128, 1.0)\"}, \"name\": \"DD 2\", \"orientation\": \"v\", \"type\": \"box\", \"y\": [0.0, 3.3, 3.4, 2.6, 0.0, 3.1, 3.3, 3.9, 2.8, 3.3, 3.1, 2.35, 3.1, 3.0]}, {\"boxpoints\": false, \"line\": {\"width\": 1.3}, \"marker\": {\"color\": \"rgba(255, 255, 51, 1.0)\"}, \"name\": \"EL 2\", \"orientation\": \"v\", \"type\": \"box\", \"y\": [4.45, 2.7, 2.49, 3.7, 2.3, 2.73, 2.44, 1.89, 2.5, 2.41, 3.0, 1.87, 1.5, 2.2]}, {\"boxpoints\": false, \"line\": {\"width\": 1.3}, \"marker\": {\"color\": \"rgba(128, 128, 0, 1.0)\"}, \"name\": \"PR 2\", \"orientation\": \"v\", \"type\": \"box\", \"y\": [3.9, 1.71, 2.2, 2.64, 2.17, 2.11, 1.91, 2.45, 2.6, 2.72, 3.1, 2.24, 2.4, 2.38]}, {\"boxpoints\": false, \"line\": {\"width\": 1.3}, \"marker\": {\"color\": \"rgba(251, 128, 114, 1.0)\"}, \"name\": \"CI 3\", \"orientation\": \"v\", \"type\": \"box\", \"y\": [0.0, 2.2, 3.0, 3.2, 0.0, 2.5, 3.2, 2.2, 4.5, 2.3, 2.8, 2.9, 3.2, 2.3]}, {\"boxpoints\": false, \"line\": {\"width\": 1.3}, \"marker\": {\"color\": \"rgba(128, 177, 211, 1.0)\"}, \"name\": \"DD 3\", \"orientation\": \"v\", \"type\": \"box\", \"y\": [3.57, 2.95, 3.0, 2.55, 3.8, 2.95, 2.15, 3.0, 2.7, 3.9, 3.6, 2.65, 1.68, 3.1]}, {\"boxpoints\": false, \"line\": {\"width\": 1.3}, \"marker\": {\"color\": \"rgba(128, 177, 211, 0.8999999999999999)\"}, \"name\": \"EL 3\", \"orientation\": \"v\", \"type\": \"box\", \"y\": [4.85, 1.93, 2.75, 3.0, 3.55, 2.34, 3.94, 2.7, 3.15, 2.7, 2.85, 3.15, 2.42, 3.32]}, {\"boxpoints\": false, \"line\": {\"width\": 1.3}, \"marker\": {\"color\": \"rgba(255, 153, 51, 0.8999999999999999)\"}, \"name\": \"PR3\", \"orientation\": \"v\", \"type\": \"box\", \"y\": [4.3, 2.87, 2.55, 2.75, 3.5, 2.87, 2.45, 3.55, 1.43, 2.42, 3.55, 2.85, 1.93, 3.4]}, {\"boxpoints\": false, \"line\": {\"width\": 1.3}, \"marker\": {\"color\": \"rgba(55, 128, 191, 0.8999999999999999)\"}, \"name\": \"CI 4\", \"orientation\": \"v\", \"type\": \"box\", \"y\": [0.0, 3.05, 3.2, 3.3, 0.0, 3.6, 2.9, 2.5, 3.6, 3.5, 2.98, 3.2, 3.1, 2.4]}, {\"boxpoints\": false, \"line\": {\"width\": 1.3}, \"marker\": {\"color\": \"rgba(50, 171, 96, 0.8999999999999999)\"}, \"name\": \"DD 4A\", \"orientation\": \"v\", \"type\": \"box\", \"y\": [1.9, 3.9, 2.1, 2.0, 0.0, 3.9, 2.8, 3.9, 3.1, 2.28, 1.7, 2.9, 3.5, 3.5]}, {\"boxpoints\": false, \"line\": {\"width\": 1.3}, \"marker\": {\"color\": \"rgba(128, 0, 128, 0.8999999999999999)\"}, \"name\": \"DD 4B\", \"orientation\": \"v\", \"type\": \"box\", \"y\": [3.95, 4.05, 4.3, 3.9, 4.25, 2.05, 4.25, 2.8, 3.65, 3.06, 3.45, 4.05, 3.01, 2.25]}, {\"boxpoints\": false, \"line\": {\"width\": 1.3}, \"marker\": {\"color\": \"rgba(219, 64, 82, 0.8999999999999999)\"}, \"name\": \"EL 4\", \"orientation\": \"v\", \"type\": \"box\", \"y\": [3.85, 3.32, 3.1, 3.45, 3.75, 3.32, 2.9, 3.15, 2.85, 3.15, 3.44, 2.85, 2.59, 2.07]}, {\"boxpoints\": false, \"line\": {\"width\": 1.3}, \"marker\": {\"color\": \"rgba(0, 128, 128, 0.8999999999999999)\"}, \"name\": \"PR4\", \"orientation\": \"v\", \"type\": \"box\", \"y\": [4.15, 3.0, 2.72, 3.0, 4.15, 4.15, 3.53, 4.3, 3.15, 4.0, 2.68, 4.3, 2.01, 2.47]}],\n",
       "                        {\"legend\": {\"bgcolor\": \"#F5F6F9\", \"font\": {\"color\": \"#4D5663\"}}, \"paper_bgcolor\": \"#F5F6F9\", \"plot_bgcolor\": \"#F5F6F9\", \"template\": {\"data\": {\"bar\": [{\"error_x\": {\"color\": \"#2a3f5f\"}, \"error_y\": {\"color\": \"#2a3f5f\"}, \"marker\": {\"line\": {\"color\": \"#E5ECF6\", \"width\": 0.5}}, \"type\": \"bar\"}], \"barpolar\": [{\"marker\": {\"line\": {\"color\": \"#E5ECF6\", \"width\": 0.5}}, \"type\": \"barpolar\"}], \"carpet\": [{\"aaxis\": {\"endlinecolor\": \"#2a3f5f\", \"gridcolor\": \"white\", \"linecolor\": \"white\", \"minorgridcolor\": \"white\", \"startlinecolor\": \"#2a3f5f\"}, \"baxis\": {\"endlinecolor\": \"#2a3f5f\", \"gridcolor\": \"white\", \"linecolor\": \"white\", \"minorgridcolor\": \"white\", \"startlinecolor\": \"#2a3f5f\"}, \"type\": \"carpet\"}], \"choropleth\": [{\"colorbar\": {\"outlinewidth\": 0, \"ticks\": \"\"}, \"type\": \"choropleth\"}], \"contour\": [{\"colorbar\": {\"outlinewidth\": 0, \"ticks\": \"\"}, \"colorscale\": [[0.0, \"#0d0887\"], [0.1111111111111111, \"#46039f\"], [0.2222222222222222, \"#7201a8\"], [0.3333333333333333, \"#9c179e\"], [0.4444444444444444, \"#bd3786\"], [0.5555555555555556, \"#d8576b\"], [0.6666666666666666, \"#ed7953\"], [0.7777777777777778, \"#fb9f3a\"], [0.8888888888888888, \"#fdca26\"], [1.0, \"#f0f921\"]], \"type\": \"contour\"}], \"contourcarpet\": [{\"colorbar\": {\"outlinewidth\": 0, \"ticks\": \"\"}, \"type\": \"contourcarpet\"}], \"heatmap\": [{\"colorbar\": {\"outlinewidth\": 0, \"ticks\": \"\"}, \"colorscale\": [[0.0, \"#0d0887\"], [0.1111111111111111, \"#46039f\"], [0.2222222222222222, \"#7201a8\"], [0.3333333333333333, \"#9c179e\"], [0.4444444444444444, \"#bd3786\"], [0.5555555555555556, \"#d8576b\"], [0.6666666666666666, \"#ed7953\"], [0.7777777777777778, \"#fb9f3a\"], [0.8888888888888888, \"#fdca26\"], [1.0, \"#f0f921\"]], \"type\": \"heatmap\"}], \"heatmapgl\": [{\"colorbar\": {\"outlinewidth\": 0, \"ticks\": \"\"}, \"colorscale\": [[0.0, \"#0d0887\"], [0.1111111111111111, \"#46039f\"], [0.2222222222222222, \"#7201a8\"], [0.3333333333333333, \"#9c179e\"], [0.4444444444444444, \"#bd3786\"], [0.5555555555555556, \"#d8576b\"], [0.6666666666666666, \"#ed7953\"], [0.7777777777777778, \"#fb9f3a\"], [0.8888888888888888, \"#fdca26\"], [1.0, \"#f0f921\"]], \"type\": \"heatmapgl\"}], \"histogram\": [{\"marker\": {\"colorbar\": {\"outlinewidth\": 0, \"ticks\": \"\"}}, \"type\": \"histogram\"}], \"histogram2d\": [{\"colorbar\": {\"outlinewidth\": 0, \"ticks\": \"\"}, \"colorscale\": [[0.0, \"#0d0887\"], [0.1111111111111111, \"#46039f\"], [0.2222222222222222, \"#7201a8\"], [0.3333333333333333, \"#9c179e\"], [0.4444444444444444, \"#bd3786\"], [0.5555555555555556, \"#d8576b\"], [0.6666666666666666, \"#ed7953\"], [0.7777777777777778, \"#fb9f3a\"], [0.8888888888888888, \"#fdca26\"], [1.0, \"#f0f921\"]], \"type\": \"histogram2d\"}], \"histogram2dcontour\": [{\"colorbar\": {\"outlinewidth\": 0, \"ticks\": \"\"}, \"colorscale\": [[0.0, \"#0d0887\"], [0.1111111111111111, \"#46039f\"], [0.2222222222222222, \"#7201a8\"], [0.3333333333333333, \"#9c179e\"], [0.4444444444444444, \"#bd3786\"], [0.5555555555555556, \"#d8576b\"], [0.6666666666666666, \"#ed7953\"], [0.7777777777777778, \"#fb9f3a\"], [0.8888888888888888, \"#fdca26\"], [1.0, \"#f0f921\"]], \"type\": \"histogram2dcontour\"}], \"mesh3d\": [{\"colorbar\": {\"outlinewidth\": 0, \"ticks\": \"\"}, \"type\": \"mesh3d\"}], \"parcoords\": [{\"line\": {\"colorbar\": {\"outlinewidth\": 0, \"ticks\": \"\"}}, \"type\": \"parcoords\"}], \"pie\": [{\"automargin\": true, \"type\": \"pie\"}], \"scatter\": [{\"marker\": {\"colorbar\": {\"outlinewidth\": 0, \"ticks\": \"\"}}, \"type\": \"scatter\"}], \"scatter3d\": [{\"line\": {\"colorbar\": {\"outlinewidth\": 0, \"ticks\": \"\"}}, \"marker\": {\"colorbar\": {\"outlinewidth\": 0, \"ticks\": \"\"}}, \"type\": \"scatter3d\"}], \"scattercarpet\": [{\"marker\": {\"colorbar\": {\"outlinewidth\": 0, \"ticks\": \"\"}}, \"type\": \"scattercarpet\"}], \"scattergeo\": [{\"marker\": {\"colorbar\": {\"outlinewidth\": 0, \"ticks\": \"\"}}, \"type\": \"scattergeo\"}], \"scattergl\": [{\"marker\": {\"colorbar\": {\"outlinewidth\": 0, \"ticks\": \"\"}}, \"type\": \"scattergl\"}], \"scattermapbox\": [{\"marker\": {\"colorbar\": {\"outlinewidth\": 0, \"ticks\": \"\"}}, \"type\": \"scattermapbox\"}], \"scatterpolar\": [{\"marker\": {\"colorbar\": {\"outlinewidth\": 0, \"ticks\": \"\"}}, \"type\": \"scatterpolar\"}], \"scatterpolargl\": [{\"marker\": {\"colorbar\": {\"outlinewidth\": 0, \"ticks\": \"\"}}, \"type\": \"scatterpolargl\"}], \"scatterternary\": [{\"marker\": {\"colorbar\": {\"outlinewidth\": 0, \"ticks\": \"\"}}, \"type\": \"scatterternary\"}], \"surface\": [{\"colorbar\": {\"outlinewidth\": 0, \"ticks\": \"\"}, \"colorscale\": [[0.0, \"#0d0887\"], [0.1111111111111111, \"#46039f\"], [0.2222222222222222, \"#7201a8\"], [0.3333333333333333, \"#9c179e\"], [0.4444444444444444, \"#bd3786\"], [0.5555555555555556, \"#d8576b\"], [0.6666666666666666, \"#ed7953\"], [0.7777777777777778, \"#fb9f3a\"], [0.8888888888888888, \"#fdca26\"], [1.0, \"#f0f921\"]], \"type\": \"surface\"}], \"table\": [{\"cells\": {\"fill\": {\"color\": \"#EBF0F8\"}, \"line\": {\"color\": \"white\"}}, \"header\": {\"fill\": {\"color\": \"#C8D4E3\"}, \"line\": {\"color\": \"white\"}}, \"type\": \"table\"}]}, \"layout\": {\"annotationdefaults\": {\"arrowcolor\": \"#2a3f5f\", \"arrowhead\": 0, \"arrowwidth\": 1}, \"coloraxis\": {\"colorbar\": {\"outlinewidth\": 0, \"ticks\": \"\"}}, \"colorscale\": {\"diverging\": [[0, \"#8e0152\"], [0.1, \"#c51b7d\"], [0.2, \"#de77ae\"], [0.3, \"#f1b6da\"], [0.4, \"#fde0ef\"], [0.5, \"#f7f7f7\"], [0.6, \"#e6f5d0\"], [0.7, \"#b8e186\"], [0.8, \"#7fbc41\"], [0.9, \"#4d9221\"], [1, \"#276419\"]], \"sequential\": [[0.0, \"#0d0887\"], [0.1111111111111111, \"#46039f\"], [0.2222222222222222, \"#7201a8\"], [0.3333333333333333, \"#9c179e\"], [0.4444444444444444, \"#bd3786\"], [0.5555555555555556, \"#d8576b\"], [0.6666666666666666, \"#ed7953\"], [0.7777777777777778, \"#fb9f3a\"], [0.8888888888888888, \"#fdca26\"], [1.0, \"#f0f921\"]], \"sequentialminus\": [[0.0, \"#0d0887\"], [0.1111111111111111, \"#46039f\"], [0.2222222222222222, \"#7201a8\"], [0.3333333333333333, \"#9c179e\"], [0.4444444444444444, \"#bd3786\"], [0.5555555555555556, \"#d8576b\"], [0.6666666666666666, \"#ed7953\"], [0.7777777777777778, \"#fb9f3a\"], [0.8888888888888888, \"#fdca26\"], [1.0, \"#f0f921\"]]}, \"colorway\": [\"#636efa\", \"#EF553B\", \"#00cc96\", \"#ab63fa\", \"#FFA15A\", \"#19d3f3\", \"#FF6692\", \"#B6E880\", \"#FF97FF\", \"#FECB52\"], \"font\": {\"color\": \"#2a3f5f\"}, \"geo\": {\"bgcolor\": \"white\", \"lakecolor\": \"white\", \"landcolor\": \"#E5ECF6\", \"showlakes\": true, \"showland\": true, \"subunitcolor\": \"white\"}, \"hoverlabel\": {\"align\": \"left\"}, \"hovermode\": \"closest\", \"mapbox\": {\"style\": \"light\"}, \"paper_bgcolor\": \"white\", \"plot_bgcolor\": \"#E5ECF6\", \"polar\": {\"angularaxis\": {\"gridcolor\": \"white\", \"linecolor\": \"white\", \"ticks\": \"\"}, \"bgcolor\": \"#E5ECF6\", \"radialaxis\": {\"gridcolor\": \"white\", \"linecolor\": \"white\", \"ticks\": \"\"}}, \"scene\": {\"xaxis\": {\"backgroundcolor\": \"#E5ECF6\", \"gridcolor\": \"white\", \"gridwidth\": 2, \"linecolor\": \"white\", \"showbackground\": true, \"ticks\": \"\", \"zerolinecolor\": \"white\"}, \"yaxis\": {\"backgroundcolor\": \"#E5ECF6\", \"gridcolor\": \"white\", \"gridwidth\": 2, \"linecolor\": \"white\", \"showbackground\": true, \"ticks\": \"\", \"zerolinecolor\": \"white\"}, \"zaxis\": {\"backgroundcolor\": \"#E5ECF6\", \"gridcolor\": \"white\", \"gridwidth\": 2, \"linecolor\": \"white\", \"showbackground\": true, \"ticks\": \"\", \"zerolinecolor\": \"white\"}}, \"shapedefaults\": {\"line\": {\"color\": \"#2a3f5f\"}}, \"ternary\": {\"aaxis\": {\"gridcolor\": \"white\", \"linecolor\": \"white\", \"ticks\": \"\"}, \"baxis\": {\"gridcolor\": \"white\", \"linecolor\": \"white\", \"ticks\": \"\"}, \"bgcolor\": \"#E5ECF6\", \"caxis\": {\"gridcolor\": \"white\", \"linecolor\": \"white\", \"ticks\": \"\"}}, \"title\": {\"x\": 0.05}, \"xaxis\": {\"automargin\": true, \"gridcolor\": \"white\", \"linecolor\": \"white\", \"ticks\": \"\", \"title\": {\"standoff\": 15}, \"zerolinecolor\": \"white\", \"zerolinewidth\": 2}, \"yaxis\": {\"automargin\": true, \"gridcolor\": \"white\", \"linecolor\": \"white\", \"ticks\": \"\", \"title\": {\"standoff\": 15}, \"zerolinecolor\": \"white\", \"zerolinewidth\": 2}}}, \"title\": {\"font\": {\"color\": \"#4D5663\"}, \"text\": \"Grades orgnize by periods of students that fail the course\"}, \"xaxis\": {\"gridcolor\": \"#E1E5ED\", \"showgrid\": true, \"tickfont\": {\"color\": \"#4D5663\"}, \"title\": {\"font\": {\"color\": \"#4D5663\"}, \"text\": \"\"}, \"zerolinecolor\": \"#E1E5ED\"}, \"yaxis\": {\"gridcolor\": \"#E1E5ED\", \"showgrid\": true, \"tickfont\": {\"color\": \"#4D5663\"}, \"title\": {\"font\": {\"color\": \"#4D5663\"}, \"text\": \"\"}, \"zerolinecolor\": \"#E1E5ED\"}},\n",
       "                        {\"showLink\": true, \"linkText\": \"Export to plot.ly\", \"plotlyServerURL\": \"https://plot.ly\", \"responsive\": true}\n",
       "                    ).then(function(){\n",
       "                            \n",
       "var gd = document.getElementById('c3e9cb47-6285-4f2e-93bb-dd0afdec9f5a');\n",
       "var x = new MutationObserver(function (mutations, observer) {{\n",
       "        var display = window.getComputedStyle(gd).display;\n",
       "        if (!display || display === 'none') {{\n",
       "            console.log([gd, 'removed!']);\n",
       "            Plotly.purge(gd);\n",
       "            observer.disconnect();\n",
       "        }}\n",
       "}});\n",
       "\n",
       "// Listen for the removal of the full notebook cells\n",
       "var notebookContainer = gd.closest('#notebook-container');\n",
       "if (notebookContainer) {{\n",
       "    x.observe(notebookContainer, {childList: true});\n",
       "}}\n",
       "\n",
       "// Listen for the clearing of the current output cell\n",
       "var outputEl = gd.closest('.output');\n",
       "if (outputEl) {{\n",
       "    x.observe(outputEl, {childList: true});\n",
       "}}\n",
       "\n",
       "                        })\n",
       "                };\n",
       "                });\n",
       "            </script>\n",
       "        </div>"
      ]
     },
     "metadata": {},
     "output_type": "display_data"
    }
   ],
   "source": [
    "fail_students_complete[['CI 1','DD 1','EL 1','PR 1','CI 2','DD 2','EL 2','PR 2','CI 3','DD 3','EL 3','PR3','CI 4','DD 4A','DD 4B','EL 4','PR4']].iplot(kind='box', title='Grades orgnize by periods of students that fail the course')"
   ]
  },
  {
   "cell_type": "code",
   "execution_count": 96,
   "metadata": {},
   "outputs": [
    {
     "data": {
      "application/vnd.plotly.v1+json": {
       "config": {
        "linkText": "Export to plot.ly",
        "plotlyServerURL": "https://plot.ly",
        "showLink": true
       },
       "data": [
        {
         "boxpoints": false,
         "line": {
          "width": 1.3
         },
         "marker": {
          "color": "rgba(255, 153, 51, 1.0)"
         },
         "name": "CI 1",
         "orientation": "v",
         "type": "box",
         "y": [
          3.4,
          4.1,
          3.9,
          3.5,
          4.1,
          3,
          3.2,
          3,
          3.8,
          3.2,
          2.9,
          2.6,
          4.3,
          4,
          2.8,
          3.2,
          4.7,
          3.5,
          2.7,
          3,
          3.9,
          3.4,
          3.4,
          3.3,
          3.6,
          2.8,
          3.7,
          2.6,
          3.7,
          4,
          4.1,
          3.2,
          3.1,
          3.9,
          3.5,
          3.7,
          4.1,
          3.8,
          3.7,
          3.7,
          2.5,
          4.6,
          3.7,
          3.9,
          3.6,
          4.3,
          3.1,
          1.3,
          2.1,
          3.2,
          4.1,
          2.8,
          0,
          3.2,
          4.1,
          3.8,
          4,
          3.4,
          3.9,
          3.6,
          3.1,
          3.6,
          3.4,
          3.4,
          3.7,
          3.5,
          3.5,
          2.3,
          3.9,
          4,
          4.2,
          3.4,
          3,
          3.9,
          2.6,
          3.5,
          3.4,
          3.1,
          4.1,
          3.5,
          2.4,
          3.1,
          4.1,
          3.9,
          3.5,
          4.1,
          3.6
         ]
        },
        {
         "boxpoints": false,
         "line": {
          "width": 1.3
         },
         "marker": {
          "color": "rgba(55, 128, 191, 1.0)"
         },
         "name": "DD 1",
         "orientation": "v",
         "type": "box",
         "y": [
          3,
          2.3,
          3.3,
          3.5,
          3,
          2.63,
          3.3,
          2.38,
          3.8,
          2.8,
          2.8,
          3.03,
          3,
          2.2,
          3.5,
          3,
          3.3,
          3,
          2.4,
          3.3,
          2.53,
          2.8,
          2.3,
          2.78,
          3,
          2.9,
          2.03,
          2.6,
          3.5,
          2.5,
          2.7,
          2.8,
          2.35,
          1.8,
          3,
          3,
          3,
          2.2,
          3,
          2.5,
          3.3,
          2.78,
          2.8,
          2.5,
          3.03,
          3,
          3,
          2.5,
          2.5,
          2.8,
          3.7,
          2.5,
          2.3,
          2,
          3.9,
          2.3,
          2.2,
          2.48,
          3.2,
          3.28,
          2.5,
          2.8,
          3.5,
          2.5,
          2.25,
          2.1,
          3.3,
          1.8,
          3.1,
          2.7,
          3,
          2.3,
          2.3,
          3,
          2,
          2.8,
          2.25,
          2.5,
          3.3,
          2.8,
          2.63,
          2.3,
          2,
          3.3,
          2.6,
          2.7,
          3.8
         ]
        },
        {
         "boxpoints": false,
         "line": {
          "width": 1.3
         },
         "marker": {
          "color": "rgba(50, 171, 96, 1.0)"
         },
         "name": "EL 1",
         "orientation": "v",
         "type": "box",
         "y": [
          3.4,
          2.6,
          4,
          3.6,
          4.2,
          4.8,
          4.8,
          4.2,
          3.2,
          3.6,
          2.4,
          4.6,
          3.4,
          3.2,
          4,
          3.2,
          4,
          3.6,
          3.2,
          3.8,
          4.8,
          4,
          4,
          3.2,
          4,
          4.2,
          3.6,
          2.28,
          3.91,
          4.2,
          4.6,
          4.4,
          4.4,
          4.2,
          3.2,
          2.72,
          2.6,
          3.8,
          4,
          4.6,
          4.8,
          4.2,
          2.6,
          3.8,
          4,
          3.4,
          3.2,
          3.4,
          4,
          3.2,
          3.8,
          3.4,
          4.8,
          3.4,
          2.6,
          4.4,
          1.82,
          4,
          3.8,
          3.2,
          4,
          3.6,
          4.2,
          4,
          3.2,
          4.2,
          3.4,
          2.89,
          2.6,
          2.6,
          4.2,
          3.8,
          4,
          3.8,
          3.2,
          3.4,
          3.2,
          3.6,
          3.6,
          4,
          3.2,
          4.8,
          3.8,
          4,
          2.4,
          3.2,
          3.8
         ]
        },
        {
         "boxpoints": false,
         "line": {
          "width": 1.3
         },
         "marker": {
          "color": "rgba(128, 0, 128, 1.0)"
         },
         "name": "PR 1",
         "orientation": "v",
         "type": "box",
         "y": [
          3,
          3.5,
          2.9,
          2.98,
          3.2,
          3.23,
          3,
          3,
          3.33,
          3.5,
          2.4,
          2.4,
          2.9,
          3.2,
          2.7,
          2.7,
          2.5,
          2.4,
          2.9,
          3.2,
          3.1,
          2.9,
          2.5,
          3.1,
          3.2,
          3.3,
          3.3,
          3,
          2.55,
          3.2,
          3.2,
          2.9,
          3.3,
          2.55,
          3.3,
          3.3,
          3.5,
          3.2,
          3.8,
          2.7,
          2.7,
          3.3,
          2.5,
          2.9,
          2.9,
          2.7,
          2.9,
          2.7,
          3.1,
          3,
          2.9,
          3,
          2.7,
          2.23,
          3.2,
          3,
          3.3,
          3.2,
          3,
          3.2,
          2.7,
          3.2,
          3,
          3.3,
          3.3,
          3.2,
          3.1,
          3.1,
          2.7,
          3.5,
          3.13,
          2.24,
          3.3,
          3.5,
          2.7,
          3.5,
          3.2,
          3.8,
          3.5,
          2.98,
          3.3,
          3.1,
          3.2,
          3,
          2.7,
          3.3,
          2.4
         ]
        },
        {
         "boxpoints": false,
         "line": {
          "width": 1.3
         },
         "marker": {
          "color": "rgba(219, 64, 82, 1.0)"
         },
         "name": "CI 2",
         "orientation": "v",
         "type": "box",
         "y": [
          2.7,
          3.2,
          3.1,
          3.1,
          3.7,
          2.6,
          3.5,
          3,
          4.4,
          2.9,
          2.6,
          2.5,
          3.6,
          3.2,
          0,
          0,
          0,
          2.9,
          3.1,
          3,
          2.6,
          3.2,
          2.4,
          3.4,
          4,
          3.4,
          3.5,
          3,
          2.7,
          3.8,
          3.9,
          2.4,
          3,
          2.6,
          3.1,
          2.7,
          3,
          2.7,
          4.3,
          2.9,
          4,
          4.1,
          3.5,
          3.3,
          3.6,
          2.9,
          3.7,
          3.8,
          3,
          2.5,
          4.1,
          3.5,
          2.8,
          2.9,
          3.7,
          3.7,
          3,
          3.2,
          3.8,
          4,
          2.6,
          3.4,
          3,
          3.2,
          3.3,
          3.1,
          3,
          2,
          3.1,
          3.1,
          4,
          2.8,
          2.1,
          3.9,
          2.3,
          3.2,
          2.3,
          3.2,
          3.8,
          3.3,
          2.7,
          2.5,
          2.8,
          3.1,
          2.9,
          3.9,
          2.8
         ]
        },
        {
         "boxpoints": false,
         "line": {
          "width": 1.3
         },
         "marker": {
          "color": "rgba(0, 128, 128, 1.0)"
         },
         "name": "DD 2",
         "orientation": "v",
         "type": "box",
         "y": [
          4.2,
          3.5,
          3.1,
          4,
          4.2,
          2.55,
          2.5,
          3,
          4.2,
          3.5,
          2.6,
          3.2,
          3.5,
          3.8,
          2.3,
          3.5,
          3.5,
          3.2,
          2.8,
          4.4,
          4.5,
          4.3,
          3.4,
          4.5,
          4.2,
          4.2,
          3.3,
          3.5,
          3.9,
          3.2,
          3.3,
          3.6,
          3.4,
          4.1,
          3.4,
          3.9,
          3.5,
          3.5,
          4.1,
          3,
          2.9,
          3.4,
          3.5,
          2.8,
          3.3,
          3.1,
          4.8,
          4.3,
          4,
          3.4,
          4.2,
          3.6,
          3.2,
          3.9,
          4.3,
          3.7,
          4.1,
          3.5,
          3.7,
          4.1,
          2.5,
          3.9,
          4.5,
          4.2,
          3,
          3.3,
          3.5,
          4.5,
          3.6,
          2.7,
          3.35,
          3.4,
          3.5,
          4,
          3.9,
          4.4,
          4,
          4,
          3.4,
          3.2,
          3,
          3.7,
          4.5,
          4.1,
          2.9,
          4.1,
          3.2
         ]
        },
        {
         "boxpoints": false,
         "line": {
          "width": 1.3
         },
         "marker": {
          "color": "rgba(255, 255, 51, 1.0)"
         },
         "name": "EL 2",
         "orientation": "v",
         "type": "box",
         "y": [
          2.7,
          4.5,
          3.44,
          4.35,
          2.7,
          2.2,
          2.3,
          2.7,
          4.45,
          2.4,
          2.9,
          3.5,
          3.15,
          2.5,
          3,
          3,
          2.83,
          4.35,
          2.85,
          3.7,
          2.3,
          3.65,
          3.1,
          4.45,
          4.5,
          3.85,
          2.4,
          2.47,
          3.5,
          3.55,
          3.5,
          3.35,
          2.2,
          3.55,
          3,
          3,
          4.35,
          3.7,
          2.42,
          3.5,
          2.3,
          3.85,
          4.35,
          3.35,
          2.68,
          3.5,
          3,
          2.7,
          3,
          3,
          3.35,
          3.5,
          2.2,
          3.5,
          4.35,
          2.2,
          2.39,
          3.65,
          2.7,
          2.5,
          3.65,
          4.35,
          3.85,
          3,
          2.59,
          2.7,
          2.7,
          3.5,
          4.5,
          4.5,
          3.85,
          2.7,
          3,
          3.35,
          4.45,
          3.15,
          2.3,
          2.4,
          4.35,
          2.68,
          2.7,
          2.3,
          3.7,
          4.5,
          2.9,
          3,
          3.35
         ]
        },
        {
         "boxpoints": false,
         "line": {
          "width": 1.3
         },
         "marker": {
          "color": "rgba(128, 128, 0, 1.0)"
         },
         "name": "PR 2",
         "orientation": "v",
         "type": "box",
         "y": [
          4.4,
          3.5,
          3.1,
          2.9,
          3.5,
          3.5,
          3.9,
          3.2,
          4.4,
          3,
          2.89,
          2.63,
          4.1,
          3.3,
          4.4,
          3.1,
          3,
          3.3,
          3.1,
          3.2,
          3.5,
          3.1,
          4.1,
          3.4,
          3.2,
          3.52,
          3,
          3.2,
          3.8,
          3.2,
          2.9,
          2.38,
          3.3,
          3.5,
          3.1,
          3.1,
          3.2,
          4,
          3.2,
          3.3,
          3.4,
          3.4,
          3.5,
          1.66,
          3.5,
          2.4,
          3.1,
          3.5,
          3.4,
          2.64,
          3.3,
          3.4,
          2.1,
          3.4,
          4.1,
          4,
          2.98,
          3.1,
          3.5,
          3.1,
          3,
          3.5,
          3.4,
          3.9,
          4,
          2.8,
          3.7,
          4.4,
          2.9,
          3.3,
          3.4,
          3.5,
          2.4,
          3.8,
          3.7,
          3,
          2.45,
          3.1,
          2.89,
          3,
          3.2,
          3.5,
          3.1,
          3.5,
          3.8,
          3.5,
          3.8
         ]
        },
        {
         "boxpoints": false,
         "line": {
          "width": 1.3
         },
         "marker": {
          "color": "rgba(251, 128, 114, 1.0)"
         },
         "name": "CI 3",
         "orientation": "v",
         "type": "box",
         "y": [
          3.6,
          4.2,
          3.2,
          4.3,
          3.6,
          2.4,
          4.8,
          3.1,
          4,
          3.8,
          3.9,
          3.4,
          3.6,
          3.9,
          3.3,
          4,
          3.7,
          3.7,
          2.8,
          2.4,
          2.7,
          2.5,
          3,
          3.1,
          3.3,
          4,
          3.6,
          2.9,
          4.1,
          3.4,
          2.7,
          4,
          4.2,
          3.3,
          4,
          3.8,
          3.4,
          3.7,
          4.1,
          3.7,
          3.4,
          3.7,
          3.5,
          3.4,
          3.3,
          3.5,
          2.7,
          2.9,
          2.6,
          3.7,
          4.7,
          2.1,
          3.3,
          2.7,
          3.6,
          2.5,
          3,
          3.7,
          4.1,
          4.3,
          3.2,
          3.7,
          3.2,
          2.8,
          2.7,
          4.7,
          4.2,
          3.3,
          2.3,
          3.1,
          4.4,
          2.9,
          3.4,
          3.4,
          3.7,
          3.4,
          3.4,
          3.7,
          3.9,
          2.2,
          3.5,
          3.6,
          3.7,
          4.2,
          3,
          4.3,
          3.2
         ]
        },
        {
         "boxpoints": false,
         "line": {
          "width": 1.3
         },
         "marker": {
          "color": "rgba(128, 177, 211, 1.0)"
         },
         "name": "DD 3",
         "orientation": "v",
         "type": "box",
         "y": [
          3.55,
          3.25,
          3.7,
          2.7,
          3,
          3.3,
          2.95,
          3.4,
          3.5,
          3.55,
          3.32,
          3.5,
          3.5,
          3.15,
          4.2,
          3.7,
          3.4,
          2.4,
          3.4,
          3.25,
          3.6,
          3.65,
          2.76,
          4,
          3.65,
          2.64,
          3.3,
          3.55,
          3.7,
          3.5,
          3.3,
          2.7,
          3.7,
          3.7,
          3.5,
          3.5,
          3.55,
          3.1,
          3.25,
          3.8,
          3.25,
          3,
          3.5,
          3.55,
          4,
          3.1,
          3.65,
          3.25,
          3.33,
          3.5,
          3.8,
          2.55,
          3.25,
          3.3,
          3,
          3.8,
          2.66,
          4.2,
          3.9,
          3.7,
          3.6,
          2.7,
          3.25,
          2.65,
          2.4,
          3.9,
          2.65,
          2.98,
          3.9,
          3.25,
          3.5,
          3.25,
          3.4,
          3.65,
          2.4,
          3.1,
          4,
          4.2,
          3.25,
          3.32,
          3.9,
          3.7,
          3.6,
          3.1,
          2.98,
          3.5,
          3.55
         ]
        },
        {
         "boxpoints": false,
         "line": {
          "width": 1.3
         },
         "marker": {
          "color": "rgba(128, 177, 211, 0.8999999999999999)"
         },
         "name": "EL 3",
         "orientation": "v",
         "type": "box",
         "y": [
          4.85,
          3.8,
          3.55,
          3.7,
          3.55,
          3.9,
          4.85,
          2.8,
          2.8,
          3.7,
          4.15,
          3.65,
          2.9,
          3.15,
          4.85,
          3.05,
          4.2,
          2.85,
          2.8,
          3.55,
          3.5,
          3.75,
          3.55,
          4.55,
          3.9,
          3.9,
          4.6,
          3.9,
          3.7,
          2.3,
          3.8,
          3.15,
          3.7,
          3.55,
          4.55,
          3.65,
          2.75,
          3.8,
          3.8,
          3,
          4.45,
          2.3,
          4.6,
          3.8,
          3.5,
          1.82,
          2.75,
          2.9,
          3.75,
          3.5,
          2.85,
          3.53,
          3.55,
          4.6,
          2.3,
          2.95,
          3.15,
          3.55,
          3.55,
          3.9,
          3.1,
          3.9,
          3.55,
          3.9,
          3,
          3.55,
          4.85,
          2.7,
          3,
          3.55,
          2.8,
          2.9,
          4.6,
          3.8,
          3,
          4.2,
          2.9,
          3.9,
          4.45,
          2.95,
          2.75,
          3.55,
          2.9,
          3.55,
          2.85,
          2.8,
          2.31
         ]
        },
        {
         "boxpoints": false,
         "line": {
          "width": 1.3
         },
         "marker": {
          "color": "rgba(255, 153, 51, 0.8999999999999999)"
         },
         "name": "PR3",
         "orientation": "v",
         "type": "box",
         "y": [
          3.55,
          3.2,
          3.2,
          2.85,
          3.55,
          3.5,
          3.55,
          3.3,
          4.1,
          3.55,
          2.85,
          3.05,
          3.05,
          2.72,
          4.3,
          3.2,
          3.3,
          2.75,
          3.3,
          3.3,
          3.55,
          4.1,
          2.04,
          2.95,
          4.1,
          3.37,
          3.5,
          2.95,
          3.2,
          2.85,
          3.5,
          2.85,
          3.2,
          3.2,
          3.95,
          3.05,
          2.95,
          3.4,
          3.2,
          3.5,
          2.4,
          3.55,
          4.1,
          2.95,
          2.95,
          2.4,
          4.1,
          2.4,
          4.1,
          3.05,
          3.5,
          2.42,
          3.2,
          3.5,
          3.55,
          3.5,
          3.02,
          4.3,
          2.85,
          3.2,
          3.55,
          2.85,
          3.2,
          2.85,
          2.75,
          2.45,
          2.85,
          2.85,
          2.45,
          2.4,
          3.95,
          3.3,
          2.81,
          4.1,
          2.75,
          3.4,
          2.95,
          4.3,
          3.3,
          2.42,
          2.45,
          3.2,
          3.55,
          3.55,
          2.85,
          3.95,
          2.95
         ]
        },
        {
         "boxpoints": false,
         "line": {
          "width": 1.3
         },
         "marker": {
          "color": "rgba(55, 128, 191, 0.8999999999999999)"
         },
         "name": "CI 4",
         "orientation": "v",
         "type": "box",
         "y": [
          4,
          4,
          3.7,
          3.4,
          3.8,
          3.2,
          3.8,
          3.2,
          3.6,
          4,
          3.2,
          3.3,
          3.3,
          3.1,
          3.8,
          3.2,
          3,
          3.1,
          3,
          3.1,
          3.1,
          3.4,
          3.9,
          3.1,
          0,
          3.4,
          3.2,
          2.8,
          3.7,
          3.8,
          4.1,
          2.9,
          3.4,
          3.4,
          3.4,
          3.3,
          3.8,
          4.1,
          2.9,
          3.2,
          3.1,
          3.5,
          2.8,
          3.3,
          3.8,
          3.8,
          3,
          3.6,
          3.1,
          3.4,
          4.4,
          3.7,
          3.8,
          3.6,
          3.8,
          3.1,
          3.9,
          0,
          3.4,
          2.9,
          3,
          3.9,
          3.8,
          3.5,
          3.4,
          3.1,
          3.7,
          3.1,
          3.3,
          3.4,
          3.6,
          3.2,
          3.5,
          4,
          3.6,
          3.6,
          3.3,
          3.3,
          3.5,
          3.4,
          3.2,
          3.7,
          3.1,
          4.3,
          3.6,
          3.1,
          3.5
         ]
        },
        {
         "boxpoints": false,
         "line": {
          "width": 1.3
         },
         "marker": {
          "color": "rgba(50, 171, 96, 0.8999999999999999)"
         },
         "name": "DD 4A",
         "orientation": "v",
         "type": "box",
         "y": [
          3.7,
          4.3,
          4.3,
          2.5,
          2.9,
          3.3,
          4.6,
          3.7,
          2.9,
          1.3,
          1.4,
          4.6,
          4.6,
          1.4,
          3.1,
          2,
          4.3,
          2.9,
          3.2,
          3.5,
          3.4,
          4.3,
          1.8,
          4.3,
          3.5,
          3.1,
          1.7,
          2.1,
          3.6,
          3.5,
          4.7,
          4.2,
          2,
          2,
          3,
          3.9,
          2.9,
          4,
          1.4,
          2.33,
          2.8,
          3.2,
          2.2,
          2.9,
          4.6,
          4.7,
          4.3,
          3.9,
          3.3,
          3.7,
          4.6,
          4.3,
          3.4,
          2.1,
          3.8,
          3.7,
          2.5,
          4.3,
          4.2,
          3.9,
          3.9,
          3.9,
          3.7,
          1.7,
          2.5,
          0,
          4.3,
          1.8,
          4.4,
          3.1,
          1.7,
          3.9,
          3.6,
          4.6,
          2.68,
          4.1,
          4.6,
          4.3,
          4.4,
          1.9,
          1.8,
          1.8,
          4.3,
          3.6,
          4.3,
          3.1,
          3.1
         ]
        },
        {
         "boxpoints": false,
         "line": {
          "width": 1.3
         },
         "marker": {
          "color": "rgba(128, 0, 128, 0.8999999999999999)"
         },
         "name": "DD 4B",
         "orientation": "v",
         "type": "box",
         "y": [
          4.05,
          3.2,
          4.05,
          4.05,
          4.25,
          1.85,
          4.4,
          3.44,
          2.05,
          3.95,
          3.6,
          4.1,
          3.55,
          3.25,
          3.65,
          4.05,
          1.85,
          3.9,
          3.55,
          3.2,
          3.55,
          2.05,
          3.49,
          3.45,
          2.25,
          3.1,
          2.49,
          4.05,
          3.95,
          3.95,
          3.55,
          3.95,
          4.05,
          3.25,
          3.55,
          3.35,
          2.05,
          3.55,
          3.02,
          2.4,
          4.1,
          3.95,
          3.55,
          1.2,
          4.1,
          1.78,
          4.05,
          2.42,
          2.25,
          3.2,
          3.6,
          4.25,
          3.35,
          3.65,
          2.8,
          3.6,
          4.05,
          4.05,
          2.8,
          3.25,
          3.2,
          4.18,
          4.1,
          3.65,
          3.95,
          2.36,
          3.95,
          1.8,
          3.95,
          3.23,
          3.35,
          4.1,
          3.55,
          3.65,
          4.3,
          3.65,
          3.8,
          4.4,
          3.45,
          3.9,
          3.9,
          3.75,
          3.8,
          3.95,
          2.4,
          4.1,
          1.58
         ]
        },
        {
         "boxpoints": false,
         "line": {
          "width": 1.3
         },
         "marker": {
          "color": "rgba(219, 64, 82, 0.8999999999999999)"
         },
         "name": "EL 4",
         "orientation": "v",
         "type": "box",
         "y": [
          3.85,
          4.05,
          3.3,
          3.05,
          3.75,
          2.51,
          3.85,
          4.1,
          4.1,
          3.05,
          2.9,
          3.5,
          3.3,
          2.85,
          3.85,
          3.05,
          3.5,
          3.45,
          4.1,
          3.3,
          3.75,
          3.45,
          2.72,
          3.25,
          2.95,
          2.75,
          3.5,
          2.95,
          3.05,
          3.75,
          4.05,
          2.85,
          3.05,
          2.72,
          3.25,
          3.5,
          3.9,
          4.05,
          4.05,
          4,
          4.05,
          3.75,
          3.5,
          4.05,
          3.75,
          3.38,
          3.9,
          3.3,
          3.45,
          3.75,
          3.05,
          2.76,
          3.3,
          3.5,
          3.75,
          4.15,
          2.85,
          3.3,
          3.75,
          2.75,
          1.75,
          2.75,
          3.3,
          2.75,
          4,
          3.75,
          3.85,
          3.15,
          3.28,
          3.3,
          3.7,
          3.3,
          3.5,
          4.05,
          4,
          3.5,
          3.3,
          2.75,
          4.05,
          4.15,
          3.1,
          3.3,
          3.3,
          3.3,
          3.05,
          3.7,
          4.1
         ]
        },
        {
         "boxpoints": false,
         "line": {
          "width": 1.3
         },
         "marker": {
          "color": "rgba(0, 128, 128, 0.8999999999999999)"
         },
         "name": "PR4",
         "orientation": "v",
         "type": "box",
         "y": [
          4.3,
          3.75,
          3.66,
          2.9,
          4.15,
          3.15,
          3.6,
          3,
          4.15,
          3.6,
          4,
          3.85,
          3,
          2.45,
          3.15,
          2.9,
          3.15,
          3,
          3,
          3.75,
          3,
          4.15,
          3.85,
          3.15,
          2.9,
          2.68,
          2.55,
          3,
          3.6,
          3,
          3.45,
          4.15,
          4.3,
          2.45,
          3,
          3.6,
          4.15,
          3.45,
          3,
          2.6,
          3.85,
          3,
          3,
          2.36,
          3.85,
          2.08,
          3,
          2.21,
          2.9,
          3.75,
          4,
          4.15,
          3.6,
          3.85,
          4.3,
          4,
          2.9,
          2.9,
          4.3,
          2.45,
          3.19,
          3.42,
          3.85,
          3.15,
          3,
          2.56,
          4.15,
          2.21,
          2.55,
          4,
          3.6,
          3.85,
          3.45,
          3.85,
          2.72,
          3.85,
          3.8,
          3.6,
          3.15,
          3,
          3,
          3.6,
          4,
          4.15,
          2.6,
          3.85,
          2.03
         ]
        }
       ],
       "layout": {
        "legend": {
         "bgcolor": "#F5F6F9",
         "font": {
          "color": "#4D5663"
         }
        },
        "paper_bgcolor": "#F5F6F9",
        "plot_bgcolor": "#F5F6F9",
        "template": {
         "data": {
          "bar": [
           {
            "error_x": {
             "color": "#2a3f5f"
            },
            "error_y": {
             "color": "#2a3f5f"
            },
            "marker": {
             "line": {
              "color": "#E5ECF6",
              "width": 0.5
             }
            },
            "type": "bar"
           }
          ],
          "barpolar": [
           {
            "marker": {
             "line": {
              "color": "#E5ECF6",
              "width": 0.5
             }
            },
            "type": "barpolar"
           }
          ],
          "carpet": [
           {
            "aaxis": {
             "endlinecolor": "#2a3f5f",
             "gridcolor": "white",
             "linecolor": "white",
             "minorgridcolor": "white",
             "startlinecolor": "#2a3f5f"
            },
            "baxis": {
             "endlinecolor": "#2a3f5f",
             "gridcolor": "white",
             "linecolor": "white",
             "minorgridcolor": "white",
             "startlinecolor": "#2a3f5f"
            },
            "type": "carpet"
           }
          ],
          "choropleth": [
           {
            "colorbar": {
             "outlinewidth": 0,
             "ticks": ""
            },
            "type": "choropleth"
           }
          ],
          "contour": [
           {
            "colorbar": {
             "outlinewidth": 0,
             "ticks": ""
            },
            "colorscale": [
             [
              0,
              "#0d0887"
             ],
             [
              0.1111111111111111,
              "#46039f"
             ],
             [
              0.2222222222222222,
              "#7201a8"
             ],
             [
              0.3333333333333333,
              "#9c179e"
             ],
             [
              0.4444444444444444,
              "#bd3786"
             ],
             [
              0.5555555555555556,
              "#d8576b"
             ],
             [
              0.6666666666666666,
              "#ed7953"
             ],
             [
              0.7777777777777778,
              "#fb9f3a"
             ],
             [
              0.8888888888888888,
              "#fdca26"
             ],
             [
              1,
              "#f0f921"
             ]
            ],
            "type": "contour"
           }
          ],
          "contourcarpet": [
           {
            "colorbar": {
             "outlinewidth": 0,
             "ticks": ""
            },
            "type": "contourcarpet"
           }
          ],
          "heatmap": [
           {
            "colorbar": {
             "outlinewidth": 0,
             "ticks": ""
            },
            "colorscale": [
             [
              0,
              "#0d0887"
             ],
             [
              0.1111111111111111,
              "#46039f"
             ],
             [
              0.2222222222222222,
              "#7201a8"
             ],
             [
              0.3333333333333333,
              "#9c179e"
             ],
             [
              0.4444444444444444,
              "#bd3786"
             ],
             [
              0.5555555555555556,
              "#d8576b"
             ],
             [
              0.6666666666666666,
              "#ed7953"
             ],
             [
              0.7777777777777778,
              "#fb9f3a"
             ],
             [
              0.8888888888888888,
              "#fdca26"
             ],
             [
              1,
              "#f0f921"
             ]
            ],
            "type": "heatmap"
           }
          ],
          "heatmapgl": [
           {
            "colorbar": {
             "outlinewidth": 0,
             "ticks": ""
            },
            "colorscale": [
             [
              0,
              "#0d0887"
             ],
             [
              0.1111111111111111,
              "#46039f"
             ],
             [
              0.2222222222222222,
              "#7201a8"
             ],
             [
              0.3333333333333333,
              "#9c179e"
             ],
             [
              0.4444444444444444,
              "#bd3786"
             ],
             [
              0.5555555555555556,
              "#d8576b"
             ],
             [
              0.6666666666666666,
              "#ed7953"
             ],
             [
              0.7777777777777778,
              "#fb9f3a"
             ],
             [
              0.8888888888888888,
              "#fdca26"
             ],
             [
              1,
              "#f0f921"
             ]
            ],
            "type": "heatmapgl"
           }
          ],
          "histogram": [
           {
            "marker": {
             "colorbar": {
              "outlinewidth": 0,
              "ticks": ""
             }
            },
            "type": "histogram"
           }
          ],
          "histogram2d": [
           {
            "colorbar": {
             "outlinewidth": 0,
             "ticks": ""
            },
            "colorscale": [
             [
              0,
              "#0d0887"
             ],
             [
              0.1111111111111111,
              "#46039f"
             ],
             [
              0.2222222222222222,
              "#7201a8"
             ],
             [
              0.3333333333333333,
              "#9c179e"
             ],
             [
              0.4444444444444444,
              "#bd3786"
             ],
             [
              0.5555555555555556,
              "#d8576b"
             ],
             [
              0.6666666666666666,
              "#ed7953"
             ],
             [
              0.7777777777777778,
              "#fb9f3a"
             ],
             [
              0.8888888888888888,
              "#fdca26"
             ],
             [
              1,
              "#f0f921"
             ]
            ],
            "type": "histogram2d"
           }
          ],
          "histogram2dcontour": [
           {
            "colorbar": {
             "outlinewidth": 0,
             "ticks": ""
            },
            "colorscale": [
             [
              0,
              "#0d0887"
             ],
             [
              0.1111111111111111,
              "#46039f"
             ],
             [
              0.2222222222222222,
              "#7201a8"
             ],
             [
              0.3333333333333333,
              "#9c179e"
             ],
             [
              0.4444444444444444,
              "#bd3786"
             ],
             [
              0.5555555555555556,
              "#d8576b"
             ],
             [
              0.6666666666666666,
              "#ed7953"
             ],
             [
              0.7777777777777778,
              "#fb9f3a"
             ],
             [
              0.8888888888888888,
              "#fdca26"
             ],
             [
              1,
              "#f0f921"
             ]
            ],
            "type": "histogram2dcontour"
           }
          ],
          "mesh3d": [
           {
            "colorbar": {
             "outlinewidth": 0,
             "ticks": ""
            },
            "type": "mesh3d"
           }
          ],
          "parcoords": [
           {
            "line": {
             "colorbar": {
              "outlinewidth": 0,
              "ticks": ""
             }
            },
            "type": "parcoords"
           }
          ],
          "pie": [
           {
            "automargin": true,
            "type": "pie"
           }
          ],
          "scatter": [
           {
            "marker": {
             "colorbar": {
              "outlinewidth": 0,
              "ticks": ""
             }
            },
            "type": "scatter"
           }
          ],
          "scatter3d": [
           {
            "line": {
             "colorbar": {
              "outlinewidth": 0,
              "ticks": ""
             }
            },
            "marker": {
             "colorbar": {
              "outlinewidth": 0,
              "ticks": ""
             }
            },
            "type": "scatter3d"
           }
          ],
          "scattercarpet": [
           {
            "marker": {
             "colorbar": {
              "outlinewidth": 0,
              "ticks": ""
             }
            },
            "type": "scattercarpet"
           }
          ],
          "scattergeo": [
           {
            "marker": {
             "colorbar": {
              "outlinewidth": 0,
              "ticks": ""
             }
            },
            "type": "scattergeo"
           }
          ],
          "scattergl": [
           {
            "marker": {
             "colorbar": {
              "outlinewidth": 0,
              "ticks": ""
             }
            },
            "type": "scattergl"
           }
          ],
          "scattermapbox": [
           {
            "marker": {
             "colorbar": {
              "outlinewidth": 0,
              "ticks": ""
             }
            },
            "type": "scattermapbox"
           }
          ],
          "scatterpolar": [
           {
            "marker": {
             "colorbar": {
              "outlinewidth": 0,
              "ticks": ""
             }
            },
            "type": "scatterpolar"
           }
          ],
          "scatterpolargl": [
           {
            "marker": {
             "colorbar": {
              "outlinewidth": 0,
              "ticks": ""
             }
            },
            "type": "scatterpolargl"
           }
          ],
          "scatterternary": [
           {
            "marker": {
             "colorbar": {
              "outlinewidth": 0,
              "ticks": ""
             }
            },
            "type": "scatterternary"
           }
          ],
          "surface": [
           {
            "colorbar": {
             "outlinewidth": 0,
             "ticks": ""
            },
            "colorscale": [
             [
              0,
              "#0d0887"
             ],
             [
              0.1111111111111111,
              "#46039f"
             ],
             [
              0.2222222222222222,
              "#7201a8"
             ],
             [
              0.3333333333333333,
              "#9c179e"
             ],
             [
              0.4444444444444444,
              "#bd3786"
             ],
             [
              0.5555555555555556,
              "#d8576b"
             ],
             [
              0.6666666666666666,
              "#ed7953"
             ],
             [
              0.7777777777777778,
              "#fb9f3a"
             ],
             [
              0.8888888888888888,
              "#fdca26"
             ],
             [
              1,
              "#f0f921"
             ]
            ],
            "type": "surface"
           }
          ],
          "table": [
           {
            "cells": {
             "fill": {
              "color": "#EBF0F8"
             },
             "line": {
              "color": "white"
             }
            },
            "header": {
             "fill": {
              "color": "#C8D4E3"
             },
             "line": {
              "color": "white"
             }
            },
            "type": "table"
           }
          ]
         },
         "layout": {
          "annotationdefaults": {
           "arrowcolor": "#2a3f5f",
           "arrowhead": 0,
           "arrowwidth": 1
          },
          "coloraxis": {
           "colorbar": {
            "outlinewidth": 0,
            "ticks": ""
           }
          },
          "colorscale": {
           "diverging": [
            [
             0,
             "#8e0152"
            ],
            [
             0.1,
             "#c51b7d"
            ],
            [
             0.2,
             "#de77ae"
            ],
            [
             0.3,
             "#f1b6da"
            ],
            [
             0.4,
             "#fde0ef"
            ],
            [
             0.5,
             "#f7f7f7"
            ],
            [
             0.6,
             "#e6f5d0"
            ],
            [
             0.7,
             "#b8e186"
            ],
            [
             0.8,
             "#7fbc41"
            ],
            [
             0.9,
             "#4d9221"
            ],
            [
             1,
             "#276419"
            ]
           ],
           "sequential": [
            [
             0,
             "#0d0887"
            ],
            [
             0.1111111111111111,
             "#46039f"
            ],
            [
             0.2222222222222222,
             "#7201a8"
            ],
            [
             0.3333333333333333,
             "#9c179e"
            ],
            [
             0.4444444444444444,
             "#bd3786"
            ],
            [
             0.5555555555555556,
             "#d8576b"
            ],
            [
             0.6666666666666666,
             "#ed7953"
            ],
            [
             0.7777777777777778,
             "#fb9f3a"
            ],
            [
             0.8888888888888888,
             "#fdca26"
            ],
            [
             1,
             "#f0f921"
            ]
           ],
           "sequentialminus": [
            [
             0,
             "#0d0887"
            ],
            [
             0.1111111111111111,
             "#46039f"
            ],
            [
             0.2222222222222222,
             "#7201a8"
            ],
            [
             0.3333333333333333,
             "#9c179e"
            ],
            [
             0.4444444444444444,
             "#bd3786"
            ],
            [
             0.5555555555555556,
             "#d8576b"
            ],
            [
             0.6666666666666666,
             "#ed7953"
            ],
            [
             0.7777777777777778,
             "#fb9f3a"
            ],
            [
             0.8888888888888888,
             "#fdca26"
            ],
            [
             1,
             "#f0f921"
            ]
           ]
          },
          "colorway": [
           "#636efa",
           "#EF553B",
           "#00cc96",
           "#ab63fa",
           "#FFA15A",
           "#19d3f3",
           "#FF6692",
           "#B6E880",
           "#FF97FF",
           "#FECB52"
          ],
          "font": {
           "color": "#2a3f5f"
          },
          "geo": {
           "bgcolor": "white",
           "lakecolor": "white",
           "landcolor": "#E5ECF6",
           "showlakes": true,
           "showland": true,
           "subunitcolor": "white"
          },
          "hoverlabel": {
           "align": "left"
          },
          "hovermode": "closest",
          "mapbox": {
           "style": "light"
          },
          "paper_bgcolor": "white",
          "plot_bgcolor": "#E5ECF6",
          "polar": {
           "angularaxis": {
            "gridcolor": "white",
            "linecolor": "white",
            "ticks": ""
           },
           "bgcolor": "#E5ECF6",
           "radialaxis": {
            "gridcolor": "white",
            "linecolor": "white",
            "ticks": ""
           }
          },
          "scene": {
           "xaxis": {
            "backgroundcolor": "#E5ECF6",
            "gridcolor": "white",
            "gridwidth": 2,
            "linecolor": "white",
            "showbackground": true,
            "ticks": "",
            "zerolinecolor": "white"
           },
           "yaxis": {
            "backgroundcolor": "#E5ECF6",
            "gridcolor": "white",
            "gridwidth": 2,
            "linecolor": "white",
            "showbackground": true,
            "ticks": "",
            "zerolinecolor": "white"
           },
           "zaxis": {
            "backgroundcolor": "#E5ECF6",
            "gridcolor": "white",
            "gridwidth": 2,
            "linecolor": "white",
            "showbackground": true,
            "ticks": "",
            "zerolinecolor": "white"
           }
          },
          "shapedefaults": {
           "line": {
            "color": "#2a3f5f"
           }
          },
          "ternary": {
           "aaxis": {
            "gridcolor": "white",
            "linecolor": "white",
            "ticks": ""
           },
           "baxis": {
            "gridcolor": "white",
            "linecolor": "white",
            "ticks": ""
           },
           "bgcolor": "#E5ECF6",
           "caxis": {
            "gridcolor": "white",
            "linecolor": "white",
            "ticks": ""
           }
          },
          "title": {
           "x": 0.05
          },
          "xaxis": {
           "automargin": true,
           "gridcolor": "white",
           "linecolor": "white",
           "ticks": "",
           "title": {
            "standoff": 15
           },
           "zerolinecolor": "white",
           "zerolinewidth": 2
          },
          "yaxis": {
           "automargin": true,
           "gridcolor": "white",
           "linecolor": "white",
           "ticks": "",
           "title": {
            "standoff": 15
           },
           "zerolinecolor": "white",
           "zerolinewidth": 2
          }
         }
        },
        "title": {
         "font": {
          "color": "#4D5663"
         },
         "text": "Grades orgnize by periods of students that pass the course"
        },
        "xaxis": {
         "gridcolor": "#E1E5ED",
         "showgrid": true,
         "tickfont": {
          "color": "#4D5663"
         },
         "title": {
          "font": {
           "color": "#4D5663"
          },
          "text": ""
         },
         "zerolinecolor": "#E1E5ED"
        },
        "yaxis": {
         "gridcolor": "#E1E5ED",
         "showgrid": true,
         "tickfont": {
          "color": "#4D5663"
         },
         "title": {
          "font": {
           "color": "#4D5663"
          },
          "text": ""
         },
         "zerolinecolor": "#E1E5ED"
        }
       }
      },
      "text/html": [
       "<div>\n",
       "        \n",
       "        \n",
       "            <div id=\"11d655e5-fbdf-4cf5-81fc-7f5d6203019b\" class=\"plotly-graph-div\" style=\"height:525px; width:100%;\"></div>\n",
       "            <script type=\"text/javascript\">\n",
       "                require([\"plotly\"], function(Plotly) {\n",
       "                    window.PLOTLYENV=window.PLOTLYENV || {};\n",
       "                    window.PLOTLYENV.BASE_URL='https://plot.ly';\n",
       "                    \n",
       "                if (document.getElementById(\"11d655e5-fbdf-4cf5-81fc-7f5d6203019b\")) {\n",
       "                    Plotly.newPlot(\n",
       "                        '11d655e5-fbdf-4cf5-81fc-7f5d6203019b',\n",
       "                        [{\"boxpoints\": false, \"line\": {\"width\": 1.3}, \"marker\": {\"color\": \"rgba(255, 153, 51, 1.0)\"}, \"name\": \"CI 1\", \"orientation\": \"v\", \"type\": \"box\", \"y\": [3.4, 4.1, 3.9, 3.5, 4.1, 3.0, 3.2, 3.0, 3.8, 3.2, 2.9, 2.6, 4.3, 4.0, 2.8, 3.2, 4.7, 3.5, 2.7, 3.0, 3.9, 3.4, 3.4, 3.3, 3.6, 2.8, 3.7, 2.6, 3.7, 4.0, 4.1, 3.2, 3.1, 3.9, 3.5, 3.7, 4.1, 3.8, 3.7, 3.7, 2.5, 4.6, 3.7, 3.9, 3.6, 4.3, 3.1, 1.3, 2.1, 3.2, 4.1, 2.8, 0.0, 3.2, 4.1, 3.8, 4.0, 3.4, 3.9, 3.6, 3.1, 3.6, 3.4, 3.4, 3.7, 3.5, 3.5, 2.3, 3.9, 4.0, 4.2, 3.4, 3.0, 3.9, 2.6, 3.5, 3.4, 3.1, 4.1, 3.5, 2.4, 3.1, 4.1, 3.9, 3.5, 4.1, 3.6]}, {\"boxpoints\": false, \"line\": {\"width\": 1.3}, \"marker\": {\"color\": \"rgba(55, 128, 191, 1.0)\"}, \"name\": \"DD 1\", \"orientation\": \"v\", \"type\": \"box\", \"y\": [3.0, 2.3, 3.3, 3.5, 3.0, 2.63, 3.3, 2.38, 3.8, 2.8, 2.8, 3.03, 3.0, 2.2, 3.5, 3.0, 3.3, 3.0, 2.4, 3.3, 2.53, 2.8, 2.3, 2.78, 3.0, 2.9, 2.03, 2.6, 3.5, 2.5, 2.7, 2.8, 2.35, 1.8, 3.0, 3.0, 3.0, 2.2, 3.0, 2.5, 3.3, 2.78, 2.8, 2.5, 3.03, 3.0, 3.0, 2.5, 2.5, 2.8, 3.7, 2.5, 2.3, 2.0, 3.9, 2.3, 2.2, 2.48, 3.2, 3.28, 2.5, 2.8, 3.5, 2.5, 2.25, 2.1, 3.3, 1.8, 3.1, 2.7, 3.0, 2.3, 2.3, 3.0, 2.0, 2.8, 2.25, 2.5, 3.3, 2.8, 2.63, 2.3, 2.0, 3.3, 2.6, 2.7, 3.8]}, {\"boxpoints\": false, \"line\": {\"width\": 1.3}, \"marker\": {\"color\": \"rgba(50, 171, 96, 1.0)\"}, \"name\": \"EL 1\", \"orientation\": \"v\", \"type\": \"box\", \"y\": [3.4, 2.6, 4.0, 3.6, 4.2, 4.8, 4.8, 4.2, 3.2, 3.6, 2.4, 4.6, 3.4, 3.2, 4.0, 3.2, 4.0, 3.6, 3.2, 3.8, 4.8, 4.0, 4.0, 3.2, 4.0, 4.2, 3.6, 2.28, 3.91, 4.2, 4.6, 4.4, 4.4, 4.2, 3.2, 2.72, 2.6, 3.8, 4.0, 4.6, 4.8, 4.2, 2.6, 3.8, 4.0, 3.4, 3.2, 3.4, 4.0, 3.2, 3.8, 3.4, 4.8, 3.4, 2.6, 4.4, 1.82, 4.0, 3.8, 3.2, 4.0, 3.6, 4.2, 4.0, 3.2, 4.2, 3.4, 2.89, 2.6, 2.6, 4.2, 3.8, 4.0, 3.8, 3.2, 3.4, 3.2, 3.6, 3.6, 4.0, 3.2, 4.8, 3.8, 4.0, 2.4, 3.2, 3.8]}, {\"boxpoints\": false, \"line\": {\"width\": 1.3}, \"marker\": {\"color\": \"rgba(128, 0, 128, 1.0)\"}, \"name\": \"PR 1\", \"orientation\": \"v\", \"type\": \"box\", \"y\": [3.0, 3.5, 2.9, 2.98, 3.2, 3.23, 3.0, 3.0, 3.33, 3.5, 2.4, 2.4, 2.9, 3.2, 2.7, 2.7, 2.5, 2.4, 2.9, 3.2, 3.1, 2.9, 2.5, 3.1, 3.2, 3.3, 3.3, 3.0, 2.55, 3.2, 3.2, 2.9, 3.3, 2.55, 3.3, 3.3, 3.5, 3.2, 3.8, 2.7, 2.7, 3.3, 2.5, 2.9, 2.9, 2.7, 2.9, 2.7, 3.1, 3.0, 2.9, 3.0, 2.7, 2.23, 3.2, 3.0, 3.3, 3.2, 3.0, 3.2, 2.7, 3.2, 3.0, 3.3, 3.3, 3.2, 3.1, 3.1, 2.7, 3.5, 3.13, 2.24, 3.3, 3.5, 2.7, 3.5, 3.2, 3.8, 3.5, 2.98, 3.3, 3.1, 3.2, 3.0, 2.7, 3.3, 2.4]}, {\"boxpoints\": false, \"line\": {\"width\": 1.3}, \"marker\": {\"color\": \"rgba(219, 64, 82, 1.0)\"}, \"name\": \"CI 2\", \"orientation\": \"v\", \"type\": \"box\", \"y\": [2.7, 3.2, 3.1, 3.1, 3.7, 2.6, 3.5, 3.0, 4.4, 2.9, 2.6, 2.5, 3.6, 3.2, 0.0, 0.0, 0.0, 2.9, 3.1, 3.0, 2.6, 3.2, 2.4, 3.4, 4.0, 3.4, 3.5, 3.0, 2.7, 3.8, 3.9, 2.4, 3.0, 2.6, 3.1, 2.7, 3.0, 2.7, 4.3, 2.9, 4.0, 4.1, 3.5, 3.3, 3.6, 2.9, 3.7, 3.8, 3.0, 2.5, 4.1, 3.5, 2.8, 2.9, 3.7, 3.7, 3.0, 3.2, 3.8, 4.0, 2.6, 3.4, 3.0, 3.2, 3.3, 3.1, 3.0, 2.0, 3.1, 3.1, 4.0, 2.8, 2.1, 3.9, 2.3, 3.2, 2.3, 3.2, 3.8, 3.3, 2.7, 2.5, 2.8, 3.1, 2.9, 3.9, 2.8]}, {\"boxpoints\": false, \"line\": {\"width\": 1.3}, \"marker\": {\"color\": \"rgba(0, 128, 128, 1.0)\"}, \"name\": \"DD 2\", \"orientation\": \"v\", \"type\": \"box\", \"y\": [4.2, 3.5, 3.1, 4.0, 4.2, 2.55, 2.5, 3.0, 4.2, 3.5, 2.6, 3.2, 3.5, 3.8, 2.3, 3.5, 3.5, 3.2, 2.8, 4.4, 4.5, 4.3, 3.4, 4.5, 4.2, 4.2, 3.3, 3.5, 3.9, 3.2, 3.3, 3.6, 3.4, 4.1, 3.4, 3.9, 3.5, 3.5, 4.1, 3.0, 2.9, 3.4, 3.5, 2.8, 3.3, 3.1, 4.8, 4.3, 4.0, 3.4, 4.2, 3.6, 3.2, 3.9, 4.3, 3.7, 4.1, 3.5, 3.7, 4.1, 2.5, 3.9, 4.5, 4.2, 3.0, 3.3, 3.5, 4.5, 3.6, 2.7, 3.35, 3.4, 3.5, 4.0, 3.9, 4.4, 4.0, 4.0, 3.4, 3.2, 3.0, 3.7, 4.5, 4.1, 2.9, 4.1, 3.2]}, {\"boxpoints\": false, \"line\": {\"width\": 1.3}, \"marker\": {\"color\": \"rgba(255, 255, 51, 1.0)\"}, \"name\": \"EL 2\", \"orientation\": \"v\", \"type\": \"box\", \"y\": [2.7, 4.5, 3.44, 4.35, 2.7, 2.2, 2.3, 2.7, 4.45, 2.4, 2.9, 3.5, 3.15, 2.5, 3.0, 3.0, 2.83, 4.35, 2.85, 3.7, 2.3, 3.65, 3.1, 4.45, 4.5, 3.85, 2.4, 2.47, 3.5, 3.55, 3.5, 3.35, 2.2, 3.55, 3.0, 3.0, 4.35, 3.7, 2.42, 3.5, 2.3, 3.85, 4.35, 3.35, 2.68, 3.5, 3.0, 2.7, 3.0, 3.0, 3.35, 3.5, 2.2, 3.5, 4.35, 2.2, 2.39, 3.65, 2.7, 2.5, 3.65, 4.35, 3.85, 3.0, 2.59, 2.7, 2.7, 3.5, 4.5, 4.5, 3.85, 2.7, 3.0, 3.35, 4.45, 3.15, 2.3, 2.4, 4.35, 2.68, 2.7, 2.3, 3.7, 4.5, 2.9, 3.0, 3.35]}, {\"boxpoints\": false, \"line\": {\"width\": 1.3}, \"marker\": {\"color\": \"rgba(128, 128, 0, 1.0)\"}, \"name\": \"PR 2\", \"orientation\": \"v\", \"type\": \"box\", \"y\": [4.4, 3.5, 3.1, 2.9, 3.5, 3.5, 3.9, 3.2, 4.4, 3.0, 2.89, 2.63, 4.1, 3.3, 4.4, 3.1, 3.0, 3.3, 3.1, 3.2, 3.5, 3.1, 4.1, 3.4, 3.2, 3.52, 3.0, 3.2, 3.8, 3.2, 2.9, 2.38, 3.3, 3.5, 3.1, 3.1, 3.2, 4.0, 3.2, 3.3, 3.4, 3.4, 3.5, 1.66, 3.5, 2.4, 3.1, 3.5, 3.4, 2.64, 3.3, 3.4, 2.1, 3.4, 4.1, 4.0, 2.98, 3.1, 3.5, 3.1, 3.0, 3.5, 3.4, 3.9, 4.0, 2.8, 3.7, 4.4, 2.9, 3.3, 3.4, 3.5, 2.4, 3.8, 3.7, 3.0, 2.45, 3.1, 2.89, 3.0, 3.2, 3.5, 3.1, 3.5, 3.8, 3.5, 3.8]}, {\"boxpoints\": false, \"line\": {\"width\": 1.3}, \"marker\": {\"color\": \"rgba(251, 128, 114, 1.0)\"}, \"name\": \"CI 3\", \"orientation\": \"v\", \"type\": \"box\", \"y\": [3.6, 4.2, 3.2, 4.3, 3.6, 2.4, 4.8, 3.1, 4.0, 3.8, 3.9, 3.4, 3.6, 3.9, 3.3, 4.0, 3.7, 3.7, 2.8, 2.4, 2.7, 2.5, 3.0, 3.1, 3.3, 4.0, 3.6, 2.9, 4.1, 3.4, 2.7, 4.0, 4.2, 3.3, 4.0, 3.8, 3.4, 3.7, 4.1, 3.7, 3.4, 3.7, 3.5, 3.4, 3.3, 3.5, 2.7, 2.9, 2.6, 3.7, 4.7, 2.1, 3.3, 2.7, 3.6, 2.5, 3.0, 3.7, 4.1, 4.3, 3.2, 3.7, 3.2, 2.8, 2.7, 4.7, 4.2, 3.3, 2.3, 3.1, 4.4, 2.9, 3.4, 3.4, 3.7, 3.4, 3.4, 3.7, 3.9, 2.2, 3.5, 3.6, 3.7, 4.2, 3.0, 4.3, 3.2]}, {\"boxpoints\": false, \"line\": {\"width\": 1.3}, \"marker\": {\"color\": \"rgba(128, 177, 211, 1.0)\"}, \"name\": \"DD 3\", \"orientation\": \"v\", \"type\": \"box\", \"y\": [3.55, 3.25, 3.7, 2.7, 3.0, 3.3, 2.95, 3.4, 3.5, 3.55, 3.32, 3.5, 3.5, 3.15, 4.2, 3.7, 3.4, 2.4, 3.4, 3.25, 3.6, 3.65, 2.76, 4.0, 3.65, 2.64, 3.3, 3.55, 3.7, 3.5, 3.3, 2.7, 3.7, 3.7, 3.5, 3.5, 3.55, 3.1, 3.25, 3.8, 3.25, 3.0, 3.5, 3.55, 4.0, 3.1, 3.65, 3.25, 3.33, 3.5, 3.8, 2.55, 3.25, 3.3, 3.0, 3.8, 2.66, 4.2, 3.9, 3.7, 3.6, 2.7, 3.25, 2.65, 2.4, 3.9, 2.65, 2.98, 3.9, 3.25, 3.5, 3.25, 3.4, 3.65, 2.4, 3.1, 4.0, 4.2, 3.25, 3.32, 3.9, 3.7, 3.6, 3.1, 2.98, 3.5, 3.55]}, {\"boxpoints\": false, \"line\": {\"width\": 1.3}, \"marker\": {\"color\": \"rgba(128, 177, 211, 0.8999999999999999)\"}, \"name\": \"EL 3\", \"orientation\": \"v\", \"type\": \"box\", \"y\": [4.85, 3.8, 3.55, 3.7, 3.55, 3.9, 4.85, 2.8, 2.8, 3.7, 4.15, 3.65, 2.9, 3.15, 4.85, 3.05, 4.2, 2.85, 2.8, 3.55, 3.5, 3.75, 3.55, 4.55, 3.9, 3.9, 4.6, 3.9, 3.7, 2.3, 3.8, 3.15, 3.7, 3.55, 4.55, 3.65, 2.75, 3.8, 3.8, 3.0, 4.45, 2.3, 4.6, 3.8, 3.5, 1.82, 2.75, 2.9, 3.75, 3.5, 2.85, 3.53, 3.55, 4.6, 2.3, 2.95, 3.15, 3.55, 3.55, 3.9, 3.1, 3.9, 3.55, 3.9, 3.0, 3.55, 4.85, 2.7, 3.0, 3.55, 2.8, 2.9, 4.6, 3.8, 3.0, 4.2, 2.9, 3.9, 4.45, 2.95, 2.75, 3.55, 2.9, 3.55, 2.85, 2.8, 2.31]}, {\"boxpoints\": false, \"line\": {\"width\": 1.3}, \"marker\": {\"color\": \"rgba(255, 153, 51, 0.8999999999999999)\"}, \"name\": \"PR3\", \"orientation\": \"v\", \"type\": \"box\", \"y\": [3.55, 3.2, 3.2, 2.85, 3.55, 3.5, 3.55, 3.3, 4.1, 3.55, 2.85, 3.05, 3.05, 2.72, 4.3, 3.2, 3.3, 2.75, 3.3, 3.3, 3.55, 4.1, 2.04, 2.95, 4.1, 3.37, 3.5, 2.95, 3.2, 2.85, 3.5, 2.85, 3.2, 3.2, 3.95, 3.05, 2.95, 3.4, 3.2, 3.5, 2.4, 3.55, 4.1, 2.95, 2.95, 2.4, 4.1, 2.4, 4.1, 3.05, 3.5, 2.42, 3.2, 3.5, 3.55, 3.5, 3.02, 4.3, 2.85, 3.2, 3.55, 2.85, 3.2, 2.85, 2.75, 2.45, 2.85, 2.85, 2.45, 2.4, 3.95, 3.3, 2.81, 4.1, 2.75, 3.4, 2.95, 4.3, 3.3, 2.42, 2.45, 3.2, 3.55, 3.55, 2.85, 3.95, 2.95]}, {\"boxpoints\": false, \"line\": {\"width\": 1.3}, \"marker\": {\"color\": \"rgba(55, 128, 191, 0.8999999999999999)\"}, \"name\": \"CI 4\", \"orientation\": \"v\", \"type\": \"box\", \"y\": [4.0, 4.0, 3.7, 3.4, 3.8, 3.2, 3.8, 3.2, 3.6, 4.0, 3.2, 3.3, 3.3, 3.1, 3.8, 3.2, 3.0, 3.1, 3.0, 3.1, 3.1, 3.4, 3.9, 3.1, 0.0, 3.4, 3.2, 2.8, 3.7, 3.8, 4.1, 2.9, 3.4, 3.4, 3.4, 3.3, 3.8, 4.1, 2.9, 3.2, 3.1, 3.5, 2.8, 3.3, 3.8, 3.8, 3.0, 3.6, 3.1, 3.4, 4.4, 3.7, 3.8, 3.6, 3.8, 3.1, 3.9, 0.0, 3.4, 2.9, 3.0, 3.9, 3.8, 3.5, 3.4, 3.1, 3.7, 3.1, 3.3, 3.4, 3.6, 3.2, 3.5, 4.0, 3.6, 3.6, 3.3, 3.3, 3.5, 3.4, 3.2, 3.7, 3.1, 4.3, 3.6, 3.1, 3.5]}, {\"boxpoints\": false, \"line\": {\"width\": 1.3}, \"marker\": {\"color\": \"rgba(50, 171, 96, 0.8999999999999999)\"}, \"name\": \"DD 4A\", \"orientation\": \"v\", \"type\": \"box\", \"y\": [3.7, 4.3, 4.3, 2.5, 2.9, 3.3, 4.6, 3.7, 2.9, 1.3, 1.4, 4.6, 4.6, 1.4, 3.1, 2.0, 4.3, 2.9, 3.2, 3.5, 3.4, 4.3, 1.8, 4.3, 3.5, 3.1, 1.7, 2.1, 3.6, 3.5, 4.7, 4.2, 2.0, 2.0, 3.0, 3.9, 2.9, 4.0, 1.4, 2.33, 2.8, 3.2, 2.2, 2.9, 4.6, 4.7, 4.3, 3.9, 3.3, 3.7, 4.6, 4.3, 3.4, 2.1, 3.8, 3.7, 2.5, 4.3, 4.2, 3.9, 3.9, 3.9, 3.7, 1.7, 2.5, 0.0, 4.3, 1.8, 4.4, 3.1, 1.7, 3.9, 3.6, 4.6, 2.68, 4.1, 4.6, 4.3, 4.4, 1.9, 1.8, 1.8, 4.3, 3.6, 4.3, 3.1, 3.1]}, {\"boxpoints\": false, \"line\": {\"width\": 1.3}, \"marker\": {\"color\": \"rgba(128, 0, 128, 0.8999999999999999)\"}, \"name\": \"DD 4B\", \"orientation\": \"v\", \"type\": \"box\", \"y\": [4.05, 3.2, 4.05, 4.05, 4.25, 1.85, 4.4, 3.44, 2.05, 3.95, 3.6, 4.1, 3.55, 3.25, 3.65, 4.05, 1.85, 3.9, 3.55, 3.2, 3.55, 2.05, 3.49, 3.45, 2.25, 3.1, 2.49, 4.05, 3.95, 3.95, 3.55, 3.95, 4.05, 3.25, 3.55, 3.35, 2.05, 3.55, 3.02, 2.4, 4.1, 3.95, 3.55, 1.2, 4.1, 1.78, 4.05, 2.42, 2.25, 3.2, 3.6, 4.25, 3.35, 3.65, 2.8, 3.6, 4.05, 4.05, 2.8, 3.25, 3.2, 4.18, 4.1, 3.65, 3.95, 2.36, 3.95, 1.8, 3.95, 3.23, 3.35, 4.1, 3.55, 3.65, 4.3, 3.65, 3.8, 4.4, 3.45, 3.9, 3.9, 3.75, 3.8, 3.95, 2.4, 4.1, 1.58]}, {\"boxpoints\": false, \"line\": {\"width\": 1.3}, \"marker\": {\"color\": \"rgba(219, 64, 82, 0.8999999999999999)\"}, \"name\": \"EL 4\", \"orientation\": \"v\", \"type\": \"box\", \"y\": [3.85, 4.05, 3.3, 3.05, 3.75, 2.51, 3.85, 4.1, 4.1, 3.05, 2.9, 3.5, 3.3, 2.85, 3.85, 3.05, 3.5, 3.45, 4.1, 3.3, 3.75, 3.45, 2.72, 3.25, 2.95, 2.75, 3.5, 2.95, 3.05, 3.75, 4.05, 2.85, 3.05, 2.72, 3.25, 3.5, 3.9, 4.05, 4.05, 4.0, 4.05, 3.75, 3.5, 4.05, 3.75, 3.38, 3.9, 3.3, 3.45, 3.75, 3.05, 2.76, 3.3, 3.5, 3.75, 4.15, 2.85, 3.3, 3.75, 2.75, 1.75, 2.75, 3.3, 2.75, 4.0, 3.75, 3.85, 3.15, 3.28, 3.3, 3.7, 3.3, 3.5, 4.05, 4.0, 3.5, 3.3, 2.75, 4.05, 4.15, 3.1, 3.3, 3.3, 3.3, 3.05, 3.7, 4.1]}, {\"boxpoints\": false, \"line\": {\"width\": 1.3}, \"marker\": {\"color\": \"rgba(0, 128, 128, 0.8999999999999999)\"}, \"name\": \"PR4\", \"orientation\": \"v\", \"type\": \"box\", \"y\": [4.3, 3.75, 3.66, 2.9, 4.15, 3.15, 3.6, 3.0, 4.15, 3.6, 4.0, 3.85, 3.0, 2.45, 3.15, 2.9, 3.15, 3.0, 3.0, 3.75, 3.0, 4.15, 3.85, 3.15, 2.9, 2.68, 2.55, 3.0, 3.6, 3.0, 3.45, 4.15, 4.3, 2.45, 3.0, 3.6, 4.15, 3.45, 3.0, 2.6, 3.85, 3.0, 3.0, 2.36, 3.85, 2.08, 3.0, 2.21, 2.9, 3.75, 4.0, 4.15, 3.6, 3.85, 4.3, 4.0, 2.9, 2.9, 4.3, 2.45, 3.19, 3.42, 3.85, 3.15, 3.0, 2.56, 4.15, 2.21, 2.55, 4.0, 3.6, 3.85, 3.45, 3.85, 2.72, 3.85, 3.8, 3.6, 3.15, 3.0, 3.0, 3.6, 4.0, 4.15, 2.6, 3.85, 2.03]}],\n",
       "                        {\"legend\": {\"bgcolor\": \"#F5F6F9\", \"font\": {\"color\": \"#4D5663\"}}, \"paper_bgcolor\": \"#F5F6F9\", \"plot_bgcolor\": \"#F5F6F9\", \"template\": {\"data\": {\"bar\": [{\"error_x\": {\"color\": \"#2a3f5f\"}, \"error_y\": {\"color\": \"#2a3f5f\"}, \"marker\": {\"line\": {\"color\": \"#E5ECF6\", \"width\": 0.5}}, \"type\": \"bar\"}], \"barpolar\": [{\"marker\": {\"line\": {\"color\": \"#E5ECF6\", \"width\": 0.5}}, \"type\": \"barpolar\"}], \"carpet\": [{\"aaxis\": {\"endlinecolor\": \"#2a3f5f\", \"gridcolor\": \"white\", \"linecolor\": \"white\", \"minorgridcolor\": \"white\", \"startlinecolor\": \"#2a3f5f\"}, \"baxis\": {\"endlinecolor\": \"#2a3f5f\", \"gridcolor\": \"white\", \"linecolor\": \"white\", \"minorgridcolor\": \"white\", \"startlinecolor\": \"#2a3f5f\"}, \"type\": \"carpet\"}], \"choropleth\": [{\"colorbar\": {\"outlinewidth\": 0, \"ticks\": \"\"}, \"type\": \"choropleth\"}], \"contour\": [{\"colorbar\": {\"outlinewidth\": 0, \"ticks\": \"\"}, \"colorscale\": [[0.0, \"#0d0887\"], [0.1111111111111111, \"#46039f\"], [0.2222222222222222, \"#7201a8\"], [0.3333333333333333, \"#9c179e\"], [0.4444444444444444, \"#bd3786\"], [0.5555555555555556, \"#d8576b\"], [0.6666666666666666, \"#ed7953\"], [0.7777777777777778, \"#fb9f3a\"], [0.8888888888888888, \"#fdca26\"], [1.0, \"#f0f921\"]], \"type\": \"contour\"}], \"contourcarpet\": [{\"colorbar\": {\"outlinewidth\": 0, \"ticks\": \"\"}, \"type\": \"contourcarpet\"}], \"heatmap\": [{\"colorbar\": {\"outlinewidth\": 0, \"ticks\": \"\"}, \"colorscale\": [[0.0, \"#0d0887\"], [0.1111111111111111, \"#46039f\"], [0.2222222222222222, \"#7201a8\"], [0.3333333333333333, \"#9c179e\"], [0.4444444444444444, \"#bd3786\"], [0.5555555555555556, \"#d8576b\"], [0.6666666666666666, \"#ed7953\"], [0.7777777777777778, \"#fb9f3a\"], [0.8888888888888888, \"#fdca26\"], [1.0, \"#f0f921\"]], \"type\": \"heatmap\"}], \"heatmapgl\": [{\"colorbar\": {\"outlinewidth\": 0, \"ticks\": \"\"}, \"colorscale\": [[0.0, \"#0d0887\"], [0.1111111111111111, \"#46039f\"], [0.2222222222222222, \"#7201a8\"], [0.3333333333333333, \"#9c179e\"], [0.4444444444444444, \"#bd3786\"], [0.5555555555555556, \"#d8576b\"], [0.6666666666666666, \"#ed7953\"], [0.7777777777777778, \"#fb9f3a\"], [0.8888888888888888, \"#fdca26\"], [1.0, \"#f0f921\"]], \"type\": \"heatmapgl\"}], \"histogram\": [{\"marker\": {\"colorbar\": {\"outlinewidth\": 0, \"ticks\": \"\"}}, \"type\": \"histogram\"}], \"histogram2d\": [{\"colorbar\": {\"outlinewidth\": 0, \"ticks\": \"\"}, \"colorscale\": [[0.0, \"#0d0887\"], [0.1111111111111111, \"#46039f\"], [0.2222222222222222, \"#7201a8\"], [0.3333333333333333, \"#9c179e\"], [0.4444444444444444, \"#bd3786\"], [0.5555555555555556, \"#d8576b\"], [0.6666666666666666, \"#ed7953\"], [0.7777777777777778, \"#fb9f3a\"], [0.8888888888888888, \"#fdca26\"], [1.0, \"#f0f921\"]], \"type\": \"histogram2d\"}], \"histogram2dcontour\": [{\"colorbar\": {\"outlinewidth\": 0, \"ticks\": \"\"}, \"colorscale\": [[0.0, \"#0d0887\"], [0.1111111111111111, \"#46039f\"], [0.2222222222222222, \"#7201a8\"], [0.3333333333333333, \"#9c179e\"], [0.4444444444444444, \"#bd3786\"], [0.5555555555555556, \"#d8576b\"], [0.6666666666666666, \"#ed7953\"], [0.7777777777777778, \"#fb9f3a\"], [0.8888888888888888, \"#fdca26\"], [1.0, \"#f0f921\"]], \"type\": \"histogram2dcontour\"}], \"mesh3d\": [{\"colorbar\": {\"outlinewidth\": 0, \"ticks\": \"\"}, \"type\": \"mesh3d\"}], \"parcoords\": [{\"line\": {\"colorbar\": {\"outlinewidth\": 0, \"ticks\": \"\"}}, \"type\": \"parcoords\"}], \"pie\": [{\"automargin\": true, \"type\": \"pie\"}], \"scatter\": [{\"marker\": {\"colorbar\": {\"outlinewidth\": 0, \"ticks\": \"\"}}, \"type\": \"scatter\"}], \"scatter3d\": [{\"line\": {\"colorbar\": {\"outlinewidth\": 0, \"ticks\": \"\"}}, \"marker\": {\"colorbar\": {\"outlinewidth\": 0, \"ticks\": \"\"}}, \"type\": \"scatter3d\"}], \"scattercarpet\": [{\"marker\": {\"colorbar\": {\"outlinewidth\": 0, \"ticks\": \"\"}}, \"type\": \"scattercarpet\"}], \"scattergeo\": [{\"marker\": {\"colorbar\": {\"outlinewidth\": 0, \"ticks\": \"\"}}, \"type\": \"scattergeo\"}], \"scattergl\": [{\"marker\": {\"colorbar\": {\"outlinewidth\": 0, \"ticks\": \"\"}}, \"type\": \"scattergl\"}], \"scattermapbox\": [{\"marker\": {\"colorbar\": {\"outlinewidth\": 0, \"ticks\": \"\"}}, \"type\": \"scattermapbox\"}], \"scatterpolar\": [{\"marker\": {\"colorbar\": {\"outlinewidth\": 0, \"ticks\": \"\"}}, \"type\": \"scatterpolar\"}], \"scatterpolargl\": [{\"marker\": {\"colorbar\": {\"outlinewidth\": 0, \"ticks\": \"\"}}, \"type\": \"scatterpolargl\"}], \"scatterternary\": [{\"marker\": {\"colorbar\": {\"outlinewidth\": 0, \"ticks\": \"\"}}, \"type\": \"scatterternary\"}], \"surface\": [{\"colorbar\": {\"outlinewidth\": 0, \"ticks\": \"\"}, \"colorscale\": [[0.0, \"#0d0887\"], [0.1111111111111111, \"#46039f\"], [0.2222222222222222, \"#7201a8\"], [0.3333333333333333, \"#9c179e\"], [0.4444444444444444, \"#bd3786\"], [0.5555555555555556, \"#d8576b\"], [0.6666666666666666, \"#ed7953\"], [0.7777777777777778, \"#fb9f3a\"], [0.8888888888888888, \"#fdca26\"], [1.0, \"#f0f921\"]], \"type\": \"surface\"}], \"table\": [{\"cells\": {\"fill\": {\"color\": \"#EBF0F8\"}, \"line\": {\"color\": \"white\"}}, \"header\": {\"fill\": {\"color\": \"#C8D4E3\"}, \"line\": {\"color\": \"white\"}}, \"type\": \"table\"}]}, \"layout\": {\"annotationdefaults\": {\"arrowcolor\": \"#2a3f5f\", \"arrowhead\": 0, \"arrowwidth\": 1}, \"coloraxis\": {\"colorbar\": {\"outlinewidth\": 0, \"ticks\": \"\"}}, \"colorscale\": {\"diverging\": [[0, \"#8e0152\"], [0.1, \"#c51b7d\"], [0.2, \"#de77ae\"], [0.3, \"#f1b6da\"], [0.4, \"#fde0ef\"], [0.5, \"#f7f7f7\"], [0.6, \"#e6f5d0\"], [0.7, \"#b8e186\"], [0.8, \"#7fbc41\"], [0.9, \"#4d9221\"], [1, \"#276419\"]], \"sequential\": [[0.0, \"#0d0887\"], [0.1111111111111111, \"#46039f\"], [0.2222222222222222, \"#7201a8\"], [0.3333333333333333, \"#9c179e\"], [0.4444444444444444, \"#bd3786\"], [0.5555555555555556, \"#d8576b\"], [0.6666666666666666, \"#ed7953\"], [0.7777777777777778, \"#fb9f3a\"], [0.8888888888888888, \"#fdca26\"], [1.0, \"#f0f921\"]], \"sequentialminus\": [[0.0, \"#0d0887\"], [0.1111111111111111, \"#46039f\"], [0.2222222222222222, \"#7201a8\"], [0.3333333333333333, \"#9c179e\"], [0.4444444444444444, \"#bd3786\"], [0.5555555555555556, \"#d8576b\"], [0.6666666666666666, \"#ed7953\"], [0.7777777777777778, \"#fb9f3a\"], [0.8888888888888888, \"#fdca26\"], [1.0, \"#f0f921\"]]}, \"colorway\": [\"#636efa\", \"#EF553B\", \"#00cc96\", \"#ab63fa\", \"#FFA15A\", \"#19d3f3\", \"#FF6692\", \"#B6E880\", \"#FF97FF\", \"#FECB52\"], \"font\": {\"color\": \"#2a3f5f\"}, \"geo\": {\"bgcolor\": \"white\", \"lakecolor\": \"white\", \"landcolor\": \"#E5ECF6\", \"showlakes\": true, \"showland\": true, \"subunitcolor\": \"white\"}, \"hoverlabel\": {\"align\": \"left\"}, \"hovermode\": \"closest\", \"mapbox\": {\"style\": \"light\"}, \"paper_bgcolor\": \"white\", \"plot_bgcolor\": \"#E5ECF6\", \"polar\": {\"angularaxis\": {\"gridcolor\": \"white\", \"linecolor\": \"white\", \"ticks\": \"\"}, \"bgcolor\": \"#E5ECF6\", \"radialaxis\": {\"gridcolor\": \"white\", \"linecolor\": \"white\", \"ticks\": \"\"}}, \"scene\": {\"xaxis\": {\"backgroundcolor\": \"#E5ECF6\", \"gridcolor\": \"white\", \"gridwidth\": 2, \"linecolor\": \"white\", \"showbackground\": true, \"ticks\": \"\", \"zerolinecolor\": \"white\"}, \"yaxis\": {\"backgroundcolor\": \"#E5ECF6\", \"gridcolor\": \"white\", \"gridwidth\": 2, \"linecolor\": \"white\", \"showbackground\": true, \"ticks\": \"\", \"zerolinecolor\": \"white\"}, \"zaxis\": {\"backgroundcolor\": \"#E5ECF6\", \"gridcolor\": \"white\", \"gridwidth\": 2, \"linecolor\": \"white\", \"showbackground\": true, \"ticks\": \"\", \"zerolinecolor\": \"white\"}}, \"shapedefaults\": {\"line\": {\"color\": \"#2a3f5f\"}}, \"ternary\": {\"aaxis\": {\"gridcolor\": \"white\", \"linecolor\": \"white\", \"ticks\": \"\"}, \"baxis\": {\"gridcolor\": \"white\", \"linecolor\": \"white\", \"ticks\": \"\"}, \"bgcolor\": \"#E5ECF6\", \"caxis\": {\"gridcolor\": \"white\", \"linecolor\": \"white\", \"ticks\": \"\"}}, \"title\": {\"x\": 0.05}, \"xaxis\": {\"automargin\": true, \"gridcolor\": \"white\", \"linecolor\": \"white\", \"ticks\": \"\", \"title\": {\"standoff\": 15}, \"zerolinecolor\": \"white\", \"zerolinewidth\": 2}, \"yaxis\": {\"automargin\": true, \"gridcolor\": \"white\", \"linecolor\": \"white\", \"ticks\": \"\", \"title\": {\"standoff\": 15}, \"zerolinecolor\": \"white\", \"zerolinewidth\": 2}}}, \"title\": {\"font\": {\"color\": \"#4D5663\"}, \"text\": \"Grades orgnize by periods of students that pass the course\"}, \"xaxis\": {\"gridcolor\": \"#E1E5ED\", \"showgrid\": true, \"tickfont\": {\"color\": \"#4D5663\"}, \"title\": {\"font\": {\"color\": \"#4D5663\"}, \"text\": \"\"}, \"zerolinecolor\": \"#E1E5ED\"}, \"yaxis\": {\"gridcolor\": \"#E1E5ED\", \"showgrid\": true, \"tickfont\": {\"color\": \"#4D5663\"}, \"title\": {\"font\": {\"color\": \"#4D5663\"}, \"text\": \"\"}, \"zerolinecolor\": \"#E1E5ED\"}},\n",
       "                        {\"showLink\": true, \"linkText\": \"Export to plot.ly\", \"plotlyServerURL\": \"https://plot.ly\", \"responsive\": true}\n",
       "                    ).then(function(){\n",
       "                            \n",
       "var gd = document.getElementById('11d655e5-fbdf-4cf5-81fc-7f5d6203019b');\n",
       "var x = new MutationObserver(function (mutations, observer) {{\n",
       "        var display = window.getComputedStyle(gd).display;\n",
       "        if (!display || display === 'none') {{\n",
       "            console.log([gd, 'removed!']);\n",
       "            Plotly.purge(gd);\n",
       "            observer.disconnect();\n",
       "        }}\n",
       "}});\n",
       "\n",
       "// Listen for the removal of the full notebook cells\n",
       "var notebookContainer = gd.closest('#notebook-container');\n",
       "if (notebookContainer) {{\n",
       "    x.observe(notebookContainer, {childList: true});\n",
       "}}\n",
       "\n",
       "// Listen for the clearing of the current output cell\n",
       "var outputEl = gd.closest('.output');\n",
       "if (outputEl) {{\n",
       "    x.observe(outputEl, {childList: true});\n",
       "}}\n",
       "\n",
       "                        })\n",
       "                };\n",
       "                });\n",
       "            </script>\n",
       "        </div>"
      ]
     },
     "metadata": {},
     "output_type": "display_data"
    }
   ],
   "source": [
    "pass_students_complete[['CI 1','DD 1','EL 1','PR 1','CI 2','DD 2','EL 2','PR 2','CI 3','DD 3','EL 3','PR3','CI 4','DD 4A','DD 4B','EL 4','PR4']].iplot(kind='box', title='Grades orgnize by periods of students that pass the course')"
   ]
  },
  {
   "cell_type": "code",
   "execution_count": 97,
   "metadata": {},
   "outputs": [
    {
     "data": {
      "application/vnd.plotly.v1+json": {
       "config": {
        "linkText": "Export to plot.ly",
        "plotlyServerURL": "https://plot.ly",
        "showLink": true
       },
       "data": [
        {
         "boxpoints": false,
         "line": {
          "width": 1.3
         },
         "marker": {
          "color": "rgba(255, 153, 51, 1.0)"
         },
         "name": "CI 1",
         "orientation": "v",
         "type": "box",
         "y": [
          3.4,
          0,
          4.1,
          3.9,
          3.5,
          4.1,
          3,
          3.2,
          3,
          3.8,
          3.2,
          2.9,
          2.6,
          4.3,
          4,
          2.8,
          3.2,
          4.7,
          3.5,
          3,
          2.7,
          3,
          3.9,
          3.4,
          3.4,
          3.3,
          3.6,
          2.8,
          3.7,
          2.6,
          3.7,
          4,
          4.1,
          3.2,
          3.1,
          3.9,
          3.5,
          2.9,
          3.7,
          4.1,
          3.8,
          3.7,
          3.7,
          2.5,
          4.6,
          3.7,
          3.9,
          3.6,
          4.3,
          3.1,
          1.3,
          2.1,
          3.2,
          4.1,
          2.8,
          0,
          3.2,
          4.1,
          3.2,
          3.8,
          0,
          4,
          3.4,
          3.9,
          3.2,
          3.6,
          3.1,
          3.8,
          3.1,
          3.6,
          3.4,
          0,
          2.8,
          3.4,
          3.7,
          3.5,
          3.5,
          2.7,
          2.3,
          3.9,
          4,
          4.2,
          3.4,
          3,
          3.9,
          1.7,
          2.6,
          3.5,
          3.4,
          3.1,
          4.1,
          3.5,
          2.4,
          3.1,
          4.1,
          3.9,
          3.5,
          4.1,
          3.6,
          3.6,
          2.6
         ]
        },
        {
         "boxpoints": false,
         "line": {
          "width": 1.3
         },
         "marker": {
          "color": "rgba(55, 128, 191, 1.0)"
         },
         "name": "DD 1",
         "orientation": "v",
         "type": "box",
         "y": [
          3,
          3,
          2.3,
          3.3,
          3.5,
          3,
          2.63,
          3.3,
          2.38,
          3.8,
          2.8,
          2.8,
          3.03,
          3,
          2.2,
          3.5,
          3,
          3.3,
          3,
          2.5,
          2.4,
          3.3,
          2.53,
          2.8,
          2.3,
          2.78,
          3,
          2.9,
          2.03,
          2.6,
          3.5,
          2.5,
          2.7,
          2.8,
          2.35,
          1.8,
          3,
          2.38,
          3,
          3,
          2.2,
          3,
          2.5,
          3.3,
          2.78,
          2.8,
          2.5,
          3.03,
          3,
          3,
          2.5,
          2.5,
          2.8,
          3.7,
          2.5,
          2.3,
          2,
          3.9,
          2.13,
          2.3,
          3,
          2.2,
          2.48,
          3.2,
          2.8,
          3.28,
          2.5,
          2.38,
          2.5,
          2.8,
          3.5,
          2.25,
          3.3,
          2.5,
          2.25,
          2.1,
          3.3,
          2,
          1.8,
          3.1,
          2.7,
          3,
          2.3,
          2.3,
          3,
          2.5,
          2,
          2.8,
          2.25,
          2.5,
          3.3,
          2.8,
          2.63,
          2.3,
          2,
          3.3,
          2.6,
          2.7,
          3.8,
          2,
          2.3
         ]
        },
        {
         "boxpoints": false,
         "line": {
          "width": 1.3
         },
         "marker": {
          "color": "rgba(50, 171, 96, 1.0)"
         },
         "name": "EL 1",
         "orientation": "v",
         "type": "box",
         "y": [
          3.4,
          3.2,
          2.6,
          4,
          3.6,
          4.2,
          4.8,
          4.8,
          4.2,
          3.2,
          3.6,
          2.4,
          4.6,
          3.4,
          3.2,
          4,
          3.2,
          4,
          3.6,
          3.65,
          3.2,
          3.8,
          4.8,
          4,
          4,
          3.2,
          4,
          4.2,
          3.6,
          2.28,
          3.91,
          4.2,
          4.6,
          4.4,
          4.4,
          4.2,
          3.2,
          3.57,
          2.72,
          2.6,
          3.8,
          4,
          4.6,
          4.8,
          4.2,
          2.6,
          3.8,
          4,
          3.4,
          3.2,
          3.4,
          4,
          3.2,
          3.8,
          3.4,
          4.8,
          3.4,
          2.6,
          3.8,
          4.4,
          3.2,
          1.82,
          4,
          3.8,
          3.22,
          3.2,
          4,
          3.36,
          3.8,
          3.6,
          4.2,
          3,
          2.74,
          4,
          3.2,
          4.2,
          3.4,
          3.2,
          2.89,
          2.6,
          2.6,
          4.2,
          3.8,
          4,
          3.8,
          2.66,
          3.2,
          3.4,
          3.2,
          3.6,
          3.6,
          4,
          3.2,
          4.8,
          3.8,
          4,
          2.4,
          3.2,
          3.8,
          2.7,
          3.74
         ]
        },
        {
         "boxpoints": false,
         "line": {
          "width": 1.3
         },
         "marker": {
          "color": "rgba(128, 0, 128, 1.0)"
         },
         "name": "PR 1",
         "orientation": "v",
         "type": "box",
         "y": [
          3,
          2.7,
          3.5,
          2.9,
          2.98,
          3.2,
          3.23,
          3,
          3,
          3.33,
          3.5,
          2.4,
          2.4,
          2.9,
          3.2,
          2.7,
          2.7,
          2.5,
          2.4,
          2.02,
          2.9,
          3.2,
          3.1,
          2.9,
          2.5,
          3.1,
          3.2,
          3.3,
          3.3,
          3,
          2.55,
          3.2,
          3.2,
          2.9,
          3.3,
          2.55,
          3.3,
          3.3,
          3.3,
          3.5,
          3.2,
          3.8,
          2.7,
          2.7,
          3.3,
          2.5,
          2.9,
          2.9,
          2.7,
          2.9,
          2.7,
          3.1,
          3,
          2.9,
          3,
          2.7,
          2.23,
          3.2,
          2.9,
          3,
          2.72,
          3.3,
          3.2,
          3,
          2.47,
          3.2,
          2.7,
          3.2,
          2.4,
          3.2,
          3,
          2.55,
          2.07,
          3.3,
          3.3,
          3.2,
          3.1,
          2.13,
          3.1,
          2.7,
          3.5,
          3.13,
          2.24,
          3.3,
          3.5,
          1.56,
          2.7,
          3.5,
          3.2,
          3.8,
          3.5,
          2.98,
          3.3,
          3.1,
          3.2,
          3,
          2.7,
          3.3,
          2.4,
          1.71,
          3.2
         ]
        },
        {
         "boxpoints": false,
         "line": {
          "width": 1.3
         },
         "marker": {
          "color": "rgba(219, 64, 82, 1.0)"
         },
         "name": "CI 2",
         "orientation": "v",
         "type": "box",
         "y": [
          2.7,
          0,
          3.2,
          3.1,
          3.1,
          3.7,
          2.6,
          3.5,
          3,
          4.4,
          2.9,
          2.6,
          2.5,
          3.6,
          3.2,
          0,
          0,
          0,
          2.9,
          2.3,
          3.1,
          3,
          2.6,
          3.2,
          2.4,
          3.4,
          4,
          3.4,
          3.5,
          3,
          2.7,
          3.8,
          3.9,
          2.4,
          3,
          2.6,
          3.1,
          2.6,
          2.7,
          3,
          2.7,
          4.3,
          2.9,
          4,
          4.1,
          3.5,
          3.3,
          3.6,
          2.9,
          3.7,
          3.8,
          3,
          2.5,
          4.1,
          3.5,
          2.8,
          2.9,
          3.7,
          2.3,
          3.7,
          0,
          3,
          3.2,
          3.8,
          1.9,
          4,
          2.6,
          2.4,
          2.9,
          3.4,
          3,
          0,
          2.4,
          3.2,
          3.3,
          3.1,
          3,
          2.5,
          2,
          3.1,
          3.1,
          4,
          2.8,
          2.1,
          3.9,
          2.4,
          2.3,
          3.2,
          2.3,
          3.2,
          3.8,
          3.3,
          2.7,
          2.5,
          2.8,
          3.1,
          2.9,
          3.9,
          2.8,
          0,
          2.5
         ]
        },
        {
         "boxpoints": false,
         "line": {
          "width": 1.3
         },
         "marker": {
          "color": "rgba(0, 128, 128, 1.0)"
         },
         "name": "DD 2",
         "orientation": "v",
         "type": "box",
         "y": [
          4.2,
          0,
          3.5,
          3.1,
          4,
          4.2,
          2.55,
          2.5,
          3,
          4.2,
          3.5,
          2.6,
          3.2,
          3.5,
          3.8,
          2.3,
          3.5,
          3.5,
          3.2,
          3.3,
          2.8,
          4.4,
          4.5,
          4.3,
          3.4,
          4.5,
          4.2,
          4.2,
          3.3,
          3.5,
          3.9,
          3.2,
          3.3,
          3.6,
          3.4,
          4.1,
          3.4,
          3.4,
          3.9,
          3.5,
          3.5,
          4.1,
          3,
          2.9,
          3.4,
          3.5,
          2.8,
          3.3,
          3.1,
          4.8,
          4.3,
          4,
          3.4,
          4.2,
          3.6,
          3.2,
          3.9,
          4.3,
          2.6,
          3.7,
          0,
          4.1,
          3.5,
          3.7,
          3.1,
          4.1,
          2.5,
          3.3,
          3.9,
          3.9,
          4.5,
          2.8,
          3.3,
          4.2,
          3,
          3.3,
          3.5,
          3.1,
          4.5,
          3.6,
          2.7,
          3.35,
          3.4,
          3.5,
          4,
          2.35,
          3.9,
          4.4,
          4,
          4,
          3.4,
          3.2,
          3,
          3.7,
          4.5,
          4.1,
          2.9,
          4.1,
          3.2,
          3.1,
          3
         ]
        },
        {
         "boxpoints": false,
         "line": {
          "width": 1.3
         },
         "marker": {
          "color": "rgba(255, 255, 51, 1.0)"
         },
         "name": "EL 2",
         "orientation": "v",
         "type": "box",
         "y": [
          2.7,
          4.45,
          4.5,
          3.44,
          4.35,
          2.7,
          2.2,
          2.3,
          2.7,
          4.45,
          2.4,
          2.9,
          3.5,
          3.15,
          2.5,
          3,
          3,
          2.83,
          4.35,
          2.7,
          2.85,
          3.7,
          2.3,
          3.65,
          3.1,
          4.45,
          4.5,
          3.85,
          2.4,
          2.47,
          3.5,
          3.55,
          3.5,
          3.35,
          2.2,
          3.55,
          3,
          2.49,
          3,
          4.35,
          3.7,
          2.42,
          3.5,
          2.3,
          3.85,
          4.35,
          3.35,
          2.68,
          3.5,
          3,
          2.7,
          3,
          3,
          3.35,
          3.5,
          2.2,
          3.5,
          4.35,
          3.7,
          2.2,
          2.3,
          2.39,
          3.65,
          2.7,
          2.73,
          2.5,
          3.65,
          2.44,
          1.89,
          4.35,
          3.85,
          2.5,
          2.41,
          3,
          2.59,
          2.7,
          2.7,
          3,
          3.5,
          4.5,
          4.5,
          3.85,
          2.7,
          3,
          3.35,
          1.87,
          4.45,
          3.15,
          2.3,
          2.4,
          4.35,
          2.68,
          2.7,
          2.3,
          3.7,
          4.5,
          2.9,
          3,
          3.35,
          1.5,
          2.2
         ]
        },
        {
         "boxpoints": false,
         "line": {
          "width": 1.3
         },
         "marker": {
          "color": "rgba(128, 128, 0, 1.0)"
         },
         "name": "PR 2",
         "orientation": "v",
         "type": "box",
         "y": [
          4.4,
          3.9,
          3.5,
          3.1,
          2.9,
          3.5,
          3.5,
          3.9,
          3.2,
          4.4,
          3,
          2.89,
          2.63,
          4.1,
          3.3,
          4.4,
          3.1,
          3,
          3.3,
          1.71,
          3.1,
          3.2,
          3.5,
          3.1,
          4.1,
          3.4,
          3.2,
          3.52,
          3,
          3.2,
          3.8,
          3.2,
          2.9,
          2.38,
          3.3,
          3.5,
          3.1,
          2.2,
          3.1,
          3.2,
          4,
          3.2,
          3.3,
          3.4,
          3.4,
          3.5,
          1.66,
          3.5,
          2.4,
          3.1,
          3.5,
          3.4,
          2.64,
          3.3,
          3.4,
          2.1,
          3.4,
          4.1,
          2.64,
          4,
          2.17,
          2.98,
          3.1,
          3.5,
          2.11,
          3.1,
          3,
          1.91,
          2.45,
          3.5,
          3.4,
          2.6,
          2.72,
          3.9,
          4,
          2.8,
          3.7,
          3.1,
          4.4,
          2.9,
          3.3,
          3.4,
          3.5,
          2.4,
          3.8,
          2.24,
          3.7,
          3,
          2.45,
          3.1,
          2.89,
          3,
          3.2,
          3.5,
          3.1,
          3.5,
          3.8,
          3.5,
          3.8,
          2.4,
          2.38
         ]
        },
        {
         "boxpoints": false,
         "line": {
          "width": 1.3
         },
         "marker": {
          "color": "rgba(251, 128, 114, 1.0)"
         },
         "name": "CI 3",
         "orientation": "v",
         "type": "box",
         "y": [
          3.6,
          0,
          4.2,
          3.2,
          4.3,
          3.6,
          2.4,
          4.8,
          3.1,
          4,
          3.8,
          3.9,
          3.4,
          3.6,
          3.9,
          3.3,
          4,
          3.7,
          3.7,
          2.2,
          2.8,
          2.4,
          2.7,
          2.5,
          3,
          3.1,
          3.3,
          4,
          3.6,
          2.9,
          4.1,
          3.4,
          2.7,
          4,
          4.2,
          3.3,
          4,
          3,
          3.8,
          3.4,
          3.7,
          4.1,
          3.7,
          3.4,
          3.7,
          3.5,
          3.4,
          3.3,
          3.5,
          2.7,
          2.9,
          2.6,
          3.7,
          4.7,
          2.1,
          3.3,
          2.7,
          3.6,
          3.2,
          2.5,
          0,
          3,
          3.7,
          4.1,
          2.5,
          4.3,
          3.2,
          3.2,
          2.2,
          3.7,
          3.2,
          4.5,
          2.3,
          2.8,
          2.7,
          4.7,
          4.2,
          2.8,
          3.3,
          2.3,
          3.1,
          4.4,
          2.9,
          3.4,
          3.4,
          2.9,
          3.7,
          3.4,
          3.4,
          3.7,
          3.9,
          2.2,
          3.5,
          3.6,
          3.7,
          4.2,
          3,
          4.3,
          3.2,
          3.2,
          2.3
         ]
        },
        {
         "boxpoints": false,
         "line": {
          "width": 1.3
         },
         "marker": {
          "color": "rgba(128, 177, 211, 1.0)"
         },
         "name": "DD 3",
         "orientation": "v",
         "type": "box",
         "y": [
          3.55,
          3.57,
          3.25,
          3.7,
          2.7,
          3,
          3.3,
          2.95,
          3.4,
          3.5,
          3.55,
          3.32,
          3.5,
          3.5,
          3.15,
          4.2,
          3.7,
          3.4,
          2.4,
          2.95,
          3.4,
          3.25,
          3.6,
          3.65,
          2.76,
          4,
          3.65,
          2.64,
          3.3,
          3.55,
          3.7,
          3.5,
          3.3,
          2.7,
          3.7,
          3.7,
          3.5,
          3,
          3.5,
          3.55,
          3.1,
          3.25,
          3.8,
          3.25,
          3,
          3.5,
          3.55,
          4,
          3.1,
          3.65,
          3.25,
          3.33,
          3.5,
          3.8,
          2.55,
          3.25,
          3.3,
          3,
          2.55,
          3.8,
          3.8,
          2.66,
          4.2,
          3.9,
          2.95,
          3.7,
          3.6,
          2.15,
          3,
          2.7,
          3.25,
          2.7,
          3.9,
          2.65,
          2.4,
          3.9,
          2.65,
          3.6,
          2.98,
          3.9,
          3.25,
          3.5,
          3.25,
          3.4,
          3.65,
          2.65,
          2.4,
          3.1,
          4,
          4.2,
          3.25,
          3.32,
          3.9,
          3.7,
          3.6,
          3.1,
          2.98,
          3.5,
          3.55,
          1.68,
          3.1
         ]
        },
        {
         "boxpoints": false,
         "line": {
          "width": 1.3
         },
         "marker": {
          "color": "rgba(128, 177, 211, 0.8999999999999999)"
         },
         "name": "EL 3",
         "orientation": "v",
         "type": "box",
         "y": [
          4.85,
          4.85,
          3.8,
          3.55,
          3.7,
          3.55,
          3.9,
          4.85,
          2.8,
          2.8,
          3.7,
          4.15,
          3.65,
          2.9,
          3.15,
          4.85,
          3.05,
          4.2,
          2.85,
          1.93,
          2.8,
          3.55,
          3.5,
          3.75,
          3.55,
          4.55,
          3.9,
          3.9,
          4.6,
          3.9,
          3.7,
          2.3,
          3.8,
          3.15,
          3.7,
          3.55,
          4.55,
          2.75,
          3.65,
          2.75,
          3.8,
          3.8,
          3,
          4.45,
          2.3,
          4.6,
          3.8,
          3.5,
          1.82,
          2.75,
          2.9,
          3.75,
          3.5,
          2.85,
          3.53,
          3.55,
          4.6,
          2.3,
          3,
          2.95,
          3.55,
          3.15,
          3.55,
          3.55,
          2.34,
          3.9,
          3.1,
          3.94,
          2.7,
          3.9,
          3.55,
          3.15,
          2.7,
          3.9,
          3,
          3.55,
          4.85,
          2.85,
          2.7,
          3,
          3.55,
          2.8,
          2.9,
          4.6,
          3.8,
          3.15,
          3,
          4.2,
          2.9,
          3.9,
          4.45,
          2.95,
          2.75,
          3.55,
          2.9,
          3.55,
          2.85,
          2.8,
          2.31,
          2.42,
          3.32
         ]
        },
        {
         "boxpoints": false,
         "line": {
          "width": 1.3
         },
         "marker": {
          "color": "rgba(255, 153, 51, 0.8999999999999999)"
         },
         "name": "PR3",
         "orientation": "v",
         "type": "box",
         "y": [
          3.55,
          4.3,
          3.2,
          3.2,
          2.85,
          3.55,
          3.5,
          3.55,
          3.3,
          4.1,
          3.55,
          2.85,
          3.05,
          3.05,
          2.72,
          4.3,
          3.2,
          3.3,
          2.75,
          2.87,
          3.3,
          3.3,
          3.55,
          4.1,
          2.04,
          2.95,
          4.1,
          3.37,
          3.5,
          2.95,
          3.2,
          2.85,
          3.5,
          2.85,
          3.2,
          3.2,
          3.95,
          2.55,
          3.05,
          2.95,
          3.4,
          3.2,
          3.5,
          2.4,
          3.55,
          4.1,
          2.95,
          2.95,
          2.4,
          4.1,
          2.4,
          4.1,
          3.05,
          3.5,
          2.42,
          3.2,
          3.5,
          3.55,
          2.75,
          3.5,
          3.5,
          3.02,
          4.3,
          2.85,
          2.87,
          3.2,
          3.55,
          2.45,
          3.55,
          2.85,
          3.2,
          1.43,
          2.42,
          2.85,
          2.75,
          2.45,
          2.85,
          3.55,
          2.85,
          2.45,
          2.4,
          3.95,
          3.3,
          2.81,
          4.1,
          2.85,
          2.75,
          3.4,
          2.95,
          4.3,
          3.3,
          2.42,
          2.45,
          3.2,
          3.55,
          3.55,
          2.85,
          3.95,
          2.95,
          1.93,
          3.4
         ]
        },
        {
         "boxpoints": false,
         "line": {
          "width": 1.3
         },
         "marker": {
          "color": "rgba(55, 128, 191, 0.8999999999999999)"
         },
         "name": "CI 4",
         "orientation": "v",
         "type": "box",
         "y": [
          4,
          0,
          4,
          3.7,
          3.4,
          3.8,
          3.2,
          3.8,
          3.2,
          3.6,
          4,
          3.2,
          3.3,
          3.3,
          3.1,
          3.8,
          3.2,
          3,
          3.1,
          3.05,
          3,
          3.1,
          3.1,
          3.4,
          3.9,
          3.1,
          0,
          3.4,
          3.2,
          2.8,
          3.7,
          3.8,
          4.1,
          2.9,
          3.4,
          3.4,
          3.4,
          3.2,
          3.3,
          3.8,
          4.1,
          2.9,
          3.2,
          3.1,
          3.5,
          2.8,
          3.3,
          3.8,
          3.8,
          3,
          3.6,
          3.1,
          3.4,
          4.4,
          3.7,
          3.8,
          3.6,
          3.8,
          3.3,
          3.1,
          0,
          3.9,
          0,
          3.4,
          3.6,
          2.9,
          3,
          2.9,
          2.5,
          3.9,
          3.8,
          3.6,
          3.5,
          3.5,
          3.4,
          3.1,
          3.7,
          2.98,
          3.1,
          3.3,
          3.4,
          3.6,
          3.2,
          3.5,
          4,
          3.2,
          3.6,
          3.6,
          3.3,
          3.3,
          3.5,
          3.4,
          3.2,
          3.7,
          3.1,
          4.3,
          3.6,
          3.1,
          3.5,
          3.1,
          2.4
         ]
        },
        {
         "boxpoints": false,
         "line": {
          "width": 1.3
         },
         "marker": {
          "color": "rgba(50, 171, 96, 0.8999999999999999)"
         },
         "name": "DD 4A",
         "orientation": "v",
         "type": "box",
         "y": [
          3.7,
          1.9,
          4.3,
          4.3,
          2.5,
          2.9,
          3.3,
          4.6,
          3.7,
          2.9,
          1.3,
          1.4,
          4.6,
          4.6,
          1.4,
          3.1,
          2,
          4.3,
          2.9,
          3.9,
          3.2,
          3.5,
          3.4,
          4.3,
          1.8,
          4.3,
          3.5,
          3.1,
          1.7,
          2.1,
          3.6,
          3.5,
          4.7,
          4.2,
          2,
          2,
          3,
          2.1,
          3.9,
          2.9,
          4,
          1.4,
          2.33,
          2.8,
          3.2,
          2.2,
          2.9,
          4.6,
          4.7,
          4.3,
          3.9,
          3.3,
          3.7,
          4.6,
          4.3,
          3.4,
          2.1,
          3.8,
          2,
          3.7,
          0,
          2.5,
          4.3,
          4.2,
          3.9,
          3.9,
          3.9,
          2.8,
          3.9,
          3.9,
          3.7,
          3.1,
          2.28,
          1.7,
          2.5,
          0,
          4.3,
          1.7,
          1.8,
          4.4,
          3.1,
          1.7,
          3.9,
          3.6,
          4.6,
          2.9,
          2.68,
          4.1,
          4.6,
          4.3,
          4.4,
          1.9,
          1.8,
          1.8,
          4.3,
          3.6,
          4.3,
          3.1,
          3.1,
          3.5,
          3.5
         ]
        },
        {
         "boxpoints": false,
         "line": {
          "width": 1.3
         },
         "marker": {
          "color": "rgba(128, 0, 128, 0.8999999999999999)"
         },
         "name": "DD 4B",
         "orientation": "v",
         "type": "box",
         "y": [
          4.05,
          3.95,
          3.2,
          4.05,
          4.05,
          4.25,
          1.85,
          4.4,
          3.44,
          2.05,
          3.95,
          3.6,
          4.1,
          3.55,
          3.25,
          3.65,
          4.05,
          1.85,
          3.9,
          4.05,
          3.55,
          3.2,
          3.55,
          2.05,
          3.49,
          3.45,
          2.25,
          3.1,
          2.49,
          4.05,
          3.95,
          3.95,
          3.55,
          3.95,
          4.05,
          3.25,
          3.55,
          4.3,
          3.35,
          2.05,
          3.55,
          3.02,
          2.4,
          4.1,
          3.95,
          3.55,
          1.2,
          4.1,
          1.78,
          4.05,
          2.42,
          2.25,
          3.2,
          3.6,
          4.25,
          3.35,
          3.65,
          2.8,
          3.9,
          3.6,
          4.25,
          4.05,
          4.05,
          2.8,
          2.05,
          3.25,
          3.2,
          4.25,
          2.8,
          4.18,
          4.1,
          3.65,
          3.06,
          3.65,
          3.95,
          2.36,
          3.95,
          3.45,
          1.8,
          3.95,
          3.23,
          3.35,
          4.1,
          3.55,
          3.65,
          4.05,
          4.3,
          3.65,
          3.8,
          4.4,
          3.45,
          3.9,
          3.9,
          3.75,
          3.8,
          3.95,
          2.4,
          4.1,
          1.58,
          3.01,
          2.25
         ]
        },
        {
         "boxpoints": false,
         "line": {
          "width": 1.3
         },
         "marker": {
          "color": "rgba(219, 64, 82, 0.8999999999999999)"
         },
         "name": "EL 4",
         "orientation": "v",
         "type": "box",
         "y": [
          3.85,
          3.85,
          4.05,
          3.3,
          3.05,
          3.75,
          2.51,
          3.85,
          4.1,
          4.1,
          3.05,
          2.9,
          3.5,
          3.3,
          2.85,
          3.85,
          3.05,
          3.5,
          3.45,
          3.32,
          4.1,
          3.3,
          3.75,
          3.45,
          2.72,
          3.25,
          2.95,
          2.75,
          3.5,
          2.95,
          3.05,
          3.75,
          4.05,
          2.85,
          3.05,
          2.72,
          3.25,
          3.1,
          3.5,
          3.9,
          4.05,
          4.05,
          4,
          4.05,
          3.75,
          3.5,
          4.05,
          3.75,
          3.38,
          3.9,
          3.3,
          3.45,
          3.75,
          3.05,
          2.76,
          3.3,
          3.5,
          3.75,
          3.45,
          4.15,
          3.75,
          2.85,
          3.3,
          3.75,
          3.32,
          2.75,
          1.75,
          2.9,
          3.15,
          2.75,
          3.3,
          2.85,
          3.15,
          2.75,
          4,
          3.75,
          3.85,
          3.44,
          3.15,
          3.28,
          3.3,
          3.7,
          3.3,
          3.5,
          4.05,
          2.85,
          4,
          3.5,
          3.3,
          2.75,
          4.05,
          4.15,
          3.1,
          3.3,
          3.3,
          3.3,
          3.05,
          3.7,
          4.1,
          2.59,
          2.07
         ]
        },
        {
         "boxpoints": false,
         "line": {
          "width": 1.3
         },
         "marker": {
          "color": "rgba(0, 128, 128, 0.8999999999999999)"
         },
         "name": "PR4",
         "orientation": "v",
         "type": "box",
         "y": [
          4.3,
          4.15,
          3.75,
          3.66,
          2.9,
          4.15,
          3.15,
          3.6,
          3,
          4.15,
          3.6,
          4,
          3.85,
          3,
          2.45,
          3.15,
          2.9,
          3.15,
          3,
          3,
          3,
          3.75,
          3,
          4.15,
          3.85,
          3.15,
          2.9,
          2.68,
          2.55,
          3,
          3.6,
          3,
          3.45,
          4.15,
          4.3,
          2.45,
          3,
          2.72,
          3.6,
          4.15,
          3.45,
          3,
          2.6,
          3.85,
          3,
          3,
          2.36,
          3.85,
          2.08,
          3,
          2.21,
          2.9,
          3.75,
          4,
          4.15,
          3.6,
          3.85,
          4.3,
          3,
          4,
          4.15,
          2.9,
          2.9,
          4.3,
          4.15,
          2.45,
          3.19,
          3.53,
          4.3,
          3.42,
          3.85,
          3.15,
          4,
          3.15,
          3,
          2.56,
          4.15,
          2.68,
          2.21,
          2.55,
          4,
          3.6,
          3.85,
          3.45,
          3.85,
          4.3,
          2.72,
          3.85,
          3.8,
          3.6,
          3.15,
          3,
          3,
          3.6,
          4,
          4.15,
          2.6,
          3.85,
          2.03,
          2.01,
          2.47
         ]
        }
       ],
       "layout": {
        "legend": {
         "bgcolor": "#F5F6F9",
         "font": {
          "color": "#4D5663"
         }
        },
        "paper_bgcolor": "#F5F6F9",
        "plot_bgcolor": "#F5F6F9",
        "template": {
         "data": {
          "bar": [
           {
            "error_x": {
             "color": "#2a3f5f"
            },
            "error_y": {
             "color": "#2a3f5f"
            },
            "marker": {
             "line": {
              "color": "#E5ECF6",
              "width": 0.5
             }
            },
            "type": "bar"
           }
          ],
          "barpolar": [
           {
            "marker": {
             "line": {
              "color": "#E5ECF6",
              "width": 0.5
             }
            },
            "type": "barpolar"
           }
          ],
          "carpet": [
           {
            "aaxis": {
             "endlinecolor": "#2a3f5f",
             "gridcolor": "white",
             "linecolor": "white",
             "minorgridcolor": "white",
             "startlinecolor": "#2a3f5f"
            },
            "baxis": {
             "endlinecolor": "#2a3f5f",
             "gridcolor": "white",
             "linecolor": "white",
             "minorgridcolor": "white",
             "startlinecolor": "#2a3f5f"
            },
            "type": "carpet"
           }
          ],
          "choropleth": [
           {
            "colorbar": {
             "outlinewidth": 0,
             "ticks": ""
            },
            "type": "choropleth"
           }
          ],
          "contour": [
           {
            "colorbar": {
             "outlinewidth": 0,
             "ticks": ""
            },
            "colorscale": [
             [
              0,
              "#0d0887"
             ],
             [
              0.1111111111111111,
              "#46039f"
             ],
             [
              0.2222222222222222,
              "#7201a8"
             ],
             [
              0.3333333333333333,
              "#9c179e"
             ],
             [
              0.4444444444444444,
              "#bd3786"
             ],
             [
              0.5555555555555556,
              "#d8576b"
             ],
             [
              0.6666666666666666,
              "#ed7953"
             ],
             [
              0.7777777777777778,
              "#fb9f3a"
             ],
             [
              0.8888888888888888,
              "#fdca26"
             ],
             [
              1,
              "#f0f921"
             ]
            ],
            "type": "contour"
           }
          ],
          "contourcarpet": [
           {
            "colorbar": {
             "outlinewidth": 0,
             "ticks": ""
            },
            "type": "contourcarpet"
           }
          ],
          "heatmap": [
           {
            "colorbar": {
             "outlinewidth": 0,
             "ticks": ""
            },
            "colorscale": [
             [
              0,
              "#0d0887"
             ],
             [
              0.1111111111111111,
              "#46039f"
             ],
             [
              0.2222222222222222,
              "#7201a8"
             ],
             [
              0.3333333333333333,
              "#9c179e"
             ],
             [
              0.4444444444444444,
              "#bd3786"
             ],
             [
              0.5555555555555556,
              "#d8576b"
             ],
             [
              0.6666666666666666,
              "#ed7953"
             ],
             [
              0.7777777777777778,
              "#fb9f3a"
             ],
             [
              0.8888888888888888,
              "#fdca26"
             ],
             [
              1,
              "#f0f921"
             ]
            ],
            "type": "heatmap"
           }
          ],
          "heatmapgl": [
           {
            "colorbar": {
             "outlinewidth": 0,
             "ticks": ""
            },
            "colorscale": [
             [
              0,
              "#0d0887"
             ],
             [
              0.1111111111111111,
              "#46039f"
             ],
             [
              0.2222222222222222,
              "#7201a8"
             ],
             [
              0.3333333333333333,
              "#9c179e"
             ],
             [
              0.4444444444444444,
              "#bd3786"
             ],
             [
              0.5555555555555556,
              "#d8576b"
             ],
             [
              0.6666666666666666,
              "#ed7953"
             ],
             [
              0.7777777777777778,
              "#fb9f3a"
             ],
             [
              0.8888888888888888,
              "#fdca26"
             ],
             [
              1,
              "#f0f921"
             ]
            ],
            "type": "heatmapgl"
           }
          ],
          "histogram": [
           {
            "marker": {
             "colorbar": {
              "outlinewidth": 0,
              "ticks": ""
             }
            },
            "type": "histogram"
           }
          ],
          "histogram2d": [
           {
            "colorbar": {
             "outlinewidth": 0,
             "ticks": ""
            },
            "colorscale": [
             [
              0,
              "#0d0887"
             ],
             [
              0.1111111111111111,
              "#46039f"
             ],
             [
              0.2222222222222222,
              "#7201a8"
             ],
             [
              0.3333333333333333,
              "#9c179e"
             ],
             [
              0.4444444444444444,
              "#bd3786"
             ],
             [
              0.5555555555555556,
              "#d8576b"
             ],
             [
              0.6666666666666666,
              "#ed7953"
             ],
             [
              0.7777777777777778,
              "#fb9f3a"
             ],
             [
              0.8888888888888888,
              "#fdca26"
             ],
             [
              1,
              "#f0f921"
             ]
            ],
            "type": "histogram2d"
           }
          ],
          "histogram2dcontour": [
           {
            "colorbar": {
             "outlinewidth": 0,
             "ticks": ""
            },
            "colorscale": [
             [
              0,
              "#0d0887"
             ],
             [
              0.1111111111111111,
              "#46039f"
             ],
             [
              0.2222222222222222,
              "#7201a8"
             ],
             [
              0.3333333333333333,
              "#9c179e"
             ],
             [
              0.4444444444444444,
              "#bd3786"
             ],
             [
              0.5555555555555556,
              "#d8576b"
             ],
             [
              0.6666666666666666,
              "#ed7953"
             ],
             [
              0.7777777777777778,
              "#fb9f3a"
             ],
             [
              0.8888888888888888,
              "#fdca26"
             ],
             [
              1,
              "#f0f921"
             ]
            ],
            "type": "histogram2dcontour"
           }
          ],
          "mesh3d": [
           {
            "colorbar": {
             "outlinewidth": 0,
             "ticks": ""
            },
            "type": "mesh3d"
           }
          ],
          "parcoords": [
           {
            "line": {
             "colorbar": {
              "outlinewidth": 0,
              "ticks": ""
             }
            },
            "type": "parcoords"
           }
          ],
          "pie": [
           {
            "automargin": true,
            "type": "pie"
           }
          ],
          "scatter": [
           {
            "marker": {
             "colorbar": {
              "outlinewidth": 0,
              "ticks": ""
             }
            },
            "type": "scatter"
           }
          ],
          "scatter3d": [
           {
            "line": {
             "colorbar": {
              "outlinewidth": 0,
              "ticks": ""
             }
            },
            "marker": {
             "colorbar": {
              "outlinewidth": 0,
              "ticks": ""
             }
            },
            "type": "scatter3d"
           }
          ],
          "scattercarpet": [
           {
            "marker": {
             "colorbar": {
              "outlinewidth": 0,
              "ticks": ""
             }
            },
            "type": "scattercarpet"
           }
          ],
          "scattergeo": [
           {
            "marker": {
             "colorbar": {
              "outlinewidth": 0,
              "ticks": ""
             }
            },
            "type": "scattergeo"
           }
          ],
          "scattergl": [
           {
            "marker": {
             "colorbar": {
              "outlinewidth": 0,
              "ticks": ""
             }
            },
            "type": "scattergl"
           }
          ],
          "scattermapbox": [
           {
            "marker": {
             "colorbar": {
              "outlinewidth": 0,
              "ticks": ""
             }
            },
            "type": "scattermapbox"
           }
          ],
          "scatterpolar": [
           {
            "marker": {
             "colorbar": {
              "outlinewidth": 0,
              "ticks": ""
             }
            },
            "type": "scatterpolar"
           }
          ],
          "scatterpolargl": [
           {
            "marker": {
             "colorbar": {
              "outlinewidth": 0,
              "ticks": ""
             }
            },
            "type": "scatterpolargl"
           }
          ],
          "scatterternary": [
           {
            "marker": {
             "colorbar": {
              "outlinewidth": 0,
              "ticks": ""
             }
            },
            "type": "scatterternary"
           }
          ],
          "surface": [
           {
            "colorbar": {
             "outlinewidth": 0,
             "ticks": ""
            },
            "colorscale": [
             [
              0,
              "#0d0887"
             ],
             [
              0.1111111111111111,
              "#46039f"
             ],
             [
              0.2222222222222222,
              "#7201a8"
             ],
             [
              0.3333333333333333,
              "#9c179e"
             ],
             [
              0.4444444444444444,
              "#bd3786"
             ],
             [
              0.5555555555555556,
              "#d8576b"
             ],
             [
              0.6666666666666666,
              "#ed7953"
             ],
             [
              0.7777777777777778,
              "#fb9f3a"
             ],
             [
              0.8888888888888888,
              "#fdca26"
             ],
             [
              1,
              "#f0f921"
             ]
            ],
            "type": "surface"
           }
          ],
          "table": [
           {
            "cells": {
             "fill": {
              "color": "#EBF0F8"
             },
             "line": {
              "color": "white"
             }
            },
            "header": {
             "fill": {
              "color": "#C8D4E3"
             },
             "line": {
              "color": "white"
             }
            },
            "type": "table"
           }
          ]
         },
         "layout": {
          "annotationdefaults": {
           "arrowcolor": "#2a3f5f",
           "arrowhead": 0,
           "arrowwidth": 1
          },
          "coloraxis": {
           "colorbar": {
            "outlinewidth": 0,
            "ticks": ""
           }
          },
          "colorscale": {
           "diverging": [
            [
             0,
             "#8e0152"
            ],
            [
             0.1,
             "#c51b7d"
            ],
            [
             0.2,
             "#de77ae"
            ],
            [
             0.3,
             "#f1b6da"
            ],
            [
             0.4,
             "#fde0ef"
            ],
            [
             0.5,
             "#f7f7f7"
            ],
            [
             0.6,
             "#e6f5d0"
            ],
            [
             0.7,
             "#b8e186"
            ],
            [
             0.8,
             "#7fbc41"
            ],
            [
             0.9,
             "#4d9221"
            ],
            [
             1,
             "#276419"
            ]
           ],
           "sequential": [
            [
             0,
             "#0d0887"
            ],
            [
             0.1111111111111111,
             "#46039f"
            ],
            [
             0.2222222222222222,
             "#7201a8"
            ],
            [
             0.3333333333333333,
             "#9c179e"
            ],
            [
             0.4444444444444444,
             "#bd3786"
            ],
            [
             0.5555555555555556,
             "#d8576b"
            ],
            [
             0.6666666666666666,
             "#ed7953"
            ],
            [
             0.7777777777777778,
             "#fb9f3a"
            ],
            [
             0.8888888888888888,
             "#fdca26"
            ],
            [
             1,
             "#f0f921"
            ]
           ],
           "sequentialminus": [
            [
             0,
             "#0d0887"
            ],
            [
             0.1111111111111111,
             "#46039f"
            ],
            [
             0.2222222222222222,
             "#7201a8"
            ],
            [
             0.3333333333333333,
             "#9c179e"
            ],
            [
             0.4444444444444444,
             "#bd3786"
            ],
            [
             0.5555555555555556,
             "#d8576b"
            ],
            [
             0.6666666666666666,
             "#ed7953"
            ],
            [
             0.7777777777777778,
             "#fb9f3a"
            ],
            [
             0.8888888888888888,
             "#fdca26"
            ],
            [
             1,
             "#f0f921"
            ]
           ]
          },
          "colorway": [
           "#636efa",
           "#EF553B",
           "#00cc96",
           "#ab63fa",
           "#FFA15A",
           "#19d3f3",
           "#FF6692",
           "#B6E880",
           "#FF97FF",
           "#FECB52"
          ],
          "font": {
           "color": "#2a3f5f"
          },
          "geo": {
           "bgcolor": "white",
           "lakecolor": "white",
           "landcolor": "#E5ECF6",
           "showlakes": true,
           "showland": true,
           "subunitcolor": "white"
          },
          "hoverlabel": {
           "align": "left"
          },
          "hovermode": "closest",
          "mapbox": {
           "style": "light"
          },
          "paper_bgcolor": "white",
          "plot_bgcolor": "#E5ECF6",
          "polar": {
           "angularaxis": {
            "gridcolor": "white",
            "linecolor": "white",
            "ticks": ""
           },
           "bgcolor": "#E5ECF6",
           "radialaxis": {
            "gridcolor": "white",
            "linecolor": "white",
            "ticks": ""
           }
          },
          "scene": {
           "xaxis": {
            "backgroundcolor": "#E5ECF6",
            "gridcolor": "white",
            "gridwidth": 2,
            "linecolor": "white",
            "showbackground": true,
            "ticks": "",
            "zerolinecolor": "white"
           },
           "yaxis": {
            "backgroundcolor": "#E5ECF6",
            "gridcolor": "white",
            "gridwidth": 2,
            "linecolor": "white",
            "showbackground": true,
            "ticks": "",
            "zerolinecolor": "white"
           },
           "zaxis": {
            "backgroundcolor": "#E5ECF6",
            "gridcolor": "white",
            "gridwidth": 2,
            "linecolor": "white",
            "showbackground": true,
            "ticks": "",
            "zerolinecolor": "white"
           }
          },
          "shapedefaults": {
           "line": {
            "color": "#2a3f5f"
           }
          },
          "ternary": {
           "aaxis": {
            "gridcolor": "white",
            "linecolor": "white",
            "ticks": ""
           },
           "baxis": {
            "gridcolor": "white",
            "linecolor": "white",
            "ticks": ""
           },
           "bgcolor": "#E5ECF6",
           "caxis": {
            "gridcolor": "white",
            "linecolor": "white",
            "ticks": ""
           }
          },
          "title": {
           "x": 0.05
          },
          "xaxis": {
           "automargin": true,
           "gridcolor": "white",
           "linecolor": "white",
           "ticks": "",
           "title": {
            "standoff": 15
           },
           "zerolinecolor": "white",
           "zerolinewidth": 2
          },
          "yaxis": {
           "automargin": true,
           "gridcolor": "white",
           "linecolor": "white",
           "ticks": "",
           "title": {
            "standoff": 15
           },
           "zerolinecolor": "white",
           "zerolinewidth": 2
          }
         }
        },
        "title": {
         "font": {
          "color": "#4D5663"
         },
         "text": "Grades orgnize by periods of all students"
        },
        "xaxis": {
         "gridcolor": "#E1E5ED",
         "showgrid": true,
         "tickfont": {
          "color": "#4D5663"
         },
         "title": {
          "font": {
           "color": "#4D5663"
          },
          "text": ""
         },
         "zerolinecolor": "#E1E5ED"
        },
        "yaxis": {
         "gridcolor": "#E1E5ED",
         "showgrid": true,
         "tickfont": {
          "color": "#4D5663"
         },
         "title": {
          "font": {
           "color": "#4D5663"
          },
          "text": ""
         },
         "zerolinecolor": "#E1E5ED"
        }
       }
      },
      "text/html": [
       "<div>\n",
       "        \n",
       "        \n",
       "            <div id=\"c7282318-6228-4442-9a88-a780d01fb779\" class=\"plotly-graph-div\" style=\"height:525px; width:100%;\"></div>\n",
       "            <script type=\"text/javascript\">\n",
       "                require([\"plotly\"], function(Plotly) {\n",
       "                    window.PLOTLYENV=window.PLOTLYENV || {};\n",
       "                    window.PLOTLYENV.BASE_URL='https://plot.ly';\n",
       "                    \n",
       "                if (document.getElementById(\"c7282318-6228-4442-9a88-a780d01fb779\")) {\n",
       "                    Plotly.newPlot(\n",
       "                        'c7282318-6228-4442-9a88-a780d01fb779',\n",
       "                        [{\"boxpoints\": false, \"line\": {\"width\": 1.3}, \"marker\": {\"color\": \"rgba(255, 153, 51, 1.0)\"}, \"name\": \"CI 1\", \"orientation\": \"v\", \"type\": \"box\", \"y\": [3.4, 0.0, 4.1, 3.9, 3.5, 4.1, 3.0, 3.2, 3.0, 3.8, 3.2, 2.9, 2.6, 4.3, 4.0, 2.8, 3.2, 4.7, 3.5, 3.0, 2.7, 3.0, 3.9, 3.4, 3.4, 3.3, 3.6, 2.8, 3.7, 2.6, 3.7, 4.0, 4.1, 3.2, 3.1, 3.9, 3.5, 2.9, 3.7, 4.1, 3.8, 3.7, 3.7, 2.5, 4.6, 3.7, 3.9, 3.6, 4.3, 3.1, 1.3, 2.1, 3.2, 4.1, 2.8, 0.0, 3.2, 4.1, 3.2, 3.8, 0.0, 4.0, 3.4, 3.9, 3.2, 3.6, 3.1, 3.8, 3.1, 3.6, 3.4, 0.0, 2.8, 3.4, 3.7, 3.5, 3.5, 2.7, 2.3, 3.9, 4.0, 4.2, 3.4, 3.0, 3.9, 1.7, 2.6, 3.5, 3.4, 3.1, 4.1, 3.5, 2.4, 3.1, 4.1, 3.9, 3.5, 4.1, 3.6, 3.6, 2.6]}, {\"boxpoints\": false, \"line\": {\"width\": 1.3}, \"marker\": {\"color\": \"rgba(55, 128, 191, 1.0)\"}, \"name\": \"DD 1\", \"orientation\": \"v\", \"type\": \"box\", \"y\": [3.0, 3.0, 2.3, 3.3, 3.5, 3.0, 2.63, 3.3, 2.38, 3.8, 2.8, 2.8, 3.03, 3.0, 2.2, 3.5, 3.0, 3.3, 3.0, 2.5, 2.4, 3.3, 2.53, 2.8, 2.3, 2.78, 3.0, 2.9, 2.03, 2.6, 3.5, 2.5, 2.7, 2.8, 2.35, 1.8, 3.0, 2.38, 3.0, 3.0, 2.2, 3.0, 2.5, 3.3, 2.78, 2.8, 2.5, 3.03, 3.0, 3.0, 2.5, 2.5, 2.8, 3.7, 2.5, 2.3, 2.0, 3.9, 2.13, 2.3, 3.0, 2.2, 2.48, 3.2, 2.8, 3.28, 2.5, 2.38, 2.5, 2.8, 3.5, 2.25, 3.3, 2.5, 2.25, 2.1, 3.3, 2.0, 1.8, 3.1, 2.7, 3.0, 2.3, 2.3, 3.0, 2.5, 2.0, 2.8, 2.25, 2.5, 3.3, 2.8, 2.63, 2.3, 2.0, 3.3, 2.6, 2.7, 3.8, 2.0, 2.3]}, {\"boxpoints\": false, \"line\": {\"width\": 1.3}, \"marker\": {\"color\": \"rgba(50, 171, 96, 1.0)\"}, \"name\": \"EL 1\", \"orientation\": \"v\", \"type\": \"box\", \"y\": [3.4, 3.2, 2.6, 4.0, 3.6, 4.2, 4.8, 4.8, 4.2, 3.2, 3.6, 2.4, 4.6, 3.4, 3.2, 4.0, 3.2, 4.0, 3.6, 3.65, 3.2, 3.8, 4.8, 4.0, 4.0, 3.2, 4.0, 4.2, 3.6, 2.28, 3.91, 4.2, 4.6, 4.4, 4.4, 4.2, 3.2, 3.57, 2.72, 2.6, 3.8, 4.0, 4.6, 4.8, 4.2, 2.6, 3.8, 4.0, 3.4, 3.2, 3.4, 4.0, 3.2, 3.8, 3.4, 4.8, 3.4, 2.6, 3.8, 4.4, 3.2, 1.82, 4.0, 3.8, 3.22, 3.2, 4.0, 3.36, 3.8, 3.6, 4.2, 3.0, 2.74, 4.0, 3.2, 4.2, 3.4, 3.2, 2.89, 2.6, 2.6, 4.2, 3.8, 4.0, 3.8, 2.66, 3.2, 3.4, 3.2, 3.6, 3.6, 4.0, 3.2, 4.8, 3.8, 4.0, 2.4, 3.2, 3.8, 2.7, 3.74]}, {\"boxpoints\": false, \"line\": {\"width\": 1.3}, \"marker\": {\"color\": \"rgba(128, 0, 128, 1.0)\"}, \"name\": \"PR 1\", \"orientation\": \"v\", \"type\": \"box\", \"y\": [3.0, 2.7, 3.5, 2.9, 2.98, 3.2, 3.23, 3.0, 3.0, 3.33, 3.5, 2.4, 2.4, 2.9, 3.2, 2.7, 2.7, 2.5, 2.4, 2.02, 2.9, 3.2, 3.1, 2.9, 2.5, 3.1, 3.2, 3.3, 3.3, 3.0, 2.55, 3.2, 3.2, 2.9, 3.3, 2.55, 3.3, 3.3, 3.3, 3.5, 3.2, 3.8, 2.7, 2.7, 3.3, 2.5, 2.9, 2.9, 2.7, 2.9, 2.7, 3.1, 3.0, 2.9, 3.0, 2.7, 2.23, 3.2, 2.9, 3.0, 2.72, 3.3, 3.2, 3.0, 2.47, 3.2, 2.7, 3.2, 2.4, 3.2, 3.0, 2.55, 2.07, 3.3, 3.3, 3.2, 3.1, 2.13, 3.1, 2.7, 3.5, 3.13, 2.24, 3.3, 3.5, 1.56, 2.7, 3.5, 3.2, 3.8, 3.5, 2.98, 3.3, 3.1, 3.2, 3.0, 2.7, 3.3, 2.4, 1.71, 3.2]}, {\"boxpoints\": false, \"line\": {\"width\": 1.3}, \"marker\": {\"color\": \"rgba(219, 64, 82, 1.0)\"}, \"name\": \"CI 2\", \"orientation\": \"v\", \"type\": \"box\", \"y\": [2.7, 0.0, 3.2, 3.1, 3.1, 3.7, 2.6, 3.5, 3.0, 4.4, 2.9, 2.6, 2.5, 3.6, 3.2, 0.0, 0.0, 0.0, 2.9, 2.3, 3.1, 3.0, 2.6, 3.2, 2.4, 3.4, 4.0, 3.4, 3.5, 3.0, 2.7, 3.8, 3.9, 2.4, 3.0, 2.6, 3.1, 2.6, 2.7, 3.0, 2.7, 4.3, 2.9, 4.0, 4.1, 3.5, 3.3, 3.6, 2.9, 3.7, 3.8, 3.0, 2.5, 4.1, 3.5, 2.8, 2.9, 3.7, 2.3, 3.7, 0.0, 3.0, 3.2, 3.8, 1.9, 4.0, 2.6, 2.4, 2.9, 3.4, 3.0, 0.0, 2.4, 3.2, 3.3, 3.1, 3.0, 2.5, 2.0, 3.1, 3.1, 4.0, 2.8, 2.1, 3.9, 2.4, 2.3, 3.2, 2.3, 3.2, 3.8, 3.3, 2.7, 2.5, 2.8, 3.1, 2.9, 3.9, 2.8, 0.0, 2.5]}, {\"boxpoints\": false, \"line\": {\"width\": 1.3}, \"marker\": {\"color\": \"rgba(0, 128, 128, 1.0)\"}, \"name\": \"DD 2\", \"orientation\": \"v\", \"type\": \"box\", \"y\": [4.2, 0.0, 3.5, 3.1, 4.0, 4.2, 2.55, 2.5, 3.0, 4.2, 3.5, 2.6, 3.2, 3.5, 3.8, 2.3, 3.5, 3.5, 3.2, 3.3, 2.8, 4.4, 4.5, 4.3, 3.4, 4.5, 4.2, 4.2, 3.3, 3.5, 3.9, 3.2, 3.3, 3.6, 3.4, 4.1, 3.4, 3.4, 3.9, 3.5, 3.5, 4.1, 3.0, 2.9, 3.4, 3.5, 2.8, 3.3, 3.1, 4.8, 4.3, 4.0, 3.4, 4.2, 3.6, 3.2, 3.9, 4.3, 2.6, 3.7, 0.0, 4.1, 3.5, 3.7, 3.1, 4.1, 2.5, 3.3, 3.9, 3.9, 4.5, 2.8, 3.3, 4.2, 3.0, 3.3, 3.5, 3.1, 4.5, 3.6, 2.7, 3.35, 3.4, 3.5, 4.0, 2.35, 3.9, 4.4, 4.0, 4.0, 3.4, 3.2, 3.0, 3.7, 4.5, 4.1, 2.9, 4.1, 3.2, 3.1, 3.0]}, {\"boxpoints\": false, \"line\": {\"width\": 1.3}, \"marker\": {\"color\": \"rgba(255, 255, 51, 1.0)\"}, \"name\": \"EL 2\", \"orientation\": \"v\", \"type\": \"box\", \"y\": [2.7, 4.45, 4.5, 3.44, 4.35, 2.7, 2.2, 2.3, 2.7, 4.45, 2.4, 2.9, 3.5, 3.15, 2.5, 3.0, 3.0, 2.83, 4.35, 2.7, 2.85, 3.7, 2.3, 3.65, 3.1, 4.45, 4.5, 3.85, 2.4, 2.47, 3.5, 3.55, 3.5, 3.35, 2.2, 3.55, 3.0, 2.49, 3.0, 4.35, 3.7, 2.42, 3.5, 2.3, 3.85, 4.35, 3.35, 2.68, 3.5, 3.0, 2.7, 3.0, 3.0, 3.35, 3.5, 2.2, 3.5, 4.35, 3.7, 2.2, 2.3, 2.39, 3.65, 2.7, 2.73, 2.5, 3.65, 2.44, 1.89, 4.35, 3.85, 2.5, 2.41, 3.0, 2.59, 2.7, 2.7, 3.0, 3.5, 4.5, 4.5, 3.85, 2.7, 3.0, 3.35, 1.87, 4.45, 3.15, 2.3, 2.4, 4.35, 2.68, 2.7, 2.3, 3.7, 4.5, 2.9, 3.0, 3.35, 1.5, 2.2]}, {\"boxpoints\": false, \"line\": {\"width\": 1.3}, \"marker\": {\"color\": \"rgba(128, 128, 0, 1.0)\"}, \"name\": \"PR 2\", \"orientation\": \"v\", \"type\": \"box\", \"y\": [4.4, 3.9, 3.5, 3.1, 2.9, 3.5, 3.5, 3.9, 3.2, 4.4, 3.0, 2.89, 2.63, 4.1, 3.3, 4.4, 3.1, 3.0, 3.3, 1.71, 3.1, 3.2, 3.5, 3.1, 4.1, 3.4, 3.2, 3.52, 3.0, 3.2, 3.8, 3.2, 2.9, 2.38, 3.3, 3.5, 3.1, 2.2, 3.1, 3.2, 4.0, 3.2, 3.3, 3.4, 3.4, 3.5, 1.66, 3.5, 2.4, 3.1, 3.5, 3.4, 2.64, 3.3, 3.4, 2.1, 3.4, 4.1, 2.64, 4.0, 2.17, 2.98, 3.1, 3.5, 2.11, 3.1, 3.0, 1.91, 2.45, 3.5, 3.4, 2.6, 2.72, 3.9, 4.0, 2.8, 3.7, 3.1, 4.4, 2.9, 3.3, 3.4, 3.5, 2.4, 3.8, 2.24, 3.7, 3.0, 2.45, 3.1, 2.89, 3.0, 3.2, 3.5, 3.1, 3.5, 3.8, 3.5, 3.8, 2.4, 2.38]}, {\"boxpoints\": false, \"line\": {\"width\": 1.3}, \"marker\": {\"color\": \"rgba(251, 128, 114, 1.0)\"}, \"name\": \"CI 3\", \"orientation\": \"v\", \"type\": \"box\", \"y\": [3.6, 0.0, 4.2, 3.2, 4.3, 3.6, 2.4, 4.8, 3.1, 4.0, 3.8, 3.9, 3.4, 3.6, 3.9, 3.3, 4.0, 3.7, 3.7, 2.2, 2.8, 2.4, 2.7, 2.5, 3.0, 3.1, 3.3, 4.0, 3.6, 2.9, 4.1, 3.4, 2.7, 4.0, 4.2, 3.3, 4.0, 3.0, 3.8, 3.4, 3.7, 4.1, 3.7, 3.4, 3.7, 3.5, 3.4, 3.3, 3.5, 2.7, 2.9, 2.6, 3.7, 4.7, 2.1, 3.3, 2.7, 3.6, 3.2, 2.5, 0.0, 3.0, 3.7, 4.1, 2.5, 4.3, 3.2, 3.2, 2.2, 3.7, 3.2, 4.5, 2.3, 2.8, 2.7, 4.7, 4.2, 2.8, 3.3, 2.3, 3.1, 4.4, 2.9, 3.4, 3.4, 2.9, 3.7, 3.4, 3.4, 3.7, 3.9, 2.2, 3.5, 3.6, 3.7, 4.2, 3.0, 4.3, 3.2, 3.2, 2.3]}, {\"boxpoints\": false, \"line\": {\"width\": 1.3}, \"marker\": {\"color\": \"rgba(128, 177, 211, 1.0)\"}, \"name\": \"DD 3\", \"orientation\": \"v\", \"type\": \"box\", \"y\": [3.55, 3.57, 3.25, 3.7, 2.7, 3.0, 3.3, 2.95, 3.4, 3.5, 3.55, 3.32, 3.5, 3.5, 3.15, 4.2, 3.7, 3.4, 2.4, 2.95, 3.4, 3.25, 3.6, 3.65, 2.76, 4.0, 3.65, 2.64, 3.3, 3.55, 3.7, 3.5, 3.3, 2.7, 3.7, 3.7, 3.5, 3.0, 3.5, 3.55, 3.1, 3.25, 3.8, 3.25, 3.0, 3.5, 3.55, 4.0, 3.1, 3.65, 3.25, 3.33, 3.5, 3.8, 2.55, 3.25, 3.3, 3.0, 2.55, 3.8, 3.8, 2.66, 4.2, 3.9, 2.95, 3.7, 3.6, 2.15, 3.0, 2.7, 3.25, 2.7, 3.9, 2.65, 2.4, 3.9, 2.65, 3.6, 2.98, 3.9, 3.25, 3.5, 3.25, 3.4, 3.65, 2.65, 2.4, 3.1, 4.0, 4.2, 3.25, 3.32, 3.9, 3.7, 3.6, 3.1, 2.98, 3.5, 3.55, 1.68, 3.1]}, {\"boxpoints\": false, \"line\": {\"width\": 1.3}, \"marker\": {\"color\": \"rgba(128, 177, 211, 0.8999999999999999)\"}, \"name\": \"EL 3\", \"orientation\": \"v\", \"type\": \"box\", \"y\": [4.85, 4.85, 3.8, 3.55, 3.7, 3.55, 3.9, 4.85, 2.8, 2.8, 3.7, 4.15, 3.65, 2.9, 3.15, 4.85, 3.05, 4.2, 2.85, 1.93, 2.8, 3.55, 3.5, 3.75, 3.55, 4.55, 3.9, 3.9, 4.6, 3.9, 3.7, 2.3, 3.8, 3.15, 3.7, 3.55, 4.55, 2.75, 3.65, 2.75, 3.8, 3.8, 3.0, 4.45, 2.3, 4.6, 3.8, 3.5, 1.82, 2.75, 2.9, 3.75, 3.5, 2.85, 3.53, 3.55, 4.6, 2.3, 3.0, 2.95, 3.55, 3.15, 3.55, 3.55, 2.34, 3.9, 3.1, 3.94, 2.7, 3.9, 3.55, 3.15, 2.7, 3.9, 3.0, 3.55, 4.85, 2.85, 2.7, 3.0, 3.55, 2.8, 2.9, 4.6, 3.8, 3.15, 3.0, 4.2, 2.9, 3.9, 4.45, 2.95, 2.75, 3.55, 2.9, 3.55, 2.85, 2.8, 2.31, 2.42, 3.32]}, {\"boxpoints\": false, \"line\": {\"width\": 1.3}, \"marker\": {\"color\": \"rgba(255, 153, 51, 0.8999999999999999)\"}, \"name\": \"PR3\", \"orientation\": \"v\", \"type\": \"box\", \"y\": [3.55, 4.3, 3.2, 3.2, 2.85, 3.55, 3.5, 3.55, 3.3, 4.1, 3.55, 2.85, 3.05, 3.05, 2.72, 4.3, 3.2, 3.3, 2.75, 2.87, 3.3, 3.3, 3.55, 4.1, 2.04, 2.95, 4.1, 3.37, 3.5, 2.95, 3.2, 2.85, 3.5, 2.85, 3.2, 3.2, 3.95, 2.55, 3.05, 2.95, 3.4, 3.2, 3.5, 2.4, 3.55, 4.1, 2.95, 2.95, 2.4, 4.1, 2.4, 4.1, 3.05, 3.5, 2.42, 3.2, 3.5, 3.55, 2.75, 3.5, 3.5, 3.02, 4.3, 2.85, 2.87, 3.2, 3.55, 2.45, 3.55, 2.85, 3.2, 1.43, 2.42, 2.85, 2.75, 2.45, 2.85, 3.55, 2.85, 2.45, 2.4, 3.95, 3.3, 2.81, 4.1, 2.85, 2.75, 3.4, 2.95, 4.3, 3.3, 2.42, 2.45, 3.2, 3.55, 3.55, 2.85, 3.95, 2.95, 1.93, 3.4]}, {\"boxpoints\": false, \"line\": {\"width\": 1.3}, \"marker\": {\"color\": \"rgba(55, 128, 191, 0.8999999999999999)\"}, \"name\": \"CI 4\", \"orientation\": \"v\", \"type\": \"box\", \"y\": [4.0, 0.0, 4.0, 3.7, 3.4, 3.8, 3.2, 3.8, 3.2, 3.6, 4.0, 3.2, 3.3, 3.3, 3.1, 3.8, 3.2, 3.0, 3.1, 3.05, 3.0, 3.1, 3.1, 3.4, 3.9, 3.1, 0.0, 3.4, 3.2, 2.8, 3.7, 3.8, 4.1, 2.9, 3.4, 3.4, 3.4, 3.2, 3.3, 3.8, 4.1, 2.9, 3.2, 3.1, 3.5, 2.8, 3.3, 3.8, 3.8, 3.0, 3.6, 3.1, 3.4, 4.4, 3.7, 3.8, 3.6, 3.8, 3.3, 3.1, 0.0, 3.9, 0.0, 3.4, 3.6, 2.9, 3.0, 2.9, 2.5, 3.9, 3.8, 3.6, 3.5, 3.5, 3.4, 3.1, 3.7, 2.98, 3.1, 3.3, 3.4, 3.6, 3.2, 3.5, 4.0, 3.2, 3.6, 3.6, 3.3, 3.3, 3.5, 3.4, 3.2, 3.7, 3.1, 4.3, 3.6, 3.1, 3.5, 3.1, 2.4]}, {\"boxpoints\": false, \"line\": {\"width\": 1.3}, \"marker\": {\"color\": \"rgba(50, 171, 96, 0.8999999999999999)\"}, \"name\": \"DD 4A\", \"orientation\": \"v\", \"type\": \"box\", \"y\": [3.7, 1.9, 4.3, 4.3, 2.5, 2.9, 3.3, 4.6, 3.7, 2.9, 1.3, 1.4, 4.6, 4.6, 1.4, 3.1, 2.0, 4.3, 2.9, 3.9, 3.2, 3.5, 3.4, 4.3, 1.8, 4.3, 3.5, 3.1, 1.7, 2.1, 3.6, 3.5, 4.7, 4.2, 2.0, 2.0, 3.0, 2.1, 3.9, 2.9, 4.0, 1.4, 2.33, 2.8, 3.2, 2.2, 2.9, 4.6, 4.7, 4.3, 3.9, 3.3, 3.7, 4.6, 4.3, 3.4, 2.1, 3.8, 2.0, 3.7, 0.0, 2.5, 4.3, 4.2, 3.9, 3.9, 3.9, 2.8, 3.9, 3.9, 3.7, 3.1, 2.28, 1.7, 2.5, 0.0, 4.3, 1.7, 1.8, 4.4, 3.1, 1.7, 3.9, 3.6, 4.6, 2.9, 2.68, 4.1, 4.6, 4.3, 4.4, 1.9, 1.8, 1.8, 4.3, 3.6, 4.3, 3.1, 3.1, 3.5, 3.5]}, {\"boxpoints\": false, \"line\": {\"width\": 1.3}, \"marker\": {\"color\": \"rgba(128, 0, 128, 0.8999999999999999)\"}, \"name\": \"DD 4B\", \"orientation\": \"v\", \"type\": \"box\", \"y\": [4.05, 3.95, 3.2, 4.05, 4.05, 4.25, 1.85, 4.4, 3.44, 2.05, 3.95, 3.6, 4.1, 3.55, 3.25, 3.65, 4.05, 1.85, 3.9, 4.05, 3.55, 3.2, 3.55, 2.05, 3.49, 3.45, 2.25, 3.1, 2.49, 4.05, 3.95, 3.95, 3.55, 3.95, 4.05, 3.25, 3.55, 4.3, 3.35, 2.05, 3.55, 3.02, 2.4, 4.1, 3.95, 3.55, 1.2, 4.1, 1.78, 4.05, 2.42, 2.25, 3.2, 3.6, 4.25, 3.35, 3.65, 2.8, 3.9, 3.6, 4.25, 4.05, 4.05, 2.8, 2.05, 3.25, 3.2, 4.25, 2.8, 4.18, 4.1, 3.65, 3.06, 3.65, 3.95, 2.36, 3.95, 3.45, 1.8, 3.95, 3.23, 3.35, 4.1, 3.55, 3.65, 4.05, 4.3, 3.65, 3.8, 4.4, 3.45, 3.9, 3.9, 3.75, 3.8, 3.95, 2.4, 4.1, 1.58, 3.01, 2.25]}, {\"boxpoints\": false, \"line\": {\"width\": 1.3}, \"marker\": {\"color\": \"rgba(219, 64, 82, 0.8999999999999999)\"}, \"name\": \"EL 4\", \"orientation\": \"v\", \"type\": \"box\", \"y\": [3.85, 3.85, 4.05, 3.3, 3.05, 3.75, 2.51, 3.85, 4.1, 4.1, 3.05, 2.9, 3.5, 3.3, 2.85, 3.85, 3.05, 3.5, 3.45, 3.32, 4.1, 3.3, 3.75, 3.45, 2.72, 3.25, 2.95, 2.75, 3.5, 2.95, 3.05, 3.75, 4.05, 2.85, 3.05, 2.72, 3.25, 3.1, 3.5, 3.9, 4.05, 4.05, 4.0, 4.05, 3.75, 3.5, 4.05, 3.75, 3.38, 3.9, 3.3, 3.45, 3.75, 3.05, 2.76, 3.3, 3.5, 3.75, 3.45, 4.15, 3.75, 2.85, 3.3, 3.75, 3.32, 2.75, 1.75, 2.9, 3.15, 2.75, 3.3, 2.85, 3.15, 2.75, 4.0, 3.75, 3.85, 3.44, 3.15, 3.28, 3.3, 3.7, 3.3, 3.5, 4.05, 2.85, 4.0, 3.5, 3.3, 2.75, 4.05, 4.15, 3.1, 3.3, 3.3, 3.3, 3.05, 3.7, 4.1, 2.59, 2.07]}, {\"boxpoints\": false, \"line\": {\"width\": 1.3}, \"marker\": {\"color\": \"rgba(0, 128, 128, 0.8999999999999999)\"}, \"name\": \"PR4\", \"orientation\": \"v\", \"type\": \"box\", \"y\": [4.3, 4.15, 3.75, 3.66, 2.9, 4.15, 3.15, 3.6, 3.0, 4.15, 3.6, 4.0, 3.85, 3.0, 2.45, 3.15, 2.9, 3.15, 3.0, 3.0, 3.0, 3.75, 3.0, 4.15, 3.85, 3.15, 2.9, 2.68, 2.55, 3.0, 3.6, 3.0, 3.45, 4.15, 4.3, 2.45, 3.0, 2.72, 3.6, 4.15, 3.45, 3.0, 2.6, 3.85, 3.0, 3.0, 2.36, 3.85, 2.08, 3.0, 2.21, 2.9, 3.75, 4.0, 4.15, 3.6, 3.85, 4.3, 3.0, 4.0, 4.15, 2.9, 2.9, 4.3, 4.15, 2.45, 3.19, 3.53, 4.3, 3.42, 3.85, 3.15, 4.0, 3.15, 3.0, 2.56, 4.15, 2.68, 2.21, 2.55, 4.0, 3.6, 3.85, 3.45, 3.85, 4.3, 2.72, 3.85, 3.8, 3.6, 3.15, 3.0, 3.0, 3.6, 4.0, 4.15, 2.6, 3.85, 2.03, 2.01, 2.47]}],\n",
       "                        {\"legend\": {\"bgcolor\": \"#F5F6F9\", \"font\": {\"color\": \"#4D5663\"}}, \"paper_bgcolor\": \"#F5F6F9\", \"plot_bgcolor\": \"#F5F6F9\", \"template\": {\"data\": {\"bar\": [{\"error_x\": {\"color\": \"#2a3f5f\"}, \"error_y\": {\"color\": \"#2a3f5f\"}, \"marker\": {\"line\": {\"color\": \"#E5ECF6\", \"width\": 0.5}}, \"type\": \"bar\"}], \"barpolar\": [{\"marker\": {\"line\": {\"color\": \"#E5ECF6\", \"width\": 0.5}}, \"type\": \"barpolar\"}], \"carpet\": [{\"aaxis\": {\"endlinecolor\": \"#2a3f5f\", \"gridcolor\": \"white\", \"linecolor\": \"white\", \"minorgridcolor\": \"white\", \"startlinecolor\": \"#2a3f5f\"}, \"baxis\": {\"endlinecolor\": \"#2a3f5f\", \"gridcolor\": \"white\", \"linecolor\": \"white\", \"minorgridcolor\": \"white\", \"startlinecolor\": \"#2a3f5f\"}, \"type\": \"carpet\"}], \"choropleth\": [{\"colorbar\": {\"outlinewidth\": 0, \"ticks\": \"\"}, \"type\": \"choropleth\"}], \"contour\": [{\"colorbar\": {\"outlinewidth\": 0, \"ticks\": \"\"}, \"colorscale\": [[0.0, \"#0d0887\"], [0.1111111111111111, \"#46039f\"], [0.2222222222222222, \"#7201a8\"], [0.3333333333333333, \"#9c179e\"], [0.4444444444444444, \"#bd3786\"], [0.5555555555555556, \"#d8576b\"], [0.6666666666666666, \"#ed7953\"], [0.7777777777777778, \"#fb9f3a\"], [0.8888888888888888, \"#fdca26\"], [1.0, \"#f0f921\"]], \"type\": \"contour\"}], \"contourcarpet\": [{\"colorbar\": {\"outlinewidth\": 0, \"ticks\": \"\"}, \"type\": \"contourcarpet\"}], \"heatmap\": [{\"colorbar\": {\"outlinewidth\": 0, \"ticks\": \"\"}, \"colorscale\": [[0.0, \"#0d0887\"], [0.1111111111111111, \"#46039f\"], [0.2222222222222222, \"#7201a8\"], [0.3333333333333333, \"#9c179e\"], [0.4444444444444444, \"#bd3786\"], [0.5555555555555556, \"#d8576b\"], [0.6666666666666666, \"#ed7953\"], [0.7777777777777778, \"#fb9f3a\"], [0.8888888888888888, \"#fdca26\"], [1.0, \"#f0f921\"]], \"type\": \"heatmap\"}], \"heatmapgl\": [{\"colorbar\": {\"outlinewidth\": 0, \"ticks\": \"\"}, \"colorscale\": [[0.0, \"#0d0887\"], [0.1111111111111111, \"#46039f\"], [0.2222222222222222, \"#7201a8\"], [0.3333333333333333, \"#9c179e\"], [0.4444444444444444, \"#bd3786\"], [0.5555555555555556, \"#d8576b\"], [0.6666666666666666, \"#ed7953\"], [0.7777777777777778, \"#fb9f3a\"], [0.8888888888888888, \"#fdca26\"], [1.0, \"#f0f921\"]], \"type\": \"heatmapgl\"}], \"histogram\": [{\"marker\": {\"colorbar\": {\"outlinewidth\": 0, \"ticks\": \"\"}}, \"type\": \"histogram\"}], \"histogram2d\": [{\"colorbar\": {\"outlinewidth\": 0, \"ticks\": \"\"}, \"colorscale\": [[0.0, \"#0d0887\"], [0.1111111111111111, \"#46039f\"], [0.2222222222222222, \"#7201a8\"], [0.3333333333333333, \"#9c179e\"], [0.4444444444444444, \"#bd3786\"], [0.5555555555555556, \"#d8576b\"], [0.6666666666666666, \"#ed7953\"], [0.7777777777777778, \"#fb9f3a\"], [0.8888888888888888, \"#fdca26\"], [1.0, \"#f0f921\"]], \"type\": \"histogram2d\"}], \"histogram2dcontour\": [{\"colorbar\": {\"outlinewidth\": 0, \"ticks\": \"\"}, \"colorscale\": [[0.0, \"#0d0887\"], [0.1111111111111111, \"#46039f\"], [0.2222222222222222, \"#7201a8\"], [0.3333333333333333, \"#9c179e\"], [0.4444444444444444, \"#bd3786\"], [0.5555555555555556, \"#d8576b\"], [0.6666666666666666, \"#ed7953\"], [0.7777777777777778, \"#fb9f3a\"], [0.8888888888888888, \"#fdca26\"], [1.0, \"#f0f921\"]], \"type\": \"histogram2dcontour\"}], \"mesh3d\": [{\"colorbar\": {\"outlinewidth\": 0, \"ticks\": \"\"}, \"type\": \"mesh3d\"}], \"parcoords\": [{\"line\": {\"colorbar\": {\"outlinewidth\": 0, \"ticks\": \"\"}}, \"type\": \"parcoords\"}], \"pie\": [{\"automargin\": true, \"type\": \"pie\"}], \"scatter\": [{\"marker\": {\"colorbar\": {\"outlinewidth\": 0, \"ticks\": \"\"}}, \"type\": \"scatter\"}], \"scatter3d\": [{\"line\": {\"colorbar\": {\"outlinewidth\": 0, \"ticks\": \"\"}}, \"marker\": {\"colorbar\": {\"outlinewidth\": 0, \"ticks\": \"\"}}, \"type\": \"scatter3d\"}], \"scattercarpet\": [{\"marker\": {\"colorbar\": {\"outlinewidth\": 0, \"ticks\": \"\"}}, \"type\": \"scattercarpet\"}], \"scattergeo\": [{\"marker\": {\"colorbar\": {\"outlinewidth\": 0, \"ticks\": \"\"}}, \"type\": \"scattergeo\"}], \"scattergl\": [{\"marker\": {\"colorbar\": {\"outlinewidth\": 0, \"ticks\": \"\"}}, \"type\": \"scattergl\"}], \"scattermapbox\": [{\"marker\": {\"colorbar\": {\"outlinewidth\": 0, \"ticks\": \"\"}}, \"type\": \"scattermapbox\"}], \"scatterpolar\": [{\"marker\": {\"colorbar\": {\"outlinewidth\": 0, \"ticks\": \"\"}}, \"type\": \"scatterpolar\"}], \"scatterpolargl\": [{\"marker\": {\"colorbar\": {\"outlinewidth\": 0, \"ticks\": \"\"}}, \"type\": \"scatterpolargl\"}], \"scatterternary\": [{\"marker\": {\"colorbar\": {\"outlinewidth\": 0, \"ticks\": \"\"}}, \"type\": \"scatterternary\"}], \"surface\": [{\"colorbar\": {\"outlinewidth\": 0, \"ticks\": \"\"}, \"colorscale\": [[0.0, \"#0d0887\"], [0.1111111111111111, \"#46039f\"], [0.2222222222222222, \"#7201a8\"], [0.3333333333333333, \"#9c179e\"], [0.4444444444444444, \"#bd3786\"], [0.5555555555555556, \"#d8576b\"], [0.6666666666666666, \"#ed7953\"], [0.7777777777777778, \"#fb9f3a\"], [0.8888888888888888, \"#fdca26\"], [1.0, \"#f0f921\"]], \"type\": \"surface\"}], \"table\": [{\"cells\": {\"fill\": {\"color\": \"#EBF0F8\"}, \"line\": {\"color\": \"white\"}}, \"header\": {\"fill\": {\"color\": \"#C8D4E3\"}, \"line\": {\"color\": \"white\"}}, \"type\": \"table\"}]}, \"layout\": {\"annotationdefaults\": {\"arrowcolor\": \"#2a3f5f\", \"arrowhead\": 0, \"arrowwidth\": 1}, \"coloraxis\": {\"colorbar\": {\"outlinewidth\": 0, \"ticks\": \"\"}}, \"colorscale\": {\"diverging\": [[0, \"#8e0152\"], [0.1, \"#c51b7d\"], [0.2, \"#de77ae\"], [0.3, \"#f1b6da\"], [0.4, \"#fde0ef\"], [0.5, \"#f7f7f7\"], [0.6, \"#e6f5d0\"], [0.7, \"#b8e186\"], [0.8, \"#7fbc41\"], [0.9, \"#4d9221\"], [1, \"#276419\"]], \"sequential\": [[0.0, \"#0d0887\"], [0.1111111111111111, \"#46039f\"], [0.2222222222222222, \"#7201a8\"], [0.3333333333333333, \"#9c179e\"], [0.4444444444444444, \"#bd3786\"], [0.5555555555555556, \"#d8576b\"], [0.6666666666666666, \"#ed7953\"], [0.7777777777777778, \"#fb9f3a\"], [0.8888888888888888, \"#fdca26\"], [1.0, \"#f0f921\"]], \"sequentialminus\": [[0.0, \"#0d0887\"], [0.1111111111111111, \"#46039f\"], [0.2222222222222222, \"#7201a8\"], [0.3333333333333333, \"#9c179e\"], [0.4444444444444444, \"#bd3786\"], [0.5555555555555556, \"#d8576b\"], [0.6666666666666666, \"#ed7953\"], [0.7777777777777778, \"#fb9f3a\"], [0.8888888888888888, \"#fdca26\"], [1.0, \"#f0f921\"]]}, \"colorway\": [\"#636efa\", \"#EF553B\", \"#00cc96\", \"#ab63fa\", \"#FFA15A\", \"#19d3f3\", \"#FF6692\", \"#B6E880\", \"#FF97FF\", \"#FECB52\"], \"font\": {\"color\": \"#2a3f5f\"}, \"geo\": {\"bgcolor\": \"white\", \"lakecolor\": \"white\", \"landcolor\": \"#E5ECF6\", \"showlakes\": true, \"showland\": true, \"subunitcolor\": \"white\"}, \"hoverlabel\": {\"align\": \"left\"}, \"hovermode\": \"closest\", \"mapbox\": {\"style\": \"light\"}, \"paper_bgcolor\": \"white\", \"plot_bgcolor\": \"#E5ECF6\", \"polar\": {\"angularaxis\": {\"gridcolor\": \"white\", \"linecolor\": \"white\", \"ticks\": \"\"}, \"bgcolor\": \"#E5ECF6\", \"radialaxis\": {\"gridcolor\": \"white\", \"linecolor\": \"white\", \"ticks\": \"\"}}, \"scene\": {\"xaxis\": {\"backgroundcolor\": \"#E5ECF6\", \"gridcolor\": \"white\", \"gridwidth\": 2, \"linecolor\": \"white\", \"showbackground\": true, \"ticks\": \"\", \"zerolinecolor\": \"white\"}, \"yaxis\": {\"backgroundcolor\": \"#E5ECF6\", \"gridcolor\": \"white\", \"gridwidth\": 2, \"linecolor\": \"white\", \"showbackground\": true, \"ticks\": \"\", \"zerolinecolor\": \"white\"}, \"zaxis\": {\"backgroundcolor\": \"#E5ECF6\", \"gridcolor\": \"white\", \"gridwidth\": 2, \"linecolor\": \"white\", \"showbackground\": true, \"ticks\": \"\", \"zerolinecolor\": \"white\"}}, \"shapedefaults\": {\"line\": {\"color\": \"#2a3f5f\"}}, \"ternary\": {\"aaxis\": {\"gridcolor\": \"white\", \"linecolor\": \"white\", \"ticks\": \"\"}, \"baxis\": {\"gridcolor\": \"white\", \"linecolor\": \"white\", \"ticks\": \"\"}, \"bgcolor\": \"#E5ECF6\", \"caxis\": {\"gridcolor\": \"white\", \"linecolor\": \"white\", \"ticks\": \"\"}}, \"title\": {\"x\": 0.05}, \"xaxis\": {\"automargin\": true, \"gridcolor\": \"white\", \"linecolor\": \"white\", \"ticks\": \"\", \"title\": {\"standoff\": 15}, \"zerolinecolor\": \"white\", \"zerolinewidth\": 2}, \"yaxis\": {\"automargin\": true, \"gridcolor\": \"white\", \"linecolor\": \"white\", \"ticks\": \"\", \"title\": {\"standoff\": 15}, \"zerolinecolor\": \"white\", \"zerolinewidth\": 2}}}, \"title\": {\"font\": {\"color\": \"#4D5663\"}, \"text\": \"Grades orgnize by periods of all students\"}, \"xaxis\": {\"gridcolor\": \"#E1E5ED\", \"showgrid\": true, \"tickfont\": {\"color\": \"#4D5663\"}, \"title\": {\"font\": {\"color\": \"#4D5663\"}, \"text\": \"\"}, \"zerolinecolor\": \"#E1E5ED\"}, \"yaxis\": {\"gridcolor\": \"#E1E5ED\", \"showgrid\": true, \"tickfont\": {\"color\": \"#4D5663\"}, \"title\": {\"font\": {\"color\": \"#4D5663\"}, \"text\": \"\"}, \"zerolinecolor\": \"#E1E5ED\"}},\n",
       "                        {\"showLink\": true, \"linkText\": \"Export to plot.ly\", \"plotlyServerURL\": \"https://plot.ly\", \"responsive\": true}\n",
       "                    ).then(function(){\n",
       "                            \n",
       "var gd = document.getElementById('c7282318-6228-4442-9a88-a780d01fb779');\n",
       "var x = new MutationObserver(function (mutations, observer) {{\n",
       "        var display = window.getComputedStyle(gd).display;\n",
       "        if (!display || display === 'none') {{\n",
       "            console.log([gd, 'removed!']);\n",
       "            Plotly.purge(gd);\n",
       "            observer.disconnect();\n",
       "        }}\n",
       "}});\n",
       "\n",
       "// Listen for the removal of the full notebook cells\n",
       "var notebookContainer = gd.closest('#notebook-container');\n",
       "if (notebookContainer) {{\n",
       "    x.observe(notebookContainer, {childList: true});\n",
       "}}\n",
       "\n",
       "// Listen for the clearing of the current output cell\n",
       "var outputEl = gd.closest('.output');\n",
       "if (outputEl) {{\n",
       "    x.observe(outputEl, {childList: true});\n",
       "}}\n",
       "\n",
       "                        })\n",
       "                };\n",
       "                });\n",
       "            </script>\n",
       "        </div>"
      ]
     },
     "metadata": {},
     "output_type": "display_data"
    }
   ],
   "source": [
    "df.dropna(axis=0)[['CI 1','DD 1','EL 1','PR 1','CI 2','DD 2','EL 2','PR 2','CI 3','DD 3','EL 3','PR3','CI 4','DD 4A','DD 4B','EL 4','PR4']].iplot(kind='box', title='Grades orgnize by periods of all students')"
   ]
  },
  {
   "cell_type": "code",
   "execution_count": 101,
   "metadata": {},
   "outputs": [
    {
     "data": {
      "text/html": [
       "<div>\n",
       "<style scoped>\n",
       "    .dataframe tbody tr th:only-of-type {\n",
       "        vertical-align: middle;\n",
       "    }\n",
       "\n",
       "    .dataframe tbody tr th {\n",
       "        vertical-align: top;\n",
       "    }\n",
       "\n",
       "    .dataframe thead th {\n",
       "        text-align: right;\n",
       "    }\n",
       "</style>\n",
       "<table border=\"1\" class=\"dataframe\">\n",
       "  <thead>\n",
       "    <tr style=\"text-align: right;\">\n",
       "      <th></th>\n",
       "      <th>variable</th>\n",
       "      <th>value</th>\n",
       "    </tr>\n",
       "  </thead>\n",
       "  <tbody>\n",
       "    <tr>\n",
       "      <td>0</td>\n",
       "      <td>CI average</td>\n",
       "      <td>3.485000</td>\n",
       "    </tr>\n",
       "    <tr>\n",
       "      <td>1</td>\n",
       "      <td>CI average</td>\n",
       "      <td>0.000000</td>\n",
       "    </tr>\n",
       "    <tr>\n",
       "      <td>2</td>\n",
       "      <td>CI average</td>\n",
       "      <td>3.865000</td>\n",
       "    </tr>\n",
       "    <tr>\n",
       "      <td>3</td>\n",
       "      <td>CI average</td>\n",
       "      <td>3.455000</td>\n",
       "    </tr>\n",
       "    <tr>\n",
       "      <td>4</td>\n",
       "      <td>CI average</td>\n",
       "      <td>3.565000</td>\n",
       "    </tr>\n",
       "    <tr>\n",
       "      <td>...</td>\n",
       "      <td>...</td>\n",
       "      <td>...</td>\n",
       "    </tr>\n",
       "    <tr>\n",
       "      <td>500</td>\n",
       "      <td>Overall LC average</td>\n",
       "      <td>3.014875</td>\n",
       "    </tr>\n",
       "    <tr>\n",
       "      <td>501</td>\n",
       "      <td>Overall LC average</td>\n",
       "      <td>3.558125</td>\n",
       "    </tr>\n",
       "    <tr>\n",
       "      <td>502</td>\n",
       "      <td>Overall LC average</td>\n",
       "      <td>3.187875</td>\n",
       "    </tr>\n",
       "    <tr>\n",
       "      <td>503</td>\n",
       "      <td>Overall LC average</td>\n",
       "      <td>2.300000</td>\n",
       "    </tr>\n",
       "    <tr>\n",
       "      <td>504</td>\n",
       "      <td>Overall LC average</td>\n",
       "      <td>2.781625</td>\n",
       "    </tr>\n",
       "  </tbody>\n",
       "</table>\n",
       "<p>505 rows × 2 columns</p>\n",
       "</div>"
      ],
      "text/plain": [
       "               variable     value\n",
       "0            CI average  3.485000\n",
       "1            CI average  0.000000\n",
       "2            CI average  3.865000\n",
       "3            CI average  3.455000\n",
       "4            CI average  3.565000\n",
       "..                  ...       ...\n",
       "500  Overall LC average  3.014875\n",
       "501  Overall LC average  3.558125\n",
       "502  Overall LC average  3.187875\n",
       "503  Overall LC average  2.300000\n",
       "504  Overall LC average  2.781625\n",
       "\n",
       "[505 rows x 2 columns]"
      ]
     },
     "execution_count": 101,
     "metadata": {},
     "output_type": "execute_result"
    }
   ],
   "source": [
    "pd.melt(df_grades)"
   ]
  },
  {
   "cell_type": "code",
   "execution_count": 5,
   "metadata": {},
   "outputs": [],
   "source": [
    "risk_levels=df.dropna(axis=0)"
   ]
  },
  {
   "cell_type": "code",
   "execution_count": 6,
   "metadata": {},
   "outputs": [
    {
     "data": {
      "text/html": [
       "<div>\n",
       "<style scoped>\n",
       "    .dataframe tbody tr th:only-of-type {\n",
       "        vertical-align: middle;\n",
       "    }\n",
       "\n",
       "    .dataframe tbody tr th {\n",
       "        vertical-align: top;\n",
       "    }\n",
       "\n",
       "    .dataframe thead th {\n",
       "        text-align: right;\n",
       "    }\n",
       "</style>\n",
       "<table border=\"1\" class=\"dataframe\">\n",
       "  <thead>\n",
       "    <tr style=\"text-align: right;\">\n",
       "      <th></th>\n",
       "      <th>StudentID</th>\n",
       "      <th>CI 1</th>\n",
       "      <th>Unnamed: 2</th>\n",
       "      <th>CI 2</th>\n",
       "      <th>Unnamed: 4</th>\n",
       "      <th>CI 3</th>\n",
       "      <th>Unnamed: 6</th>\n",
       "      <th>CI 4</th>\n",
       "      <th>Unnamed: 8</th>\n",
       "      <th>DD 1</th>\n",
       "      <th>Unnamed: 10</th>\n",
       "      <th>DD 2</th>\n",
       "      <th>Unnamed: 12</th>\n",
       "      <th>DD 3</th>\n",
       "      <th>Unnamed: 14</th>\n",
       "      <th>DD 4A</th>\n",
       "      <th>Unnamed: 16</th>\n",
       "      <th>DD 4B</th>\n",
       "      <th>Unnamed: 18</th>\n",
       "      <th>EL 1</th>\n",
       "      <th>Unnamed: 20</th>\n",
       "      <th>EL 2</th>\n",
       "      <th>Unnamed: 22</th>\n",
       "      <th>EL 3</th>\n",
       "      <th>Unnamed: 24</th>\n",
       "      <th>EL 4</th>\n",
       "      <th>Unnamed: 26</th>\n",
       "      <th>PR 1</th>\n",
       "      <th>Unnamed: 28</th>\n",
       "      <th>PR 2</th>\n",
       "      <th>Unnamed: 30</th>\n",
       "      <th>PR3</th>\n",
       "      <th>Unnamed: 32</th>\n",
       "      <th>PR4</th>\n",
       "      <th>Unnamed: 34</th>\n",
       "      <th>CI average</th>\n",
       "      <th>RCI</th>\n",
       "      <th>DD average</th>\n",
       "      <th>RDD</th>\n",
       "      <th>EL Average</th>\n",
       "      <th>REL</th>\n",
       "      <th>PR Average</th>\n",
       "      <th>RPR</th>\n",
       "      <th>Overall LC average</th>\n",
       "      <th>Failing</th>\n",
       "    </tr>\n",
       "  </thead>\n",
       "  <tbody>\n",
       "    <tr>\n",
       "      <td>0</td>\n",
       "      <td>Student001</td>\n",
       "      <td>3.4</td>\n",
       "      <td>0.15</td>\n",
       "      <td>2.7</td>\n",
       "      <td>0.25</td>\n",
       "      <td>3.6</td>\n",
       "      <td>0.25</td>\n",
       "      <td>4.0</td>\n",
       "      <td>0.35</td>\n",
       "      <td>3.0</td>\n",
       "      <td>0.1</td>\n",
       "      <td>4.2</td>\n",
       "      <td>0.3</td>\n",
       "      <td>3.55</td>\n",
       "      <td>0.4</td>\n",
       "      <td>3.7</td>\n",
       "      <td>0.1</td>\n",
       "      <td>4.05</td>\n",
       "      <td>0.1</td>\n",
       "      <td>3.40</td>\n",
       "      <td>0.25</td>\n",
       "      <td>2.70</td>\n",
       "      <td>0.25</td>\n",
       "      <td>4.85</td>\n",
       "      <td>0.25</td>\n",
       "      <td>3.85</td>\n",
       "      <td>0.25</td>\n",
       "      <td>3.00</td>\n",
       "      <td>0.2</td>\n",
       "      <td>4.40</td>\n",
       "      <td>0.25</td>\n",
       "      <td>3.55</td>\n",
       "      <td>0.35</td>\n",
       "      <td>4.30</td>\n",
       "      <td>0.2</td>\n",
       "      <td>3.485</td>\n",
       "      <td>Pass</td>\n",
       "      <td>3.755</td>\n",
       "      <td>Pass</td>\n",
       "      <td>3.7000</td>\n",
       "      <td>Pass</td>\n",
       "      <td>3.8025</td>\n",
       "      <td>Pass</td>\n",
       "      <td>3.685625</td>\n",
       "      <td>Pass</td>\n",
       "    </tr>\n",
       "    <tr>\n",
       "      <td>1</td>\n",
       "      <td>Student002</td>\n",
       "      <td>0.0</td>\n",
       "      <td>0.15</td>\n",
       "      <td>0.0</td>\n",
       "      <td>0.25</td>\n",
       "      <td>0.0</td>\n",
       "      <td>0.25</td>\n",
       "      <td>0.0</td>\n",
       "      <td>0.35</td>\n",
       "      <td>3.0</td>\n",
       "      <td>0.1</td>\n",
       "      <td>0.0</td>\n",
       "      <td>0.3</td>\n",
       "      <td>3.57</td>\n",
       "      <td>0.4</td>\n",
       "      <td>1.9</td>\n",
       "      <td>0.1</td>\n",
       "      <td>3.95</td>\n",
       "      <td>0.1</td>\n",
       "      <td>3.20</td>\n",
       "      <td>0.25</td>\n",
       "      <td>4.45</td>\n",
       "      <td>0.25</td>\n",
       "      <td>4.85</td>\n",
       "      <td>0.25</td>\n",
       "      <td>3.85</td>\n",
       "      <td>0.25</td>\n",
       "      <td>2.70</td>\n",
       "      <td>0.2</td>\n",
       "      <td>3.90</td>\n",
       "      <td>0.25</td>\n",
       "      <td>4.30</td>\n",
       "      <td>0.35</td>\n",
       "      <td>4.15</td>\n",
       "      <td>0.2</td>\n",
       "      <td>0.000</td>\n",
       "      <td>Fail</td>\n",
       "      <td>2.313</td>\n",
       "      <td>Fail</td>\n",
       "      <td>4.0875</td>\n",
       "      <td>Pass</td>\n",
       "      <td>3.8500</td>\n",
       "      <td>Pass</td>\n",
       "      <td>2.562625</td>\n",
       "      <td>Fail</td>\n",
       "    </tr>\n",
       "    <tr>\n",
       "      <td>2</td>\n",
       "      <td>Student003</td>\n",
       "      <td>4.1</td>\n",
       "      <td>0.15</td>\n",
       "      <td>3.2</td>\n",
       "      <td>0.25</td>\n",
       "      <td>4.2</td>\n",
       "      <td>0.25</td>\n",
       "      <td>4.0</td>\n",
       "      <td>0.35</td>\n",
       "      <td>2.3</td>\n",
       "      <td>0.1</td>\n",
       "      <td>3.5</td>\n",
       "      <td>0.3</td>\n",
       "      <td>3.25</td>\n",
       "      <td>0.4</td>\n",
       "      <td>4.3</td>\n",
       "      <td>0.1</td>\n",
       "      <td>3.20</td>\n",
       "      <td>0.1</td>\n",
       "      <td>2.60</td>\n",
       "      <td>0.25</td>\n",
       "      <td>4.50</td>\n",
       "      <td>0.25</td>\n",
       "      <td>3.80</td>\n",
       "      <td>0.25</td>\n",
       "      <td>4.05</td>\n",
       "      <td>0.25</td>\n",
       "      <td>3.50</td>\n",
       "      <td>0.2</td>\n",
       "      <td>3.50</td>\n",
       "      <td>0.25</td>\n",
       "      <td>3.20</td>\n",
       "      <td>0.35</td>\n",
       "      <td>3.75</td>\n",
       "      <td>0.2</td>\n",
       "      <td>3.865</td>\n",
       "      <td>Pass</td>\n",
       "      <td>3.330</td>\n",
       "      <td>Pass</td>\n",
       "      <td>3.7375</td>\n",
       "      <td>Pass</td>\n",
       "      <td>3.4450</td>\n",
       "      <td>Pass</td>\n",
       "      <td>3.594375</td>\n",
       "      <td>Pass</td>\n",
       "    </tr>\n",
       "    <tr>\n",
       "      <td>3</td>\n",
       "      <td>Student004</td>\n",
       "      <td>3.9</td>\n",
       "      <td>0.15</td>\n",
       "      <td>3.1</td>\n",
       "      <td>0.25</td>\n",
       "      <td>3.2</td>\n",
       "      <td>0.25</td>\n",
       "      <td>3.7</td>\n",
       "      <td>0.35</td>\n",
       "      <td>3.3</td>\n",
       "      <td>0.1</td>\n",
       "      <td>3.1</td>\n",
       "      <td>0.3</td>\n",
       "      <td>3.70</td>\n",
       "      <td>0.4</td>\n",
       "      <td>4.3</td>\n",
       "      <td>0.1</td>\n",
       "      <td>4.05</td>\n",
       "      <td>0.1</td>\n",
       "      <td>4.00</td>\n",
       "      <td>0.25</td>\n",
       "      <td>3.44</td>\n",
       "      <td>0.25</td>\n",
       "      <td>3.55</td>\n",
       "      <td>0.25</td>\n",
       "      <td>3.30</td>\n",
       "      <td>0.25</td>\n",
       "      <td>2.90</td>\n",
       "      <td>0.2</td>\n",
       "      <td>3.10</td>\n",
       "      <td>0.25</td>\n",
       "      <td>3.20</td>\n",
       "      <td>0.35</td>\n",
       "      <td>3.66</td>\n",
       "      <td>0.2</td>\n",
       "      <td>3.455</td>\n",
       "      <td>Pass</td>\n",
       "      <td>3.575</td>\n",
       "      <td>Pass</td>\n",
       "      <td>3.5725</td>\n",
       "      <td>Pass</td>\n",
       "      <td>3.2070</td>\n",
       "      <td>Pass</td>\n",
       "      <td>3.452375</td>\n",
       "      <td>Pass</td>\n",
       "    </tr>\n",
       "    <tr>\n",
       "      <td>4</td>\n",
       "      <td>Student005</td>\n",
       "      <td>3.5</td>\n",
       "      <td>0.15</td>\n",
       "      <td>3.1</td>\n",
       "      <td>0.25</td>\n",
       "      <td>4.3</td>\n",
       "      <td>0.25</td>\n",
       "      <td>3.4</td>\n",
       "      <td>0.35</td>\n",
       "      <td>3.5</td>\n",
       "      <td>0.1</td>\n",
       "      <td>4.0</td>\n",
       "      <td>0.3</td>\n",
       "      <td>2.70</td>\n",
       "      <td>0.4</td>\n",
       "      <td>2.5</td>\n",
       "      <td>0.1</td>\n",
       "      <td>4.05</td>\n",
       "      <td>0.1</td>\n",
       "      <td>3.60</td>\n",
       "      <td>0.25</td>\n",
       "      <td>4.35</td>\n",
       "      <td>0.25</td>\n",
       "      <td>3.70</td>\n",
       "      <td>0.25</td>\n",
       "      <td>3.05</td>\n",
       "      <td>0.25</td>\n",
       "      <td>2.98</td>\n",
       "      <td>0.2</td>\n",
       "      <td>2.90</td>\n",
       "      <td>0.25</td>\n",
       "      <td>2.85</td>\n",
       "      <td>0.35</td>\n",
       "      <td>2.90</td>\n",
       "      <td>0.2</td>\n",
       "      <td>3.565</td>\n",
       "      <td>Pass</td>\n",
       "      <td>3.285</td>\n",
       "      <td>Pass</td>\n",
       "      <td>3.6750</td>\n",
       "      <td>Pass</td>\n",
       "      <td>2.8985</td>\n",
       "      <td>Pass</td>\n",
       "      <td>3.355875</td>\n",
       "      <td>Pass</td>\n",
       "    </tr>\n",
       "    <tr>\n",
       "      <td>...</td>\n",
       "      <td>...</td>\n",
       "      <td>...</td>\n",
       "      <td>...</td>\n",
       "      <td>...</td>\n",
       "      <td>...</td>\n",
       "      <td>...</td>\n",
       "      <td>...</td>\n",
       "      <td>...</td>\n",
       "      <td>...</td>\n",
       "      <td>...</td>\n",
       "      <td>...</td>\n",
       "      <td>...</td>\n",
       "      <td>...</td>\n",
       "      <td>...</td>\n",
       "      <td>...</td>\n",
       "      <td>...</td>\n",
       "      <td>...</td>\n",
       "      <td>...</td>\n",
       "      <td>...</td>\n",
       "      <td>...</td>\n",
       "      <td>...</td>\n",
       "      <td>...</td>\n",
       "      <td>...</td>\n",
       "      <td>...</td>\n",
       "      <td>...</td>\n",
       "      <td>...</td>\n",
       "      <td>...</td>\n",
       "      <td>...</td>\n",
       "      <td>...</td>\n",
       "      <td>...</td>\n",
       "      <td>...</td>\n",
       "      <td>...</td>\n",
       "      <td>...</td>\n",
       "      <td>...</td>\n",
       "      <td>...</td>\n",
       "      <td>...</td>\n",
       "      <td>...</td>\n",
       "      <td>...</td>\n",
       "      <td>...</td>\n",
       "      <td>...</td>\n",
       "      <td>...</td>\n",
       "      <td>...</td>\n",
       "      <td>...</td>\n",
       "      <td>...</td>\n",
       "      <td>...</td>\n",
       "    </tr>\n",
       "    <tr>\n",
       "      <td>96</td>\n",
       "      <td>Student097</td>\n",
       "      <td>3.5</td>\n",
       "      <td>0.15</td>\n",
       "      <td>2.9</td>\n",
       "      <td>0.25</td>\n",
       "      <td>3.0</td>\n",
       "      <td>0.25</td>\n",
       "      <td>3.6</td>\n",
       "      <td>0.35</td>\n",
       "      <td>2.6</td>\n",
       "      <td>0.1</td>\n",
       "      <td>2.9</td>\n",
       "      <td>0.3</td>\n",
       "      <td>2.98</td>\n",
       "      <td>0.4</td>\n",
       "      <td>4.3</td>\n",
       "      <td>0.1</td>\n",
       "      <td>2.40</td>\n",
       "      <td>0.1</td>\n",
       "      <td>2.40</td>\n",
       "      <td>0.25</td>\n",
       "      <td>2.90</td>\n",
       "      <td>0.25</td>\n",
       "      <td>2.85</td>\n",
       "      <td>0.25</td>\n",
       "      <td>3.05</td>\n",
       "      <td>0.25</td>\n",
       "      <td>2.70</td>\n",
       "      <td>0.2</td>\n",
       "      <td>3.80</td>\n",
       "      <td>0.25</td>\n",
       "      <td>2.85</td>\n",
       "      <td>0.35</td>\n",
       "      <td>2.60</td>\n",
       "      <td>0.2</td>\n",
       "      <td>3.260</td>\n",
       "      <td>Pass</td>\n",
       "      <td>2.992</td>\n",
       "      <td>Pass</td>\n",
       "      <td>2.8000</td>\n",
       "      <td>Pass</td>\n",
       "      <td>3.0075</td>\n",
       "      <td>Pass</td>\n",
       "      <td>3.014875</td>\n",
       "      <td>Pass</td>\n",
       "    </tr>\n",
       "    <tr>\n",
       "      <td>97</td>\n",
       "      <td>Student098</td>\n",
       "      <td>4.1</td>\n",
       "      <td>0.15</td>\n",
       "      <td>3.9</td>\n",
       "      <td>0.25</td>\n",
       "      <td>4.3</td>\n",
       "      <td>0.25</td>\n",
       "      <td>3.1</td>\n",
       "      <td>0.35</td>\n",
       "      <td>2.7</td>\n",
       "      <td>0.1</td>\n",
       "      <td>4.1</td>\n",
       "      <td>0.3</td>\n",
       "      <td>3.50</td>\n",
       "      <td>0.4</td>\n",
       "      <td>3.1</td>\n",
       "      <td>0.1</td>\n",
       "      <td>4.10</td>\n",
       "      <td>0.1</td>\n",
       "      <td>3.20</td>\n",
       "      <td>0.25</td>\n",
       "      <td>3.00</td>\n",
       "      <td>0.25</td>\n",
       "      <td>2.80</td>\n",
       "      <td>0.25</td>\n",
       "      <td>3.70</td>\n",
       "      <td>0.25</td>\n",
       "      <td>3.30</td>\n",
       "      <td>0.2</td>\n",
       "      <td>3.50</td>\n",
       "      <td>0.25</td>\n",
       "      <td>3.95</td>\n",
       "      <td>0.35</td>\n",
       "      <td>3.85</td>\n",
       "      <td>0.2</td>\n",
       "      <td>3.750</td>\n",
       "      <td>Pass</td>\n",
       "      <td>3.620</td>\n",
       "      <td>Pass</td>\n",
       "      <td>3.1750</td>\n",
       "      <td>Pass</td>\n",
       "      <td>3.6875</td>\n",
       "      <td>Pass</td>\n",
       "      <td>3.558125</td>\n",
       "      <td>Pass</td>\n",
       "    </tr>\n",
       "    <tr>\n",
       "      <td>98</td>\n",
       "      <td>Student099</td>\n",
       "      <td>3.6</td>\n",
       "      <td>0.15</td>\n",
       "      <td>2.8</td>\n",
       "      <td>0.25</td>\n",
       "      <td>3.2</td>\n",
       "      <td>0.25</td>\n",
       "      <td>3.5</td>\n",
       "      <td>0.35</td>\n",
       "      <td>3.8</td>\n",
       "      <td>0.1</td>\n",
       "      <td>3.2</td>\n",
       "      <td>0.3</td>\n",
       "      <td>3.55</td>\n",
       "      <td>0.4</td>\n",
       "      <td>3.1</td>\n",
       "      <td>0.1</td>\n",
       "      <td>1.58</td>\n",
       "      <td>0.1</td>\n",
       "      <td>3.80</td>\n",
       "      <td>0.25</td>\n",
       "      <td>3.35</td>\n",
       "      <td>0.25</td>\n",
       "      <td>2.31</td>\n",
       "      <td>0.25</td>\n",
       "      <td>4.10</td>\n",
       "      <td>0.25</td>\n",
       "      <td>2.40</td>\n",
       "      <td>0.2</td>\n",
       "      <td>3.80</td>\n",
       "      <td>0.25</td>\n",
       "      <td>2.95</td>\n",
       "      <td>0.35</td>\n",
       "      <td>2.03</td>\n",
       "      <td>0.2</td>\n",
       "      <td>3.265</td>\n",
       "      <td>Pass</td>\n",
       "      <td>3.228</td>\n",
       "      <td>Pass</td>\n",
       "      <td>3.3900</td>\n",
       "      <td>Pass</td>\n",
       "      <td>2.8685</td>\n",
       "      <td>Pass</td>\n",
       "      <td>3.187875</td>\n",
       "      <td>Pass</td>\n",
       "    </tr>\n",
       "    <tr>\n",
       "      <td>99</td>\n",
       "      <td>Student100</td>\n",
       "      <td>3.6</td>\n",
       "      <td>0.15</td>\n",
       "      <td>0.0</td>\n",
       "      <td>0.25</td>\n",
       "      <td>3.2</td>\n",
       "      <td>0.25</td>\n",
       "      <td>3.1</td>\n",
       "      <td>0.35</td>\n",
       "      <td>2.0</td>\n",
       "      <td>0.1</td>\n",
       "      <td>3.1</td>\n",
       "      <td>0.3</td>\n",
       "      <td>1.68</td>\n",
       "      <td>0.4</td>\n",
       "      <td>3.5</td>\n",
       "      <td>0.1</td>\n",
       "      <td>3.01</td>\n",
       "      <td>0.1</td>\n",
       "      <td>2.70</td>\n",
       "      <td>0.25</td>\n",
       "      <td>1.50</td>\n",
       "      <td>0.25</td>\n",
       "      <td>2.42</td>\n",
       "      <td>0.25</td>\n",
       "      <td>2.59</td>\n",
       "      <td>0.25</td>\n",
       "      <td>1.71</td>\n",
       "      <td>0.2</td>\n",
       "      <td>2.40</td>\n",
       "      <td>0.25</td>\n",
       "      <td>1.93</td>\n",
       "      <td>0.35</td>\n",
       "      <td>2.01</td>\n",
       "      <td>0.2</td>\n",
       "      <td>2.425</td>\n",
       "      <td>Fail</td>\n",
       "      <td>2.453</td>\n",
       "      <td>Fail</td>\n",
       "      <td>2.3025</td>\n",
       "      <td>Fail</td>\n",
       "      <td>2.0195</td>\n",
       "      <td>Fail</td>\n",
       "      <td>2.300000</td>\n",
       "      <td>Fail</td>\n",
       "    </tr>\n",
       "    <tr>\n",
       "      <td>100</td>\n",
       "      <td>Student101</td>\n",
       "      <td>2.6</td>\n",
       "      <td>0.15</td>\n",
       "      <td>2.5</td>\n",
       "      <td>0.25</td>\n",
       "      <td>2.3</td>\n",
       "      <td>0.25</td>\n",
       "      <td>2.4</td>\n",
       "      <td>0.35</td>\n",
       "      <td>2.3</td>\n",
       "      <td>0.1</td>\n",
       "      <td>3.0</td>\n",
       "      <td>0.3</td>\n",
       "      <td>3.10</td>\n",
       "      <td>0.4</td>\n",
       "      <td>3.5</td>\n",
       "      <td>0.1</td>\n",
       "      <td>2.25</td>\n",
       "      <td>0.1</td>\n",
       "      <td>3.74</td>\n",
       "      <td>0.25</td>\n",
       "      <td>2.20</td>\n",
       "      <td>0.25</td>\n",
       "      <td>3.32</td>\n",
       "      <td>0.25</td>\n",
       "      <td>2.07</td>\n",
       "      <td>0.25</td>\n",
       "      <td>3.20</td>\n",
       "      <td>0.2</td>\n",
       "      <td>2.38</td>\n",
       "      <td>0.25</td>\n",
       "      <td>3.40</td>\n",
       "      <td>0.35</td>\n",
       "      <td>2.47</td>\n",
       "      <td>0.2</td>\n",
       "      <td>2.430</td>\n",
       "      <td>Fail</td>\n",
       "      <td>2.945</td>\n",
       "      <td>Pass</td>\n",
       "      <td>2.8325</td>\n",
       "      <td>Pass</td>\n",
       "      <td>2.9190</td>\n",
       "      <td>Pass</td>\n",
       "      <td>2.781625</td>\n",
       "      <td>Fail</td>\n",
       "    </tr>\n",
       "  </tbody>\n",
       "</table>\n",
       "<p>101 rows × 45 columns</p>\n",
       "</div>"
      ],
      "text/plain": [
       "      StudentID  CI 1  Unnamed: 2  CI 2  Unnamed: 4  CI 3  Unnamed: 6  CI 4  \\\n",
       "0    Student001   3.4        0.15   2.7        0.25   3.6        0.25   4.0   \n",
       "1    Student002   0.0        0.15   0.0        0.25   0.0        0.25   0.0   \n",
       "2    Student003   4.1        0.15   3.2        0.25   4.2        0.25   4.0   \n",
       "3    Student004   3.9        0.15   3.1        0.25   3.2        0.25   3.7   \n",
       "4    Student005   3.5        0.15   3.1        0.25   4.3        0.25   3.4   \n",
       "..          ...   ...         ...   ...         ...   ...         ...   ...   \n",
       "96   Student097   3.5        0.15   2.9        0.25   3.0        0.25   3.6   \n",
       "97   Student098   4.1        0.15   3.9        0.25   4.3        0.25   3.1   \n",
       "98   Student099   3.6        0.15   2.8        0.25   3.2        0.25   3.5   \n",
       "99   Student100   3.6        0.15   0.0        0.25   3.2        0.25   3.1   \n",
       "100  Student101   2.6        0.15   2.5        0.25   2.3        0.25   2.4   \n",
       "\n",
       "     Unnamed: 8  DD 1  Unnamed: 10  DD 2  Unnamed: 12  DD 3  Unnamed: 14  \\\n",
       "0          0.35   3.0          0.1   4.2          0.3  3.55          0.4   \n",
       "1          0.35   3.0          0.1   0.0          0.3  3.57          0.4   \n",
       "2          0.35   2.3          0.1   3.5          0.3  3.25          0.4   \n",
       "3          0.35   3.3          0.1   3.1          0.3  3.70          0.4   \n",
       "4          0.35   3.5          0.1   4.0          0.3  2.70          0.4   \n",
       "..          ...   ...          ...   ...          ...   ...          ...   \n",
       "96         0.35   2.6          0.1   2.9          0.3  2.98          0.4   \n",
       "97         0.35   2.7          0.1   4.1          0.3  3.50          0.4   \n",
       "98         0.35   3.8          0.1   3.2          0.3  3.55          0.4   \n",
       "99         0.35   2.0          0.1   3.1          0.3  1.68          0.4   \n",
       "100        0.35   2.3          0.1   3.0          0.3  3.10          0.4   \n",
       "\n",
       "     DD 4A  Unnamed: 16  DD 4B  Unnamed: 18  EL 1  Unnamed: 20  EL 2  \\\n",
       "0      3.7          0.1   4.05          0.1  3.40         0.25  2.70   \n",
       "1      1.9          0.1   3.95          0.1  3.20         0.25  4.45   \n",
       "2      4.3          0.1   3.20          0.1  2.60         0.25  4.50   \n",
       "3      4.3          0.1   4.05          0.1  4.00         0.25  3.44   \n",
       "4      2.5          0.1   4.05          0.1  3.60         0.25  4.35   \n",
       "..     ...          ...    ...          ...   ...          ...   ...   \n",
       "96     4.3          0.1   2.40          0.1  2.40         0.25  2.90   \n",
       "97     3.1          0.1   4.10          0.1  3.20         0.25  3.00   \n",
       "98     3.1          0.1   1.58          0.1  3.80         0.25  3.35   \n",
       "99     3.5          0.1   3.01          0.1  2.70         0.25  1.50   \n",
       "100    3.5          0.1   2.25          0.1  3.74         0.25  2.20   \n",
       "\n",
       "     Unnamed: 22  EL 3  Unnamed: 24  EL 4  Unnamed: 26  PR 1  Unnamed: 28  \\\n",
       "0           0.25  4.85         0.25  3.85         0.25  3.00          0.2   \n",
       "1           0.25  4.85         0.25  3.85         0.25  2.70          0.2   \n",
       "2           0.25  3.80         0.25  4.05         0.25  3.50          0.2   \n",
       "3           0.25  3.55         0.25  3.30         0.25  2.90          0.2   \n",
       "4           0.25  3.70         0.25  3.05         0.25  2.98          0.2   \n",
       "..           ...   ...          ...   ...          ...   ...          ...   \n",
       "96          0.25  2.85         0.25  3.05         0.25  2.70          0.2   \n",
       "97          0.25  2.80         0.25  3.70         0.25  3.30          0.2   \n",
       "98          0.25  2.31         0.25  4.10         0.25  2.40          0.2   \n",
       "99          0.25  2.42         0.25  2.59         0.25  1.71          0.2   \n",
       "100         0.25  3.32         0.25  2.07         0.25  3.20          0.2   \n",
       "\n",
       "     PR 2  Unnamed: 30   PR3  Unnamed: 32   PR4  Unnamed: 34  CI average  \\\n",
       "0    4.40         0.25  3.55         0.35  4.30          0.2       3.485   \n",
       "1    3.90         0.25  4.30         0.35  4.15          0.2       0.000   \n",
       "2    3.50         0.25  3.20         0.35  3.75          0.2       3.865   \n",
       "3    3.10         0.25  3.20         0.35  3.66          0.2       3.455   \n",
       "4    2.90         0.25  2.85         0.35  2.90          0.2       3.565   \n",
       "..    ...          ...   ...          ...   ...          ...         ...   \n",
       "96   3.80         0.25  2.85         0.35  2.60          0.2       3.260   \n",
       "97   3.50         0.25  3.95         0.35  3.85          0.2       3.750   \n",
       "98   3.80         0.25  2.95         0.35  2.03          0.2       3.265   \n",
       "99   2.40         0.25  1.93         0.35  2.01          0.2       2.425   \n",
       "100  2.38         0.25  3.40         0.35  2.47          0.2       2.430   \n",
       "\n",
       "      RCI  DD average   RDD  EL Average   REL  PR Average   RPR  \\\n",
       "0    Pass       3.755  Pass      3.7000  Pass      3.8025  Pass   \n",
       "1    Fail       2.313  Fail      4.0875  Pass      3.8500  Pass   \n",
       "2    Pass       3.330  Pass      3.7375  Pass      3.4450  Pass   \n",
       "3    Pass       3.575  Pass      3.5725  Pass      3.2070  Pass   \n",
       "4    Pass       3.285  Pass      3.6750  Pass      2.8985  Pass   \n",
       "..    ...         ...   ...         ...   ...         ...   ...   \n",
       "96   Pass       2.992  Pass      2.8000  Pass      3.0075  Pass   \n",
       "97   Pass       3.620  Pass      3.1750  Pass      3.6875  Pass   \n",
       "98   Pass       3.228  Pass      3.3900  Pass      2.8685  Pass   \n",
       "99   Fail       2.453  Fail      2.3025  Fail      2.0195  Fail   \n",
       "100  Fail       2.945  Pass      2.8325  Pass      2.9190  Pass   \n",
       "\n",
       "     Overall LC average Failing  \n",
       "0              3.685625    Pass  \n",
       "1              2.562625    Fail  \n",
       "2              3.594375    Pass  \n",
       "3              3.452375    Pass  \n",
       "4              3.355875    Pass  \n",
       "..                  ...     ...  \n",
       "96             3.014875    Pass  \n",
       "97             3.558125    Pass  \n",
       "98             3.187875    Pass  \n",
       "99             2.300000    Fail  \n",
       "100            2.781625    Fail  \n",
       "\n",
       "[101 rows x 45 columns]"
      ]
     },
     "execution_count": 6,
     "metadata": {},
     "output_type": "execute_result"
    }
   ],
   "source": [
    "risk_levels"
   ]
  },
  {
   "cell_type": "code",
   "execution_count": 7,
   "metadata": {},
   "outputs": [],
   "source": [
    "risk_levels['CI_1_risk']=risk_levels['CI 1'].apply(lambda x: 1 if x>=3.31 else (2 if x<3.31 and x >=2.5 else (3 if x<2.5 and x>=1.5 else 4)))"
   ]
  },
  {
   "cell_type": "code",
   "execution_count": 8,
   "metadata": {},
   "outputs": [],
   "source": [
    "risk_levels['CI_2_risk']=risk_levels['CI 2'].apply(lambda x: 1 if x>=3.31 else (2 if x<3.31 and x >=2.5 else (3 if x<2.5 and x>=1.5 else 4)))"
   ]
  },
  {
   "cell_type": "code",
   "execution_count": 9,
   "metadata": {},
   "outputs": [],
   "source": [
    "risk_levels['DD_1_risk']=risk_levels['DD 1'].apply(lambda x: 1 if x>=3.31 else (2 if x<3.31 and x >=2.5 else (3 if x<2.5 and x>=1.5 else 4)))"
   ]
  },
  {
   "cell_type": "code",
   "execution_count": 10,
   "metadata": {},
   "outputs": [],
   "source": [
    "risk_levels['DD_2_risk']=risk_levels['DD 2'].apply(lambda x: 1 if x>=3.31 else (2 if x<3.31 and x >=2.5 else (3 if x<2.5 and x>=1.5 else 4)))"
   ]
  },
  {
   "cell_type": "code",
   "execution_count": 11,
   "metadata": {},
   "outputs": [],
   "source": [
    "risk_levels['EL_1_risk']=risk_levels['EL 1'].apply(lambda x: 1 if x>=3.31 else (2 if x<3.31 and x >=2.5 else (3 if x<2.5 and x>=1.5 else 4)))"
   ]
  },
  {
   "cell_type": "code",
   "execution_count": 12,
   "metadata": {},
   "outputs": [],
   "source": [
    "risk_levels['EL_2_risk']=risk_levels['EL 2'].apply(lambda x: 1 if x>=3.31 else (2 if x<3.31 and x >=2.5 else (3 if x<2.5 and x>=1.5 else 4)))"
   ]
  },
  {
   "cell_type": "code",
   "execution_count": 13,
   "metadata": {},
   "outputs": [],
   "source": [
    "risk_levels['PR_1_risk']=risk_levels['PR 1'].apply(lambda x: 1 if x>=3.31 else (2 if x<3.31 and x >=2.5 else (3 if x<2.5 and x>=1.5 else 4)))"
   ]
  },
  {
   "cell_type": "code",
   "execution_count": 14,
   "metadata": {},
   "outputs": [],
   "source": [
    "risk_levels['PR_2_risk']=risk_levels['PR 2'].apply(lambda x: 1 if x>=3.31 else (2 if x<3.31 and x >=2.5 else (3 if x<2.5 and x>=1.5 else 4)))"
   ]
  },
  {
   "cell_type": "code",
   "execution_count": 15,
   "metadata": {},
   "outputs": [
    {
     "data": {
      "text/html": [
       "<div>\n",
       "<style scoped>\n",
       "    .dataframe tbody tr th:only-of-type {\n",
       "        vertical-align: middle;\n",
       "    }\n",
       "\n",
       "    .dataframe tbody tr th {\n",
       "        vertical-align: top;\n",
       "    }\n",
       "\n",
       "    .dataframe thead th {\n",
       "        text-align: right;\n",
       "    }\n",
       "</style>\n",
       "<table border=\"1\" class=\"dataframe\">\n",
       "  <thead>\n",
       "    <tr style=\"text-align: right;\">\n",
       "      <th></th>\n",
       "      <th>StudentID</th>\n",
       "      <th>CI 1</th>\n",
       "      <th>Unnamed: 2</th>\n",
       "      <th>CI 2</th>\n",
       "      <th>Unnamed: 4</th>\n",
       "      <th>CI 3</th>\n",
       "      <th>Unnamed: 6</th>\n",
       "      <th>CI 4</th>\n",
       "      <th>Unnamed: 8</th>\n",
       "      <th>DD 1</th>\n",
       "      <th>Unnamed: 10</th>\n",
       "      <th>DD 2</th>\n",
       "      <th>Unnamed: 12</th>\n",
       "      <th>DD 3</th>\n",
       "      <th>Unnamed: 14</th>\n",
       "      <th>DD 4A</th>\n",
       "      <th>Unnamed: 16</th>\n",
       "      <th>DD 4B</th>\n",
       "      <th>Unnamed: 18</th>\n",
       "      <th>EL 1</th>\n",
       "      <th>Unnamed: 20</th>\n",
       "      <th>EL 2</th>\n",
       "      <th>Unnamed: 22</th>\n",
       "      <th>EL 3</th>\n",
       "      <th>Unnamed: 24</th>\n",
       "      <th>EL 4</th>\n",
       "      <th>Unnamed: 26</th>\n",
       "      <th>PR 1</th>\n",
       "      <th>Unnamed: 28</th>\n",
       "      <th>PR 2</th>\n",
       "      <th>Unnamed: 30</th>\n",
       "      <th>PR3</th>\n",
       "      <th>Unnamed: 32</th>\n",
       "      <th>PR4</th>\n",
       "      <th>Unnamed: 34</th>\n",
       "      <th>CI average</th>\n",
       "      <th>RCI</th>\n",
       "      <th>DD average</th>\n",
       "      <th>RDD</th>\n",
       "      <th>EL Average</th>\n",
       "      <th>REL</th>\n",
       "      <th>PR Average</th>\n",
       "      <th>RPR</th>\n",
       "      <th>Overall LC average</th>\n",
       "      <th>Failing</th>\n",
       "      <th>CI_1_risk</th>\n",
       "      <th>CI_2_risk</th>\n",
       "      <th>DD_1_risk</th>\n",
       "      <th>DD_2_risk</th>\n",
       "      <th>EL_1_risk</th>\n",
       "      <th>EL_2_risk</th>\n",
       "      <th>PR_1_risk</th>\n",
       "      <th>PR_2_risk</th>\n",
       "    </tr>\n",
       "  </thead>\n",
       "  <tbody>\n",
       "    <tr>\n",
       "      <td>0</td>\n",
       "      <td>Student001</td>\n",
       "      <td>3.4</td>\n",
       "      <td>0.15</td>\n",
       "      <td>2.7</td>\n",
       "      <td>0.25</td>\n",
       "      <td>3.6</td>\n",
       "      <td>0.25</td>\n",
       "      <td>4.0</td>\n",
       "      <td>0.35</td>\n",
       "      <td>3.0</td>\n",
       "      <td>0.1</td>\n",
       "      <td>4.2</td>\n",
       "      <td>0.3</td>\n",
       "      <td>3.55</td>\n",
       "      <td>0.4</td>\n",
       "      <td>3.7</td>\n",
       "      <td>0.1</td>\n",
       "      <td>4.05</td>\n",
       "      <td>0.1</td>\n",
       "      <td>3.40</td>\n",
       "      <td>0.25</td>\n",
       "      <td>2.70</td>\n",
       "      <td>0.25</td>\n",
       "      <td>4.85</td>\n",
       "      <td>0.25</td>\n",
       "      <td>3.85</td>\n",
       "      <td>0.25</td>\n",
       "      <td>3.00</td>\n",
       "      <td>0.2</td>\n",
       "      <td>4.40</td>\n",
       "      <td>0.25</td>\n",
       "      <td>3.55</td>\n",
       "      <td>0.35</td>\n",
       "      <td>4.30</td>\n",
       "      <td>0.2</td>\n",
       "      <td>3.485</td>\n",
       "      <td>Pass</td>\n",
       "      <td>3.755</td>\n",
       "      <td>Pass</td>\n",
       "      <td>3.7000</td>\n",
       "      <td>Pass</td>\n",
       "      <td>3.8025</td>\n",
       "      <td>Pass</td>\n",
       "      <td>3.685625</td>\n",
       "      <td>Pass</td>\n",
       "      <td>1</td>\n",
       "      <td>2</td>\n",
       "      <td>2</td>\n",
       "      <td>1</td>\n",
       "      <td>1</td>\n",
       "      <td>2</td>\n",
       "      <td>2</td>\n",
       "      <td>1</td>\n",
       "    </tr>\n",
       "    <tr>\n",
       "      <td>1</td>\n",
       "      <td>Student002</td>\n",
       "      <td>0.0</td>\n",
       "      <td>0.15</td>\n",
       "      <td>0.0</td>\n",
       "      <td>0.25</td>\n",
       "      <td>0.0</td>\n",
       "      <td>0.25</td>\n",
       "      <td>0.0</td>\n",
       "      <td>0.35</td>\n",
       "      <td>3.0</td>\n",
       "      <td>0.1</td>\n",
       "      <td>0.0</td>\n",
       "      <td>0.3</td>\n",
       "      <td>3.57</td>\n",
       "      <td>0.4</td>\n",
       "      <td>1.9</td>\n",
       "      <td>0.1</td>\n",
       "      <td>3.95</td>\n",
       "      <td>0.1</td>\n",
       "      <td>3.20</td>\n",
       "      <td>0.25</td>\n",
       "      <td>4.45</td>\n",
       "      <td>0.25</td>\n",
       "      <td>4.85</td>\n",
       "      <td>0.25</td>\n",
       "      <td>3.85</td>\n",
       "      <td>0.25</td>\n",
       "      <td>2.70</td>\n",
       "      <td>0.2</td>\n",
       "      <td>3.90</td>\n",
       "      <td>0.25</td>\n",
       "      <td>4.30</td>\n",
       "      <td>0.35</td>\n",
       "      <td>4.15</td>\n",
       "      <td>0.2</td>\n",
       "      <td>0.000</td>\n",
       "      <td>Fail</td>\n",
       "      <td>2.313</td>\n",
       "      <td>Fail</td>\n",
       "      <td>4.0875</td>\n",
       "      <td>Pass</td>\n",
       "      <td>3.8500</td>\n",
       "      <td>Pass</td>\n",
       "      <td>2.562625</td>\n",
       "      <td>Fail</td>\n",
       "      <td>4</td>\n",
       "      <td>4</td>\n",
       "      <td>2</td>\n",
       "      <td>4</td>\n",
       "      <td>2</td>\n",
       "      <td>1</td>\n",
       "      <td>2</td>\n",
       "      <td>1</td>\n",
       "    </tr>\n",
       "    <tr>\n",
       "      <td>2</td>\n",
       "      <td>Student003</td>\n",
       "      <td>4.1</td>\n",
       "      <td>0.15</td>\n",
       "      <td>3.2</td>\n",
       "      <td>0.25</td>\n",
       "      <td>4.2</td>\n",
       "      <td>0.25</td>\n",
       "      <td>4.0</td>\n",
       "      <td>0.35</td>\n",
       "      <td>2.3</td>\n",
       "      <td>0.1</td>\n",
       "      <td>3.5</td>\n",
       "      <td>0.3</td>\n",
       "      <td>3.25</td>\n",
       "      <td>0.4</td>\n",
       "      <td>4.3</td>\n",
       "      <td>0.1</td>\n",
       "      <td>3.20</td>\n",
       "      <td>0.1</td>\n",
       "      <td>2.60</td>\n",
       "      <td>0.25</td>\n",
       "      <td>4.50</td>\n",
       "      <td>0.25</td>\n",
       "      <td>3.80</td>\n",
       "      <td>0.25</td>\n",
       "      <td>4.05</td>\n",
       "      <td>0.25</td>\n",
       "      <td>3.50</td>\n",
       "      <td>0.2</td>\n",
       "      <td>3.50</td>\n",
       "      <td>0.25</td>\n",
       "      <td>3.20</td>\n",
       "      <td>0.35</td>\n",
       "      <td>3.75</td>\n",
       "      <td>0.2</td>\n",
       "      <td>3.865</td>\n",
       "      <td>Pass</td>\n",
       "      <td>3.330</td>\n",
       "      <td>Pass</td>\n",
       "      <td>3.7375</td>\n",
       "      <td>Pass</td>\n",
       "      <td>3.4450</td>\n",
       "      <td>Pass</td>\n",
       "      <td>3.594375</td>\n",
       "      <td>Pass</td>\n",
       "      <td>1</td>\n",
       "      <td>2</td>\n",
       "      <td>3</td>\n",
       "      <td>1</td>\n",
       "      <td>2</td>\n",
       "      <td>1</td>\n",
       "      <td>1</td>\n",
       "      <td>1</td>\n",
       "    </tr>\n",
       "    <tr>\n",
       "      <td>3</td>\n",
       "      <td>Student004</td>\n",
       "      <td>3.9</td>\n",
       "      <td>0.15</td>\n",
       "      <td>3.1</td>\n",
       "      <td>0.25</td>\n",
       "      <td>3.2</td>\n",
       "      <td>0.25</td>\n",
       "      <td>3.7</td>\n",
       "      <td>0.35</td>\n",
       "      <td>3.3</td>\n",
       "      <td>0.1</td>\n",
       "      <td>3.1</td>\n",
       "      <td>0.3</td>\n",
       "      <td>3.70</td>\n",
       "      <td>0.4</td>\n",
       "      <td>4.3</td>\n",
       "      <td>0.1</td>\n",
       "      <td>4.05</td>\n",
       "      <td>0.1</td>\n",
       "      <td>4.00</td>\n",
       "      <td>0.25</td>\n",
       "      <td>3.44</td>\n",
       "      <td>0.25</td>\n",
       "      <td>3.55</td>\n",
       "      <td>0.25</td>\n",
       "      <td>3.30</td>\n",
       "      <td>0.25</td>\n",
       "      <td>2.90</td>\n",
       "      <td>0.2</td>\n",
       "      <td>3.10</td>\n",
       "      <td>0.25</td>\n",
       "      <td>3.20</td>\n",
       "      <td>0.35</td>\n",
       "      <td>3.66</td>\n",
       "      <td>0.2</td>\n",
       "      <td>3.455</td>\n",
       "      <td>Pass</td>\n",
       "      <td>3.575</td>\n",
       "      <td>Pass</td>\n",
       "      <td>3.5725</td>\n",
       "      <td>Pass</td>\n",
       "      <td>3.2070</td>\n",
       "      <td>Pass</td>\n",
       "      <td>3.452375</td>\n",
       "      <td>Pass</td>\n",
       "      <td>1</td>\n",
       "      <td>2</td>\n",
       "      <td>2</td>\n",
       "      <td>2</td>\n",
       "      <td>1</td>\n",
       "      <td>1</td>\n",
       "      <td>2</td>\n",
       "      <td>2</td>\n",
       "    </tr>\n",
       "    <tr>\n",
       "      <td>4</td>\n",
       "      <td>Student005</td>\n",
       "      <td>3.5</td>\n",
       "      <td>0.15</td>\n",
       "      <td>3.1</td>\n",
       "      <td>0.25</td>\n",
       "      <td>4.3</td>\n",
       "      <td>0.25</td>\n",
       "      <td>3.4</td>\n",
       "      <td>0.35</td>\n",
       "      <td>3.5</td>\n",
       "      <td>0.1</td>\n",
       "      <td>4.0</td>\n",
       "      <td>0.3</td>\n",
       "      <td>2.70</td>\n",
       "      <td>0.4</td>\n",
       "      <td>2.5</td>\n",
       "      <td>0.1</td>\n",
       "      <td>4.05</td>\n",
       "      <td>0.1</td>\n",
       "      <td>3.60</td>\n",
       "      <td>0.25</td>\n",
       "      <td>4.35</td>\n",
       "      <td>0.25</td>\n",
       "      <td>3.70</td>\n",
       "      <td>0.25</td>\n",
       "      <td>3.05</td>\n",
       "      <td>0.25</td>\n",
       "      <td>2.98</td>\n",
       "      <td>0.2</td>\n",
       "      <td>2.90</td>\n",
       "      <td>0.25</td>\n",
       "      <td>2.85</td>\n",
       "      <td>0.35</td>\n",
       "      <td>2.90</td>\n",
       "      <td>0.2</td>\n",
       "      <td>3.565</td>\n",
       "      <td>Pass</td>\n",
       "      <td>3.285</td>\n",
       "      <td>Pass</td>\n",
       "      <td>3.6750</td>\n",
       "      <td>Pass</td>\n",
       "      <td>2.8985</td>\n",
       "      <td>Pass</td>\n",
       "      <td>3.355875</td>\n",
       "      <td>Pass</td>\n",
       "      <td>1</td>\n",
       "      <td>2</td>\n",
       "      <td>1</td>\n",
       "      <td>1</td>\n",
       "      <td>1</td>\n",
       "      <td>1</td>\n",
       "      <td>2</td>\n",
       "      <td>2</td>\n",
       "    </tr>\n",
       "    <tr>\n",
       "      <td>...</td>\n",
       "      <td>...</td>\n",
       "      <td>...</td>\n",
       "      <td>...</td>\n",
       "      <td>...</td>\n",
       "      <td>...</td>\n",
       "      <td>...</td>\n",
       "      <td>...</td>\n",
       "      <td>...</td>\n",
       "      <td>...</td>\n",
       "      <td>...</td>\n",
       "      <td>...</td>\n",
       "      <td>...</td>\n",
       "      <td>...</td>\n",
       "      <td>...</td>\n",
       "      <td>...</td>\n",
       "      <td>...</td>\n",
       "      <td>...</td>\n",
       "      <td>...</td>\n",
       "      <td>...</td>\n",
       "      <td>...</td>\n",
       "      <td>...</td>\n",
       "      <td>...</td>\n",
       "      <td>...</td>\n",
       "      <td>...</td>\n",
       "      <td>...</td>\n",
       "      <td>...</td>\n",
       "      <td>...</td>\n",
       "      <td>...</td>\n",
       "      <td>...</td>\n",
       "      <td>...</td>\n",
       "      <td>...</td>\n",
       "      <td>...</td>\n",
       "      <td>...</td>\n",
       "      <td>...</td>\n",
       "      <td>...</td>\n",
       "      <td>...</td>\n",
       "      <td>...</td>\n",
       "      <td>...</td>\n",
       "      <td>...</td>\n",
       "      <td>...</td>\n",
       "      <td>...</td>\n",
       "      <td>...</td>\n",
       "      <td>...</td>\n",
       "      <td>...</td>\n",
       "      <td>...</td>\n",
       "      <td>...</td>\n",
       "      <td>...</td>\n",
       "      <td>...</td>\n",
       "      <td>...</td>\n",
       "      <td>...</td>\n",
       "      <td>...</td>\n",
       "      <td>...</td>\n",
       "      <td>...</td>\n",
       "    </tr>\n",
       "    <tr>\n",
       "      <td>96</td>\n",
       "      <td>Student097</td>\n",
       "      <td>3.5</td>\n",
       "      <td>0.15</td>\n",
       "      <td>2.9</td>\n",
       "      <td>0.25</td>\n",
       "      <td>3.0</td>\n",
       "      <td>0.25</td>\n",
       "      <td>3.6</td>\n",
       "      <td>0.35</td>\n",
       "      <td>2.6</td>\n",
       "      <td>0.1</td>\n",
       "      <td>2.9</td>\n",
       "      <td>0.3</td>\n",
       "      <td>2.98</td>\n",
       "      <td>0.4</td>\n",
       "      <td>4.3</td>\n",
       "      <td>0.1</td>\n",
       "      <td>2.40</td>\n",
       "      <td>0.1</td>\n",
       "      <td>2.40</td>\n",
       "      <td>0.25</td>\n",
       "      <td>2.90</td>\n",
       "      <td>0.25</td>\n",
       "      <td>2.85</td>\n",
       "      <td>0.25</td>\n",
       "      <td>3.05</td>\n",
       "      <td>0.25</td>\n",
       "      <td>2.70</td>\n",
       "      <td>0.2</td>\n",
       "      <td>3.80</td>\n",
       "      <td>0.25</td>\n",
       "      <td>2.85</td>\n",
       "      <td>0.35</td>\n",
       "      <td>2.60</td>\n",
       "      <td>0.2</td>\n",
       "      <td>3.260</td>\n",
       "      <td>Pass</td>\n",
       "      <td>2.992</td>\n",
       "      <td>Pass</td>\n",
       "      <td>2.8000</td>\n",
       "      <td>Pass</td>\n",
       "      <td>3.0075</td>\n",
       "      <td>Pass</td>\n",
       "      <td>3.014875</td>\n",
       "      <td>Pass</td>\n",
       "      <td>1</td>\n",
       "      <td>2</td>\n",
       "      <td>2</td>\n",
       "      <td>2</td>\n",
       "      <td>3</td>\n",
       "      <td>2</td>\n",
       "      <td>2</td>\n",
       "      <td>1</td>\n",
       "    </tr>\n",
       "    <tr>\n",
       "      <td>97</td>\n",
       "      <td>Student098</td>\n",
       "      <td>4.1</td>\n",
       "      <td>0.15</td>\n",
       "      <td>3.9</td>\n",
       "      <td>0.25</td>\n",
       "      <td>4.3</td>\n",
       "      <td>0.25</td>\n",
       "      <td>3.1</td>\n",
       "      <td>0.35</td>\n",
       "      <td>2.7</td>\n",
       "      <td>0.1</td>\n",
       "      <td>4.1</td>\n",
       "      <td>0.3</td>\n",
       "      <td>3.50</td>\n",
       "      <td>0.4</td>\n",
       "      <td>3.1</td>\n",
       "      <td>0.1</td>\n",
       "      <td>4.10</td>\n",
       "      <td>0.1</td>\n",
       "      <td>3.20</td>\n",
       "      <td>0.25</td>\n",
       "      <td>3.00</td>\n",
       "      <td>0.25</td>\n",
       "      <td>2.80</td>\n",
       "      <td>0.25</td>\n",
       "      <td>3.70</td>\n",
       "      <td>0.25</td>\n",
       "      <td>3.30</td>\n",
       "      <td>0.2</td>\n",
       "      <td>3.50</td>\n",
       "      <td>0.25</td>\n",
       "      <td>3.95</td>\n",
       "      <td>0.35</td>\n",
       "      <td>3.85</td>\n",
       "      <td>0.2</td>\n",
       "      <td>3.750</td>\n",
       "      <td>Pass</td>\n",
       "      <td>3.620</td>\n",
       "      <td>Pass</td>\n",
       "      <td>3.1750</td>\n",
       "      <td>Pass</td>\n",
       "      <td>3.6875</td>\n",
       "      <td>Pass</td>\n",
       "      <td>3.558125</td>\n",
       "      <td>Pass</td>\n",
       "      <td>1</td>\n",
       "      <td>1</td>\n",
       "      <td>2</td>\n",
       "      <td>1</td>\n",
       "      <td>2</td>\n",
       "      <td>2</td>\n",
       "      <td>2</td>\n",
       "      <td>1</td>\n",
       "    </tr>\n",
       "    <tr>\n",
       "      <td>98</td>\n",
       "      <td>Student099</td>\n",
       "      <td>3.6</td>\n",
       "      <td>0.15</td>\n",
       "      <td>2.8</td>\n",
       "      <td>0.25</td>\n",
       "      <td>3.2</td>\n",
       "      <td>0.25</td>\n",
       "      <td>3.5</td>\n",
       "      <td>0.35</td>\n",
       "      <td>3.8</td>\n",
       "      <td>0.1</td>\n",
       "      <td>3.2</td>\n",
       "      <td>0.3</td>\n",
       "      <td>3.55</td>\n",
       "      <td>0.4</td>\n",
       "      <td>3.1</td>\n",
       "      <td>0.1</td>\n",
       "      <td>1.58</td>\n",
       "      <td>0.1</td>\n",
       "      <td>3.80</td>\n",
       "      <td>0.25</td>\n",
       "      <td>3.35</td>\n",
       "      <td>0.25</td>\n",
       "      <td>2.31</td>\n",
       "      <td>0.25</td>\n",
       "      <td>4.10</td>\n",
       "      <td>0.25</td>\n",
       "      <td>2.40</td>\n",
       "      <td>0.2</td>\n",
       "      <td>3.80</td>\n",
       "      <td>0.25</td>\n",
       "      <td>2.95</td>\n",
       "      <td>0.35</td>\n",
       "      <td>2.03</td>\n",
       "      <td>0.2</td>\n",
       "      <td>3.265</td>\n",
       "      <td>Pass</td>\n",
       "      <td>3.228</td>\n",
       "      <td>Pass</td>\n",
       "      <td>3.3900</td>\n",
       "      <td>Pass</td>\n",
       "      <td>2.8685</td>\n",
       "      <td>Pass</td>\n",
       "      <td>3.187875</td>\n",
       "      <td>Pass</td>\n",
       "      <td>1</td>\n",
       "      <td>2</td>\n",
       "      <td>1</td>\n",
       "      <td>2</td>\n",
       "      <td>1</td>\n",
       "      <td>1</td>\n",
       "      <td>3</td>\n",
       "      <td>1</td>\n",
       "    </tr>\n",
       "    <tr>\n",
       "      <td>99</td>\n",
       "      <td>Student100</td>\n",
       "      <td>3.6</td>\n",
       "      <td>0.15</td>\n",
       "      <td>0.0</td>\n",
       "      <td>0.25</td>\n",
       "      <td>3.2</td>\n",
       "      <td>0.25</td>\n",
       "      <td>3.1</td>\n",
       "      <td>0.35</td>\n",
       "      <td>2.0</td>\n",
       "      <td>0.1</td>\n",
       "      <td>3.1</td>\n",
       "      <td>0.3</td>\n",
       "      <td>1.68</td>\n",
       "      <td>0.4</td>\n",
       "      <td>3.5</td>\n",
       "      <td>0.1</td>\n",
       "      <td>3.01</td>\n",
       "      <td>0.1</td>\n",
       "      <td>2.70</td>\n",
       "      <td>0.25</td>\n",
       "      <td>1.50</td>\n",
       "      <td>0.25</td>\n",
       "      <td>2.42</td>\n",
       "      <td>0.25</td>\n",
       "      <td>2.59</td>\n",
       "      <td>0.25</td>\n",
       "      <td>1.71</td>\n",
       "      <td>0.2</td>\n",
       "      <td>2.40</td>\n",
       "      <td>0.25</td>\n",
       "      <td>1.93</td>\n",
       "      <td>0.35</td>\n",
       "      <td>2.01</td>\n",
       "      <td>0.2</td>\n",
       "      <td>2.425</td>\n",
       "      <td>Fail</td>\n",
       "      <td>2.453</td>\n",
       "      <td>Fail</td>\n",
       "      <td>2.3025</td>\n",
       "      <td>Fail</td>\n",
       "      <td>2.0195</td>\n",
       "      <td>Fail</td>\n",
       "      <td>2.300000</td>\n",
       "      <td>Fail</td>\n",
       "      <td>1</td>\n",
       "      <td>4</td>\n",
       "      <td>3</td>\n",
       "      <td>2</td>\n",
       "      <td>2</td>\n",
       "      <td>3</td>\n",
       "      <td>3</td>\n",
       "      <td>3</td>\n",
       "    </tr>\n",
       "    <tr>\n",
       "      <td>100</td>\n",
       "      <td>Student101</td>\n",
       "      <td>2.6</td>\n",
       "      <td>0.15</td>\n",
       "      <td>2.5</td>\n",
       "      <td>0.25</td>\n",
       "      <td>2.3</td>\n",
       "      <td>0.25</td>\n",
       "      <td>2.4</td>\n",
       "      <td>0.35</td>\n",
       "      <td>2.3</td>\n",
       "      <td>0.1</td>\n",
       "      <td>3.0</td>\n",
       "      <td>0.3</td>\n",
       "      <td>3.10</td>\n",
       "      <td>0.4</td>\n",
       "      <td>3.5</td>\n",
       "      <td>0.1</td>\n",
       "      <td>2.25</td>\n",
       "      <td>0.1</td>\n",
       "      <td>3.74</td>\n",
       "      <td>0.25</td>\n",
       "      <td>2.20</td>\n",
       "      <td>0.25</td>\n",
       "      <td>3.32</td>\n",
       "      <td>0.25</td>\n",
       "      <td>2.07</td>\n",
       "      <td>0.25</td>\n",
       "      <td>3.20</td>\n",
       "      <td>0.2</td>\n",
       "      <td>2.38</td>\n",
       "      <td>0.25</td>\n",
       "      <td>3.40</td>\n",
       "      <td>0.35</td>\n",
       "      <td>2.47</td>\n",
       "      <td>0.2</td>\n",
       "      <td>2.430</td>\n",
       "      <td>Fail</td>\n",
       "      <td>2.945</td>\n",
       "      <td>Pass</td>\n",
       "      <td>2.8325</td>\n",
       "      <td>Pass</td>\n",
       "      <td>2.9190</td>\n",
       "      <td>Pass</td>\n",
       "      <td>2.781625</td>\n",
       "      <td>Fail</td>\n",
       "      <td>2</td>\n",
       "      <td>2</td>\n",
       "      <td>3</td>\n",
       "      <td>2</td>\n",
       "      <td>1</td>\n",
       "      <td>3</td>\n",
       "      <td>2</td>\n",
       "      <td>3</td>\n",
       "    </tr>\n",
       "  </tbody>\n",
       "</table>\n",
       "<p>101 rows × 53 columns</p>\n",
       "</div>"
      ],
      "text/plain": [
       "      StudentID  CI 1  Unnamed: 2  CI 2  Unnamed: 4  CI 3  Unnamed: 6  CI 4  \\\n",
       "0    Student001   3.4        0.15   2.7        0.25   3.6        0.25   4.0   \n",
       "1    Student002   0.0        0.15   0.0        0.25   0.0        0.25   0.0   \n",
       "2    Student003   4.1        0.15   3.2        0.25   4.2        0.25   4.0   \n",
       "3    Student004   3.9        0.15   3.1        0.25   3.2        0.25   3.7   \n",
       "4    Student005   3.5        0.15   3.1        0.25   4.3        0.25   3.4   \n",
       "..          ...   ...         ...   ...         ...   ...         ...   ...   \n",
       "96   Student097   3.5        0.15   2.9        0.25   3.0        0.25   3.6   \n",
       "97   Student098   4.1        0.15   3.9        0.25   4.3        0.25   3.1   \n",
       "98   Student099   3.6        0.15   2.8        0.25   3.2        0.25   3.5   \n",
       "99   Student100   3.6        0.15   0.0        0.25   3.2        0.25   3.1   \n",
       "100  Student101   2.6        0.15   2.5        0.25   2.3        0.25   2.4   \n",
       "\n",
       "     Unnamed: 8  DD 1  Unnamed: 10  DD 2  Unnamed: 12  DD 3  Unnamed: 14  \\\n",
       "0          0.35   3.0          0.1   4.2          0.3  3.55          0.4   \n",
       "1          0.35   3.0          0.1   0.0          0.3  3.57          0.4   \n",
       "2          0.35   2.3          0.1   3.5          0.3  3.25          0.4   \n",
       "3          0.35   3.3          0.1   3.1          0.3  3.70          0.4   \n",
       "4          0.35   3.5          0.1   4.0          0.3  2.70          0.4   \n",
       "..          ...   ...          ...   ...          ...   ...          ...   \n",
       "96         0.35   2.6          0.1   2.9          0.3  2.98          0.4   \n",
       "97         0.35   2.7          0.1   4.1          0.3  3.50          0.4   \n",
       "98         0.35   3.8          0.1   3.2          0.3  3.55          0.4   \n",
       "99         0.35   2.0          0.1   3.1          0.3  1.68          0.4   \n",
       "100        0.35   2.3          0.1   3.0          0.3  3.10          0.4   \n",
       "\n",
       "     DD 4A  Unnamed: 16  DD 4B  Unnamed: 18  EL 1  Unnamed: 20  EL 2  \\\n",
       "0      3.7          0.1   4.05          0.1  3.40         0.25  2.70   \n",
       "1      1.9          0.1   3.95          0.1  3.20         0.25  4.45   \n",
       "2      4.3          0.1   3.20          0.1  2.60         0.25  4.50   \n",
       "3      4.3          0.1   4.05          0.1  4.00         0.25  3.44   \n",
       "4      2.5          0.1   4.05          0.1  3.60         0.25  4.35   \n",
       "..     ...          ...    ...          ...   ...          ...   ...   \n",
       "96     4.3          0.1   2.40          0.1  2.40         0.25  2.90   \n",
       "97     3.1          0.1   4.10          0.1  3.20         0.25  3.00   \n",
       "98     3.1          0.1   1.58          0.1  3.80         0.25  3.35   \n",
       "99     3.5          0.1   3.01          0.1  2.70         0.25  1.50   \n",
       "100    3.5          0.1   2.25          0.1  3.74         0.25  2.20   \n",
       "\n",
       "     Unnamed: 22  EL 3  Unnamed: 24  EL 4  Unnamed: 26  PR 1  Unnamed: 28  \\\n",
       "0           0.25  4.85         0.25  3.85         0.25  3.00          0.2   \n",
       "1           0.25  4.85         0.25  3.85         0.25  2.70          0.2   \n",
       "2           0.25  3.80         0.25  4.05         0.25  3.50          0.2   \n",
       "3           0.25  3.55         0.25  3.30         0.25  2.90          0.2   \n",
       "4           0.25  3.70         0.25  3.05         0.25  2.98          0.2   \n",
       "..           ...   ...          ...   ...          ...   ...          ...   \n",
       "96          0.25  2.85         0.25  3.05         0.25  2.70          0.2   \n",
       "97          0.25  2.80         0.25  3.70         0.25  3.30          0.2   \n",
       "98          0.25  2.31         0.25  4.10         0.25  2.40          0.2   \n",
       "99          0.25  2.42         0.25  2.59         0.25  1.71          0.2   \n",
       "100         0.25  3.32         0.25  2.07         0.25  3.20          0.2   \n",
       "\n",
       "     PR 2  Unnamed: 30   PR3  Unnamed: 32   PR4  Unnamed: 34  CI average  \\\n",
       "0    4.40         0.25  3.55         0.35  4.30          0.2       3.485   \n",
       "1    3.90         0.25  4.30         0.35  4.15          0.2       0.000   \n",
       "2    3.50         0.25  3.20         0.35  3.75          0.2       3.865   \n",
       "3    3.10         0.25  3.20         0.35  3.66          0.2       3.455   \n",
       "4    2.90         0.25  2.85         0.35  2.90          0.2       3.565   \n",
       "..    ...          ...   ...          ...   ...          ...         ...   \n",
       "96   3.80         0.25  2.85         0.35  2.60          0.2       3.260   \n",
       "97   3.50         0.25  3.95         0.35  3.85          0.2       3.750   \n",
       "98   3.80         0.25  2.95         0.35  2.03          0.2       3.265   \n",
       "99   2.40         0.25  1.93         0.35  2.01          0.2       2.425   \n",
       "100  2.38         0.25  3.40         0.35  2.47          0.2       2.430   \n",
       "\n",
       "      RCI  DD average   RDD  EL Average   REL  PR Average   RPR  \\\n",
       "0    Pass       3.755  Pass      3.7000  Pass      3.8025  Pass   \n",
       "1    Fail       2.313  Fail      4.0875  Pass      3.8500  Pass   \n",
       "2    Pass       3.330  Pass      3.7375  Pass      3.4450  Pass   \n",
       "3    Pass       3.575  Pass      3.5725  Pass      3.2070  Pass   \n",
       "4    Pass       3.285  Pass      3.6750  Pass      2.8985  Pass   \n",
       "..    ...         ...   ...         ...   ...         ...   ...   \n",
       "96   Pass       2.992  Pass      2.8000  Pass      3.0075  Pass   \n",
       "97   Pass       3.620  Pass      3.1750  Pass      3.6875  Pass   \n",
       "98   Pass       3.228  Pass      3.3900  Pass      2.8685  Pass   \n",
       "99   Fail       2.453  Fail      2.3025  Fail      2.0195  Fail   \n",
       "100  Fail       2.945  Pass      2.8325  Pass      2.9190  Pass   \n",
       "\n",
       "     Overall LC average Failing  CI_1_risk  CI_2_risk  DD_1_risk  DD_2_risk  \\\n",
       "0              3.685625    Pass          1          2          2          1   \n",
       "1              2.562625    Fail          4          4          2          4   \n",
       "2              3.594375    Pass          1          2          3          1   \n",
       "3              3.452375    Pass          1          2          2          2   \n",
       "4              3.355875    Pass          1          2          1          1   \n",
       "..                  ...     ...        ...        ...        ...        ...   \n",
       "96             3.014875    Pass          1          2          2          2   \n",
       "97             3.558125    Pass          1          1          2          1   \n",
       "98             3.187875    Pass          1          2          1          2   \n",
       "99             2.300000    Fail          1          4          3          2   \n",
       "100            2.781625    Fail          2          2          3          2   \n",
       "\n",
       "     EL_1_risk  EL_2_risk  PR_1_risk  PR_2_risk  \n",
       "0            1          2          2          1  \n",
       "1            2          1          2          1  \n",
       "2            2          1          1          1  \n",
       "3            1          1          2          2  \n",
       "4            1          1          2          2  \n",
       "..         ...        ...        ...        ...  \n",
       "96           3          2          2          1  \n",
       "97           2          2          2          1  \n",
       "98           1          1          3          1  \n",
       "99           2          3          3          3  \n",
       "100          1          3          2          3  \n",
       "\n",
       "[101 rows x 53 columns]"
      ]
     },
     "execution_count": 15,
     "metadata": {},
     "output_type": "execute_result"
    }
   ],
   "source": [
    "risk_levels"
   ]
  },
  {
   "cell_type": "code",
   "execution_count": 16,
   "metadata": {},
   "outputs": [],
   "source": [
    "risk_levels['score_risk']=risk_levels.iloc[:,45:].sum(axis=1)/8"
   ]
  },
  {
   "cell_type": "code",
   "execution_count": 17,
   "metadata": {},
   "outputs": [
    {
     "data": {
      "text/html": [
       "<div>\n",
       "<style scoped>\n",
       "    .dataframe tbody tr th:only-of-type {\n",
       "        vertical-align: middle;\n",
       "    }\n",
       "\n",
       "    .dataframe tbody tr th {\n",
       "        vertical-align: top;\n",
       "    }\n",
       "\n",
       "    .dataframe thead th {\n",
       "        text-align: right;\n",
       "    }\n",
       "</style>\n",
       "<table border=\"1\" class=\"dataframe\">\n",
       "  <thead>\n",
       "    <tr style=\"text-align: right;\">\n",
       "      <th></th>\n",
       "      <th>StudentID</th>\n",
       "      <th>CI 1</th>\n",
       "      <th>Unnamed: 2</th>\n",
       "      <th>CI 2</th>\n",
       "      <th>Unnamed: 4</th>\n",
       "      <th>CI 3</th>\n",
       "      <th>Unnamed: 6</th>\n",
       "      <th>CI 4</th>\n",
       "      <th>Unnamed: 8</th>\n",
       "      <th>DD 1</th>\n",
       "      <th>Unnamed: 10</th>\n",
       "      <th>DD 2</th>\n",
       "      <th>Unnamed: 12</th>\n",
       "      <th>DD 3</th>\n",
       "      <th>Unnamed: 14</th>\n",
       "      <th>DD 4A</th>\n",
       "      <th>Unnamed: 16</th>\n",
       "      <th>DD 4B</th>\n",
       "      <th>Unnamed: 18</th>\n",
       "      <th>EL 1</th>\n",
       "      <th>Unnamed: 20</th>\n",
       "      <th>EL 2</th>\n",
       "      <th>Unnamed: 22</th>\n",
       "      <th>EL 3</th>\n",
       "      <th>Unnamed: 24</th>\n",
       "      <th>EL 4</th>\n",
       "      <th>Unnamed: 26</th>\n",
       "      <th>PR 1</th>\n",
       "      <th>Unnamed: 28</th>\n",
       "      <th>PR 2</th>\n",
       "      <th>Unnamed: 30</th>\n",
       "      <th>PR3</th>\n",
       "      <th>Unnamed: 32</th>\n",
       "      <th>PR4</th>\n",
       "      <th>Unnamed: 34</th>\n",
       "      <th>CI average</th>\n",
       "      <th>RCI</th>\n",
       "      <th>DD average</th>\n",
       "      <th>RDD</th>\n",
       "      <th>EL Average</th>\n",
       "      <th>REL</th>\n",
       "      <th>PR Average</th>\n",
       "      <th>RPR</th>\n",
       "      <th>Overall LC average</th>\n",
       "      <th>Failing</th>\n",
       "      <th>CI_1_risk</th>\n",
       "      <th>CI_2_risk</th>\n",
       "      <th>DD_1_risk</th>\n",
       "      <th>DD_2_risk</th>\n",
       "      <th>EL_1_risk</th>\n",
       "      <th>EL_2_risk</th>\n",
       "      <th>PR_1_risk</th>\n",
       "      <th>PR_2_risk</th>\n",
       "      <th>score_risk</th>\n",
       "    </tr>\n",
       "  </thead>\n",
       "  <tbody>\n",
       "    <tr>\n",
       "      <td>0</td>\n",
       "      <td>Student001</td>\n",
       "      <td>3.4</td>\n",
       "      <td>0.15</td>\n",
       "      <td>2.7</td>\n",
       "      <td>0.25</td>\n",
       "      <td>3.6</td>\n",
       "      <td>0.25</td>\n",
       "      <td>4.0</td>\n",
       "      <td>0.35</td>\n",
       "      <td>3.0</td>\n",
       "      <td>0.1</td>\n",
       "      <td>4.2</td>\n",
       "      <td>0.3</td>\n",
       "      <td>3.55</td>\n",
       "      <td>0.4</td>\n",
       "      <td>3.7</td>\n",
       "      <td>0.1</td>\n",
       "      <td>4.05</td>\n",
       "      <td>0.1</td>\n",
       "      <td>3.40</td>\n",
       "      <td>0.25</td>\n",
       "      <td>2.70</td>\n",
       "      <td>0.25</td>\n",
       "      <td>4.85</td>\n",
       "      <td>0.25</td>\n",
       "      <td>3.85</td>\n",
       "      <td>0.25</td>\n",
       "      <td>3.00</td>\n",
       "      <td>0.2</td>\n",
       "      <td>4.40</td>\n",
       "      <td>0.25</td>\n",
       "      <td>3.55</td>\n",
       "      <td>0.35</td>\n",
       "      <td>4.30</td>\n",
       "      <td>0.2</td>\n",
       "      <td>3.485</td>\n",
       "      <td>Pass</td>\n",
       "      <td>3.755</td>\n",
       "      <td>Pass</td>\n",
       "      <td>3.7000</td>\n",
       "      <td>Pass</td>\n",
       "      <td>3.8025</td>\n",
       "      <td>Pass</td>\n",
       "      <td>3.685625</td>\n",
       "      <td>Pass</td>\n",
       "      <td>1</td>\n",
       "      <td>2</td>\n",
       "      <td>2</td>\n",
       "      <td>1</td>\n",
       "      <td>1</td>\n",
       "      <td>2</td>\n",
       "      <td>2</td>\n",
       "      <td>1</td>\n",
       "      <td>1.500</td>\n",
       "    </tr>\n",
       "    <tr>\n",
       "      <td>1</td>\n",
       "      <td>Student002</td>\n",
       "      <td>0.0</td>\n",
       "      <td>0.15</td>\n",
       "      <td>0.0</td>\n",
       "      <td>0.25</td>\n",
       "      <td>0.0</td>\n",
       "      <td>0.25</td>\n",
       "      <td>0.0</td>\n",
       "      <td>0.35</td>\n",
       "      <td>3.0</td>\n",
       "      <td>0.1</td>\n",
       "      <td>0.0</td>\n",
       "      <td>0.3</td>\n",
       "      <td>3.57</td>\n",
       "      <td>0.4</td>\n",
       "      <td>1.9</td>\n",
       "      <td>0.1</td>\n",
       "      <td>3.95</td>\n",
       "      <td>0.1</td>\n",
       "      <td>3.20</td>\n",
       "      <td>0.25</td>\n",
       "      <td>4.45</td>\n",
       "      <td>0.25</td>\n",
       "      <td>4.85</td>\n",
       "      <td>0.25</td>\n",
       "      <td>3.85</td>\n",
       "      <td>0.25</td>\n",
       "      <td>2.70</td>\n",
       "      <td>0.2</td>\n",
       "      <td>3.90</td>\n",
       "      <td>0.25</td>\n",
       "      <td>4.30</td>\n",
       "      <td>0.35</td>\n",
       "      <td>4.15</td>\n",
       "      <td>0.2</td>\n",
       "      <td>0.000</td>\n",
       "      <td>Fail</td>\n",
       "      <td>2.313</td>\n",
       "      <td>Fail</td>\n",
       "      <td>4.0875</td>\n",
       "      <td>Pass</td>\n",
       "      <td>3.8500</td>\n",
       "      <td>Pass</td>\n",
       "      <td>2.562625</td>\n",
       "      <td>Fail</td>\n",
       "      <td>4</td>\n",
       "      <td>4</td>\n",
       "      <td>2</td>\n",
       "      <td>4</td>\n",
       "      <td>2</td>\n",
       "      <td>1</td>\n",
       "      <td>2</td>\n",
       "      <td>1</td>\n",
       "      <td>2.500</td>\n",
       "    </tr>\n",
       "    <tr>\n",
       "      <td>2</td>\n",
       "      <td>Student003</td>\n",
       "      <td>4.1</td>\n",
       "      <td>0.15</td>\n",
       "      <td>3.2</td>\n",
       "      <td>0.25</td>\n",
       "      <td>4.2</td>\n",
       "      <td>0.25</td>\n",
       "      <td>4.0</td>\n",
       "      <td>0.35</td>\n",
       "      <td>2.3</td>\n",
       "      <td>0.1</td>\n",
       "      <td>3.5</td>\n",
       "      <td>0.3</td>\n",
       "      <td>3.25</td>\n",
       "      <td>0.4</td>\n",
       "      <td>4.3</td>\n",
       "      <td>0.1</td>\n",
       "      <td>3.20</td>\n",
       "      <td>0.1</td>\n",
       "      <td>2.60</td>\n",
       "      <td>0.25</td>\n",
       "      <td>4.50</td>\n",
       "      <td>0.25</td>\n",
       "      <td>3.80</td>\n",
       "      <td>0.25</td>\n",
       "      <td>4.05</td>\n",
       "      <td>0.25</td>\n",
       "      <td>3.50</td>\n",
       "      <td>0.2</td>\n",
       "      <td>3.50</td>\n",
       "      <td>0.25</td>\n",
       "      <td>3.20</td>\n",
       "      <td>0.35</td>\n",
       "      <td>3.75</td>\n",
       "      <td>0.2</td>\n",
       "      <td>3.865</td>\n",
       "      <td>Pass</td>\n",
       "      <td>3.330</td>\n",
       "      <td>Pass</td>\n",
       "      <td>3.7375</td>\n",
       "      <td>Pass</td>\n",
       "      <td>3.4450</td>\n",
       "      <td>Pass</td>\n",
       "      <td>3.594375</td>\n",
       "      <td>Pass</td>\n",
       "      <td>1</td>\n",
       "      <td>2</td>\n",
       "      <td>3</td>\n",
       "      <td>1</td>\n",
       "      <td>2</td>\n",
       "      <td>1</td>\n",
       "      <td>1</td>\n",
       "      <td>1</td>\n",
       "      <td>1.500</td>\n",
       "    </tr>\n",
       "    <tr>\n",
       "      <td>3</td>\n",
       "      <td>Student004</td>\n",
       "      <td>3.9</td>\n",
       "      <td>0.15</td>\n",
       "      <td>3.1</td>\n",
       "      <td>0.25</td>\n",
       "      <td>3.2</td>\n",
       "      <td>0.25</td>\n",
       "      <td>3.7</td>\n",
       "      <td>0.35</td>\n",
       "      <td>3.3</td>\n",
       "      <td>0.1</td>\n",
       "      <td>3.1</td>\n",
       "      <td>0.3</td>\n",
       "      <td>3.70</td>\n",
       "      <td>0.4</td>\n",
       "      <td>4.3</td>\n",
       "      <td>0.1</td>\n",
       "      <td>4.05</td>\n",
       "      <td>0.1</td>\n",
       "      <td>4.00</td>\n",
       "      <td>0.25</td>\n",
       "      <td>3.44</td>\n",
       "      <td>0.25</td>\n",
       "      <td>3.55</td>\n",
       "      <td>0.25</td>\n",
       "      <td>3.30</td>\n",
       "      <td>0.25</td>\n",
       "      <td>2.90</td>\n",
       "      <td>0.2</td>\n",
       "      <td>3.10</td>\n",
       "      <td>0.25</td>\n",
       "      <td>3.20</td>\n",
       "      <td>0.35</td>\n",
       "      <td>3.66</td>\n",
       "      <td>0.2</td>\n",
       "      <td>3.455</td>\n",
       "      <td>Pass</td>\n",
       "      <td>3.575</td>\n",
       "      <td>Pass</td>\n",
       "      <td>3.5725</td>\n",
       "      <td>Pass</td>\n",
       "      <td>3.2070</td>\n",
       "      <td>Pass</td>\n",
       "      <td>3.452375</td>\n",
       "      <td>Pass</td>\n",
       "      <td>1</td>\n",
       "      <td>2</td>\n",
       "      <td>2</td>\n",
       "      <td>2</td>\n",
       "      <td>1</td>\n",
       "      <td>1</td>\n",
       "      <td>2</td>\n",
       "      <td>2</td>\n",
       "      <td>1.625</td>\n",
       "    </tr>\n",
       "    <tr>\n",
       "      <td>4</td>\n",
       "      <td>Student005</td>\n",
       "      <td>3.5</td>\n",
       "      <td>0.15</td>\n",
       "      <td>3.1</td>\n",
       "      <td>0.25</td>\n",
       "      <td>4.3</td>\n",
       "      <td>0.25</td>\n",
       "      <td>3.4</td>\n",
       "      <td>0.35</td>\n",
       "      <td>3.5</td>\n",
       "      <td>0.1</td>\n",
       "      <td>4.0</td>\n",
       "      <td>0.3</td>\n",
       "      <td>2.70</td>\n",
       "      <td>0.4</td>\n",
       "      <td>2.5</td>\n",
       "      <td>0.1</td>\n",
       "      <td>4.05</td>\n",
       "      <td>0.1</td>\n",
       "      <td>3.60</td>\n",
       "      <td>0.25</td>\n",
       "      <td>4.35</td>\n",
       "      <td>0.25</td>\n",
       "      <td>3.70</td>\n",
       "      <td>0.25</td>\n",
       "      <td>3.05</td>\n",
       "      <td>0.25</td>\n",
       "      <td>2.98</td>\n",
       "      <td>0.2</td>\n",
       "      <td>2.90</td>\n",
       "      <td>0.25</td>\n",
       "      <td>2.85</td>\n",
       "      <td>0.35</td>\n",
       "      <td>2.90</td>\n",
       "      <td>0.2</td>\n",
       "      <td>3.565</td>\n",
       "      <td>Pass</td>\n",
       "      <td>3.285</td>\n",
       "      <td>Pass</td>\n",
       "      <td>3.6750</td>\n",
       "      <td>Pass</td>\n",
       "      <td>2.8985</td>\n",
       "      <td>Pass</td>\n",
       "      <td>3.355875</td>\n",
       "      <td>Pass</td>\n",
       "      <td>1</td>\n",
       "      <td>2</td>\n",
       "      <td>1</td>\n",
       "      <td>1</td>\n",
       "      <td>1</td>\n",
       "      <td>1</td>\n",
       "      <td>2</td>\n",
       "      <td>2</td>\n",
       "      <td>1.375</td>\n",
       "    </tr>\n",
       "    <tr>\n",
       "      <td>...</td>\n",
       "      <td>...</td>\n",
       "      <td>...</td>\n",
       "      <td>...</td>\n",
       "      <td>...</td>\n",
       "      <td>...</td>\n",
       "      <td>...</td>\n",
       "      <td>...</td>\n",
       "      <td>...</td>\n",
       "      <td>...</td>\n",
       "      <td>...</td>\n",
       "      <td>...</td>\n",
       "      <td>...</td>\n",
       "      <td>...</td>\n",
       "      <td>...</td>\n",
       "      <td>...</td>\n",
       "      <td>...</td>\n",
       "      <td>...</td>\n",
       "      <td>...</td>\n",
       "      <td>...</td>\n",
       "      <td>...</td>\n",
       "      <td>...</td>\n",
       "      <td>...</td>\n",
       "      <td>...</td>\n",
       "      <td>...</td>\n",
       "      <td>...</td>\n",
       "      <td>...</td>\n",
       "      <td>...</td>\n",
       "      <td>...</td>\n",
       "      <td>...</td>\n",
       "      <td>...</td>\n",
       "      <td>...</td>\n",
       "      <td>...</td>\n",
       "      <td>...</td>\n",
       "      <td>...</td>\n",
       "      <td>...</td>\n",
       "      <td>...</td>\n",
       "      <td>...</td>\n",
       "      <td>...</td>\n",
       "      <td>...</td>\n",
       "      <td>...</td>\n",
       "      <td>...</td>\n",
       "      <td>...</td>\n",
       "      <td>...</td>\n",
       "      <td>...</td>\n",
       "      <td>...</td>\n",
       "      <td>...</td>\n",
       "      <td>...</td>\n",
       "      <td>...</td>\n",
       "      <td>...</td>\n",
       "      <td>...</td>\n",
       "      <td>...</td>\n",
       "      <td>...</td>\n",
       "      <td>...</td>\n",
       "      <td>...</td>\n",
       "    </tr>\n",
       "    <tr>\n",
       "      <td>96</td>\n",
       "      <td>Student097</td>\n",
       "      <td>3.5</td>\n",
       "      <td>0.15</td>\n",
       "      <td>2.9</td>\n",
       "      <td>0.25</td>\n",
       "      <td>3.0</td>\n",
       "      <td>0.25</td>\n",
       "      <td>3.6</td>\n",
       "      <td>0.35</td>\n",
       "      <td>2.6</td>\n",
       "      <td>0.1</td>\n",
       "      <td>2.9</td>\n",
       "      <td>0.3</td>\n",
       "      <td>2.98</td>\n",
       "      <td>0.4</td>\n",
       "      <td>4.3</td>\n",
       "      <td>0.1</td>\n",
       "      <td>2.40</td>\n",
       "      <td>0.1</td>\n",
       "      <td>2.40</td>\n",
       "      <td>0.25</td>\n",
       "      <td>2.90</td>\n",
       "      <td>0.25</td>\n",
       "      <td>2.85</td>\n",
       "      <td>0.25</td>\n",
       "      <td>3.05</td>\n",
       "      <td>0.25</td>\n",
       "      <td>2.70</td>\n",
       "      <td>0.2</td>\n",
       "      <td>3.80</td>\n",
       "      <td>0.25</td>\n",
       "      <td>2.85</td>\n",
       "      <td>0.35</td>\n",
       "      <td>2.60</td>\n",
       "      <td>0.2</td>\n",
       "      <td>3.260</td>\n",
       "      <td>Pass</td>\n",
       "      <td>2.992</td>\n",
       "      <td>Pass</td>\n",
       "      <td>2.8000</td>\n",
       "      <td>Pass</td>\n",
       "      <td>3.0075</td>\n",
       "      <td>Pass</td>\n",
       "      <td>3.014875</td>\n",
       "      <td>Pass</td>\n",
       "      <td>1</td>\n",
       "      <td>2</td>\n",
       "      <td>2</td>\n",
       "      <td>2</td>\n",
       "      <td>3</td>\n",
       "      <td>2</td>\n",
       "      <td>2</td>\n",
       "      <td>1</td>\n",
       "      <td>1.875</td>\n",
       "    </tr>\n",
       "    <tr>\n",
       "      <td>97</td>\n",
       "      <td>Student098</td>\n",
       "      <td>4.1</td>\n",
       "      <td>0.15</td>\n",
       "      <td>3.9</td>\n",
       "      <td>0.25</td>\n",
       "      <td>4.3</td>\n",
       "      <td>0.25</td>\n",
       "      <td>3.1</td>\n",
       "      <td>0.35</td>\n",
       "      <td>2.7</td>\n",
       "      <td>0.1</td>\n",
       "      <td>4.1</td>\n",
       "      <td>0.3</td>\n",
       "      <td>3.50</td>\n",
       "      <td>0.4</td>\n",
       "      <td>3.1</td>\n",
       "      <td>0.1</td>\n",
       "      <td>4.10</td>\n",
       "      <td>0.1</td>\n",
       "      <td>3.20</td>\n",
       "      <td>0.25</td>\n",
       "      <td>3.00</td>\n",
       "      <td>0.25</td>\n",
       "      <td>2.80</td>\n",
       "      <td>0.25</td>\n",
       "      <td>3.70</td>\n",
       "      <td>0.25</td>\n",
       "      <td>3.30</td>\n",
       "      <td>0.2</td>\n",
       "      <td>3.50</td>\n",
       "      <td>0.25</td>\n",
       "      <td>3.95</td>\n",
       "      <td>0.35</td>\n",
       "      <td>3.85</td>\n",
       "      <td>0.2</td>\n",
       "      <td>3.750</td>\n",
       "      <td>Pass</td>\n",
       "      <td>3.620</td>\n",
       "      <td>Pass</td>\n",
       "      <td>3.1750</td>\n",
       "      <td>Pass</td>\n",
       "      <td>3.6875</td>\n",
       "      <td>Pass</td>\n",
       "      <td>3.558125</td>\n",
       "      <td>Pass</td>\n",
       "      <td>1</td>\n",
       "      <td>1</td>\n",
       "      <td>2</td>\n",
       "      <td>1</td>\n",
       "      <td>2</td>\n",
       "      <td>2</td>\n",
       "      <td>2</td>\n",
       "      <td>1</td>\n",
       "      <td>1.500</td>\n",
       "    </tr>\n",
       "    <tr>\n",
       "      <td>98</td>\n",
       "      <td>Student099</td>\n",
       "      <td>3.6</td>\n",
       "      <td>0.15</td>\n",
       "      <td>2.8</td>\n",
       "      <td>0.25</td>\n",
       "      <td>3.2</td>\n",
       "      <td>0.25</td>\n",
       "      <td>3.5</td>\n",
       "      <td>0.35</td>\n",
       "      <td>3.8</td>\n",
       "      <td>0.1</td>\n",
       "      <td>3.2</td>\n",
       "      <td>0.3</td>\n",
       "      <td>3.55</td>\n",
       "      <td>0.4</td>\n",
       "      <td>3.1</td>\n",
       "      <td>0.1</td>\n",
       "      <td>1.58</td>\n",
       "      <td>0.1</td>\n",
       "      <td>3.80</td>\n",
       "      <td>0.25</td>\n",
       "      <td>3.35</td>\n",
       "      <td>0.25</td>\n",
       "      <td>2.31</td>\n",
       "      <td>0.25</td>\n",
       "      <td>4.10</td>\n",
       "      <td>0.25</td>\n",
       "      <td>2.40</td>\n",
       "      <td>0.2</td>\n",
       "      <td>3.80</td>\n",
       "      <td>0.25</td>\n",
       "      <td>2.95</td>\n",
       "      <td>0.35</td>\n",
       "      <td>2.03</td>\n",
       "      <td>0.2</td>\n",
       "      <td>3.265</td>\n",
       "      <td>Pass</td>\n",
       "      <td>3.228</td>\n",
       "      <td>Pass</td>\n",
       "      <td>3.3900</td>\n",
       "      <td>Pass</td>\n",
       "      <td>2.8685</td>\n",
       "      <td>Pass</td>\n",
       "      <td>3.187875</td>\n",
       "      <td>Pass</td>\n",
       "      <td>1</td>\n",
       "      <td>2</td>\n",
       "      <td>1</td>\n",
       "      <td>2</td>\n",
       "      <td>1</td>\n",
       "      <td>1</td>\n",
       "      <td>3</td>\n",
       "      <td>1</td>\n",
       "      <td>1.500</td>\n",
       "    </tr>\n",
       "    <tr>\n",
       "      <td>99</td>\n",
       "      <td>Student100</td>\n",
       "      <td>3.6</td>\n",
       "      <td>0.15</td>\n",
       "      <td>0.0</td>\n",
       "      <td>0.25</td>\n",
       "      <td>3.2</td>\n",
       "      <td>0.25</td>\n",
       "      <td>3.1</td>\n",
       "      <td>0.35</td>\n",
       "      <td>2.0</td>\n",
       "      <td>0.1</td>\n",
       "      <td>3.1</td>\n",
       "      <td>0.3</td>\n",
       "      <td>1.68</td>\n",
       "      <td>0.4</td>\n",
       "      <td>3.5</td>\n",
       "      <td>0.1</td>\n",
       "      <td>3.01</td>\n",
       "      <td>0.1</td>\n",
       "      <td>2.70</td>\n",
       "      <td>0.25</td>\n",
       "      <td>1.50</td>\n",
       "      <td>0.25</td>\n",
       "      <td>2.42</td>\n",
       "      <td>0.25</td>\n",
       "      <td>2.59</td>\n",
       "      <td>0.25</td>\n",
       "      <td>1.71</td>\n",
       "      <td>0.2</td>\n",
       "      <td>2.40</td>\n",
       "      <td>0.25</td>\n",
       "      <td>1.93</td>\n",
       "      <td>0.35</td>\n",
       "      <td>2.01</td>\n",
       "      <td>0.2</td>\n",
       "      <td>2.425</td>\n",
       "      <td>Fail</td>\n",
       "      <td>2.453</td>\n",
       "      <td>Fail</td>\n",
       "      <td>2.3025</td>\n",
       "      <td>Fail</td>\n",
       "      <td>2.0195</td>\n",
       "      <td>Fail</td>\n",
       "      <td>2.300000</td>\n",
       "      <td>Fail</td>\n",
       "      <td>1</td>\n",
       "      <td>4</td>\n",
       "      <td>3</td>\n",
       "      <td>2</td>\n",
       "      <td>2</td>\n",
       "      <td>3</td>\n",
       "      <td>3</td>\n",
       "      <td>3</td>\n",
       "      <td>2.625</td>\n",
       "    </tr>\n",
       "    <tr>\n",
       "      <td>100</td>\n",
       "      <td>Student101</td>\n",
       "      <td>2.6</td>\n",
       "      <td>0.15</td>\n",
       "      <td>2.5</td>\n",
       "      <td>0.25</td>\n",
       "      <td>2.3</td>\n",
       "      <td>0.25</td>\n",
       "      <td>2.4</td>\n",
       "      <td>0.35</td>\n",
       "      <td>2.3</td>\n",
       "      <td>0.1</td>\n",
       "      <td>3.0</td>\n",
       "      <td>0.3</td>\n",
       "      <td>3.10</td>\n",
       "      <td>0.4</td>\n",
       "      <td>3.5</td>\n",
       "      <td>0.1</td>\n",
       "      <td>2.25</td>\n",
       "      <td>0.1</td>\n",
       "      <td>3.74</td>\n",
       "      <td>0.25</td>\n",
       "      <td>2.20</td>\n",
       "      <td>0.25</td>\n",
       "      <td>3.32</td>\n",
       "      <td>0.25</td>\n",
       "      <td>2.07</td>\n",
       "      <td>0.25</td>\n",
       "      <td>3.20</td>\n",
       "      <td>0.2</td>\n",
       "      <td>2.38</td>\n",
       "      <td>0.25</td>\n",
       "      <td>3.40</td>\n",
       "      <td>0.35</td>\n",
       "      <td>2.47</td>\n",
       "      <td>0.2</td>\n",
       "      <td>2.430</td>\n",
       "      <td>Fail</td>\n",
       "      <td>2.945</td>\n",
       "      <td>Pass</td>\n",
       "      <td>2.8325</td>\n",
       "      <td>Pass</td>\n",
       "      <td>2.9190</td>\n",
       "      <td>Pass</td>\n",
       "      <td>2.781625</td>\n",
       "      <td>Fail</td>\n",
       "      <td>2</td>\n",
       "      <td>2</td>\n",
       "      <td>3</td>\n",
       "      <td>2</td>\n",
       "      <td>1</td>\n",
       "      <td>3</td>\n",
       "      <td>2</td>\n",
       "      <td>3</td>\n",
       "      <td>2.250</td>\n",
       "    </tr>\n",
       "  </tbody>\n",
       "</table>\n",
       "<p>101 rows × 54 columns</p>\n",
       "</div>"
      ],
      "text/plain": [
       "      StudentID  CI 1  Unnamed: 2  CI 2  Unnamed: 4  CI 3  Unnamed: 6  CI 4  \\\n",
       "0    Student001   3.4        0.15   2.7        0.25   3.6        0.25   4.0   \n",
       "1    Student002   0.0        0.15   0.0        0.25   0.0        0.25   0.0   \n",
       "2    Student003   4.1        0.15   3.2        0.25   4.2        0.25   4.0   \n",
       "3    Student004   3.9        0.15   3.1        0.25   3.2        0.25   3.7   \n",
       "4    Student005   3.5        0.15   3.1        0.25   4.3        0.25   3.4   \n",
       "..          ...   ...         ...   ...         ...   ...         ...   ...   \n",
       "96   Student097   3.5        0.15   2.9        0.25   3.0        0.25   3.6   \n",
       "97   Student098   4.1        0.15   3.9        0.25   4.3        0.25   3.1   \n",
       "98   Student099   3.6        0.15   2.8        0.25   3.2        0.25   3.5   \n",
       "99   Student100   3.6        0.15   0.0        0.25   3.2        0.25   3.1   \n",
       "100  Student101   2.6        0.15   2.5        0.25   2.3        0.25   2.4   \n",
       "\n",
       "     Unnamed: 8  DD 1  Unnamed: 10  DD 2  Unnamed: 12  DD 3  Unnamed: 14  \\\n",
       "0          0.35   3.0          0.1   4.2          0.3  3.55          0.4   \n",
       "1          0.35   3.0          0.1   0.0          0.3  3.57          0.4   \n",
       "2          0.35   2.3          0.1   3.5          0.3  3.25          0.4   \n",
       "3          0.35   3.3          0.1   3.1          0.3  3.70          0.4   \n",
       "4          0.35   3.5          0.1   4.0          0.3  2.70          0.4   \n",
       "..          ...   ...          ...   ...          ...   ...          ...   \n",
       "96         0.35   2.6          0.1   2.9          0.3  2.98          0.4   \n",
       "97         0.35   2.7          0.1   4.1          0.3  3.50          0.4   \n",
       "98         0.35   3.8          0.1   3.2          0.3  3.55          0.4   \n",
       "99         0.35   2.0          0.1   3.1          0.3  1.68          0.4   \n",
       "100        0.35   2.3          0.1   3.0          0.3  3.10          0.4   \n",
       "\n",
       "     DD 4A  Unnamed: 16  DD 4B  Unnamed: 18  EL 1  Unnamed: 20  EL 2  \\\n",
       "0      3.7          0.1   4.05          0.1  3.40         0.25  2.70   \n",
       "1      1.9          0.1   3.95          0.1  3.20         0.25  4.45   \n",
       "2      4.3          0.1   3.20          0.1  2.60         0.25  4.50   \n",
       "3      4.3          0.1   4.05          0.1  4.00         0.25  3.44   \n",
       "4      2.5          0.1   4.05          0.1  3.60         0.25  4.35   \n",
       "..     ...          ...    ...          ...   ...          ...   ...   \n",
       "96     4.3          0.1   2.40          0.1  2.40         0.25  2.90   \n",
       "97     3.1          0.1   4.10          0.1  3.20         0.25  3.00   \n",
       "98     3.1          0.1   1.58          0.1  3.80         0.25  3.35   \n",
       "99     3.5          0.1   3.01          0.1  2.70         0.25  1.50   \n",
       "100    3.5          0.1   2.25          0.1  3.74         0.25  2.20   \n",
       "\n",
       "     Unnamed: 22  EL 3  Unnamed: 24  EL 4  Unnamed: 26  PR 1  Unnamed: 28  \\\n",
       "0           0.25  4.85         0.25  3.85         0.25  3.00          0.2   \n",
       "1           0.25  4.85         0.25  3.85         0.25  2.70          0.2   \n",
       "2           0.25  3.80         0.25  4.05         0.25  3.50          0.2   \n",
       "3           0.25  3.55         0.25  3.30         0.25  2.90          0.2   \n",
       "4           0.25  3.70         0.25  3.05         0.25  2.98          0.2   \n",
       "..           ...   ...          ...   ...          ...   ...          ...   \n",
       "96          0.25  2.85         0.25  3.05         0.25  2.70          0.2   \n",
       "97          0.25  2.80         0.25  3.70         0.25  3.30          0.2   \n",
       "98          0.25  2.31         0.25  4.10         0.25  2.40          0.2   \n",
       "99          0.25  2.42         0.25  2.59         0.25  1.71          0.2   \n",
       "100         0.25  3.32         0.25  2.07         0.25  3.20          0.2   \n",
       "\n",
       "     PR 2  Unnamed: 30   PR3  Unnamed: 32   PR4  Unnamed: 34  CI average  \\\n",
       "0    4.40         0.25  3.55         0.35  4.30          0.2       3.485   \n",
       "1    3.90         0.25  4.30         0.35  4.15          0.2       0.000   \n",
       "2    3.50         0.25  3.20         0.35  3.75          0.2       3.865   \n",
       "3    3.10         0.25  3.20         0.35  3.66          0.2       3.455   \n",
       "4    2.90         0.25  2.85         0.35  2.90          0.2       3.565   \n",
       "..    ...          ...   ...          ...   ...          ...         ...   \n",
       "96   3.80         0.25  2.85         0.35  2.60          0.2       3.260   \n",
       "97   3.50         0.25  3.95         0.35  3.85          0.2       3.750   \n",
       "98   3.80         0.25  2.95         0.35  2.03          0.2       3.265   \n",
       "99   2.40         0.25  1.93         0.35  2.01          0.2       2.425   \n",
       "100  2.38         0.25  3.40         0.35  2.47          0.2       2.430   \n",
       "\n",
       "      RCI  DD average   RDD  EL Average   REL  PR Average   RPR  \\\n",
       "0    Pass       3.755  Pass      3.7000  Pass      3.8025  Pass   \n",
       "1    Fail       2.313  Fail      4.0875  Pass      3.8500  Pass   \n",
       "2    Pass       3.330  Pass      3.7375  Pass      3.4450  Pass   \n",
       "3    Pass       3.575  Pass      3.5725  Pass      3.2070  Pass   \n",
       "4    Pass       3.285  Pass      3.6750  Pass      2.8985  Pass   \n",
       "..    ...         ...   ...         ...   ...         ...   ...   \n",
       "96   Pass       2.992  Pass      2.8000  Pass      3.0075  Pass   \n",
       "97   Pass       3.620  Pass      3.1750  Pass      3.6875  Pass   \n",
       "98   Pass       3.228  Pass      3.3900  Pass      2.8685  Pass   \n",
       "99   Fail       2.453  Fail      2.3025  Fail      2.0195  Fail   \n",
       "100  Fail       2.945  Pass      2.8325  Pass      2.9190  Pass   \n",
       "\n",
       "     Overall LC average Failing  CI_1_risk  CI_2_risk  DD_1_risk  DD_2_risk  \\\n",
       "0              3.685625    Pass          1          2          2          1   \n",
       "1              2.562625    Fail          4          4          2          4   \n",
       "2              3.594375    Pass          1          2          3          1   \n",
       "3              3.452375    Pass          1          2          2          2   \n",
       "4              3.355875    Pass          1          2          1          1   \n",
       "..                  ...     ...        ...        ...        ...        ...   \n",
       "96             3.014875    Pass          1          2          2          2   \n",
       "97             3.558125    Pass          1          1          2          1   \n",
       "98             3.187875    Pass          1          2          1          2   \n",
       "99             2.300000    Fail          1          4          3          2   \n",
       "100            2.781625    Fail          2          2          3          2   \n",
       "\n",
       "     EL_1_risk  EL_2_risk  PR_1_risk  PR_2_risk  score_risk  \n",
       "0            1          2          2          1       1.500  \n",
       "1            2          1          2          1       2.500  \n",
       "2            2          1          1          1       1.500  \n",
       "3            1          1          2          2       1.625  \n",
       "4            1          1          2          2       1.375  \n",
       "..         ...        ...        ...        ...         ...  \n",
       "96           3          2          2          1       1.875  \n",
       "97           2          2          2          1       1.500  \n",
       "98           1          1          3          1       1.500  \n",
       "99           2          3          3          3       2.625  \n",
       "100          1          3          2          3       2.250  \n",
       "\n",
       "[101 rows x 54 columns]"
      ]
     },
     "execution_count": 17,
     "metadata": {},
     "output_type": "execute_result"
    }
   ],
   "source": [
    "risk_levels"
   ]
  },
  {
   "cell_type": "code",
   "execution_count": 140,
   "metadata": {},
   "outputs": [
    {
     "data": {
      "text/html": [
       "<div>\n",
       "<style scoped>\n",
       "    .dataframe tbody tr th:only-of-type {\n",
       "        vertical-align: middle;\n",
       "    }\n",
       "\n",
       "    .dataframe tbody tr th {\n",
       "        vertical-align: top;\n",
       "    }\n",
       "\n",
       "    .dataframe thead th {\n",
       "        text-align: right;\n",
       "    }\n",
       "</style>\n",
       "<table border=\"1\" class=\"dataframe\">\n",
       "  <thead>\n",
       "    <tr style=\"text-align: right;\">\n",
       "      <th></th>\n",
       "      <th>StudentID</th>\n",
       "      <th>CI 1</th>\n",
       "      <th>Unnamed: 2</th>\n",
       "      <th>CI 2</th>\n",
       "      <th>Unnamed: 4</th>\n",
       "      <th>CI 3</th>\n",
       "      <th>Unnamed: 6</th>\n",
       "      <th>CI 4</th>\n",
       "      <th>Unnamed: 8</th>\n",
       "      <th>DD 1</th>\n",
       "      <th>Unnamed: 10</th>\n",
       "      <th>DD 2</th>\n",
       "      <th>Unnamed: 12</th>\n",
       "      <th>DD 3</th>\n",
       "      <th>Unnamed: 14</th>\n",
       "      <th>DD 4A</th>\n",
       "      <th>Unnamed: 16</th>\n",
       "      <th>DD 4B</th>\n",
       "      <th>Unnamed: 18</th>\n",
       "      <th>EL 1</th>\n",
       "      <th>Unnamed: 20</th>\n",
       "      <th>EL 2</th>\n",
       "      <th>Unnamed: 22</th>\n",
       "      <th>EL 3</th>\n",
       "      <th>Unnamed: 24</th>\n",
       "      <th>EL 4</th>\n",
       "      <th>Unnamed: 26</th>\n",
       "      <th>PR 1</th>\n",
       "      <th>Unnamed: 28</th>\n",
       "      <th>PR 2</th>\n",
       "      <th>Unnamed: 30</th>\n",
       "      <th>PR3</th>\n",
       "      <th>Unnamed: 32</th>\n",
       "      <th>PR4</th>\n",
       "      <th>Unnamed: 34</th>\n",
       "      <th>CI average</th>\n",
       "      <th>RCI</th>\n",
       "      <th>DD average</th>\n",
       "      <th>RDD</th>\n",
       "      <th>EL Average</th>\n",
       "      <th>REL</th>\n",
       "      <th>PR Average</th>\n",
       "      <th>RPR</th>\n",
       "      <th>Overall LC average</th>\n",
       "      <th>Failing</th>\n",
       "      <th>CI_1_risk</th>\n",
       "      <th>CI_2_risk</th>\n",
       "      <th>DD_1_risk</th>\n",
       "      <th>DD_2_risk</th>\n",
       "      <th>EL_1_risk</th>\n",
       "      <th>EL_2_risk</th>\n",
       "      <th>PR_1_risk</th>\n",
       "      <th>PR_2_risk</th>\n",
       "      <th>score_risk</th>\n",
       "    </tr>\n",
       "  </thead>\n",
       "  <tbody>\n",
       "    <tr>\n",
       "      <td>60</td>\n",
       "      <td>Student061</td>\n",
       "      <td>0.0</td>\n",
       "      <td>0.15</td>\n",
       "      <td>0.0</td>\n",
       "      <td>0.25</td>\n",
       "      <td>0.0</td>\n",
       "      <td>0.25</td>\n",
       "      <td>0.00</td>\n",
       "      <td>0.35</td>\n",
       "      <td>3.00</td>\n",
       "      <td>0.1</td>\n",
       "      <td>0.00</td>\n",
       "      <td>0.3</td>\n",
       "      <td>3.80</td>\n",
       "      <td>0.4</td>\n",
       "      <td>0.00</td>\n",
       "      <td>0.1</td>\n",
       "      <td>4.25</td>\n",
       "      <td>0.1</td>\n",
       "      <td>3.20</td>\n",
       "      <td>0.25</td>\n",
       "      <td>2.30</td>\n",
       "      <td>0.25</td>\n",
       "      <td>3.55</td>\n",
       "      <td>0.25</td>\n",
       "      <td>3.75</td>\n",
       "      <td>0.25</td>\n",
       "      <td>2.72</td>\n",
       "      <td>0.2</td>\n",
       "      <td>2.17</td>\n",
       "      <td>0.25</td>\n",
       "      <td>3.50</td>\n",
       "      <td>0.35</td>\n",
       "      <td>4.15</td>\n",
       "      <td>0.2</td>\n",
       "      <td>0.0000</td>\n",
       "      <td>Fail</td>\n",
       "      <td>2.245</td>\n",
       "      <td>Fail</td>\n",
       "      <td>3.2000</td>\n",
       "      <td>Pass</td>\n",
       "      <td>3.1415</td>\n",
       "      <td>Pass</td>\n",
       "      <td>2.146625</td>\n",
       "      <td>Fail</td>\n",
       "      <td>4</td>\n",
       "      <td>4</td>\n",
       "      <td>2</td>\n",
       "      <td>4</td>\n",
       "      <td>2</td>\n",
       "      <td>3</td>\n",
       "      <td>2</td>\n",
       "      <td>3</td>\n",
       "      <td>3.000</td>\n",
       "    </tr>\n",
       "    <tr>\n",
       "      <td>85</td>\n",
       "      <td>Student086</td>\n",
       "      <td>1.7</td>\n",
       "      <td>0.15</td>\n",
       "      <td>2.4</td>\n",
       "      <td>0.25</td>\n",
       "      <td>2.9</td>\n",
       "      <td>0.25</td>\n",
       "      <td>3.20</td>\n",
       "      <td>0.35</td>\n",
       "      <td>2.50</td>\n",
       "      <td>0.1</td>\n",
       "      <td>2.35</td>\n",
       "      <td>0.3</td>\n",
       "      <td>2.65</td>\n",
       "      <td>0.4</td>\n",
       "      <td>2.90</td>\n",
       "      <td>0.1</td>\n",
       "      <td>4.05</td>\n",
       "      <td>0.1</td>\n",
       "      <td>2.66</td>\n",
       "      <td>0.25</td>\n",
       "      <td>1.87</td>\n",
       "      <td>0.25</td>\n",
       "      <td>3.15</td>\n",
       "      <td>0.25</td>\n",
       "      <td>2.85</td>\n",
       "      <td>0.25</td>\n",
       "      <td>1.56</td>\n",
       "      <td>0.2</td>\n",
       "      <td>2.24</td>\n",
       "      <td>0.25</td>\n",
       "      <td>2.85</td>\n",
       "      <td>0.35</td>\n",
       "      <td>4.30</td>\n",
       "      <td>0.2</td>\n",
       "      <td>2.7000</td>\n",
       "      <td>Pass</td>\n",
       "      <td>2.710</td>\n",
       "      <td>Pass</td>\n",
       "      <td>2.6325</td>\n",
       "      <td>Pass</td>\n",
       "      <td>2.7295</td>\n",
       "      <td>Pass</td>\n",
       "      <td>2.693000</td>\n",
       "      <td>Fail</td>\n",
       "      <td>3</td>\n",
       "      <td>3</td>\n",
       "      <td>2</td>\n",
       "      <td>3</td>\n",
       "      <td>2</td>\n",
       "      <td>3</td>\n",
       "      <td>3</td>\n",
       "      <td>3</td>\n",
       "      <td>2.750</td>\n",
       "    </tr>\n",
       "    <tr>\n",
       "      <td>99</td>\n",
       "      <td>Student100</td>\n",
       "      <td>3.6</td>\n",
       "      <td>0.15</td>\n",
       "      <td>0.0</td>\n",
       "      <td>0.25</td>\n",
       "      <td>3.2</td>\n",
       "      <td>0.25</td>\n",
       "      <td>3.10</td>\n",
       "      <td>0.35</td>\n",
       "      <td>2.00</td>\n",
       "      <td>0.1</td>\n",
       "      <td>3.10</td>\n",
       "      <td>0.3</td>\n",
       "      <td>1.68</td>\n",
       "      <td>0.4</td>\n",
       "      <td>3.50</td>\n",
       "      <td>0.1</td>\n",
       "      <td>3.01</td>\n",
       "      <td>0.1</td>\n",
       "      <td>2.70</td>\n",
       "      <td>0.25</td>\n",
       "      <td>1.50</td>\n",
       "      <td>0.25</td>\n",
       "      <td>2.42</td>\n",
       "      <td>0.25</td>\n",
       "      <td>2.59</td>\n",
       "      <td>0.25</td>\n",
       "      <td>1.71</td>\n",
       "      <td>0.2</td>\n",
       "      <td>2.40</td>\n",
       "      <td>0.25</td>\n",
       "      <td>1.93</td>\n",
       "      <td>0.35</td>\n",
       "      <td>2.01</td>\n",
       "      <td>0.2</td>\n",
       "      <td>2.4250</td>\n",
       "      <td>Fail</td>\n",
       "      <td>2.453</td>\n",
       "      <td>Fail</td>\n",
       "      <td>2.3025</td>\n",
       "      <td>Fail</td>\n",
       "      <td>2.0195</td>\n",
       "      <td>Fail</td>\n",
       "      <td>2.300000</td>\n",
       "      <td>Fail</td>\n",
       "      <td>1</td>\n",
       "      <td>4</td>\n",
       "      <td>3</td>\n",
       "      <td>2</td>\n",
       "      <td>2</td>\n",
       "      <td>3</td>\n",
       "      <td>3</td>\n",
       "      <td>3</td>\n",
       "      <td>2.625</td>\n",
       "    </tr>\n",
       "    <tr>\n",
       "      <td>71</td>\n",
       "      <td>Student072</td>\n",
       "      <td>0.0</td>\n",
       "      <td>0.15</td>\n",
       "      <td>0.0</td>\n",
       "      <td>0.25</td>\n",
       "      <td>4.5</td>\n",
       "      <td>0.25</td>\n",
       "      <td>3.60</td>\n",
       "      <td>0.35</td>\n",
       "      <td>2.25</td>\n",
       "      <td>0.1</td>\n",
       "      <td>2.80</td>\n",
       "      <td>0.3</td>\n",
       "      <td>2.70</td>\n",
       "      <td>0.4</td>\n",
       "      <td>3.10</td>\n",
       "      <td>0.1</td>\n",
       "      <td>3.65</td>\n",
       "      <td>0.1</td>\n",
       "      <td>3.00</td>\n",
       "      <td>0.25</td>\n",
       "      <td>2.50</td>\n",
       "      <td>0.25</td>\n",
       "      <td>3.15</td>\n",
       "      <td>0.25</td>\n",
       "      <td>2.85</td>\n",
       "      <td>0.25</td>\n",
       "      <td>2.55</td>\n",
       "      <td>0.2</td>\n",
       "      <td>2.60</td>\n",
       "      <td>0.25</td>\n",
       "      <td>1.43</td>\n",
       "      <td>0.35</td>\n",
       "      <td>3.15</td>\n",
       "      <td>0.2</td>\n",
       "      <td>2.3850</td>\n",
       "      <td>Fail</td>\n",
       "      <td>2.820</td>\n",
       "      <td>Pass</td>\n",
       "      <td>2.8750</td>\n",
       "      <td>Pass</td>\n",
       "      <td>2.2905</td>\n",
       "      <td>Fail</td>\n",
       "      <td>2.592625</td>\n",
       "      <td>Fail</td>\n",
       "      <td>4</td>\n",
       "      <td>4</td>\n",
       "      <td>3</td>\n",
       "      <td>2</td>\n",
       "      <td>2</td>\n",
       "      <td>2</td>\n",
       "      <td>2</td>\n",
       "      <td>2</td>\n",
       "      <td>2.625</td>\n",
       "    </tr>\n",
       "    <tr>\n",
       "      <td>1</td>\n",
       "      <td>Student002</td>\n",
       "      <td>0.0</td>\n",
       "      <td>0.15</td>\n",
       "      <td>0.0</td>\n",
       "      <td>0.25</td>\n",
       "      <td>0.0</td>\n",
       "      <td>0.25</td>\n",
       "      <td>0.00</td>\n",
       "      <td>0.35</td>\n",
       "      <td>3.00</td>\n",
       "      <td>0.1</td>\n",
       "      <td>0.00</td>\n",
       "      <td>0.3</td>\n",
       "      <td>3.57</td>\n",
       "      <td>0.4</td>\n",
       "      <td>1.90</td>\n",
       "      <td>0.1</td>\n",
       "      <td>3.95</td>\n",
       "      <td>0.1</td>\n",
       "      <td>3.20</td>\n",
       "      <td>0.25</td>\n",
       "      <td>4.45</td>\n",
       "      <td>0.25</td>\n",
       "      <td>4.85</td>\n",
       "      <td>0.25</td>\n",
       "      <td>3.85</td>\n",
       "      <td>0.25</td>\n",
       "      <td>2.70</td>\n",
       "      <td>0.2</td>\n",
       "      <td>3.90</td>\n",
       "      <td>0.25</td>\n",
       "      <td>4.30</td>\n",
       "      <td>0.35</td>\n",
       "      <td>4.15</td>\n",
       "      <td>0.2</td>\n",
       "      <td>0.0000</td>\n",
       "      <td>Fail</td>\n",
       "      <td>2.313</td>\n",
       "      <td>Fail</td>\n",
       "      <td>4.0875</td>\n",
       "      <td>Pass</td>\n",
       "      <td>3.8500</td>\n",
       "      <td>Pass</td>\n",
       "      <td>2.562625</td>\n",
       "      <td>Fail</td>\n",
       "      <td>4</td>\n",
       "      <td>4</td>\n",
       "      <td>2</td>\n",
       "      <td>4</td>\n",
       "      <td>2</td>\n",
       "      <td>1</td>\n",
       "      <td>2</td>\n",
       "      <td>1</td>\n",
       "      <td>2.500</td>\n",
       "    </tr>\n",
       "    <tr>\n",
       "      <td>55</td>\n",
       "      <td>Student056</td>\n",
       "      <td>0.0</td>\n",
       "      <td>0.15</td>\n",
       "      <td>2.8</td>\n",
       "      <td>0.25</td>\n",
       "      <td>3.3</td>\n",
       "      <td>0.25</td>\n",
       "      <td>3.80</td>\n",
       "      <td>0.35</td>\n",
       "      <td>2.30</td>\n",
       "      <td>0.1</td>\n",
       "      <td>3.20</td>\n",
       "      <td>0.3</td>\n",
       "      <td>3.25</td>\n",
       "      <td>0.4</td>\n",
       "      <td>3.40</td>\n",
       "      <td>0.1</td>\n",
       "      <td>3.35</td>\n",
       "      <td>0.1</td>\n",
       "      <td>4.80</td>\n",
       "      <td>0.25</td>\n",
       "      <td>2.20</td>\n",
       "      <td>0.25</td>\n",
       "      <td>3.55</td>\n",
       "      <td>0.25</td>\n",
       "      <td>3.30</td>\n",
       "      <td>0.25</td>\n",
       "      <td>2.70</td>\n",
       "      <td>0.2</td>\n",
       "      <td>2.10</td>\n",
       "      <td>0.25</td>\n",
       "      <td>3.20</td>\n",
       "      <td>0.35</td>\n",
       "      <td>3.60</td>\n",
       "      <td>0.2</td>\n",
       "      <td>2.8550</td>\n",
       "      <td>Pass</td>\n",
       "      <td>3.165</td>\n",
       "      <td>Pass</td>\n",
       "      <td>3.4625</td>\n",
       "      <td>Pass</td>\n",
       "      <td>2.9050</td>\n",
       "      <td>Pass</td>\n",
       "      <td>3.096875</td>\n",
       "      <td>Pass</td>\n",
       "      <td>4</td>\n",
       "      <td>2</td>\n",
       "      <td>3</td>\n",
       "      <td>2</td>\n",
       "      <td>1</td>\n",
       "      <td>3</td>\n",
       "      <td>2</td>\n",
       "      <td>3</td>\n",
       "      <td>2.500</td>\n",
       "    </tr>\n",
       "    <tr>\n",
       "      <td>64</td>\n",
       "      <td>Student065</td>\n",
       "      <td>3.2</td>\n",
       "      <td>0.15</td>\n",
       "      <td>1.9</td>\n",
       "      <td>0.25</td>\n",
       "      <td>2.5</td>\n",
       "      <td>0.25</td>\n",
       "      <td>3.60</td>\n",
       "      <td>0.35</td>\n",
       "      <td>2.80</td>\n",
       "      <td>0.1</td>\n",
       "      <td>3.10</td>\n",
       "      <td>0.3</td>\n",
       "      <td>2.95</td>\n",
       "      <td>0.4</td>\n",
       "      <td>3.90</td>\n",
       "      <td>0.1</td>\n",
       "      <td>2.05</td>\n",
       "      <td>0.1</td>\n",
       "      <td>3.22</td>\n",
       "      <td>0.25</td>\n",
       "      <td>2.73</td>\n",
       "      <td>0.25</td>\n",
       "      <td>2.34</td>\n",
       "      <td>0.25</td>\n",
       "      <td>3.32</td>\n",
       "      <td>0.25</td>\n",
       "      <td>2.47</td>\n",
       "      <td>0.2</td>\n",
       "      <td>2.11</td>\n",
       "      <td>0.25</td>\n",
       "      <td>2.87</td>\n",
       "      <td>0.35</td>\n",
       "      <td>4.15</td>\n",
       "      <td>0.2</td>\n",
       "      <td>2.8400</td>\n",
       "      <td>Pass</td>\n",
       "      <td>2.985</td>\n",
       "      <td>Pass</td>\n",
       "      <td>2.9025</td>\n",
       "      <td>Pass</td>\n",
       "      <td>2.8560</td>\n",
       "      <td>Pass</td>\n",
       "      <td>2.895875</td>\n",
       "      <td>Fail</td>\n",
       "      <td>2</td>\n",
       "      <td>3</td>\n",
       "      <td>2</td>\n",
       "      <td>2</td>\n",
       "      <td>2</td>\n",
       "      <td>2</td>\n",
       "      <td>3</td>\n",
       "      <td>3</td>\n",
       "      <td>2.375</td>\n",
       "    </tr>\n",
       "    <tr>\n",
       "      <td>72</td>\n",
       "      <td>Student073</td>\n",
       "      <td>2.8</td>\n",
       "      <td>0.15</td>\n",
       "      <td>2.4</td>\n",
       "      <td>0.25</td>\n",
       "      <td>2.3</td>\n",
       "      <td>0.25</td>\n",
       "      <td>3.50</td>\n",
       "      <td>0.35</td>\n",
       "      <td>3.30</td>\n",
       "      <td>0.1</td>\n",
       "      <td>3.30</td>\n",
       "      <td>0.3</td>\n",
       "      <td>3.90</td>\n",
       "      <td>0.4</td>\n",
       "      <td>2.28</td>\n",
       "      <td>0.1</td>\n",
       "      <td>3.06</td>\n",
       "      <td>0.1</td>\n",
       "      <td>2.74</td>\n",
       "      <td>0.25</td>\n",
       "      <td>2.41</td>\n",
       "      <td>0.25</td>\n",
       "      <td>2.70</td>\n",
       "      <td>0.25</td>\n",
       "      <td>3.15</td>\n",
       "      <td>0.25</td>\n",
       "      <td>2.07</td>\n",
       "      <td>0.2</td>\n",
       "      <td>2.72</td>\n",
       "      <td>0.25</td>\n",
       "      <td>2.42</td>\n",
       "      <td>0.35</td>\n",
       "      <td>4.00</td>\n",
       "      <td>0.2</td>\n",
       "      <td>2.8200</td>\n",
       "      <td>Pass</td>\n",
       "      <td>3.414</td>\n",
       "      <td>Pass</td>\n",
       "      <td>2.7500</td>\n",
       "      <td>Pass</td>\n",
       "      <td>2.7410</td>\n",
       "      <td>Pass</td>\n",
       "      <td>2.931250</td>\n",
       "      <td>Fail</td>\n",
       "      <td>2</td>\n",
       "      <td>3</td>\n",
       "      <td>2</td>\n",
       "      <td>2</td>\n",
       "      <td>2</td>\n",
       "      <td>3</td>\n",
       "      <td>3</td>\n",
       "      <td>2</td>\n",
       "      <td>2.375</td>\n",
       "    </tr>\n",
       "    <tr>\n",
       "      <td>88</td>\n",
       "      <td>Student089</td>\n",
       "      <td>3.4</td>\n",
       "      <td>0.15</td>\n",
       "      <td>2.3</td>\n",
       "      <td>0.25</td>\n",
       "      <td>3.4</td>\n",
       "      <td>0.25</td>\n",
       "      <td>3.30</td>\n",
       "      <td>0.35</td>\n",
       "      <td>2.25</td>\n",
       "      <td>0.1</td>\n",
       "      <td>4.00</td>\n",
       "      <td>0.3</td>\n",
       "      <td>4.00</td>\n",
       "      <td>0.4</td>\n",
       "      <td>4.60</td>\n",
       "      <td>0.1</td>\n",
       "      <td>3.80</td>\n",
       "      <td>0.1</td>\n",
       "      <td>3.20</td>\n",
       "      <td>0.25</td>\n",
       "      <td>2.30</td>\n",
       "      <td>0.25</td>\n",
       "      <td>2.90</td>\n",
       "      <td>0.25</td>\n",
       "      <td>3.30</td>\n",
       "      <td>0.25</td>\n",
       "      <td>3.20</td>\n",
       "      <td>0.2</td>\n",
       "      <td>2.45</td>\n",
       "      <td>0.25</td>\n",
       "      <td>2.95</td>\n",
       "      <td>0.35</td>\n",
       "      <td>3.80</td>\n",
       "      <td>0.2</td>\n",
       "      <td>3.0900</td>\n",
       "      <td>Pass</td>\n",
       "      <td>3.865</td>\n",
       "      <td>Pass</td>\n",
       "      <td>2.9250</td>\n",
       "      <td>Pass</td>\n",
       "      <td>3.0450</td>\n",
       "      <td>Pass</td>\n",
       "      <td>3.231250</td>\n",
       "      <td>Pass</td>\n",
       "      <td>1</td>\n",
       "      <td>3</td>\n",
       "      <td>3</td>\n",
       "      <td>1</td>\n",
       "      <td>2</td>\n",
       "      <td>3</td>\n",
       "      <td>2</td>\n",
       "      <td>3</td>\n",
       "      <td>2.250</td>\n",
       "    </tr>\n",
       "    <tr>\n",
       "      <td>11</td>\n",
       "      <td>Student012</td>\n",
       "      <td>2.9</td>\n",
       "      <td>0.15</td>\n",
       "      <td>2.6</td>\n",
       "      <td>0.25</td>\n",
       "      <td>3.9</td>\n",
       "      <td>0.25</td>\n",
       "      <td>3.20</td>\n",
       "      <td>0.35</td>\n",
       "      <td>2.80</td>\n",
       "      <td>0.1</td>\n",
       "      <td>2.60</td>\n",
       "      <td>0.3</td>\n",
       "      <td>3.32</td>\n",
       "      <td>0.4</td>\n",
       "      <td>1.40</td>\n",
       "      <td>0.1</td>\n",
       "      <td>3.60</td>\n",
       "      <td>0.1</td>\n",
       "      <td>2.40</td>\n",
       "      <td>0.25</td>\n",
       "      <td>2.90</td>\n",
       "      <td>0.25</td>\n",
       "      <td>4.15</td>\n",
       "      <td>0.25</td>\n",
       "      <td>2.90</td>\n",
       "      <td>0.25</td>\n",
       "      <td>2.40</td>\n",
       "      <td>0.2</td>\n",
       "      <td>2.89</td>\n",
       "      <td>0.25</td>\n",
       "      <td>2.85</td>\n",
       "      <td>0.35</td>\n",
       "      <td>4.00</td>\n",
       "      <td>0.2</td>\n",
       "      <td>3.1800</td>\n",
       "      <td>Pass</td>\n",
       "      <td>2.888</td>\n",
       "      <td>Pass</td>\n",
       "      <td>3.0875</td>\n",
       "      <td>Pass</td>\n",
       "      <td>3.0000</td>\n",
       "      <td>Pass</td>\n",
       "      <td>3.038875</td>\n",
       "      <td>Pass</td>\n",
       "      <td>2</td>\n",
       "      <td>2</td>\n",
       "      <td>2</td>\n",
       "      <td>2</td>\n",
       "      <td>3</td>\n",
       "      <td>2</td>\n",
       "      <td>3</td>\n",
       "      <td>2</td>\n",
       "      <td>2.250</td>\n",
       "    </tr>\n",
       "    <tr>\n",
       "      <td>77</td>\n",
       "      <td>Student078</td>\n",
       "      <td>2.7</td>\n",
       "      <td>0.15</td>\n",
       "      <td>2.5</td>\n",
       "      <td>0.25</td>\n",
       "      <td>2.8</td>\n",
       "      <td>0.25</td>\n",
       "      <td>2.98</td>\n",
       "      <td>0.35</td>\n",
       "      <td>2.00</td>\n",
       "      <td>0.1</td>\n",
       "      <td>3.10</td>\n",
       "      <td>0.3</td>\n",
       "      <td>3.60</td>\n",
       "      <td>0.4</td>\n",
       "      <td>1.70</td>\n",
       "      <td>0.1</td>\n",
       "      <td>3.45</td>\n",
       "      <td>0.1</td>\n",
       "      <td>3.20</td>\n",
       "      <td>0.25</td>\n",
       "      <td>3.00</td>\n",
       "      <td>0.25</td>\n",
       "      <td>2.85</td>\n",
       "      <td>0.25</td>\n",
       "      <td>3.44</td>\n",
       "      <td>0.25</td>\n",
       "      <td>2.13</td>\n",
       "      <td>0.2</td>\n",
       "      <td>3.10</td>\n",
       "      <td>0.25</td>\n",
       "      <td>3.55</td>\n",
       "      <td>0.35</td>\n",
       "      <td>2.68</td>\n",
       "      <td>0.2</td>\n",
       "      <td>2.7730</td>\n",
       "      <td>Pass</td>\n",
       "      <td>3.085</td>\n",
       "      <td>Pass</td>\n",
       "      <td>3.1225</td>\n",
       "      <td>Pass</td>\n",
       "      <td>2.9795</td>\n",
       "      <td>Pass</td>\n",
       "      <td>2.990000</td>\n",
       "      <td>Fail</td>\n",
       "      <td>2</td>\n",
       "      <td>2</td>\n",
       "      <td>3</td>\n",
       "      <td>2</td>\n",
       "      <td>2</td>\n",
       "      <td>2</td>\n",
       "      <td>3</td>\n",
       "      <td>2</td>\n",
       "      <td>2.250</td>\n",
       "    </tr>\n",
       "    <tr>\n",
       "      <td>67</td>\n",
       "      <td>Student068</td>\n",
       "      <td>3.8</td>\n",
       "      <td>0.15</td>\n",
       "      <td>2.4</td>\n",
       "      <td>0.25</td>\n",
       "      <td>3.2</td>\n",
       "      <td>0.25</td>\n",
       "      <td>2.90</td>\n",
       "      <td>0.35</td>\n",
       "      <td>2.38</td>\n",
       "      <td>0.1</td>\n",
       "      <td>3.30</td>\n",
       "      <td>0.3</td>\n",
       "      <td>2.15</td>\n",
       "      <td>0.4</td>\n",
       "      <td>2.80</td>\n",
       "      <td>0.1</td>\n",
       "      <td>4.25</td>\n",
       "      <td>0.1</td>\n",
       "      <td>3.36</td>\n",
       "      <td>0.25</td>\n",
       "      <td>2.44</td>\n",
       "      <td>0.25</td>\n",
       "      <td>3.94</td>\n",
       "      <td>0.25</td>\n",
       "      <td>2.90</td>\n",
       "      <td>0.25</td>\n",
       "      <td>3.20</td>\n",
       "      <td>0.2</td>\n",
       "      <td>1.91</td>\n",
       "      <td>0.25</td>\n",
       "      <td>2.45</td>\n",
       "      <td>0.35</td>\n",
       "      <td>3.53</td>\n",
       "      <td>0.2</td>\n",
       "      <td>2.9850</td>\n",
       "      <td>Pass</td>\n",
       "      <td>2.793</td>\n",
       "      <td>Pass</td>\n",
       "      <td>3.1600</td>\n",
       "      <td>Pass</td>\n",
       "      <td>2.6810</td>\n",
       "      <td>Pass</td>\n",
       "      <td>2.904750</td>\n",
       "      <td>Fail</td>\n",
       "      <td>1</td>\n",
       "      <td>3</td>\n",
       "      <td>3</td>\n",
       "      <td>2</td>\n",
       "      <td>1</td>\n",
       "      <td>3</td>\n",
       "      <td>2</td>\n",
       "      <td>3</td>\n",
       "      <td>2.250</td>\n",
       "    </tr>\n",
       "    <tr>\n",
       "      <td>19</td>\n",
       "      <td>Student020</td>\n",
       "      <td>3.0</td>\n",
       "      <td>0.15</td>\n",
       "      <td>2.3</td>\n",
       "      <td>0.25</td>\n",
       "      <td>2.2</td>\n",
       "      <td>0.25</td>\n",
       "      <td>3.05</td>\n",
       "      <td>0.35</td>\n",
       "      <td>2.50</td>\n",
       "      <td>0.1</td>\n",
       "      <td>3.30</td>\n",
       "      <td>0.3</td>\n",
       "      <td>2.95</td>\n",
       "      <td>0.4</td>\n",
       "      <td>3.90</td>\n",
       "      <td>0.1</td>\n",
       "      <td>4.05</td>\n",
       "      <td>0.1</td>\n",
       "      <td>3.65</td>\n",
       "      <td>0.25</td>\n",
       "      <td>2.70</td>\n",
       "      <td>0.25</td>\n",
       "      <td>1.93</td>\n",
       "      <td>0.25</td>\n",
       "      <td>3.32</td>\n",
       "      <td>0.25</td>\n",
       "      <td>2.02</td>\n",
       "      <td>0.2</td>\n",
       "      <td>1.71</td>\n",
       "      <td>0.25</td>\n",
       "      <td>2.87</td>\n",
       "      <td>0.35</td>\n",
       "      <td>3.00</td>\n",
       "      <td>0.2</td>\n",
       "      <td>2.6425</td>\n",
       "      <td>Pass</td>\n",
       "      <td>3.215</td>\n",
       "      <td>Pass</td>\n",
       "      <td>2.9000</td>\n",
       "      <td>Pass</td>\n",
       "      <td>2.4360</td>\n",
       "      <td>Fail</td>\n",
       "      <td>2.798375</td>\n",
       "      <td>Fail</td>\n",
       "      <td>2</td>\n",
       "      <td>3</td>\n",
       "      <td>2</td>\n",
       "      <td>2</td>\n",
       "      <td>1</td>\n",
       "      <td>2</td>\n",
       "      <td>3</td>\n",
       "      <td>3</td>\n",
       "      <td>2.250</td>\n",
       "    </tr>\n",
       "    <tr>\n",
       "      <td>100</td>\n",
       "      <td>Student101</td>\n",
       "      <td>2.6</td>\n",
       "      <td>0.15</td>\n",
       "      <td>2.5</td>\n",
       "      <td>0.25</td>\n",
       "      <td>2.3</td>\n",
       "      <td>0.25</td>\n",
       "      <td>2.40</td>\n",
       "      <td>0.35</td>\n",
       "      <td>2.30</td>\n",
       "      <td>0.1</td>\n",
       "      <td>3.00</td>\n",
       "      <td>0.3</td>\n",
       "      <td>3.10</td>\n",
       "      <td>0.4</td>\n",
       "      <td>3.50</td>\n",
       "      <td>0.1</td>\n",
       "      <td>2.25</td>\n",
       "      <td>0.1</td>\n",
       "      <td>3.74</td>\n",
       "      <td>0.25</td>\n",
       "      <td>2.20</td>\n",
       "      <td>0.25</td>\n",
       "      <td>3.32</td>\n",
       "      <td>0.25</td>\n",
       "      <td>2.07</td>\n",
       "      <td>0.25</td>\n",
       "      <td>3.20</td>\n",
       "      <td>0.2</td>\n",
       "      <td>2.38</td>\n",
       "      <td>0.25</td>\n",
       "      <td>3.40</td>\n",
       "      <td>0.35</td>\n",
       "      <td>2.47</td>\n",
       "      <td>0.2</td>\n",
       "      <td>2.4300</td>\n",
       "      <td>Fail</td>\n",
       "      <td>2.945</td>\n",
       "      <td>Pass</td>\n",
       "      <td>2.8325</td>\n",
       "      <td>Pass</td>\n",
       "      <td>2.9190</td>\n",
       "      <td>Pass</td>\n",
       "      <td>2.781625</td>\n",
       "      <td>Fail</td>\n",
       "      <td>2</td>\n",
       "      <td>2</td>\n",
       "      <td>3</td>\n",
       "      <td>2</td>\n",
       "      <td>1</td>\n",
       "      <td>3</td>\n",
       "      <td>2</td>\n",
       "      <td>3</td>\n",
       "      <td>2.250</td>\n",
       "    </tr>\n",
       "    <tr>\n",
       "      <td>61</td>\n",
       "      <td>Student062</td>\n",
       "      <td>4.0</td>\n",
       "      <td>0.15</td>\n",
       "      <td>3.0</td>\n",
       "      <td>0.25</td>\n",
       "      <td>3.0</td>\n",
       "      <td>0.25</td>\n",
       "      <td>3.90</td>\n",
       "      <td>0.35</td>\n",
       "      <td>2.20</td>\n",
       "      <td>0.1</td>\n",
       "      <td>4.10</td>\n",
       "      <td>0.3</td>\n",
       "      <td>2.66</td>\n",
       "      <td>0.4</td>\n",
       "      <td>2.50</td>\n",
       "      <td>0.1</td>\n",
       "      <td>4.05</td>\n",
       "      <td>0.1</td>\n",
       "      <td>1.82</td>\n",
       "      <td>0.25</td>\n",
       "      <td>2.39</td>\n",
       "      <td>0.25</td>\n",
       "      <td>3.15</td>\n",
       "      <td>0.25</td>\n",
       "      <td>2.85</td>\n",
       "      <td>0.25</td>\n",
       "      <td>3.30</td>\n",
       "      <td>0.2</td>\n",
       "      <td>2.98</td>\n",
       "      <td>0.25</td>\n",
       "      <td>3.02</td>\n",
       "      <td>0.35</td>\n",
       "      <td>2.90</td>\n",
       "      <td>0.2</td>\n",
       "      <td>3.4650</td>\n",
       "      <td>Pass</td>\n",
       "      <td>3.169</td>\n",
       "      <td>Pass</td>\n",
       "      <td>2.5525</td>\n",
       "      <td>Pass</td>\n",
       "      <td>3.0420</td>\n",
       "      <td>Pass</td>\n",
       "      <td>3.057125</td>\n",
       "      <td>Pass</td>\n",
       "      <td>1</td>\n",
       "      <td>2</td>\n",
       "      <td>3</td>\n",
       "      <td>1</td>\n",
       "      <td>3</td>\n",
       "      <td>3</td>\n",
       "      <td>2</td>\n",
       "      <td>2</td>\n",
       "      <td>2.125</td>\n",
       "    </tr>\n",
       "    <tr>\n",
       "      <td>37</td>\n",
       "      <td>Student038</td>\n",
       "      <td>2.9</td>\n",
       "      <td>0.15</td>\n",
       "      <td>2.6</td>\n",
       "      <td>0.25</td>\n",
       "      <td>3.0</td>\n",
       "      <td>0.25</td>\n",
       "      <td>3.20</td>\n",
       "      <td>0.35</td>\n",
       "      <td>2.38</td>\n",
       "      <td>0.1</td>\n",
       "      <td>3.40</td>\n",
       "      <td>0.3</td>\n",
       "      <td>3.00</td>\n",
       "      <td>0.4</td>\n",
       "      <td>2.10</td>\n",
       "      <td>0.1</td>\n",
       "      <td>4.30</td>\n",
       "      <td>0.1</td>\n",
       "      <td>3.57</td>\n",
       "      <td>0.25</td>\n",
       "      <td>2.49</td>\n",
       "      <td>0.25</td>\n",
       "      <td>2.75</td>\n",
       "      <td>0.25</td>\n",
       "      <td>3.10</td>\n",
       "      <td>0.25</td>\n",
       "      <td>3.30</td>\n",
       "      <td>0.2</td>\n",
       "      <td>2.20</td>\n",
       "      <td>0.25</td>\n",
       "      <td>2.55</td>\n",
       "      <td>0.35</td>\n",
       "      <td>2.72</td>\n",
       "      <td>0.2</td>\n",
       "      <td>2.9550</td>\n",
       "      <td>Pass</td>\n",
       "      <td>3.098</td>\n",
       "      <td>Pass</td>\n",
       "      <td>2.9775</td>\n",
       "      <td>Pass</td>\n",
       "      <td>2.6465</td>\n",
       "      <td>Pass</td>\n",
       "      <td>2.919250</td>\n",
       "      <td>Fail</td>\n",
       "      <td>2</td>\n",
       "      <td>2</td>\n",
       "      <td>3</td>\n",
       "      <td>1</td>\n",
       "      <td>1</td>\n",
       "      <td>3</td>\n",
       "      <td>2</td>\n",
       "      <td>3</td>\n",
       "      <td>2.125</td>\n",
       "    </tr>\n",
       "    <tr>\n",
       "      <td>68</td>\n",
       "      <td>Student069</td>\n",
       "      <td>3.1</td>\n",
       "      <td>0.15</td>\n",
       "      <td>2.9</td>\n",
       "      <td>0.25</td>\n",
       "      <td>2.2</td>\n",
       "      <td>0.25</td>\n",
       "      <td>2.50</td>\n",
       "      <td>0.35</td>\n",
       "      <td>2.50</td>\n",
       "      <td>0.1</td>\n",
       "      <td>3.90</td>\n",
       "      <td>0.3</td>\n",
       "      <td>3.00</td>\n",
       "      <td>0.4</td>\n",
       "      <td>3.90</td>\n",
       "      <td>0.1</td>\n",
       "      <td>2.80</td>\n",
       "      <td>0.1</td>\n",
       "      <td>3.80</td>\n",
       "      <td>0.25</td>\n",
       "      <td>1.89</td>\n",
       "      <td>0.25</td>\n",
       "      <td>2.70</td>\n",
       "      <td>0.25</td>\n",
       "      <td>3.15</td>\n",
       "      <td>0.25</td>\n",
       "      <td>2.40</td>\n",
       "      <td>0.2</td>\n",
       "      <td>2.45</td>\n",
       "      <td>0.25</td>\n",
       "      <td>3.55</td>\n",
       "      <td>0.35</td>\n",
       "      <td>4.30</td>\n",
       "      <td>0.2</td>\n",
       "      <td>2.6150</td>\n",
       "      <td>Pass</td>\n",
       "      <td>3.290</td>\n",
       "      <td>Pass</td>\n",
       "      <td>2.8850</td>\n",
       "      <td>Pass</td>\n",
       "      <td>3.1950</td>\n",
       "      <td>Pass</td>\n",
       "      <td>2.996250</td>\n",
       "      <td>Fail</td>\n",
       "      <td>2</td>\n",
       "      <td>2</td>\n",
       "      <td>2</td>\n",
       "      <td>1</td>\n",
       "      <td>1</td>\n",
       "      <td>3</td>\n",
       "      <td>3</td>\n",
       "      <td>3</td>\n",
       "      <td>2.125</td>\n",
       "    </tr>\n",
       "    <tr>\n",
       "      <td>16</td>\n",
       "      <td>Student017</td>\n",
       "      <td>3.2</td>\n",
       "      <td>0.15</td>\n",
       "      <td>0.0</td>\n",
       "      <td>0.25</td>\n",
       "      <td>4.0</td>\n",
       "      <td>0.25</td>\n",
       "      <td>3.20</td>\n",
       "      <td>0.35</td>\n",
       "      <td>3.00</td>\n",
       "      <td>0.1</td>\n",
       "      <td>3.50</td>\n",
       "      <td>0.3</td>\n",
       "      <td>3.70</td>\n",
       "      <td>0.4</td>\n",
       "      <td>2.00</td>\n",
       "      <td>0.1</td>\n",
       "      <td>4.05</td>\n",
       "      <td>0.1</td>\n",
       "      <td>3.20</td>\n",
       "      <td>0.25</td>\n",
       "      <td>3.00</td>\n",
       "      <td>0.25</td>\n",
       "      <td>3.05</td>\n",
       "      <td>0.25</td>\n",
       "      <td>3.05</td>\n",
       "      <td>0.25</td>\n",
       "      <td>2.70</td>\n",
       "      <td>0.2</td>\n",
       "      <td>3.10</td>\n",
       "      <td>0.25</td>\n",
       "      <td>3.20</td>\n",
       "      <td>0.35</td>\n",
       "      <td>2.90</td>\n",
       "      <td>0.2</td>\n",
       "      <td>2.6000</td>\n",
       "      <td>Pass</td>\n",
       "      <td>3.435</td>\n",
       "      <td>Pass</td>\n",
       "      <td>3.0750</td>\n",
       "      <td>Pass</td>\n",
       "      <td>3.0150</td>\n",
       "      <td>Pass</td>\n",
       "      <td>3.031250</td>\n",
       "      <td>Pass</td>\n",
       "      <td>2</td>\n",
       "      <td>4</td>\n",
       "      <td>2</td>\n",
       "      <td>1</td>\n",
       "      <td>2</td>\n",
       "      <td>2</td>\n",
       "      <td>2</td>\n",
       "      <td>2</td>\n",
       "      <td>2.125</td>\n",
       "    </tr>\n",
       "    <tr>\n",
       "      <td>92</td>\n",
       "      <td>Student093</td>\n",
       "      <td>2.4</td>\n",
       "      <td>0.15</td>\n",
       "      <td>2.7</td>\n",
       "      <td>0.25</td>\n",
       "      <td>3.5</td>\n",
       "      <td>0.25</td>\n",
       "      <td>3.20</td>\n",
       "      <td>0.35</td>\n",
       "      <td>2.63</td>\n",
       "      <td>0.1</td>\n",
       "      <td>3.00</td>\n",
       "      <td>0.3</td>\n",
       "      <td>3.90</td>\n",
       "      <td>0.4</td>\n",
       "      <td>1.80</td>\n",
       "      <td>0.1</td>\n",
       "      <td>3.90</td>\n",
       "      <td>0.1</td>\n",
       "      <td>3.20</td>\n",
       "      <td>0.25</td>\n",
       "      <td>2.70</td>\n",
       "      <td>0.25</td>\n",
       "      <td>2.75</td>\n",
       "      <td>0.25</td>\n",
       "      <td>3.10</td>\n",
       "      <td>0.25</td>\n",
       "      <td>3.30</td>\n",
       "      <td>0.2</td>\n",
       "      <td>3.20</td>\n",
       "      <td>0.25</td>\n",
       "      <td>2.45</td>\n",
       "      <td>0.35</td>\n",
       "      <td>3.00</td>\n",
       "      <td>0.2</td>\n",
       "      <td>3.0300</td>\n",
       "      <td>Pass</td>\n",
       "      <td>3.293</td>\n",
       "      <td>Pass</td>\n",
       "      <td>2.9375</td>\n",
       "      <td>Pass</td>\n",
       "      <td>2.9175</td>\n",
       "      <td>Pass</td>\n",
       "      <td>3.044500</td>\n",
       "      <td>Pass</td>\n",
       "      <td>3</td>\n",
       "      <td>2</td>\n",
       "      <td>2</td>\n",
       "      <td>2</td>\n",
       "      <td>2</td>\n",
       "      <td>2</td>\n",
       "      <td>2</td>\n",
       "      <td>2</td>\n",
       "      <td>2.125</td>\n",
       "    </tr>\n",
       "    <tr>\n",
       "      <td>20</td>\n",
       "      <td>Student021</td>\n",
       "      <td>2.7</td>\n",
       "      <td>0.15</td>\n",
       "      <td>3.1</td>\n",
       "      <td>0.25</td>\n",
       "      <td>2.8</td>\n",
       "      <td>0.25</td>\n",
       "      <td>3.00</td>\n",
       "      <td>0.35</td>\n",
       "      <td>2.40</td>\n",
       "      <td>0.1</td>\n",
       "      <td>2.80</td>\n",
       "      <td>0.3</td>\n",
       "      <td>3.40</td>\n",
       "      <td>0.4</td>\n",
       "      <td>3.20</td>\n",
       "      <td>0.1</td>\n",
       "      <td>3.55</td>\n",
       "      <td>0.1</td>\n",
       "      <td>3.20</td>\n",
       "      <td>0.25</td>\n",
       "      <td>2.85</td>\n",
       "      <td>0.25</td>\n",
       "      <td>2.80</td>\n",
       "      <td>0.25</td>\n",
       "      <td>4.10</td>\n",
       "      <td>0.25</td>\n",
       "      <td>2.90</td>\n",
       "      <td>0.2</td>\n",
       "      <td>3.10</td>\n",
       "      <td>0.25</td>\n",
       "      <td>3.30</td>\n",
       "      <td>0.35</td>\n",
       "      <td>3.00</td>\n",
       "      <td>0.2</td>\n",
       "      <td>2.9300</td>\n",
       "      <td>Pass</td>\n",
       "      <td>3.115</td>\n",
       "      <td>Pass</td>\n",
       "      <td>3.2375</td>\n",
       "      <td>Pass</td>\n",
       "      <td>3.1100</td>\n",
       "      <td>Pass</td>\n",
       "      <td>3.098125</td>\n",
       "      <td>Pass</td>\n",
       "      <td>2</td>\n",
       "      <td>2</td>\n",
       "      <td>3</td>\n",
       "      <td>2</td>\n",
       "      <td>2</td>\n",
       "      <td>2</td>\n",
       "      <td>2</td>\n",
       "      <td>2</td>\n",
       "      <td>2.125</td>\n",
       "    </tr>\n",
       "    <tr>\n",
       "      <td>83</td>\n",
       "      <td>Student084</td>\n",
       "      <td>3.0</td>\n",
       "      <td>0.15</td>\n",
       "      <td>2.1</td>\n",
       "      <td>0.25</td>\n",
       "      <td>3.4</td>\n",
       "      <td>0.25</td>\n",
       "      <td>3.50</td>\n",
       "      <td>0.35</td>\n",
       "      <td>2.30</td>\n",
       "      <td>0.1</td>\n",
       "      <td>3.50</td>\n",
       "      <td>0.3</td>\n",
       "      <td>3.40</td>\n",
       "      <td>0.4</td>\n",
       "      <td>3.60</td>\n",
       "      <td>0.1</td>\n",
       "      <td>3.55</td>\n",
       "      <td>0.1</td>\n",
       "      <td>4.00</td>\n",
       "      <td>0.25</td>\n",
       "      <td>3.00</td>\n",
       "      <td>0.25</td>\n",
       "      <td>4.60</td>\n",
       "      <td>0.25</td>\n",
       "      <td>3.50</td>\n",
       "      <td>0.25</td>\n",
       "      <td>3.30</td>\n",
       "      <td>0.2</td>\n",
       "      <td>2.40</td>\n",
       "      <td>0.25</td>\n",
       "      <td>2.81</td>\n",
       "      <td>0.35</td>\n",
       "      <td>3.45</td>\n",
       "      <td>0.2</td>\n",
       "      <td>3.0500</td>\n",
       "      <td>Pass</td>\n",
       "      <td>3.355</td>\n",
       "      <td>Pass</td>\n",
       "      <td>3.7750</td>\n",
       "      <td>Pass</td>\n",
       "      <td>2.9335</td>\n",
       "      <td>Pass</td>\n",
       "      <td>3.278375</td>\n",
       "      <td>Pass</td>\n",
       "      <td>2</td>\n",
       "      <td>3</td>\n",
       "      <td>3</td>\n",
       "      <td>1</td>\n",
       "      <td>1</td>\n",
       "      <td>2</td>\n",
       "      <td>2</td>\n",
       "      <td>3</td>\n",
       "      <td>2.125</td>\n",
       "    </tr>\n",
       "    <tr>\n",
       "      <td>29</td>\n",
       "      <td>Student030</td>\n",
       "      <td>2.6</td>\n",
       "      <td>0.15</td>\n",
       "      <td>3.0</td>\n",
       "      <td>0.25</td>\n",
       "      <td>2.9</td>\n",
       "      <td>0.25</td>\n",
       "      <td>2.80</td>\n",
       "      <td>0.35</td>\n",
       "      <td>2.60</td>\n",
       "      <td>0.1</td>\n",
       "      <td>3.50</td>\n",
       "      <td>0.3</td>\n",
       "      <td>3.55</td>\n",
       "      <td>0.4</td>\n",
       "      <td>2.10</td>\n",
       "      <td>0.1</td>\n",
       "      <td>4.05</td>\n",
       "      <td>0.1</td>\n",
       "      <td>2.28</td>\n",
       "      <td>0.25</td>\n",
       "      <td>2.47</td>\n",
       "      <td>0.25</td>\n",
       "      <td>3.90</td>\n",
       "      <td>0.25</td>\n",
       "      <td>2.95</td>\n",
       "      <td>0.25</td>\n",
       "      <td>3.00</td>\n",
       "      <td>0.2</td>\n",
       "      <td>3.20</td>\n",
       "      <td>0.25</td>\n",
       "      <td>2.95</td>\n",
       "      <td>0.35</td>\n",
       "      <td>3.00</td>\n",
       "      <td>0.2</td>\n",
       "      <td>2.8450</td>\n",
       "      <td>Pass</td>\n",
       "      <td>3.345</td>\n",
       "      <td>Pass</td>\n",
       "      <td>2.9000</td>\n",
       "      <td>Pass</td>\n",
       "      <td>3.0325</td>\n",
       "      <td>Pass</td>\n",
       "      <td>3.030625</td>\n",
       "      <td>Pass</td>\n",
       "      <td>2</td>\n",
       "      <td>2</td>\n",
       "      <td>2</td>\n",
       "      <td>1</td>\n",
       "      <td>3</td>\n",
       "      <td>3</td>\n",
       "      <td>2</td>\n",
       "      <td>2</td>\n",
       "      <td>2.125</td>\n",
       "    </tr>\n",
       "    <tr>\n",
       "      <td>34</td>\n",
       "      <td>Student035</td>\n",
       "      <td>3.1</td>\n",
       "      <td>0.15</td>\n",
       "      <td>3.0</td>\n",
       "      <td>0.25</td>\n",
       "      <td>4.2</td>\n",
       "      <td>0.25</td>\n",
       "      <td>3.40</td>\n",
       "      <td>0.35</td>\n",
       "      <td>2.35</td>\n",
       "      <td>0.1</td>\n",
       "      <td>3.40</td>\n",
       "      <td>0.3</td>\n",
       "      <td>3.70</td>\n",
       "      <td>0.4</td>\n",
       "      <td>2.00</td>\n",
       "      <td>0.1</td>\n",
       "      <td>4.05</td>\n",
       "      <td>0.1</td>\n",
       "      <td>4.40</td>\n",
       "      <td>0.25</td>\n",
       "      <td>2.20</td>\n",
       "      <td>0.25</td>\n",
       "      <td>3.70</td>\n",
       "      <td>0.25</td>\n",
       "      <td>3.05</td>\n",
       "      <td>0.25</td>\n",
       "      <td>3.30</td>\n",
       "      <td>0.2</td>\n",
       "      <td>3.30</td>\n",
       "      <td>0.25</td>\n",
       "      <td>3.20</td>\n",
       "      <td>0.35</td>\n",
       "      <td>4.30</td>\n",
       "      <td>0.2</td>\n",
       "      <td>3.4550</td>\n",
       "      <td>Pass</td>\n",
       "      <td>3.340</td>\n",
       "      <td>Pass</td>\n",
       "      <td>3.3375</td>\n",
       "      <td>Pass</td>\n",
       "      <td>3.4650</td>\n",
       "      <td>Pass</td>\n",
       "      <td>3.399375</td>\n",
       "      <td>Pass</td>\n",
       "      <td>2</td>\n",
       "      <td>2</td>\n",
       "      <td>3</td>\n",
       "      <td>1</td>\n",
       "      <td>1</td>\n",
       "      <td>3</td>\n",
       "      <td>2</td>\n",
       "      <td>2</td>\n",
       "      <td>2.000</td>\n",
       "    </tr>\n",
       "    <tr>\n",
       "      <td>58</td>\n",
       "      <td>Student059</td>\n",
       "      <td>3.2</td>\n",
       "      <td>0.15</td>\n",
       "      <td>2.3</td>\n",
       "      <td>0.25</td>\n",
       "      <td>3.2</td>\n",
       "      <td>0.25</td>\n",
       "      <td>3.30</td>\n",
       "      <td>0.35</td>\n",
       "      <td>2.13</td>\n",
       "      <td>0.1</td>\n",
       "      <td>2.60</td>\n",
       "      <td>0.3</td>\n",
       "      <td>2.55</td>\n",
       "      <td>0.4</td>\n",
       "      <td>2.00</td>\n",
       "      <td>0.1</td>\n",
       "      <td>3.90</td>\n",
       "      <td>0.1</td>\n",
       "      <td>3.80</td>\n",
       "      <td>0.25</td>\n",
       "      <td>3.70</td>\n",
       "      <td>0.25</td>\n",
       "      <td>3.00</td>\n",
       "      <td>0.25</td>\n",
       "      <td>3.45</td>\n",
       "      <td>0.25</td>\n",
       "      <td>2.90</td>\n",
       "      <td>0.2</td>\n",
       "      <td>2.64</td>\n",
       "      <td>0.25</td>\n",
       "      <td>2.75</td>\n",
       "      <td>0.35</td>\n",
       "      <td>3.00</td>\n",
       "      <td>0.2</td>\n",
       "      <td>3.0100</td>\n",
       "      <td>Pass</td>\n",
       "      <td>2.603</td>\n",
       "      <td>Pass</td>\n",
       "      <td>3.4875</td>\n",
       "      <td>Pass</td>\n",
       "      <td>2.8025</td>\n",
       "      <td>Pass</td>\n",
       "      <td>2.975750</td>\n",
       "      <td>Fail</td>\n",
       "      <td>2</td>\n",
       "      <td>3</td>\n",
       "      <td>3</td>\n",
       "      <td>2</td>\n",
       "      <td>1</td>\n",
       "      <td>1</td>\n",
       "      <td>2</td>\n",
       "      <td>2</td>\n",
       "      <td>2.000</td>\n",
       "    </tr>\n",
       "    <tr>\n",
       "      <td>78</td>\n",
       "      <td>Student079</td>\n",
       "      <td>2.3</td>\n",
       "      <td>0.15</td>\n",
       "      <td>2.0</td>\n",
       "      <td>0.25</td>\n",
       "      <td>3.3</td>\n",
       "      <td>0.25</td>\n",
       "      <td>3.10</td>\n",
       "      <td>0.35</td>\n",
       "      <td>1.80</td>\n",
       "      <td>0.1</td>\n",
       "      <td>4.50</td>\n",
       "      <td>0.3</td>\n",
       "      <td>2.98</td>\n",
       "      <td>0.4</td>\n",
       "      <td>1.80</td>\n",
       "      <td>0.1</td>\n",
       "      <td>1.80</td>\n",
       "      <td>0.1</td>\n",
       "      <td>2.89</td>\n",
       "      <td>0.25</td>\n",
       "      <td>3.50</td>\n",
       "      <td>0.25</td>\n",
       "      <td>2.70</td>\n",
       "      <td>0.25</td>\n",
       "      <td>3.15</td>\n",
       "      <td>0.25</td>\n",
       "      <td>3.10</td>\n",
       "      <td>0.2</td>\n",
       "      <td>4.40</td>\n",
       "      <td>0.25</td>\n",
       "      <td>2.85</td>\n",
       "      <td>0.35</td>\n",
       "      <td>2.21</td>\n",
       "      <td>0.2</td>\n",
       "      <td>2.7550</td>\n",
       "      <td>Pass</td>\n",
       "      <td>3.082</td>\n",
       "      <td>Pass</td>\n",
       "      <td>3.0600</td>\n",
       "      <td>Pass</td>\n",
       "      <td>3.1595</td>\n",
       "      <td>Pass</td>\n",
       "      <td>3.014125</td>\n",
       "      <td>Pass</td>\n",
       "      <td>3</td>\n",
       "      <td>3</td>\n",
       "      <td>3</td>\n",
       "      <td>1</td>\n",
       "      <td>2</td>\n",
       "      <td>1</td>\n",
       "      <td>2</td>\n",
       "      <td>1</td>\n",
       "      <td>2.000</td>\n",
       "    </tr>\n",
       "    <tr>\n",
       "      <td>15</td>\n",
       "      <td>Student016</td>\n",
       "      <td>2.8</td>\n",
       "      <td>0.15</td>\n",
       "      <td>0.0</td>\n",
       "      <td>0.25</td>\n",
       "      <td>3.3</td>\n",
       "      <td>0.25</td>\n",
       "      <td>3.80</td>\n",
       "      <td>0.35</td>\n",
       "      <td>3.50</td>\n",
       "      <td>0.1</td>\n",
       "      <td>2.30</td>\n",
       "      <td>0.3</td>\n",
       "      <td>4.20</td>\n",
       "      <td>0.4</td>\n",
       "      <td>3.10</td>\n",
       "      <td>0.1</td>\n",
       "      <td>3.65</td>\n",
       "      <td>0.1</td>\n",
       "      <td>4.00</td>\n",
       "      <td>0.25</td>\n",
       "      <td>3.00</td>\n",
       "      <td>0.25</td>\n",
       "      <td>4.85</td>\n",
       "      <td>0.25</td>\n",
       "      <td>3.85</td>\n",
       "      <td>0.25</td>\n",
       "      <td>2.70</td>\n",
       "      <td>0.2</td>\n",
       "      <td>4.40</td>\n",
       "      <td>0.25</td>\n",
       "      <td>4.30</td>\n",
       "      <td>0.35</td>\n",
       "      <td>3.15</td>\n",
       "      <td>0.2</td>\n",
       "      <td>2.5750</td>\n",
       "      <td>Pass</td>\n",
       "      <td>3.395</td>\n",
       "      <td>Pass</td>\n",
       "      <td>3.9250</td>\n",
       "      <td>Pass</td>\n",
       "      <td>3.7750</td>\n",
       "      <td>Pass</td>\n",
       "      <td>3.417500</td>\n",
       "      <td>Pass</td>\n",
       "      <td>2</td>\n",
       "      <td>4</td>\n",
       "      <td>1</td>\n",
       "      <td>3</td>\n",
       "      <td>1</td>\n",
       "      <td>2</td>\n",
       "      <td>2</td>\n",
       "      <td>1</td>\n",
       "      <td>2.000</td>\n",
       "    </tr>\n",
       "    <tr>\n",
       "      <td>8</td>\n",
       "      <td>Student009</td>\n",
       "      <td>3.0</td>\n",
       "      <td>0.15</td>\n",
       "      <td>3.0</td>\n",
       "      <td>0.25</td>\n",
       "      <td>3.1</td>\n",
       "      <td>0.25</td>\n",
       "      <td>3.20</td>\n",
       "      <td>0.35</td>\n",
       "      <td>2.38</td>\n",
       "      <td>0.1</td>\n",
       "      <td>3.00</td>\n",
       "      <td>0.3</td>\n",
       "      <td>3.40</td>\n",
       "      <td>0.4</td>\n",
       "      <td>3.70</td>\n",
       "      <td>0.1</td>\n",
       "      <td>3.44</td>\n",
       "      <td>0.1</td>\n",
       "      <td>4.20</td>\n",
       "      <td>0.25</td>\n",
       "      <td>2.70</td>\n",
       "      <td>0.25</td>\n",
       "      <td>2.80</td>\n",
       "      <td>0.25</td>\n",
       "      <td>4.10</td>\n",
       "      <td>0.25</td>\n",
       "      <td>3.00</td>\n",
       "      <td>0.2</td>\n",
       "      <td>3.20</td>\n",
       "      <td>0.25</td>\n",
       "      <td>3.30</td>\n",
       "      <td>0.35</td>\n",
       "      <td>3.00</td>\n",
       "      <td>0.2</td>\n",
       "      <td>3.0950</td>\n",
       "      <td>Pass</td>\n",
       "      <td>3.212</td>\n",
       "      <td>Pass</td>\n",
       "      <td>3.4500</td>\n",
       "      <td>Pass</td>\n",
       "      <td>3.1550</td>\n",
       "      <td>Pass</td>\n",
       "      <td>3.228000</td>\n",
       "      <td>Pass</td>\n",
       "      <td>2</td>\n",
       "      <td>2</td>\n",
       "      <td>3</td>\n",
       "      <td>2</td>\n",
       "      <td>1</td>\n",
       "      <td>2</td>\n",
       "      <td>2</td>\n",
       "      <td>2</td>\n",
       "      <td>2.000</td>\n",
       "    </tr>\n",
       "    <tr>\n",
       "      <td>75</td>\n",
       "      <td>Student076</td>\n",
       "      <td>3.5</td>\n",
       "      <td>0.15</td>\n",
       "      <td>3.1</td>\n",
       "      <td>0.25</td>\n",
       "      <td>4.7</td>\n",
       "      <td>0.25</td>\n",
       "      <td>3.10</td>\n",
       "      <td>0.35</td>\n",
       "      <td>2.10</td>\n",
       "      <td>0.1</td>\n",
       "      <td>3.30</td>\n",
       "      <td>0.3</td>\n",
       "      <td>3.90</td>\n",
       "      <td>0.4</td>\n",
       "      <td>0.00</td>\n",
       "      <td>0.1</td>\n",
       "      <td>2.36</td>\n",
       "      <td>0.1</td>\n",
       "      <td>4.20</td>\n",
       "      <td>0.25</td>\n",
       "      <td>2.70</td>\n",
       "      <td>0.25</td>\n",
       "      <td>3.55</td>\n",
       "      <td>0.25</td>\n",
       "      <td>3.75</td>\n",
       "      <td>0.25</td>\n",
       "      <td>3.20</td>\n",
       "      <td>0.2</td>\n",
       "      <td>2.80</td>\n",
       "      <td>0.25</td>\n",
       "      <td>2.45</td>\n",
       "      <td>0.35</td>\n",
       "      <td>2.56</td>\n",
       "      <td>0.2</td>\n",
       "      <td>3.5600</td>\n",
       "      <td>Pass</td>\n",
       "      <td>2.996</td>\n",
       "      <td>Pass</td>\n",
       "      <td>3.5500</td>\n",
       "      <td>Pass</td>\n",
       "      <td>2.7095</td>\n",
       "      <td>Pass</td>\n",
       "      <td>3.203875</td>\n",
       "      <td>Pass</td>\n",
       "      <td>1</td>\n",
       "      <td>2</td>\n",
       "      <td>3</td>\n",
       "      <td>2</td>\n",
       "      <td>1</td>\n",
       "      <td>2</td>\n",
       "      <td>2</td>\n",
       "      <td>2</td>\n",
       "      <td>1.875</td>\n",
       "    </tr>\n",
       "    <tr>\n",
       "      <td>86</td>\n",
       "      <td>Student087</td>\n",
       "      <td>2.6</td>\n",
       "      <td>0.15</td>\n",
       "      <td>2.3</td>\n",
       "      <td>0.25</td>\n",
       "      <td>3.7</td>\n",
       "      <td>0.25</td>\n",
       "      <td>3.60</td>\n",
       "      <td>0.35</td>\n",
       "      <td>2.00</td>\n",
       "      <td>0.1</td>\n",
       "      <td>3.90</td>\n",
       "      <td>0.3</td>\n",
       "      <td>2.40</td>\n",
       "      <td>0.4</td>\n",
       "      <td>2.68</td>\n",
       "      <td>0.1</td>\n",
       "      <td>4.30</td>\n",
       "      <td>0.1</td>\n",
       "      <td>3.20</td>\n",
       "      <td>0.25</td>\n",
       "      <td>4.45</td>\n",
       "      <td>0.25</td>\n",
       "      <td>3.00</td>\n",
       "      <td>0.25</td>\n",
       "      <td>4.00</td>\n",
       "      <td>0.25</td>\n",
       "      <td>2.70</td>\n",
       "      <td>0.2</td>\n",
       "      <td>3.70</td>\n",
       "      <td>0.25</td>\n",
       "      <td>2.75</td>\n",
       "      <td>0.35</td>\n",
       "      <td>2.72</td>\n",
       "      <td>0.2</td>\n",
       "      <td>3.1500</td>\n",
       "      <td>Pass</td>\n",
       "      <td>3.028</td>\n",
       "      <td>Pass</td>\n",
       "      <td>3.6625</td>\n",
       "      <td>Pass</td>\n",
       "      <td>2.9715</td>\n",
       "      <td>Pass</td>\n",
       "      <td>3.203000</td>\n",
       "      <td>Pass</td>\n",
       "      <td>2</td>\n",
       "      <td>3</td>\n",
       "      <td>3</td>\n",
       "      <td>1</td>\n",
       "      <td>2</td>\n",
       "      <td>1</td>\n",
       "      <td>2</td>\n",
       "      <td>1</td>\n",
       "      <td>1.875</td>\n",
       "    </tr>\n",
       "    <tr>\n",
       "      <td>96</td>\n",
       "      <td>Student097</td>\n",
       "      <td>3.5</td>\n",
       "      <td>0.15</td>\n",
       "      <td>2.9</td>\n",
       "      <td>0.25</td>\n",
       "      <td>3.0</td>\n",
       "      <td>0.25</td>\n",
       "      <td>3.60</td>\n",
       "      <td>0.35</td>\n",
       "      <td>2.60</td>\n",
       "      <td>0.1</td>\n",
       "      <td>2.90</td>\n",
       "      <td>0.3</td>\n",
       "      <td>2.98</td>\n",
       "      <td>0.4</td>\n",
       "      <td>4.30</td>\n",
       "      <td>0.1</td>\n",
       "      <td>2.40</td>\n",
       "      <td>0.1</td>\n",
       "      <td>2.40</td>\n",
       "      <td>0.25</td>\n",
       "      <td>2.90</td>\n",
       "      <td>0.25</td>\n",
       "      <td>2.85</td>\n",
       "      <td>0.25</td>\n",
       "      <td>3.05</td>\n",
       "      <td>0.25</td>\n",
       "      <td>2.70</td>\n",
       "      <td>0.2</td>\n",
       "      <td>3.80</td>\n",
       "      <td>0.25</td>\n",
       "      <td>2.85</td>\n",
       "      <td>0.35</td>\n",
       "      <td>2.60</td>\n",
       "      <td>0.2</td>\n",
       "      <td>3.2600</td>\n",
       "      <td>Pass</td>\n",
       "      <td>2.992</td>\n",
       "      <td>Pass</td>\n",
       "      <td>2.8000</td>\n",
       "      <td>Pass</td>\n",
       "      <td>3.0075</td>\n",
       "      <td>Pass</td>\n",
       "      <td>3.014875</td>\n",
       "      <td>Pass</td>\n",
       "      <td>1</td>\n",
       "      <td>2</td>\n",
       "      <td>2</td>\n",
       "      <td>2</td>\n",
       "      <td>3</td>\n",
       "      <td>2</td>\n",
       "      <td>2</td>\n",
       "      <td>1</td>\n",
       "      <td>1.875</td>\n",
       "    </tr>\n",
       "    <tr>\n",
       "      <td>52</td>\n",
       "      <td>Student053</td>\n",
       "      <td>3.2</td>\n",
       "      <td>0.15</td>\n",
       "      <td>2.5</td>\n",
       "      <td>0.25</td>\n",
       "      <td>3.7</td>\n",
       "      <td>0.25</td>\n",
       "      <td>3.40</td>\n",
       "      <td>0.35</td>\n",
       "      <td>2.80</td>\n",
       "      <td>0.1</td>\n",
       "      <td>3.40</td>\n",
       "      <td>0.3</td>\n",
       "      <td>3.50</td>\n",
       "      <td>0.4</td>\n",
       "      <td>3.70</td>\n",
       "      <td>0.1</td>\n",
       "      <td>3.20</td>\n",
       "      <td>0.1</td>\n",
       "      <td>3.20</td>\n",
       "      <td>0.25</td>\n",
       "      <td>3.00</td>\n",
       "      <td>0.25</td>\n",
       "      <td>3.50</td>\n",
       "      <td>0.25</td>\n",
       "      <td>3.75</td>\n",
       "      <td>0.25</td>\n",
       "      <td>3.00</td>\n",
       "      <td>0.2</td>\n",
       "      <td>2.64</td>\n",
       "      <td>0.25</td>\n",
       "      <td>3.05</td>\n",
       "      <td>0.35</td>\n",
       "      <td>3.75</td>\n",
       "      <td>0.2</td>\n",
       "      <td>3.2200</td>\n",
       "      <td>Pass</td>\n",
       "      <td>3.390</td>\n",
       "      <td>Pass</td>\n",
       "      <td>3.3625</td>\n",
       "      <td>Pass</td>\n",
       "      <td>3.0775</td>\n",
       "      <td>Pass</td>\n",
       "      <td>3.262500</td>\n",
       "      <td>Pass</td>\n",
       "      <td>2</td>\n",
       "      <td>2</td>\n",
       "      <td>2</td>\n",
       "      <td>1</td>\n",
       "      <td>2</td>\n",
       "      <td>2</td>\n",
       "      <td>2</td>\n",
       "      <td>2</td>\n",
       "      <td>1.875</td>\n",
       "    </tr>\n",
       "    <tr>\n",
       "      <td>93</td>\n",
       "      <td>Student094</td>\n",
       "      <td>3.1</td>\n",
       "      <td>0.15</td>\n",
       "      <td>2.5</td>\n",
       "      <td>0.25</td>\n",
       "      <td>3.6</td>\n",
       "      <td>0.25</td>\n",
       "      <td>3.70</td>\n",
       "      <td>0.35</td>\n",
       "      <td>2.30</td>\n",
       "      <td>0.1</td>\n",
       "      <td>3.70</td>\n",
       "      <td>0.3</td>\n",
       "      <td>3.70</td>\n",
       "      <td>0.4</td>\n",
       "      <td>1.80</td>\n",
       "      <td>0.1</td>\n",
       "      <td>3.75</td>\n",
       "      <td>0.1</td>\n",
       "      <td>4.80</td>\n",
       "      <td>0.25</td>\n",
       "      <td>2.30</td>\n",
       "      <td>0.25</td>\n",
       "      <td>3.55</td>\n",
       "      <td>0.25</td>\n",
       "      <td>3.30</td>\n",
       "      <td>0.25</td>\n",
       "      <td>3.10</td>\n",
       "      <td>0.2</td>\n",
       "      <td>3.50</td>\n",
       "      <td>0.25</td>\n",
       "      <td>3.20</td>\n",
       "      <td>0.35</td>\n",
       "      <td>3.60</td>\n",
       "      <td>0.2</td>\n",
       "      <td>3.2850</td>\n",
       "      <td>Pass</td>\n",
       "      <td>3.375</td>\n",
       "      <td>Pass</td>\n",
       "      <td>3.4875</td>\n",
       "      <td>Pass</td>\n",
       "      <td>3.3350</td>\n",
       "      <td>Pass</td>\n",
       "      <td>3.370625</td>\n",
       "      <td>Pass</td>\n",
       "      <td>2</td>\n",
       "      <td>2</td>\n",
       "      <td>3</td>\n",
       "      <td>1</td>\n",
       "      <td>1</td>\n",
       "      <td>3</td>\n",
       "      <td>2</td>\n",
       "      <td>1</td>\n",
       "      <td>1.875</td>\n",
       "    </tr>\n",
       "    <tr>\n",
       "      <td>6</td>\n",
       "      <td>Student007</td>\n",
       "      <td>3.0</td>\n",
       "      <td>0.15</td>\n",
       "      <td>2.6</td>\n",
       "      <td>0.25</td>\n",
       "      <td>2.4</td>\n",
       "      <td>0.25</td>\n",
       "      <td>3.20</td>\n",
       "      <td>0.35</td>\n",
       "      <td>2.63</td>\n",
       "      <td>0.1</td>\n",
       "      <td>2.55</td>\n",
       "      <td>0.3</td>\n",
       "      <td>3.30</td>\n",
       "      <td>0.4</td>\n",
       "      <td>3.30</td>\n",
       "      <td>0.1</td>\n",
       "      <td>1.85</td>\n",
       "      <td>0.1</td>\n",
       "      <td>4.80</td>\n",
       "      <td>0.25</td>\n",
       "      <td>2.20</td>\n",
       "      <td>0.25</td>\n",
       "      <td>3.90</td>\n",
       "      <td>0.25</td>\n",
       "      <td>2.51</td>\n",
       "      <td>0.25</td>\n",
       "      <td>3.23</td>\n",
       "      <td>0.2</td>\n",
       "      <td>3.50</td>\n",
       "      <td>0.25</td>\n",
       "      <td>3.50</td>\n",
       "      <td>0.35</td>\n",
       "      <td>3.15</td>\n",
       "      <td>0.2</td>\n",
       "      <td>2.8200</td>\n",
       "      <td>Pass</td>\n",
       "      <td>2.863</td>\n",
       "      <td>Pass</td>\n",
       "      <td>3.3525</td>\n",
       "      <td>Pass</td>\n",
       "      <td>3.3760</td>\n",
       "      <td>Pass</td>\n",
       "      <td>3.102875</td>\n",
       "      <td>Pass</td>\n",
       "      <td>2</td>\n",
       "      <td>2</td>\n",
       "      <td>2</td>\n",
       "      <td>2</td>\n",
       "      <td>1</td>\n",
       "      <td>3</td>\n",
       "      <td>2</td>\n",
       "      <td>1</td>\n",
       "      <td>1.875</td>\n",
       "    </tr>\n",
       "    <tr>\n",
       "      <td>74</td>\n",
       "      <td>Student075</td>\n",
       "      <td>3.7</td>\n",
       "      <td>0.15</td>\n",
       "      <td>3.3</td>\n",
       "      <td>0.25</td>\n",
       "      <td>2.7</td>\n",
       "      <td>0.25</td>\n",
       "      <td>3.40</td>\n",
       "      <td>0.35</td>\n",
       "      <td>2.25</td>\n",
       "      <td>0.1</td>\n",
       "      <td>3.00</td>\n",
       "      <td>0.3</td>\n",
       "      <td>2.40</td>\n",
       "      <td>0.4</td>\n",
       "      <td>2.50</td>\n",
       "      <td>0.1</td>\n",
       "      <td>3.95</td>\n",
       "      <td>0.1</td>\n",
       "      <td>3.20</td>\n",
       "      <td>0.25</td>\n",
       "      <td>2.59</td>\n",
       "      <td>0.25</td>\n",
       "      <td>3.00</td>\n",
       "      <td>0.25</td>\n",
       "      <td>4.00</td>\n",
       "      <td>0.25</td>\n",
       "      <td>3.30</td>\n",
       "      <td>0.2</td>\n",
       "      <td>4.00</td>\n",
       "      <td>0.25</td>\n",
       "      <td>2.75</td>\n",
       "      <td>0.35</td>\n",
       "      <td>3.00</td>\n",
       "      <td>0.2</td>\n",
       "      <td>3.2450</td>\n",
       "      <td>Pass</td>\n",
       "      <td>2.730</td>\n",
       "      <td>Pass</td>\n",
       "      <td>3.1975</td>\n",
       "      <td>Pass</td>\n",
       "      <td>3.2225</td>\n",
       "      <td>Pass</td>\n",
       "      <td>3.098750</td>\n",
       "      <td>Pass</td>\n",
       "      <td>1</td>\n",
       "      <td>2</td>\n",
       "      <td>3</td>\n",
       "      <td>2</td>\n",
       "      <td>2</td>\n",
       "      <td>2</td>\n",
       "      <td>2</td>\n",
       "      <td>1</td>\n",
       "      <td>1.875</td>\n",
       "    </tr>\n",
       "    <tr>\n",
       "      <td>12</td>\n",
       "      <td>Student013</td>\n",
       "      <td>2.6</td>\n",
       "      <td>0.15</td>\n",
       "      <td>2.5</td>\n",
       "      <td>0.25</td>\n",
       "      <td>3.4</td>\n",
       "      <td>0.25</td>\n",
       "      <td>3.30</td>\n",
       "      <td>0.35</td>\n",
       "      <td>3.03</td>\n",
       "      <td>0.1</td>\n",
       "      <td>3.20</td>\n",
       "      <td>0.3</td>\n",
       "      <td>3.50</td>\n",
       "      <td>0.4</td>\n",
       "      <td>4.60</td>\n",
       "      <td>0.1</td>\n",
       "      <td>4.10</td>\n",
       "      <td>0.1</td>\n",
       "      <td>4.60</td>\n",
       "      <td>0.25</td>\n",
       "      <td>3.50</td>\n",
       "      <td>0.25</td>\n",
       "      <td>3.65</td>\n",
       "      <td>0.25</td>\n",
       "      <td>3.50</td>\n",
       "      <td>0.25</td>\n",
       "      <td>2.40</td>\n",
       "      <td>0.2</td>\n",
       "      <td>2.63</td>\n",
       "      <td>0.25</td>\n",
       "      <td>3.05</td>\n",
       "      <td>0.35</td>\n",
       "      <td>3.85</td>\n",
       "      <td>0.2</td>\n",
       "      <td>3.0200</td>\n",
       "      <td>Pass</td>\n",
       "      <td>3.533</td>\n",
       "      <td>Pass</td>\n",
       "      <td>3.8125</td>\n",
       "      <td>Pass</td>\n",
       "      <td>2.9750</td>\n",
       "      <td>Pass</td>\n",
       "      <td>3.335125</td>\n",
       "      <td>Pass</td>\n",
       "      <td>2</td>\n",
       "      <td>2</td>\n",
       "      <td>2</td>\n",
       "      <td>2</td>\n",
       "      <td>1</td>\n",
       "      <td>1</td>\n",
       "      <td>3</td>\n",
       "      <td>2</td>\n",
       "      <td>1.875</td>\n",
       "    </tr>\n",
       "    <tr>\n",
       "      <td>33</td>\n",
       "      <td>Student034</td>\n",
       "      <td>3.2</td>\n",
       "      <td>0.15</td>\n",
       "      <td>2.4</td>\n",
       "      <td>0.25</td>\n",
       "      <td>4.0</td>\n",
       "      <td>0.25</td>\n",
       "      <td>2.90</td>\n",
       "      <td>0.35</td>\n",
       "      <td>2.80</td>\n",
       "      <td>0.1</td>\n",
       "      <td>3.60</td>\n",
       "      <td>0.3</td>\n",
       "      <td>2.70</td>\n",
       "      <td>0.4</td>\n",
       "      <td>4.20</td>\n",
       "      <td>0.1</td>\n",
       "      <td>3.95</td>\n",
       "      <td>0.1</td>\n",
       "      <td>4.40</td>\n",
       "      <td>0.25</td>\n",
       "      <td>3.35</td>\n",
       "      <td>0.25</td>\n",
       "      <td>3.15</td>\n",
       "      <td>0.25</td>\n",
       "      <td>2.85</td>\n",
       "      <td>0.25</td>\n",
       "      <td>2.90</td>\n",
       "      <td>0.2</td>\n",
       "      <td>2.38</td>\n",
       "      <td>0.25</td>\n",
       "      <td>2.85</td>\n",
       "      <td>0.35</td>\n",
       "      <td>4.15</td>\n",
       "      <td>0.2</td>\n",
       "      <td>3.0950</td>\n",
       "      <td>Pass</td>\n",
       "      <td>3.255</td>\n",
       "      <td>Pass</td>\n",
       "      <td>3.4375</td>\n",
       "      <td>Pass</td>\n",
       "      <td>3.0025</td>\n",
       "      <td>Pass</td>\n",
       "      <td>3.197500</td>\n",
       "      <td>Pass</td>\n",
       "      <td>2</td>\n",
       "      <td>3</td>\n",
       "      <td>2</td>\n",
       "      <td>1</td>\n",
       "      <td>1</td>\n",
       "      <td>1</td>\n",
       "      <td>2</td>\n",
       "      <td>3</td>\n",
       "      <td>1.875</td>\n",
       "    </tr>\n",
       "    <tr>\n",
       "      <td>14</td>\n",
       "      <td>Student015</td>\n",
       "      <td>4.0</td>\n",
       "      <td>0.15</td>\n",
       "      <td>3.2</td>\n",
       "      <td>0.25</td>\n",
       "      <td>3.9</td>\n",
       "      <td>0.25</td>\n",
       "      <td>3.10</td>\n",
       "      <td>0.35</td>\n",
       "      <td>2.20</td>\n",
       "      <td>0.1</td>\n",
       "      <td>3.80</td>\n",
       "      <td>0.3</td>\n",
       "      <td>3.15</td>\n",
       "      <td>0.4</td>\n",
       "      <td>1.40</td>\n",
       "      <td>0.1</td>\n",
       "      <td>3.25</td>\n",
       "      <td>0.1</td>\n",
       "      <td>3.20</td>\n",
       "      <td>0.25</td>\n",
       "      <td>2.50</td>\n",
       "      <td>0.25</td>\n",
       "      <td>3.15</td>\n",
       "      <td>0.25</td>\n",
       "      <td>2.85</td>\n",
       "      <td>0.25</td>\n",
       "      <td>3.20</td>\n",
       "      <td>0.2</td>\n",
       "      <td>3.30</td>\n",
       "      <td>0.25</td>\n",
       "      <td>2.72</td>\n",
       "      <td>0.35</td>\n",
       "      <td>2.45</td>\n",
       "      <td>0.2</td>\n",
       "      <td>3.4600</td>\n",
       "      <td>Pass</td>\n",
       "      <td>3.085</td>\n",
       "      <td>Pass</td>\n",
       "      <td>2.9250</td>\n",
       "      <td>Pass</td>\n",
       "      <td>2.9070</td>\n",
       "      <td>Pass</td>\n",
       "      <td>3.094250</td>\n",
       "      <td>Pass</td>\n",
       "      <td>1</td>\n",
       "      <td>2</td>\n",
       "      <td>3</td>\n",
       "      <td>1</td>\n",
       "      <td>2</td>\n",
       "      <td>2</td>\n",
       "      <td>2</td>\n",
       "      <td>2</td>\n",
       "      <td>1.875</td>\n",
       "    </tr>\n",
       "    <tr>\n",
       "      <td>17</td>\n",
       "      <td>Student018</td>\n",
       "      <td>4.7</td>\n",
       "      <td>0.15</td>\n",
       "      <td>0.0</td>\n",
       "      <td>0.25</td>\n",
       "      <td>3.7</td>\n",
       "      <td>0.25</td>\n",
       "      <td>3.00</td>\n",
       "      <td>0.35</td>\n",
       "      <td>3.30</td>\n",
       "      <td>0.1</td>\n",
       "      <td>3.50</td>\n",
       "      <td>0.3</td>\n",
       "      <td>3.40</td>\n",
       "      <td>0.4</td>\n",
       "      <td>4.30</td>\n",
       "      <td>0.1</td>\n",
       "      <td>1.85</td>\n",
       "      <td>0.1</td>\n",
       "      <td>4.00</td>\n",
       "      <td>0.25</td>\n",
       "      <td>2.83</td>\n",
       "      <td>0.25</td>\n",
       "      <td>4.20</td>\n",
       "      <td>0.25</td>\n",
       "      <td>3.50</td>\n",
       "      <td>0.25</td>\n",
       "      <td>2.50</td>\n",
       "      <td>0.2</td>\n",
       "      <td>3.00</td>\n",
       "      <td>0.25</td>\n",
       "      <td>3.30</td>\n",
       "      <td>0.35</td>\n",
       "      <td>3.15</td>\n",
       "      <td>0.2</td>\n",
       "      <td>2.6800</td>\n",
       "      <td>Pass</td>\n",
       "      <td>3.355</td>\n",
       "      <td>Pass</td>\n",
       "      <td>3.6325</td>\n",
       "      <td>Pass</td>\n",
       "      <td>3.0350</td>\n",
       "      <td>Pass</td>\n",
       "      <td>3.175625</td>\n",
       "      <td>Pass</td>\n",
       "      <td>1</td>\n",
       "      <td>4</td>\n",
       "      <td>2</td>\n",
       "      <td>1</td>\n",
       "      <td>1</td>\n",
       "      <td>2</td>\n",
       "      <td>2</td>\n",
       "      <td>2</td>\n",
       "      <td>1.875</td>\n",
       "    </tr>\n",
       "    <tr>\n",
       "      <td>28</td>\n",
       "      <td>Student029</td>\n",
       "      <td>3.7</td>\n",
       "      <td>0.15</td>\n",
       "      <td>3.5</td>\n",
       "      <td>0.25</td>\n",
       "      <td>3.6</td>\n",
       "      <td>0.25</td>\n",
       "      <td>3.20</td>\n",
       "      <td>0.35</td>\n",
       "      <td>2.03</td>\n",
       "      <td>0.1</td>\n",
       "      <td>3.30</td>\n",
       "      <td>0.3</td>\n",
       "      <td>3.30</td>\n",
       "      <td>0.4</td>\n",
       "      <td>1.70</td>\n",
       "      <td>0.1</td>\n",
       "      <td>2.49</td>\n",
       "      <td>0.1</td>\n",
       "      <td>3.60</td>\n",
       "      <td>0.25</td>\n",
       "      <td>2.40</td>\n",
       "      <td>0.25</td>\n",
       "      <td>4.60</td>\n",
       "      <td>0.25</td>\n",
       "      <td>3.50</td>\n",
       "      <td>0.25</td>\n",
       "      <td>3.30</td>\n",
       "      <td>0.2</td>\n",
       "      <td>3.00</td>\n",
       "      <td>0.25</td>\n",
       "      <td>3.50</td>\n",
       "      <td>0.35</td>\n",
       "      <td>2.55</td>\n",
       "      <td>0.2</td>\n",
       "      <td>3.4500</td>\n",
       "      <td>Pass</td>\n",
       "      <td>2.932</td>\n",
       "      <td>Pass</td>\n",
       "      <td>3.5250</td>\n",
       "      <td>Pass</td>\n",
       "      <td>3.1450</td>\n",
       "      <td>Pass</td>\n",
       "      <td>3.263000</td>\n",
       "      <td>Pass</td>\n",
       "      <td>1</td>\n",
       "      <td>1</td>\n",
       "      <td>3</td>\n",
       "      <td>2</td>\n",
       "      <td>1</td>\n",
       "      <td>3</td>\n",
       "      <td>2</td>\n",
       "      <td>2</td>\n",
       "      <td>1.875</td>\n",
       "    </tr>\n",
       "    <tr>\n",
       "      <td>66</td>\n",
       "      <td>Student067</td>\n",
       "      <td>3.1</td>\n",
       "      <td>0.15</td>\n",
       "      <td>2.6</td>\n",
       "      <td>0.25</td>\n",
       "      <td>3.2</td>\n",
       "      <td>0.25</td>\n",
       "      <td>3.00</td>\n",
       "      <td>0.35</td>\n",
       "      <td>2.50</td>\n",
       "      <td>0.1</td>\n",
       "      <td>2.50</td>\n",
       "      <td>0.3</td>\n",
       "      <td>3.60</td>\n",
       "      <td>0.4</td>\n",
       "      <td>3.90</td>\n",
       "      <td>0.1</td>\n",
       "      <td>3.20</td>\n",
       "      <td>0.1</td>\n",
       "      <td>4.00</td>\n",
       "      <td>0.25</td>\n",
       "      <td>3.65</td>\n",
       "      <td>0.25</td>\n",
       "      <td>3.10</td>\n",
       "      <td>0.25</td>\n",
       "      <td>1.75</td>\n",
       "      <td>0.25</td>\n",
       "      <td>2.70</td>\n",
       "      <td>0.2</td>\n",
       "      <td>3.00</td>\n",
       "      <td>0.25</td>\n",
       "      <td>3.55</td>\n",
       "      <td>0.35</td>\n",
       "      <td>3.19</td>\n",
       "      <td>0.2</td>\n",
       "      <td>2.9650</td>\n",
       "      <td>Pass</td>\n",
       "      <td>3.150</td>\n",
       "      <td>Pass</td>\n",
       "      <td>3.1250</td>\n",
       "      <td>Pass</td>\n",
       "      <td>3.1705</td>\n",
       "      <td>Pass</td>\n",
       "      <td>3.102625</td>\n",
       "      <td>Pass</td>\n",
       "      <td>2</td>\n",
       "      <td>2</td>\n",
       "      <td>2</td>\n",
       "      <td>2</td>\n",
       "      <td>1</td>\n",
       "      <td>1</td>\n",
       "      <td>2</td>\n",
       "      <td>2</td>\n",
       "      <td>1.750</td>\n",
       "    </tr>\n",
       "  </tbody>\n",
       "</table>\n",
       "</div>"
      ],
      "text/plain": [
       "      StudentID  CI 1  Unnamed: 2  CI 2  Unnamed: 4  CI 3  Unnamed: 6  CI 4  \\\n",
       "60   Student061   0.0        0.15   0.0        0.25   0.0        0.25  0.00   \n",
       "85   Student086   1.7        0.15   2.4        0.25   2.9        0.25  3.20   \n",
       "99   Student100   3.6        0.15   0.0        0.25   3.2        0.25  3.10   \n",
       "71   Student072   0.0        0.15   0.0        0.25   4.5        0.25  3.60   \n",
       "1    Student002   0.0        0.15   0.0        0.25   0.0        0.25  0.00   \n",
       "55   Student056   0.0        0.15   2.8        0.25   3.3        0.25  3.80   \n",
       "64   Student065   3.2        0.15   1.9        0.25   2.5        0.25  3.60   \n",
       "72   Student073   2.8        0.15   2.4        0.25   2.3        0.25  3.50   \n",
       "88   Student089   3.4        0.15   2.3        0.25   3.4        0.25  3.30   \n",
       "11   Student012   2.9        0.15   2.6        0.25   3.9        0.25  3.20   \n",
       "77   Student078   2.7        0.15   2.5        0.25   2.8        0.25  2.98   \n",
       "67   Student068   3.8        0.15   2.4        0.25   3.2        0.25  2.90   \n",
       "19   Student020   3.0        0.15   2.3        0.25   2.2        0.25  3.05   \n",
       "100  Student101   2.6        0.15   2.5        0.25   2.3        0.25  2.40   \n",
       "61   Student062   4.0        0.15   3.0        0.25   3.0        0.25  3.90   \n",
       "37   Student038   2.9        0.15   2.6        0.25   3.0        0.25  3.20   \n",
       "68   Student069   3.1        0.15   2.9        0.25   2.2        0.25  2.50   \n",
       "16   Student017   3.2        0.15   0.0        0.25   4.0        0.25  3.20   \n",
       "92   Student093   2.4        0.15   2.7        0.25   3.5        0.25  3.20   \n",
       "20   Student021   2.7        0.15   3.1        0.25   2.8        0.25  3.00   \n",
       "83   Student084   3.0        0.15   2.1        0.25   3.4        0.25  3.50   \n",
       "29   Student030   2.6        0.15   3.0        0.25   2.9        0.25  2.80   \n",
       "34   Student035   3.1        0.15   3.0        0.25   4.2        0.25  3.40   \n",
       "58   Student059   3.2        0.15   2.3        0.25   3.2        0.25  3.30   \n",
       "78   Student079   2.3        0.15   2.0        0.25   3.3        0.25  3.10   \n",
       "15   Student016   2.8        0.15   0.0        0.25   3.3        0.25  3.80   \n",
       "8    Student009   3.0        0.15   3.0        0.25   3.1        0.25  3.20   \n",
       "75   Student076   3.5        0.15   3.1        0.25   4.7        0.25  3.10   \n",
       "86   Student087   2.6        0.15   2.3        0.25   3.7        0.25  3.60   \n",
       "96   Student097   3.5        0.15   2.9        0.25   3.0        0.25  3.60   \n",
       "52   Student053   3.2        0.15   2.5        0.25   3.7        0.25  3.40   \n",
       "93   Student094   3.1        0.15   2.5        0.25   3.6        0.25  3.70   \n",
       "6    Student007   3.0        0.15   2.6        0.25   2.4        0.25  3.20   \n",
       "74   Student075   3.7        0.15   3.3        0.25   2.7        0.25  3.40   \n",
       "12   Student013   2.6        0.15   2.5        0.25   3.4        0.25  3.30   \n",
       "33   Student034   3.2        0.15   2.4        0.25   4.0        0.25  2.90   \n",
       "14   Student015   4.0        0.15   3.2        0.25   3.9        0.25  3.10   \n",
       "17   Student018   4.7        0.15   0.0        0.25   3.7        0.25  3.00   \n",
       "28   Student029   3.7        0.15   3.5        0.25   3.6        0.25  3.20   \n",
       "66   Student067   3.1        0.15   2.6        0.25   3.2        0.25  3.00   \n",
       "\n",
       "     Unnamed: 8  DD 1  Unnamed: 10  DD 2  Unnamed: 12  DD 3  Unnamed: 14  \\\n",
       "60         0.35  3.00          0.1  0.00          0.3  3.80          0.4   \n",
       "85         0.35  2.50          0.1  2.35          0.3  2.65          0.4   \n",
       "99         0.35  2.00          0.1  3.10          0.3  1.68          0.4   \n",
       "71         0.35  2.25          0.1  2.80          0.3  2.70          0.4   \n",
       "1          0.35  3.00          0.1  0.00          0.3  3.57          0.4   \n",
       "55         0.35  2.30          0.1  3.20          0.3  3.25          0.4   \n",
       "64         0.35  2.80          0.1  3.10          0.3  2.95          0.4   \n",
       "72         0.35  3.30          0.1  3.30          0.3  3.90          0.4   \n",
       "88         0.35  2.25          0.1  4.00          0.3  4.00          0.4   \n",
       "11         0.35  2.80          0.1  2.60          0.3  3.32          0.4   \n",
       "77         0.35  2.00          0.1  3.10          0.3  3.60          0.4   \n",
       "67         0.35  2.38          0.1  3.30          0.3  2.15          0.4   \n",
       "19         0.35  2.50          0.1  3.30          0.3  2.95          0.4   \n",
       "100        0.35  2.30          0.1  3.00          0.3  3.10          0.4   \n",
       "61         0.35  2.20          0.1  4.10          0.3  2.66          0.4   \n",
       "37         0.35  2.38          0.1  3.40          0.3  3.00          0.4   \n",
       "68         0.35  2.50          0.1  3.90          0.3  3.00          0.4   \n",
       "16         0.35  3.00          0.1  3.50          0.3  3.70          0.4   \n",
       "92         0.35  2.63          0.1  3.00          0.3  3.90          0.4   \n",
       "20         0.35  2.40          0.1  2.80          0.3  3.40          0.4   \n",
       "83         0.35  2.30          0.1  3.50          0.3  3.40          0.4   \n",
       "29         0.35  2.60          0.1  3.50          0.3  3.55          0.4   \n",
       "34         0.35  2.35          0.1  3.40          0.3  3.70          0.4   \n",
       "58         0.35  2.13          0.1  2.60          0.3  2.55          0.4   \n",
       "78         0.35  1.80          0.1  4.50          0.3  2.98          0.4   \n",
       "15         0.35  3.50          0.1  2.30          0.3  4.20          0.4   \n",
       "8          0.35  2.38          0.1  3.00          0.3  3.40          0.4   \n",
       "75         0.35  2.10          0.1  3.30          0.3  3.90          0.4   \n",
       "86         0.35  2.00          0.1  3.90          0.3  2.40          0.4   \n",
       "96         0.35  2.60          0.1  2.90          0.3  2.98          0.4   \n",
       "52         0.35  2.80          0.1  3.40          0.3  3.50          0.4   \n",
       "93         0.35  2.30          0.1  3.70          0.3  3.70          0.4   \n",
       "6          0.35  2.63          0.1  2.55          0.3  3.30          0.4   \n",
       "74         0.35  2.25          0.1  3.00          0.3  2.40          0.4   \n",
       "12         0.35  3.03          0.1  3.20          0.3  3.50          0.4   \n",
       "33         0.35  2.80          0.1  3.60          0.3  2.70          0.4   \n",
       "14         0.35  2.20          0.1  3.80          0.3  3.15          0.4   \n",
       "17         0.35  3.30          0.1  3.50          0.3  3.40          0.4   \n",
       "28         0.35  2.03          0.1  3.30          0.3  3.30          0.4   \n",
       "66         0.35  2.50          0.1  2.50          0.3  3.60          0.4   \n",
       "\n",
       "     DD 4A  Unnamed: 16  DD 4B  Unnamed: 18  EL 1  Unnamed: 20  EL 2  \\\n",
       "60    0.00          0.1   4.25          0.1  3.20         0.25  2.30   \n",
       "85    2.90          0.1   4.05          0.1  2.66         0.25  1.87   \n",
       "99    3.50          0.1   3.01          0.1  2.70         0.25  1.50   \n",
       "71    3.10          0.1   3.65          0.1  3.00         0.25  2.50   \n",
       "1     1.90          0.1   3.95          0.1  3.20         0.25  4.45   \n",
       "55    3.40          0.1   3.35          0.1  4.80         0.25  2.20   \n",
       "64    3.90          0.1   2.05          0.1  3.22         0.25  2.73   \n",
       "72    2.28          0.1   3.06          0.1  2.74         0.25  2.41   \n",
       "88    4.60          0.1   3.80          0.1  3.20         0.25  2.30   \n",
       "11    1.40          0.1   3.60          0.1  2.40         0.25  2.90   \n",
       "77    1.70          0.1   3.45          0.1  3.20         0.25  3.00   \n",
       "67    2.80          0.1   4.25          0.1  3.36         0.25  2.44   \n",
       "19    3.90          0.1   4.05          0.1  3.65         0.25  2.70   \n",
       "100   3.50          0.1   2.25          0.1  3.74         0.25  2.20   \n",
       "61    2.50          0.1   4.05          0.1  1.82         0.25  2.39   \n",
       "37    2.10          0.1   4.30          0.1  3.57         0.25  2.49   \n",
       "68    3.90          0.1   2.80          0.1  3.80         0.25  1.89   \n",
       "16    2.00          0.1   4.05          0.1  3.20         0.25  3.00   \n",
       "92    1.80          0.1   3.90          0.1  3.20         0.25  2.70   \n",
       "20    3.20          0.1   3.55          0.1  3.20         0.25  2.85   \n",
       "83    3.60          0.1   3.55          0.1  4.00         0.25  3.00   \n",
       "29    2.10          0.1   4.05          0.1  2.28         0.25  2.47   \n",
       "34    2.00          0.1   4.05          0.1  4.40         0.25  2.20   \n",
       "58    2.00          0.1   3.90          0.1  3.80         0.25  3.70   \n",
       "78    1.80          0.1   1.80          0.1  2.89         0.25  3.50   \n",
       "15    3.10          0.1   3.65          0.1  4.00         0.25  3.00   \n",
       "8     3.70          0.1   3.44          0.1  4.20         0.25  2.70   \n",
       "75    0.00          0.1   2.36          0.1  4.20         0.25  2.70   \n",
       "86    2.68          0.1   4.30          0.1  3.20         0.25  4.45   \n",
       "96    4.30          0.1   2.40          0.1  2.40         0.25  2.90   \n",
       "52    3.70          0.1   3.20          0.1  3.20         0.25  3.00   \n",
       "93    1.80          0.1   3.75          0.1  4.80         0.25  2.30   \n",
       "6     3.30          0.1   1.85          0.1  4.80         0.25  2.20   \n",
       "74    2.50          0.1   3.95          0.1  3.20         0.25  2.59   \n",
       "12    4.60          0.1   4.10          0.1  4.60         0.25  3.50   \n",
       "33    4.20          0.1   3.95          0.1  4.40         0.25  3.35   \n",
       "14    1.40          0.1   3.25          0.1  3.20         0.25  2.50   \n",
       "17    4.30          0.1   1.85          0.1  4.00         0.25  2.83   \n",
       "28    1.70          0.1   2.49          0.1  3.60         0.25  2.40   \n",
       "66    3.90          0.1   3.20          0.1  4.00         0.25  3.65   \n",
       "\n",
       "     Unnamed: 22  EL 3  Unnamed: 24  EL 4  Unnamed: 26  PR 1  Unnamed: 28  \\\n",
       "60          0.25  3.55         0.25  3.75         0.25  2.72          0.2   \n",
       "85          0.25  3.15         0.25  2.85         0.25  1.56          0.2   \n",
       "99          0.25  2.42         0.25  2.59         0.25  1.71          0.2   \n",
       "71          0.25  3.15         0.25  2.85         0.25  2.55          0.2   \n",
       "1           0.25  4.85         0.25  3.85         0.25  2.70          0.2   \n",
       "55          0.25  3.55         0.25  3.30         0.25  2.70          0.2   \n",
       "64          0.25  2.34         0.25  3.32         0.25  2.47          0.2   \n",
       "72          0.25  2.70         0.25  3.15         0.25  2.07          0.2   \n",
       "88          0.25  2.90         0.25  3.30         0.25  3.20          0.2   \n",
       "11          0.25  4.15         0.25  2.90         0.25  2.40          0.2   \n",
       "77          0.25  2.85         0.25  3.44         0.25  2.13          0.2   \n",
       "67          0.25  3.94         0.25  2.90         0.25  3.20          0.2   \n",
       "19          0.25  1.93         0.25  3.32         0.25  2.02          0.2   \n",
       "100         0.25  3.32         0.25  2.07         0.25  3.20          0.2   \n",
       "61          0.25  3.15         0.25  2.85         0.25  3.30          0.2   \n",
       "37          0.25  2.75         0.25  3.10         0.25  3.30          0.2   \n",
       "68          0.25  2.70         0.25  3.15         0.25  2.40          0.2   \n",
       "16          0.25  3.05         0.25  3.05         0.25  2.70          0.2   \n",
       "92          0.25  2.75         0.25  3.10         0.25  3.30          0.2   \n",
       "20          0.25  2.80         0.25  4.10         0.25  2.90          0.2   \n",
       "83          0.25  4.60         0.25  3.50         0.25  3.30          0.2   \n",
       "29          0.25  3.90         0.25  2.95         0.25  3.00          0.2   \n",
       "34          0.25  3.70         0.25  3.05         0.25  3.30          0.2   \n",
       "58          0.25  3.00         0.25  3.45         0.25  2.90          0.2   \n",
       "78          0.25  2.70         0.25  3.15         0.25  3.10          0.2   \n",
       "15          0.25  4.85         0.25  3.85         0.25  2.70          0.2   \n",
       "8           0.25  2.80         0.25  4.10         0.25  3.00          0.2   \n",
       "75          0.25  3.55         0.25  3.75         0.25  3.20          0.2   \n",
       "86          0.25  3.00         0.25  4.00         0.25  2.70          0.2   \n",
       "96          0.25  2.85         0.25  3.05         0.25  2.70          0.2   \n",
       "52          0.25  3.50         0.25  3.75         0.25  3.00          0.2   \n",
       "93          0.25  3.55         0.25  3.30         0.25  3.10          0.2   \n",
       "6           0.25  3.90         0.25  2.51         0.25  3.23          0.2   \n",
       "74          0.25  3.00         0.25  4.00         0.25  3.30          0.2   \n",
       "12          0.25  3.65         0.25  3.50         0.25  2.40          0.2   \n",
       "33          0.25  3.15         0.25  2.85         0.25  2.90          0.2   \n",
       "14          0.25  3.15         0.25  2.85         0.25  3.20          0.2   \n",
       "17          0.25  4.20         0.25  3.50         0.25  2.50          0.2   \n",
       "28          0.25  4.60         0.25  3.50         0.25  3.30          0.2   \n",
       "66          0.25  3.10         0.25  1.75         0.25  2.70          0.2   \n",
       "\n",
       "     PR 2  Unnamed: 30   PR3  Unnamed: 32   PR4  Unnamed: 34  CI average  \\\n",
       "60   2.17         0.25  3.50         0.35  4.15          0.2      0.0000   \n",
       "85   2.24         0.25  2.85         0.35  4.30          0.2      2.7000   \n",
       "99   2.40         0.25  1.93         0.35  2.01          0.2      2.4250   \n",
       "71   2.60         0.25  1.43         0.35  3.15          0.2      2.3850   \n",
       "1    3.90         0.25  4.30         0.35  4.15          0.2      0.0000   \n",
       "55   2.10         0.25  3.20         0.35  3.60          0.2      2.8550   \n",
       "64   2.11         0.25  2.87         0.35  4.15          0.2      2.8400   \n",
       "72   2.72         0.25  2.42         0.35  4.00          0.2      2.8200   \n",
       "88   2.45         0.25  2.95         0.35  3.80          0.2      3.0900   \n",
       "11   2.89         0.25  2.85         0.35  4.00          0.2      3.1800   \n",
       "77   3.10         0.25  3.55         0.35  2.68          0.2      2.7730   \n",
       "67   1.91         0.25  2.45         0.35  3.53          0.2      2.9850   \n",
       "19   1.71         0.25  2.87         0.35  3.00          0.2      2.6425   \n",
       "100  2.38         0.25  3.40         0.35  2.47          0.2      2.4300   \n",
       "61   2.98         0.25  3.02         0.35  2.90          0.2      3.4650   \n",
       "37   2.20         0.25  2.55         0.35  2.72          0.2      2.9550   \n",
       "68   2.45         0.25  3.55         0.35  4.30          0.2      2.6150   \n",
       "16   3.10         0.25  3.20         0.35  2.90          0.2      2.6000   \n",
       "92   3.20         0.25  2.45         0.35  3.00          0.2      3.0300   \n",
       "20   3.10         0.25  3.30         0.35  3.00          0.2      2.9300   \n",
       "83   2.40         0.25  2.81         0.35  3.45          0.2      3.0500   \n",
       "29   3.20         0.25  2.95         0.35  3.00          0.2      2.8450   \n",
       "34   3.30         0.25  3.20         0.35  4.30          0.2      3.4550   \n",
       "58   2.64         0.25  2.75         0.35  3.00          0.2      3.0100   \n",
       "78   4.40         0.25  2.85         0.35  2.21          0.2      2.7550   \n",
       "15   4.40         0.25  4.30         0.35  3.15          0.2      2.5750   \n",
       "8    3.20         0.25  3.30         0.35  3.00          0.2      3.0950   \n",
       "75   2.80         0.25  2.45         0.35  2.56          0.2      3.5600   \n",
       "86   3.70         0.25  2.75         0.35  2.72          0.2      3.1500   \n",
       "96   3.80         0.25  2.85         0.35  2.60          0.2      3.2600   \n",
       "52   2.64         0.25  3.05         0.35  3.75          0.2      3.2200   \n",
       "93   3.50         0.25  3.20         0.35  3.60          0.2      3.2850   \n",
       "6    3.50         0.25  3.50         0.35  3.15          0.2      2.8200   \n",
       "74   4.00         0.25  2.75         0.35  3.00          0.2      3.2450   \n",
       "12   2.63         0.25  3.05         0.35  3.85          0.2      3.0200   \n",
       "33   2.38         0.25  2.85         0.35  4.15          0.2      3.0950   \n",
       "14   3.30         0.25  2.72         0.35  2.45          0.2      3.4600   \n",
       "17   3.00         0.25  3.30         0.35  3.15          0.2      2.6800   \n",
       "28   3.00         0.25  3.50         0.35  2.55          0.2      3.4500   \n",
       "66   3.00         0.25  3.55         0.35  3.19          0.2      2.9650   \n",
       "\n",
       "      RCI  DD average   RDD  EL Average   REL  PR Average   RPR  \\\n",
       "60   Fail       2.245  Fail      3.2000  Pass      3.1415  Pass   \n",
       "85   Pass       2.710  Pass      2.6325  Pass      2.7295  Pass   \n",
       "99   Fail       2.453  Fail      2.3025  Fail      2.0195  Fail   \n",
       "71   Fail       2.820  Pass      2.8750  Pass      2.2905  Fail   \n",
       "1    Fail       2.313  Fail      4.0875  Pass      3.8500  Pass   \n",
       "55   Pass       3.165  Pass      3.4625  Pass      2.9050  Pass   \n",
       "64   Pass       2.985  Pass      2.9025  Pass      2.8560  Pass   \n",
       "72   Pass       3.414  Pass      2.7500  Pass      2.7410  Pass   \n",
       "88   Pass       3.865  Pass      2.9250  Pass      3.0450  Pass   \n",
       "11   Pass       2.888  Pass      3.0875  Pass      3.0000  Pass   \n",
       "77   Pass       3.085  Pass      3.1225  Pass      2.9795  Pass   \n",
       "67   Pass       2.793  Pass      3.1600  Pass      2.6810  Pass   \n",
       "19   Pass       3.215  Pass      2.9000  Pass      2.4360  Fail   \n",
       "100  Fail       2.945  Pass      2.8325  Pass      2.9190  Pass   \n",
       "61   Pass       3.169  Pass      2.5525  Pass      3.0420  Pass   \n",
       "37   Pass       3.098  Pass      2.9775  Pass      2.6465  Pass   \n",
       "68   Pass       3.290  Pass      2.8850  Pass      3.1950  Pass   \n",
       "16   Pass       3.435  Pass      3.0750  Pass      3.0150  Pass   \n",
       "92   Pass       3.293  Pass      2.9375  Pass      2.9175  Pass   \n",
       "20   Pass       3.115  Pass      3.2375  Pass      3.1100  Pass   \n",
       "83   Pass       3.355  Pass      3.7750  Pass      2.9335  Pass   \n",
       "29   Pass       3.345  Pass      2.9000  Pass      3.0325  Pass   \n",
       "34   Pass       3.340  Pass      3.3375  Pass      3.4650  Pass   \n",
       "58   Pass       2.603  Pass      3.4875  Pass      2.8025  Pass   \n",
       "78   Pass       3.082  Pass      3.0600  Pass      3.1595  Pass   \n",
       "15   Pass       3.395  Pass      3.9250  Pass      3.7750  Pass   \n",
       "8    Pass       3.212  Pass      3.4500  Pass      3.1550  Pass   \n",
       "75   Pass       2.996  Pass      3.5500  Pass      2.7095  Pass   \n",
       "86   Pass       3.028  Pass      3.6625  Pass      2.9715  Pass   \n",
       "96   Pass       2.992  Pass      2.8000  Pass      3.0075  Pass   \n",
       "52   Pass       3.390  Pass      3.3625  Pass      3.0775  Pass   \n",
       "93   Pass       3.375  Pass      3.4875  Pass      3.3350  Pass   \n",
       "6    Pass       2.863  Pass      3.3525  Pass      3.3760  Pass   \n",
       "74   Pass       2.730  Pass      3.1975  Pass      3.2225  Pass   \n",
       "12   Pass       3.533  Pass      3.8125  Pass      2.9750  Pass   \n",
       "33   Pass       3.255  Pass      3.4375  Pass      3.0025  Pass   \n",
       "14   Pass       3.085  Pass      2.9250  Pass      2.9070  Pass   \n",
       "17   Pass       3.355  Pass      3.6325  Pass      3.0350  Pass   \n",
       "28   Pass       2.932  Pass      3.5250  Pass      3.1450  Pass   \n",
       "66   Pass       3.150  Pass      3.1250  Pass      3.1705  Pass   \n",
       "\n",
       "     Overall LC average Failing  CI_1_risk  CI_2_risk  DD_1_risk  DD_2_risk  \\\n",
       "60             2.146625    Fail          4          4          2          4   \n",
       "85             2.693000    Fail          3          3          2          3   \n",
       "99             2.300000    Fail          1          4          3          2   \n",
       "71             2.592625    Fail          4          4          3          2   \n",
       "1              2.562625    Fail          4          4          2          4   \n",
       "55             3.096875    Pass          4          2          3          2   \n",
       "64             2.895875    Fail          2          3          2          2   \n",
       "72             2.931250    Fail          2          3          2          2   \n",
       "88             3.231250    Pass          1          3          3          1   \n",
       "11             3.038875    Pass          2          2          2          2   \n",
       "77             2.990000    Fail          2          2          3          2   \n",
       "67             2.904750    Fail          1          3          3          2   \n",
       "19             2.798375    Fail          2          3          2          2   \n",
       "100            2.781625    Fail          2          2          3          2   \n",
       "61             3.057125    Pass          1          2          3          1   \n",
       "37             2.919250    Fail          2          2          3          1   \n",
       "68             2.996250    Fail          2          2          2          1   \n",
       "16             3.031250    Pass          2          4          2          1   \n",
       "92             3.044500    Pass          3          2          2          2   \n",
       "20             3.098125    Pass          2          2          3          2   \n",
       "83             3.278375    Pass          2          3          3          1   \n",
       "29             3.030625    Pass          2          2          2          1   \n",
       "34             3.399375    Pass          2          2          3          1   \n",
       "58             2.975750    Fail          2          3          3          2   \n",
       "78             3.014125    Pass          3          3          3          1   \n",
       "15             3.417500    Pass          2          4          1          3   \n",
       "8              3.228000    Pass          2          2          3          2   \n",
       "75             3.203875    Pass          1          2          3          2   \n",
       "86             3.203000    Pass          2          3          3          1   \n",
       "96             3.014875    Pass          1          2          2          2   \n",
       "52             3.262500    Pass          2          2          2          1   \n",
       "93             3.370625    Pass          2          2          3          1   \n",
       "6              3.102875    Pass          2          2          2          2   \n",
       "74             3.098750    Pass          1          2          3          2   \n",
       "12             3.335125    Pass          2          2          2          2   \n",
       "33             3.197500    Pass          2          3          2          1   \n",
       "14             3.094250    Pass          1          2          3          1   \n",
       "17             3.175625    Pass          1          4          2          1   \n",
       "28             3.263000    Pass          1          1          3          2   \n",
       "66             3.102625    Pass          2          2          2          2   \n",
       "\n",
       "     EL_1_risk  EL_2_risk  PR_1_risk  PR_2_risk  score_risk  \n",
       "60           2          3          2          3       3.000  \n",
       "85           2          3          3          3       2.750  \n",
       "99           2          3          3          3       2.625  \n",
       "71           2          2          2          2       2.625  \n",
       "1            2          1          2          1       2.500  \n",
       "55           1          3          2          3       2.500  \n",
       "64           2          2          3          3       2.375  \n",
       "72           2          3          3          2       2.375  \n",
       "88           2          3          2          3       2.250  \n",
       "11           3          2          3          2       2.250  \n",
       "77           2          2          3          2       2.250  \n",
       "67           1          3          2          3       2.250  \n",
       "19           1          2          3          3       2.250  \n",
       "100          1          3          2          3       2.250  \n",
       "61           3          3          2          2       2.125  \n",
       "37           1          3          2          3       2.125  \n",
       "68           1          3          3          3       2.125  \n",
       "16           2          2          2          2       2.125  \n",
       "92           2          2          2          2       2.125  \n",
       "20           2          2          2          2       2.125  \n",
       "83           1          2          2          3       2.125  \n",
       "29           3          3          2          2       2.125  \n",
       "34           1          3          2          2       2.000  \n",
       "58           1          1          2          2       2.000  \n",
       "78           2          1          2          1       2.000  \n",
       "15           1          2          2          1       2.000  \n",
       "8            1          2          2          2       2.000  \n",
       "75           1          2          2          2       1.875  \n",
       "86           2          1          2          1       1.875  \n",
       "96           3          2          2          1       1.875  \n",
       "52           2          2          2          2       1.875  \n",
       "93           1          3          2          1       1.875  \n",
       "6            1          3          2          1       1.875  \n",
       "74           2          2          2          1       1.875  \n",
       "12           1          1          3          2       1.875  \n",
       "33           1          1          2          3       1.875  \n",
       "14           2          2          2          2       1.875  \n",
       "17           1          2          2          2       1.875  \n",
       "28           1          3          2          2       1.875  \n",
       "66           1          1          2          2       1.750  "
      ]
     },
     "execution_count": 140,
     "metadata": {},
     "output_type": "execute_result"
    }
   ],
   "source": [
    "risk_levels.sort_values(by=['score_risk'], ascending=False).head(40)"
   ]
  },
  {
   "cell_type": "code",
   "execution_count": 29,
   "metadata": {},
   "outputs": [],
   "source": [
    "b_risk_levels=df.dropna(axis=0)"
   ]
  },
  {
   "cell_type": "code",
   "execution_count": 31,
   "metadata": {},
   "outputs": [],
   "source": [
    "b_risk_levels['score_risk']=b_risk_levels.iloc[:,45:].sum(axis=1)/8"
   ]
  },
  {
   "cell_type": "code",
   "execution_count": 30,
   "metadata": {},
   "outputs": [],
   "source": [
    "b_risk_levels['CI_1_risk']=risk_levels['CI 1'].apply(lambda x: 1 if x>=3.51 else (2 if x<3.51 and x >=2.5 else (3 if x<2.5 and x>=1.5 else 4)))\n",
    "b_risk_levels['CI_2_risk']=risk_levels['CI 2'].apply(lambda x: 1 if x>=3.51 else (2 if x<3.51 and x >=2.5 else (3 if x<2.5 and x>=1.5 else 4)))\n",
    "b_risk_levels['DD_1_risk']=risk_levels['DD 1'].apply(lambda x: 1 if x>=3.51 else (2 if x<3.51 and x >=2.5 else (3 if x<2.5 and x>=1.5 else 4)))\n",
    "b_risk_levels['DD_2_risk']=risk_levels['DD 2'].apply(lambda x: 1 if x>=3.51 else (2 if x<3.51 and x >=2.5 else (3 if x<2.5 and x>=1.5 else 4)))\n",
    "b_risk_levels['EL_1_risk']=risk_levels['EL 1'].apply(lambda x: 1 if x>=3.51 else (2 if x<3.51 and x >=2.5 else (3 if x<2.5 and x>=1.5 else 4)))\n",
    "b_risk_levels['EL_2_risk']=risk_levels['EL 2'].apply(lambda x: 1 if x>=3.51 else (2 if x<3.51 and x >=2.5 else (3 if x<2.5 and x>=1.5 else 4)))\n",
    "b_risk_levels['PR_1_risk']=risk_levels['PR 1'].apply(lambda x: 1 if x>=3.51 else (2 if x<3.51 and x >=2.5 else (3 if x<2.5 and x>=1.5 else 4)))\n",
    "b_risk_levels['PR_2_risk']=risk_levels['PR 2'].apply(lambda x: 1 if x>=3.31 else (2 if x<3.31 and x >=2.5 else (3 if x<2.5 and x>=1.5 else 4)))"
   ]
  },
  {
   "cell_type": "code",
   "execution_count": 165,
   "metadata": {},
   "outputs": [],
   "source": [
    "b_risk_levels['score_risk']=b_risk_levels.iloc[:,45:].sum(axis=1)/8"
   ]
  },
  {
   "cell_type": "code",
   "execution_count": 180,
   "metadata": {},
   "outputs": [
    {
     "data": {
      "text/html": [
       "<div>\n",
       "<style scoped>\n",
       "    .dataframe tbody tr th:only-of-type {\n",
       "        vertical-align: middle;\n",
       "    }\n",
       "\n",
       "    .dataframe tbody tr th {\n",
       "        vertical-align: top;\n",
       "    }\n",
       "\n",
       "    .dataframe thead th {\n",
       "        text-align: right;\n",
       "    }\n",
       "</style>\n",
       "<table border=\"1\" class=\"dataframe\">\n",
       "  <thead>\n",
       "    <tr style=\"text-align: right;\">\n",
       "      <th></th>\n",
       "      <th>Failing</th>\n",
       "      <th>score_risk</th>\n",
       "    </tr>\n",
       "  </thead>\n",
       "  <tbody>\n",
       "    <tr>\n",
       "      <td>60</td>\n",
       "      <td>Fail</td>\n",
       "      <td>3.000</td>\n",
       "    </tr>\n",
       "    <tr>\n",
       "      <td>85</td>\n",
       "      <td>Fail</td>\n",
       "      <td>2.750</td>\n",
       "    </tr>\n",
       "    <tr>\n",
       "      <td>99</td>\n",
       "      <td>Fail</td>\n",
       "      <td>2.625</td>\n",
       "    </tr>\n",
       "    <tr>\n",
       "      <td>71</td>\n",
       "      <td>Fail</td>\n",
       "      <td>2.625</td>\n",
       "    </tr>\n",
       "    <tr>\n",
       "      <td>1</td>\n",
       "      <td>Fail</td>\n",
       "      <td>2.500</td>\n",
       "    </tr>\n",
       "    <tr>\n",
       "      <td>55</td>\n",
       "      <td>Pass</td>\n",
       "      <td>2.500</td>\n",
       "    </tr>\n",
       "    <tr>\n",
       "      <td>64</td>\n",
       "      <td>Fail</td>\n",
       "      <td>2.375</td>\n",
       "    </tr>\n",
       "    <tr>\n",
       "      <td>88</td>\n",
       "      <td>Pass</td>\n",
       "      <td>2.375</td>\n",
       "    </tr>\n",
       "    <tr>\n",
       "      <td>67</td>\n",
       "      <td>Fail</td>\n",
       "      <td>2.375</td>\n",
       "    </tr>\n",
       "    <tr>\n",
       "      <td>72</td>\n",
       "      <td>Fail</td>\n",
       "      <td>2.375</td>\n",
       "    </tr>\n",
       "    <tr>\n",
       "      <td>16</td>\n",
       "      <td>Pass</td>\n",
       "      <td>2.250</td>\n",
       "    </tr>\n",
       "    <tr>\n",
       "      <td>37</td>\n",
       "      <td>Fail</td>\n",
       "      <td>2.250</td>\n",
       "    </tr>\n",
       "    <tr>\n",
       "      <td>29</td>\n",
       "      <td>Pass</td>\n",
       "      <td>2.250</td>\n",
       "    </tr>\n",
       "    <tr>\n",
       "      <td>19</td>\n",
       "      <td>Fail</td>\n",
       "      <td>2.250</td>\n",
       "    </tr>\n",
       "    <tr>\n",
       "      <td>83</td>\n",
       "      <td>Pass</td>\n",
       "      <td>2.250</td>\n",
       "    </tr>\n",
       "    <tr>\n",
       "      <td>100</td>\n",
       "      <td>Fail</td>\n",
       "      <td>2.250</td>\n",
       "    </tr>\n",
       "    <tr>\n",
       "      <td>77</td>\n",
       "      <td>Fail</td>\n",
       "      <td>2.250</td>\n",
       "    </tr>\n",
       "    <tr>\n",
       "      <td>11</td>\n",
       "      <td>Pass</td>\n",
       "      <td>2.250</td>\n",
       "    </tr>\n",
       "    <tr>\n",
       "      <td>61</td>\n",
       "      <td>Pass</td>\n",
       "      <td>2.125</td>\n",
       "    </tr>\n",
       "    <tr>\n",
       "      <td>92</td>\n",
       "      <td>Pass</td>\n",
       "      <td>2.125</td>\n",
       "    </tr>\n",
       "    <tr>\n",
       "      <td>34</td>\n",
       "      <td>Pass</td>\n",
       "      <td>2.125</td>\n",
       "    </tr>\n",
       "    <tr>\n",
       "      <td>68</td>\n",
       "      <td>Fail</td>\n",
       "      <td>2.125</td>\n",
       "    </tr>\n",
       "    <tr>\n",
       "      <td>15</td>\n",
       "      <td>Pass</td>\n",
       "      <td>2.125</td>\n",
       "    </tr>\n",
       "    <tr>\n",
       "      <td>20</td>\n",
       "      <td>Pass</td>\n",
       "      <td>2.125</td>\n",
       "    </tr>\n",
       "    <tr>\n",
       "      <td>78</td>\n",
       "      <td>Pass</td>\n",
       "      <td>2.125</td>\n",
       "    </tr>\n",
       "    <tr>\n",
       "      <td>48</td>\n",
       "      <td>Pass</td>\n",
       "      <td>2.000</td>\n",
       "    </tr>\n",
       "    <tr>\n",
       "      <td>52</td>\n",
       "      <td>Pass</td>\n",
       "      <td>2.000</td>\n",
       "    </tr>\n",
       "    <tr>\n",
       "      <td>96</td>\n",
       "      <td>Pass</td>\n",
       "      <td>2.000</td>\n",
       "    </tr>\n",
       "    <tr>\n",
       "      <td>56</td>\n",
       "      <td>Pass</td>\n",
       "      <td>2.000</td>\n",
       "    </tr>\n",
       "    <tr>\n",
       "      <td>58</td>\n",
       "      <td>Fail</td>\n",
       "      <td>2.000</td>\n",
       "    </tr>\n",
       "    <tr>\n",
       "      <td>12</td>\n",
       "      <td>Pass</td>\n",
       "      <td>2.000</td>\n",
       "    </tr>\n",
       "    <tr>\n",
       "      <td>36</td>\n",
       "      <td>Pass</td>\n",
       "      <td>2.000</td>\n",
       "    </tr>\n",
       "    <tr>\n",
       "      <td>24</td>\n",
       "      <td>Pass</td>\n",
       "      <td>2.000</td>\n",
       "    </tr>\n",
       "    <tr>\n",
       "      <td>8</td>\n",
       "      <td>Pass</td>\n",
       "      <td>2.000</td>\n",
       "    </tr>\n",
       "    <tr>\n",
       "      <td>33</td>\n",
       "      <td>Pass</td>\n",
       "      <td>2.000</td>\n",
       "    </tr>\n",
       "    <tr>\n",
       "      <td>82</td>\n",
       "      <td>Pass</td>\n",
       "      <td>2.000</td>\n",
       "    </tr>\n",
       "    <tr>\n",
       "      <td>17</td>\n",
       "      <td>Pass</td>\n",
       "      <td>2.000</td>\n",
       "    </tr>\n",
       "    <tr>\n",
       "      <td>10</td>\n",
       "      <td>Pass</td>\n",
       "      <td>2.000</td>\n",
       "    </tr>\n",
       "    <tr>\n",
       "      <td>28</td>\n",
       "      <td>Pass</td>\n",
       "      <td>2.000</td>\n",
       "    </tr>\n",
       "    <tr>\n",
       "      <td>75</td>\n",
       "      <td>Pass</td>\n",
       "      <td>2.000</td>\n",
       "    </tr>\n",
       "    <tr>\n",
       "      <td>91</td>\n",
       "      <td>Pass</td>\n",
       "      <td>1.875</td>\n",
       "    </tr>\n",
       "  </tbody>\n",
       "</table>\n",
       "</div>"
      ],
      "text/plain": [
       "    Failing  score_risk\n",
       "60     Fail       3.000\n",
       "85     Fail       2.750\n",
       "99     Fail       2.625\n",
       "71     Fail       2.625\n",
       "1      Fail       2.500\n",
       "55     Pass       2.500\n",
       "64     Fail       2.375\n",
       "88     Pass       2.375\n",
       "67     Fail       2.375\n",
       "72     Fail       2.375\n",
       "16     Pass       2.250\n",
       "37     Fail       2.250\n",
       "29     Pass       2.250\n",
       "19     Fail       2.250\n",
       "83     Pass       2.250\n",
       "100    Fail       2.250\n",
       "77     Fail       2.250\n",
       "11     Pass       2.250\n",
       "61     Pass       2.125\n",
       "92     Pass       2.125\n",
       "34     Pass       2.125\n",
       "68     Fail       2.125\n",
       "15     Pass       2.125\n",
       "20     Pass       2.125\n",
       "78     Pass       2.125\n",
       "48     Pass       2.000\n",
       "52     Pass       2.000\n",
       "96     Pass       2.000\n",
       "56     Pass       2.000\n",
       "58     Fail       2.000\n",
       "12     Pass       2.000\n",
       "36     Pass       2.000\n",
       "24     Pass       2.000\n",
       "8      Pass       2.000\n",
       "33     Pass       2.000\n",
       "82     Pass       2.000\n",
       "17     Pass       2.000\n",
       "10     Pass       2.000\n",
       "28     Pass       2.000\n",
       "75     Pass       2.000\n",
       "91     Pass       1.875"
      ]
     },
     "execution_count": 180,
     "metadata": {},
     "output_type": "execute_result"
    }
   ],
   "source": [
    "b_risk_levels[['Failing','score_risk']].sort_values(by=['score_risk'], ascending=False).head(41)"
   ]
  },
  {
   "cell_type": "code",
   "execution_count": 175,
   "metadata": {},
   "outputs": [
    {
     "data": {
      "text/html": [
       "<div>\n",
       "<style scoped>\n",
       "    .dataframe tbody tr th:only-of-type {\n",
       "        vertical-align: middle;\n",
       "    }\n",
       "\n",
       "    .dataframe tbody tr th {\n",
       "        vertical-align: top;\n",
       "    }\n",
       "\n",
       "    .dataframe thead th {\n",
       "        text-align: right;\n",
       "    }\n",
       "</style>\n",
       "<table border=\"1\" class=\"dataframe\">\n",
       "  <thead>\n",
       "    <tr style=\"text-align: right;\">\n",
       "      <th></th>\n",
       "      <th>Failing</th>\n",
       "      <th>score_risk</th>\n",
       "    </tr>\n",
       "  </thead>\n",
       "  <tbody>\n",
       "    <tr>\n",
       "      <td>60</td>\n",
       "      <td>Fail</td>\n",
       "      <td>3.000</td>\n",
       "    </tr>\n",
       "    <tr>\n",
       "      <td>85</td>\n",
       "      <td>Fail</td>\n",
       "      <td>2.750</td>\n",
       "    </tr>\n",
       "    <tr>\n",
       "      <td>99</td>\n",
       "      <td>Fail</td>\n",
       "      <td>2.625</td>\n",
       "    </tr>\n",
       "    <tr>\n",
       "      <td>71</td>\n",
       "      <td>Fail</td>\n",
       "      <td>2.625</td>\n",
       "    </tr>\n",
       "    <tr>\n",
       "      <td>1</td>\n",
       "      <td>Fail</td>\n",
       "      <td>2.500</td>\n",
       "    </tr>\n",
       "    <tr>\n",
       "      <td>55</td>\n",
       "      <td>Pass</td>\n",
       "      <td>2.500</td>\n",
       "    </tr>\n",
       "    <tr>\n",
       "      <td>64</td>\n",
       "      <td>Fail</td>\n",
       "      <td>2.375</td>\n",
       "    </tr>\n",
       "    <tr>\n",
       "      <td>72</td>\n",
       "      <td>Fail</td>\n",
       "      <td>2.375</td>\n",
       "    </tr>\n",
       "    <tr>\n",
       "      <td>88</td>\n",
       "      <td>Pass</td>\n",
       "      <td>2.250</td>\n",
       "    </tr>\n",
       "    <tr>\n",
       "      <td>11</td>\n",
       "      <td>Pass</td>\n",
       "      <td>2.250</td>\n",
       "    </tr>\n",
       "    <tr>\n",
       "      <td>77</td>\n",
       "      <td>Fail</td>\n",
       "      <td>2.250</td>\n",
       "    </tr>\n",
       "    <tr>\n",
       "      <td>67</td>\n",
       "      <td>Fail</td>\n",
       "      <td>2.250</td>\n",
       "    </tr>\n",
       "    <tr>\n",
       "      <td>19</td>\n",
       "      <td>Fail</td>\n",
       "      <td>2.250</td>\n",
       "    </tr>\n",
       "    <tr>\n",
       "      <td>100</td>\n",
       "      <td>Fail</td>\n",
       "      <td>2.250</td>\n",
       "    </tr>\n",
       "    <tr>\n",
       "      <td>61</td>\n",
       "      <td>Pass</td>\n",
       "      <td>2.125</td>\n",
       "    </tr>\n",
       "    <tr>\n",
       "      <td>37</td>\n",
       "      <td>Fail</td>\n",
       "      <td>2.125</td>\n",
       "    </tr>\n",
       "    <tr>\n",
       "      <td>68</td>\n",
       "      <td>Fail</td>\n",
       "      <td>2.125</td>\n",
       "    </tr>\n",
       "    <tr>\n",
       "      <td>16</td>\n",
       "      <td>Pass</td>\n",
       "      <td>2.125</td>\n",
       "    </tr>\n",
       "    <tr>\n",
       "      <td>92</td>\n",
       "      <td>Pass</td>\n",
       "      <td>2.125</td>\n",
       "    </tr>\n",
       "    <tr>\n",
       "      <td>20</td>\n",
       "      <td>Pass</td>\n",
       "      <td>2.125</td>\n",
       "    </tr>\n",
       "    <tr>\n",
       "      <td>83</td>\n",
       "      <td>Pass</td>\n",
       "      <td>2.125</td>\n",
       "    </tr>\n",
       "    <tr>\n",
       "      <td>29</td>\n",
       "      <td>Pass</td>\n",
       "      <td>2.125</td>\n",
       "    </tr>\n",
       "    <tr>\n",
       "      <td>34</td>\n",
       "      <td>Pass</td>\n",
       "      <td>2.000</td>\n",
       "    </tr>\n",
       "    <tr>\n",
       "      <td>58</td>\n",
       "      <td>Fail</td>\n",
       "      <td>2.000</td>\n",
       "    </tr>\n",
       "    <tr>\n",
       "      <td>78</td>\n",
       "      <td>Pass</td>\n",
       "      <td>2.000</td>\n",
       "    </tr>\n",
       "    <tr>\n",
       "      <td>15</td>\n",
       "      <td>Pass</td>\n",
       "      <td>2.000</td>\n",
       "    </tr>\n",
       "    <tr>\n",
       "      <td>8</td>\n",
       "      <td>Pass</td>\n",
       "      <td>2.000</td>\n",
       "    </tr>\n",
       "    <tr>\n",
       "      <td>75</td>\n",
       "      <td>Pass</td>\n",
       "      <td>1.875</td>\n",
       "    </tr>\n",
       "  </tbody>\n",
       "</table>\n",
       "</div>"
      ],
      "text/plain": [
       "    Failing  score_risk\n",
       "60     Fail       3.000\n",
       "85     Fail       2.750\n",
       "99     Fail       2.625\n",
       "71     Fail       2.625\n",
       "1      Fail       2.500\n",
       "55     Pass       2.500\n",
       "64     Fail       2.375\n",
       "72     Fail       2.375\n",
       "88     Pass       2.250\n",
       "11     Pass       2.250\n",
       "77     Fail       2.250\n",
       "67     Fail       2.250\n",
       "19     Fail       2.250\n",
       "100    Fail       2.250\n",
       "61     Pass       2.125\n",
       "37     Fail       2.125\n",
       "68     Fail       2.125\n",
       "16     Pass       2.125\n",
       "92     Pass       2.125\n",
       "20     Pass       2.125\n",
       "83     Pass       2.125\n",
       "29     Pass       2.125\n",
       "34     Pass       2.000\n",
       "58     Fail       2.000\n",
       "78     Pass       2.000\n",
       "15     Pass       2.000\n",
       "8      Pass       2.000\n",
       "75     Pass       1.875"
      ]
     },
     "execution_count": 175,
     "metadata": {},
     "output_type": "execute_result"
    }
   ],
   "source": [
    "risk_levels[['Failing','score_risk']].sort_values(by=['score_risk'], ascending=False).head(28)"
   ]
  },
  {
   "cell_type": "code",
   "execution_count": 23,
   "metadata": {},
   "outputs": [],
   "source": [
    "table_pass_J=risk_levels[['Failing','score_risk']].sort_values(by=['score_risk'], ascending=False)"
   ]
  },
  {
   "cell_type": "code",
   "execution_count": 24,
   "metadata": {},
   "outputs": [],
   "source": [
    "table_pass_J.to_csv('//home/jorgemsr123/Desktop/Pavita/table_pass_with_3_3')"
   ]
  },
  {
   "cell_type": "code",
   "execution_count": 18,
   "metadata": {},
   "outputs": [],
   "source": [
    "table_complete_J=risk_levels.sort_values(by=['score_risk'], ascending=False)"
   ]
  },
  {
   "cell_type": "code",
   "execution_count": 21,
   "metadata": {},
   "outputs": [],
   "source": [
    "table_complete_J.to_csv('//home/jorgemsr123/Desktop/Pavita/table-complete-J')"
   ]
  },
  {
   "cell_type": "code",
   "execution_count": 32,
   "metadata": {},
   "outputs": [],
   "source": [
    "table_complete_B=b_risk_levels.sort_values(by=['score_risk'], ascending=False)"
   ]
  },
  {
   "cell_type": "code",
   "execution_count": 33,
   "metadata": {},
   "outputs": [],
   "source": [
    "table_complete_B.to_csv('//home/jorgemsr123/Desktop/Pavita/table-complete-B')"
   ]
  },
  {
   "cell_type": "code",
   "execution_count": 34,
   "metadata": {},
   "outputs": [],
   "source": [
    "table_pass_B=b_risk_levels[['Failing','score_risk']].sort_values(by=['score_risk'], ascending=False)"
   ]
  },
  {
   "cell_type": "code",
   "execution_count": 35,
   "metadata": {},
   "outputs": [],
   "source": [
    "table_pass_B.to_csv('//home/jorgemsr123/Desktop/Pavita/table_pass_with_3_5')"
   ]
  },
  {
   "cell_type": "code",
   "execution_count": 40,
   "metadata": {},
   "outputs": [
    {
     "data": {
      "text/html": [
       "<div>\n",
       "<style scoped>\n",
       "    .dataframe tbody tr th:only-of-type {\n",
       "        vertical-align: middle;\n",
       "    }\n",
       "\n",
       "    .dataframe tbody tr th {\n",
       "        vertical-align: top;\n",
       "    }\n",
       "\n",
       "    .dataframe thead th {\n",
       "        text-align: right;\n",
       "    }\n",
       "</style>\n",
       "<table border=\"1\" class=\"dataframe\">\n",
       "  <thead>\n",
       "    <tr style=\"text-align: right;\">\n",
       "      <th></th>\n",
       "      <th>StudentID</th>\n",
       "      <th>CI 1</th>\n",
       "      <th>Unnamed: 2</th>\n",
       "      <th>CI 2</th>\n",
       "      <th>Unnamed: 4</th>\n",
       "      <th>CI 3</th>\n",
       "      <th>Unnamed: 6</th>\n",
       "      <th>CI 4</th>\n",
       "      <th>Unnamed: 8</th>\n",
       "      <th>DD 1</th>\n",
       "      <th>Unnamed: 10</th>\n",
       "      <th>DD 2</th>\n",
       "      <th>Unnamed: 12</th>\n",
       "      <th>DD 3</th>\n",
       "      <th>Unnamed: 14</th>\n",
       "      <th>DD 4A</th>\n",
       "      <th>Unnamed: 16</th>\n",
       "      <th>DD 4B</th>\n",
       "      <th>Unnamed: 18</th>\n",
       "      <th>EL 1</th>\n",
       "      <th>Unnamed: 20</th>\n",
       "      <th>EL 2</th>\n",
       "      <th>Unnamed: 22</th>\n",
       "      <th>EL 3</th>\n",
       "      <th>Unnamed: 24</th>\n",
       "      <th>EL 4</th>\n",
       "      <th>Unnamed: 26</th>\n",
       "      <th>PR 1</th>\n",
       "      <th>Unnamed: 28</th>\n",
       "      <th>PR 2</th>\n",
       "      <th>Unnamed: 30</th>\n",
       "      <th>PR3</th>\n",
       "      <th>Unnamed: 32</th>\n",
       "      <th>PR4</th>\n",
       "      <th>Unnamed: 34</th>\n",
       "      <th>CI average</th>\n",
       "      <th>RCI</th>\n",
       "      <th>DD average</th>\n",
       "      <th>RDD</th>\n",
       "      <th>EL Average</th>\n",
       "      <th>REL</th>\n",
       "      <th>PR Average</th>\n",
       "      <th>RPR</th>\n",
       "      <th>Overall LC average</th>\n",
       "      <th>Failing</th>\n",
       "      <th>CI_1_risk</th>\n",
       "      <th>CI_2_risk</th>\n",
       "      <th>DD_1_risk</th>\n",
       "      <th>DD_2_risk</th>\n",
       "      <th>EL_1_risk</th>\n",
       "      <th>EL_2_risk</th>\n",
       "      <th>PR_1_risk</th>\n",
       "      <th>PR_2_risk</th>\n",
       "      <th>score_risk</th>\n",
       "    </tr>\n",
       "  </thead>\n",
       "  <tbody>\n",
       "    <tr>\n",
       "      <td>60</td>\n",
       "      <td>Student061</td>\n",
       "      <td>0.0</td>\n",
       "      <td>0.15</td>\n",
       "      <td>0.0</td>\n",
       "      <td>0.25</td>\n",
       "      <td>0.0</td>\n",
       "      <td>0.25</td>\n",
       "      <td>0.0</td>\n",
       "      <td>0.35</td>\n",
       "      <td>3.00</td>\n",
       "      <td>0.1</td>\n",
       "      <td>0.00</td>\n",
       "      <td>0.3</td>\n",
       "      <td>3.80</td>\n",
       "      <td>0.4</td>\n",
       "      <td>0.0</td>\n",
       "      <td>0.1</td>\n",
       "      <td>4.25</td>\n",
       "      <td>0.1</td>\n",
       "      <td>3.20</td>\n",
       "      <td>0.25</td>\n",
       "      <td>2.30</td>\n",
       "      <td>0.25</td>\n",
       "      <td>3.55</td>\n",
       "      <td>0.25</td>\n",
       "      <td>3.75</td>\n",
       "      <td>0.25</td>\n",
       "      <td>2.72</td>\n",
       "      <td>0.2</td>\n",
       "      <td>2.17</td>\n",
       "      <td>0.25</td>\n",
       "      <td>3.50</td>\n",
       "      <td>0.35</td>\n",
       "      <td>4.15</td>\n",
       "      <td>0.2</td>\n",
       "      <td>0.000</td>\n",
       "      <td>Fail</td>\n",
       "      <td>2.245</td>\n",
       "      <td>Fail</td>\n",
       "      <td>3.2000</td>\n",
       "      <td>Pass</td>\n",
       "      <td>3.1415</td>\n",
       "      <td>Pass</td>\n",
       "      <td>2.146625</td>\n",
       "      <td>Fail</td>\n",
       "      <td>4</td>\n",
       "      <td>4</td>\n",
       "      <td>2</td>\n",
       "      <td>4</td>\n",
       "      <td>2</td>\n",
       "      <td>3</td>\n",
       "      <td>2</td>\n",
       "      <td>3</td>\n",
       "      <td>3.000</td>\n",
       "    </tr>\n",
       "    <tr>\n",
       "      <td>85</td>\n",
       "      <td>Student086</td>\n",
       "      <td>1.7</td>\n",
       "      <td>0.15</td>\n",
       "      <td>2.4</td>\n",
       "      <td>0.25</td>\n",
       "      <td>2.9</td>\n",
       "      <td>0.25</td>\n",
       "      <td>3.2</td>\n",
       "      <td>0.35</td>\n",
       "      <td>2.50</td>\n",
       "      <td>0.1</td>\n",
       "      <td>2.35</td>\n",
       "      <td>0.3</td>\n",
       "      <td>2.65</td>\n",
       "      <td>0.4</td>\n",
       "      <td>2.9</td>\n",
       "      <td>0.1</td>\n",
       "      <td>4.05</td>\n",
       "      <td>0.1</td>\n",
       "      <td>2.66</td>\n",
       "      <td>0.25</td>\n",
       "      <td>1.87</td>\n",
       "      <td>0.25</td>\n",
       "      <td>3.15</td>\n",
       "      <td>0.25</td>\n",
       "      <td>2.85</td>\n",
       "      <td>0.25</td>\n",
       "      <td>1.56</td>\n",
       "      <td>0.2</td>\n",
       "      <td>2.24</td>\n",
       "      <td>0.25</td>\n",
       "      <td>2.85</td>\n",
       "      <td>0.35</td>\n",
       "      <td>4.30</td>\n",
       "      <td>0.2</td>\n",
       "      <td>2.700</td>\n",
       "      <td>Pass</td>\n",
       "      <td>2.710</td>\n",
       "      <td>Pass</td>\n",
       "      <td>2.6325</td>\n",
       "      <td>Pass</td>\n",
       "      <td>2.7295</td>\n",
       "      <td>Pass</td>\n",
       "      <td>2.693000</td>\n",
       "      <td>Fail</td>\n",
       "      <td>3</td>\n",
       "      <td>3</td>\n",
       "      <td>2</td>\n",
       "      <td>3</td>\n",
       "      <td>2</td>\n",
       "      <td>3</td>\n",
       "      <td>3</td>\n",
       "      <td>3</td>\n",
       "      <td>2.750</td>\n",
       "    </tr>\n",
       "    <tr>\n",
       "      <td>99</td>\n",
       "      <td>Student100</td>\n",
       "      <td>3.6</td>\n",
       "      <td>0.15</td>\n",
       "      <td>0.0</td>\n",
       "      <td>0.25</td>\n",
       "      <td>3.2</td>\n",
       "      <td>0.25</td>\n",
       "      <td>3.1</td>\n",
       "      <td>0.35</td>\n",
       "      <td>2.00</td>\n",
       "      <td>0.1</td>\n",
       "      <td>3.10</td>\n",
       "      <td>0.3</td>\n",
       "      <td>1.68</td>\n",
       "      <td>0.4</td>\n",
       "      <td>3.5</td>\n",
       "      <td>0.1</td>\n",
       "      <td>3.01</td>\n",
       "      <td>0.1</td>\n",
       "      <td>2.70</td>\n",
       "      <td>0.25</td>\n",
       "      <td>1.50</td>\n",
       "      <td>0.25</td>\n",
       "      <td>2.42</td>\n",
       "      <td>0.25</td>\n",
       "      <td>2.59</td>\n",
       "      <td>0.25</td>\n",
       "      <td>1.71</td>\n",
       "      <td>0.2</td>\n",
       "      <td>2.40</td>\n",
       "      <td>0.25</td>\n",
       "      <td>1.93</td>\n",
       "      <td>0.35</td>\n",
       "      <td>2.01</td>\n",
       "      <td>0.2</td>\n",
       "      <td>2.425</td>\n",
       "      <td>Fail</td>\n",
       "      <td>2.453</td>\n",
       "      <td>Fail</td>\n",
       "      <td>2.3025</td>\n",
       "      <td>Fail</td>\n",
       "      <td>2.0195</td>\n",
       "      <td>Fail</td>\n",
       "      <td>2.300000</td>\n",
       "      <td>Fail</td>\n",
       "      <td>1</td>\n",
       "      <td>4</td>\n",
       "      <td>3</td>\n",
       "      <td>2</td>\n",
       "      <td>2</td>\n",
       "      <td>3</td>\n",
       "      <td>3</td>\n",
       "      <td>3</td>\n",
       "      <td>2.625</td>\n",
       "    </tr>\n",
       "    <tr>\n",
       "      <td>71</td>\n",
       "      <td>Student072</td>\n",
       "      <td>0.0</td>\n",
       "      <td>0.15</td>\n",
       "      <td>0.0</td>\n",
       "      <td>0.25</td>\n",
       "      <td>4.5</td>\n",
       "      <td>0.25</td>\n",
       "      <td>3.6</td>\n",
       "      <td>0.35</td>\n",
       "      <td>2.25</td>\n",
       "      <td>0.1</td>\n",
       "      <td>2.80</td>\n",
       "      <td>0.3</td>\n",
       "      <td>2.70</td>\n",
       "      <td>0.4</td>\n",
       "      <td>3.1</td>\n",
       "      <td>0.1</td>\n",
       "      <td>3.65</td>\n",
       "      <td>0.1</td>\n",
       "      <td>3.00</td>\n",
       "      <td>0.25</td>\n",
       "      <td>2.50</td>\n",
       "      <td>0.25</td>\n",
       "      <td>3.15</td>\n",
       "      <td>0.25</td>\n",
       "      <td>2.85</td>\n",
       "      <td>0.25</td>\n",
       "      <td>2.55</td>\n",
       "      <td>0.2</td>\n",
       "      <td>2.60</td>\n",
       "      <td>0.25</td>\n",
       "      <td>1.43</td>\n",
       "      <td>0.35</td>\n",
       "      <td>3.15</td>\n",
       "      <td>0.2</td>\n",
       "      <td>2.385</td>\n",
       "      <td>Fail</td>\n",
       "      <td>2.820</td>\n",
       "      <td>Pass</td>\n",
       "      <td>2.8750</td>\n",
       "      <td>Pass</td>\n",
       "      <td>2.2905</td>\n",
       "      <td>Fail</td>\n",
       "      <td>2.592625</td>\n",
       "      <td>Fail</td>\n",
       "      <td>4</td>\n",
       "      <td>4</td>\n",
       "      <td>3</td>\n",
       "      <td>2</td>\n",
       "      <td>2</td>\n",
       "      <td>2</td>\n",
       "      <td>2</td>\n",
       "      <td>2</td>\n",
       "      <td>2.625</td>\n",
       "    </tr>\n",
       "    <tr>\n",
       "      <td>1</td>\n",
       "      <td>Student002</td>\n",
       "      <td>0.0</td>\n",
       "      <td>0.15</td>\n",
       "      <td>0.0</td>\n",
       "      <td>0.25</td>\n",
       "      <td>0.0</td>\n",
       "      <td>0.25</td>\n",
       "      <td>0.0</td>\n",
       "      <td>0.35</td>\n",
       "      <td>3.00</td>\n",
       "      <td>0.1</td>\n",
       "      <td>0.00</td>\n",
       "      <td>0.3</td>\n",
       "      <td>3.57</td>\n",
       "      <td>0.4</td>\n",
       "      <td>1.9</td>\n",
       "      <td>0.1</td>\n",
       "      <td>3.95</td>\n",
       "      <td>0.1</td>\n",
       "      <td>3.20</td>\n",
       "      <td>0.25</td>\n",
       "      <td>4.45</td>\n",
       "      <td>0.25</td>\n",
       "      <td>4.85</td>\n",
       "      <td>0.25</td>\n",
       "      <td>3.85</td>\n",
       "      <td>0.25</td>\n",
       "      <td>2.70</td>\n",
       "      <td>0.2</td>\n",
       "      <td>3.90</td>\n",
       "      <td>0.25</td>\n",
       "      <td>4.30</td>\n",
       "      <td>0.35</td>\n",
       "      <td>4.15</td>\n",
       "      <td>0.2</td>\n",
       "      <td>0.000</td>\n",
       "      <td>Fail</td>\n",
       "      <td>2.313</td>\n",
       "      <td>Fail</td>\n",
       "      <td>4.0875</td>\n",
       "      <td>Pass</td>\n",
       "      <td>3.8500</td>\n",
       "      <td>Pass</td>\n",
       "      <td>2.562625</td>\n",
       "      <td>Fail</td>\n",
       "      <td>4</td>\n",
       "      <td>4</td>\n",
       "      <td>2</td>\n",
       "      <td>4</td>\n",
       "      <td>2</td>\n",
       "      <td>1</td>\n",
       "      <td>2</td>\n",
       "      <td>1</td>\n",
       "      <td>2.500</td>\n",
       "    </tr>\n",
       "    <tr>\n",
       "      <td>...</td>\n",
       "      <td>...</td>\n",
       "      <td>...</td>\n",
       "      <td>...</td>\n",
       "      <td>...</td>\n",
       "      <td>...</td>\n",
       "      <td>...</td>\n",
       "      <td>...</td>\n",
       "      <td>...</td>\n",
       "      <td>...</td>\n",
       "      <td>...</td>\n",
       "      <td>...</td>\n",
       "      <td>...</td>\n",
       "      <td>...</td>\n",
       "      <td>...</td>\n",
       "      <td>...</td>\n",
       "      <td>...</td>\n",
       "      <td>...</td>\n",
       "      <td>...</td>\n",
       "      <td>...</td>\n",
       "      <td>...</td>\n",
       "      <td>...</td>\n",
       "      <td>...</td>\n",
       "      <td>...</td>\n",
       "      <td>...</td>\n",
       "      <td>...</td>\n",
       "      <td>...</td>\n",
       "      <td>...</td>\n",
       "      <td>...</td>\n",
       "      <td>...</td>\n",
       "      <td>...</td>\n",
       "      <td>...</td>\n",
       "      <td>...</td>\n",
       "      <td>...</td>\n",
       "      <td>...</td>\n",
       "      <td>...</td>\n",
       "      <td>...</td>\n",
       "      <td>...</td>\n",
       "      <td>...</td>\n",
       "      <td>...</td>\n",
       "      <td>...</td>\n",
       "      <td>...</td>\n",
       "      <td>...</td>\n",
       "      <td>...</td>\n",
       "      <td>...</td>\n",
       "      <td>...</td>\n",
       "      <td>...</td>\n",
       "      <td>...</td>\n",
       "      <td>...</td>\n",
       "      <td>...</td>\n",
       "      <td>...</td>\n",
       "      <td>...</td>\n",
       "      <td>...</td>\n",
       "      <td>...</td>\n",
       "      <td>...</td>\n",
       "    </tr>\n",
       "    <tr>\n",
       "      <td>70</td>\n",
       "      <td>Student071</td>\n",
       "      <td>3.4</td>\n",
       "      <td>0.15</td>\n",
       "      <td>3.0</td>\n",
       "      <td>0.25</td>\n",
       "      <td>3.2</td>\n",
       "      <td>0.25</td>\n",
       "      <td>3.8</td>\n",
       "      <td>0.35</td>\n",
       "      <td>3.50</td>\n",
       "      <td>0.1</td>\n",
       "      <td>4.50</td>\n",
       "      <td>0.3</td>\n",
       "      <td>3.25</td>\n",
       "      <td>0.4</td>\n",
       "      <td>3.7</td>\n",
       "      <td>0.1</td>\n",
       "      <td>4.10</td>\n",
       "      <td>0.1</td>\n",
       "      <td>4.20</td>\n",
       "      <td>0.25</td>\n",
       "      <td>3.85</td>\n",
       "      <td>0.25</td>\n",
       "      <td>3.55</td>\n",
       "      <td>0.25</td>\n",
       "      <td>3.30</td>\n",
       "      <td>0.25</td>\n",
       "      <td>3.00</td>\n",
       "      <td>0.2</td>\n",
       "      <td>3.40</td>\n",
       "      <td>0.25</td>\n",
       "      <td>3.20</td>\n",
       "      <td>0.35</td>\n",
       "      <td>3.85</td>\n",
       "      <td>0.2</td>\n",
       "      <td>3.390</td>\n",
       "      <td>Pass</td>\n",
       "      <td>3.780</td>\n",
       "      <td>Pass</td>\n",
       "      <td>3.7250</td>\n",
       "      <td>Pass</td>\n",
       "      <td>3.3400</td>\n",
       "      <td>Pass</td>\n",
       "      <td>3.558750</td>\n",
       "      <td>Pass</td>\n",
       "      <td>1</td>\n",
       "      <td>2</td>\n",
       "      <td>1</td>\n",
       "      <td>1</td>\n",
       "      <td>1</td>\n",
       "      <td>1</td>\n",
       "      <td>2</td>\n",
       "      <td>1</td>\n",
       "      <td>1.250</td>\n",
       "    </tr>\n",
       "    <tr>\n",
       "      <td>69</td>\n",
       "      <td>Student070</td>\n",
       "      <td>3.6</td>\n",
       "      <td>0.15</td>\n",
       "      <td>3.4</td>\n",
       "      <td>0.25</td>\n",
       "      <td>3.7</td>\n",
       "      <td>0.25</td>\n",
       "      <td>3.9</td>\n",
       "      <td>0.35</td>\n",
       "      <td>2.80</td>\n",
       "      <td>0.1</td>\n",
       "      <td>3.90</td>\n",
       "      <td>0.3</td>\n",
       "      <td>2.70</td>\n",
       "      <td>0.4</td>\n",
       "      <td>3.9</td>\n",
       "      <td>0.1</td>\n",
       "      <td>4.18</td>\n",
       "      <td>0.1</td>\n",
       "      <td>3.60</td>\n",
       "      <td>0.25</td>\n",
       "      <td>4.35</td>\n",
       "      <td>0.25</td>\n",
       "      <td>3.90</td>\n",
       "      <td>0.25</td>\n",
       "      <td>2.75</td>\n",
       "      <td>0.25</td>\n",
       "      <td>3.20</td>\n",
       "      <td>0.2</td>\n",
       "      <td>3.50</td>\n",
       "      <td>0.25</td>\n",
       "      <td>2.85</td>\n",
       "      <td>0.35</td>\n",
       "      <td>3.42</td>\n",
       "      <td>0.2</td>\n",
       "      <td>3.680</td>\n",
       "      <td>Pass</td>\n",
       "      <td>3.338</td>\n",
       "      <td>Pass</td>\n",
       "      <td>3.6500</td>\n",
       "      <td>Pass</td>\n",
       "      <td>3.1965</td>\n",
       "      <td>Pass</td>\n",
       "      <td>3.466125</td>\n",
       "      <td>Pass</td>\n",
       "      <td>1</td>\n",
       "      <td>1</td>\n",
       "      <td>2</td>\n",
       "      <td>1</td>\n",
       "      <td>1</td>\n",
       "      <td>1</td>\n",
       "      <td>2</td>\n",
       "      <td>1</td>\n",
       "      <td>1.250</td>\n",
       "    </tr>\n",
       "    <tr>\n",
       "      <td>57</td>\n",
       "      <td>Student058</td>\n",
       "      <td>4.1</td>\n",
       "      <td>0.15</td>\n",
       "      <td>3.7</td>\n",
       "      <td>0.25</td>\n",
       "      <td>3.6</td>\n",
       "      <td>0.25</td>\n",
       "      <td>3.8</td>\n",
       "      <td>0.35</td>\n",
       "      <td>3.90</td>\n",
       "      <td>0.1</td>\n",
       "      <td>4.30</td>\n",
       "      <td>0.3</td>\n",
       "      <td>3.00</td>\n",
       "      <td>0.4</td>\n",
       "      <td>3.8</td>\n",
       "      <td>0.1</td>\n",
       "      <td>2.80</td>\n",
       "      <td>0.1</td>\n",
       "      <td>2.60</td>\n",
       "      <td>0.25</td>\n",
       "      <td>4.35</td>\n",
       "      <td>0.25</td>\n",
       "      <td>2.30</td>\n",
       "      <td>0.25</td>\n",
       "      <td>3.75</td>\n",
       "      <td>0.25</td>\n",
       "      <td>3.20</td>\n",
       "      <td>0.2</td>\n",
       "      <td>4.10</td>\n",
       "      <td>0.25</td>\n",
       "      <td>3.55</td>\n",
       "      <td>0.35</td>\n",
       "      <td>4.30</td>\n",
       "      <td>0.2</td>\n",
       "      <td>3.770</td>\n",
       "      <td>Pass</td>\n",
       "      <td>3.540</td>\n",
       "      <td>Pass</td>\n",
       "      <td>3.2500</td>\n",
       "      <td>Pass</td>\n",
       "      <td>3.7675</td>\n",
       "      <td>Pass</td>\n",
       "      <td>3.581875</td>\n",
       "      <td>Pass</td>\n",
       "      <td>1</td>\n",
       "      <td>1</td>\n",
       "      <td>1</td>\n",
       "      <td>1</td>\n",
       "      <td>2</td>\n",
       "      <td>1</td>\n",
       "      <td>2</td>\n",
       "      <td>1</td>\n",
       "      <td>1.250</td>\n",
       "    </tr>\n",
       "    <tr>\n",
       "      <td>9</td>\n",
       "      <td>Student010</td>\n",
       "      <td>3.8</td>\n",
       "      <td>0.15</td>\n",
       "      <td>4.4</td>\n",
       "      <td>0.25</td>\n",
       "      <td>4.0</td>\n",
       "      <td>0.25</td>\n",
       "      <td>3.6</td>\n",
       "      <td>0.35</td>\n",
       "      <td>3.80</td>\n",
       "      <td>0.1</td>\n",
       "      <td>4.20</td>\n",
       "      <td>0.3</td>\n",
       "      <td>3.50</td>\n",
       "      <td>0.4</td>\n",
       "      <td>2.9</td>\n",
       "      <td>0.1</td>\n",
       "      <td>2.05</td>\n",
       "      <td>0.1</td>\n",
       "      <td>3.20</td>\n",
       "      <td>0.25</td>\n",
       "      <td>4.45</td>\n",
       "      <td>0.25</td>\n",
       "      <td>2.80</td>\n",
       "      <td>0.25</td>\n",
       "      <td>4.10</td>\n",
       "      <td>0.25</td>\n",
       "      <td>3.33</td>\n",
       "      <td>0.2</td>\n",
       "      <td>4.40</td>\n",
       "      <td>0.25</td>\n",
       "      <td>4.10</td>\n",
       "      <td>0.35</td>\n",
       "      <td>4.15</td>\n",
       "      <td>0.2</td>\n",
       "      <td>3.930</td>\n",
       "      <td>Pass</td>\n",
       "      <td>3.535</td>\n",
       "      <td>Pass</td>\n",
       "      <td>3.6375</td>\n",
       "      <td>Pass</td>\n",
       "      <td>4.0310</td>\n",
       "      <td>Pass</td>\n",
       "      <td>3.783375</td>\n",
       "      <td>Pass</td>\n",
       "      <td>1</td>\n",
       "      <td>1</td>\n",
       "      <td>1</td>\n",
       "      <td>1</td>\n",
       "      <td>2</td>\n",
       "      <td>1</td>\n",
       "      <td>1</td>\n",
       "      <td>1</td>\n",
       "      <td>1.125</td>\n",
       "    </tr>\n",
       "    <tr>\n",
       "      <td>84</td>\n",
       "      <td>Student085</td>\n",
       "      <td>3.9</td>\n",
       "      <td>0.15</td>\n",
       "      <td>3.9</td>\n",
       "      <td>0.25</td>\n",
       "      <td>3.4</td>\n",
       "      <td>0.25</td>\n",
       "      <td>4.0</td>\n",
       "      <td>0.35</td>\n",
       "      <td>3.00</td>\n",
       "      <td>0.1</td>\n",
       "      <td>4.00</td>\n",
       "      <td>0.3</td>\n",
       "      <td>3.65</td>\n",
       "      <td>0.4</td>\n",
       "      <td>4.6</td>\n",
       "      <td>0.1</td>\n",
       "      <td>3.65</td>\n",
       "      <td>0.1</td>\n",
       "      <td>3.80</td>\n",
       "      <td>0.25</td>\n",
       "      <td>3.35</td>\n",
       "      <td>0.25</td>\n",
       "      <td>3.80</td>\n",
       "      <td>0.25</td>\n",
       "      <td>4.05</td>\n",
       "      <td>0.25</td>\n",
       "      <td>3.50</td>\n",
       "      <td>0.2</td>\n",
       "      <td>3.80</td>\n",
       "      <td>0.25</td>\n",
       "      <td>4.10</td>\n",
       "      <td>0.35</td>\n",
       "      <td>3.85</td>\n",
       "      <td>0.2</td>\n",
       "      <td>3.810</td>\n",
       "      <td>Pass</td>\n",
       "      <td>3.785</td>\n",
       "      <td>Pass</td>\n",
       "      <td>3.7500</td>\n",
       "      <td>Pass</td>\n",
       "      <td>3.8550</td>\n",
       "      <td>Pass</td>\n",
       "      <td>3.800000</td>\n",
       "      <td>Pass</td>\n",
       "      <td>1</td>\n",
       "      <td>1</td>\n",
       "      <td>2</td>\n",
       "      <td>1</td>\n",
       "      <td>1</td>\n",
       "      <td>1</td>\n",
       "      <td>1</td>\n",
       "      <td>1</td>\n",
       "      <td>1.125</td>\n",
       "    </tr>\n",
       "  </tbody>\n",
       "</table>\n",
       "<p>101 rows × 54 columns</p>\n",
       "</div>"
      ],
      "text/plain": [
       "     StudentID  CI 1  Unnamed: 2  CI 2  Unnamed: 4  CI 3  Unnamed: 6  CI 4  \\\n",
       "60  Student061   0.0        0.15   0.0        0.25   0.0        0.25   0.0   \n",
       "85  Student086   1.7        0.15   2.4        0.25   2.9        0.25   3.2   \n",
       "99  Student100   3.6        0.15   0.0        0.25   3.2        0.25   3.1   \n",
       "71  Student072   0.0        0.15   0.0        0.25   4.5        0.25   3.6   \n",
       "1   Student002   0.0        0.15   0.0        0.25   0.0        0.25   0.0   \n",
       "..         ...   ...         ...   ...         ...   ...         ...   ...   \n",
       "70  Student071   3.4        0.15   3.0        0.25   3.2        0.25   3.8   \n",
       "69  Student070   3.6        0.15   3.4        0.25   3.7        0.25   3.9   \n",
       "57  Student058   4.1        0.15   3.7        0.25   3.6        0.25   3.8   \n",
       "9   Student010   3.8        0.15   4.4        0.25   4.0        0.25   3.6   \n",
       "84  Student085   3.9        0.15   3.9        0.25   3.4        0.25   4.0   \n",
       "\n",
       "    Unnamed: 8  DD 1  Unnamed: 10  DD 2  Unnamed: 12  DD 3  Unnamed: 14  \\\n",
       "60        0.35  3.00          0.1  0.00          0.3  3.80          0.4   \n",
       "85        0.35  2.50          0.1  2.35          0.3  2.65          0.4   \n",
       "99        0.35  2.00          0.1  3.10          0.3  1.68          0.4   \n",
       "71        0.35  2.25          0.1  2.80          0.3  2.70          0.4   \n",
       "1         0.35  3.00          0.1  0.00          0.3  3.57          0.4   \n",
       "..         ...   ...          ...   ...          ...   ...          ...   \n",
       "70        0.35  3.50          0.1  4.50          0.3  3.25          0.4   \n",
       "69        0.35  2.80          0.1  3.90          0.3  2.70          0.4   \n",
       "57        0.35  3.90          0.1  4.30          0.3  3.00          0.4   \n",
       "9         0.35  3.80          0.1  4.20          0.3  3.50          0.4   \n",
       "84        0.35  3.00          0.1  4.00          0.3  3.65          0.4   \n",
       "\n",
       "    DD 4A  Unnamed: 16  DD 4B  Unnamed: 18  EL 1  Unnamed: 20  EL 2  \\\n",
       "60    0.0          0.1   4.25          0.1  3.20         0.25  2.30   \n",
       "85    2.9          0.1   4.05          0.1  2.66         0.25  1.87   \n",
       "99    3.5          0.1   3.01          0.1  2.70         0.25  1.50   \n",
       "71    3.1          0.1   3.65          0.1  3.00         0.25  2.50   \n",
       "1     1.9          0.1   3.95          0.1  3.20         0.25  4.45   \n",
       "..    ...          ...    ...          ...   ...          ...   ...   \n",
       "70    3.7          0.1   4.10          0.1  4.20         0.25  3.85   \n",
       "69    3.9          0.1   4.18          0.1  3.60         0.25  4.35   \n",
       "57    3.8          0.1   2.80          0.1  2.60         0.25  4.35   \n",
       "9     2.9          0.1   2.05          0.1  3.20         0.25  4.45   \n",
       "84    4.6          0.1   3.65          0.1  3.80         0.25  3.35   \n",
       "\n",
       "    Unnamed: 22  EL 3  Unnamed: 24  EL 4  Unnamed: 26  PR 1  Unnamed: 28  \\\n",
       "60         0.25  3.55         0.25  3.75         0.25  2.72          0.2   \n",
       "85         0.25  3.15         0.25  2.85         0.25  1.56          0.2   \n",
       "99         0.25  2.42         0.25  2.59         0.25  1.71          0.2   \n",
       "71         0.25  3.15         0.25  2.85         0.25  2.55          0.2   \n",
       "1          0.25  4.85         0.25  3.85         0.25  2.70          0.2   \n",
       "..          ...   ...          ...   ...          ...   ...          ...   \n",
       "70         0.25  3.55         0.25  3.30         0.25  3.00          0.2   \n",
       "69         0.25  3.90         0.25  2.75         0.25  3.20          0.2   \n",
       "57         0.25  2.30         0.25  3.75         0.25  3.20          0.2   \n",
       "9          0.25  2.80         0.25  4.10         0.25  3.33          0.2   \n",
       "84         0.25  3.80         0.25  4.05         0.25  3.50          0.2   \n",
       "\n",
       "    PR 2  Unnamed: 30   PR3  Unnamed: 32   PR4  Unnamed: 34  CI average   RCI  \\\n",
       "60  2.17         0.25  3.50         0.35  4.15          0.2       0.000  Fail   \n",
       "85  2.24         0.25  2.85         0.35  4.30          0.2       2.700  Pass   \n",
       "99  2.40         0.25  1.93         0.35  2.01          0.2       2.425  Fail   \n",
       "71  2.60         0.25  1.43         0.35  3.15          0.2       2.385  Fail   \n",
       "1   3.90         0.25  4.30         0.35  4.15          0.2       0.000  Fail   \n",
       "..   ...          ...   ...          ...   ...          ...         ...   ...   \n",
       "70  3.40         0.25  3.20         0.35  3.85          0.2       3.390  Pass   \n",
       "69  3.50         0.25  2.85         0.35  3.42          0.2       3.680  Pass   \n",
       "57  4.10         0.25  3.55         0.35  4.30          0.2       3.770  Pass   \n",
       "9   4.40         0.25  4.10         0.35  4.15          0.2       3.930  Pass   \n",
       "84  3.80         0.25  4.10         0.35  3.85          0.2       3.810  Pass   \n",
       "\n",
       "    DD average   RDD  EL Average   REL  PR Average   RPR  Overall LC average  \\\n",
       "60       2.245  Fail      3.2000  Pass      3.1415  Pass            2.146625   \n",
       "85       2.710  Pass      2.6325  Pass      2.7295  Pass            2.693000   \n",
       "99       2.453  Fail      2.3025  Fail      2.0195  Fail            2.300000   \n",
       "71       2.820  Pass      2.8750  Pass      2.2905  Fail            2.592625   \n",
       "1        2.313  Fail      4.0875  Pass      3.8500  Pass            2.562625   \n",
       "..         ...   ...         ...   ...         ...   ...                 ...   \n",
       "70       3.780  Pass      3.7250  Pass      3.3400  Pass            3.558750   \n",
       "69       3.338  Pass      3.6500  Pass      3.1965  Pass            3.466125   \n",
       "57       3.540  Pass      3.2500  Pass      3.7675  Pass            3.581875   \n",
       "9        3.535  Pass      3.6375  Pass      4.0310  Pass            3.783375   \n",
       "84       3.785  Pass      3.7500  Pass      3.8550  Pass            3.800000   \n",
       "\n",
       "   Failing  CI_1_risk  CI_2_risk  DD_1_risk  DD_2_risk  EL_1_risk  EL_2_risk  \\\n",
       "60    Fail          4          4          2          4          2          3   \n",
       "85    Fail          3          3          2          3          2          3   \n",
       "99    Fail          1          4          3          2          2          3   \n",
       "71    Fail          4          4          3          2          2          2   \n",
       "1     Fail          4          4          2          4          2          1   \n",
       "..     ...        ...        ...        ...        ...        ...        ...   \n",
       "70    Pass          1          2          1          1          1          1   \n",
       "69    Pass          1          1          2          1          1          1   \n",
       "57    Pass          1          1          1          1          2          1   \n",
       "9     Pass          1          1          1          1          2          1   \n",
       "84    Pass          1          1          2          1          1          1   \n",
       "\n",
       "    PR_1_risk  PR_2_risk  score_risk  \n",
       "60          2          3       3.000  \n",
       "85          3          3       2.750  \n",
       "99          3          3       2.625  \n",
       "71          2          2       2.625  \n",
       "1           2          1       2.500  \n",
       "..        ...        ...         ...  \n",
       "70          2          1       1.250  \n",
       "69          2          1       1.250  \n",
       "57          2          1       1.250  \n",
       "9           1          1       1.125  \n",
       "84          1          1       1.125  \n",
       "\n",
       "[101 rows x 54 columns]"
      ]
     },
     "execution_count": 40,
     "metadata": {},
     "output_type": "execute_result"
    }
   ],
   "source": [
    "table_complete_J"
   ]
  },
  {
   "cell_type": "code",
   "execution_count": null,
   "metadata": {},
   "outputs": [],
   "source": []
  },
  {
   "cell_type": "code",
   "execution_count": null,
   "metadata": {},
   "outputs": [],
   "source": []
  },
  {
   "cell_type": "code",
   "execution_count": null,
   "metadata": {},
   "outputs": [],
   "source": []
  },
  {
   "cell_type": "code",
   "execution_count": null,
   "metadata": {},
   "outputs": [],
   "source": []
  },
  {
   "cell_type": "code",
   "execution_count": null,
   "metadata": {},
   "outputs": [],
   "source": []
  },
  {
   "cell_type": "code",
   "execution_count": null,
   "metadata": {},
   "outputs": [],
   "source": []
  },
  {
   "cell_type": "markdown",
   "metadata": {},
   "source": []
  }
 ],
 "metadata": {
  "kernelspec": {
   "display_name": "Python 3",
   "language": "python",
   "name": "python3"
  },
  "language_info": {
   "codemirror_mode": {
    "name": "ipython",
    "version": 3
   },
   "file_extension": ".py",
   "mimetype": "text/x-python",
   "name": "python",
   "nbconvert_exporter": "python",
   "pygments_lexer": "ipython3",
   "version": "3.7.7"
  }
 },
 "nbformat": 4,
 "nbformat_minor": 2
}
